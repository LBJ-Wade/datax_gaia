{
 "cells": [
  {
   "cell_type": "code",
   "execution_count": null,
   "metadata": {},
   "outputs": [],
   "source": [
    "#First trial of ML to find radial velocities. Goal is to use regression to extrapolate the velocities. "
   ]
  },
  {
   "cell_type": "code",
   "execution_count": 1,
   "metadata": {},
   "outputs": [],
   "source": [
    "import pandas as pd\n",
    "import numpy as np"
   ]
  },
  {
   "cell_type": "code",
   "execution_count": 2,
   "metadata": {},
   "outputs": [],
   "source": [
    "%matplotlib inline\n",
    "\n",
    "import matplotlib\n",
    "import matplotlib.pyplot as plt"
   ]
  },
  {
   "cell_type": "code",
   "execution_count": 3,
   "metadata": {},
   "outputs": [],
   "source": [
    "# These are just my choices to make the plots look nice\n",
    "plt.rcParams.update({'font.family':'cmr10','font.size': 13})\n",
    "matplotlib.rcParams['axes.unicode_minus']=False\n",
    "matplotlib.rcParams['axes.labelsize']=15\n",
    "plt.rcParams['figure.figsize']=(4,4)\n",
    "plt.rcParams['figure.dpi'] = 80\n",
    "plt.rcParams['mathtext.fontset'] = 'cm'\n",
    "plt.rcParams['mathtext.rm'] = 'serif'\n",
    "plt.rcParams['xtick.direction'] = 'in'\n",
    "plt.rcParams['ytick.direction'] = 'in'\n",
    "plt.rcParams['xtick.top'] = True\n",
    "plt.rcParams['ytick.right'] = True"
   ]
  },
  {
   "cell_type": "code",
   "execution_count": 4,
   "metadata": {},
   "outputs": [],
   "source": [
    "SimulatedStars = pd.read_csv('rave_tgas_cleaned_data.csv',index_col=None)"
   ]
  },
  {
   "cell_type": "code",
   "execution_count": 5,
   "metadata": {},
   "outputs": [
    {
     "data": {
      "text/html": [
       "<div>\n",
       "<style scoped>\n",
       "    .dataframe tbody tr th:only-of-type {\n",
       "        vertical-align: middle;\n",
       "    }\n",
       "\n",
       "    .dataframe tbody tr th {\n",
       "        vertical-align: top;\n",
       "    }\n",
       "\n",
       "    .dataframe thead th {\n",
       "        text-align: right;\n",
       "    }\n",
       "</style>\n",
       "<table border=\"1\" class=\"dataframe\">\n",
       "  <thead>\n",
       "    <tr style=\"text-align: right;\">\n",
       "      <th></th>\n",
       "      <th>Unnamed: 0</th>\n",
       "      <th>ra</th>\n",
       "      <th>dec</th>\n",
       "      <th>b</th>\n",
       "      <th>l</th>\n",
       "      <th>logg</th>\n",
       "      <th>teff</th>\n",
       "      <th>gband</th>\n",
       "      <th>vr</th>\n",
       "      <th>vtheta</th>\n",
       "      <th>...</th>\n",
       "      <th>pmde_err</th>\n",
       "      <th>vU</th>\n",
       "      <th>vV</th>\n",
       "      <th>vW</th>\n",
       "      <th>vU_err</th>\n",
       "      <th>vV_err</th>\n",
       "      <th>vW_err</th>\n",
       "      <th>jband</th>\n",
       "      <th>kband</th>\n",
       "      <th>R_cyl</th>\n",
       "    </tr>\n",
       "  </thead>\n",
       "  <tbody>\n",
       "    <tr>\n",
       "      <th>0</th>\n",
       "      <td>0</td>\n",
       "      <td>160.760542</td>\n",
       "      <td>-13.241389</td>\n",
       "      <td>39.009388</td>\n",
       "      <td>261.198041</td>\n",
       "      <td>4.02</td>\n",
       "      <td>6047.5</td>\n",
       "      <td>11.154045</td>\n",
       "      <td>-22.767779</td>\n",
       "      <td>-8.553811</td>\n",
       "      <td>...</td>\n",
       "      <td>1.109520</td>\n",
       "      <td>2.989305</td>\n",
       "      <td>-26.186428</td>\n",
       "      <td>0.468133</td>\n",
       "      <td>7.397238</td>\n",
       "      <td>2.740294</td>\n",
       "      <td>3.563465</td>\n",
       "      <td>10.313</td>\n",
       "      <td>9.981</td>\n",
       "      <td>8.059333</td>\n",
       "    </tr>\n",
       "    <tr>\n",
       "      <th>1</th>\n",
       "      <td>1</td>\n",
       "      <td>160.258125</td>\n",
       "      <td>-13.640972</td>\n",
       "      <td>38.394644</td>\n",
       "      <td>261.014525</td>\n",
       "      <td>1.92</td>\n",
       "      <td>4777.9</td>\n",
       "      <td>10.940921</td>\n",
       "      <td>-90.714933</td>\n",
       "      <td>13.228575</td>\n",
       "      <td>...</td>\n",
       "      <td>1.039390</td>\n",
       "      <td>59.797612</td>\n",
       "      <td>-69.816238</td>\n",
       "      <td>-28.596837</td>\n",
       "      <td>21.613296</td>\n",
       "      <td>8.263897</td>\n",
       "      <td>9.739697</td>\n",
       "      <td>9.513</td>\n",
       "      <td>8.868</td>\n",
       "      <td>8.191753</td>\n",
       "    </tr>\n",
       "    <tr>\n",
       "      <th>2</th>\n",
       "      <td>2</td>\n",
       "      <td>159.117958</td>\n",
       "      <td>-13.938889</td>\n",
       "      <td>37.476591</td>\n",
       "      <td>260.143047</td>\n",
       "      <td>3.76</td>\n",
       "      <td>5684.4</td>\n",
       "      <td>9.964015</td>\n",
       "      <td>17.192325</td>\n",
       "      <td>-17.679071</td>\n",
       "      <td>...</td>\n",
       "      <td>0.630677</td>\n",
       "      <td>-32.337603</td>\n",
       "      <td>-30.413529</td>\n",
       "      <td>10.738150</td>\n",
       "      <td>2.762826</td>\n",
       "      <td>0.893481</td>\n",
       "      <td>1.207606</td>\n",
       "      <td>9.107</td>\n",
       "      <td>8.738</td>\n",
       "      <td>8.030682</td>\n",
       "    </tr>\n",
       "    <tr>\n",
       "      <th>3</th>\n",
       "      <td>3</td>\n",
       "      <td>159.159667</td>\n",
       "      <td>-13.473472</td>\n",
       "      <td>37.865498</td>\n",
       "      <td>259.816167</td>\n",
       "      <td>3.75</td>\n",
       "      <td>5896.4</td>\n",
       "      <td>9.740564</td>\n",
       "      <td>-19.469996</td>\n",
       "      <td>-8.870117</td>\n",
       "      <td>...</td>\n",
       "      <td>0.576193</td>\n",
       "      <td>4.840963</td>\n",
       "      <td>-15.400051</td>\n",
       "      <td>1.330989</td>\n",
       "      <td>1.266904</td>\n",
       "      <td>0.713310</td>\n",
       "      <td>0.745443</td>\n",
       "      <td>8.843</td>\n",
       "      <td>8.585</td>\n",
       "      <td>8.024455</td>\n",
       "    </tr>\n",
       "    <tr>\n",
       "      <th>4</th>\n",
       "      <td>4</td>\n",
       "      <td>160.152417</td>\n",
       "      <td>-11.347833</td>\n",
       "      <td>40.129253</td>\n",
       "      <td>259.072345</td>\n",
       "      <td>2.50</td>\n",
       "      <td>4867.2</td>\n",
       "      <td>10.547413</td>\n",
       "      <td>3.542314</td>\n",
       "      <td>-11.618539</td>\n",
       "      <td>...</td>\n",
       "      <td>0.690997</td>\n",
       "      <td>-31.966993</td>\n",
       "      <td>-30.385995</td>\n",
       "      <td>4.604890</td>\n",
       "      <td>10.842726</td>\n",
       "      <td>1.868670</td>\n",
       "      <td>4.019525</td>\n",
       "      <td>9.129</td>\n",
       "      <td>8.482</td>\n",
       "      <td>8.166834</td>\n",
       "    </tr>\n",
       "  </tbody>\n",
       "</table>\n",
       "<p>5 rows × 36 columns</p>\n",
       "</div>"
      ],
      "text/plain": [
       "   Unnamed: 0          ra        dec          b           l  logg    teff  \\\n",
       "0           0  160.760542 -13.241389  39.009388  261.198041  4.02  6047.5   \n",
       "1           1  160.258125 -13.640972  38.394644  261.014525  1.92  4777.9   \n",
       "2           2  159.117958 -13.938889  37.476591  260.143047  3.76  5684.4   \n",
       "3           3  159.159667 -13.473472  37.865498  259.816167  3.75  5896.4   \n",
       "4           4  160.152417 -11.347833  40.129253  259.072345  2.50  4867.2   \n",
       "\n",
       "       gband         vr     vtheta  ...  pmde_err         vU         vV  \\\n",
       "0  11.154045 -22.767779  -8.553811  ...  1.109520   2.989305 -26.186428   \n",
       "1  10.940921 -90.714933  13.228575  ...  1.039390  59.797612 -69.816238   \n",
       "2   9.964015  17.192325 -17.679071  ...  0.630677 -32.337603 -30.413529   \n",
       "3   9.740564 -19.469996  -8.870117  ...  0.576193   4.840963 -15.400051   \n",
       "4  10.547413   3.542314 -11.618539  ...  0.690997 -31.966993 -30.385995   \n",
       "\n",
       "          vW     vU_err    vV_err    vW_err   jband  kband     R_cyl  \n",
       "0   0.468133   7.397238  2.740294  3.563465  10.313  9.981  8.059333  \n",
       "1 -28.596837  21.613296  8.263897  9.739697   9.513  8.868  8.191753  \n",
       "2  10.738150   2.762826  0.893481  1.207606   9.107  8.738  8.030682  \n",
       "3   1.330989   1.266904  0.713310  0.745443   8.843  8.585  8.024455  \n",
       "4   4.604890  10.842726  1.868670  4.019525   9.129  8.482  8.166834  \n",
       "\n",
       "[5 rows x 36 columns]"
      ]
     },
     "execution_count": 5,
     "metadata": {},
     "output_type": "execute_result"
    }
   ],
   "source": [
    "SimulatedStars.head()"
   ]
  },
  {
   "cell_type": "code",
   "execution_count": 6,
   "metadata": {},
   "outputs": [
    {
     "data": {
      "text/plain": [
       "Index(['Unnamed: 0', 'ra', 'dec', 'b', 'l', 'logg', 'teff', 'gband', 'vr',\n",
       "       'vtheta', 'vphi', 'vr_err', 'vphi_err', 'vtheta_err', 'z', 'z_err',\n",
       "       'distance', 'distance_err', 'R', 'feH', 'ID', 'hrv', 'hrv_err', 'pmra',\n",
       "       'pmra_err', 'pmde', 'pmde_err', 'vU', 'vV', 'vW', 'vU_err', 'vV_err',\n",
       "       'vW_err', 'jband', 'kband', 'R_cyl'],\n",
       "      dtype='object')"
      ]
     },
     "execution_count": 6,
     "metadata": {},
     "output_type": "execute_result"
    }
   ],
   "source": [
    "SimulatedStars.columns"
   ]
  },
  {
   "cell_type": "code",
   "execution_count": 7,
   "metadata": {},
   "outputs": [
    {
     "data": {
      "text/plain": [
       "(164387, 36)"
      ]
     },
     "execution_count": 7,
     "metadata": {},
     "output_type": "execute_result"
    }
   ],
   "source": [
    "SimulatedStars.shape"
   ]
  },
  {
   "cell_type": "code",
   "execution_count": 8,
   "metadata": {},
   "outputs": [],
   "source": [
    "from sklearn.preprocessing import StandardScaler\n",
    "from sklearn.model_selection import train_test_split"
   ]
  },
  {
   "cell_type": "code",
   "execution_count": 9,
   "metadata": {},
   "outputs": [],
   "source": [
    "# What columns to use?\n",
    "use_cols = ['l', 'b','distance','pmra','pmde']\n",
    "# Make the design matrix\n",
    "X = SimulatedStars[use_cols].values\n",
    "Y = (SimulatedStars['vr']).values"
   ]
  },
  {
   "cell_type": "code",
   "execution_count": 10,
   "metadata": {},
   "outputs": [],
   "source": [
    "X_train, X_test, y_train, y_test = train_test_split(X, Y,\n",
    "                                                    test_size = 0.2,\n",
    "                                                    random_state=42)"
   ]
  },
  {
   "cell_type": "code",
   "execution_count": 11,
   "metadata": {},
   "outputs": [
    {
     "name": "stdout",
     "output_type": "stream",
     "text": [
      "(131509, 5)\n",
      "(131509,)\n",
      "There are 40356.09328778812 stars in the training set\n",
      "\n",
      "(32878, 5)\n",
      "(32878,)\n",
      "There are 6386.546530267198 stars in the test set\n"
     ]
    }
   ],
   "source": [
    "print(X_train.shape)\n",
    "print(y_train.shape)\n",
    "print('There are {0} stars in the training set'.format(np.sum(y_train)))\n",
    "print()\n",
    "print(X_test.shape)\n",
    "print(y_test.shape)\n",
    "print('There are {0} stars in the test set'.format(np.sum(y_test)))"
   ]
  },
  {
   "cell_type": "code",
   "execution_count": 12,
   "metadata": {},
   "outputs": [],
   "source": [
    "# Might need to add in a data preprocessing step here \n",
    "#Either reweighting the radial velocity or training set features have 0 mean and unit variance"
   ]
  },
  {
   "cell_type": "code",
   "execution_count": 13,
   "metadata": {},
   "outputs": [],
   "source": [
    "SS = StandardScaler()\n",
    "X_train = SS.fit_transform(X_train)"
   ]
  },
  {
   "cell_type": "code",
   "execution_count": 14,
   "metadata": {},
   "outputs": [],
   "source": [
    "# Now scale the test data using the same mean and standard deviation as found with the training data\n",
    "X_test = SS.transform(X_test)"
   ]
  },
  {
   "cell_type": "code",
   "execution_count": 15,
   "metadata": {},
   "outputs": [
    {
     "data": {
      "image/png": "[encoded data removed]",
      "text/plain": [
       "<Figure size 480x240 with 2 Axes>"
      ]
     },
     "metadata": {
      "needs_background": "light"
     },
     "output_type": "display_data"
    },
    {
     "data": {
      "image/png": "[encoded data removed]",
      "text/plain": [
       "<Figure size 480x240 with 2 Axes>"
      ]
     },
     "metadata": {
      "needs_background": "light"
     },
     "output_type": "display_data"
    },
    {
     "data": {
      "image/png": "[encoded data removed]",
      "text/plain": [
       "<Figure size 480x240 with 2 Axes>"
      ]
     },
     "metadata": {
      "needs_background": "light"
     },
     "output_type": "display_data"
    },
    {
     "data": {
      "image/png": "[encoded data removed]",
      "text/plain": [
       "<Figure size 480x240 with 2 Axes>"
      ]
     },
     "metadata": {
      "needs_background": "light"
     },
     "output_type": "display_data"
    },
    {
     "data": {
      "image/png": "[encoded data removed]",
      "text/plain": [
       "<Figure size 480x240 with 2 Axes>"
      ]
     },
     "metadata": {
      "needs_background": "light"
     },
     "output_type": "display_data"
    }
   ],
   "source": [
    "#visualize check data\n",
    "for i, col in enumerate(use_cols):\n",
    "    plt.figure(figsize=(6, 3))\n",
    "    plt.subplot(1,2,1)\n",
    "    plt.hist(SimulatedStars[col], bins=100)\n",
    "    plt.yscale('log')\n",
    "    plt.title('Data')\n",
    "    \n",
    "    plt.subplot(1,2,2)\n",
    "    plt.hist(X_train[:, i], bins=100, alpha=0.5)\n",
    "    plt.hist(X_test[:, i], bins=100, alpha=0.5)\n",
    "    plt.yscale('log')\n",
    "    plt.title('Scaled')\n",
    "    \n",
    "    plt.suptitle(col, y=1.01, fontsize=16)\n",
    "    \n",
    "    plt.tight_layout()"
   ]
  },
  {
   "cell_type": "code",
   "execution_count": 16,
   "metadata": {},
   "outputs": [],
   "source": [
    "#Building Classifier "
   ]
  },
  {
   "cell_type": "code",
   "execution_count": 17,
   "metadata": {},
   "outputs": [
    {
     "name": "stderr",
     "output_type": "stream",
     "text": [
      "Using TensorFlow backend.\n"
     ]
    }
   ],
   "source": [
    "from keras.models import Sequential\n",
    "from keras.layers import Dense\n",
    "from keras.callbacks import EarlyStopping, ModelCheckpoint\n",
    "from keras.optimizers import Adam"
   ]
  },
  {
   "cell_type": "code",
   "execution_count": 18,
   "metadata": {},
   "outputs": [],
   "source": [
    "from keras import backend as K"
   ]
  },
  {
   "cell_type": "code",
   "execution_count": 19,
   "metadata": {},
   "outputs": [],
   "source": [
    "def LikelihoodLossFunction(y_true, y_pred):\n",
    "    # shape of y_pred should be (nsamples, 2)\n",
    "    # the first column should be the mean of the prediction\n",
    "    # the second column is the confidence (number of standard deviations)\n",
    "#     print y_true.shape\n",
    "#     print y_pred.shape\n",
    "    SIGMA = K.abs(y_pred[:, 1])\n",
    "    LOC = y_pred[:, 0]\n",
    "    X = y_true[:, 0]\n",
    "    \n",
    "    ARG = K.square(X - LOC) / (2 * K.square(SIGMA))\n",
    "    PREFACT = K.log(K.pow(2 * np.pi * K.square(SIGMA), -0.5))\n",
    "    #you get this from the conditional probability distribution\n",
    "    return K.mean(ARG - PREFACT)\n",
    "    #return K.mean(ARG)\n",
    "#now i'm wondering if somewhere in here I should return SIGMA"
   ]
  },
  {
   "cell_type": "code",
   "execution_count": 20,
   "metadata": {},
   "outputs": [],
   "source": [
    "MyModel = Sequential()\n",
    "MyModel.add(Dense(units=100, activation='relu', input_dim=X_train.shape[1]))\n",
    "MyModel.add(Dense(units=100, activation='relu'))\n",
    "MyModel.add(Dense(units=100, activation='relu'))\n",
    "MyModel.add(Dense(units=2))\n",
    "#using tanh activation function in the last layer\n",
    "#MyModel.compile(loss='mean_squared_error',\n",
    "       #         optimizer='adam'\n",
    "       #       )\n",
    "MyModel.compile(loss=LikelihoodLossFunction,\n",
    "                optimizer='adam'\n",
    "               )"
   ]
  },
  {
   "cell_type": "code",
   "execution_count": 21,
   "metadata": {},
   "outputs": [
    {
     "name": "stdout",
     "output_type": "stream",
     "text": [
      "Model: \"sequential_1\"\n",
      "_________________________________________________________________\n",
      "Layer (type)                 Output Shape              Param #   \n",
      "=================================================================\n",
      "dense_1 (Dense)              (None, 100)               600       \n",
      "_________________________________________________________________\n",
      "dense_2 (Dense)              (None, 100)               10100     \n",
      "_________________________________________________________________\n",
      "dense_3 (Dense)              (None, 100)               10100     \n",
      "_________________________________________________________________\n",
      "dense_4 (Dense)              (None, 2)                 202       \n",
      "=================================================================\n",
      "Total params: 21,002\n",
      "Trainable params: 21,002\n",
      "Non-trainable params: 0\n",
      "_________________________________________________________________\n"
     ]
    }
   ],
   "source": [
    "MyModel.summary()"
   ]
  },
  {
   "cell_type": "code",
   "execution_count": 22,
   "metadata": {},
   "outputs": [],
   "source": [
    "#training any checkpoint or early stopping? \n",
    "es = EarlyStopping(patience=2, restore_best_weights=True)"
   ]
  },
  {
   "cell_type": "code",
   "execution_count": 23,
   "metadata": {},
   "outputs": [
    {
     "name": "stdout",
     "output_type": "stream",
     "text": [
      "131509\n"
     ]
    }
   ],
   "source": [
    "print(y_train.shape[0])"
   ]
  },
  {
   "cell_type": "code",
   "execution_count": 24,
   "metadata": {},
   "outputs": [
    {
     "name": "stdout",
     "output_type": "stream",
     "text": [
      "Train on 105207 samples, validate on 26302 samples\n",
      "Epoch 1/100\n",
      "105207/105207 [==============================] - 1s 9us/step - loss: 6544695.6603 - val_loss: 2270.7757\n",
      "Epoch 2/100\n",
      "105207/105207 [==============================] - 1s 6us/step - loss: 1311.2446 - val_loss: 771.3875\n",
      "Epoch 3/100\n",
      "105207/105207 [==============================] - 1s 6us/step - loss: 570.2947 - val_loss: 425.4421\n",
      "Epoch 4/100\n",
      "105207/105207 [==============================] - 1s 6us/step - loss: 350.1236 - val_loss: 288.6561\n",
      "Epoch 5/100\n",
      "105207/105207 [==============================] - 1s 6us/step - loss: 247.0595 - val_loss: 208.9413\n",
      "Epoch 6/100\n",
      "105207/105207 [==============================] - 1s 6us/step - loss: 180.9867 - val_loss: 156.5310\n",
      "Epoch 7/100\n",
      "105207/105207 [==============================] - 1s 6us/step - loss: 138.4000 - val_loss: 122.9003\n",
      "Epoch 8/100\n",
      "105207/105207 [==============================] - 1s 6us/step - loss: 110.8299 - val_loss: 100.5978\n",
      "Epoch 9/100\n",
      "105207/105207 [==============================] - 1s 6us/step - loss: 91.9441 - val_loss: 84.7854\n",
      "Epoch 10/100\n",
      "105207/105207 [==============================] - 1s 6us/step - loss: 78.3037 - val_loss: 73.0786\n",
      "Epoch 11/100\n",
      "105207/105207 [==============================] - 1s 6us/step - loss: 68.0105 - val_loss: 64.0455\n",
      "Epoch 12/100\n",
      "105207/105207 [==============================] - 1s 6us/step - loss: 59.9844 - val_loss: 56.8985\n",
      "Epoch 13/100\n",
      "105207/105207 [==============================] - 1s 6us/step - loss: 53.5462 - val_loss: 51.0894\n",
      "Epoch 14/100\n",
      "105207/105207 [==============================] - 1s 6us/step - loss: 48.2785 - val_loss: 46.2853\n",
      "Epoch 15/100\n",
      "105207/105207 [==============================] - 1s 6us/step - loss: 43.8862 - val_loss: 42.2446\n",
      "Epoch 16/100\n",
      "105207/105207 [==============================] - 1s 6us/step - loss: 40.1745 - val_loss: 38.8140\n",
      "Epoch 17/100\n",
      "105207/105207 [==============================] - 1s 6us/step - loss: 36.9953 - val_loss: 35.8377\n",
      "Epoch 18/100\n",
      "105207/105207 [==============================] - 1s 6us/step - loss: 34.2455 - val_loss: 33.2526\n",
      "Epoch 19/100\n",
      "105207/105207 [==============================] - 1s 6us/step - loss: 31.8395 - val_loss: 30.9876\n",
      "Epoch 20/100\n",
      "105207/105207 [==============================] - 1s 6us/step - loss: 29.7225 - val_loss: 28.9842\n",
      "Epoch 21/100\n",
      "105207/105207 [==============================] - 1s 6us/step - loss: 27.8415 - val_loss: 27.1983\n",
      "Epoch 22/100\n",
      "105207/105207 [==============================] - 1s 6us/step - loss: 26.1671 - val_loss: 25.6027\n",
      "Epoch 23/100\n",
      "105207/105207 [==============================] - 1s 6us/step - loss: 24.6646 - val_loss: 24.1641\n",
      "Epoch 24/100\n",
      "105207/105207 [==============================] - 1s 6us/step - loss: 23.3067 - val_loss: 22.8627\n",
      "Epoch 25/100\n",
      "105207/105207 [==============================] - 1s 6us/step - loss: 22.0774 - val_loss: 21.6866\n",
      "Epoch 26/100\n",
      "105207/105207 [==============================] - 1s 6us/step - loss: 20.9600 - val_loss: 20.6096\n",
      "Epoch 27/100\n",
      "105207/105207 [==============================] - 1s 6us/step - loss: 19.9387 - val_loss: 19.6262\n",
      "Epoch 28/100\n",
      "105207/105207 [==============================] - 1s 6us/step - loss: 19.0028 - val_loss: 18.7222\n",
      "Epoch 29/100\n",
      "105207/105207 [==============================] - 1s 6us/step - loss: 18.1436 - val_loss: 17.8926\n",
      "Epoch 30/100\n",
      "105207/105207 [==============================] - 1s 6us/step - loss: 17.3524 - val_loss: 17.1250\n",
      "Epoch 31/100\n",
      "105207/105207 [==============================] - 1s 6us/step - loss: 16.6192 - val_loss: 16.4135\n",
      "Epoch 32/100\n",
      "105207/105207 [==============================] - 1s 6us/step - loss: 15.9411 - val_loss: 15.7554\n",
      "Epoch 33/100\n",
      "105207/105207 [==============================] - 1s 6us/step - loss: 15.3113 - val_loss: 15.1435\n",
      "Epoch 34/100\n",
      "105207/105207 [==============================] - 1s 6us/step - loss: 14.7269 - val_loss: 14.5746\n",
      "Epoch 35/100\n",
      "105207/105207 [==============================] - 1s 6us/step - loss: 14.1820 - val_loss: 14.0435\n",
      "Epoch 36/100\n",
      "105207/105207 [==============================] - 1s 6us/step - loss: 13.6735 - val_loss: 13.5507\n",
      "Epoch 37/100\n",
      "105207/105207 [==============================] - 1s 6us/step - loss: 13.1992 - val_loss: 13.0868\n",
      "Epoch 38/100\n",
      "105207/105207 [==============================] - 1s 6us/step - loss: 12.7547 - val_loss: 12.6524\n",
      "Epoch 39/100\n",
      "105207/105207 [==============================] - 1s 6us/step - loss: 12.3384 - val_loss: 12.2466\n",
      "Epoch 40/100\n",
      "105207/105207 [==============================] - 1s 6us/step - loss: 11.9479 - val_loss: 11.8643\n",
      "Epoch 41/100\n",
      "105207/105207 [==============================] - 1s 6us/step - loss: 11.5818 - val_loss: 11.5057\n",
      "Epoch 42/100\n",
      "105207/105207 [==============================] - 1s 6us/step - loss: 11.2382 - val_loss: 11.1691\n",
      "Epoch 43/100\n",
      "105207/105207 [==============================] - 1s 6us/step - loss: 10.9142 - val_loss: 10.8517\n",
      "Epoch 44/100\n",
      "105207/105207 [==============================] - 1s 6us/step - loss: 10.6095 - val_loss: 10.5532\n",
      "Epoch 45/100\n",
      "105207/105207 [==============================] - 1s 6us/step - loss: 10.3220 - val_loss: 10.2702\n",
      "Epoch 46/100\n",
      "105207/105207 [==============================] - 1s 6us/step - loss: 10.0510 - val_loss: 10.0037\n",
      "Epoch 47/100\n",
      "105207/105207 [==============================] - 1s 6us/step - loss: 9.7951 - val_loss: 9.7526\n",
      "Epoch 48/100\n",
      "105207/105207 [==============================] - 1s 6us/step - loss: 9.5533 - val_loss: 9.5151\n",
      "Epoch 49/100\n",
      "105207/105207 [==============================] - 1s 6us/step - loss: 9.3250 - val_loss: 9.2891\n",
      "Epoch 50/100\n",
      "105207/105207 [==============================] - 1s 6us/step - loss: 9.1083 - val_loss: 9.0769\n",
      "Epoch 51/100\n",
      "105207/105207 [==============================] - 1s 6us/step - loss: 8.9038 - val_loss: 8.8751\n",
      "Epoch 52/100\n",
      "105207/105207 [==============================] - 1s 6us/step - loss: 8.7108 - val_loss: 8.6844\n",
      "Epoch 53/100\n",
      "105207/105207 [==============================] - 1s 6us/step - loss: 8.5279 - val_loss: 8.5044\n",
      "Epoch 54/100\n",
      "105207/105207 [==============================] - 1s 6us/step - loss: 8.3548 - val_loss: 8.3331\n",
      "Epoch 55/100\n",
      "105207/105207 [==============================] - 1s 6us/step - loss: 8.1906 - val_loss: 8.1708\n",
      "Epoch 56/100\n",
      "105207/105207 [==============================] - 1s 6us/step - loss: 8.0348 - val_loss: 8.0165\n",
      "Epoch 57/100\n",
      "105207/105207 [==============================] - 1s 6us/step - loss: 7.8843 - val_loss: 7.8623\n",
      "Epoch 58/100\n",
      "105207/105207 [==============================] - 1s 6us/step - loss: 7.7340 - val_loss: 7.7122\n",
      "Epoch 59/100\n",
      "105207/105207 [==============================] - 1s 6us/step - loss: 7.5913 - val_loss: 7.5714\n",
      "Epoch 60/100\n",
      "105207/105207 [==============================] - 1s 6us/step - loss: 7.4581 - val_loss: 7.4402\n",
      "Epoch 61/100\n",
      "105207/105207 [==============================] - 1s 6us/step - loss: 7.3329 - val_loss: 7.3168\n",
      "Epoch 62/100\n",
      "105207/105207 [==============================] - 1s 6us/step - loss: 7.2152 - val_loss: 7.2005\n",
      "Epoch 63/100\n",
      "105207/105207 [==============================] - 1s 6us/step - loss: 7.1040 - val_loss: 7.0902\n",
      "Epoch 64/100\n",
      "105207/105207 [==============================] - 1s 6us/step - loss: 6.9993 - val_loss: 6.9867\n",
      "Epoch 65/100\n",
      "105207/105207 [==============================] - 1s 6us/step - loss: 6.8971 - val_loss: 6.8289\n",
      "Epoch 66/100\n",
      "105207/105207 [==============================] - 1s 6us/step - loss: 6.3235 - val_loss: 5.9252\n",
      "Epoch 67/100\n",
      "105207/105207 [==============================] - 1s 6us/step - loss: 5.7116 - val_loss: 5.5780\n",
      "Epoch 68/100\n",
      "105207/105207 [==============================] - 1s 6us/step - loss: 5.4916 - val_loss: 5.4388\n",
      "Epoch 69/100\n",
      "105207/105207 [==============================] - 1s 6us/step - loss: 5.3945 - val_loss: 5.3705\n",
      "Epoch 70/100\n",
      "105207/105207 [==============================] - 1s 6us/step - loss: 5.3440 - val_loss: 5.3318\n",
      "Epoch 71/100\n",
      "105207/105207 [==============================] - 1s 6us/step - loss: 5.3147 - val_loss: 5.3084\n",
      "Epoch 72/100\n",
      "105207/105207 [==============================] - 1s 6us/step - loss: 5.2964 - val_loss: 5.2933\n",
      "Epoch 73/100\n",
      "105207/105207 [==============================] - 1s 6us/step - loss: 5.2841 - val_loss: 5.2825\n",
      "Epoch 74/100\n",
      "105207/105207 [==============================] - 1s 6us/step - loss: 5.2753 - val_loss: 5.2747\n",
      "Epoch 75/100\n",
      "105207/105207 [==============================] - 1s 6us/step - loss: 5.2686 - val_loss: 5.2684\n",
      "Epoch 76/100\n",
      "105207/105207 [==============================] - 1s 6us/step - loss: 5.2631 - val_loss: 5.2631\n",
      "Epoch 77/100\n",
      "105207/105207 [==============================] - 1s 6us/step - loss: 5.2584 - val_loss: 5.2585\n",
      "Epoch 78/100\n",
      "105207/105207 [==============================] - 1s 6us/step - loss: 5.2542 - val_loss: 5.2542\n",
      "Epoch 79/100\n",
      "105207/105207 [==============================] - 1s 6us/step - loss: 5.2503 - val_loss: 5.2503\n",
      "Epoch 80/100\n",
      "105207/105207 [==============================] - 1s 6us/step - loss: 5.2465 - val_loss: 5.2463\n",
      "Epoch 81/100\n",
      "105207/105207 [==============================] - 1s 6us/step - loss: 5.2428 - val_loss: 5.2426\n",
      "Epoch 82/100\n",
      "105207/105207 [==============================] - 1s 6us/step - loss: 5.2392 - val_loss: 5.2388\n",
      "Epoch 83/100\n",
      "105207/105207 [==============================] - 1s 6us/step - loss: 5.2356 - val_loss: 5.2351\n",
      "Epoch 84/100\n",
      "105207/105207 [==============================] - 1s 6us/step - loss: 5.2320 - val_loss: 5.2314\n",
      "Epoch 85/100\n",
      "105207/105207 [==============================] - 1s 6us/step - loss: 5.2284 - val_loss: 5.2277\n",
      "Epoch 86/100\n",
      "105207/105207 [==============================] - 1s 6us/step - loss: 5.2248 - val_loss: 5.2239\n",
      "Epoch 87/100\n",
      "105207/105207 [==============================] - 1s 6us/step - loss: 5.2212 - val_loss: 5.2202\n",
      "Epoch 88/100\n",
      "105207/105207 [==============================] - 1s 6us/step - loss: 5.2176 - val_loss: 5.2164\n",
      "Epoch 89/100\n",
      "105207/105207 [==============================] - 1s 6us/step - loss: 5.2139 - val_loss: 5.2127\n",
      "Epoch 90/100\n",
      "105207/105207 [==============================] - 1s 6us/step - loss: 5.2103 - val_loss: 5.2089\n",
      "Epoch 91/100\n",
      "105207/105207 [==============================] - 1s 6us/step - loss: 5.2066 - val_loss: 5.2051\n",
      "Epoch 92/100\n",
      "105207/105207 [==============================] - 1s 6us/step - loss: 5.2029 - val_loss: 5.2012\n",
      "Epoch 93/100\n",
      "105207/105207 [==============================] - 1s 6us/step - loss: 5.1991 - val_loss: 5.1973\n",
      "Epoch 94/100\n",
      "105207/105207 [==============================] - 1s 6us/step - loss: 5.1952 - val_loss: 5.1933\n",
      "Epoch 95/100\n",
      "105207/105207 [==============================] - 1s 6us/step - loss: 5.1913 - val_loss: 5.1893\n",
      "Epoch 96/100\n",
      "105207/105207 [==============================] - 1s 6us/step - loss: 5.1873 - val_loss: 5.1851\n",
      "Epoch 97/100\n",
      "105207/105207 [==============================] - 1s 6us/step - loss: 5.1832 - val_loss: 5.1809\n",
      "Epoch 98/100\n",
      "105207/105207 [==============================] - 1s 6us/step - loss: 5.1790 - val_loss: 5.1766\n",
      "Epoch 99/100\n",
      "105207/105207 [==============================] - 1s 6us/step - loss: 5.1747 - val_loss: 5.1721\n",
      "Epoch 100/100\n",
      "105207/105207 [==============================] - 1s 6us/step - loss: 5.1702 - val_loss: 5.1674\n"
     ]
    }
   ],
   "source": [
    "history = MyModel.fit(X_train,np.vstack([y_train,\n",
    "                                  np.ones(y_train.shape[0])\n",
    "                                  ]).T,\n",
    "                      validation_split=0.2,\n",
    "                      epochs=100,\n",
    "                      batch_size=1000,\n",
    "                      callbacks = [es]\n",
    "                     )\n",
    "#I think in adding the second column to the y_training values that is all 1s can give us an estimate of the error..."
   ]
  },
  {
   "cell_type": "code",
   "execution_count": 25,
   "metadata": {},
   "outputs": [
    {
     "data": {
      "image/png": "[encoded data removed]",
      "text/plain": [
       "<Figure size 320x320 with 1 Axes>"
      ]
     },
     "metadata": {
      "needs_background": "light"
     },
     "output_type": "display_data"
    }
   ],
   "source": [
    "plt.plot(history.history['loss'])\n",
    "plt.plot(history.history['val_loss'])\n",
    "plt.yscale('log')\n",
    "plt.xlabel('Epochs')\n",
    "plt.ylabel('Likelihood Loss Function')\n",
    "plt.legend(['Train', 'Validation'])\n",
    "plt.show()"
   ]
  },
  {
   "cell_type": "code",
   "execution_count": 26,
   "metadata": {},
   "outputs": [
    {
     "name": "stdout",
     "output_type": "stream",
     "text": [
      "[ 58.201492  32.824497  55.670033  36.823933  37.49345   18.028414\n",
      "  48.114475  48.9811    57.01335   42.361362  61.473583  48.314518\n",
      "  71.90182   23.621965  97.9298    72.42856   36.704     54.839203\n",
      "  44.110332  50.939617  53.98868   26.825497  44.500687  36.77003\n",
      "  69.77887   34.279987  47.09467   48.95682   62.19338   30.845367\n",
      "  28.411541  33.58165   56.727962 113.92939   56.52501   47.633343\n",
      "  19.653723  42.526695  18.710163  97.40356   55.706882  23.069801\n",
      "  49.15727   40.64558   51.462017  39.457745  32.841496  39.80039\n",
      "  57.201706  51.20206   58.43365   48.84238   38.66699   70.94558\n",
      "  44.0052    52.91167   39.14981   15.319551  27.494257  31.679903\n",
      "  67.92512   68.44913   39.075596  40.7872    32.96558   49.19705\n",
      "  43.890705  27.583286  19.905096  43.647     28.565472  48.57767\n",
      "  84.0452    49.000755  48.42278   26.828657  53.916286  62.515713\n",
      "  33.27528   25.432484  17.050438  49.84795   29.6026    33.160675\n",
      "  31.528936  53.37237   34.75197   11.20511   25.129223  16.175869\n",
      "  55.9762    65.85331   32.065712  30.65512   32.97808   18.386086\n",
      "  19.882166  47.26579   17.243618]\n"
     ]
    }
   ],
   "source": [
    "# predict the scores for the test set, then histogram them based on the real labels\n",
    "test_preds = MyModel.predict(X_test)\n",
    "print(test_preds[1:100,1])"
   ]
  },
  {
   "cell_type": "code",
   "execution_count": 28,
   "metadata": {},
   "outputs": [
    {
     "data": {
      "image/png": "[encoded data removed]",
      "text/plain": [
       "<Figure size 320x320 with 1 Axes>"
      ]
     },
     "metadata": {
      "needs_background": "light"
     },
     "output_type": "display_data"
    }
   ],
   "source": [
    "plt.hist(test_preds[:,0], bins=50, range=(-200,200), histtype='step')\n",
    "plt.hist(y_test, bins=50, range=(-200,200), histtype='step')\n",
    "plt.xlabel('Vr')\n",
    "plt.ylabel('Stars')\n",
    "plt.title('Test set - simulated data')\n",
    "plt.yscale('log')\n",
    "plt.show()\n"
   ]
  },
  {
   "cell_type": "code",
   "execution_count": 30,
   "metadata": {},
   "outputs": [
    {
     "data": {
      "text/plain": [
       "<matplotlib.collections.PathCollection at 0x2b58b2d88ba8>"
      ]
     },
     "execution_count": 30,
     "metadata": {},
     "output_type": "execute_result"
    },
    {
     "data": {
      "image/png": "[encoded data removed]",
      "text/plain": [
       "<Figure size 320x320 with 1 Axes>"
      ]
     },
     "metadata": {
      "needs_background": "light"
     },
     "output_type": "display_data"
    }
   ],
   "source": [
    "test_preds[:,1] = (test_preds[:,1] - np.min(test_preds[:,1]))/(np.max(test_preds[:,1])- np.min(test_preds[:,1]))\n",
    "#trying to manually rescale confidence\n",
    "plt.scatter(X_test[:,0], test_preds[:,1])"
   ]
  },
  {
   "cell_type": "code",
   "execution_count": 31,
   "metadata": {},
   "outputs": [
    {
     "data": {
      "text/plain": [
       "Text(0, 0.5, 'Vr real')"
      ]
     },
     "execution_count": 31,
     "metadata": {},
     "output_type": "execute_result"
    },
    {
     "data": {
      "image/png": "[encoded data removed]",
      "text/plain": [
       "<Figure size 320x320 with 1 Axes>"
      ]
     },
     "metadata": {
      "needs_background": "light"
     },
     "output_type": "display_data"
    }
   ],
   "source": [
    "plt.scatter(test_preds[:,0],y_test)\n",
    "plt.xlabel('Vr predicted')\n",
    "plt.ylabel('Vr real')"
   ]
  },
  {
   "cell_type": "code",
   "execution_count": 5,
   "metadata": {},
   "outputs": [],
   "source": [
    "def ConstantLikelihoodFunction(y_true, y_pred):\n",
    "    # shape of y_pred should be (nsamples, 2)\n",
    "    # the first column should be the mean of the prediction\n",
    "    # the second column is the confidence (number of standard deviations)\n",
    "#     print y_true.shape\n",
    "#     print y_pred.shape\n",
    "    LOC = y_pred[:, 0]\n",
    "    X = y_true[:, 0]\n",
    "    ARG = -K.square(X - LOC) / (2.0)\n",
    "    return K.mean(-ARG)"
   ]
  },
  {
   "cell_type": "code",
   "execution_count": null,
   "metadata": {},
   "outputs": [],
   "source": []
  }
 ],
 "metadata": {
  "kernelspec": {
   "display_name": "venv_ML",
   "language": "python",
   "name": "venv_ml"
  },
  "language_info": {
   "codemirror_mode": {
    "name": "ipython",
    "version": 3
   },
   "file_extension": ".py",
   "mimetype": "text/x-python",
   "name": "python",
   "nbconvert_exporter": "python",
   "pygments_lexer": "ipython3",
   "version": "3.6.10"
  }
 },
 "nbformat": 4,
 "nbformat_minor": 4
}
