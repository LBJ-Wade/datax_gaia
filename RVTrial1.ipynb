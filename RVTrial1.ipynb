{
 "cells": [
  {
   "cell_type": "markdown",
   "metadata": {},
   "source": [
    "# First trial of ML to find radial velocities. Goal is to use regression to extrapolate the velocities and have network predict the error on its prediction."
   ]
  },
  {
   "cell_type": "code",
   "execution_count": 1,
   "metadata": {},
   "outputs": [],
   "source": [
    "import pandas as pd\n",
    "import numpy as np"
   ]
  },
  {
   "cell_type": "code",
   "execution_count": 2,
   "metadata": {},
   "outputs": [],
   "source": [
    "%matplotlib inline\n",
    "\n",
    "import matplotlib\n",
    "import matplotlib.pyplot as plt"
   ]
  },
  {
   "cell_type": "code",
   "execution_count": 3,
   "metadata": {},
   "outputs": [],
   "source": [
    "# These are just my choices to make the plots look nice\n",
    "plt.rcParams.update({'font.family':'cmr10','font.size': 13})\n",
    "matplotlib.rcParams['axes.unicode_minus']=False\n",
    "matplotlib.rcParams['axes.labelsize']=15\n",
    "plt.rcParams['figure.figsize']=(4,4)\n",
    "plt.rcParams['figure.dpi'] = 80\n",
    "plt.rcParams['mathtext.fontset'] = 'cm'\n",
    "plt.rcParams['mathtext.rm'] = 'serif'\n",
    "plt.rcParams['xtick.direction'] = 'in'\n",
    "plt.rcParams['ytick.direction'] = 'in'\n",
    "plt.rcParams['xtick.top'] = True\n",
    "plt.rcParams['ytick.right'] = True"
   ]
  },
  {
   "cell_type": "code",
   "execution_count": 4,
   "metadata": {},
   "outputs": [],
   "source": [
    "SimulatedStars = pd.read_csv('rave_tgas_cleaned_data.csv',index_col=None)"
   ]
  },
  {
   "cell_type": "code",
   "execution_count": 5,
   "metadata": {},
   "outputs": [
    {
     "data": {
      "text/html": [
       "<div>\n",
       "<style scoped>\n",
       "    .dataframe tbody tr th:only-of-type {\n",
       "        vertical-align: middle;\n",
       "    }\n",
       "\n",
       "    .dataframe tbody tr th {\n",
       "        vertical-align: top;\n",
       "    }\n",
       "\n",
       "    .dataframe thead th {\n",
       "        text-align: right;\n",
       "    }\n",
       "</style>\n",
       "<table border=\"1\" class=\"dataframe\">\n",
       "  <thead>\n",
       "    <tr style=\"text-align: right;\">\n",
       "      <th></th>\n",
       "      <th>Unnamed: 0</th>\n",
       "      <th>ra</th>\n",
       "      <th>dec</th>\n",
       "      <th>b</th>\n",
       "      <th>l</th>\n",
       "      <th>logg</th>\n",
       "      <th>teff</th>\n",
       "      <th>gband</th>\n",
       "      <th>vr</th>\n",
       "      <th>vtheta</th>\n",
       "      <th>...</th>\n",
       "      <th>pmde_err</th>\n",
       "      <th>vU</th>\n",
       "      <th>vV</th>\n",
       "      <th>vW</th>\n",
       "      <th>vU_err</th>\n",
       "      <th>vV_err</th>\n",
       "      <th>vW_err</th>\n",
       "      <th>jband</th>\n",
       "      <th>kband</th>\n",
       "      <th>R_cyl</th>\n",
       "    </tr>\n",
       "  </thead>\n",
       "  <tbody>\n",
       "    <tr>\n",
       "      <th>0</th>\n",
       "      <td>0</td>\n",
       "      <td>160.760542</td>\n",
       "      <td>-13.241389</td>\n",
       "      <td>39.009388</td>\n",
       "      <td>261.198041</td>\n",
       "      <td>4.02</td>\n",
       "      <td>6047.5</td>\n",
       "      <td>11.154045</td>\n",
       "      <td>-22.767779</td>\n",
       "      <td>-8.553811</td>\n",
       "      <td>...</td>\n",
       "      <td>1.109520</td>\n",
       "      <td>2.989305</td>\n",
       "      <td>-26.186428</td>\n",
       "      <td>0.468133</td>\n",
       "      <td>7.397238</td>\n",
       "      <td>2.740294</td>\n",
       "      <td>3.563465</td>\n",
       "      <td>10.313</td>\n",
       "      <td>9.981</td>\n",
       "      <td>8.059333</td>\n",
       "    </tr>\n",
       "    <tr>\n",
       "      <th>1</th>\n",
       "      <td>1</td>\n",
       "      <td>160.258125</td>\n",
       "      <td>-13.640972</td>\n",
       "      <td>38.394644</td>\n",
       "      <td>261.014525</td>\n",
       "      <td>1.92</td>\n",
       "      <td>4777.9</td>\n",
       "      <td>10.940921</td>\n",
       "      <td>-90.714933</td>\n",
       "      <td>13.228575</td>\n",
       "      <td>...</td>\n",
       "      <td>1.039390</td>\n",
       "      <td>59.797612</td>\n",
       "      <td>-69.816238</td>\n",
       "      <td>-28.596837</td>\n",
       "      <td>21.613296</td>\n",
       "      <td>8.263897</td>\n",
       "      <td>9.739697</td>\n",
       "      <td>9.513</td>\n",
       "      <td>8.868</td>\n",
       "      <td>8.191753</td>\n",
       "    </tr>\n",
       "    <tr>\n",
       "      <th>2</th>\n",
       "      <td>2</td>\n",
       "      <td>159.117958</td>\n",
       "      <td>-13.938889</td>\n",
       "      <td>37.476591</td>\n",
       "      <td>260.143047</td>\n",
       "      <td>3.76</td>\n",
       "      <td>5684.4</td>\n",
       "      <td>9.964015</td>\n",
       "      <td>17.192325</td>\n",
       "      <td>-17.679071</td>\n",
       "      <td>...</td>\n",
       "      <td>0.630677</td>\n",
       "      <td>-32.337603</td>\n",
       "      <td>-30.413529</td>\n",
       "      <td>10.738150</td>\n",
       "      <td>2.762826</td>\n",
       "      <td>0.893481</td>\n",
       "      <td>1.207606</td>\n",
       "      <td>9.107</td>\n",
       "      <td>8.738</td>\n",
       "      <td>8.030682</td>\n",
       "    </tr>\n",
       "    <tr>\n",
       "      <th>3</th>\n",
       "      <td>3</td>\n",
       "      <td>159.159667</td>\n",
       "      <td>-13.473472</td>\n",
       "      <td>37.865498</td>\n",
       "      <td>259.816167</td>\n",
       "      <td>3.75</td>\n",
       "      <td>5896.4</td>\n",
       "      <td>9.740564</td>\n",
       "      <td>-19.469996</td>\n",
       "      <td>-8.870117</td>\n",
       "      <td>...</td>\n",
       "      <td>0.576193</td>\n",
       "      <td>4.840963</td>\n",
       "      <td>-15.400051</td>\n",
       "      <td>1.330989</td>\n",
       "      <td>1.266904</td>\n",
       "      <td>0.713310</td>\n",
       "      <td>0.745443</td>\n",
       "      <td>8.843</td>\n",
       "      <td>8.585</td>\n",
       "      <td>8.024455</td>\n",
       "    </tr>\n",
       "    <tr>\n",
       "      <th>4</th>\n",
       "      <td>4</td>\n",
       "      <td>160.152417</td>\n",
       "      <td>-11.347833</td>\n",
       "      <td>40.129253</td>\n",
       "      <td>259.072345</td>\n",
       "      <td>2.50</td>\n",
       "      <td>4867.2</td>\n",
       "      <td>10.547413</td>\n",
       "      <td>3.542314</td>\n",
       "      <td>-11.618539</td>\n",
       "      <td>...</td>\n",
       "      <td>0.690997</td>\n",
       "      <td>-31.966993</td>\n",
       "      <td>-30.385995</td>\n",
       "      <td>4.604890</td>\n",
       "      <td>10.842726</td>\n",
       "      <td>1.868670</td>\n",
       "      <td>4.019525</td>\n",
       "      <td>9.129</td>\n",
       "      <td>8.482</td>\n",
       "      <td>8.166834</td>\n",
       "    </tr>\n",
       "  </tbody>\n",
       "</table>\n",
       "<p>5 rows × 36 columns</p>\n",
       "</div>"
      ],
      "text/plain": [
       "   Unnamed: 0          ra        dec          b           l  logg    teff  \\\n",
       "0           0  160.760542 -13.241389  39.009388  261.198041  4.02  6047.5   \n",
       "1           1  160.258125 -13.640972  38.394644  261.014525  1.92  4777.9   \n",
       "2           2  159.117958 -13.938889  37.476591  260.143047  3.76  5684.4   \n",
       "3           3  159.159667 -13.473472  37.865498  259.816167  3.75  5896.4   \n",
       "4           4  160.152417 -11.347833  40.129253  259.072345  2.50  4867.2   \n",
       "\n",
       "       gband         vr     vtheta  ...  pmde_err         vU         vV  \\\n",
       "0  11.154045 -22.767779  -8.553811  ...  1.109520   2.989305 -26.186428   \n",
       "1  10.940921 -90.714933  13.228575  ...  1.039390  59.797612 -69.816238   \n",
       "2   9.964015  17.192325 -17.679071  ...  0.630677 -32.337603 -30.413529   \n",
       "3   9.740564 -19.469996  -8.870117  ...  0.576193   4.840963 -15.400051   \n",
       "4  10.547413   3.542314 -11.618539  ...  0.690997 -31.966993 -30.385995   \n",
       "\n",
       "          vW     vU_err    vV_err    vW_err   jband  kband     R_cyl  \n",
       "0   0.468133   7.397238  2.740294  3.563465  10.313  9.981  8.059333  \n",
       "1 -28.596837  21.613296  8.263897  9.739697   9.513  8.868  8.191753  \n",
       "2  10.738150   2.762826  0.893481  1.207606   9.107  8.738  8.030682  \n",
       "3   1.330989   1.266904  0.713310  0.745443   8.843  8.585  8.024455  \n",
       "4   4.604890  10.842726  1.868670  4.019525   9.129  8.482  8.166834  \n",
       "\n",
       "[5 rows x 36 columns]"
      ]
     },
     "execution_count": 5,
     "metadata": {},
     "output_type": "execute_result"
    }
   ],
   "source": [
    "SimulatedStars.head()"
   ]
  },
  {
   "cell_type": "code",
   "execution_count": 6,
   "metadata": {},
   "outputs": [
    {
     "data": {
      "text/plain": [
       "Index(['Unnamed: 0', 'ra', 'dec', 'b', 'l', 'logg', 'teff', 'gband', 'vr',\n",
       "       'vtheta', 'vphi', 'vr_err', 'vphi_err', 'vtheta_err', 'z', 'z_err',\n",
       "       'distance', 'distance_err', 'R', 'feH', 'ID', 'hrv', 'hrv_err', 'pmra',\n",
       "       'pmra_err', 'pmde', 'pmde_err', 'vU', 'vV', 'vW', 'vU_err', 'vV_err',\n",
       "       'vW_err', 'jband', 'kband', 'R_cyl'],\n",
       "      dtype='object')"
      ]
     },
     "execution_count": 6,
     "metadata": {},
     "output_type": "execute_result"
    }
   ],
   "source": [
    "SimulatedStars.columns"
   ]
  },
  {
   "cell_type": "code",
   "execution_count": 7,
   "metadata": {},
   "outputs": [
    {
     "data": {
      "text/plain": [
       "(164387, 36)"
      ]
     },
     "execution_count": 7,
     "metadata": {},
     "output_type": "execute_result"
    }
   ],
   "source": [
    "SimulatedStars.shape"
   ]
  },
  {
   "cell_type": "code",
   "execution_count": 8,
   "metadata": {},
   "outputs": [],
   "source": [
    "from sklearn.preprocessing import StandardScaler\n",
    "from sklearn.model_selection import train_test_split"
   ]
  },
  {
   "cell_type": "code",
   "execution_count": 9,
   "metadata": {},
   "outputs": [],
   "source": [
    "# What columns to use?\n",
    "use_cols = ['l', 'b','distance','pmra','pmde']\n",
    "# Make the design matrix\n",
    "X = SimulatedStars[use_cols].values\n",
    "Y = (SimulatedStars['vr']).values\n"
   ]
  },
  {
   "cell_type": "code",
   "execution_count": 10,
   "metadata": {},
   "outputs": [],
   "source": [
    "X_train, X_test, y_train, y_test = train_test_split(X, Y,\n",
    "                                                    test_size = 0.2,\n",
    "                                                    random_state=42)"
   ]
  },
  {
   "cell_type": "code",
   "execution_count": 11,
   "metadata": {},
   "outputs": [
    {
     "name": "stdout",
     "output_type": "stream",
     "text": [
      "(131509, 5)\n",
      "(131509,)\n",
      "There are 40356.09328778812 stars in the training set\n",
      "\n",
      "(32878, 5)\n",
      "(32878,)\n",
      "There are 6386.546530267198 stars in the test set\n"
     ]
    }
   ],
   "source": [
    "print(X_train.shape)\n",
    "print(y_train.shape)\n",
    "print('There are {0} stars in the training set'.format(np.sum(y_train)))\n",
    "print()\n",
    "print(X_test.shape)\n",
    "print(y_test.shape)\n",
    "print('There are {0} stars in the test set'.format(np.sum(y_test)))"
   ]
  },
  {
   "cell_type": "code",
   "execution_count": 12,
   "metadata": {},
   "outputs": [],
   "source": [
    "# Might need to add in a data preprocessing step here \n",
    "#Either reweighting the radial velocity or training set features have 0 mean and unit variance"
   ]
  },
  {
   "cell_type": "code",
   "execution_count": 13,
   "metadata": {},
   "outputs": [],
   "source": [
    "SS = StandardScaler()\n",
    "X_train = SS.fit_transform(X_train)"
   ]
  },
  {
   "cell_type": "code",
   "execution_count": 14,
   "metadata": {},
   "outputs": [],
   "source": [
    "# Now scale the test data using the same mean and standard deviation as found with the training data\n",
    "X_test = SS.transform(X_test)"
   ]
  },
  {
   "cell_type": "code",
   "execution_count": 15,
   "metadata": {},
   "outputs": [
    {
     "data": {
      "image/png": "[encoded data removed]",
      "text/plain": [
       "<Figure size 480x240 with 2 Axes>"
      ]
     },
     "metadata": {
      "needs_background": "light"
     },
     "output_type": "display_data"
    },
    {
     "data": {
      "image/png": "[encoded data removed]",
      "text/plain": [
       "<Figure size 480x240 with 2 Axes>"
      ]
     },
     "metadata": {
      "needs_background": "light"
     },
     "output_type": "display_data"
    },
    {
     "data": {
      "image/png": "[encoded data removed]",
      "text/plain": [
       "<Figure size 480x240 with 2 Axes>"
      ]
     },
     "metadata": {
      "needs_background": "light"
     },
     "output_type": "display_data"
    },
    {
     "data": {
      "image/png": "[encoded data removed]",
      "text/plain": [
       "<Figure size 480x240 with 2 Axes>"
      ]
     },
     "metadata": {
      "needs_background": "light"
     },
     "output_type": "display_data"
    },
    {
     "data": {
      "image/png": "[encoded data removed]",
      "text/plain": [
       "<Figure size 480x240 with 2 Axes>"
      ]
     },
     "metadata": {
      "needs_background": "light"
     },
     "output_type": "display_data"
    }
   ],
   "source": [
    "#visualize check data\n",
    "for i, col in enumerate(use_cols):\n",
    "    plt.figure(figsize=(6, 3))\n",
    "    plt.subplot(1,2,1)\n",
    "    plt.hist(SimulatedStars[col], bins=100)\n",
    "    plt.yscale('log')\n",
    "    plt.title('Data')\n",
    "    \n",
    "    plt.subplot(1,2,2)\n",
    "    plt.hist(X_train[:, i], bins=100, alpha=0.5)\n",
    "    plt.hist(X_test[:, i], bins=100, alpha=0.5)\n",
    "    plt.yscale('log')\n",
    "    plt.title('Scaled')\n",
    "    \n",
    "    plt.suptitle(col, y=1.01, fontsize=16)\n",
    "    \n",
    "    plt.tight_layout()"
   ]
  },
  {
   "cell_type": "code",
   "execution_count": 16,
   "metadata": {},
   "outputs": [],
   "source": [
    "#Building Classifier "
   ]
  },
  {
   "cell_type": "code",
   "execution_count": 17,
   "metadata": {},
   "outputs": [
    {
     "name": "stderr",
     "output_type": "stream",
     "text": [
      "Using TensorFlow backend.\n"
     ]
    }
   ],
   "source": [
    "from keras.models import Sequential\n",
    "from keras.layers import Dense\n",
    "from keras.callbacks import EarlyStopping, ModelCheckpoint\n",
    "from keras.optimizers import Adam"
   ]
  },
  {
   "cell_type": "code",
   "execution_count": 18,
   "metadata": {},
   "outputs": [],
   "source": [
    "from keras import backend as K"
   ]
  },
  {
   "cell_type": "code",
   "execution_count": 19,
   "metadata": {},
   "outputs": [],
   "source": [
    "def LikelihoodLossFunction(y_true, y_pred):\n",
    "    # shape of y_pred should be (nsamples, 2)\n",
    "    # the first column should be the mean of the prediction\n",
    "    # the second column is the confidence (number of standard deviations)\n",
    "#     print y_true.shape\n",
    "#     print y_pred.shape\n",
    "    SIGMA = K.abs(y_pred[:, 1])\n",
    "    LOC = y_pred[:, 0]\n",
    "    X = y_true[:, 0]\n",
    "    \n",
    "    ARG = K.square(X - LOC) / (2 * K.square(SIGMA))\n",
    "    PREFACT = K.log(K.pow(2 * np.pi * K.square(SIGMA), -0.5))\n",
    "    #you get this from the conditional probability distribution\n",
    "    return K.mean(ARG - PREFACT)\n",
    "    #return K.mean(ARG)\n",
    "#now i'm wondering if somewhere in here I should return SIGMA"
   ]
  },
  {
   "cell_type": "code",
   "execution_count": 20,
   "metadata": {},
   "outputs": [],
   "source": [
    "MyModel = Sequential()\n",
    "MyModel.add(Dense(units=100, activation='relu', input_dim=X_train.shape[1]))\n",
    "MyModel.add(Dense(units=100, activation='relu'))\n",
    "MyModel.add(Dense(units=100, activation='relu'))\n",
    "MyModel.add(Dense(units=2))\n",
    "#using tanh activation function in the last layer\n",
    "#MyModel.compile(loss='mean_squared_error',\n",
    "       #         optimizer='adam'\n",
    "       #       )\n",
    "MyModel.compile(loss=LikelihoodLossFunction,\n",
    "                optimizer='adam'\n",
    "               )"
   ]
  },
  {
   "cell_type": "code",
   "execution_count": 21,
   "metadata": {},
   "outputs": [
    {
     "name": "stdout",
     "output_type": "stream",
     "text": [
      "Model: \"sequential_1\"\n",
      "_________________________________________________________________\n",
      "Layer (type)                 Output Shape              Param #   \n",
      "=================================================================\n",
      "dense_1 (Dense)              (None, 100)               600       \n",
      "_________________________________________________________________\n",
      "dense_2 (Dense)              (None, 100)               10100     \n",
      "_________________________________________________________________\n",
      "dense_3 (Dense)              (None, 100)               10100     \n",
      "_________________________________________________________________\n",
      "dense_4 (Dense)              (None, 2)                 202       \n",
      "=================================================================\n",
      "Total params: 21,002\n",
      "Trainable params: 21,002\n",
      "Non-trainable params: 0\n",
      "_________________________________________________________________\n"
     ]
    }
   ],
   "source": [
    "MyModel.summary()"
   ]
  },
  {
   "cell_type": "code",
   "execution_count": 22,
   "metadata": {},
   "outputs": [],
   "source": [
    "#training any checkpoint or early stopping? \n",
    "es = EarlyStopping(patience=2, restore_best_weights=True)"
   ]
  },
  {
   "cell_type": "code",
   "execution_count": 23,
   "metadata": {},
   "outputs": [
    {
     "name": "stdout",
     "output_type": "stream",
     "text": [
      "131509\n"
     ]
    }
   ],
   "source": [
    "print(y_train.shape[0])"
   ]
  },
  {
   "cell_type": "code",
   "execution_count": 24,
   "metadata": {},
   "outputs": [],
   "source": [
    "history = MyModel.fit(X_train,np.vstack([y_train,\n",
    "                                  np.ones(y_train.shape[0])\n",
    "                                  ]).T,\n",
    "                      validation_split=0.2,\n",
    "                      epochs=300,\n",
    "                      batch_size=1000,\n",
    "                      callbacks = [es],\n",
    "                      verbose = 0\n",
    "                     )\n",
    "#I think in adding the second column to the y_training values that is all 1s can give us an estimate of the error...\n",
    "#sometimes it trains really well and sometimes not...not sure why it differs so much...maybe it steps in the wrong direction\n",
    "#intially when optimizing the loss "
   ]
  },
  {
   "cell_type": "code",
   "execution_count": 25,
   "metadata": {},
   "outputs": [
    {
     "data": {
      "image/png": "[encoded data removed]",
      "text/plain": [
       "<Figure size 320x320 with 1 Axes>"
      ]
     },
     "metadata": {
      "needs_background": "light"
     },
     "output_type": "display_data"
    }
   ],
   "source": [
    "plt.plot(history.history['loss'])\n",
    "plt.plot(history.history['val_loss'])\n",
    "plt.yscale('log')\n",
    "plt.xlabel('Epochs')\n",
    "plt.ylabel('Likelihood Loss Function')\n",
    "plt.legend(['Train', 'Validation'])\n",
    "plt.show()"
   ]
  },
  {
   "cell_type": "code",
   "execution_count": 26,
   "metadata": {},
   "outputs": [
    {
     "name": "stdout",
     "output_type": "stream",
     "text": [
      "[27.604069   8.005541  32.034554  14.495509  23.896275   8.263275\n",
      "  5.298121  19.747686   4.478756  16.835037  32.819725  14.339136\n",
      " 27.749012  10.137412  40.163456  44.771175  24.994564  32.630905\n",
      " 18.759804   4.8176227 21.793688  19.135788  38.943356   6.0494976\n",
      "  7.380693   9.200582  25.93258   15.311858  28.649563  12.486548\n",
      " 14.694188  15.37782    4.850511  49.462254  11.54024   19.839092\n",
      " 15.533406   5.1234508 11.13014   30.829498  17.085764  19.801897\n",
      " 17.744675   6.3887506 21.062641  18.111067   6.087682  29.450829\n",
      " 25.316324   3.80744    5.9328613 16.970728   7.496645  23.087196\n",
      " 15.762404   4.5530524 16.426672  13.385422  12.430476  13.29661\n",
      " 14.1030245 22.991062   9.439486  15.571179   8.850386   4.59394\n",
      " 11.324067  21.966959  15.393934  26.25456    8.172219  20.32956\n",
      " 31.328728  23.479513  15.990251  11.400914  10.358832  23.194502\n",
      "  7.754692   8.096215  10.529262  29.371027  18.15689   21.587282\n",
      " 15.572725  10.6923895  9.103944  13.622347   6.8971    10.90521\n",
      " 16.01178   24.091225   6.9683423 24.950073   8.001989  12.538595\n",
      " 20.148216  27.02141   12.620573 ]\n"
     ]
    }
   ],
   "source": [
    "# predict the scores for the test set, then histogram them based on the real labels\n",
    "test_preds = MyModel.predict(X_test)\n",
    "print(test_preds[1:100,1])"
   ]
  },
  {
   "cell_type": "code",
   "execution_count": 27,
   "metadata": {},
   "outputs": [
    {
     "data": {
      "image/png": "[encoded data removed]",
      "text/plain": [
       "<Figure size 320x320 with 1 Axes>"
      ]
     },
     "metadata": {
      "needs_background": "light"
     },
     "output_type": "display_data"
    }
   ],
   "source": [
    "plt.hist(test_preds[:,0], bins=50, range=(-200,200), histtype='step')\n",
    "plt.hist(y_test, bins=50, range=(-200,200), histtype='step')\n",
    "\n",
    "plt.xlabel('Vr')\n",
    "plt.ylabel('Stars')\n",
    "plt.title('Test set - simulated data')\n",
    "plt.yscale('log')\n",
    "plt.show()\n"
   ]
  },
  {
   "cell_type": "markdown",
   "metadata": {},
   "source": [
    "Plotting some of the predicted points with confidence as the errorbars "
   ]
  },
  {
   "cell_type": "code",
   "execution_count": 28,
   "metadata": {},
   "outputs": [
    {
     "name": "stdout",
     "output_type": "stream",
     "text": [
      "[0.09255003 0.02358973 0.10813934 0.04642564 0.07950361 0.02449661\n",
      " 0.01406328 0.06490619 0.01118022 0.05465761 0.11090209 0.04587542\n",
      " 0.09306004 0.03109103 0.13674209 0.15295501 0.08336811 0.1102377\n",
      " 0.06143019 0.01237257 0.07210536 0.06275314 0.13244897 0.01670711\n",
      " 0.02139111 0.02779466 0.08666866 0.04929808 0.09622876 0.03935681\n",
      " 0.04712472 0.04953018 0.0124883  0.16946127 0.03602709 0.06522782\n",
      " 0.05007763 0.01344867 0.03458409 0.10389918 0.05553983 0.06509694\n",
      " 0.05785831 0.01790082 0.06953306 0.05914751 0.01684146 0.09904813\n",
      " 0.08450027]\n"
     ]
    },
    {
     "data": {
      "text/plain": [
       "Text(0, 0.5, 'Error on Vr predicted')"
      ]
     },
     "execution_count": 28,
     "metadata": {},
     "output_type": "execute_result"
    },
    {
     "data": {
      "image/png": "[encoded data removed]",
      "text/plain": [
       "<Figure size 320x320 with 1 Axes>"
      ]
     },
     "metadata": {
      "needs_background": "light"
     },
     "output_type": "display_data"
    }
   ],
   "source": [
    "#test_preds[:,0] = (test_preds[:,0] - np.min(test_preds[:,0]))/(np.max(test_preds[:,0])- np.min(test_preds[:,0]))\n",
    "#test_preds[:,1] = (test_preds[:,1] - np.min(test_preds[:,1]))/(np.max(test_preds[:,1])- np.min(test_preds[:,1]))\n",
    "#y_test = (y_test - np.min(y_test))/(np.max(y_test)- np.min(y_test))\n",
    "#manually normalizing output \n",
    "print(test_preds[1:50,1])\n",
    "plt.scatter(X_test[1:50,2], test_preds[1:50,1], color = 'red')\n",
    "#plt.errorbar(X_test[1:50,2], test_preds[1:50,0], yerr = test_preds[1:50,1], color = 'red',ls='none')\n",
    "plt.xlabel('Distance')\n",
    "plt.ylabel('Error on Vr predicted')\n",
    "#maybe good idea to bootstrap bc seems to have differing results for different times that I run it\n",
    "#ask what is this number??"
   ]
  },
  {
   "cell_type": "code",
   "execution_count": 29,
   "metadata": {},
   "outputs": [
    {
     "data": {
      "text/plain": [
       "Text(0.5, 0, 'Vr real')"
      ]
     },
     "execution_count": 29,
     "metadata": {},
     "output_type": "execute_result"
    },
    {
     "data": {
      "image/png": "[encoded data removed]",
      "text/plain": [
       "<Figure size 320x320 with 1 Axes>"
      ]
     },
     "metadata": {
      "needs_background": "light"
     },
     "output_type": "display_data"
    }
   ],
   "source": [
    "plt.errorbar(y_test, test_preds[:,0], yerr = test_preds[:,1], color = 'red',ls='none')\n",
    "plt.scatter(y_test, test_preds[:,0])\n",
    "plt.ylabel('Vr predicted')\n",
    "plt.xlabel('Vr real')"
   ]
  },
  {
   "cell_type": "markdown",
   "metadata": {},
   "source": [
    "# Alternative Methods- Ignore for Now"
   ]
  },
  {
   "cell_type": "code",
   "execution_count": 49,
   "metadata": {},
   "outputs": [],
   "source": [
    "def ConstantLikelihoodFunction(y_true, y_pred):\n",
    "    # shape of y_pred should be (nsamples, 2)\n",
    "    # the first column should be the mean of the prediction\n",
    "    # the second column is the confidence (number of standard deviations)\n",
    "#     print y_true.shape\n",
    "#     print y_pred.shape\n",
    "    LOC = y_pred[:, 0]\n",
    "    X = y_true[:, 0]\n",
    "    ARG = -K.square(X - LOC) / (2.0)\n",
    "    return K.mean(-ARG)"
   ]
  },
  {
   "cell_type": "markdown",
   "metadata": {},
   "source": [
    "Going to Try Calculating the Mean and Error from two different networks...although I'm not sure how this will give us the error on the network that calculates the mean...unless we can somehow transfer over the information from the weights"
   ]
  },
  {
   "cell_type": "code",
   "execution_count": 50,
   "metadata": {},
   "outputs": [],
   "source": [
    "from keras.layers import Input, Dense, Lambda, Concatenate\n",
    "from keras.models import Model\n",
    "from keras.utils import plot_model"
   ]
  },
  {
   "cell_type": "code",
   "execution_count": null,
   "metadata": {},
   "outputs": [],
   "source": []
  },
  {
   "cell_type": "code",
   "execution_count": 51,
   "metadata": {},
   "outputs": [],
   "source": [
    "# del(inputs, MeanEst, MeanModel, ConfEst, ConfModel)\n",
    "inputs = Input(shape=(5,))\n",
    "MeanEst = (Dense(100, activation='relu'))(inputs)\n",
    "MeanEst = (Dense(100, activation='relu'))(MeanEst)\n",
    "MeanEst = (Dense(100, activation='relu'))(MeanEst)\n",
    "MeanEst = (Dense(1, activation='linear'))(MeanEst)\n",
    "MeanModel = Model(inputs, MeanEst)\n",
    "\n",
    "ConfEst= (Dense(100, activation='tanh'))(inputs)\n",
    "ConfEst= (Dense(100, activation='tanh'))(ConfEst)\n",
    "ConfEst= (Dense(100, activation='tanh'))(ConfEst)\n",
    "ConfEst= (Dense(1, activation='relu'))(ConfEst)\n",
    "ConfModel = Model(inputs, ConfEst)\n",
    "#this can't possibly give me a confidence output? the only thing that appears to define a confidence is the relu\n",
    "#on the last layer \n",
    "#CombinedSub = Concatenate(axis=-1)([MeanEst, ConfEst])\n",
    "CombinedSub = Concatenate(axis=-1)([MeanModel(inputs), ConfModel(inputs)])\n",
    "\n",
    "CombinedModel = Model(inputs, CombinedSub)\n",
    "#plot_model(CombinedModel,to_file='demo.png',show_shapes=True)"
   ]
  },
  {
   "cell_type": "code",
   "execution_count": 52,
   "metadata": {},
   "outputs": [
    {
     "name": "stdout",
     "output_type": "stream",
     "text": [
      "Model: \"model_3\"\n",
      "__________________________________________________________________________________________________\n",
      "Layer (type)                    Output Shape         Param #     Connected to                     \n",
      "==================================================================================================\n",
      "input_1 (InputLayer)            (None, 5)            0                                            \n",
      "__________________________________________________________________________________________________\n",
      "model_1 (Model)                 (None, 1)            20901       input_1[0][0]                    \n",
      "__________________________________________________________________________________________________\n",
      "model_2 (Model)                 (None, 1)            20901       input_1[0][0]                    \n",
      "__________________________________________________________________________________________________\n",
      "concatenate_1 (Concatenate)     (None, 2)            0           model_1[1][0]                    \n",
      "                                                                 model_2[1][0]                    \n",
      "==================================================================================================\n",
      "Total params: 41,802\n",
      "Trainable params: 41,802\n",
      "Non-trainable params: 0\n",
      "__________________________________________________________________________________________________\n"
     ]
    }
   ],
   "source": [
    "CombinedModel.summary()"
   ]
  },
  {
   "cell_type": "code",
   "execution_count": null,
   "metadata": {},
   "outputs": [],
   "source": [
    "ConfModel.trainable = False\n",
    "MeanModel.trainable = True\n",
    "CombinedModel.compile(loss=ConstantLikelihoodFunction,\n",
    "                      optimizer='adam'\n",
    "                     )\n",
    "#why does the loss only return not nan when I use this ...I'm guessing it has to do with the log...\n",
    "CombinedModel.fit(X_train,y_train,\n",
    "                  epochs=100,\n",
    "                  batch_size=1000,\n",
    "                  validation_split=0.2\n",
    "                 )"
   ]
  },
  {
   "cell_type": "code",
   "execution_count": null,
   "metadata": {},
   "outputs": [],
   "source": [
    "ConfModel.trainable = True\n",
    "MeanModel.trainable = False\n",
    "CombinedModel.compile(loss=ConstantLikelihoodFunction,\n",
    "                      optimizer='adam'\n",
    "                     )\n",
    "\n",
    "CombinedModel.fit(X_train,y_train,\n",
    "                  epochs=100,\n",
    "                  batch_size=1000,\n",
    "                  validation_split=0.1\n",
    "                 )"
   ]
  },
  {
   "cell_type": "code",
   "execution_count": 57,
   "metadata": {},
   "outputs": [
    {
     "data": {
      "image/png": "[encoded data removed]",
      "text/plain": [
       "<Figure size 320x320 with 1 Axes>"
      ]
     },
     "metadata": {
      "needs_background": "light"
     },
     "output_type": "display_data"
    }
   ],
   "source": [
    "test_preds_2 = CombinedModel.predict(X_test)\n",
    "plt.figure()\n",
    "plt.hist(test_preds_2[:,0], bins=50, range=(-200,200), histtype='step')\n",
    "plt.hist(y_test, bins=50, range=(-200,200), histtype='step')\n",
    "plt.xlabel('Vr')\n",
    "plt.ylabel('Stars')\n",
    "plt.title('Test set - simulated data')\n",
    "plt.yscale('log')\n",
    "plt.show()"
   ]
  },
  {
   "cell_type": "code",
   "execution_count": 74,
   "metadata": {},
   "outputs": [
    {
     "name": "stdout",
     "output_type": "stream",
     "text": [
      "[0.33220997 0.1404052  0.0650609  0.21515281 0.17435847 0.06300502\n",
      " 0.27721444 0.25311586 0.3057027  0.19588776 0.35261238 0.\n",
      " 0.         0.00491727 0.         0.         0.01598033 0.16228598\n",
      " 0.         0.23719586 0.33013657 0.03691034 0.         0.\n",
      " 0.2934952  0.12545295 0.17195697 0.         0.1477449  0.\n",
      " 0.25890273 0.2612983  0.30319786 0.         0.0395855  0.35436657\n",
      " 0.03385221 0.15831415 0.09066331 0.27347696 0.13838378 0.08409004\n",
      " 0.         0.         0.29760873 0.         0.         0.\n",
      " 0.327172  ]\n"
     ]
    },
    {
     "data": {
      "text/plain": [
       "Text(0, 0.5, 'Error on Vr predicted')"
      ]
     },
     "execution_count": 74,
     "metadata": {},
     "output_type": "execute_result"
    },
    {
     "data": {
      "image/png": "[encoded data removed]",
      "text/plain": [
       "<Figure size 320x320 with 1 Axes>"
      ]
     },
     "metadata": {
      "needs_background": "light"
     },
     "output_type": "display_data"
    }
   ],
   "source": [
    "print(test_preds_2[1:50,1])\n",
    "plt.scatter(X_test[1:100,2], test_preds_2[1:100,1], color = 'red')\n",
    "#plt.errorbar(X_test[1:50,2], test_preds_2[1:50,0], yerr = test_preds_2[1:50,1], color = 'red',ls='none')\n",
    "plt.xlabel('Distance')\n",
    "plt.ylabel('Error on Vr predicted')\n",
    "#does give a relu output...but I'm still not sure if this is exactly showing the error\n"
   ]
  },
  {
   "cell_type": "code",
   "execution_count": null,
   "metadata": {},
   "outputs": [],
   "source": []
  },
  {
   "cell_type": "code",
   "execution_count": null,
   "metadata": {},
   "outputs": [],
   "source": []
  }
 ],
 "metadata": {
  "kernelspec": {
   "display_name": "venv_ML",
   "language": "python",
   "name": "venv_ml"
  },
  "language_info": {
   "codemirror_mode": {
    "name": "ipython",
    "version": 3
   },
   "file_extension": ".py",
   "mimetype": "text/x-python",
   "name": "python",
   "nbconvert_exporter": "python",
   "pygments_lexer": "ipython3",
   "version": "3.6.10"
  }
 },
 "nbformat": 4,
 "nbformat_minor": 4
}
