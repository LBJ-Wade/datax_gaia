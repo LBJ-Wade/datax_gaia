{
 "cells": [
  {
   "cell_type": "code",
   "execution_count": null,
   "metadata": {},
   "outputs": [],
   "source": [
    "#First trial of ML to find radial velocities. Goal is to use regression to extrapolate the velocities. "
   ]
  },
  {
   "cell_type": "code",
   "execution_count": 1,
   "metadata": {},
   "outputs": [],
   "source": [
    "import pandas as pd\n",
    "import numpy as np"
   ]
  },
  {
   "cell_type": "code",
   "execution_count": 2,
   "metadata": {},
   "outputs": [],
   "source": [
    "%matplotlib inline\n",
    "\n",
    "import matplotlib\n",
    "import matplotlib.pyplot as plt"
   ]
  },
  {
   "cell_type": "code",
   "execution_count": 3,
   "metadata": {},
   "outputs": [],
   "source": [
    "# These are just my choices to make the plots look nice\n",
    "plt.rcParams.update({'font.family':'cmr10','font.size': 13})\n",
    "matplotlib.rcParams['axes.unicode_minus']=False\n",
    "matplotlib.rcParams['axes.labelsize']=15\n",
    "plt.rcParams['figure.figsize']=(4,4)\n",
    "plt.rcParams['figure.dpi'] = 80\n",
    "plt.rcParams['mathtext.fontset'] = 'cm'\n",
    "plt.rcParams['mathtext.rm'] = 'serif'\n",
    "plt.rcParams['xtick.direction'] = 'in'\n",
    "plt.rcParams['ytick.direction'] = 'in'\n",
    "plt.rcParams['xtick.top'] = True\n",
    "plt.rcParams['ytick.right'] = True"
   ]
  },
  {
   "cell_type": "code",
   "execution_count": 4,
   "metadata": {},
   "outputs": [],
   "source": [
    "SimulatedStars = pd.read_csv('rave_tgas_cleaned_data.csv',index_col=None)"
   ]
  },
  {
   "cell_type": "code",
   "execution_count": 5,
   "metadata": {},
   "outputs": [
    {
     "data": {
      "text/html": [
       "<div>\n",
       "<style scoped>\n",
       "    .dataframe tbody tr th:only-of-type {\n",
       "        vertical-align: middle;\n",
       "    }\n",
       "\n",
       "    .dataframe tbody tr th {\n",
       "        vertical-align: top;\n",
       "    }\n",
       "\n",
       "    .dataframe thead th {\n",
       "        text-align: right;\n",
       "    }\n",
       "</style>\n",
       "<table border=\"1\" class=\"dataframe\">\n",
       "  <thead>\n",
       "    <tr style=\"text-align: right;\">\n",
       "      <th></th>\n",
       "      <th>Unnamed: 0</th>\n",
       "      <th>ra</th>\n",
       "      <th>dec</th>\n",
       "      <th>b</th>\n",
       "      <th>l</th>\n",
       "      <th>logg</th>\n",
       "      <th>teff</th>\n",
       "      <th>gband</th>\n",
       "      <th>vr</th>\n",
       "      <th>vtheta</th>\n",
       "      <th>...</th>\n",
       "      <th>pmde_err</th>\n",
       "      <th>vU</th>\n",
       "      <th>vV</th>\n",
       "      <th>vW</th>\n",
       "      <th>vU_err</th>\n",
       "      <th>vV_err</th>\n",
       "      <th>vW_err</th>\n",
       "      <th>jband</th>\n",
       "      <th>kband</th>\n",
       "      <th>R_cyl</th>\n",
       "    </tr>\n",
       "  </thead>\n",
       "  <tbody>\n",
       "    <tr>\n",
       "      <th>0</th>\n",
       "      <td>0</td>\n",
       "      <td>160.760542</td>\n",
       "      <td>-13.241389</td>\n",
       "      <td>39.009388</td>\n",
       "      <td>261.198041</td>\n",
       "      <td>4.02</td>\n",
       "      <td>6047.5</td>\n",
       "      <td>11.154045</td>\n",
       "      <td>-22.767779</td>\n",
       "      <td>-8.553811</td>\n",
       "      <td>...</td>\n",
       "      <td>1.109520</td>\n",
       "      <td>2.989305</td>\n",
       "      <td>-26.186428</td>\n",
       "      <td>0.468133</td>\n",
       "      <td>7.397238</td>\n",
       "      <td>2.740294</td>\n",
       "      <td>3.563465</td>\n",
       "      <td>10.313</td>\n",
       "      <td>9.981</td>\n",
       "      <td>8.059333</td>\n",
       "    </tr>\n",
       "    <tr>\n",
       "      <th>1</th>\n",
       "      <td>1</td>\n",
       "      <td>160.258125</td>\n",
       "      <td>-13.640972</td>\n",
       "      <td>38.394644</td>\n",
       "      <td>261.014525</td>\n",
       "      <td>1.92</td>\n",
       "      <td>4777.9</td>\n",
       "      <td>10.940921</td>\n",
       "      <td>-90.714933</td>\n",
       "      <td>13.228575</td>\n",
       "      <td>...</td>\n",
       "      <td>1.039390</td>\n",
       "      <td>59.797612</td>\n",
       "      <td>-69.816238</td>\n",
       "      <td>-28.596837</td>\n",
       "      <td>21.613296</td>\n",
       "      <td>8.263897</td>\n",
       "      <td>9.739697</td>\n",
       "      <td>9.513</td>\n",
       "      <td>8.868</td>\n",
       "      <td>8.191753</td>\n",
       "    </tr>\n",
       "    <tr>\n",
       "      <th>2</th>\n",
       "      <td>2</td>\n",
       "      <td>159.117958</td>\n",
       "      <td>-13.938889</td>\n",
       "      <td>37.476591</td>\n",
       "      <td>260.143047</td>\n",
       "      <td>3.76</td>\n",
       "      <td>5684.4</td>\n",
       "      <td>9.964015</td>\n",
       "      <td>17.192325</td>\n",
       "      <td>-17.679071</td>\n",
       "      <td>...</td>\n",
       "      <td>0.630677</td>\n",
       "      <td>-32.337603</td>\n",
       "      <td>-30.413529</td>\n",
       "      <td>10.738150</td>\n",
       "      <td>2.762826</td>\n",
       "      <td>0.893481</td>\n",
       "      <td>1.207606</td>\n",
       "      <td>9.107</td>\n",
       "      <td>8.738</td>\n",
       "      <td>8.030682</td>\n",
       "    </tr>\n",
       "    <tr>\n",
       "      <th>3</th>\n",
       "      <td>3</td>\n",
       "      <td>159.159667</td>\n",
       "      <td>-13.473472</td>\n",
       "      <td>37.865498</td>\n",
       "      <td>259.816167</td>\n",
       "      <td>3.75</td>\n",
       "      <td>5896.4</td>\n",
       "      <td>9.740564</td>\n",
       "      <td>-19.469996</td>\n",
       "      <td>-8.870117</td>\n",
       "      <td>...</td>\n",
       "      <td>0.576193</td>\n",
       "      <td>4.840963</td>\n",
       "      <td>-15.400051</td>\n",
       "      <td>1.330989</td>\n",
       "      <td>1.266904</td>\n",
       "      <td>0.713310</td>\n",
       "      <td>0.745443</td>\n",
       "      <td>8.843</td>\n",
       "      <td>8.585</td>\n",
       "      <td>8.024455</td>\n",
       "    </tr>\n",
       "    <tr>\n",
       "      <th>4</th>\n",
       "      <td>4</td>\n",
       "      <td>160.152417</td>\n",
       "      <td>-11.347833</td>\n",
       "      <td>40.129253</td>\n",
       "      <td>259.072345</td>\n",
       "      <td>2.50</td>\n",
       "      <td>4867.2</td>\n",
       "      <td>10.547413</td>\n",
       "      <td>3.542314</td>\n",
       "      <td>-11.618539</td>\n",
       "      <td>...</td>\n",
       "      <td>0.690997</td>\n",
       "      <td>-31.966993</td>\n",
       "      <td>-30.385995</td>\n",
       "      <td>4.604890</td>\n",
       "      <td>10.842726</td>\n",
       "      <td>1.868670</td>\n",
       "      <td>4.019525</td>\n",
       "      <td>9.129</td>\n",
       "      <td>8.482</td>\n",
       "      <td>8.166834</td>\n",
       "    </tr>\n",
       "  </tbody>\n",
       "</table>\n",
       "<p>5 rows × 36 columns</p>\n",
       "</div>"
      ],
      "text/plain": [
       "   Unnamed: 0          ra        dec          b           l  logg    teff  \\\n",
       "0           0  160.760542 -13.241389  39.009388  261.198041  4.02  6047.5   \n",
       "1           1  160.258125 -13.640972  38.394644  261.014525  1.92  4777.9   \n",
       "2           2  159.117958 -13.938889  37.476591  260.143047  3.76  5684.4   \n",
       "3           3  159.159667 -13.473472  37.865498  259.816167  3.75  5896.4   \n",
       "4           4  160.152417 -11.347833  40.129253  259.072345  2.50  4867.2   \n",
       "\n",
       "       gband         vr     vtheta  ...  pmde_err         vU         vV  \\\n",
       "0  11.154045 -22.767779  -8.553811  ...  1.109520   2.989305 -26.186428   \n",
       "1  10.940921 -90.714933  13.228575  ...  1.039390  59.797612 -69.816238   \n",
       "2   9.964015  17.192325 -17.679071  ...  0.630677 -32.337603 -30.413529   \n",
       "3   9.740564 -19.469996  -8.870117  ...  0.576193   4.840963 -15.400051   \n",
       "4  10.547413   3.542314 -11.618539  ...  0.690997 -31.966993 -30.385995   \n",
       "\n",
       "          vW     vU_err    vV_err    vW_err   jband  kband     R_cyl  \n",
       "0   0.468133   7.397238  2.740294  3.563465  10.313  9.981  8.059333  \n",
       "1 -28.596837  21.613296  8.263897  9.739697   9.513  8.868  8.191753  \n",
       "2  10.738150   2.762826  0.893481  1.207606   9.107  8.738  8.030682  \n",
       "3   1.330989   1.266904  0.713310  0.745443   8.843  8.585  8.024455  \n",
       "4   4.604890  10.842726  1.868670  4.019525   9.129  8.482  8.166834  \n",
       "\n",
       "[5 rows x 36 columns]"
      ]
     },
     "execution_count": 5,
     "metadata": {},
     "output_type": "execute_result"
    }
   ],
   "source": [
    "SimulatedStars.head()"
   ]
  },
  {
   "cell_type": "code",
   "execution_count": 6,
   "metadata": {},
   "outputs": [
    {
     "data": {
      "text/plain": [
       "Index(['Unnamed: 0', 'ra', 'dec', 'b', 'l', 'logg', 'teff', 'gband', 'vr',\n",
       "       'vtheta', 'vphi', 'vr_err', 'vphi_err', 'vtheta_err', 'z', 'z_err',\n",
       "       'distance', 'distance_err', 'R', 'feH', 'ID', 'hrv', 'hrv_err', 'pmra',\n",
       "       'pmra_err', 'pmde', 'pmde_err', 'vU', 'vV', 'vW', 'vU_err', 'vV_err',\n",
       "       'vW_err', 'jband', 'kband', 'R_cyl'],\n",
       "      dtype='object')"
      ]
     },
     "execution_count": 6,
     "metadata": {},
     "output_type": "execute_result"
    }
   ],
   "source": [
    "SimulatedStars.columns"
   ]
  },
  {
   "cell_type": "code",
   "execution_count": 7,
   "metadata": {},
   "outputs": [
    {
     "data": {
      "text/plain": [
       "(164387, 36)"
      ]
     },
     "execution_count": 7,
     "metadata": {},
     "output_type": "execute_result"
    }
   ],
   "source": [
    "SimulatedStars.shape"
   ]
  },
  {
   "cell_type": "code",
   "execution_count": 8,
   "metadata": {},
   "outputs": [],
   "source": [
    "from sklearn.preprocessing import StandardScaler\n",
    "from sklearn.model_selection import train_test_split"
   ]
  },
  {
   "cell_type": "code",
   "execution_count": 9,
   "metadata": {},
   "outputs": [],
   "source": [
    "# What columns to use?\n",
    "use_cols = ['l', 'b','distance','pmra','pmde']\n",
    "# Make the design matrix\n",
    "X = SimulatedStars[use_cols].values\n",
    "Y = (SimulatedStars['vr']).values"
   ]
  },
  {
   "cell_type": "code",
   "execution_count": 10,
   "metadata": {},
   "outputs": [],
   "source": [
    "X_train, X_test, y_train, y_test = train_test_split(X, Y,\n",
    "                                                    test_size = 0.2,\n",
    "                                                    random_state=42)"
   ]
  },
  {
   "cell_type": "code",
   "execution_count": 11,
   "metadata": {},
   "outputs": [
    {
     "name": "stdout",
     "output_type": "stream",
     "text": [
      "(131509, 5)\n",
      "(131509,)\n",
      "There are 40356.09328778812 stars in the training set\n",
      "\n",
      "(32878, 5)\n",
      "(32878,)\n",
      "There are 6386.546530267198 stars in the test set\n"
     ]
    }
   ],
   "source": [
    "print(X_train.shape)\n",
    "print(y_train.shape)\n",
    "print('There are {0} stars in the training set'.format(np.sum(y_train)))\n",
    "print()\n",
    "print(X_test.shape)\n",
    "print(y_test.shape)\n",
    "print('There are {0} stars in the test set'.format(np.sum(y_test)))"
   ]
  },
  {
   "cell_type": "code",
   "execution_count": 12,
   "metadata": {},
   "outputs": [],
   "source": [
    "# Might need to add in a data preprocessing step here \n",
    "#Either reweighting the radial velocity or training set features have 0 mean and unit variance"
   ]
  },
  {
   "cell_type": "code",
   "execution_count": 13,
   "metadata": {},
   "outputs": [],
   "source": [
    "SS = StandardScaler()\n",
    "X_train = SS.fit_transform(X_train)"
   ]
  },
  {
   "cell_type": "code",
   "execution_count": 14,
   "metadata": {},
   "outputs": [],
   "source": [
    "# Now scale the test data using the same mean and standard deviation as found with the training data\n",
    "X_test = SS.transform(X_test)"
   ]
  },
  {
   "cell_type": "code",
   "execution_count": 15,
   "metadata": {},
   "outputs": [
    {
     "data": {
      "image/png": "[encoded data removed]",
      "text/plain": [
       "<Figure size 480x240 with 2 Axes>"
      ]
     },
     "metadata": {
      "needs_background": "light"
     },
     "output_type": "display_data"
    },
    {
     "data": {
      "image/png": "[encoded data removed]",
      "text/plain": [
       "<Figure size 480x240 with 2 Axes>"
      ]
     },
     "metadata": {
      "needs_background": "light"
     },
     "output_type": "display_data"
    },
    {
     "data": {
      "image/png": "[encoded data removed]",
      "text/plain": [
       "<Figure size 480x240 with 2 Axes>"
      ]
     },
     "metadata": {
      "needs_background": "light"
     },
     "output_type": "display_data"
    },
    {
     "data": {
      "image/png": "[encoded data removed]",
      "text/plain": [
       "<Figure size 480x240 with 2 Axes>"
      ]
     },
     "metadata": {
      "needs_background": "light"
     },
     "output_type": "display_data"
    },
    {
     "data": {
      "image/png": "[encoded data removed]",
      "text/plain": [
       "<Figure size 480x240 with 2 Axes>"
      ]
     },
     "metadata": {
      "needs_background": "light"
     },
     "output_type": "display_data"
    }
   ],
   "source": [
    "#visualize check data\n",
    "for i, col in enumerate(use_cols):\n",
    "    plt.figure(figsize=(6, 3))\n",
    "    plt.subplot(1,2,1)\n",
    "    plt.hist(SimulatedStars[col], bins=100)\n",
    "    plt.yscale('log')\n",
    "    plt.title('Data')\n",
    "    \n",
    "    plt.subplot(1,2,2)\n",
    "    plt.hist(X_train[:, i], bins=100, alpha=0.5)\n",
    "    plt.hist(X_test[:, i], bins=100, alpha=0.5)\n",
    "    plt.yscale('log')\n",
    "    plt.title('Scaled')\n",
    "    \n",
    "    plt.suptitle(col, y=1.01, fontsize=16)\n",
    "    \n",
    "    plt.tight_layout()"
   ]
  },
  {
   "cell_type": "code",
   "execution_count": 16,
   "metadata": {},
   "outputs": [],
   "source": [
    "#Building Classifier "
   ]
  },
  {
   "cell_type": "code",
   "execution_count": 17,
   "metadata": {},
   "outputs": [
    {
     "name": "stderr",
     "output_type": "stream",
     "text": [
      "Using TensorFlow backend.\n"
     ]
    }
   ],
   "source": [
    "from keras.models import Sequential\n",
    "from keras.layers import Dense\n",
    "from keras.callbacks import EarlyStopping, ModelCheckpoint\n",
    "from keras.optimizers import Adam"
   ]
  },
  {
   "cell_type": "code",
   "execution_count": 18,
   "metadata": {},
   "outputs": [],
   "source": [
    "from keras import backend as K"
   ]
  },
  {
   "cell_type": "code",
   "execution_count": 19,
   "metadata": {},
   "outputs": [],
   "source": [
    "def LikelihoodLossFunction(y_true, y_pred):\n",
    "    # shape of y_pred should be (nsamples, 2)\n",
    "    # the first column should be the mean of the prediction\n",
    "    # the second column is the confidence (number of standard deviations)\n",
    "#     print y_true.shape\n",
    "#     print y_pred.shape\n",
    "    SIGMA = K.abs(y_pred[:, 1])\n",
    "    LOC = y_pred[:, 0]\n",
    "    X = y_true[:, 0]\n",
    "    \n",
    "    ARG = K.square(X - LOC) / (2 * K.square(SIGMA))\n",
    "    PREFACT = K.log(K.pow(2 * np.pi * K.square(SIGMA), -0.5))\n",
    "    #you get this from the conditional probability distribution\n",
    "    return K.mean(ARG - PREFACT)\n",
    "    #return K.mean(ARG)\n",
    "#now i'm wondering if somewhere in here I should return SIGMA"
   ]
  },
  {
   "cell_type": "code",
   "execution_count": 20,
   "metadata": {},
   "outputs": [],
   "source": [
    "MyModel = Sequential()\n",
    "MyModel.add(Dense(units=100, activation='relu', input_dim=X_train.shape[1]))\n",
    "MyModel.add(Dense(units=100, activation='relu'))\n",
    "MyModel.add(Dense(units=100, activation='relu'))\n",
    "MyModel.add(Dense(units=2))\n",
    "#using tanh activation function in the last layer\n",
    "#MyModel.compile(loss='mean_squared_error',\n",
    "       #         optimizer='adam'\n",
    "       #       )\n",
    "MyModel.compile(loss=LikelihoodLossFunction,\n",
    "                optimizer='adam'\n",
    "               )"
   ]
  },
  {
   "cell_type": "code",
   "execution_count": 21,
   "metadata": {},
   "outputs": [
    {
     "name": "stdout",
     "output_type": "stream",
     "text": [
      "Model: \"sequential_1\"\n",
      "_________________________________________________________________\n",
      "Layer (type)                 Output Shape              Param #   \n",
      "=================================================================\n",
      "dense_1 (Dense)              (None, 100)               600       \n",
      "_________________________________________________________________\n",
      "dense_2 (Dense)              (None, 100)               10100     \n",
      "_________________________________________________________________\n",
      "dense_3 (Dense)              (None, 100)               10100     \n",
      "_________________________________________________________________\n",
      "dense_4 (Dense)              (None, 2)                 202       \n",
      "=================================================================\n",
      "Total params: 21,002\n",
      "Trainable params: 21,002\n",
      "Non-trainable params: 0\n",
      "_________________________________________________________________\n"
     ]
    }
   ],
   "source": [
    "MyModel.summary()"
   ]
  },
  {
   "cell_type": "code",
   "execution_count": 22,
   "metadata": {},
   "outputs": [],
   "source": [
    "#training any checkpoint or early stopping? \n",
    "es = EarlyStopping(patience=2, restore_best_weights=True)"
   ]
  },
  {
   "cell_type": "code",
   "execution_count": 23,
   "metadata": {},
   "outputs": [
    {
     "name": "stdout",
     "output_type": "stream",
     "text": [
      "131509\n"
     ]
    }
   ],
   "source": [
    "print(y_train.shape[0])"
   ]
  },
  {
   "cell_type": "code",
   "execution_count": 24,
   "metadata": {},
   "outputs": [
    {
     "name": "stdout",
     "output_type": "stream",
     "text": [
      "Train on 105207 samples, validate on 26302 samples\n",
      "Epoch 1/100\n",
      "105207/105207 [==============================] - 1s 7us/step - loss: 1052.4581 - val_loss: 52.3457\n",
      "Epoch 2/100\n",
      "105207/105207 [==============================] - 1s 5us/step - loss: 28.0676 - val_loss: 14.9667\n",
      "Epoch 3/100\n",
      "105207/105207 [==============================] - 1s 5us/step - loss: 10.6023 - val_loss: 7.5032\n",
      "Epoch 4/100\n",
      "105207/105207 [==============================] - 1s 5us/step - loss: 5.7660 - val_loss: 3.9214\n",
      "Epoch 5/100\n",
      "105207/105207 [==============================] - 1s 5us/step - loss: 2.9468 - val_loss: 2.2185\n",
      "Epoch 6/100\n",
      "105207/105207 [==============================] - 1s 5us/step - loss: 1.8496 - val_loss: 1.5316\n",
      "Epoch 7/100\n",
      "105207/105207 [==============================] - 1s 5us/step - loss: 1.3408 - val_loss: 1.1618\n",
      "Epoch 8/100\n",
      "105207/105207 [==============================] - 1s 5us/step - loss: 1.0455 - val_loss: 0.9308\n",
      "Epoch 9/100\n",
      "105207/105207 [==============================] - 1s 5us/step - loss: 0.8522 - val_loss: 0.7717\n",
      "Epoch 10/100\n",
      "105207/105207 [==============================] - 1s 5us/step - loss: 0.7154 - val_loss: 0.6559\n",
      "Epoch 11/100\n",
      "105207/105207 [==============================] - 1s 5us/step - loss: 0.6134 - val_loss: 0.5674\n",
      "Epoch 12/100\n",
      "105207/105207 [==============================] - 1s 6us/step - loss: 0.5345 - val_loss: 0.4978\n",
      "Epoch 13/100\n",
      "105207/105207 [==============================] - 1s 6us/step - loss: 0.4717 - val_loss: 0.4418\n",
      "Epoch 14/100\n",
      "105207/105207 [==============================] - 1s 6us/step - loss: 0.4205 - val_loss: 0.3957\n",
      "Epoch 15/100\n",
      "105207/105207 [==============================] - 1s 6us/step - loss: 0.3780 - val_loss: 0.3570\n",
      "Epoch 16/100\n",
      "105207/105207 [==============================] - 1s 5us/step - loss: 0.3422 - val_loss: 0.3242\n",
      "Epoch 17/100\n",
      "105207/105207 [==============================] - 1s 5us/step - loss: 0.3116 - val_loss: 0.2961\n",
      "Epoch 18/100\n",
      "105207/105207 [==============================] - 1s 5us/step - loss: 0.2853 - val_loss: 0.2717\n",
      "Epoch 19/100\n",
      "105207/105207 [==============================] - 1s 5us/step - loss: 0.2623 - val_loss: 0.2503\n",
      "Epoch 20/100\n",
      "105207/105207 [==============================] - 1s 5us/step - loss: 0.2421 - val_loss: 0.2315\n",
      "Epoch 21/100\n",
      "105207/105207 [==============================] - 1s 5us/step - loss: 0.2241 - val_loss: 0.2147\n",
      "Epoch 22/100\n",
      "105207/105207 [==============================] - 1s 5us/step - loss: 0.2081 - val_loss: 0.1996\n",
      "Epoch 23/100\n",
      "105207/105207 [==============================] - 1s 5us/step - loss: 0.1938 - val_loss: 0.1861\n",
      "Epoch 24/100\n",
      "105207/105207 [==============================] - 1s 5us/step - loss: 0.1809 - val_loss: 0.1740\n",
      "Epoch 25/100\n",
      "105207/105207 [==============================] - 1s 5us/step - loss: 0.1693 - val_loss: 0.1629\n",
      "Epoch 26/100\n",
      "105207/105207 [==============================] - 1s 5us/step - loss: 0.1587 - val_loss: 0.1528\n",
      "Epoch 27/100\n",
      "105207/105207 [==============================] - 1s 5us/step - loss: 0.1490 - val_loss: 0.1437\n",
      "Epoch 28/100\n",
      "105207/105207 [==============================] - 1s 5us/step - loss: 0.1401 - val_loss: 0.1352\n",
      "Epoch 29/100\n",
      "105207/105207 [==============================] - 1s 5us/step - loss: 0.1320 - val_loss: 0.1274\n",
      "Epoch 30/100\n",
      "105207/105207 [==============================] - 1s 5us/step - loss: 0.1245 - val_loss: 0.1203\n",
      "Epoch 31/100\n",
      "105207/105207 [==============================] - 1s 5us/step - loss: 0.1175 - val_loss: 0.1137\n",
      "Epoch 32/100\n",
      "105207/105207 [==============================] - 1s 5us/step - loss: 0.1111 - val_loss: 0.1075\n",
      "Epoch 33/100\n",
      "105207/105207 [==============================] - 1s 5us/step - loss: 0.1052 - val_loss: 0.1018\n",
      "Epoch 34/100\n",
      "105207/105207 [==============================] - 1s 5us/step - loss: 0.0996 - val_loss: 0.0965\n",
      "Epoch 35/100\n",
      "105207/105207 [==============================] - 1s 5us/step - loss: 0.0945 - val_loss: 0.0915\n",
      "Epoch 36/100\n",
      "105207/105207 [==============================] - 1s 5us/step - loss: 0.0896 - val_loss: 0.0869\n",
      "Epoch 37/100\n",
      "105207/105207 [==============================] - 1s 5us/step - loss: 0.0851 - val_loss: 0.0825\n",
      "Epoch 38/100\n",
      "105207/105207 [==============================] - 1s 5us/step - loss: 0.0809 - val_loss: 0.0785\n",
      "Epoch 39/100\n",
      "105207/105207 [==============================] - 1s 5us/step - loss: 0.0769 - val_loss: 0.0746\n",
      "Epoch 40/100\n",
      "105207/105207 [==============================] - 1s 5us/step - loss: 0.0732 - val_loss: 0.0710\n",
      "Epoch 41/100\n",
      "105207/105207 [==============================] - 1s 5us/step - loss: 0.0697 - val_loss: 0.0677\n",
      "Epoch 42/100\n",
      "105207/105207 [==============================] - 1s 6us/step - loss: 0.0664 - val_loss: 0.0645\n",
      "Epoch 43/100\n",
      "105207/105207 [==============================] - 1s 5us/step - loss: 0.0633 - val_loss: 0.0615\n",
      "Epoch 44/100\n",
      "105207/105207 [==============================] - 1s 5us/step - loss: 0.0603 - val_loss: 0.0586\n",
      "Epoch 45/100\n",
      "105207/105207 [==============================] - 1s 5us/step - loss: 0.0575 - val_loss: 0.0559\n",
      "Epoch 46/100\n",
      "105207/105207 [==============================] - 1s 5us/step - loss: 0.0549 - val_loss: 0.0534\n",
      "Epoch 47/100\n",
      "105207/105207 [==============================] - 1s 5us/step - loss: 0.0524 - val_loss: 0.0509\n",
      "Epoch 48/100\n",
      "105207/105207 [==============================] - 1s 5us/step - loss: 0.0500 - val_loss: 0.0486\n",
      "Epoch 49/100\n",
      "105207/105207 [==============================] - 1s 5us/step - loss: 0.0477 - val_loss: 0.0461\n",
      "Epoch 50/100\n",
      "105207/105207 [==============================] - 1s 5us/step - loss: 0.0445 - val_loss: 0.0422\n",
      "Epoch 51/100\n",
      "105207/105207 [==============================] - 1s 5us/step - loss: 0.0405 - val_loss: 0.0383\n",
      "Epoch 52/100\n",
      "105207/105207 [==============================] - 1s 5us/step - loss: 0.0368 - val_loss: 0.0348\n",
      "Epoch 53/100\n",
      "105207/105207 [==============================] - 1s 5us/step - loss: 0.0335 - val_loss: 0.0318\n",
      "Epoch 54/100\n",
      "105207/105207 [==============================] - 1s 5us/step - loss: 0.0306 - val_loss: 0.0291\n",
      "Epoch 55/100\n",
      "105207/105207 [==============================] - 1s 5us/step - loss: 0.0282 - val_loss: 0.0268\n",
      "Epoch 56/100\n",
      "105207/105207 [==============================] - 1s 5us/step - loss: 0.0260 - val_loss: 0.0248\n",
      "Epoch 57/100\n",
      "105207/105207 [==============================] - 1s 5us/step - loss: 0.0241 - val_loss: 0.0231\n",
      "Epoch 58/100\n",
      "105207/105207 [==============================] - 1s 5us/step - loss: 0.0224 - val_loss: 0.0215\n",
      "Epoch 59/100\n",
      "105207/105207 [==============================] - 1s 5us/step - loss: 0.0209 - val_loss: 0.0201\n",
      "Epoch 60/100\n",
      "105207/105207 [==============================] - 1s 5us/step - loss: 0.0196 - val_loss: 0.0188\n",
      "Epoch 61/100\n",
      "105207/105207 [==============================] - 1s 5us/step - loss: 0.0184 - val_loss: 0.0177\n",
      "Epoch 62/100\n",
      "105207/105207 [==============================] - 1s 5us/step - loss: 0.0173 - val_loss: 0.0166\n",
      "Epoch 63/100\n",
      "105207/105207 [==============================] - 1s 5us/step - loss: 0.0163 - val_loss: 0.0157\n",
      "Epoch 64/100\n",
      "105207/105207 [==============================] - 1s 5us/step - loss: 0.0154 - val_loss: 0.0148\n",
      "Epoch 65/100\n",
      "105207/105207 [==============================] - 1s 5us/step - loss: 0.0145 - val_loss: 0.0140\n",
      "Epoch 66/100\n",
      "105207/105207 [==============================] - 1s 5us/step - loss: 0.0137 - val_loss: 0.0132\n",
      "Epoch 67/100\n",
      "105207/105207 [==============================] - 1s 5us/step - loss: 0.0130 - val_loss: 0.0125\n",
      "Epoch 68/100\n",
      "105207/105207 [==============================] - 1s 5us/step - loss: 0.0123 - val_loss: 0.0119\n",
      "Epoch 69/100\n",
      "105207/105207 [==============================] - 1s 5us/step - loss: 0.0117 - val_loss: 0.0113\n",
      "Epoch 70/100\n",
      "105207/105207 [==============================] - 1s 5us/step - loss: 0.0111 - val_loss: 0.0107\n",
      "Epoch 71/100\n",
      "105207/105207 [==============================] - 1s 5us/step - loss: 0.0105 - val_loss: 0.0102\n",
      "Epoch 72/100\n",
      "105207/105207 [==============================] - 1s 5us/step - loss: 0.0100 - val_loss: 0.0096\n",
      "Epoch 73/100\n",
      "105207/105207 [==============================] - 1s 5us/step - loss: 0.0095 - val_loss: 0.0092\n",
      "Epoch 74/100\n",
      "105207/105207 [==============================] - 1s 5us/step - loss: 0.0090 - val_loss: 0.0087\n",
      "Epoch 75/100\n",
      "105207/105207 [==============================] - 1s 5us/step - loss: 0.0086 - val_loss: 0.0083\n",
      "Epoch 76/100\n",
      "105207/105207 [==============================] - 1s 5us/step - loss: 0.0081 - val_loss: 0.0079\n",
      "Epoch 77/100\n",
      "105207/105207 [==============================] - 1s 5us/step - loss: 0.0078 - val_loss: 0.0075\n",
      "Epoch 78/100\n",
      "105207/105207 [==============================] - 1s 5us/step - loss: 0.0074 - val_loss: 0.0071\n",
      "Epoch 79/100\n",
      "105207/105207 [==============================] - 1s 5us/step - loss: 0.0070 - val_loss: 0.0068\n",
      "Epoch 80/100\n",
      "105207/105207 [==============================] - 1s 5us/step - loss: 0.0067 - val_loss: 0.0065\n",
      "Epoch 81/100\n",
      "105207/105207 [==============================] - 1s 5us/step - loss: 0.0064 - val_loss: 0.0062\n",
      "Epoch 82/100\n",
      "105207/105207 [==============================] - 1s 5us/step - loss: 0.0061 - val_loss: 0.0059\n",
      "Epoch 83/100\n",
      "105207/105207 [==============================] - 1s 5us/step - loss: 0.0058 - val_loss: 0.0056\n",
      "Epoch 84/100\n",
      "105207/105207 [==============================] - 1s 5us/step - loss: 0.0055 - val_loss: 0.0053\n",
      "Epoch 85/100\n",
      "105207/105207 [==============================] - 1s 5us/step - loss: 0.0053 - val_loss: 0.0051\n",
      "Epoch 86/100\n",
      "105207/105207 [==============================] - 1s 5us/step - loss: 0.0050 - val_loss: 0.0049\n",
      "Epoch 87/100\n",
      "105207/105207 [==============================] - 1s 5us/step - loss: 0.0048 - val_loss: 0.0046\n",
      "Epoch 88/100\n",
      "105207/105207 [==============================] - 1s 5us/step - loss: 0.0046 - val_loss: 0.0044\n",
      "Epoch 89/100\n",
      "105207/105207 [==============================] - 1s 5us/step - loss: 0.0043 - val_loss: 0.0042\n",
      "Epoch 90/100\n",
      "105207/105207 [==============================] - 1s 5us/step - loss: 0.0041 - val_loss: 0.0040\n",
      "Epoch 91/100\n",
      "105207/105207 [==============================] - 1s 5us/step - loss: 0.0039 - val_loss: 0.0038\n",
      "Epoch 92/100\n",
      "105207/105207 [==============================] - 1s 5us/step - loss: 0.0038 - val_loss: 0.0036\n",
      "Epoch 93/100\n",
      "105207/105207 [==============================] - 1s 5us/step - loss: 0.0036 - val_loss: 0.0035\n",
      "Epoch 94/100\n",
      "105207/105207 [==============================] - 1s 5us/step - loss: 0.0034 - val_loss: 0.0033\n",
      "Epoch 95/100\n",
      "105207/105207 [==============================] - 1s 5us/step - loss: 0.0033 - val_loss: 0.0031\n",
      "Epoch 96/100\n",
      "105207/105207 [==============================] - 1s 5us/step - loss: 0.0031 - val_loss: 0.0030\n",
      "Epoch 97/100\n",
      "105207/105207 [==============================] - 1s 5us/step - loss: 0.0030 - val_loss: 0.0029\n",
      "Epoch 98/100\n",
      "105207/105207 [==============================] - 1s 5us/step - loss: 0.0028 - val_loss: 0.0027\n",
      "Epoch 99/100\n",
      "105207/105207 [==============================] - 1s 5us/step - loss: 0.0027 - val_loss: 0.0026\n",
      "Epoch 100/100\n",
      "105207/105207 [==============================] - 1s 5us/step - loss: 0.0026 - val_loss: 0.0025\n"
     ]
    }
   ],
   "source": [
    "history = MyModel.fit(X_train,np.vstack([y_train,\n",
    "                                  np.ones(y_train.shape[0])\n",
    "                                  ]).T,\n",
    "                      validation_split=0.2,\n",
    "                      epochs=100,\n",
    "                      batch_size=1000,\n",
    "                      callbacks = [es]\n",
    "                     )\n",
    "#I think in adding the second column to the y_training values that is all 1s can give us an estimate of the error..."
   ]
  },
  {
   "cell_type": "code",
   "execution_count": 25,
   "metadata": {},
   "outputs": [
    {
     "data": {
      "image/png": "[encoded data removed]",
      "text/plain": [
       "<Figure size 320x320 with 1 Axes>"
      ]
     },
     "metadata": {
      "needs_background": "light"
     },
     "output_type": "display_data"
    }
   ],
   "source": [
    "plt.plot(history.history['loss'])\n",
    "plt.plot(history.history['val_loss'])\n",
    "plt.yscale('log')\n",
    "plt.xlabel('Epochs')\n",
    "plt.ylabel('Likelihood Loss Function')\n",
    "plt.legend(['Train', 'Validation'])\n",
    "plt.show()"
   ]
  },
  {
   "cell_type": "code",
   "execution_count": 26,
   "metadata": {},
   "outputs": [
    {
     "name": "stdout",
     "output_type": "stream",
     "text": [
      "[ 649.2229   415.08966  389.6923   312.60074  586.36725  182.73174\n",
      "  348.35098  572.6607   356.00607 1497.6156   807.0217   573.74866\n",
      "  460.7266   750.2875  1030.2565   547.7125   272.6672  1533.1858\n",
      " 1379.8685   356.0932   497.9498   771.6482   593.2471   611.5178\n",
      "  586.5533  1142.2216   386.0159   792.6915  1737.9016   747.25464\n",
      "  387.15567  315.57935  366.971   1266.7874  2291.346    451.2871\n",
      "  289.87073  366.76462  385.86633 1944.2095  1067.7992   675.38007\n",
      "  770.89197 1588.1265   828.36993  274.99045 1212.5416   345.13574\n",
      "  526.442   1882.6654   373.0019   523.1532  1557.8467   874.38947\n",
      "  540.2521  1760.3021  1360.5306   221.72852  312.28638  348.20987\n",
      " 2754.0203   676.35803  372.20493  674.76715  437.12726 1928.7694\n",
      " 1437.932    480.98038  395.437    761.4961   834.5377  1068.3759\n",
      " 1101.2793   957.04395 1699.7738   680.0809  1362.4823  2245.0664\n",
      "  493.3049   842.1377   259.7643   368.68832  674.84424  496.88998\n",
      " 1073.386   1484.0433  1199.5767   168.08144  260.07297  198.73685\n",
      " 1011.6949   667.8902   436.30463  777.6709  1168.6385   319.00308\n",
      "  410.1641  1010.495    417.0874 ]\n"
     ]
    }
   ],
   "source": [
    "# predict the scores for the test set, then histogram them based on the real labels\n",
    "test_preds = MyModel.predict(X_test)\n",
    "print(test_preds[1:100,1])"
   ]
  },
  {
   "cell_type": "code",
   "execution_count": 27,
   "metadata": {},
   "outputs": [
    {
     "data": {
      "image/png": "[encoded data removed]",
      "text/plain": [
       "<Figure size 320x320 with 1 Axes>"
      ]
     },
     "metadata": {
      "needs_background": "light"
     },
     "output_type": "display_data"
    }
   ],
   "source": [
    "plt.hist(test_preds[:,0], bins=50, range=(-200,200), histtype='step')\n",
    "plt.hist(y_test, bins=50, range=(-200,200), histtype='step')\n",
    "plt.xlabel('Vr')\n",
    "plt.ylabel('Stars')\n",
    "plt.title('Test set - simulated data')\n",
    "plt.yscale('log')\n",
    "plt.show()\n"
   ]
  },
  {
   "cell_type": "code",
   "execution_count": 34,
   "metadata": {},
   "outputs": [
    {
     "data": {
      "text/plain": [
       "<matplotlib.collections.PathCollection at 0x2b3ffcf00160>"
      ]
     },
     "execution_count": 34,
     "metadata": {},
     "output_type": "execute_result"
    },
    {
     "data": {
      "image/png": "[encoded data removed]",
      "text/plain": [
       "<Figure size 320x320 with 1 Axes>"
      ]
     },
     "metadata": {
      "needs_background": "light"
     },
     "output_type": "display_data"
    }
   ],
   "source": [
    "plt.scatter(X_test[:,0], test_preds[:,1])"
   ]
  },
  {
   "cell_type": "code",
   "execution_count": 31,
   "metadata": {},
   "outputs": [
    {
     "data": {
      "text/plain": [
       "Text(0, 0.5, 'Vr real')"
      ]
     },
     "execution_count": 31,
     "metadata": {},
     "output_type": "execute_result"
    },
    {
     "data": {
      "image/png": "[encoded data removed]",
      "text/plain": [
       "<Figure size 320x320 with 1 Axes>"
      ]
     },
     "metadata": {
      "needs_background": "light"
     },
     "output_type": "display_data"
    }
   ],
   "source": [
    "plt.scatter(test_preds[:,0],y_test)\n",
    "plt.xlabel('Vr predicted')\n",
    "plt.ylabel('Vr real')"
   ]
  },
  {
   "cell_type": "code",
   "execution_count": 5,
   "metadata": {},
   "outputs": [],
   "source": [
    "def ConstantLikelihoodFunction(y_true, y_pred):\n",
    "    # shape of y_pred should be (nsamples, 2)\n",
    "    # the first column should be the mean of the prediction\n",
    "    # the second column is the confidence (number of standard deviations)\n",
    "#     print y_true.shape\n",
    "#     print y_pred.shape\n",
    "    LOC = y_pred[:, 0]\n",
    "    X = y_true[:, 0]\n",
    "    ARG = -K.square(X - LOC) / (2.0)\n",
    "    return K.mean(-ARG)"
   ]
  },
  {
   "cell_type": "code",
   "execution_count": null,
   "metadata": {},
   "outputs": [],
   "source": []
  }
 ],
 "metadata": {
  "kernelspec": {
   "display_name": "venv_ML",
   "language": "python",
   "name": "venv_ml"
  },
  "language_info": {
   "codemirror_mode": {
    "name": "ipython",
    "version": 3
   },
   "file_extension": ".py",
   "mimetype": "text/x-python",
   "name": "python",
   "nbconvert_exporter": "python",
   "pygments_lexer": "ipython3",
   "version": "3.6.10"
  }
 },
 "nbformat": 4,
 "nbformat_minor": 4
}
