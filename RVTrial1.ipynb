{
 "cells": [
  {
   "cell_type": "code",
   "execution_count": null,
   "metadata": {},
   "outputs": [],
   "source": [
    "#First trial of ML to find radial velocities. Goal is to use regression to extrapolate the velocities. "
   ]
  },
  {
   "cell_type": "code",
   "execution_count": 1,
   "metadata": {},
   "outputs": [],
   "source": [
    "import pandas as pd\n",
    "import numpy as np"
   ]
  },
  {
   "cell_type": "code",
   "execution_count": 2,
   "metadata": {},
   "outputs": [],
   "source": [
    "%matplotlib inline\n",
    "\n",
    "import matplotlib\n",
    "import matplotlib.pyplot as plt"
   ]
  },
  {
   "cell_type": "code",
   "execution_count": 3,
   "metadata": {},
   "outputs": [],
   "source": [
    "# These are just my choices to make the plots look nice\n",
    "plt.rcParams.update({'font.family':'cmr10','font.size': 13})\n",
    "matplotlib.rcParams['axes.unicode_minus']=False\n",
    "matplotlib.rcParams['axes.labelsize']=15\n",
    "plt.rcParams['figure.figsize']=(4,4)\n",
    "plt.rcParams['figure.dpi'] = 80\n",
    "plt.rcParams['mathtext.fontset'] = 'cm'\n",
    "plt.rcParams['mathtext.rm'] = 'serif'\n",
    "plt.rcParams['xtick.direction'] = 'in'\n",
    "plt.rcParams['ytick.direction'] = 'in'\n",
    "plt.rcParams['xtick.top'] = True\n",
    "plt.rcParams['ytick.right'] = True"
   ]
  },
  {
   "cell_type": "code",
   "execution_count": 4,
   "metadata": {},
   "outputs": [],
   "source": [
    "SimulatedStars = pd.read_csv('rave_tgas_cleaned_data.csv',index_col=None)"
   ]
  },
  {
   "cell_type": "code",
   "execution_count": 5,
   "metadata": {},
   "outputs": [
    {
     "data": {
      "text/html": [
       "<div>\n",
       "<style scoped>\n",
       "    .dataframe tbody tr th:only-of-type {\n",
       "        vertical-align: middle;\n",
       "    }\n",
       "\n",
       "    .dataframe tbody tr th {\n",
       "        vertical-align: top;\n",
       "    }\n",
       "\n",
       "    .dataframe thead th {\n",
       "        text-align: right;\n",
       "    }\n",
       "</style>\n",
       "<table border=\"1\" class=\"dataframe\">\n",
       "  <thead>\n",
       "    <tr style=\"text-align: right;\">\n",
       "      <th></th>\n",
       "      <th>Unnamed: 0</th>\n",
       "      <th>ra</th>\n",
       "      <th>dec</th>\n",
       "      <th>b</th>\n",
       "      <th>l</th>\n",
       "      <th>logg</th>\n",
       "      <th>teff</th>\n",
       "      <th>gband</th>\n",
       "      <th>vr</th>\n",
       "      <th>vtheta</th>\n",
       "      <th>...</th>\n",
       "      <th>pmde_err</th>\n",
       "      <th>vU</th>\n",
       "      <th>vV</th>\n",
       "      <th>vW</th>\n",
       "      <th>vU_err</th>\n",
       "      <th>vV_err</th>\n",
       "      <th>vW_err</th>\n",
       "      <th>jband</th>\n",
       "      <th>kband</th>\n",
       "      <th>R_cyl</th>\n",
       "    </tr>\n",
       "  </thead>\n",
       "  <tbody>\n",
       "    <tr>\n",
       "      <th>0</th>\n",
       "      <td>0</td>\n",
       "      <td>160.760542</td>\n",
       "      <td>-13.241389</td>\n",
       "      <td>39.009388</td>\n",
       "      <td>261.198041</td>\n",
       "      <td>4.02</td>\n",
       "      <td>6047.5</td>\n",
       "      <td>11.154045</td>\n",
       "      <td>-22.767779</td>\n",
       "      <td>-8.553811</td>\n",
       "      <td>...</td>\n",
       "      <td>1.109520</td>\n",
       "      <td>2.989305</td>\n",
       "      <td>-26.186428</td>\n",
       "      <td>0.468133</td>\n",
       "      <td>7.397238</td>\n",
       "      <td>2.740294</td>\n",
       "      <td>3.563465</td>\n",
       "      <td>10.313</td>\n",
       "      <td>9.981</td>\n",
       "      <td>8.059333</td>\n",
       "    </tr>\n",
       "    <tr>\n",
       "      <th>1</th>\n",
       "      <td>1</td>\n",
       "      <td>160.258125</td>\n",
       "      <td>-13.640972</td>\n",
       "      <td>38.394644</td>\n",
       "      <td>261.014525</td>\n",
       "      <td>1.92</td>\n",
       "      <td>4777.9</td>\n",
       "      <td>10.940921</td>\n",
       "      <td>-90.714933</td>\n",
       "      <td>13.228575</td>\n",
       "      <td>...</td>\n",
       "      <td>1.039390</td>\n",
       "      <td>59.797612</td>\n",
       "      <td>-69.816238</td>\n",
       "      <td>-28.596837</td>\n",
       "      <td>21.613296</td>\n",
       "      <td>8.263897</td>\n",
       "      <td>9.739697</td>\n",
       "      <td>9.513</td>\n",
       "      <td>8.868</td>\n",
       "      <td>8.191753</td>\n",
       "    </tr>\n",
       "    <tr>\n",
       "      <th>2</th>\n",
       "      <td>2</td>\n",
       "      <td>159.117958</td>\n",
       "      <td>-13.938889</td>\n",
       "      <td>37.476591</td>\n",
       "      <td>260.143047</td>\n",
       "      <td>3.76</td>\n",
       "      <td>5684.4</td>\n",
       "      <td>9.964015</td>\n",
       "      <td>17.192325</td>\n",
       "      <td>-17.679071</td>\n",
       "      <td>...</td>\n",
       "      <td>0.630677</td>\n",
       "      <td>-32.337603</td>\n",
       "      <td>-30.413529</td>\n",
       "      <td>10.738150</td>\n",
       "      <td>2.762826</td>\n",
       "      <td>0.893481</td>\n",
       "      <td>1.207606</td>\n",
       "      <td>9.107</td>\n",
       "      <td>8.738</td>\n",
       "      <td>8.030682</td>\n",
       "    </tr>\n",
       "    <tr>\n",
       "      <th>3</th>\n",
       "      <td>3</td>\n",
       "      <td>159.159667</td>\n",
       "      <td>-13.473472</td>\n",
       "      <td>37.865498</td>\n",
       "      <td>259.816167</td>\n",
       "      <td>3.75</td>\n",
       "      <td>5896.4</td>\n",
       "      <td>9.740564</td>\n",
       "      <td>-19.469996</td>\n",
       "      <td>-8.870117</td>\n",
       "      <td>...</td>\n",
       "      <td>0.576193</td>\n",
       "      <td>4.840963</td>\n",
       "      <td>-15.400051</td>\n",
       "      <td>1.330989</td>\n",
       "      <td>1.266904</td>\n",
       "      <td>0.713310</td>\n",
       "      <td>0.745443</td>\n",
       "      <td>8.843</td>\n",
       "      <td>8.585</td>\n",
       "      <td>8.024455</td>\n",
       "    </tr>\n",
       "    <tr>\n",
       "      <th>4</th>\n",
       "      <td>4</td>\n",
       "      <td>160.152417</td>\n",
       "      <td>-11.347833</td>\n",
       "      <td>40.129253</td>\n",
       "      <td>259.072345</td>\n",
       "      <td>2.50</td>\n",
       "      <td>4867.2</td>\n",
       "      <td>10.547413</td>\n",
       "      <td>3.542314</td>\n",
       "      <td>-11.618539</td>\n",
       "      <td>...</td>\n",
       "      <td>0.690997</td>\n",
       "      <td>-31.966993</td>\n",
       "      <td>-30.385995</td>\n",
       "      <td>4.604890</td>\n",
       "      <td>10.842726</td>\n",
       "      <td>1.868670</td>\n",
       "      <td>4.019525</td>\n",
       "      <td>9.129</td>\n",
       "      <td>8.482</td>\n",
       "      <td>8.166834</td>\n",
       "    </tr>\n",
       "  </tbody>\n",
       "</table>\n",
       "<p>5 rows × 36 columns</p>\n",
       "</div>"
      ],
      "text/plain": [
       "   Unnamed: 0          ra        dec          b           l  logg    teff  \\\n",
       "0           0  160.760542 -13.241389  39.009388  261.198041  4.02  6047.5   \n",
       "1           1  160.258125 -13.640972  38.394644  261.014525  1.92  4777.9   \n",
       "2           2  159.117958 -13.938889  37.476591  260.143047  3.76  5684.4   \n",
       "3           3  159.159667 -13.473472  37.865498  259.816167  3.75  5896.4   \n",
       "4           4  160.152417 -11.347833  40.129253  259.072345  2.50  4867.2   \n",
       "\n",
       "       gband         vr     vtheta  ...  pmde_err         vU         vV  \\\n",
       "0  11.154045 -22.767779  -8.553811  ...  1.109520   2.989305 -26.186428   \n",
       "1  10.940921 -90.714933  13.228575  ...  1.039390  59.797612 -69.816238   \n",
       "2   9.964015  17.192325 -17.679071  ...  0.630677 -32.337603 -30.413529   \n",
       "3   9.740564 -19.469996  -8.870117  ...  0.576193   4.840963 -15.400051   \n",
       "4  10.547413   3.542314 -11.618539  ...  0.690997 -31.966993 -30.385995   \n",
       "\n",
       "          vW     vU_err    vV_err    vW_err   jband  kband     R_cyl  \n",
       "0   0.468133   7.397238  2.740294  3.563465  10.313  9.981  8.059333  \n",
       "1 -28.596837  21.613296  8.263897  9.739697   9.513  8.868  8.191753  \n",
       "2  10.738150   2.762826  0.893481  1.207606   9.107  8.738  8.030682  \n",
       "3   1.330989   1.266904  0.713310  0.745443   8.843  8.585  8.024455  \n",
       "4   4.604890  10.842726  1.868670  4.019525   9.129  8.482  8.166834  \n",
       "\n",
       "[5 rows x 36 columns]"
      ]
     },
     "execution_count": 5,
     "metadata": {},
     "output_type": "execute_result"
    }
   ],
   "source": [
    "SimulatedStars.head()"
   ]
  },
  {
   "cell_type": "code",
   "execution_count": 6,
   "metadata": {},
   "outputs": [
    {
     "data": {
      "text/plain": [
       "Index(['Unnamed: 0', 'ra', 'dec', 'b', 'l', 'logg', 'teff', 'gband', 'vr',\n",
       "       'vtheta', 'vphi', 'vr_err', 'vphi_err', 'vtheta_err', 'z', 'z_err',\n",
       "       'distance', 'distance_err', 'R', 'feH', 'ID', 'hrv', 'hrv_err', 'pmra',\n",
       "       'pmra_err', 'pmde', 'pmde_err', 'vU', 'vV', 'vW', 'vU_err', 'vV_err',\n",
       "       'vW_err', 'jband', 'kband', 'R_cyl'],\n",
       "      dtype='object')"
      ]
     },
     "execution_count": 6,
     "metadata": {},
     "output_type": "execute_result"
    }
   ],
   "source": [
    "SimulatedStars.columns"
   ]
  },
  {
   "cell_type": "code",
   "execution_count": 7,
   "metadata": {},
   "outputs": [
    {
     "data": {
      "text/plain": [
       "(164387, 36)"
      ]
     },
     "execution_count": 7,
     "metadata": {},
     "output_type": "execute_result"
    }
   ],
   "source": [
    "SimulatedStars.shape"
   ]
  },
  {
   "cell_type": "code",
   "execution_count": 8,
   "metadata": {},
   "outputs": [],
   "source": [
    "from sklearn.preprocessing import StandardScaler\n",
    "from sklearn.model_selection import train_test_split"
   ]
  },
  {
   "cell_type": "code",
   "execution_count": 9,
   "metadata": {},
   "outputs": [],
   "source": [
    "# What columns to use?\n",
    "use_cols = ['l', 'b','distance','pmra','pmde']\n",
    "# Make the design matrix\n",
    "X = SimulatedStars[use_cols].values\n",
    "Y = (SimulatedStars['vr']).values"
   ]
  },
  {
   "cell_type": "code",
   "execution_count": 10,
   "metadata": {},
   "outputs": [],
   "source": [
    "X_train, X_test, y_train, y_test = train_test_split(X, Y,\n",
    "                                                    test_size = 0.2,\n",
    "                                                    random_state=42)"
   ]
  },
  {
   "cell_type": "code",
   "execution_count": 11,
   "metadata": {},
   "outputs": [
    {
     "name": "stdout",
     "output_type": "stream",
     "text": [
      "(131509, 5)\n",
      "(131509,)\n",
      "There are 40356.09328778812 stars in the training set\n",
      "\n",
      "(32878, 5)\n",
      "(32878,)\n",
      "There are 6386.546530267198 stars in the test set\n"
     ]
    }
   ],
   "source": [
    "print(X_train.shape)\n",
    "print(y_train.shape)\n",
    "print('There are {0} stars in the training set'.format(np.sum(y_train)))\n",
    "print()\n",
    "print(X_test.shape)\n",
    "print(y_test.shape)\n",
    "print('There are {0} stars in the test set'.format(np.sum(y_test)))"
   ]
  },
  {
   "cell_type": "code",
   "execution_count": 12,
   "metadata": {},
   "outputs": [],
   "source": [
    "# Might need to add in a data preprocessing step here \n",
    "#Either reweighting the radial velocity or training set features have 0 mean and unit variance"
   ]
  },
  {
   "cell_type": "code",
   "execution_count": 13,
   "metadata": {},
   "outputs": [],
   "source": [
    "SS = StandardScaler()\n",
    "X_train = SS.fit_transform(X_train)"
   ]
  },
  {
   "cell_type": "code",
   "execution_count": 14,
   "metadata": {},
   "outputs": [],
   "source": [
    "# Now scale the test data using the same mean and standard deviation as found with the training data\n",
    "X_test = SS.transform(X_test)"
   ]
  },
  {
   "cell_type": "code",
   "execution_count": 15,
   "metadata": {},
   "outputs": [
    {
     "data": {
      "image/png": "[encoded data removed]",
      "text/plain": [
       "<Figure size 480x240 with 2 Axes>"
      ]
     },
     "metadata": {
      "needs_background": "light"
     },
     "output_type": "display_data"
    },
    {
     "data": {
      "image/png": "[encoded data removed]",
      "text/plain": [
       "<Figure size 480x240 with 2 Axes>"
      ]
     },
     "metadata": {
      "needs_background": "light"
     },
     "output_type": "display_data"
    },
    {
     "data": {
      "image/png": "[encoded data removed]",
      "text/plain": [
       "<Figure size 480x240 with 2 Axes>"
      ]
     },
     "metadata": {
      "needs_background": "light"
     },
     "output_type": "display_data"
    },
    {
     "data": {
      "image/png": "[encoded data removed]",
      "text/plain": [
       "<Figure size 480x240 with 2 Axes>"
      ]
     },
     "metadata": {
      "needs_background": "light"
     },
     "output_type": "display_data"
    },
    {
     "data": {
      "image/png": "[encoded data removed]",
      "text/plain": [
       "<Figure size 480x240 with 2 Axes>"
      ]
     },
     "metadata": {
      "needs_background": "light"
     },
     "output_type": "display_data"
    }
   ],
   "source": [
    "#visualize check data\n",
    "for i, col in enumerate(use_cols):\n",
    "    plt.figure(figsize=(6, 3))\n",
    "    plt.subplot(1,2,1)\n",
    "    plt.hist(SimulatedStars[col], bins=100)\n",
    "    plt.yscale('log')\n",
    "    plt.title('Data')\n",
    "    \n",
    "    plt.subplot(1,2,2)\n",
    "    plt.hist(X_train[:, i], bins=100, alpha=0.5)\n",
    "    plt.hist(X_test[:, i], bins=100, alpha=0.5)\n",
    "    plt.yscale('log')\n",
    "    plt.title('Scaled')\n",
    "    \n",
    "    plt.suptitle(col, y=1.01, fontsize=16)\n",
    "    \n",
    "    plt.tight_layout()"
   ]
  },
  {
   "cell_type": "code",
   "execution_count": 16,
   "metadata": {},
   "outputs": [],
   "source": [
    "#Building Classifier "
   ]
  },
  {
   "cell_type": "code",
   "execution_count": 17,
   "metadata": {},
   "outputs": [
    {
     "name": "stderr",
     "output_type": "stream",
     "text": [
      "Using TensorFlow backend.\n"
     ]
    }
   ],
   "source": [
    "from keras.models import Sequential\n",
    "from keras.layers import Dense\n",
    "from keras.callbacks import EarlyStopping, ModelCheckpoint\n",
    "from keras.optimizers import Adam"
   ]
  },
  {
   "cell_type": "code",
   "execution_count": 18,
   "metadata": {},
   "outputs": [],
   "source": [
    "from keras import backend as K"
   ]
  },
  {
   "cell_type": "code",
   "execution_count": 19,
   "metadata": {},
   "outputs": [],
   "source": [
    "def LikelihoodLossFunction(y_true, y_pred):\n",
    "    # shape of y_pred should be (nsamples, 2)\n",
    "    # the first column should be the mean of the prediction\n",
    "    # the second column is the confidence (number of standard deviations)\n",
    "#     print y_true.shape\n",
    "#     print y_pred.shape\n",
    "    SIGMA = K.abs(y_pred[:, 1])\n",
    "    LOC = y_pred[:, 0]\n",
    "    X = y_true[:, 0]\n",
    "    \n",
    "    ARG = K.square(X - LOC) / (2 * K.square(SIGMA))\n",
    "    PREFACT = K.log(K.pow(2 * np.pi * K.square(SIGMA), -0.5))\n",
    "    #you get this from the conditional probability distribution\n",
    "    return K.mean(ARG - PREFACT)\n",
    "    #return K.mean(ARG)\n",
    "#now i'm wondering if somewhere in here I should return SIGMA"
   ]
  },
  {
   "cell_type": "code",
   "execution_count": 20,
   "metadata": {},
   "outputs": [],
   "source": [
    "MyModel = Sequential()\n",
    "MyModel.add(Dense(units=100, activation='relu', input_dim=X_train.shape[1]))\n",
    "MyModel.add(Dense(units=100, activation='relu'))\n",
    "MyModel.add(Dense(units=100, activation='relu'))\n",
    "MyModel.add(Dense(units=2))\n",
    "#using tanh activation function in the last layer\n",
    "#MyModel.compile(loss='mean_squared_error',\n",
    "       #         optimizer='adam'\n",
    "       #       )\n",
    "MyModel.compile(loss=LikelihoodLossFunction,\n",
    "                optimizer='adam'\n",
    "               )"
   ]
  },
  {
   "cell_type": "code",
   "execution_count": 21,
   "metadata": {},
   "outputs": [
    {
     "name": "stdout",
     "output_type": "stream",
     "text": [
      "Model: \"sequential_1\"\n",
      "_________________________________________________________________\n",
      "Layer (type)                 Output Shape              Param #   \n",
      "=================================================================\n",
      "dense_1 (Dense)              (None, 100)               600       \n",
      "_________________________________________________________________\n",
      "dense_2 (Dense)              (None, 100)               10100     \n",
      "_________________________________________________________________\n",
      "dense_3 (Dense)              (None, 100)               10100     \n",
      "_________________________________________________________________\n",
      "dense_4 (Dense)              (None, 2)                 202       \n",
      "=================================================================\n",
      "Total params: 21,002\n",
      "Trainable params: 21,002\n",
      "Non-trainable params: 0\n",
      "_________________________________________________________________\n"
     ]
    }
   ],
   "source": [
    "MyModel.summary()"
   ]
  },
  {
   "cell_type": "code",
   "execution_count": 22,
   "metadata": {},
   "outputs": [],
   "source": [
    "#training any checkpoint or early stopping? \n",
    "es = EarlyStopping(patience=2, restore_best_weights=True)"
   ]
  },
  {
   "cell_type": "code",
   "execution_count": 23,
   "metadata": {},
   "outputs": [
    {
     "name": "stdout",
     "output_type": "stream",
     "text": [
      "131509\n"
     ]
    }
   ],
   "source": [
    "print(y_train.shape[0])"
   ]
  },
  {
   "cell_type": "code",
   "execution_count": 24,
   "metadata": {},
   "outputs": [
    {
     "name": "stdout",
     "output_type": "stream",
     "text": [
      "Train on 105207 samples, validate on 26302 samples\n",
      "Epoch 1/100\n",
      "105207/105207 [==============================] - 1s 8us/step - loss: 1536.1126 - val_loss: 72.3209\n",
      "Epoch 2/100\n",
      "105207/105207 [==============================] - 1s 6us/step - loss: 44.8740 - val_loss: 29.3124\n",
      "Epoch 3/100\n",
      "105207/105207 [==============================] - 1s 6us/step - loss: 23.3627 - val_loss: 18.8131\n",
      "Epoch 4/100\n",
      "105207/105207 [==============================] - 1s 6us/step - loss: 16.3355 - val_loss: 14.2213\n",
      "Epoch 5/100\n",
      "105207/105207 [==============================] - 1s 6us/step - loss: 12.8827 - val_loss: 11.6798\n",
      "Epoch 6/100\n",
      "105207/105207 [==============================] - 1s 6us/step - loss: 10.8699 - val_loss: 10.1073\n",
      "Epoch 7/100\n",
      "105207/105207 [==============================] - 1s 6us/step - loss: 9.5645 - val_loss: 9.0436\n",
      "Epoch 8/100\n",
      "105207/105207 [==============================] - 1s 6us/step - loss: 8.6598 - val_loss: 8.2855\n",
      "Epoch 9/100\n",
      "105207/105207 [==============================] - 1s 6us/step - loss: 8.0040 - val_loss: 7.7229\n",
      "Epoch 10/100\n",
      "105207/105207 [==============================] - 1s 6us/step - loss: 7.5104 - val_loss: 7.2924\n",
      "Epoch 11/100\n",
      "105207/105207 [==============================] - 1s 6us/step - loss: 7.1275 - val_loss: 6.9557\n",
      "Epoch 12/100\n",
      "105207/105207 [==============================] - 1s 6us/step - loss: 6.8250 - val_loss: 6.6863\n",
      "Epoch 13/100\n",
      "105207/105207 [==============================] - 1s 6us/step - loss: 6.5812 - val_loss: 6.4680\n",
      "Epoch 14/100\n",
      "105207/105207 [==============================] - 1s 6us/step - loss: 6.3816 - val_loss: 6.2877\n",
      "Epoch 15/100\n",
      "105207/105207 [==============================] - 1s 6us/step - loss: 6.2165 - val_loss: 6.1379\n",
      "Epoch 16/100\n",
      "105207/105207 [==============================] - 1s 6us/step - loss: 6.0788 - val_loss: 6.0114\n",
      "Epoch 17/100\n",
      "105207/105207 [==============================] - 1s 6us/step - loss: 5.9627 - val_loss: 5.9051\n",
      "Epoch 18/100\n",
      "105207/105207 [==============================] - 1s 6us/step - loss: 5.8642 - val_loss: 5.8148\n",
      "Epoch 19/100\n",
      "105207/105207 [==============================] - 1s 6us/step - loss: 5.7800 - val_loss: 5.7369\n",
      "Epoch 20/100\n",
      "105207/105207 [==============================] - 1s 6us/step - loss: 5.7075 - val_loss: 5.6697\n",
      "Epoch 21/100\n",
      "105207/105207 [==============================] - 1s 6us/step - loss: 5.6450 - val_loss: 5.6116\n",
      "Epoch 22/100\n",
      "105207/105207 [==============================] - 1s 6us/step - loss: 5.5908 - val_loss: 5.5613\n",
      "Epoch 23/100\n",
      "105207/105207 [==============================] - 1s 6us/step - loss: 5.5437 - val_loss: 5.5176\n",
      "Epoch 24/100\n",
      "105207/105207 [==============================] - 1s 6us/step - loss: 5.5025 - val_loss: 5.4792\n",
      "Epoch 25/100\n",
      "105207/105207 [==============================] - 1s 6us/step - loss: 5.4664 - val_loss: 5.4455\n",
      "Epoch 26/100\n",
      "105207/105207 [==============================] - 1s 6us/step - loss: 5.4348 - val_loss: 5.4161\n",
      "Epoch 27/100\n",
      "105207/105207 [==============================] - 1s 6us/step - loss: 5.4071 - val_loss: 5.3901\n",
      "Epoch 28/100\n",
      "105207/105207 [==============================] - 1s 6us/step - loss: 5.3827 - val_loss: 5.3673\n",
      "Epoch 29/100\n",
      "105207/105207 [==============================] - 1s 6us/step - loss: 5.3612 - val_loss: 5.3471\n",
      "Epoch 30/100\n",
      "105207/105207 [==============================] - 1s 6us/step - loss: 5.3422 - val_loss: 5.3293\n",
      "Epoch 31/100\n",
      "105207/105207 [==============================] - 1s 6us/step - loss: 5.3255 - val_loss: 5.3136\n",
      "Epoch 32/100\n",
      "105207/105207 [==============================] - 1s 6us/step - loss: 5.3106 - val_loss: 5.2996\n",
      "Epoch 33/100\n",
      "105207/105207 [==============================] - 1s 6us/step - loss: 5.2975 - val_loss: 5.2872\n",
      "Epoch 34/100\n",
      "105207/105207 [==============================] - 1s 6us/step - loss: 5.2858 - val_loss: 5.2761\n",
      "Epoch 35/100\n",
      "105207/105207 [==============================] - 1s 6us/step - loss: 5.2753 - val_loss: 5.2663\n",
      "Epoch 36/100\n",
      "105207/105207 [==============================] - 1s 6us/step - loss: 5.2659 - val_loss: 5.2574\n",
      "Epoch 37/100\n",
      "105207/105207 [==============================] - 1s 6us/step - loss: 5.2575 - val_loss: 5.2494\n",
      "Epoch 38/100\n",
      "105207/105207 [==============================] - 1s 6us/step - loss: 5.2499 - val_loss: 5.2421\n",
      "Epoch 39/100\n",
      "105207/105207 [==============================] - 1s 6us/step - loss: 5.2429 - val_loss: 5.2354\n",
      "Epoch 40/100\n",
      "105207/105207 [==============================] - 1s 6us/step - loss: 5.2366 - val_loss: 5.2294\n",
      "Epoch 41/100\n",
      "105207/105207 [==============================] - 1s 6us/step - loss: 5.2307 - val_loss: 5.2237\n",
      "Epoch 42/100\n",
      "105207/105207 [==============================] - 1s 6us/step - loss: 5.2251 - val_loss: 5.2182\n",
      "Epoch 43/100\n",
      "105207/105207 [==============================] - 1s 6us/step - loss: 5.2199 - val_loss: 5.2131\n",
      "Epoch 44/100\n",
      "105207/105207 [==============================] - 1s 6us/step - loss: 5.2148 - val_loss: 5.2081\n",
      "Epoch 45/100\n",
      "105207/105207 [==============================] - 1s 6us/step - loss: 5.2098 - val_loss: 5.2031\n",
      "Epoch 46/100\n",
      "105207/105207 [==============================] - 1s 6us/step - loss: 5.2050 - val_loss: 5.1982\n",
      "Epoch 47/100\n",
      "105207/105207 [==============================] - 1s 6us/step - loss: 5.2000 - val_loss: 5.1931\n",
      "Epoch 48/100\n",
      "105207/105207 [==============================] - 1s 6us/step - loss: 5.1949 - val_loss: 5.1879\n",
      "Epoch 49/100\n",
      "105207/105207 [==============================] - 1s 6us/step - loss: 5.1897 - val_loss: 5.1826\n",
      "Epoch 50/100\n",
      "105207/105207 [==============================] - 1s 6us/step - loss: 5.1836 - val_loss: 5.1754\n",
      "Epoch 51/100\n",
      "105207/105207 [==============================] - 1s 6us/step - loss: 5.1765 - val_loss: 5.1682\n",
      "Epoch 52/100\n",
      "105207/105207 [==============================] - 1s 6us/step - loss: 5.1691 - val_loss: 5.1604\n",
      "Epoch 53/100\n",
      "105207/105207 [==============================] - 1s 6us/step - loss: 5.1611 - val_loss: 5.1519\n",
      "Epoch 54/100\n",
      "105207/105207 [==============================] - 1s 6us/step - loss: 5.1523 - val_loss: 5.1424\n",
      "Epoch 55/100\n",
      "105207/105207 [==============================] - 1s 6us/step - loss: 5.1427 - val_loss: 5.1322\n",
      "Epoch 56/100\n",
      "105207/105207 [==============================] - 1s 6us/step - loss: 5.1324 - val_loss: 5.1213\n",
      "Epoch 57/100\n",
      "105207/105207 [==============================] - 1s 6us/step - loss: 5.1215 - val_loss: 5.1098\n",
      "Epoch 58/100\n",
      "105207/105207 [==============================] - 1s 6us/step - loss: 5.1099 - val_loss: 5.0977\n",
      "Epoch 59/100\n",
      "105207/105207 [==============================] - 1s 6us/step - loss: 5.0978 - val_loss: 5.0851\n",
      "Epoch 60/100\n",
      "105207/105207 [==============================] - 1s 6us/step - loss: 5.0851 - val_loss: 5.0721\n",
      "Epoch 61/100\n",
      "105207/105207 [==============================] - 1s 6us/step - loss: 5.0720 - val_loss: 5.0583\n",
      "Epoch 62/100\n",
      "105207/105207 [==============================] - 1s 6us/step - loss: 5.0583 - val_loss: 5.0440\n",
      "Epoch 63/100\n",
      "105207/105207 [==============================] - 1s 6us/step - loss: 5.0441 - val_loss: 5.0294\n",
      "Epoch 64/100\n",
      "105207/105207 [==============================] - 1s 6us/step - loss: 5.0294 - val_loss: 5.0143\n",
      "Epoch 65/100\n",
      "105207/105207 [==============================] - 1s 6us/step - loss: 5.0143 - val_loss: 4.9989\n",
      "Epoch 66/100\n",
      "105207/105207 [==============================] - 1s 6us/step - loss: 4.9987 - val_loss: 4.9831\n",
      "Epoch 67/100\n",
      "105207/105207 [==============================] - 1s 6us/step - loss: 4.9828 - val_loss: 4.9668\n",
      "Epoch 68/100\n",
      "105207/105207 [==============================] - 1s 6us/step - loss: 4.9664 - val_loss: 4.9502\n",
      "Epoch 69/100\n",
      "105207/105207 [==============================] - 1s 6us/step - loss: 4.9494 - val_loss: 4.9329\n",
      "Epoch 70/100\n",
      "105207/105207 [==============================] - 1s 6us/step - loss: 4.9306 - val_loss: 4.9112\n",
      "Epoch 71/100\n",
      "105207/105207 [==============================] - 1s 6us/step - loss: 4.9057 - val_loss: 4.8856\n",
      "Epoch 72/100\n",
      "105207/105207 [==============================] - 1s 6us/step - loss: 4.8804 - val_loss: 4.8607\n",
      "Epoch 73/100\n",
      "105207/105207 [==============================] - 1s 6us/step - loss: 4.8556 - val_loss: 4.8360\n",
      "Epoch 74/100\n",
      "105207/105207 [==============================] - 1s 6us/step - loss: 4.8311 - val_loss: 4.8117\n",
      "Epoch 75/100\n",
      "105207/105207 [==============================] - 1s 6us/step - loss: 4.8063 - val_loss: 4.7869\n",
      "Epoch 76/100\n",
      "105207/105207 [==============================] - 1s 6us/step - loss: 4.7808 - val_loss: 4.7621\n",
      "Epoch 77/100\n",
      "105207/105207 [==============================] - 1s 6us/step - loss: 4.7561 - val_loss: 4.7386\n",
      "Epoch 78/100\n",
      "105207/105207 [==============================] - 1s 6us/step - loss: 4.7329 - val_loss: 4.7168\n",
      "Epoch 79/100\n",
      "105207/105207 [==============================] - 1s 6us/step - loss: 4.7119 - val_loss: 4.6971\n",
      "Epoch 80/100\n",
      "105207/105207 [==============================] - 1s 6us/step - loss: 4.6923 - val_loss: 4.6781\n",
      "Epoch 81/100\n",
      "105207/105207 [==============================] - 1s 6us/step - loss: 4.6735 - val_loss: 4.6595\n",
      "Epoch 82/100\n",
      "105207/105207 [==============================] - 1s 6us/step - loss: 4.6551 - val_loss: 4.6410\n",
      "Epoch 83/100\n",
      "105207/105207 [==============================] - 1s 6us/step - loss: 4.6368 - val_loss: 4.6243\n",
      "Epoch 84/100\n",
      "105207/105207 [==============================] - 1s 6us/step - loss: 4.6185 - val_loss: 4.6046\n",
      "Epoch 85/100\n",
      "105207/105207 [==============================] - 1s 6us/step - loss: 4.6003 - val_loss: 4.5863\n",
      "Epoch 86/100\n",
      "105207/105207 [==============================] - 1s 6us/step - loss: 4.5828 - val_loss: 4.5683\n",
      "Epoch 87/100\n",
      "105207/105207 [==============================] - 1s 6us/step - loss: 4.5654 - val_loss: 4.5511\n",
      "Epoch 88/100\n",
      "105207/105207 [==============================] - 1s 6us/step - loss: 4.5474 - val_loss: 4.5319\n",
      "Epoch 89/100\n",
      "105207/105207 [==============================] - 1s 6us/step - loss: 4.5298 - val_loss: 4.5161\n",
      "Epoch 90/100\n",
      "105207/105207 [==============================] - 1s 6us/step - loss: 4.5142 - val_loss: 4.4997\n",
      "Epoch 91/100\n",
      "105207/105207 [==============================] - 1s 6us/step - loss: 4.4982 - val_loss: 4.4880\n",
      "Epoch 92/100\n",
      "105207/105207 [==============================] - 1s 6us/step - loss: 4.4828 - val_loss: 4.4725\n",
      "Epoch 93/100\n",
      "105207/105207 [==============================] - 1s 6us/step - loss: 4.4673 - val_loss: 4.4555\n",
      "Epoch 94/100\n",
      "105207/105207 [==============================] - 1s 6us/step - loss: 4.4524 - val_loss: 4.4422\n",
      "Epoch 95/100\n",
      "105207/105207 [==============================] - 1s 6us/step - loss: 4.4375 - val_loss: 4.4274\n",
      "Epoch 96/100\n",
      "105207/105207 [==============================] - 1s 6us/step - loss: 4.4221 - val_loss: 4.4135\n",
      "Epoch 97/100\n",
      "105207/105207 [==============================] - 1s 6us/step - loss: 4.4070 - val_loss: 4.4000\n",
      "Epoch 98/100\n",
      "105207/105207 [==============================] - 1s 6us/step - loss: 4.3903 - val_loss: 4.3833\n",
      "Epoch 99/100\n",
      "105207/105207 [==============================] - 1s 6us/step - loss: 4.3746 - val_loss: 4.3686\n",
      "Epoch 100/100\n",
      "105207/105207 [==============================] - 1s 6us/step - loss: 4.3598 - val_loss: 4.3562\n"
     ]
    }
   ],
   "source": [
    "history = MyModel.fit(X_train,np.vstack([y_train,\n",
    "                                  np.ones(y_train.shape[0])\n",
    "                                  ]).T,\n",
    "                      validation_split=0.2,\n",
    "                      epochs=100,\n",
    "                      batch_size=1000,\n",
    "                      callbacks = [es]\n",
    "                     )\n",
    "#I think in adding the second column to the y_training values that is all 1s can give us an estimate of the error..."
   ]
  },
  {
   "cell_type": "code",
   "execution_count": 25,
   "metadata": {},
   "outputs": [
    {
     "data": {
      "image/png": "[encoded data removed]",
      "text/plain": [
       "<Figure size 320x320 with 1 Axes>"
      ]
     },
     "metadata": {
      "needs_background": "light"
     },
     "output_type": "display_data"
    }
   ],
   "source": [
    "plt.plot(history.history['loss'])\n",
    "plt.plot(history.history['val_loss'])\n",
    "plt.yscale('log')\n",
    "plt.xlabel('Epochs')\n",
    "plt.ylabel('Likelihood Loss Function')\n",
    "plt.legend(['Train', 'Validation'])\n",
    "plt.show()"
   ]
  },
  {
   "cell_type": "code",
   "execution_count": 26,
   "metadata": {},
   "outputs": [
    {
     "name": "stdout",
     "output_type": "stream",
     "text": [
      "[26.249117  10.287292  26.916237  10.989655  15.5164385  7.897994\n",
      "  7.416284  19.080153  11.531479  14.264751  28.718893  16.854305\n",
      " 33.725967  10.906939  52.767174  40.493923  21.112045  29.25055\n",
      " 14.939514   6.3738856 22.354023  12.653101  28.437351  12.276075\n",
      " 21.256884  11.002588  21.904957  26.266773  31.46113   18.873022\n",
      " 12.229948  13.584927  16.577135  63.04116   10.912963  17.694294\n",
      " 13.017574   6.7127643  9.393139  42.4619    24.98759   14.50415\n",
      " 29.385406   9.13755   24.494053  23.608963   9.731483  27.827934\n",
      " 23.087917  14.346045  11.705294  18.541885   9.286823  24.63631\n",
      " 22.419971  12.33768   12.60079   11.558702  11.948791  11.39385\n",
      " 19.885353  19.560493  10.044912  18.712929  14.4967    10.145316\n",
      " 11.987534  18.198673  12.409182  24.080315  13.458553  31.851181\n",
      " 46.838657  19.801334  17.57246   15.640736  23.55835   17.931286\n",
      "  9.154191  10.864804   7.8608875 28.571835  19.299774  20.92688\n",
      " 15.225779  22.398912  11.664635  13.805716   8.235456  10.238895\n",
      " 18.686953  24.003317  11.2853775 18.196514   9.089439  10.736064\n",
      " 14.323599  19.930786  11.963474 ]\n"
     ]
    }
   ],
   "source": [
    "# predict the scores for the test set, then histogram them based on the real labels\n",
    "test_preds = MyModel.predict(X_test)\n",
    "print(test_preds[1:100,1])"
   ]
  },
  {
   "cell_type": "code",
   "execution_count": 27,
   "metadata": {},
   "outputs": [
    {
     "data": {
      "image/png": "[encoded data removed]",
      "text/plain": [
       "<Figure size 320x320 with 1 Axes>"
      ]
     },
     "metadata": {
      "needs_background": "light"
     },
     "output_type": "display_data"
    }
   ],
   "source": [
    "plt.hist(test_preds[:,0], bins=50, range=(-200,200), histtype='step')\n",
    "plt.hist(y_test, bins=50, range=(-200,200), histtype='step')\n",
    "plt.xlabel('Vr')\n",
    "plt.ylabel('Stars')\n",
    "plt.title('Test set - simulated data')\n",
    "plt.yscale('log')\n",
    "plt.show()\n"
   ]
  },
  {
   "cell_type": "code",
   "execution_count": 28,
   "metadata": {},
   "outputs": [
    {
     "data": {
      "text/plain": [
       "<matplotlib.collections.PathCollection at 0x2b1e4252b438>"
      ]
     },
     "execution_count": 28,
     "metadata": {},
     "output_type": "execute_result"
    },
    {
     "data": {
      "image/png": "[encoded data removed]",
      "text/plain": [
       "<Figure size 320x320 with 1 Axes>"
      ]
     },
     "metadata": {
      "needs_background": "light"
     },
     "output_type": "display_data"
    }
   ],
   "source": [
    "test_preds[:,1] = (test_preds[:,1] - np.min(test_preds[:,1]))/(np.max(test_preds[:,1])- np.min(test_preds[:,1]))\n",
    "#trying to manually rescale confidence\n",
    "plt.scatter(X_test[:,0], test_preds[:,1])"
   ]
  },
  {
   "cell_type": "code",
   "execution_count": 29,
   "metadata": {},
   "outputs": [
    {
     "data": {
      "text/plain": [
       "Text(0, 0.5, 'Vr real')"
      ]
     },
     "execution_count": 29,
     "metadata": {},
     "output_type": "execute_result"
    },
    {
     "data": {
      "image/png": "[encoded data removed]",
      "text/plain": [
       "<Figure size 320x320 with 1 Axes>"
      ]
     },
     "metadata": {
      "needs_background": "light"
     },
     "output_type": "display_data"
    }
   ],
   "source": [
    "plt.scatter(test_preds[:,0],y_test)\n",
    "plt.xlabel('Vr predicted')\n",
    "plt.ylabel('Vr real')"
   ]
  },
  {
   "cell_type": "code",
   "execution_count": 30,
   "metadata": {},
   "outputs": [],
   "source": [
    "def ConstantLikelihoodFunction(y_true, y_pred):\n",
    "    # shape of y_pred should be (nsamples, 2)\n",
    "    # the first column should be the mean of the prediction\n",
    "    # the second column is the confidence (number of standard deviations)\n",
    "#     print y_true.shape\n",
    "#     print y_pred.shape\n",
    "    LOC = y_pred[:, 0]\n",
    "    X = y_true[:, 0]\n",
    "    ARG = -K.square(X - LOC) / (2.0)\n",
    "    return K.mean(-ARG)"
   ]
  },
  {
   "cell_type": "markdown",
   "metadata": {},
   "source": [
    "Going to Try Calculating the Mean and Error from two different networks...although I'm not sure how this will give us the error on the network that calculates the mean...unless we can somehow transfer over the information from the weights"
   ]
  },
  {
   "cell_type": "code",
   "execution_count": 31,
   "metadata": {},
   "outputs": [],
   "source": [
    "from keras.layers import Input, Dense, Lambda, Concatenate\n",
    "from keras.models import Model"
   ]
  },
  {
   "cell_type": "code",
   "execution_count": 32,
   "metadata": {},
   "outputs": [],
   "source": [
    "# del(inputs, MeanEst, MeanModel, ConfEst, ConfModel)\n",
    "inputs = Input(shape=(5,))\n",
    "MeanEst = Dense(100, activation='relu')(inputs)\n",
    "MeanEst = Dense(100, activation='relu')(MeanEst)\n",
    "MeanEst = Dense(100, activation='relu')(MeanEst)\n",
    "MeanEst = Dense(1, activation='linear')(MeanEst)\n",
    "MeanModel = Model(inputs=[inputs], outputs=MeanEst)\n",
    "\n",
    "ConfEst = Dense(100, activation='relu')(inputs)\n",
    "ConfEst = Dense(100, activation='relu')(ConfEst)\n",
    "ConfEst = Dense(100, activation='relu')(ConfEst)\n",
    "ConfEst = Dense(1, activation='relu')(ConfEst)\n",
    "ConfModel = Model(inputs=inputs, outputs=ConfEst)\n",
    "\n",
    "ConfModel = Model(inputs=inputs, outputs=ConfEst)\n",
    "\n",
    "CombinedSub = Concatenate(axis=-1)([MeanModel(inputs), ConfModel(inputs)])\n",
    "CombinedModel = Model(inputs=inputs, outputs=CombinedSub)"
   ]
  },
  {
   "cell_type": "code",
   "execution_count": 33,
   "metadata": {},
   "outputs": [
    {
     "name": "stdout",
     "output_type": "stream",
     "text": [
      "Model: \"model_4\"\n",
      "__________________________________________________________________________________________________\n",
      "Layer (type)                    Output Shape         Param #     Connected to                     \n",
      "==================================================================================================\n",
      "input_1 (InputLayer)            (None, 5)            0                                            \n",
      "__________________________________________________________________________________________________\n",
      "model_1 (Model)                 (None, 1)            20901       input_1[0][0]                    \n",
      "__________________________________________________________________________________________________\n",
      "model_3 (Model)                 (None, 1)            20901       input_1[0][0]                    \n",
      "__________________________________________________________________________________________________\n",
      "concatenate_1 (Concatenate)     (None, 2)            0           model_1[1][0]                    \n",
      "                                                                 model_3[1][0]                    \n",
      "==================================================================================================\n",
      "Total params: 41,802\n",
      "Trainable params: 41,802\n",
      "Non-trainable params: 0\n",
      "__________________________________________________________________________________________________\n"
     ]
    }
   ],
   "source": [
    "CombinedModel.summary()"
   ]
  },
  {
   "cell_type": "code",
   "execution_count": null,
   "metadata": {},
   "outputs": [
    {
     "name": "stdout",
     "output_type": "stream",
     "text": [
      "Train on 118358 samples, validate on 13151 samples\n",
      "Epoch 1/500\n",
      "118358/118358 [==============================] - 1s 8us/step - loss: nan - val_loss: nan\n",
      "Epoch 2/500\n",
      "118358/118358 [==============================] - 1s 6us/step - loss: nan - val_loss: nan\n",
      "Epoch 3/500\n",
      "118358/118358 [==============================] - 1s 6us/step - loss: nan - val_loss: nan\n",
      "Epoch 4/500\n",
      "118358/118358 [==============================] - 1s 6us/step - loss: nan - val_loss: nan\n",
      "Epoch 5/500\n",
      "118358/118358 [==============================] - 1s 6us/step - loss: nan - val_loss: nan\n",
      "Epoch 6/500\n",
      "118358/118358 [==============================] - 1s 6us/step - loss: nan - val_loss: nan\n",
      "Epoch 7/500\n",
      "118358/118358 [==============================] - 1s 6us/step - loss: nan - val_loss: nan\n",
      "Epoch 8/500\n",
      "118358/118358 [==============================] - 1s 6us/step - loss: nan - val_loss: nan\n",
      "Epoch 9/500\n",
      "118358/118358 [==============================] - 1s 6us/step - loss: nan - val_loss: nan\n",
      "Epoch 10/500\n",
      "118358/118358 [==============================] - 1s 6us/step - loss: nan - val_loss: nan\n",
      "Epoch 11/500\n",
      "118358/118358 [==============================] - 1s 6us/step - loss: nan - val_loss: nan\n",
      "Epoch 12/500\n",
      "118358/118358 [==============================] - 1s 6us/step - loss: nan - val_loss: nan\n",
      "Epoch 13/500\n",
      "118358/118358 [==============================] - 1s 6us/step - loss: nan - val_loss: nan\n",
      "Epoch 14/500\n",
      "118358/118358 [==============================] - 1s 6us/step - loss: nan - val_loss: nan\n",
      "Epoch 15/500\n",
      "118358/118358 [==============================] - 1s 6us/step - loss: nan - val_loss: nan\n",
      "Epoch 16/500\n",
      "118358/118358 [==============================] - 1s 6us/step - loss: nan - val_loss: nan\n",
      "Epoch 17/500\n",
      "118358/118358 [==============================] - 1s 6us/step - loss: nan - val_loss: nan\n",
      "Epoch 18/500\n",
      "118358/118358 [==============================] - 1s 6us/step - loss: nan - val_loss: nan\n",
      "Epoch 19/500\n",
      "118358/118358 [==============================] - 1s 6us/step - loss: nan - val_loss: nan\n",
      "Epoch 20/500\n",
      "118358/118358 [==============================] - 1s 6us/step - loss: nan - val_loss: nan\n",
      "Epoch 21/500\n",
      "118358/118358 [==============================] - 1s 6us/step - loss: nan - val_loss: nan\n",
      "Epoch 22/500\n",
      "118358/118358 [==============================] - 1s 6us/step - loss: nan - val_loss: nan\n",
      "Epoch 23/500\n",
      "118358/118358 [==============================] - 1s 6us/step - loss: nan - val_loss: nan\n",
      "Epoch 24/500\n",
      "118358/118358 [==============================] - 1s 6us/step - loss: nan - val_loss: nan\n",
      "Epoch 25/500\n",
      "118358/118358 [==============================] - 1s 6us/step - loss: nan - val_loss: nan\n",
      "Epoch 26/500\n",
      "118358/118358 [==============================] - 1s 6us/step - loss: nan - val_loss: nan\n",
      "Epoch 27/500\n",
      "118358/118358 [==============================] - 1s 6us/step - loss: nan - val_loss: nan\n",
      "Epoch 28/500\n",
      "118358/118358 [==============================] - 1s 6us/step - loss: nan - val_loss: nan\n",
      "Epoch 29/500\n",
      "118358/118358 [==============================] - 1s 6us/step - loss: nan - val_loss: nan\n",
      "Epoch 30/500\n",
      "118358/118358 [==============================] - 1s 6us/step - loss: nan - val_loss: nan\n",
      "Epoch 31/500\n",
      "118358/118358 [==============================] - 1s 6us/step - loss: nan - val_loss: nan\n",
      "Epoch 32/500\n",
      "118358/118358 [==============================] - 1s 6us/step - loss: nan - val_loss: nan\n",
      "Epoch 33/500\n",
      "118358/118358 [==============================] - 1s 6us/step - loss: nan - val_loss: nan\n",
      "Epoch 34/500\n",
      "118358/118358 [==============================] - 1s 6us/step - loss: nan - val_loss: nan\n",
      "Epoch 35/500\n",
      "118358/118358 [==============================] - 1s 6us/step - loss: nan - val_loss: nan\n",
      "Epoch 36/500\n",
      "118358/118358 [==============================] - 1s 6us/step - loss: nan - val_loss: nan\n",
      "Epoch 37/500\n",
      "118358/118358 [==============================] - 1s 6us/step - loss: nan - val_loss: nan\n",
      "Epoch 38/500\n",
      "118358/118358 [==============================] - 1s 6us/step - loss: nan - val_loss: nan\n",
      "Epoch 39/500\n",
      "118358/118358 [==============================] - 1s 6us/step - loss: nan - val_loss: nan\n",
      "Epoch 40/500\n",
      "118358/118358 [==============================] - 1s 6us/step - loss: nan - val_loss: nan\n",
      "Epoch 41/500\n",
      "118358/118358 [==============================] - 1s 6us/step - loss: nan - val_loss: nan\n",
      "Epoch 42/500\n",
      "118358/118358 [==============================] - 1s 6us/step - loss: nan - val_loss: nan\n",
      "Epoch 43/500\n",
      "118358/118358 [==============================] - 1s 6us/step - loss: nan - val_loss: nan\n",
      "Epoch 44/500\n",
      "118358/118358 [==============================] - 1s 6us/step - loss: nan - val_loss: nan\n",
      "Epoch 45/500\n",
      "118358/118358 [==============================] - 1s 6us/step - loss: nan - val_loss: nan\n",
      "Epoch 46/500\n",
      "118358/118358 [==============================] - 1s 7us/step - loss: nan - val_loss: nan\n",
      "Epoch 47/500\n",
      "118358/118358 [==============================] - 1s 6us/step - loss: nan - val_loss: nan\n",
      "Epoch 48/500\n",
      "118358/118358 [==============================] - 1s 6us/step - loss: nan - val_loss: nan\n",
      "Epoch 49/500\n",
      "118358/118358 [==============================] - 1s 6us/step - loss: nan - val_loss: nan\n",
      "Epoch 50/500\n",
      "118358/118358 [==============================] - 1s 6us/step - loss: nan - val_loss: nan\n",
      "Epoch 51/500\n",
      "118358/118358 [==============================] - 1s 6us/step - loss: nan - val_loss: nan\n",
      "Epoch 52/500\n",
      "118358/118358 [==============================] - 1s 6us/step - loss: nan - val_loss: nan\n",
      "Epoch 53/500\n",
      "118358/118358 [==============================] - 1s 6us/step - loss: nan - val_loss: nan\n",
      "Epoch 54/500\n",
      "118358/118358 [==============================] - 1s 6us/step - loss: nan - val_loss: nan\n",
      "Epoch 55/500\n",
      "118358/118358 [==============================] - 1s 6us/step - loss: nan - val_loss: nan\n",
      "Epoch 56/500\n",
      "118358/118358 [==============================] - 1s 6us/step - loss: nan - val_loss: nan\n",
      "Epoch 57/500\n",
      "118358/118358 [==============================] - 1s 6us/step - loss: nan - val_loss: nan\n",
      "Epoch 58/500\n",
      "118358/118358 [==============================] - 1s 6us/step - loss: nan - val_loss: nan\n",
      "Epoch 59/500\n",
      "118358/118358 [==============================] - 1s 6us/step - loss: nan - val_loss: nan\n",
      "Epoch 60/500\n",
      "118358/118358 [==============================] - 1s 6us/step - loss: nan - val_loss: nan\n",
      "Epoch 61/500\n",
      "118358/118358 [==============================] - 1s 6us/step - loss: nan - val_loss: nan\n",
      "Epoch 62/500\n",
      "118358/118358 [==============================] - 1s 6us/step - loss: nan - val_loss: nan\n",
      "Epoch 63/500\n",
      "109000/118358 [==========================>...] - ETA: 0s - loss: nan"
     ]
    }
   ],
   "source": [
    "ConfModel.trainable = False\n",
    "MeanModel.trainable = True\n",
    "CombinedModel.compile(loss=LikelihoodLossFunction,\n",
    "                      optimizer='adam'\n",
    "                     )\n",
    "\n",
    "CombinedModel.fit(X_train,np.vstack([y_train,\n",
    "                                  np.ones(y_train.shape[0])\n",
    "                                  ]).T,\n",
    "                  epochs=100,\n",
    "                  batch_size=1000,\n",
    "                  validation_split=0.1\n",
    "                 )"
   ]
  },
  {
   "cell_type": "code",
   "execution_count": null,
   "metadata": {},
   "outputs": [],
   "source": [
    "ConfModel.trainable = True\n",
    "MeanModel.trainable = False\n",
    "CombinedModel.compile(loss=LikelihhodLossFunction,\n",
    "                      optimizer='adam'\n",
    "                     )\n",
    "\n",
    "CombinedModel.fit(X_train,np.vstack([y_train,\n",
    "                                  np.ones(y_train.shape[0])\n",
    "                                  ]).T,\n",
    "                  epochs=500,\n",
    "                  batch_size=1000,\n",
    "                  validation_split=0.1,\n",
    "                  verbose=0\n",
    "                 )"
   ]
  }
 ],
 "metadata": {
  "kernelspec": {
   "display_name": "venv_ML",
   "language": "python",
   "name": "venv_ml"
  },
  "language_info": {
   "codemirror_mode": {
    "name": "ipython",
    "version": 3
   },
   "file_extension": ".py",
   "mimetype": "text/x-python",
   "name": "python",
   "nbconvert_exporter": "python",
   "pygments_lexer": "ipython3",
   "version": "3.6.10"
  }
 },
 "nbformat": 4,
 "nbformat_minor": 4
}
