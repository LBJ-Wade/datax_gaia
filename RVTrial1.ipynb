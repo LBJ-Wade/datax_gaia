{
 "cells": [
  {
   "cell_type": "code",
   "execution_count": null,
   "metadata": {},
   "outputs": [],
   "source": [
    "#First trial of ML to find radial velocities. Goal is to use regression to extrapolate the velocities. "
   ]
  },
  {
   "cell_type": "code",
   "execution_count": 1,
   "metadata": {},
   "outputs": [],
   "source": [
    "import pandas as pd\n",
    "import numpy as np"
   ]
  },
  {
   "cell_type": "code",
   "execution_count": 2,
   "metadata": {},
   "outputs": [],
   "source": [
    "%matplotlib inline\n",
    "\n",
    "import matplotlib\n",
    "import matplotlib.pyplot as plt"
   ]
  },
  {
   "cell_type": "code",
   "execution_count": 3,
   "metadata": {},
   "outputs": [],
   "source": [
    "# These are just my choices to make the plots look nice\n",
    "plt.rcParams.update({'font.family':'cmr10','font.size': 13})\n",
    "matplotlib.rcParams['axes.unicode_minus']=False\n",
    "matplotlib.rcParams['axes.labelsize']=15\n",
    "plt.rcParams['figure.figsize']=(4,4)\n",
    "plt.rcParams['figure.dpi'] = 80\n",
    "plt.rcParams['mathtext.fontset'] = 'cm'\n",
    "plt.rcParams['mathtext.rm'] = 'serif'\n",
    "plt.rcParams['xtick.direction'] = 'in'\n",
    "plt.rcParams['ytick.direction'] = 'in'\n",
    "plt.rcParams['xtick.top'] = True\n",
    "plt.rcParams['ytick.right'] = True"
   ]
  },
  {
   "cell_type": "code",
   "execution_count": 4,
   "metadata": {},
   "outputs": [],
   "source": [
    "SimulatedStars = pd.read_csv('rave_tgas_cleaned_data.csv',index_col=None)"
   ]
  },
  {
   "cell_type": "code",
   "execution_count": 5,
   "metadata": {},
   "outputs": [
    {
     "data": {
      "text/html": [
       "<div>\n",
       "<style scoped>\n",
       "    .dataframe tbody tr th:only-of-type {\n",
       "        vertical-align: middle;\n",
       "    }\n",
       "\n",
       "    .dataframe tbody tr th {\n",
       "        vertical-align: top;\n",
       "    }\n",
       "\n",
       "    .dataframe thead th {\n",
       "        text-align: right;\n",
       "    }\n",
       "</style>\n",
       "<table border=\"1\" class=\"dataframe\">\n",
       "  <thead>\n",
       "    <tr style=\"text-align: right;\">\n",
       "      <th></th>\n",
       "      <th>Unnamed: 0</th>\n",
       "      <th>ra</th>\n",
       "      <th>dec</th>\n",
       "      <th>b</th>\n",
       "      <th>l</th>\n",
       "      <th>logg</th>\n",
       "      <th>teff</th>\n",
       "      <th>gband</th>\n",
       "      <th>vr</th>\n",
       "      <th>vtheta</th>\n",
       "      <th>...</th>\n",
       "      <th>pmde_err</th>\n",
       "      <th>vU</th>\n",
       "      <th>vV</th>\n",
       "      <th>vW</th>\n",
       "      <th>vU_err</th>\n",
       "      <th>vV_err</th>\n",
       "      <th>vW_err</th>\n",
       "      <th>jband</th>\n",
       "      <th>kband</th>\n",
       "      <th>R_cyl</th>\n",
       "    </tr>\n",
       "  </thead>\n",
       "  <tbody>\n",
       "    <tr>\n",
       "      <th>0</th>\n",
       "      <td>0</td>\n",
       "      <td>160.760542</td>\n",
       "      <td>-13.241389</td>\n",
       "      <td>39.009388</td>\n",
       "      <td>261.198041</td>\n",
       "      <td>4.02</td>\n",
       "      <td>6047.5</td>\n",
       "      <td>11.154045</td>\n",
       "      <td>-22.767779</td>\n",
       "      <td>-8.553811</td>\n",
       "      <td>...</td>\n",
       "      <td>1.109520</td>\n",
       "      <td>2.989305</td>\n",
       "      <td>-26.186428</td>\n",
       "      <td>0.468133</td>\n",
       "      <td>7.397238</td>\n",
       "      <td>2.740294</td>\n",
       "      <td>3.563465</td>\n",
       "      <td>10.313</td>\n",
       "      <td>9.981</td>\n",
       "      <td>8.059333</td>\n",
       "    </tr>\n",
       "    <tr>\n",
       "      <th>1</th>\n",
       "      <td>1</td>\n",
       "      <td>160.258125</td>\n",
       "      <td>-13.640972</td>\n",
       "      <td>38.394644</td>\n",
       "      <td>261.014525</td>\n",
       "      <td>1.92</td>\n",
       "      <td>4777.9</td>\n",
       "      <td>10.940921</td>\n",
       "      <td>-90.714933</td>\n",
       "      <td>13.228575</td>\n",
       "      <td>...</td>\n",
       "      <td>1.039390</td>\n",
       "      <td>59.797612</td>\n",
       "      <td>-69.816238</td>\n",
       "      <td>-28.596837</td>\n",
       "      <td>21.613296</td>\n",
       "      <td>8.263897</td>\n",
       "      <td>9.739697</td>\n",
       "      <td>9.513</td>\n",
       "      <td>8.868</td>\n",
       "      <td>8.191753</td>\n",
       "    </tr>\n",
       "    <tr>\n",
       "      <th>2</th>\n",
       "      <td>2</td>\n",
       "      <td>159.117958</td>\n",
       "      <td>-13.938889</td>\n",
       "      <td>37.476591</td>\n",
       "      <td>260.143047</td>\n",
       "      <td>3.76</td>\n",
       "      <td>5684.4</td>\n",
       "      <td>9.964015</td>\n",
       "      <td>17.192325</td>\n",
       "      <td>-17.679071</td>\n",
       "      <td>...</td>\n",
       "      <td>0.630677</td>\n",
       "      <td>-32.337603</td>\n",
       "      <td>-30.413529</td>\n",
       "      <td>10.738150</td>\n",
       "      <td>2.762826</td>\n",
       "      <td>0.893481</td>\n",
       "      <td>1.207606</td>\n",
       "      <td>9.107</td>\n",
       "      <td>8.738</td>\n",
       "      <td>8.030682</td>\n",
       "    </tr>\n",
       "    <tr>\n",
       "      <th>3</th>\n",
       "      <td>3</td>\n",
       "      <td>159.159667</td>\n",
       "      <td>-13.473472</td>\n",
       "      <td>37.865498</td>\n",
       "      <td>259.816167</td>\n",
       "      <td>3.75</td>\n",
       "      <td>5896.4</td>\n",
       "      <td>9.740564</td>\n",
       "      <td>-19.469996</td>\n",
       "      <td>-8.870117</td>\n",
       "      <td>...</td>\n",
       "      <td>0.576193</td>\n",
       "      <td>4.840963</td>\n",
       "      <td>-15.400051</td>\n",
       "      <td>1.330989</td>\n",
       "      <td>1.266904</td>\n",
       "      <td>0.713310</td>\n",
       "      <td>0.745443</td>\n",
       "      <td>8.843</td>\n",
       "      <td>8.585</td>\n",
       "      <td>8.024455</td>\n",
       "    </tr>\n",
       "    <tr>\n",
       "      <th>4</th>\n",
       "      <td>4</td>\n",
       "      <td>160.152417</td>\n",
       "      <td>-11.347833</td>\n",
       "      <td>40.129253</td>\n",
       "      <td>259.072345</td>\n",
       "      <td>2.50</td>\n",
       "      <td>4867.2</td>\n",
       "      <td>10.547413</td>\n",
       "      <td>3.542314</td>\n",
       "      <td>-11.618539</td>\n",
       "      <td>...</td>\n",
       "      <td>0.690997</td>\n",
       "      <td>-31.966993</td>\n",
       "      <td>-30.385995</td>\n",
       "      <td>4.604890</td>\n",
       "      <td>10.842726</td>\n",
       "      <td>1.868670</td>\n",
       "      <td>4.019525</td>\n",
       "      <td>9.129</td>\n",
       "      <td>8.482</td>\n",
       "      <td>8.166834</td>\n",
       "    </tr>\n",
       "  </tbody>\n",
       "</table>\n",
       "<p>5 rows × 36 columns</p>\n",
       "</div>"
      ],
      "text/plain": [
       "   Unnamed: 0          ra        dec          b           l  logg    teff  \\\n",
       "0           0  160.760542 -13.241389  39.009388  261.198041  4.02  6047.5   \n",
       "1           1  160.258125 -13.640972  38.394644  261.014525  1.92  4777.9   \n",
       "2           2  159.117958 -13.938889  37.476591  260.143047  3.76  5684.4   \n",
       "3           3  159.159667 -13.473472  37.865498  259.816167  3.75  5896.4   \n",
       "4           4  160.152417 -11.347833  40.129253  259.072345  2.50  4867.2   \n",
       "\n",
       "       gband         vr     vtheta  ...  pmde_err         vU         vV  \\\n",
       "0  11.154045 -22.767779  -8.553811  ...  1.109520   2.989305 -26.186428   \n",
       "1  10.940921 -90.714933  13.228575  ...  1.039390  59.797612 -69.816238   \n",
       "2   9.964015  17.192325 -17.679071  ...  0.630677 -32.337603 -30.413529   \n",
       "3   9.740564 -19.469996  -8.870117  ...  0.576193   4.840963 -15.400051   \n",
       "4  10.547413   3.542314 -11.618539  ...  0.690997 -31.966993 -30.385995   \n",
       "\n",
       "          vW     vU_err    vV_err    vW_err   jband  kband     R_cyl  \n",
       "0   0.468133   7.397238  2.740294  3.563465  10.313  9.981  8.059333  \n",
       "1 -28.596837  21.613296  8.263897  9.739697   9.513  8.868  8.191753  \n",
       "2  10.738150   2.762826  0.893481  1.207606   9.107  8.738  8.030682  \n",
       "3   1.330989   1.266904  0.713310  0.745443   8.843  8.585  8.024455  \n",
       "4   4.604890  10.842726  1.868670  4.019525   9.129  8.482  8.166834  \n",
       "\n",
       "[5 rows x 36 columns]"
      ]
     },
     "execution_count": 5,
     "metadata": {},
     "output_type": "execute_result"
    }
   ],
   "source": [
    "SimulatedStars.head()"
   ]
  },
  {
   "cell_type": "code",
   "execution_count": 6,
   "metadata": {},
   "outputs": [
    {
     "data": {
      "text/plain": [
       "Index(['Unnamed: 0', 'ra', 'dec', 'b', 'l', 'logg', 'teff', 'gband', 'vr',\n",
       "       'vtheta', 'vphi', 'vr_err', 'vphi_err', 'vtheta_err', 'z', 'z_err',\n",
       "       'distance', 'distance_err', 'R', 'feH', 'ID', 'hrv', 'hrv_err', 'pmra',\n",
       "       'pmra_err', 'pmde', 'pmde_err', 'vU', 'vV', 'vW', 'vU_err', 'vV_err',\n",
       "       'vW_err', 'jband', 'kband', 'R_cyl'],\n",
       "      dtype='object')"
      ]
     },
     "execution_count": 6,
     "metadata": {},
     "output_type": "execute_result"
    }
   ],
   "source": [
    "SimulatedStars.columns"
   ]
  },
  {
   "cell_type": "code",
   "execution_count": 7,
   "metadata": {},
   "outputs": [
    {
     "data": {
      "text/plain": [
       "(164387, 36)"
      ]
     },
     "execution_count": 7,
     "metadata": {},
     "output_type": "execute_result"
    }
   ],
   "source": [
    "SimulatedStars.shape"
   ]
  },
  {
   "cell_type": "code",
   "execution_count": 8,
   "metadata": {},
   "outputs": [],
   "source": [
    "from sklearn.preprocessing import StandardScaler\n",
    "from sklearn.model_selection import train_test_split"
   ]
  },
  {
   "cell_type": "code",
   "execution_count": 9,
   "metadata": {},
   "outputs": [],
   "source": [
    "# What columns to use?\n",
    "use_cols = ['l', 'b','distance','pmra','pmde']\n",
    "# Make the design matrix\n",
    "X = SimulatedStars[use_cols].values\n",
    "Y = (SimulatedStars['vr']).values"
   ]
  },
  {
   "cell_type": "code",
   "execution_count": 10,
   "metadata": {},
   "outputs": [],
   "source": [
    "X_train, X_test, y_train, y_test = train_test_split(X, Y,\n",
    "                                                    test_size = 0.2,\n",
    "                                                    random_state=42)"
   ]
  },
  {
   "cell_type": "code",
   "execution_count": 11,
   "metadata": {},
   "outputs": [
    {
     "name": "stdout",
     "output_type": "stream",
     "text": [
      "(131509, 5)\n",
      "(131509,)\n",
      "There are 40356.09328778812 stars in the training set\n",
      "\n",
      "(32878, 5)\n",
      "(32878,)\n",
      "There are 6386.546530267198 stars in the test set\n"
     ]
    }
   ],
   "source": [
    "print(X_train.shape)\n",
    "print(y_train.shape)\n",
    "print('There are {0} stars in the training set'.format(np.sum(y_train)))\n",
    "print()\n",
    "print(X_test.shape)\n",
    "print(y_test.shape)\n",
    "print('There are {0} stars in the test set'.format(np.sum(y_test)))"
   ]
  },
  {
   "cell_type": "code",
   "execution_count": 12,
   "metadata": {},
   "outputs": [],
   "source": [
    "# Might need to add in a data preprocessing step here \n",
    "#Either reweighting the radial velocity or training set features have 0 mean and unit variance"
   ]
  },
  {
   "cell_type": "code",
   "execution_count": 13,
   "metadata": {},
   "outputs": [],
   "source": [
    "SS = StandardScaler()\n",
    "X_train = SS.fit_transform(X_train)"
   ]
  },
  {
   "cell_type": "code",
   "execution_count": 14,
   "metadata": {},
   "outputs": [],
   "source": [
    "# Now scale the test data using the same mean and standard deviation as found with the training data\n",
    "X_test = SS.transform(X_test)"
   ]
  },
  {
   "cell_type": "code",
   "execution_count": 15,
   "metadata": {},
   "outputs": [
    {
     "data": {
      "image/png": "[encoded data removed]",
      "text/plain": [
       "<Figure size 480x240 with 2 Axes>"
      ]
     },
     "metadata": {
      "needs_background": "light"
     },
     "output_type": "display_data"
    },
    {
     "data": {
      "image/png": "[encoded data removed]",
      "text/plain": [
       "<Figure size 480x240 with 2 Axes>"
      ]
     },
     "metadata": {
      "needs_background": "light"
     },
     "output_type": "display_data"
    },
    {
     "data": {
      "image/png": "[encoded data removed]",
      "text/plain": [
       "<Figure size 480x240 with 2 Axes>"
      ]
     },
     "metadata": {
      "needs_background": "light"
     },
     "output_type": "display_data"
    },
    {
     "data": {
      "image/png": "[encoded data removed]",
      "text/plain": [
       "<Figure size 480x240 with 2 Axes>"
      ]
     },
     "metadata": {
      "needs_background": "light"
     },
     "output_type": "display_data"
    },
    {
     "data": {
      "image/png": "[encoded data removed]",
      "text/plain": [
       "<Figure size 480x240 with 2 Axes>"
      ]
     },
     "metadata": {
      "needs_background": "light"
     },
     "output_type": "display_data"
    }
   ],
   "source": [
    "#visualize check data\n",
    "for i, col in enumerate(use_cols):\n",
    "    plt.figure(figsize=(6, 3))\n",
    "    plt.subplot(1,2,1)\n",
    "    plt.hist(SimulatedStars[col], bins=100)\n",
    "    plt.yscale('log')\n",
    "    plt.title('Data')\n",
    "    \n",
    "    plt.subplot(1,2,2)\n",
    "    plt.hist(X_train[:, i], bins=100, alpha=0.5)\n",
    "    plt.hist(X_test[:, i], bins=100, alpha=0.5)\n",
    "    plt.yscale('log')\n",
    "    plt.title('Scaled')\n",
    "    \n",
    "    plt.suptitle(col, y=1.01, fontsize=16)\n",
    "    \n",
    "    plt.tight_layout()"
   ]
  },
  {
   "cell_type": "code",
   "execution_count": 16,
   "metadata": {},
   "outputs": [],
   "source": [
    "#Building Classifier "
   ]
  },
  {
   "cell_type": "code",
   "execution_count": 17,
   "metadata": {},
   "outputs": [
    {
     "name": "stderr",
     "output_type": "stream",
     "text": [
      "Using TensorFlow backend.\n"
     ]
    }
   ],
   "source": [
    "from keras.models import Sequential\n",
    "from keras.layers import Dense\n",
    "from keras.callbacks import EarlyStopping, ModelCheckpoint\n",
    "from keras.optimizers import Adam"
   ]
  },
  {
   "cell_type": "code",
   "execution_count": 18,
   "metadata": {},
   "outputs": [],
   "source": [
    "from keras import backend as K"
   ]
  },
  {
   "cell_type": "code",
   "execution_count": 19,
   "metadata": {},
   "outputs": [],
   "source": [
    "def LikelihoodLossFunction(y_true, y_pred):\n",
    "    # shape of y_pred should be (nsamples, 2)\n",
    "    # the first column should be the mean of the prediction\n",
    "    # the second column is the confidence (number of standard deviations)\n",
    "#     print y_true.shape\n",
    "#     print y_pred.shape\n",
    "    SIGMA = K.abs(y_pred[:, 1])\n",
    "    LOC = y_pred[:, 0]\n",
    "    X = y_true[:, 0]\n",
    "    \n",
    "    ARG = K.square(X - LOC) / (2 * K.square(SIGMA))\n",
    "    PREFACT = K.log(K.pow(2 * np.pi * K.square(SIGMA), -0.5))\n",
    "    #you get this from the conditional probability distribution\n",
    "    return K.mean(ARG - PREFACT)\n",
    "    #return K.mean(ARG)\n",
    "#now i'm wondering if somewhere in here I should return SIGMA"
   ]
  },
  {
   "cell_type": "code",
   "execution_count": 20,
   "metadata": {},
   "outputs": [],
   "source": [
    "MyModel = Sequential()\n",
    "MyModel.add(Dense(units=100, activation='relu', input_dim=X_train.shape[1]))\n",
    "MyModel.add(Dense(units=100, activation='relu'))\n",
    "MyModel.add(Dense(units=100, activation='relu'))\n",
    "MyModel.add(Dense(units=2))\n",
    "#using tanh activation function in the last layer\n",
    "#MyModel.compile(loss='mean_squared_error',\n",
    "       #         optimizer='adam'\n",
    "       #       )\n",
    "MyModel.compile(loss=LikelihoodLossFunction,\n",
    "                optimizer='adam'\n",
    "               )"
   ]
  },
  {
   "cell_type": "code",
   "execution_count": 21,
   "metadata": {},
   "outputs": [
    {
     "name": "stdout",
     "output_type": "stream",
     "text": [
      "Model: \"sequential_1\"\n",
      "_________________________________________________________________\n",
      "Layer (type)                 Output Shape              Param #   \n",
      "=================================================================\n",
      "dense_1 (Dense)              (None, 100)               600       \n",
      "_________________________________________________________________\n",
      "dense_2 (Dense)              (None, 100)               10100     \n",
      "_________________________________________________________________\n",
      "dense_3 (Dense)              (None, 100)               10100     \n",
      "_________________________________________________________________\n",
      "dense_4 (Dense)              (None, 2)                 202       \n",
      "=================================================================\n",
      "Total params: 21,002\n",
      "Trainable params: 21,002\n",
      "Non-trainable params: 0\n",
      "_________________________________________________________________\n"
     ]
    }
   ],
   "source": [
    "MyModel.summary()"
   ]
  },
  {
   "cell_type": "code",
   "execution_count": 22,
   "metadata": {},
   "outputs": [],
   "source": [
    "#training any checkpoint or early stopping? \n",
    "es = EarlyStopping(patience=2, restore_best_weights=True)"
   ]
  },
  {
   "cell_type": "code",
   "execution_count": 23,
   "metadata": {},
   "outputs": [
    {
     "name": "stdout",
     "output_type": "stream",
     "text": [
      "131509\n"
     ]
    }
   ],
   "source": [
    "print(y_train.shape[0])"
   ]
  },
  {
   "cell_type": "code",
   "execution_count": 24,
   "metadata": {},
   "outputs": [
    {
     "name": "stdout",
     "output_type": "stream",
     "text": [
      "Train on 105207 samples, validate on 26302 samples\n",
      "Epoch 1/100\n",
      "105207/105207 [==============================] - 1s 6us/step - loss: 241988903.3064 - val_loss: 644.1902\n",
      "Epoch 2/100\n",
      "105207/105207 [==============================] - 0s 4us/step - loss: 354.2187 - val_loss: 188.5888\n",
      "Epoch 3/100\n",
      "105207/105207 [==============================] - 0s 4us/step - loss: 133.5056 - val_loss: 96.0859\n",
      "Epoch 4/100\n",
      "105207/105207 [==============================] - 0s 4us/step - loss: 78.9471 - val_loss: 64.3989\n",
      "Epoch 5/100\n",
      "105207/105207 [==============================] - 0s 4us/step - loss: 56.1084 - val_loss: 48.0652\n",
      "Epoch 6/100\n",
      "105207/105207 [==============================] - 0s 4us/step - loss: 43.2820 - val_loss: 38.1704\n",
      "Epoch 7/100\n",
      "105207/105207 [==============================] - 0s 4us/step - loss: 35.0859 - val_loss: 31.5332\n",
      "Epoch 8/100\n",
      "105207/105207 [==============================] - 0s 4us/step - loss: 29.4686 - val_loss: 26.8733\n",
      "Epoch 9/100\n",
      "105207/105207 [==============================] - 0s 4us/step - loss: 25.4125 - val_loss: 23.4206\n",
      "Epoch 10/100\n",
      "105207/105207 [==============================] - 0s 4us/step - loss: 22.3569 - val_loss: 20.7751\n",
      "Epoch 11/100\n",
      "105207/105207 [==============================] - 0s 4us/step - loss: 19.9818 - val_loss: 18.6947\n",
      "Epoch 12/100\n",
      "105207/105207 [==============================] - 0s 4us/step - loss: 18.0878 - val_loss: 17.0192\n",
      "Epoch 13/100\n",
      "105207/105207 [==============================] - 0s 4us/step - loss: 16.5503 - val_loss: 15.6490\n",
      "Epoch 14/100\n",
      "105207/105207 [==============================] - 0s 4us/step - loss: 15.2776 - val_loss: 14.5031\n",
      "Epoch 15/100\n",
      "105207/105207 [==============================] - 0s 4us/step - loss: 14.2101 - val_loss: 13.5361\n",
      "Epoch 16/100\n",
      "105207/105207 [==============================] - 0s 4us/step - loss: 13.3050 - val_loss: 12.7156\n",
      "Epoch 17/100\n",
      "105207/105207 [==============================] - 0s 4us/step - loss: 12.5272 - val_loss: 12.0013\n",
      "Epoch 18/100\n",
      "105207/105207 [==============================] - 0s 4us/step - loss: 11.8523 - val_loss: 11.3834\n",
      "Epoch 19/100\n",
      "105207/105207 [==============================] - 0s 4us/step - loss: 11.2612 - val_loss: 10.8408\n",
      "Epoch 20/100\n",
      "105207/105207 [==============================] - 0s 4us/step - loss: 10.7439 - val_loss: 10.3618\n",
      "Epoch 21/100\n",
      "105207/105207 [==============================] - 0s 4us/step - loss: 10.2856 - val_loss: 9.9380\n",
      "Epoch 22/100\n",
      "105207/105207 [==============================] - 0s 4us/step - loss: 9.8776 - val_loss: 9.5593\n",
      "Epoch 23/100\n",
      "105207/105207 [==============================] - 0s 4us/step - loss: 9.5117 - val_loss: 9.2204\n",
      "Epoch 24/100\n",
      "105207/105207 [==============================] - 0s 4us/step - loss: 9.1829 - val_loss: 8.9137\n",
      "Epoch 25/100\n",
      "105207/105207 [==============================] - 0s 4us/step - loss: 8.8870 - val_loss: 8.6382\n",
      "Epoch 26/100\n",
      "105207/105207 [==============================] - 0s 4us/step - loss: 8.6187 - val_loss: 8.3869\n",
      "Epoch 27/100\n",
      "105207/105207 [==============================] - 0s 4us/step - loss: 8.3745 - val_loss: 8.1590\n",
      "Epoch 28/100\n",
      "105207/105207 [==============================] - 0s 4us/step - loss: 8.1514 - val_loss: 7.9504\n",
      "Epoch 29/100\n",
      "105207/105207 [==============================] - 0s 4us/step - loss: 7.9476 - val_loss: 7.7601\n",
      "Epoch 30/100\n",
      "105207/105207 [==============================] - 0s 4us/step - loss: 7.7605 - val_loss: 7.5839\n",
      "Epoch 31/100\n",
      "105207/105207 [==============================] - 0s 4us/step - loss: 7.5883 - val_loss: 7.4226\n",
      "Epoch 32/100\n",
      "105207/105207 [==============================] - 0s 4us/step - loss: 7.4297 - val_loss: 7.2741\n",
      "Epoch 33/100\n",
      "105207/105207 [==============================] - 0s 4us/step - loss: 7.2840 - val_loss: 7.1372\n",
      "Epoch 34/100\n",
      "105207/105207 [==============================] - 0s 4us/step - loss: 7.1493 - val_loss: 7.0106\n",
      "Epoch 35/100\n",
      "105207/105207 [==============================] - 0s 4us/step - loss: 7.0245 - val_loss: 6.8934\n",
      "Epoch 36/100\n",
      "105207/105207 [==============================] - 0s 4us/step - loss: 6.9086 - val_loss: 6.7847\n",
      "Epoch 37/100\n",
      "105207/105207 [==============================] - 0s 4us/step - loss: 6.8010 - val_loss: 6.6835\n",
      "Epoch 38/100\n",
      "105207/105207 [==============================] - 0s 4us/step - loss: 6.7011 - val_loss: 6.5896\n",
      "Epoch 39/100\n",
      "105207/105207 [==============================] - 0s 4us/step - loss: 6.6083 - val_loss: 6.5025\n",
      "Epoch 40/100\n",
      "105207/105207 [==============================] - 0s 4us/step - loss: 6.5216 - val_loss: 6.4210\n",
      "Epoch 41/100\n",
      "105207/105207 [==============================] - 0s 4us/step - loss: 6.4408 - val_loss: 6.3453\n",
      "Epoch 42/100\n",
      "105207/105207 [==============================] - 0s 4us/step - loss: 6.3654 - val_loss: 6.2741\n",
      "Epoch 43/100\n",
      "105207/105207 [==============================] - 0s 4us/step - loss: 6.2951 - val_loss: 6.2084\n",
      "Epoch 44/100\n",
      "105207/105207 [==============================] - 0s 4us/step - loss: 6.2292 - val_loss: 6.1465\n",
      "Epoch 45/100\n",
      "105207/105207 [==============================] - 0s 4us/step - loss: 6.1678 - val_loss: 6.0889\n",
      "Epoch 46/100\n",
      "105207/105207 [==============================] - 0s 4us/step - loss: 6.1102 - val_loss: 6.0345\n",
      "Epoch 47/100\n",
      "105207/105207 [==============================] - 0s 4us/step - loss: 6.0562 - val_loss: 5.9841\n",
      "Epoch 48/100\n",
      "105207/105207 [==============================] - 0s 4us/step - loss: 6.0060 - val_loss: 5.9371\n",
      "Epoch 49/100\n",
      "105207/105207 [==============================] - 0s 4us/step - loss: 5.9591 - val_loss: 5.8933\n",
      "Epoch 50/100\n",
      "105207/105207 [==============================] - 0s 4us/step - loss: 5.9151 - val_loss: 5.8521\n",
      "Epoch 51/100\n",
      "105207/105207 [==============================] - 0s 4us/step - loss: 5.8738 - val_loss: 5.8137\n",
      "Epoch 52/100\n",
      "105207/105207 [==============================] - 0s 4us/step - loss: 5.8355 - val_loss: 5.7777\n",
      "Epoch 53/100\n",
      "105207/105207 [==============================] - 0s 4us/step - loss: 5.7992 - val_loss: 5.7438\n",
      "Epoch 54/100\n",
      "105207/105207 [==============================] - 0s 4us/step - loss: 5.7657 - val_loss: 5.7127\n",
      "Epoch 55/100\n",
      "105207/105207 [==============================] - 0s 4us/step - loss: 5.7345 - val_loss: 5.6836\n",
      "Epoch 56/100\n",
      "105207/105207 [==============================] - 0s 4us/step - loss: 5.7053 - val_loss: 5.6566\n",
      "Epoch 57/100\n",
      "105207/105207 [==============================] - 0s 4us/step - loss: 5.6782 - val_loss: 5.6315\n",
      "Epoch 58/100\n",
      "105207/105207 [==============================] - 0s 4us/step - loss: 5.6530 - val_loss: 5.6082\n",
      "Epoch 59/100\n",
      "105207/105207 [==============================] - 0s 4us/step - loss: 5.6297 - val_loss: 5.5867\n",
      "Epoch 60/100\n",
      "105207/105207 [==============================] - 0s 4us/step - loss: 5.6081 - val_loss: 5.5668\n",
      "Epoch 61/100\n",
      "105207/105207 [==============================] - 0s 4us/step - loss: 5.5881 - val_loss: 5.5483\n",
      "Epoch 62/100\n",
      "105207/105207 [==============================] - 0s 4us/step - loss: 5.5693 - val_loss: 5.5311\n",
      "Epoch 63/100\n",
      "105207/105207 [==============================] - 0s 4us/step - loss: 5.5520 - val_loss: 5.5150\n",
      "Epoch 64/100\n",
      "105207/105207 [==============================] - 0s 4us/step - loss: 5.5358 - val_loss: 5.5001\n",
      "Epoch 65/100\n",
      "105207/105207 [==============================] - 0s 4us/step - loss: 5.5207 - val_loss: 5.4862\n",
      "Epoch 66/100\n",
      "105207/105207 [==============================] - 0s 4us/step - loss: 5.5065 - val_loss: 5.4732\n",
      "Epoch 67/100\n",
      "105207/105207 [==============================] - 0s 4us/step - loss: 5.4933 - val_loss: 5.4611\n",
      "Epoch 68/100\n",
      "105207/105207 [==============================] - 0s 4us/step - loss: 5.4809 - val_loss: 5.4497\n",
      "Epoch 69/100\n",
      "105207/105207 [==============================] - 0s 4us/step - loss: 5.4693 - val_loss: 5.4391\n",
      "Epoch 70/100\n",
      "105207/105207 [==============================] - 0s 4us/step - loss: 5.4584 - val_loss: 5.4290\n",
      "Epoch 71/100\n",
      "105207/105207 [==============================] - 0s 4us/step - loss: 5.4482 - val_loss: 5.4196\n",
      "Epoch 72/100\n",
      "105207/105207 [==============================] - 0s 4us/step - loss: 5.4384 - val_loss: 5.4106\n",
      "Epoch 73/100\n",
      "105207/105207 [==============================] - 0s 4us/step - loss: 5.4293 - val_loss: 5.4023\n",
      "Epoch 74/100\n",
      "105207/105207 [==============================] - 0s 4us/step - loss: 5.4206 - val_loss: 5.3942\n",
      "Epoch 75/100\n",
      "105207/105207 [==============================] - 0s 4us/step - loss: 5.4123 - val_loss: 5.3865\n",
      "Epoch 76/100\n",
      "105207/105207 [==============================] - 0s 4us/step - loss: 5.4044 - val_loss: 5.3793\n",
      "Epoch 77/100\n",
      "105207/105207 [==============================] - 0s 4us/step - loss: 5.3969 - val_loss: 5.3722\n",
      "Epoch 78/100\n",
      "105207/105207 [==============================] - 0s 5us/step - loss: 5.3896 - val_loss: 5.3656\n",
      "Epoch 79/100\n",
      "105207/105207 [==============================] - 0s 4us/step - loss: 5.3827 - val_loss: 5.3591\n",
      "Epoch 80/100\n",
      "105207/105207 [==============================] - 0s 4us/step - loss: 5.3760 - val_loss: 5.3528\n",
      "Epoch 81/100\n",
      "105207/105207 [==============================] - 0s 4us/step - loss: 5.3694 - val_loss: 5.3467\n",
      "Epoch 82/100\n",
      "105207/105207 [==============================] - 0s 4us/step - loss: 5.3630 - val_loss: 5.3407\n",
      "Epoch 83/100\n",
      "105207/105207 [==============================] - 0s 4us/step - loss: 5.3569 - val_loss: 5.3349\n",
      "Epoch 84/100\n",
      "105207/105207 [==============================] - 0s 4us/step - loss: 5.3509 - val_loss: 5.3293\n",
      "Epoch 85/100\n",
      "105207/105207 [==============================] - 0s 4us/step - loss: 5.3450 - val_loss: 5.3237\n",
      "Epoch 86/100\n",
      "105207/105207 [==============================] - 0s 4us/step - loss: 5.3392 - val_loss: 5.3182\n",
      "Epoch 87/100\n",
      "105207/105207 [==============================] - 0s 4us/step - loss: 5.3336 - val_loss: 5.3128\n",
      "Epoch 88/100\n",
      "105207/105207 [==============================] - 0s 4us/step - loss: 5.3280 - val_loss: 5.3077\n",
      "Epoch 89/100\n",
      "105207/105207 [==============================] - 0s 4us/step - loss: 5.3225 - val_loss: 5.3023\n",
      "Epoch 90/100\n",
      "105207/105207 [==============================] - 0s 4us/step - loss: 5.3101 - val_loss: 5.2818\n",
      "Epoch 91/100\n",
      "105207/105207 [==============================] - 0s 4us/step - loss: 5.2893 - val_loss: 5.2652\n",
      "Epoch 92/100\n",
      "105207/105207 [==============================] - 0s 4us/step - loss: 5.2731 - val_loss: 5.2510\n",
      "Epoch 93/100\n",
      "105207/105207 [==============================] - 0s 4us/step - loss: 5.2591 - val_loss: 5.2387\n",
      "Epoch 94/100\n",
      "105207/105207 [==============================] - 0s 4us/step - loss: 5.2469 - val_loss: 5.2279\n",
      "Epoch 95/100\n",
      "105207/105207 [==============================] - 0s 4us/step - loss: 5.2360 - val_loss: 5.2183\n",
      "Epoch 96/100\n",
      "105207/105207 [==============================] - 0s 4us/step - loss: 5.2264 - val_loss: 5.2098\n",
      "Epoch 97/100\n",
      "105207/105207 [==============================] - 0s 4us/step - loss: 5.2178 - val_loss: 5.2020\n",
      "Epoch 98/100\n",
      "105207/105207 [==============================] - 0s 4us/step - loss: 5.2100 - val_loss: 5.1949\n",
      "Epoch 99/100\n",
      "105207/105207 [==============================] - 0s 4us/step - loss: 5.2029 - val_loss: 5.1885\n",
      "Epoch 100/100\n",
      "105207/105207 [==============================] - 0s 4us/step - loss: 5.1964 - val_loss: 5.1826\n"
     ]
    }
   ],
   "source": [
    "history = MyModel.fit(X_train,np.vstack([y_train,\n",
    "                                  np.ones(y_train.shape[0])\n",
    "                                  ]).T,\n",
    "                      validation_split=0.2,\n",
    "                      epochs=100,\n",
    "                      batch_size=1000,\n",
    "                      callbacks = [es]\n",
    "                     )\n",
    "#I think in adding the second column to the y_training values that is all 1s can give us an estimate of the error...\n",
    "#sometimes it trains really well and sometimes not...not sure why it differs so much...maybe it steps in the wrong direction\n",
    "#intially when optimizing the loss "
   ]
  },
  {
   "cell_type": "code",
   "execution_count": 27,
   "metadata": {},
   "outputs": [
    {
     "data": {
      "image/png": "[encoded data removed]",
      "text/plain": [
       "<Figure size 320x320 with 1 Axes>"
      ]
     },
     "metadata": {
      "needs_background": "light"
     },
     "output_type": "display_data"
    }
   ],
   "source": [
    "plt.plot(history.history['loss'])\n",
    "plt.plot(history.history['val_loss'])\n",
    "plt.yscale('log')\n",
    "plt.xlabel('Epochs')\n",
    "plt.ylabel('Likelihood Loss Function')\n",
    "plt.legend(['Train', 'Validation'])\n",
    "plt.show()"
   ]
  },
  {
   "cell_type": "code",
   "execution_count": 71,
   "metadata": {},
   "outputs": [
    {
     "name": "stdout",
     "output_type": "stream",
     "text": [
      "[ 73.11663    34.63378    52.743168   44.763092   41.597534   22.449661\n",
      "  64.48209    90.63253    72.29184    50.07088    78.510895   66.20038\n",
      "  56.529694   17.082037   96.23159    71.87328    31.508387   77.65035\n",
      "  30.041891   67.0706     65.5483     19.990765   48.096077   37.81008\n",
      "  82.04553    34.909054   48.407413   43.498184   84.67639    33.610188\n",
      "  40.943417   45.085163   65.20912   114.68645    45.012993   62.961006\n",
      "  16.773111   53.489185   18.842173  124.561104   61.394287   20.712126\n",
      "  46.601524   27.059465   58.19312    36.945488   28.259907   41.468025\n",
      "  78.802925   50.195522   76.45894    82.6665     31.494703   89.28551\n",
      "  31.626205   51.68211    44.577377   10.020179   33.04836    56.463947\n",
      "  61.659054   92.84995    68.01307    42.88379    42.54746    41.996235\n",
      "  28.738085   27.689407   14.141478   44.665806   26.818186   57.50461\n",
      "  86.53401    45.158077   59.528576   24.490913   62.09113    47.673042\n",
      "  37.879642   19.26224    17.664528   45.28342    33.776836   33.164482\n",
      "  32.434116   59.083977   31.28558     6.6933513  39.645737   21.587957\n",
      "  56.127937   81.95559    44.382645   27.86253    21.393187   19.86826\n",
      "  15.631996   54.84593     9.983527 ]\n"
     ]
    }
   ],
   "source": [
    "# predict the scores for the test set, then histogram them based on the real labels\n",
    "test_preds = MyModel.predict(X_test)\n",
    "print(test_preds[1:100,1])"
   ]
  },
  {
   "cell_type": "code",
   "execution_count": 72,
   "metadata": {},
   "outputs": [
    {
     "data": {
      "image/png": "[encoded data removed]",
      "text/plain": [
       "<Figure size 320x320 with 1 Axes>"
      ]
     },
     "metadata": {
      "needs_background": "light"
     },
     "output_type": "display_data"
    }
   ],
   "source": [
    "plt.hist(test_preds[:,0], bins=50, range=(-200,200), histtype='step')\n",
    "plt.hist(y_test, bins=50, range=(-200,200), histtype='step')\n",
    "plt.xlabel('Vr')\n",
    "plt.ylabel('Stars')\n",
    "plt.title('Test set - simulated data')\n",
    "plt.yscale('log')\n",
    "plt.show()\n"
   ]
  },
  {
   "cell_type": "markdown",
   "metadata": {},
   "source": [
    "Plotting some of the predicted points with confidence as the errorbars "
   ]
  },
  {
   "cell_type": "code",
   "execution_count": 73,
   "metadata": {},
   "outputs": [
    {
     "name": "stdout",
     "output_type": "stream",
     "text": [
      "[0.09218349 0.04093433 0.06505132 0.05442394 0.05020824 0.02470824\n",
      " 0.08068453 0.11551012 0.09108508 0.06149253 0.09936725 0.08297283\n",
      " 0.070094   0.01755996 0.12296662 0.09052768 0.03677211 0.09822123\n",
      " 0.03481912 0.08413175 0.08210444 0.02143363 0.05886261 0.04516433\n",
      " 0.10407447 0.04130092 0.05927723 0.05273941 0.10757809 0.03957117\n",
      " 0.04933712 0.05485285 0.08165274 0.1475437  0.05475674 0.07865883\n",
      " 0.01714855 0.06604483 0.01990401 0.16069417 0.07657237 0.0223943\n",
      " 0.05687225 0.03084731 0.07230925 0.04401292 0.03244598 0.05003576\n",
      " 0.09975616]\n"
     ]
    },
    {
     "data": {
      "text/plain": [
       "Text(0, 0.5, 'Error on Vr predicted')"
      ]
     },
     "execution_count": 73,
     "metadata": {},
     "output_type": "execute_result"
    },
    {
     "data": {
      "image/png": "[encoded data removed]",
      "text/plain": [
       "<Figure size 320x320 with 1 Axes>"
      ]
     },
     "metadata": {
      "needs_background": "light"
     },
     "output_type": "display_data"
    }
   ],
   "source": [
    "test_preds[:,1] = (test_preds[:,1] - np.min(test_preds[:,1]))/(np.max(test_preds[:,1])- np.min(test_preds[:,1]))\n",
    "#trying to manually rescale confidence\n",
    "print(test_preds[1:50,1])\n",
    "plt.scatter(X_test[1:50,2], test_preds[1:50,1], color = 'red')\n",
    "#plt.errorbar(X_test[1:50,2], test_preds[1:50,0], yerr = test_preds[1:50,1], color = 'red',ls='none')\n",
    "plt.xlabel('Distance')\n",
    "plt.ylabel('Error on Vr predicted')\n",
    "#maybe good idea to bootstrap bc seems to have differing results for different times that I run it\n",
    "#ask what is this number??"
   ]
  },
  {
   "cell_type": "code",
   "execution_count": 48,
   "metadata": {},
   "outputs": [
    {
     "data": {
      "text/plain": [
       "Text(0, 0.5, 'Vr real')"
      ]
     },
     "execution_count": 48,
     "metadata": {},
     "output_type": "execute_result"
    },
    {
     "data": {
      "image/png": "[encoded data removed]",
      "text/plain": [
       "<Figure size 320x320 with 1 Axes>"
      ]
     },
     "metadata": {
      "needs_background": "light"
     },
     "output_type": "display_data"
    }
   ],
   "source": [
    "plt.scatter(test_preds[:,0],y_test)\n",
    "plt.xlabel('Vr predicted')\n",
    "plt.ylabel('Vr real')"
   ]
  },
  {
   "cell_type": "code",
   "execution_count": 49,
   "metadata": {},
   "outputs": [],
   "source": [
    "def ConstantLikelihoodFunction(y_true, y_pred):\n",
    "    # shape of y_pred should be (nsamples, 2)\n",
    "    # the first column should be the mean of the prediction\n",
    "    # the second column is the confidence (number of standard deviations)\n",
    "#     print y_true.shape\n",
    "#     print y_pred.shape\n",
    "    LOC = y_pred[:, 0]\n",
    "    X = y_true[:, 0]\n",
    "    ARG = -K.square(X - LOC) / (2.0)\n",
    "    return K.mean(-ARG)"
   ]
  },
  {
   "cell_type": "markdown",
   "metadata": {},
   "source": [
    "Going to Try Calculating the Mean and Error from two different networks...although I'm not sure how this will give us the error on the network that calculates the mean...unless we can somehow transfer over the information from the weights"
   ]
  },
  {
   "cell_type": "code",
   "execution_count": 50,
   "metadata": {},
   "outputs": [],
   "source": [
    "from keras.layers import Input, Dense, Lambda, Concatenate\n",
    "from keras.models import Model\n",
    "from keras.utils import plot_model"
   ]
  },
  {
   "cell_type": "code",
   "execution_count": null,
   "metadata": {},
   "outputs": [],
   "source": []
  },
  {
   "cell_type": "code",
   "execution_count": 51,
   "metadata": {},
   "outputs": [],
   "source": [
    "# del(inputs, MeanEst, MeanModel, ConfEst, ConfModel)\n",
    "inputs = Input(shape=(5,))\n",
    "MeanEst = (Dense(100, activation='relu'))(inputs)\n",
    "MeanEst = (Dense(100, activation='relu'))(MeanEst)\n",
    "MeanEst = (Dense(100, activation='relu'))(MeanEst)\n",
    "MeanEst = (Dense(1, activation='linear'))(MeanEst)\n",
    "MeanModel = Model(inputs, MeanEst)\n",
    "\n",
    "ConfEst= (Dense(100, activation='tanh'))(inputs)\n",
    "ConfEst= (Dense(100, activation='tanh'))(ConfEst)\n",
    "ConfEst= (Dense(100, activation='tanh'))(ConfEst)\n",
    "ConfEst= (Dense(1, activation='relu'))(ConfEst)\n",
    "ConfModel = Model(inputs, ConfEst)\n",
    "#this can't possibly give me a confidence output? the only thing that appears to define a confidence is the relu\n",
    "#on the last layer \n",
    "#CombinedSub = Concatenate(axis=-1)([MeanEst, ConfEst])\n",
    "CombinedSub = Concatenate(axis=-1)([MeanModel(inputs), ConfModel(inputs)])\n",
    "\n",
    "CombinedModel = Model(inputs, CombinedSub)\n",
    "#plot_model(CombinedModel,to_file='demo.png',show_shapes=True)"
   ]
  },
  {
   "cell_type": "code",
   "execution_count": 52,
   "metadata": {},
   "outputs": [
    {
     "name": "stdout",
     "output_type": "stream",
     "text": [
      "Model: \"model_3\"\n",
      "__________________________________________________________________________________________________\n",
      "Layer (type)                    Output Shape         Param #     Connected to                     \n",
      "==================================================================================================\n",
      "input_1 (InputLayer)            (None, 5)            0                                            \n",
      "__________________________________________________________________________________________________\n",
      "model_1 (Model)                 (None, 1)            20901       input_1[0][0]                    \n",
      "__________________________________________________________________________________________________\n",
      "model_2 (Model)                 (None, 1)            20901       input_1[0][0]                    \n",
      "__________________________________________________________________________________________________\n",
      "concatenate_1 (Concatenate)     (None, 2)            0           model_1[1][0]                    \n",
      "                                                                 model_2[1][0]                    \n",
      "==================================================================================================\n",
      "Total params: 41,802\n",
      "Trainable params: 41,802\n",
      "Non-trainable params: 0\n",
      "__________________________________________________________________________________________________\n"
     ]
    }
   ],
   "source": [
    "CombinedModel.summary()"
   ]
  },
  {
   "cell_type": "code",
   "execution_count": null,
   "metadata": {},
   "outputs": [],
   "source": [
    "ConfModel.trainable = False\n",
    "MeanModel.trainable = True\n",
    "CombinedModel.compile(loss=ConstantLikelihoodFunction,\n",
    "                      optimizer='adam'\n",
    "                     )\n",
    "#why does the loss only return not nan when I use this ...I'm guessing it has to do with the log...\n",
    "CombinedModel.fit(X_train,y_train,\n",
    "                  epochs=100,\n",
    "                  batch_size=1000,\n",
    "                  validation_split=0.2\n",
    "                 )"
   ]
  },
  {
   "cell_type": "code",
   "execution_count": null,
   "metadata": {},
   "outputs": [],
   "source": [
    "ConfModel.trainable = True\n",
    "MeanModel.trainable = False\n",
    "CombinedModel.compile(loss=ConstantLikelihoodFunction,\n",
    "                      optimizer='adam'\n",
    "                     )\n",
    "\n",
    "CombinedModel.fit(X_train,y_train,\n",
    "                  epochs=100,\n",
    "                  batch_size=1000,\n",
    "                  validation_split=0.1\n",
    "                 )"
   ]
  },
  {
   "cell_type": "code",
   "execution_count": 57,
   "metadata": {},
   "outputs": [
    {
     "data": {
      "image/png": "[encoded data removed]",
      "text/plain": [
       "<Figure size 320x320 with 1 Axes>"
      ]
     },
     "metadata": {
      "needs_background": "light"
     },
     "output_type": "display_data"
    }
   ],
   "source": [
    "test_preds_2 = CombinedModel.predict(X_test)\n",
    "plt.figure()\n",
    "plt.hist(test_preds_2[:,0], bins=50, range=(-200,200), histtype='step')\n",
    "plt.hist(y_test, bins=50, range=(-200,200), histtype='step')\n",
    "plt.xlabel('Vr')\n",
    "plt.ylabel('Stars')\n",
    "plt.title('Test set - simulated data')\n",
    "plt.yscale('log')\n",
    "plt.show()"
   ]
  },
  {
   "cell_type": "code",
   "execution_count": 74,
   "metadata": {},
   "outputs": [
    {
     "name": "stdout",
     "output_type": "stream",
     "text": [
      "[0.33220997 0.1404052  0.0650609  0.21515281 0.17435847 0.06300502\n",
      " 0.27721444 0.25311586 0.3057027  0.19588776 0.35261238 0.\n",
      " 0.         0.00491727 0.         0.         0.01598033 0.16228598\n",
      " 0.         0.23719586 0.33013657 0.03691034 0.         0.\n",
      " 0.2934952  0.12545295 0.17195697 0.         0.1477449  0.\n",
      " 0.25890273 0.2612983  0.30319786 0.         0.0395855  0.35436657\n",
      " 0.03385221 0.15831415 0.09066331 0.27347696 0.13838378 0.08409004\n",
      " 0.         0.         0.29760873 0.         0.         0.\n",
      " 0.327172  ]\n"
     ]
    },
    {
     "data": {
      "text/plain": [
       "Text(0, 0.5, 'Error on Vr predicted')"
      ]
     },
     "execution_count": 74,
     "metadata": {},
     "output_type": "execute_result"
    },
    {
     "data": {
      "image/png": "[encoded data removed]",
      "text/plain": [
       "<Figure size 320x320 with 1 Axes>"
      ]
     },
     "metadata": {
      "needs_background": "light"
     },
     "output_type": "display_data"
    }
   ],
   "source": [
    "print(test_preds_2[1:50,1])\n",
    "plt.scatter(X_test[1:100,2], test_preds_2[1:100,1], color = 'red')\n",
    "#plt.errorbar(X_test[1:50,2], test_preds_2[1:50,0], yerr = test_preds_2[1:50,1], color = 'red',ls='none')\n",
    "plt.xlabel('Distance')\n",
    "plt.ylabel('Error on Vr predicted')\n",
    "#does give a relu output...but I'm still not sure if this is exactly showing the error\n"
   ]
  },
  {
   "cell_type": "code",
   "execution_count": null,
   "metadata": {},
   "outputs": [],
   "source": []
  },
  {
   "cell_type": "code",
   "execution_count": null,
   "metadata": {},
   "outputs": [],
   "source": []
  }
 ],
 "metadata": {
  "kernelspec": {
   "display_name": "venv_ML",
   "language": "python",
   "name": "venv_ml"
  },
  "language_info": {
   "codemirror_mode": {
    "name": "ipython",
    "version": 3
   },
   "file_extension": ".py",
   "mimetype": "text/x-python",
   "name": "python",
   "nbconvert_exporter": "python",
   "pygments_lexer": "ipython3",
   "version": "3.6.10"
  }
 },
 "nbformat": 4,
 "nbformat_minor": 4
}
