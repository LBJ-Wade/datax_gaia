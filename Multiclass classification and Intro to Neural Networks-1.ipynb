{
 "cells": [
  {
   "cell_type": "code",
   "execution_count": 1,
   "metadata": {},
   "outputs": [],
   "source": [
    "import numpy as np\n",
    "from scipy.special import expit\n",
    "from scipy.optimize import minimize\n",
    "\n",
    "import matplotlib as mpl\n",
    "from matplotlib import pyplot as plt"
   ]
  },
  {
   "cell_type": "markdown",
   "metadata": {},
   "source": [
    "# Regularized Logistic Regression"
   ]
  },
  {
   "cell_type": "markdown",
   "metadata": {},
   "source": [
    "Recall our logistic cost function:\n",
    "$$\n",
    "J(\\theta) = -\\frac{1}{m}\\left[\\sum_{i=1}^m y^{(i)}\\log h_\\theta(x^{(i)}) + (1 - y^{(i)})\\log (1 - h_\\theta(x^{(i)})\\right]\n",
    "$$\n",
    "\n",
    "When using high-order polynomials in our cost function, this can tend to lead to over-fitting, where $theta_i$'s get large to create tightly turning decision boundaries.  We can avoid this through *regularization*, i.e., by adding a penalty term for large $\\theta_i$'s.\n",
    "\n",
    "$$\n",
    "J(\\theta) = -\\frac{1}{m}\\left[\\sum_{i=1}^m y^{(i)}\\log h_\\theta(x^{(i)}) + (1 - y^{(i)})\\log (1 - h_\\theta(x^{(i)})\\right] + \\frac{\\lambda}{2m}\\sum_{j=1}^n \\theta_j^2\n",
    "$$\n",
    "\n",
    "or vectorized\n",
    "\n",
    "$$\n",
    "J(\\theta) = \\frac{1}{m}\\left(y^T\\log(g(X\\theta)) + (1-y)^T\\log(1 - g(X\\theta)\\right) + \\frac{\\lambda}{2m}\\sum_{j=1}^n\\theta_j^2\n",
    "$$"
   ]
  },
  {
   "cell_type": "code",
   "execution_count": 2,
   "metadata": {},
   "outputs": [],
   "source": [
    "def cost(theta, X, y, reg):\n",
    "    m = y.size\n",
    "    h = expit(X.dot(theta))\n",
    "    \n",
    "    J = -1/m * (y.T.dot(np.log(h)) + (1 - y).T.dot(np.log(1 - h))) + reg/(2*m) * np.sum(np.square(theta[1:]))\n",
    "    J = J[0]\n",
    "    \n",
    "    if np.isnan(J):\n",
    "        return np.inf\n",
    "    \n",
    "    return J\n",
    "\n",
    "def cost_gradient(theta, X, y, reg):\n",
    "    m = y.size\n",
    "    theta = theta.reshape(-1, 1)\n",
    "    h = expit(X.dot(theta))\n",
    "    \n",
    "    gradient = 1/m * X.T.dot(h - y) + reg/m * np.concatenate(([[0]], theta[1:])).reshape(-1, 1)\n",
    "    return gradient.flatten()"
   ]
  },
  {
   "cell_type": "markdown",
   "metadata": {},
   "source": [
    "# Multiclass Classification"
   ]
  },
  {
   "cell_type": "markdown",
   "metadata": {},
   "source": [
    "## One-vs-all"
   ]
  },
  {
   "cell_type": "markdown",
   "metadata": {},
   "source": [
    "Let's now look at classification problems where there are more than two classes, where $y \\in \\{0, 1, 2, \\ldots\\}$.\n",
    "\n",
    "For now consider a problem with three classes.  Where before we had one classifier (i.e., hypothesis) to establish a decision boundary between the two classes in feature space, we'll now need multiple classifiers\n",
    "\n",
    "$$\n",
    "h_\\theta^{(i)} = P(y=i|x;\\theta) ~~~~~ (i = \\{1, 2, 3\\})\n",
    "$$\n",
    "\n",
    "Once these classifiers have been trained, we can generate predictions according to\n",
    "\n",
    "$$\n",
    "\\max_i h_\\theta^{(i)}(x)\n",
    "$$"
   ]
  },
  {
   "cell_type": "markdown",
   "metadata": {},
   "source": [
    "## Example: handwriting recognition"
   ]
  },
  {
   "cell_type": "markdown",
   "metadata": {},
   "source": [
    "Let's train a multi-class classification model to distinguish handwritten digits."
   ]
  },
  {
   "cell_type": "code",
   "execution_count": 3,
   "metadata": {},
   "outputs": [],
   "source": [
    "from sklearn import datasets\n",
    "\n",
    "digits = datasets.load_digits()"
   ]
  },
  {
   "cell_type": "markdown",
   "metadata": {},
   "source": [
    "This data object already has things well organized for us.  The `.data` member is an array with shape `(n_samples, n_features)`, and the `.target` member contains the result variables for training."
   ]
  },
  {
   "cell_type": "code",
   "execution_count": 4,
   "metadata": {},
   "outputs": [
    {
     "data": {
      "text/plain": [
       "(array([[ 0.,  0.,  5., ...,  0.,  0.,  0.],\n",
       "        [ 0.,  0.,  0., ..., 10.,  0.,  0.],\n",
       "        [ 0.,  0.,  0., ..., 16.,  9.,  0.],\n",
       "        ...,\n",
       "        [ 0.,  0.,  1., ...,  6.,  0.,  0.],\n",
       "        [ 0.,  0.,  2., ..., 12.,  0.,  0.],\n",
       "        [ 0.,  0., 10., ..., 12.,  1.,  0.]]), array([0, 1, 2, ..., 8, 9, 8]))"
      ]
     },
     "execution_count": 4,
     "metadata": {},
     "output_type": "execute_result"
    }
   ],
   "source": [
    "digits.data, digits.target"
   ]
  },
  {
   "cell_type": "code",
   "execution_count": 5,
   "metadata": {},
   "outputs": [
    {
     "data": {
      "text/plain": [
       "(1797, 64)"
      ]
     },
     "execution_count": 5,
     "metadata": {},
     "output_type": "execute_result"
    }
   ],
   "source": [
    "digits.data.shape"
   ]
  },
  {
   "cell_type": "markdown",
   "metadata": {},
   "source": [
    "So it looks like there are 1797 samples with 64 features.  These 64 features are actually pixel values on a 2-D grid that correspond handwriting samples."
   ]
  },
  {
   "cell_type": "code",
   "execution_count": 6,
   "metadata": {},
   "outputs": [],
   "source": [
    "X = np.column_stack([np.ones((digits.data.shape[0], 1)), digits.data])\n",
    "y = digits.target.reshape(-1, 1)"
   ]
  },
  {
   "cell_type": "code",
   "execution_count": 7,
   "metadata": {},
   "outputs": [
    {
     "name": "stdout",
     "output_type": "stream",
     "text": [
      "[0 0 1 1 7]\n"
     ]
    },
    {
     "data": {
      "image/png": "[encoded data removed]",
      "text/plain": [
       "<Figure size 432x288 with 1 Axes>"
      ]
     },
     "metadata": {
      "needs_background": "light"
     },
     "output_type": "display_data"
    }
   ],
   "source": [
    "m = 5\n",
    "sample = np.random.choice(X.shape[0], m)\n",
    "\n",
    "plt.imshow(X[sample, 1:].reshape(-1, 8), cmap='Greys')\n",
    "print(y[sample].flatten())"
   ]
  },
  {
   "cell_type": "code",
   "execution_count": 8,
   "metadata": {},
   "outputs": [],
   "source": [
    "def one_v_all(X, y, n_classes, reg=.1):\n",
    "    n_features = X.shape[1]\n",
    "    \n",
    "    theta0 = np.zeros((n_features, 1))\n",
    "    thetas = np.zeros((n_classes, n_features))\n",
    "    \n",
    "    for cls in np.arange(n_classes):\n",
    "        res = minimize(cost, theta0, args=(X, y==cls, reg), jac=cost_gradient, options={'maxiter':50})\n",
    "        thetas[cls] = res.x\n",
    "    return thetas"
   ]
  },
  {
   "cell_type": "code",
   "execution_count": 9,
   "metadata": {},
   "outputs": [],
   "source": [
    "with np.errstate(divide='ignore'):\n",
    "    theta = one_v_all(X, y, 10)"
   ]
  },
  {
   "cell_type": "code",
   "execution_count": 10,
   "metadata": {},
   "outputs": [],
   "source": [
    "def predict_one_v_all(thetas, X):\n",
    "    Ps = expit(X.dot(thetas.T))\n",
    "    \n",
    "    return np.argmax(Ps, axis=1)"
   ]
  },
  {
   "cell_type": "code",
   "execution_count": 11,
   "metadata": {},
   "outputs": [
    {
     "name": "stdout",
     "output_type": "stream",
     "text": [
      "Training set accuracy: 99.1652754590985 %\n"
     ]
    }
   ],
   "source": [
    "pred = predict_one_v_all(theta, X)\n",
    "\n",
    "print('Training set accuracy: {} %'.format(np.mean(pred == y.ravel())*100))"
   ]
  },
  {
   "cell_type": "code",
   "execution_count": 12,
   "metadata": {},
   "outputs": [
    {
     "name": "stdout",
     "output_type": "stream",
     "text": [
      "prediction: [2]\n",
      "truth: [2]\n"
     ]
    },
    {
     "data": {
      "image/png": "[encoded data removed]",
      "text/plain": [
       "<Figure size 432x288 with 1 Axes>"
      ]
     },
     "metadata": {
      "needs_background": "light"
     },
     "output_type": "display_data"
    }
   ],
   "source": [
    "i = np.random.choice(X.shape[0])\n",
    "\n",
    "plt.imshow(X[i, 1:].reshape(-1, 8), cmap='Greys')\n",
    "print(\"prediction: {}\".format(predict_one_v_all(theta, X[i:i+1])))\n",
    "print(\"truth: {}\".format(y[i]))"
   ]
  },
  {
   "cell_type": "markdown",
   "metadata": {},
   "source": [
    "These are very controlled training samples though.  What do we do with less controlled, more realistic inputs?"
   ]
  },
  {
   "cell_type": "markdown",
   "metadata": {},
   "source": [
    "# Neural Networks"
   ]
  },
  {
   "cell_type": "markdown",
   "metadata": {},
   "source": [
    "In biology, a neuron serves to take a bunch of inputs, do some \"computation\", and send an output signal."
   ]
  },
  {
   "cell_type": "markdown",
   "metadata": {},
   "source": [
    "## Logistic Unit"
   ]
  },
  {
   "cell_type": "code",
   "execution_count": 13,
   "metadata": {},
   "outputs": [],
   "source": [
    "import daft"
   ]
  },
  {
   "cell_type": "code",
   "execution_count": 14,
   "metadata": {},
   "outputs": [
    {
     "data": {
      "image/png": "[encoded data removed]",
      "text/plain": [
       "<Figure size 266.457x133.228 with 1 Axes>"
      ]
     },
     "metadata": {},
     "output_type": "display_data"
    }
   ],
   "source": [
    "neuron_style = {\"ec\": \"#f4a041\"}\n",
    "output_style = {\"lw\": 0}\n",
    "label_style = {\"lw\": 0}\n",
    "\n",
    "with mpl.rc_context(rc={'font.family': 'serif', 'font.size': 14, 'text.usetex': True}):\n",
    "    pgm = daft.PGM([4.7, 2.35], origin=[-1.35, 2.])\n",
    "\n",
    "    xpos = -1\n",
    "    pgm.add_node(daft.Node(\"x1\", r\"$x_1$\", xpos, 4))\n",
    "    pgm.add_node(daft.Node(\"x2\", r\"$x_2$\", xpos, 3.2))\n",
    "    pgm.add_node(daft.Node(\"x3\", r\"$x_3$\", xpos, 2.4))\n",
    "\n",
    "    xpos += 1\n",
    "    pgm.add_node(daft.Node(\"neuron\", \"\", 0, 3.2, plot_params=neuron_style))\n",
    "    \n",
    "    xpos += 1\n",
    "    pgm.add_node(daft.Node(\"h\", r\"$h_\\theta(x)$\", 1, 3.2, aspect=1.8, plot_params=output_style))\n",
    "\n",
    "    pgm.add_edge(\"x1\", \"neuron\")\n",
    "    pgm.add_edge(\"x2\", \"neuron\")\n",
    "    pgm.add_edge(\"x3\", \"neuron\")\n",
    "    pgm.add_edge(\"neuron\", \"h\")\n",
    "\n",
    "    pgm.render()"
   ]
  },
  {
   "cell_type": "markdown",
   "metadata": {},
   "source": [
    "Some new terminology: the sigmoid function is an *activation function*, and parameters $\\{\\theta_1, \\theta_2, \\ldots\\}$ can be called *weights*."
   ]
  },
  {
   "cell_type": "markdown",
   "metadata": {},
   "source": [
    "## Neural Network"
   ]
  },
  {
   "cell_type": "code",
   "execution_count": 15,
   "metadata": {},
   "outputs": [
    {
     "data": {
      "image/png": "[encoded data removed]",
      "text/plain": [
       "<Figure size 266.457x133.228 with 1 Axes>"
      ]
     },
     "metadata": {},
     "output_type": "display_data"
    }
   ],
   "source": [
    "with mpl.rc_context(rc={'font.family': 'serif', 'font.size': 16, 'text.usetex': True}):\n",
    "    pgm = daft.PGM([4.7, 2.35], node_unit=1.1, origin=[-1.35, 2.])\n",
    "\n",
    "    xpos = -1\n",
    "    pgm.add_node(daft.Node(\"x1\", r\"$x_1$\", xpos, 4))\n",
    "    pgm.add_node(daft.Node(\"x2\", r\"$x_2$\", xpos, 3.2))\n",
    "    pgm.add_node(daft.Node(\"x3\", r\"$x_3$\", xpos, 2.4))\n",
    "    pgm.add_node(daft.Node(\"layer1\", \"Layer 1\", xpos, 2, plot_params=label_style))\n",
    "\n",
    "    xpos += 1.2\n",
    "    pgm.add_node(daft.Node(\"neuron1\", r\"$a_1^{(2)}$\", xpos, 4, plot_params=neuron_style))\n",
    "    pgm.add_node(daft.Node(\"neuron2\", r\"$a_2^{(2)}$\", xpos, 3.2, plot_params=neuron_style))\n",
    "    pgm.add_node(daft.Node(\"neuron3\", r\"$a_3^{(2)}$\", xpos, 2.4, plot_params=neuron_style))\n",
    "    pgm.add_node(daft.Node(\"layer2\", \"Layer 2\", xpos, 2, plot_params=label_style))\n",
    "\n",
    "    xpos += 1.2\n",
    "    pgm.add_node(daft.Node(\"out_neuron\", \"\", xpos, 3.2, plot_params=neuron_style))\n",
    "    pgm.add_node(daft.Node(\"layer3\", \"Layer 3\", xpos, 2, plot_params=label_style))\n",
    "\n",
    "    xpos += 1.2\n",
    "    pgm.add_node(daft.Node(\"h\", r\"$h_\\theta(x)$\", xpos, 3.2, aspect=1.5, plot_params=output_style))\n",
    "\n",
    "    for neuron in [\"neuron1\", \"neuron2\", \"neuron3\"]:\n",
    "        for inp in [\"x1\", \"x2\", \"x3\"]:\n",
    "            pgm.add_edge(inp, neuron)\n",
    "        pgm.add_edge(neuron, \"out_neuron\")\n",
    "    \n",
    "    pgm.add_edge(\"out_neuron\", \"h\")\n",
    "\n",
    "    pgm.render()"
   ]
  },
  {
   "cell_type": "markdown",
   "metadata": {},
   "source": [
    "Implicitly, each layer has a *bias unit* (e.g., $x_0$ for the first layer) to handle offsets.\n",
    "\n",
    "Layer 1 is also referred to as the *input layer*, Layer 2 a *hidden layer*, and Layer 3 the *output layer*.\n",
    "\n",
    "The $a_i^{(j)}$s represent the *activation* of unit $i$ in layer $j$, and we will pack all of the weights (i.e., parameters) into matrices $\\Theta^{(j)}$ controlling the mapping from layer $j$ to layer $j+1$.\n",
    "\n",
    "$$\n",
    "a_1^{(2)} = g(\\Theta_{10}^{(1)}x_0 + \\Theta_{11}^{(1)}x_1 + \\Theta_{12}^{(1)}x_2 + \\Theta_{13}^{(1)}x_3) \\\\\n",
    "a_2^{(2)} = g(\\Theta_{20}^{(1)}x_0 + \\Theta_{21}^{(1)}x_1 + \\Theta_{22}^{(1)}x_2 + \\Theta_{23}^{(1)}x_3) \\\\\n",
    "a_3^{(2)} = g(\\Theta_{30}^{(1)}x_0 + \\Theta_{31}^{(1)}x_1 + \\Theta_{32}^{(1)}x_2 + \\Theta_{33}^{(1)}x_3) \\\\\n",
    "h_\\Theta(x) = a_1^{(3)} = g(\\Theta_{10}^{(2)}a_0^{(2)} + \\Theta_{11}^{(2)}a_1^{(2)} + \\Theta_{12}^{(2)}a_2^{(2)} + \\Theta_{13}^{(2)}a_3^{(2)}) \\\\\n",
    "$$\n",
    "\n",
    "So $\\Theta^{(1)}$, which maps from our 3 input units to 3 hidden units, has shape `3,4`.  To save (virtual) ink we'll make use of the following notation\n",
    "$$\n",
    "z_1^{(2)} = \\Theta_{10}^{(1)}x_0 + \\Theta_{11}^{(1)}x_1 + \\Theta_{12}^{(1)}x_2 + \\Theta_{13}^{(1)}x_3\n",
    "$$\n",
    "\n",
    "so that\n",
    "\n",
    "$$\n",
    "a_1^{(2)} = g(z_1^{(2)}) = g(\\Theta_{10}^{(1)}x_0 + \\Theta_{11}^{(1)}x_1 + \\Theta_{12}^{(1)}x_2 + \\Theta_{13}^{(1)}x_3)\n",
    "$$"
   ]
  },
  {
   "cell_type": "markdown",
   "metadata": {},
   "source": [
    "### Vectorized"
   ]
  },
  {
   "cell_type": "markdown",
   "metadata": {},
   "source": [
    "We'll have our usual feature vector\n",
    "$$\n",
    "x =\n",
    "\\begin{bmatrix}\n",
    "    x_0 \\\\\n",
    "    x_1 \\\\\n",
    "    x_2 \\\\\n",
    "    x_3\n",
    "\\end{bmatrix}\n",
    "$$\n",
    "\n",
    "and we'll define $z^{(2)}$ to be a vector of $z$'s\n",
    "$$\n",
    "z^{(2)} =\n",
    "\\begin{bmatrix}\n",
    "    z_1^{(2)} \\\\\n",
    "    z_2^{(2)} \\\\\n",
    "    z_3^{(2)}\n",
    "\\end{bmatrix}\n",
    "$$\n",
    "\n",
    "So $z^{(2)}$ is a 3-D vector.\n",
    "\n",
    "We can now write\n",
    "$$\n",
    "z^{(2)} = \\Theta^{(1)}x \\\\\n",
    "a^{(2)} = g(z^{(2)})\n",
    "$$"
   ]
  },
  {
   "cell_type": "markdown",
   "metadata": {},
   "source": [
    "So far we've called the inputs $\\{x_1, x_2, x_3\\}$, but to homogonize our notation, we can also refer to them as the activations of the first layer, $\\{a_1^{(1)}, a_2^{(1)}, a_3^{(1)}\\}$, so\n",
    "$$\n",
    "z^{(2)} = \\Theta^{(1)}a^{(1)} \\\\\n",
    "a^{(2)} = g(z^{(2)})\n",
    "$$"
   ]
  },
  {
   "cell_type": "markdown",
   "metadata": {},
   "source": [
    "We still need the hidden layer's bias unit, so we need to add $a_0^{(2)} = 1$ to our final feature vector, making it 4-D.  So your final prediction:\n",
    "$$\n",
    "z^{(3)} = \\Theta^{(2)}a^{(2)} \\\\\n",
    "h_\\Theta(x) = a^{(3)} = g(z^{(3)})\n",
    "$$\n",
    "\n",
    "The flow if this computation is ofter called *forward propagation*.  So in the end we're still doing logistic regression at the end, except that instead of using the input features $\\{x_1, x_2, x_3\\}$, we're using the activation features $\\{a_1^{(2)}, a_2^{(2)}, a_3^{(2)}\\}$."
   ]
  },
  {
   "cell_type": "markdown",
   "metadata": {},
   "source": [
    "## Example XNOR"
   ]
  },
  {
   "cell_type": "markdown",
   "metadata": {},
   "source": [
    "| A | B | A XOR B |\n",
    "|:-:|:-:|:-:|\n",
    "| 0 | 0 | 0 |\n",
    "| 0 | 1 | 1 |\n",
    "| 1 | 0 | 1 |\n",
    "| 1 | 1 | 0 |"
   ]
  },
  {
   "cell_type": "markdown",
   "metadata": {},
   "source": [
    "`XNOR` is just the logical negation of `XOR`, $A \\mathrm{~XNOR~} B = \\mathrm{~NOT~}(A \\mathrm{~XOR~} B)$"
   ]
  },
  {
   "cell_type": "markdown",
   "metadata": {},
   "source": [
    "| A | B | A XNOR B |\n",
    "|:-:|:-:|:-:|\n",
    "| 0 | 0 | 1 |\n",
    "| 0 | 1 | 0 |\n",
    "| 1 | 0 | 0 |\n",
    "| 1 | 1 | 1 |"
   ]
  },
  {
   "cell_type": "markdown",
   "metadata": {},
   "source": [
    "Let's teach this to a neural network."
   ]
  },
  {
   "cell_type": "markdown",
   "metadata": {},
   "source": [
    "## Simpler example: AND,  OR"
   ]
  },
  {
   "cell_type": "markdown",
   "metadata": {},
   "source": [
    "Consider $x_1, x_2 \\in \\{0, 1\\}$, and $y = x_1 \\mathrm{~AND~}x_2$."
   ]
  },
  {
   "cell_type": "code",
   "execution_count": 16,
   "metadata": {},
   "outputs": [
    {
     "data": {
      "image/png": "[encoded data removed]",
      "text/plain": [
       "<Figure size 266.457x133.228 with 1 Axes>"
      ]
     },
     "metadata": {},
     "output_type": "display_data"
    }
   ],
   "source": [
    "with mpl.rc_context(rc={'font.family': 'serif', 'font.size': 14, 'text.usetex': True}):\n",
    "    pgm = daft.PGM([4.7, 2.35], origin=[-1.35, 2.])\n",
    "\n",
    "    xpos = -1\n",
    "    pgm.add_node(daft.Node(\"bias\", r\"$+1$\", xpos, 4))\n",
    "    pgm.add_node(daft.Node(\"x1\", r\"$x_1$\", xpos, 3.2))\n",
    "    pgm.add_node(daft.Node(\"x2\", r\"$x_2$\", xpos, 2.4))\n",
    "\n",
    "    xpos += 1\n",
    "    pgm.add_node(daft.Node(\"neuron\", \"\", 0, 3.2, plot_params=neuron_style))\n",
    "    \n",
    "    xpos += 1\n",
    "    pgm.add_node(daft.Node(\"h\", r\"$h_\\theta(x)$\", 1, 3.2, aspect=1.8, plot_params=output_style))\n",
    "\n",
    "    pgm.add_edge(\"bias\", \"neuron\")\n",
    "    pgm.add_edge(\"x1\", \"neuron\")\n",
    "    pgm.add_edge(\"x2\", \"neuron\")\n",
    "    pgm.add_edge(\"neuron\", \"h\")\n",
    "\n",
    "    pgm.render()"
   ]
  },
  {
   "cell_type": "markdown",
   "metadata": {},
   "source": [
    "Let's assign weights $\\Theta_0=-30, \\Theta_1=20, \\Theta_2=20$.  Using the above network,\n",
    "\n",
    "$$\n",
    "h_\\Theta(x) = g(-30 + 20x_1 + 20x_2)\n",
    "$$\n",
    "\n",
    "| $x_1$ | $x_2$ | $h_\\Theta(x)$ |\n",
    "|---|---|--------|\n",
    "| 0 | 0 | $g(-30) \\approx 0$ |\n",
    "| 0 | 1 | $g(-10) \\approx 0$ |\n",
    "| 1 | 0 | $g(-10) \\approx 0$ |\n",
    "| 1 | 1 | $g(10) \\approx 1$ |\n",
    "\n",
    "So this behaves like $x_1 \\mathrm{~AND~} x_2$."
   ]
  },
  {
   "cell_type": "markdown",
   "metadata": {},
   "source": [
    "What about $\\Theta_0=-10, \\Theta_1=20, \\Theta_2=20$.\n",
    "\n",
    "$$\n",
    "h_\\Theta(x) = g(-10 + 20x_1 + 20x_2)\n",
    "$$\n",
    "\n",
    "| $x_1$ | $x_2$ | $h_\\Theta(x)$ |\n",
    "|---|---|--------|\n",
    "| 0 | 0 | $g(-10) \\approx 0$ |\n",
    "| 0 | 1 | $g(10) \\approx 1$ |\n",
    "| 1 | 0 | $g(10) \\approx 1$ |\n",
    "| 1 | 1 | $g(30) \\approx 1$ |\n",
    "\n",
    "So this behaves like $x_1 \\mathrm{~OR~} x_2$.\n"
   ]
  },
  {
   "cell_type": "markdown",
   "metadata": {},
   "source": [
    "## Simplest example: negation"
   ]
  },
  {
   "cell_type": "code",
   "execution_count": 17,
   "metadata": {},
   "outputs": [
    {
     "data": {
      "image/png": "[encoded data removed]",
      "text/plain": [
       "<Figure size 266.457x133.228 with 1 Axes>"
      ]
     },
     "metadata": {},
     "output_type": "display_data"
    }
   ],
   "source": [
    "with mpl.rc_context(rc={'font.family': 'serif', 'font.size': 14, 'text.usetex': True}):\n",
    "    pgm = daft.PGM([4.7, 2.35], origin=[-1.35, 2.])\n",
    "\n",
    "    xpos = -1\n",
    "    pgm.add_node(daft.Node(\"bias\", r\"$+1$\", xpos, 4))\n",
    "    pgm.add_node(daft.Node(\"x1\", r\"$x_1$\", xpos, 3.2))\n",
    "\n",
    "    xpos += 1\n",
    "    pgm.add_node(daft.Node(\"neuron\", \"\", 0, 3.2, plot_params=neuron_style))\n",
    "    \n",
    "    xpos += 1\n",
    "    pgm.add_node(daft.Node(\"h\", r\"$h_\\theta(x)$\", 1, 3.2, aspect=1.8, plot_params=output_style))\n",
    "\n",
    "    pgm.add_edge(\"bias\", \"neuron\")\n",
    "    pgm.add_edge(\"x1\", \"neuron\")\n",
    "    pgm.add_edge(\"neuron\", \"h\")\n",
    "\n",
    "    pgm.render()"
   ]
  },
  {
   "cell_type": "markdown",
   "metadata": {},
   "source": [
    "Let's use this network with weights $\\Theta_0=10, \\Theta_1=-20$.\n",
    "\n",
    "$$\n",
    "h_\\Theta(x) = g(10 - 20x_1)\n",
    "$$\n",
    "\n",
    "| $x_1$ | $h_\\Theta(x)$ |\n",
    "|---|---|\n",
    "| 0 | $g(10) \\approx 1$ |\n",
    "| 1 | $g(-10) \\approx 0$ |\n",
    "\n",
    "So this behaves like $\\mathrm{NOT~}x_1$."
   ]
  },
  {
   "cell_type": "markdown",
   "metadata": {},
   "source": [
    "We can extend this idea to make $(\\mathrm{~NOT~}x_1)\\mathrm{~AND~}(\\mathrm{~NOT~}x_2)$ when \n",
    "$\\Theta_0=10, \\Theta_1=-20, \\Theta_2=-20$.  This will be useful later."
   ]
  },
  {
   "cell_type": "markdown",
   "metadata": {},
   "source": [
    "| $x_1$ | $x_2$ | $h_\\Theta(x)$ |\n",
    "|---|---|----|\n",
    "| 0 | 0 | 1 |\n",
    "| 0 | 1 | 0 |\n",
    "| 1 | 0 | 0 |\n",
    "| 1 | 1 | 0 |"
   ]
  },
  {
   "cell_type": "markdown",
   "metadata": {},
   "source": [
    "## Bring it together to build XNOR"
   ]
  },
  {
   "cell_type": "code",
   "execution_count": 18,
   "metadata": {},
   "outputs": [
    {
     "data": {
      "image/png": "[encoded data removed]",
      "text/plain": [
       "<Figure size 266.457x170.079 with 1 Axes>"
      ]
     },
     "metadata": {},
     "output_type": "display_data"
    },
    {
     "data": {
      "image/png": "[encoded data removed]",
      "text/plain": [
       "<Figure size 266.457x170.079 with 1 Axes>"
      ]
     },
     "metadata": {},
     "output_type": "display_data"
    },
    {
     "data": {
      "image/png": "[encoded data removed]",
      "text/plain": [
       "<Figure size 266.457x170.079 with 1 Axes>"
      ]
     },
     "metadata": {},
     "output_type": "display_data"
    }
   ],
   "source": [
    "and_style = {\"ec\": \"r\"}\n",
    "nandn_style = {\"ec\": \"b\"}\n",
    "or_style = {\"ec\": \"g\"}\n",
    "\n",
    "output_style = {\"lw\": 0}\n",
    "label_style = {\"lw\": 0}\n",
    "\n",
    "with mpl.rc_context(rc={'font.family': 'serif', 'font.size': 14, 'text.usetex': True}):\n",
    "    pgm = daft.PGM([4.7, 3], origin=[-1.35, 1.8])\n",
    "\n",
    "    xpos = -1\n",
    "    pgm.add_node(daft.Node(\"bias\", r\"$+1$\", xpos, 4))\n",
    "    pgm.add_node(daft.Node(\"x1\", r\"$x_1$\", xpos, 3.2))\n",
    "    pgm.add_node(daft.Node(\"x2\", r\"$x_2$\", xpos, 2.4))\n",
    "    pgm.add_node(daft.Node(\"and\", r\"$x_1 ~\\mathrm{AND}~ x_2$\", xpos+.5, 4.5, plot_params=label_style))\n",
    "    pgm.add_node(daft.Node(\"theta\", r\"$\\Theta=\\{-30, 20, 20\\}$\", xpos+1, 1.8, plot_params=label_style))\n",
    "\n",
    "    xpos += 1\n",
    "    pgm.add_node(daft.Node(\"neuron\", \"\", 0, 3.2, plot_params=and_style))\n",
    "    \n",
    "    xpos += 1\n",
    "    pgm.add_node(daft.Node(\"h\", r\"$h_\\theta(x)$\", 1, 3.2, aspect=1.8, plot_params=output_style))\n",
    "\n",
    "    pgm.add_edge(\"bias\", \"neuron\", **and_style)\n",
    "    pgm.add_edge(\"x1\", \"neuron\", **and_style)\n",
    "    pgm.add_edge(\"x2\", \"neuron\", **and_style)\n",
    "    pgm.add_edge(\"neuron\", \"h\", **and_style)\n",
    "\n",
    "    pgm.render()\n",
    "    \n",
    "with mpl.rc_context(rc={'font.family': 'serif', 'font.size': 14, 'text.usetex': True}):\n",
    "    pgm = daft.PGM([4.7, 3], origin=[-1.35, 1.8])\n",
    "\n",
    "    xpos = -1\n",
    "    pgm.add_node(daft.Node(\"bias\", r\"$+1$\", xpos, 4))\n",
    "    pgm.add_node(daft.Node(\"x1\", r\"$x_2$\", xpos, 3.2))\n",
    "    pgm.add_node(daft.Node(\"x2\", r\"$x_3$\", xpos, 2.4))\n",
    "    pgm.add_node(daft.Node(\"and\", r\"$(\\mathrm{NOT}~x_1) ~\\mathrm{AND}~ (\\mathrm{NOT}~x_2)$\", xpos+.3, 4.5, plot_params=label_style))\n",
    "    pgm.add_node(daft.Node(\"theta\", r\"$\\Theta=\\{10, -20, -20\\}$\", xpos+1, 1.8, plot_params=label_style))\n",
    "\n",
    "    xpos += 1\n",
    "    pgm.add_node(daft.Node(\"neuron\", \"\", 0, 3.2, plot_params=nandn_style))\n",
    "    \n",
    "    xpos += 1\n",
    "    pgm.add_node(daft.Node(\"h\", r\"$h_\\theta(x)$\", 1, 3.2, aspect=1.8, plot_params=output_style))\n",
    "\n",
    "    pgm.add_edge(\"bias\", \"neuron\", **nandn_style)\n",
    "    pgm.add_edge(\"x1\", \"neuron\", **nandn_style)\n",
    "    pgm.add_edge(\"x2\", \"neuron\", **nandn_style)\n",
    "    pgm.add_edge(\"neuron\", \"h\", **nandn_style)\n",
    "\n",
    "    pgm.render()\n",
    "    \n",
    "with mpl.rc_context(rc={'font.family': 'serif', 'font.size': 14, 'text.usetex': True}):\n",
    "    pgm = daft.PGM([4.7, 3], origin=[-1.35, 1.8])\n",
    "\n",
    "    xpos = -1\n",
    "    pgm.add_node(daft.Node(\"bias\", r\"$+1$\", xpos, 4))\n",
    "    pgm.add_node(daft.Node(\"x1\", r\"$x_1$\", xpos, 3.2))\n",
    "    pgm.add_node(daft.Node(\"x2\", r\"$x_2$\", xpos, 2.4))\n",
    "    pgm.add_node(daft.Node(\"and\", r\"$x_1 ~\\mathrm{OR}~ x_2$\", xpos+.5, 4.5, plot_params=label_style))\n",
    "    pgm.add_node(daft.Node(\"theta\", r\"$\\Theta=\\{-10, 20, 20\\}$\", xpos+1, 1.8, plot_params=label_style))\n",
    "\n",
    "    xpos += 1\n",
    "    pgm.add_node(daft.Node(\"neuron\", \"\", 0, 3.2, plot_params=or_style))\n",
    "    \n",
    "    xpos += 1\n",
    "    pgm.add_node(daft.Node(\"h\", r\"$h_\\theta(x)$\", 1, 3.2, aspect=1.8, plot_params=output_style))\n",
    "\n",
    "    pgm.add_edge(\"bias\", \"neuron\", **or_style)\n",
    "    pgm.add_edge(\"x1\", \"neuron\", **or_style)\n",
    "    pgm.add_edge(\"x2\", \"neuron\", **or_style)\n",
    "    pgm.add_edge(\"neuron\", \"h\", **or_style)\n",
    "\n",
    "    pgm.render()"
   ]
  },
  {
   "cell_type": "code",
   "execution_count": 19,
   "metadata": {},
   "outputs": [
    {
     "data": {
      "image/png": "[encoded data removed]",
      "text/plain": [
       "<Figure size 266.457x170.079 with 1 Axes>"
      ]
     },
     "metadata": {},
     "output_type": "display_data"
    }
   ],
   "source": [
    "with mpl.rc_context(rc={'font.family': 'serif', 'font.size': 14, 'text.usetex': True}):\n",
    "    pgm = daft.PGM([4.7, 3], origin=[-1.35, 1.8])\n",
    "\n",
    "    xpos = -1\n",
    "    pgm.add_node(daft.Node(\"bias\", r\"$+1$\", xpos, 4))\n",
    "    pgm.add_node(daft.Node(\"x1\", r\"$x_1$\", xpos, 3.2))\n",
    "    pgm.add_node(daft.Node(\"x2\", r\"$x_2$\", xpos, 2.4))\n",
    "\n",
    "    xpos += 1\n",
    "    pgm.add_node(daft.Node(\"a21\", r\"$a_1^{(2)}$\", xpos, 3.8, plot_params=and_style))\n",
    "    \n",
    "    pgm.add_edge(\"bias\", \"a21\", **and_style)\n",
    "    pgm.add_edge(\"x1\", \"a21\", **and_style)\n",
    "    pgm.add_edge(\"x2\", \"a21\", **and_style)\n",
    "\n",
    "    pgm.add_node(daft.Node(\"a22\", r\"$a_2^{(2)}$\", xpos, 2.6, plot_params=nandn_style))\n",
    "    \n",
    "    pgm.add_edge(\"bias\", \"a22\", **nandn_style)\n",
    "    pgm.add_edge(\"x1\", \"a22\", **nandn_style)\n",
    "    pgm.add_edge(\"x2\", \"a22\", **nandn_style)\n",
    "\n",
    "    xpos += 1\n",
    "    pgm.add_node(daft.Node(\"a31\", r\"$a_1^{(3)}$\", xpos, 3.2, plot_params=or_style))\n",
    "    \n",
    "    pgm.add_edge(\"a21\", \"a31\", **or_style)\n",
    "    pgm.add_edge(\"a22\", \"a31\", **or_style)\n",
    "    \n",
    "    xpos += 1\n",
    "    pgm.add_node(daft.Node(\"h\", r\"$h_\\theta(x)$\", xpos, 3.2, aspect=1.8, plot_params=output_style))\n",
    "\n",
    "    pgm.add_edge(\"a31\", \"h\", **or_style)\n",
    "\n",
    "    pgm.render()"
   ]
  },
  {
   "cell_type": "markdown",
   "metadata": {},
   "source": [
    "| $x_1$ | $x_2$ | $a_1^{(2)}$ | $a_2^{(2)}$ | $h_\\Theta(x)$ |\n",
    "|---|---|---|---|---|\n",
    "| 0 | 0 | 0 | 1 | 1 |\n",
    "| 0 | 1 | 0 | 0 | 0 |\n",
    "| 1 | 0 | 0 | 0 | 0 |\n",
    "| 1 | 1 | 1 | 0 | 1 |"
   ]
  },
  {
   "cell_type": "markdown",
   "metadata": {},
   "source": [
    "# Cost function"
   ]
  },
  {
   "cell_type": "markdown",
   "metadata": {},
   "source": [
    "First let's define a few parameters for our network: $L$ is the number of layers in the network, $s_l$ is the number of units (not counting the bias unit) in layer $l$, and $K$ is the number of outputs $h_\\Theta(x)_k$ (we can have more than one)."
   ]
  },
  {
   "cell_type": "markdown",
   "metadata": {},
   "source": [
    "Recall our cost function for regularized logistic regression\n",
    "\n",
    "$$\n",
    "J(\\theta) = -\\frac{1}{m}\\left[\\sum_{i=1}^m y^{(i)}\\log h_\\theta(x^{(i)}) + (1 - y^{(i)})\\log (1 - h_\\theta(x^{(i)})\\right] + \\frac{\\lambda}{2m}\\sum_{j=1}^n \\theta_j^2\n",
    "$$\n",
    "\n",
    "For neural networks we need to account for multiple output nodes and multiple parameter matrices\n",
    "\n",
    "$$\n",
    "J(\\theta) = -\\frac{1}{m}\\left[\\sum_{i=1}^m \\sum_{k=1}^K y^{(i)}_k\\log h_\\theta(x^{(i)})_k + (1 - y^{(i)}_k)\\log (1 - h_\\theta(x^{(i)})_k\\right] + \\frac{\\lambda}{2m}\\sum_{l=1}^{L-1}\\sum_{i=1}^{s_l} \\sum_{j=1}^{s_{l+1}} (\\Theta_{j,i}^{(l)})^2\n",
    "$$"
   ]
  },
  {
   "cell_type": "code",
   "execution_count": null,
   "metadata": {},
   "outputs": [],
   "source": []
  }
 ],
 "metadata": {
  "kernelspec": {
   "display_name": "Python 3",
   "language": "python",
   "name": "python3"
  },
  "language_info": {
   "codemirror_mode": {
    "name": "ipython",
    "version": 3
   },
   "file_extension": ".py",
   "mimetype": "text/x-python",
   "name": "python",
   "nbconvert_exporter": "python",
   "pygments_lexer": "ipython3",
   "version": "3.7.3"
  }
 },
 "nbformat": 4,
 "nbformat_minor": 2
}
