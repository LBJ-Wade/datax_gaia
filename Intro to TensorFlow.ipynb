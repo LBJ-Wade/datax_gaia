{
 "cells": [
  {
   "cell_type": "markdown",
   "metadata": {
    "toc": "true"
   },
   "source": [
    "# Table of Contents\n",
    " <p><div class=\"lev1 toc-item\"><a href=\"#TensorFlow\" data-toc-modified-id=\"TensorFlow-1\"><span class=\"toc-item-num\">1&nbsp;&nbsp;</span>TensorFlow</a></div><div class=\"lev1 toc-item\"><a href=\"#Basic-operations\" data-toc-modified-id=\"Basic-operations-2\"><span class=\"toc-item-num\">2&nbsp;&nbsp;</span>Basic operations</a></div><div class=\"lev2 toc-item\"><a href=\"#Linear-Regression\" data-toc-modified-id=\"Linear-Regression-21\"><span class=\"toc-item-num\">2.1&nbsp;&nbsp;</span>Linear Regression</a></div><div class=\"lev2 toc-item\"><a href=\"#Logistic-Regression\" data-toc-modified-id=\"Logistic-Regression-22\"><span class=\"toc-item-num\">2.2&nbsp;&nbsp;</span>Logistic Regression</a></div><div class=\"lev2 toc-item\"><a href=\"#Neural-networks\" data-toc-modified-id=\"Neural-networks-23\"><span class=\"toc-item-num\">2.3&nbsp;&nbsp;</span>Neural networks</a></div><div class=\"lev1 toc-item\"><a href=\"#Higher-level\" data-toc-modified-id=\"Higher-level-3\"><span class=\"toc-item-num\">3&nbsp;&nbsp;</span>Higher level</a></div><div class=\"lev2 toc-item\"><a href=\"#Neural-network\" data-toc-modified-id=\"Neural-network-31\"><span class=\"toc-item-num\">3.1&nbsp;&nbsp;</span>Neural network</a></div>"
   ]
  },
  {
   "cell_type": "markdown",
   "metadata": {},
   "source": [
    "# TensorFlow"
   ]
  },
  {
   "cell_type": "markdown",
   "metadata": {},
   "source": [
    "`TensorFlow` is an open source library for computation using data flow graphs (e.g., everything we've been doing so far).  It was originally developed by the Google Brain Team."
   ]
  },
  {
   "cell_type": "code",
   "execution_count": 1,
   "metadata": {
    "collapsed": false
   },
   "outputs": [
    {
     "name": "stdout",
     "output_type": "stream",
     "text": [
      "Collecting tensorflow\n",
      "\u001b[?25l  Downloading https://files.pythonhosted.org/packages/d4/29/6b4f1e02417c3a1ccc85380f093556ffd0b35dc354078074c5195c8447f2/tensorflow-1.13.1-cp37-cp37m-manylinux1_x86_64.whl (92.6MB)\n",
      "\u001b[K    100% |████████████████████████████████| 92.6MB 884kB/s \n",
      "\u001b[?25hCollecting astor>=0.6.0 (from tensorflow)\n",
      "  Downloading https://files.pythonhosted.org/packages/35/6b/11530768cac581a12952a2aad00e1526b89d242d0b9f59534ef6e6a1752f/astor-0.7.1-py2.py3-none-any.whl\n",
      "Requirement already satisfied: numpy>=1.13.3 in /opt/conda/lib/python3.7/site-packages (from tensorflow) (1.15.4)\n",
      "Requirement already satisfied: wheel>=0.26 in /opt/conda/lib/python3.7/site-packages (from tensorflow) (0.33.1)\n",
      "Collecting gast>=0.2.0 (from tensorflow)\n",
      "  Downloading https://files.pythonhosted.org/packages/4e/35/11749bf99b2d4e3cceb4d55ca22590b0d7c2c62b9de38ac4a4a7f4687421/gast-0.2.2.tar.gz\n",
      "Collecting tensorboard<1.14.0,>=1.13.0 (from tensorflow)\n",
      "\u001b[?25l  Downloading https://files.pythonhosted.org/packages/0f/39/bdd75b08a6fba41f098b6cb091b9e8c7a80e1b4d679a581a0ccd17b10373/tensorboard-1.13.1-py3-none-any.whl (3.2MB)\n",
      "\u001b[K    100% |████████████████████████████████| 3.2MB 7.5MB/s \n",
      "\u001b[?25hCollecting keras-applications>=1.0.6 (from tensorflow)\n",
      "\u001b[?25l  Downloading https://files.pythonhosted.org/packages/90/85/64c82949765cfb246bbdaf5aca2d55f400f792655927a017710a78445def/Keras_Applications-1.0.7-py2.py3-none-any.whl (51kB)\n",
      "\u001b[K    100% |████████████████████████████████| 61kB 36.4MB/s \n",
      "\u001b[?25hRequirement already satisfied: six>=1.10.0 in /opt/conda/lib/python3.7/site-packages (from tensorflow) (1.12.0)\n",
      "Collecting termcolor>=1.1.0 (from tensorflow)\n",
      "  Downloading https://files.pythonhosted.org/packages/8a/48/a76be51647d0eb9f10e2a4511bf3ffb8cc1e6b14e9e4fab46173aa79f981/termcolor-1.1.0.tar.gz\n",
      "Collecting grpcio>=1.8.6 (from tensorflow)\n",
      "\u001b[?25l  Downloading https://files.pythonhosted.org/packages/b4/e2/80a6c9ed70f4f068168a5aa16fa2c6906b0146556339ffb89ba36314ab45/grpcio-1.20.0-cp37-cp37m-manylinux1_x86_64.whl (2.1MB)\n",
      "\u001b[K    100% |████████████████████████████████| 2.2MB 8.0MB/s \n",
      "\u001b[?25hCollecting keras-preprocessing>=1.0.5 (from tensorflow)\n",
      "\u001b[?25l  Downloading https://files.pythonhosted.org/packages/c0/bf/0315ef6a9fd3fc2346e85b0ff1f5f83ca17073f2c31ac719ab2e4da0d4a3/Keras_Preprocessing-1.0.9-py2.py3-none-any.whl (59kB)\n",
      "\u001b[K    100% |████████████████████████████████| 61kB 33.3MB/s \n",
      "\u001b[?25hRequirement already satisfied: protobuf>=3.6.1 in /opt/conda/lib/python3.7/site-packages (from tensorflow) (3.7.1)\n",
      "Collecting tensorflow-estimator<1.14.0rc0,>=1.13.0 (from tensorflow)\n",
      "\u001b[?25l  Downloading https://files.pythonhosted.org/packages/bb/48/13f49fc3fa0fdf916aa1419013bb8f2ad09674c275b4046d5ee669a46873/tensorflow_estimator-1.13.0-py2.py3-none-any.whl (367kB)\n",
      "\u001b[K    100% |████████████████████████████████| 368kB 37.2MB/s \n",
      "\u001b[?25hCollecting absl-py>=0.1.6 (from tensorflow)\n",
      "\u001b[?25l  Downloading https://files.pythonhosted.org/packages/da/3f/9b0355080b81b15ba6a9ffcf1f5ea39e307a2778b2f2dc8694724e8abd5b/absl-py-0.7.1.tar.gz (99kB)\n",
      "\u001b[K    100% |████████████████████████████████| 102kB 43.6MB/s \n",
      "\u001b[?25hCollecting markdown>=2.6.8 (from tensorboard<1.14.0,>=1.13.0->tensorflow)\n",
      "\u001b[?25l  Downloading https://files.pythonhosted.org/packages/f5/e4/d8c18f2555add57ff21bf25af36d827145896a07607486cc79a2aea641af/Markdown-3.1-py2.py3-none-any.whl (87kB)\n",
      "\u001b[K    100% |████████████████████████████████| 92kB 40.8MB/s \n",
      "\u001b[?25hCollecting werkzeug>=0.11.15 (from tensorboard<1.14.0,>=1.13.0->tensorflow)\n",
      "\u001b[?25l  Downloading https://files.pythonhosted.org/packages/18/79/84f02539cc181cdbf5ff5a41b9f52cae870b6f632767e43ba6ac70132e92/Werkzeug-0.15.2-py2.py3-none-any.whl (328kB)\n",
      "\u001b[K    100% |████████████████████████████████| 337kB 41.4MB/s \n",
      "\u001b[?25hRequirement already satisfied: h5py in /opt/conda/lib/python3.7/site-packages (from keras-applications>=1.0.6->tensorflow) (2.9.0)\n",
      "Requirement already satisfied: setuptools in /opt/conda/lib/python3.7/site-packages (from protobuf>=3.6.1->tensorflow) (41.0.0)\n",
      "Collecting mock>=2.0.0 (from tensorflow-estimator<1.14.0rc0,>=1.13.0->tensorflow)\n",
      "\u001b[?25l  Downloading https://files.pythonhosted.org/packages/e6/35/f187bdf23be87092bd0f1200d43d23076cee4d0dec109f195173fd3ebc79/mock-2.0.0-py2.py3-none-any.whl (56kB)\n",
      "\u001b[K    100% |████████████████████████████████| 61kB 33.6MB/s \n",
      "\u001b[?25hCollecting pbr>=0.11 (from mock>=2.0.0->tensorflow-estimator<1.14.0rc0,>=1.13.0->tensorflow)\n",
      "\u001b[?25l  Downloading https://files.pythonhosted.org/packages/14/09/12fe9a14237a6b7e0ba3a8d6fcf254bf4b10ec56a0185f73d651145e9222/pbr-5.1.3-py2.py3-none-any.whl (107kB)\n",
      "\u001b[K    100% |████████████████████████████████| 112kB 43.2MB/s \n",
      "\u001b[?25hBuilding wheels for collected packages: gast, termcolor, absl-py\n",
      "  Building wheel for gast (setup.py) ... \u001b[?25ldone\n",
      "\u001b[?25h  Stored in directory: /home/jovyan/.cache/pip/wheels/5c/2e/7e/a1d4d4fcebe6c381f378ce7743a3ced3699feb89bcfbdadadd\n",
      "  Building wheel for termcolor (setup.py) ... \u001b[?25ldone\n",
      "\u001b[?25h  Stored in directory: /home/jovyan/.cache/pip/wheels/7c/06/54/bc84598ba1daf8f970247f550b175aaaee85f68b4b0c5ab2c6\n",
      "  Building wheel for absl-py (setup.py) ... \u001b[?25ldone\n",
      "\u001b[?25h  Stored in directory: /home/jovyan/.cache/pip/wheels/ee/98/38/46cbcc5a93cfea5492d19c38562691ddb23b940176c14f7b48\n",
      "Successfully built gast termcolor absl-py\n",
      "Installing collected packages: astor, gast, grpcio, markdown, absl-py, werkzeug, tensorboard, keras-applications, termcolor, keras-preprocessing, pbr, mock, tensorflow-estimator, tensorflow\n",
      "Successfully installed absl-py-0.7.1 astor-0.7.1 gast-0.2.2 grpcio-1.20.0 keras-applications-1.0.7 keras-preprocessing-1.0.9 markdown-3.1 mock-2.0.0 pbr-5.1.3 tensorboard-1.13.1 tensorflow-1.13.1 tensorflow-estimator-1.13.0 termcolor-1.1.0 werkzeug-0.15.2\n"
     ]
    }
   ],
   "source": [
    "!pip install tensorflow"
   ]
  },
  {
   "cell_type": "code",
   "execution_count": 2,
   "metadata": {
    "collapsed": true
   },
   "outputs": [],
   "source": [
    "import tensorflow as tf"
   ]
  },
  {
   "cell_type": "markdown",
   "metadata": {},
   "source": [
    "That probably killed your kernel.  Try again after upgrading `numpy`."
   ]
  },
  {
   "cell_type": "code",
   "execution_count": 2,
   "metadata": {
    "collapsed": false
   },
   "outputs": [
    {
     "name": "stdout",
     "output_type": "stream",
     "text": [
      "Collecting numpy\n",
      "  Downloading numpy-1.14.1-cp36-cp36m-manylinux1_x86_64.whl (12.2MB)\n",
      "\u001b[K    100% |████████████████████████████████| 12.2MB 78kB/s  eta 0:00:01   13% |████▎                           | 1.6MB 20.0MB/s eta 0:00:01    81% |██████████████████████████▏     | 9.9MB 34.9MB/s eta 0:00:01\n",
      "\u001b[?25hInstalling collected packages: numpy\n",
      "  Found existing installation: numpy 1.12.1\n",
      "    Uninstalling numpy-1.12.1:\n",
      "      Successfully uninstalled numpy-1.12.1\n",
      "Successfully installed numpy-1.14.1\n"
     ]
    }
   ],
   "source": [
    "!pip install --upgrade numpy"
   ]
  },
  {
   "cell_type": "code",
   "execution_count": 3,
   "metadata": {
    "collapsed": true
   },
   "outputs": [],
   "source": [
    "import tensorflow as tf"
   ]
  },
  {
   "cell_type": "markdown",
   "metadata": {},
   "source": [
    "# Basic operations"
   ]
  },
  {
   "cell_type": "markdown",
   "metadata": {},
   "source": [
    "`TensorFlow` works with data as tensors, which for our purposes we'll just think of as a matrix.  Let's start off by creating two constant tensors containing one number each."
   ]
  },
  {
   "cell_type": "code",
   "execution_count": 4,
   "metadata": {
    "collapsed": true
   },
   "outputs": [],
   "source": [
    "a = tf.constant(2)\n",
    "b = tf.constant(3)"
   ]
  },
  {
   "cell_type": "markdown",
   "metadata": {},
   "source": [
    "`TensorFlow` calculations are done in a `Session`.  The `Session` object has a `.run()` method for carrying out operations.  Let's do some very basic stuff with it."
   ]
  },
  {
   "cell_type": "code",
   "execution_count": 5,
   "metadata": {
    "collapsed": false
   },
   "outputs": [
    {
     "name": "stdout",
     "output_type": "stream",
     "text": [
      "a: 2, b:3\n",
      "a + b = 5\n",
      "a * b = 6\n"
     ]
    }
   ],
   "source": [
    "with tf.Session() as sess:\n",
    "    print(\"a: {}, b:{}\".format(sess.run(a), sess.run(b)))\n",
    "    print(\"a + b = {}\".format(sess.run(a + b)))\n",
    "    print(\"a * b = {}\".format(sess.run(a * b)))"
   ]
  },
  {
   "cell_type": "markdown",
   "metadata": {},
   "source": [
    "We can get more abstract and define placeholder variables and operations to be done, without actually specifying values for the variable yet, kind of like standard function definitions.  Let's create two placeholders for integer tensors and define some opperations to be done with them."
   ]
  },
  {
   "cell_type": "code",
   "execution_count": 6,
   "metadata": {
    "collapsed": true
   },
   "outputs": [],
   "source": [
    "a = tf.placeholder(tf.int16)\n",
    "b = tf.placeholder(tf.int16)\n",
    "\n",
    "add = tf.add(a, b)\n",
    "mul = tf.multiply(a, b)"
   ]
  },
  {
   "cell_type": "markdown",
   "metadata": {},
   "source": [
    "To carry out the operations on some actual values for `a` and `b` we'll need to start another session and `feed` values to the operations."
   ]
  },
  {
   "cell_type": "code",
   "execution_count": 7,
   "metadata": {
    "collapsed": false
   },
   "outputs": [
    {
     "name": "stdout",
     "output_type": "stream",
     "text": [
      "a + b = 5\n",
      "a * b = 6\n"
     ]
    }
   ],
   "source": [
    "with tf.Session() as sess:\n",
    "    print(\"a + b = {}\".format(sess.run(add, feed_dict={a:2, b:3})))\n",
    "    print(\"a * b = {}\".format(sess.run(mul, feed_dict={a:2, b:3})))"
   ]
  },
  {
   "cell_type": "markdown",
   "metadata": {},
   "source": [
    "Let's get a little more sophisticated and perform matrix multiplication.  We'll create a `(1, 2` shaped matrix and a `(2, 1)` shaped matrix to multiply."
   ]
  },
  {
   "cell_type": "code",
   "execution_count": 8,
   "metadata": {
    "collapsed": true
   },
   "outputs": [],
   "source": [
    "matrix1 = tf.constant([[3., 3.]])\n",
    "matrix2 = tf.constant([[2.], [2.]])"
   ]
  },
  {
   "cell_type": "code",
   "execution_count": 9,
   "metadata": {
    "collapsed": true
   },
   "outputs": [],
   "source": [
    "product = tf.matmul(matrix1, matrix2)"
   ]
  },
  {
   "cell_type": "markdown",
   "metadata": {},
   "source": [
    "To actually carry out the operation, we need to run it in a session."
   ]
  },
  {
   "cell_type": "code",
   "execution_count": 10,
   "metadata": {
    "collapsed": false
   },
   "outputs": [
    {
     "name": "stdout",
     "output_type": "stream",
     "text": [
      "[[12.]]\n"
     ]
    }
   ],
   "source": [
    "with tf.Session() as sess:\n",
    "    result = sess.run(product)\n",
    "    print(result)"
   ]
  },
  {
   "cell_type": "markdown",
   "metadata": {},
   "source": [
    "## Linear Regression"
   ]
  },
  {
   "cell_type": "code",
   "execution_count": 11,
   "metadata": {
    "collapsed": true
   },
   "outputs": [],
   "source": [
    "import numpy as np\n",
    "\n",
    "%matplotlib inline\n",
    "from matplotlib import pyplot as plt"
   ]
  },
  {
   "cell_type": "markdown",
   "metadata": {},
   "source": [
    "Let's revisit the linear regression examples from week 2."
   ]
  },
  {
   "cell_type": "code",
   "execution_count": 12,
   "metadata": {
    "collapsed": false
   },
   "outputs": [
    {
     "name": "stdout",
     "output_type": "stream",
     "text": [
      "--2019-04-23 06:17:43--  https://raw.githubusercontent.com/davidwhogg/DataAnalysisRecipes/master/straightline/src/data_yerr.dat\n",
      "Resolving raw.githubusercontent.com (raw.githubusercontent.com)... 151.101.188.133\n",
      "Connecting to raw.githubusercontent.com (raw.githubusercontent.com)|151.101.188.133|:443... connected.\n",
      "HTTP request sent, awaiting response... 200 OK\n",
      "Length: 414 [text/plain]\n",
      "Saving to: ‘data_yerr.dat’\n",
      "\n",
      "data_yerr.dat       100%[===================>]     414  --.-KB/s    in 0s      \n",
      "\n",
      "2019-04-23 06:17:44 (91.3 MB/s) - ‘data_yerr.dat’ saved [414/414]\n",
      "\n"
     ]
    }
   ],
   "source": [
    "!wget https://raw.githubusercontent.com/davidwhogg/DataAnalysisRecipes/master/straightline/src/data_yerr.dat"
   ]
  },
  {
   "cell_type": "code",
   "execution_count": 13,
   "metadata": {
    "collapsed": false
   },
   "outputs": [
    {
     "data": {
      "text/plain": [
       "Text(0, 0.5, '$y$')"
      ]
     },
     "execution_count": 13,
     "metadata": {},
     "output_type": "execute_result"
    },
    {
     "data": {
      "image/png": "[encoded data removed]",
      "text/plain": [
       "<Figure size 432x288 with 1 Axes>"
      ]
     },
     "metadata": {
      "needs_background": "light"
     },
     "output_type": "display_data"
    }
   ],
   "source": [
    "data = np.genfromtxt('data_yerr.dat', names=True, comments='#', delimiter='&')\n",
    "\n",
    "train_X = data['x']\n",
    "train_Y = data['y']\n",
    "\n",
    "n_samples = train_X.shape[0]\n",
    "plt.scatter(train_X, train_Y)\n",
    "plt.xlabel('$x$')\n",
    "plt.ylabel('$y$')"
   ]
  },
  {
   "cell_type": "markdown",
   "metadata": {},
   "source": [
    "Let's create some placeholders for the data and outputs, and some `Variables` that are the weights we're trying to fit for.  To define a `Variable` in `TensorFlow` we need to give it an initial value.  We'll just use draws from a unit Gaussian."
   ]
  },
  {
   "cell_type": "code",
   "execution_count": 14,
   "metadata": {
    "collapsed": false
   },
   "outputs": [
    {
     "name": "stdout",
     "output_type": "stream",
     "text": [
      "WARNING:tensorflow:From /opt/conda/lib/python3.7/site-packages/tensorflow/python/framework/op_def_library.py:263: colocate_with (from tensorflow.python.framework.ops) is deprecated and will be removed in a future version.\n",
      "Instructions for updating:\n",
      "Colocations handled automatically by placer.\n"
     ]
    }
   ],
   "source": [
    "X = tf.placeholder(\"float\")\n",
    "Y = tf.placeholder(\"float\")\n",
    "\n",
    "W = tf.Variable(np.random.randn(), name='weight')\n",
    "b = tf.Variable(np.random.randn(), name='bias')"
   ]
  },
  {
   "cell_type": "markdown",
   "metadata": {},
   "source": [
    "Our hypothesis function, or predictor, is just our linear regression model."
   ]
  },
  {
   "cell_type": "code",
   "execution_count": 15,
   "metadata": {
    "collapsed": true
   },
   "outputs": [],
   "source": [
    "pred = tf.add(tf.multiply(X, W), b)"
   ]
  },
  {
   "cell_type": "markdown",
   "metadata": {},
   "source": [
    "We'll now define our mean squared error cost function using `TensorFlow` operations."
   ]
  },
  {
   "cell_type": "code",
   "execution_count": 16,
   "metadata": {
    "collapsed": true
   },
   "outputs": [],
   "source": [
    "cost = tf.reduce_sum(tf.pow(pred - Y, 2))/(2*n_samples)"
   ]
  },
  {
   "cell_type": "markdown",
   "metadata": {},
   "source": [
    "We'll use `TensorFlow`'s gradient descent for optimization with a learning rate of `0.001`."
   ]
  },
  {
   "cell_type": "code",
   "execution_count": 17,
   "metadata": {
    "collapsed": false
   },
   "outputs": [
    {
     "name": "stdout",
     "output_type": "stream",
     "text": [
      "WARNING:tensorflow:From /opt/conda/lib/python3.7/site-packages/tensorflow/python/ops/math_ops.py:3066: to_int32 (from tensorflow.python.ops.math_ops) is deprecated and will be removed in a future version.\n",
      "Instructions for updating:\n",
      "Use tf.cast instead.\n"
     ]
    }
   ],
   "source": [
    "learning_rate = 0.001\n",
    "\n",
    "optimizer = tf.train.GradientDescentOptimizer(learning_rate).minimize(cost)"
   ]
  },
  {
   "cell_type": "markdown",
   "metadata": {},
   "source": [
    "We also need an initializer starting our variables at their initial values."
   ]
  },
  {
   "cell_type": "code",
   "execution_count": 18,
   "metadata": {
    "collapsed": true
   },
   "outputs": [],
   "source": [
    "init = tf.global_variables_initializer()"
   ]
  },
  {
   "cell_type": "markdown",
   "metadata": {},
   "source": [
    "Now we're ready to start our session.  We'll run the gradient descent for `1000` iterations."
   ]
  },
  {
   "cell_type": "code",
   "execution_count": 19,
   "metadata": {
    "collapsed": false
   },
   "outputs": [
    {
     "name": "stdout",
     "output_type": "stream",
     "text": [
      "Iteration: 50, cost = 8897.261719\n",
      "\t W=2.355790138244629  b=1.5182547569274902\n",
      "Iteration: 100, cost = 8852.069336\n",
      "\t W=2.3464083671569824  b=2.8140902519226074\n",
      "Iteration: 150, cost = 8807.463867\n",
      "\t W=2.3370718955993652  b=4.103713512420654\n",
      "Iteration: 200, cost = 8763.441406\n",
      "\t W=2.32778000831604  b=5.387139797210693\n",
      "Iteration: 250, cost = 8719.992188\n",
      "\t W=2.318532943725586  b=6.6644086837768555\n",
      "Iteration: 300, cost = 8677.110352\n",
      "\t W=2.3093299865722656  b=7.935546398162842\n",
      "Iteration: 350, cost = 8634.791016\n",
      "\t W=2.300171375274658  b=9.200592041015625\n",
      "Iteration: 400, cost = 8593.026367\n",
      "\t W=2.2910566329956055  b=10.459561347961426\n",
      "Iteration: 450, cost = 8551.812500\n",
      "\t W=2.2819855213165283  b=11.712488174438477\n",
      "Iteration: 500, cost = 8511.144531\n",
      "\t W=2.272958278656006  b=12.95939826965332\n",
      "Iteration: 550, cost = 8471.012695\n",
      "\t W=2.263974189758301  b=14.200336456298828\n",
      "Iteration: 600, cost = 8431.412109\n",
      "\t W=2.255033016204834  b=15.435312271118164\n",
      "Iteration: 650, cost = 8392.338867\n",
      "\t W=2.2461349964141846  b=16.66435432434082\n",
      "Iteration: 700, cost = 8353.786133\n",
      "\t W=2.2372798919677734  b=17.887500762939453\n",
      "Iteration: 750, cost = 8315.749023\n",
      "\t W=2.228466749191284  b=19.10478401184082\n",
      "Iteration: 800, cost = 8278.217773\n",
      "\t W=2.219696044921875  b=20.316232681274414\n",
      "Iteration: 850, cost = 8241.194336\n",
      "\t W=2.210967779159546  b=21.5218505859375\n",
      "Iteration: 900, cost = 8204.666992\n",
      "\t W=2.2022812366485596  b=22.721675872802734\n",
      "Iteration: 950, cost = 8168.631348\n",
      "\t W=2.193635940551758  b=23.915781021118164\n",
      "Iteration: 1000, cost = 8133.084473\n",
      "\t W=2.185032606124878  b=25.104135513305664\n",
      "Done!\n",
      "Training cost = 8133.08447265625\n"
     ]
    },
    {
     "data": {
      "image/png": "[encoded data removed]",
      "text/plain": [
       "<Figure size 432x288 with 1 Axes>"
      ]
     },
     "metadata": {
      "needs_background": "light"
     },
     "output_type": "display_data"
    }
   ],
   "source": [
    "training_iterations = 1000\n",
    "display_every = 50\n",
    "\n",
    "with tf.Session() as sess:\n",
    "    sess.run(init)\n",
    "    \n",
    "    # Fit the training data\n",
    "    for i in range(training_iterations):\n",
    "        for (x, y) in zip(train_X, train_Y):\n",
    "            sess.run(optimizer, feed_dict={X:x, Y:y})\n",
    "            \n",
    "        # Display results for each step\n",
    "        if (i + 1) % display_every == 0:\n",
    "            c = sess.run(cost, feed_dict={X:train_X, Y:train_Y})\n",
    "            print(\"Iteration: {}, cost = {:.6f}\".format(i+1, c))\n",
    "            print(\"\\t W={}  b={}\".format(sess.run(W), sess.run(b)))\n",
    "    \n",
    "    print(\"Done!\")\n",
    "    training_cost = sess.run(cost, feed_dict={X:train_X, Y:train_Y})\n",
    "    print(\"Training cost = {}\".format(training_cost))\n",
    "    \n",
    "    plt.scatter(train_X, train_Y)\n",
    "    plt.plot(train_X, sess.run(W) * train_X + sess.run(b), label='Fit')\n",
    "    plt.xlabel('$x$')\n",
    "    plt.ylabel('$y$')\n",
    "    plt.legend()"
   ]
  },
  {
   "cell_type": "markdown",
   "metadata": {},
   "source": [
    "## Logistic Regression"
   ]
  },
  {
   "cell_type": "markdown",
   "metadata": {},
   "source": [
    "Now let's use `TensorFlow` to perform logistic correction with the *softmax* activation function."
   ]
  },
  {
   "cell_type": "code",
   "execution_count": 20,
   "metadata": {
    "collapsed": false
   },
   "outputs": [
    {
     "name": "stdout",
     "output_type": "stream",
     "text": [
      "WARNING:tensorflow:From <ipython-input-20-c3d55fec490c>:2: read_data_sets (from tensorflow.contrib.learn.python.learn.datasets.mnist) is deprecated and will be removed in a future version.\n",
      "Instructions for updating:\n",
      "Please use alternatives such as official/mnist/dataset.py from tensorflow/models.\n",
      "WARNING:tensorflow:From /opt/conda/lib/python3.7/site-packages/tensorflow/contrib/learn/python/learn/datasets/mnist.py:260: maybe_download (from tensorflow.contrib.learn.python.learn.datasets.base) is deprecated and will be removed in a future version.\n",
      "Instructions for updating:\n",
      "Please write your own downloading logic.\n",
      "WARNING:tensorflow:From /opt/conda/lib/python3.7/site-packages/tensorflow/contrib/learn/python/learn/datasets/base.py:252: _internal_retry.<locals>.wrap.<locals>.wrapped_fn (from tensorflow.contrib.learn.python.learn.datasets.base) is deprecated and will be removed in a future version.\n",
      "Instructions for updating:\n",
      "Please use urllib or similar directly.\n",
      "Successfully downloaded train-images-idx3-ubyte.gz 9912422 bytes.\n",
      "WARNING:tensorflow:From /opt/conda/lib/python3.7/site-packages/tensorflow/contrib/learn/python/learn/datasets/mnist.py:262: extract_images (from tensorflow.contrib.learn.python.learn.datasets.mnist) is deprecated and will be removed in a future version.\n",
      "Instructions for updating:\n",
      "Please use tf.data to implement this functionality.\n",
      "Extracting /tmp/data/train-images-idx3-ubyte.gz\n",
      "Successfully downloaded train-labels-idx1-ubyte.gz 28881 bytes.\n",
      "WARNING:tensorflow:From /opt/conda/lib/python3.7/site-packages/tensorflow/contrib/learn/python/learn/datasets/mnist.py:267: extract_labels (from tensorflow.contrib.learn.python.learn.datasets.mnist) is deprecated and will be removed in a future version.\n",
      "Instructions for updating:\n",
      "Please use tf.data to implement this functionality.\n",
      "Extracting /tmp/data/train-labels-idx1-ubyte.gz\n",
      "WARNING:tensorflow:From /opt/conda/lib/python3.7/site-packages/tensorflow/contrib/learn/python/learn/datasets/mnist.py:110: dense_to_one_hot (from tensorflow.contrib.learn.python.learn.datasets.mnist) is deprecated and will be removed in a future version.\n",
      "Instructions for updating:\n",
      "Please use tf.one_hot on tensors.\n",
      "Successfully downloaded t10k-images-idx3-ubyte.gz 1648877 bytes.\n",
      "Extracting /tmp/data/t10k-images-idx3-ubyte.gz\n",
      "Successfully downloaded t10k-labels-idx1-ubyte.gz 4542 bytes.\n",
      "Extracting /tmp/data/t10k-labels-idx1-ubyte.gz\n",
      "WARNING:tensorflow:From /opt/conda/lib/python3.7/site-packages/tensorflow/contrib/learn/python/learn/datasets/mnist.py:290: DataSet.__init__ (from tensorflow.contrib.learn.python.learn.datasets.mnist) is deprecated and will be removed in a future version.\n",
      "Instructions for updating:\n",
      "Please use alternatives such as official/mnist/dataset.py from tensorflow/models.\n"
     ]
    }
   ],
   "source": [
    "from tensorflow.examples.tutorials.mnist import input_data\n",
    "mnist = input_data.read_data_sets(\"/tmp/data/\", one_hot=True)"
   ]
  },
  {
   "cell_type": "markdown",
   "metadata": {},
   "source": [
    "Wait.  What does `one_hot` mean?  \"One hot\" is a general term for labeling categorical data with a list of binary numbers, with one bit flipped to indicate the category."
   ]
  },
  {
   "cell_type": "code",
   "execution_count": 21,
   "metadata": {
    "collapsed": false
   },
   "outputs": [
    {
     "name": "stdout",
     "output_type": "stream",
     "text": [
      "Extracting /tmp/data/train-images-idx3-ubyte.gz\n",
      "Extracting /tmp/data/train-labels-idx1-ubyte.gz\n",
      "Extracting /tmp/data/t10k-images-idx3-ubyte.gz\n",
      "Extracting /tmp/data/t10k-labels-idx1-ubyte.gz\n",
      "standard: \n",
      " 7\n",
      "Extracting /tmp/data/train-images-idx3-ubyte.gz\n",
      "Extracting /tmp/data/train-labels-idx1-ubyte.gz\n",
      "Extracting /tmp/data/t10k-images-idx3-ubyte.gz\n",
      "Extracting /tmp/data/t10k-labels-idx1-ubyte.gz\n",
      "one hot: \n",
      " [0. 0. 0. 0. 0. 0. 0. 1. 0. 0.]\n"
     ]
    }
   ],
   "source": [
    "mnist = input_data.read_data_sets(\"/tmp/data/\", one_hot=False)\n",
    "print(\"standard: \\n\", mnist.train.labels[0])\n",
    "\n",
    "mnist = input_data.read_data_sets(\"/tmp/data/\", one_hot=True)\n",
    "print(\"one hot: \\n\", mnist.train.labels[0])"
   ]
  },
  {
   "cell_type": "code",
   "execution_count": 22,
   "metadata": {
    "collapsed": false
   },
   "outputs": [
    {
     "name": "stdout",
     "output_type": "stream",
     "text": [
      "x shape: (784,)\n"
     ]
    },
    {
     "data": {
      "text/plain": [
       "<matplotlib.image.AxesImage at 0x7f8f6437b7b8>"
      ]
     },
     "execution_count": 22,
     "metadata": {},
     "output_type": "execute_result"
    },
    {
     "data": {
      "image/png": "[encoded data removed]",
      "text/plain": [
       "<Figure size 432x288 with 1 Axes>"
      ]
     },
     "metadata": {
      "needs_background": "light"
     },
     "output_type": "display_data"
    }
   ],
   "source": [
    "x = mnist.train.images[0]\n",
    "print(\"x shape: {}\".format(x.shape))\n",
    "plt.imshow(x.reshape(-1, int(np.sqrt(x.shape[0]))), cmap='Greys')"
   ]
  },
  {
   "cell_type": "markdown",
   "metadata": {},
   "source": [
    "Let's create our placeholders and variables.  Our training vectors are pixel values for a `28x28` image, so vectors of length `784`.  Our hypothesis will be a 10-element vector, with one element corresponding to each digit."
   ]
  },
  {
   "cell_type": "code",
   "execution_count": 23,
   "metadata": {
    "collapsed": true
   },
   "outputs": [],
   "source": [
    "m = 784\n",
    "K = 10\n",
    "\n",
    "x = tf.placeholder(tf.float32, [None, m])\n",
    "y = tf.placeholder(tf.float32, [None, K])\n",
    "\n",
    "# model weights\n",
    "W = tf.Variable(tf.zeros([m, K]))\n",
    "b = tf.Variable(tf.zeros([K]))\n",
    "\n",
    "# construct the model\n",
    "pred = tf.nn.softmax(tf.matmul(x, W) + b)"
   ]
  },
  {
   "cell_type": "markdown",
   "metadata": {},
   "source": [
    "Recall our logistic cost function:\n",
    "$$\n",
    "J(\\theta) = -\\frac{1}{m}\\left[\\sum_{i=1}^m y^{(i)}\\log h_\\theta(x^{(i)}) + (1 - y^{(i)})\\log (1 - h_\\theta(x^{(i)})\\right]\n",
    "$$\n",
    "\n",
    "It turns out this is something called the *cross-entropy*\n",
    "$$\n",
    "H(p, q) = -\\sum_x p(x)\\log q(x)\n",
    "$$\n",
    "for the case of $p \\in \\{y, 1-y\\}$, $q\\in\\{h_\\theta(x), 1 - h_\\theta(x)\\}$.  We'll use the general form to define our cost function."
   ]
  },
  {
   "cell_type": "code",
   "execution_count": 24,
   "metadata": {
    "collapsed": true
   },
   "outputs": [],
   "source": [
    "learning_rate = 0.01\n",
    "\n",
    "# cost function and optimizer\n",
    "cost = tf.reduce_mean(-tf.reduce_sum(y*tf.log(pred), reduction_indices=1))\n",
    "optimizer = tf.train.GradientDescentOptimizer(learning_rate).minimize(cost)\n",
    "\n",
    "# initializer\n",
    "init = tf.global_variables_initializer()"
   ]
  },
  {
   "cell_type": "markdown",
   "metadata": {},
   "source": [
    "Now let's do the fit.  We'll break up the training set into batches of `100`."
   ]
  },
  {
   "cell_type": "code",
   "execution_count": 25,
   "metadata": {
    "collapsed": false
   },
   "outputs": [
    {
     "name": "stdout",
     "output_type": "stream",
     "text": [
      "Iteration: 1, cost = 1.183609\n",
      "Iteration: 2, cost = 0.665281\n",
      "Iteration: 3, cost = 0.552870\n",
      "Iteration: 4, cost = 0.498681\n",
      "Iteration: 5, cost = 0.465523\n",
      "Iteration: 6, cost = 0.442664\n",
      "Iteration: 7, cost = 0.425588\n",
      "Iteration: 8, cost = 0.412268\n",
      "Iteration: 9, cost = 0.401405\n",
      "Iteration: 10, cost = 0.392406\n",
      "Iteration: 11, cost = 0.384816\n",
      "Iteration: 12, cost = 0.378141\n",
      "Iteration: 13, cost = 0.372383\n",
      "Iteration: 14, cost = 0.367321\n",
      "Iteration: 15, cost = 0.362793\n",
      "Iteration: 16, cost = 0.358635\n",
      "Iteration: 17, cost = 0.354889\n",
      "Iteration: 18, cost = 0.351473\n",
      "Iteration: 19, cost = 0.348358\n",
      "Iteration: 20, cost = 0.345436\n",
      "Iteration: 21, cost = 0.342705\n",
      "Iteration: 22, cost = 0.340260\n",
      "Iteration: 23, cost = 0.337972\n",
      "Iteration: 24, cost = 0.335730\n",
      "Iteration: 25, cost = 0.333709\n",
      "Done!\n",
      "Accuracy: 91%\n"
     ]
    }
   ],
   "source": [
    "training_iterations = 25\n",
    "batch_size = 100\n",
    "n_batchs = int(mnist.train.num_examples/batch_size)\n",
    "\n",
    "with tf.Session() as sess:\n",
    "    sess.run(init)\n",
    "    \n",
    "    for i in range(training_iterations):\n",
    "        avg_cost = 0.\n",
    "        for j in range(n_batchs):\n",
    "            batch_xs, batch_ys = mnist.train.next_batch(batch_size)\n",
    "            \n",
    "            # Fit using the batch data\n",
    "            _, c = sess.run([optimizer, cost], feed_dict={x:batch_xs, y:batch_ys})\n",
    "            \n",
    "            # Compute the average loss\n",
    "            avg_cost += c / n_batchs\n",
    "        print(\"Iteration: {}, cost = {:.6f}\".format(i+1, avg_cost))\n",
    "        \n",
    "    print(\"Done!\")\n",
    "\n",
    "    # Test model\n",
    "    correct_pred = tf.equal(tf.argmax(pred, 1), tf.argmax(y, 1))\n",
    "    \n",
    "    # Calculate accuracy for some examples\n",
    "    accuracy = tf.reduce_mean(tf.cast(correct_pred, tf.float32))\n",
    "    print(\"Accuracy: {:.0f}%\".format(100*sess.run(accuracy, feed_dict={x:mnist.test.images,\n",
    "                                                                       y:mnist.test.labels})))"
   ]
  },
  {
   "cell_type": "markdown",
   "metadata": {},
   "source": [
    "## Neural networks"
   ]
  },
  {
   "cell_type": "markdown",
   "metadata": {},
   "source": [
    "Now let's build a neural network using `TensorFlow`.  We'll build a fully connected four-layer network (two hidden layers)."
   ]
  },
  {
   "cell_type": "code",
   "execution_count": 26,
   "metadata": {
    "collapsed": false
   },
   "outputs": [
    {
     "name": "stdout",
     "output_type": "stream",
     "text": [
      "Extracting /tmp/data/train-images-idx3-ubyte.gz\n",
      "Extracting /tmp/data/train-labels-idx1-ubyte.gz\n",
      "Extracting /tmp/data/t10k-images-idx3-ubyte.gz\n",
      "Extracting /tmp/data/t10k-labels-idx1-ubyte.gz\n"
     ]
    }
   ],
   "source": [
    "mnist = input_data.read_data_sets(\"/tmp/data/\", one_hot=True)"
   ]
  },
  {
   "cell_type": "code",
   "execution_count": 27,
   "metadata": {
    "collapsed": true
   },
   "outputs": [],
   "source": [
    "# Network properties\n",
    "n_hidden_layer_1 = 256  # Number of neurons in first hidden layer\n",
    "n_hidden_layer_2 = 256  # Number of neurons in second hidden layer\n",
    "\n",
    "n_training = 784\n",
    "n_classes = 10\n",
    "\n",
    "X = tf.placeholder(\"float\", [None, n_training])\n",
    "Y = tf.placeholder(\"float\", [None, n_classes])"
   ]
  },
  {
   "cell_type": "code",
   "execution_count": 28,
   "metadata": {
    "collapsed": true
   },
   "outputs": [],
   "source": [
    "weights = {\n",
    "    'h1':tf.Variable(tf.random_normal([n_training, n_hidden_layer_1])),\n",
    "    'h2':tf.Variable(tf.random_normal([n_hidden_layer_1, n_hidden_layer_2])),\n",
    "    'out':tf.Variable(tf.random_normal([n_hidden_layer_2, n_classes]))\n",
    "}\n",
    "\n",
    "biases = {\n",
    "    'b1':tf.Variable(tf.random_normal([n_hidden_layer_1])),\n",
    "    'b2':tf.Variable(tf.random_normal([n_hidden_layer_2])),\n",
    "    'out':tf.Variable(tf.random_normal([n_classes]))\n",
    "}"
   ]
  },
  {
   "cell_type": "markdown",
   "metadata": {},
   "source": [
    "Now let's construct the model."
   ]
  },
  {
   "cell_type": "code",
   "execution_count": 29,
   "metadata": {
    "collapsed": true
   },
   "outputs": [],
   "source": [
    "def neural_network(x):\n",
    "    layer_1 = tf.add(tf.matmul(x, weights['h1']), biases['b1'])\n",
    "    layer_2 = tf.add(tf.matmul(layer_1, weights['h2']), biases['b2'])\n",
    "    output_layer = tf.matmul(layer_2, weights['out']) + biases['out']\n",
    "    \n",
    "    return output_layer\n",
    "\n",
    "hypotheses = neural_network(X)"
   ]
  },
  {
   "cell_type": "code",
   "execution_count": 30,
   "metadata": {
    "collapsed": true
   },
   "outputs": [],
   "source": [
    "learning_rate = 0.1\n",
    "\n",
    "loss_op = tf.reduce_mean(tf.nn.softmax_cross_entropy_with_logits_v2(logits=hypotheses, labels=Y))\n",
    "optimizer = tf.train.AdadeltaOptimizer(learning_rate)\n",
    "training_op = optimizer.minimize(loss_op)\n",
    "\n",
    "correct_prediction = tf.equal(tf.argmax(hypotheses, 1), tf.argmax(Y, 1))\n",
    "accuracy = tf.reduce_mean(tf.cast(correct_prediction, tf.float32))\n",
    "\n",
    "init = tf.global_variables_initializer()"
   ]
  },
  {
   "cell_type": "markdown",
   "metadata": {},
   "source": [
    "Now let's run the session."
   ]
  },
  {
   "cell_type": "code",
   "execution_count": 31,
   "metadata": {
    "collapsed": false
   },
   "outputs": [
    {
     "name": "stdout",
     "output_type": "stream",
     "text": [
      "Iteration: 0, batch loss = 3232.014404, batch acc. = 14%\n",
      "Iteration: 500, batch loss = 1515.098389, batch acc. = 33%\n",
      "Iteration: 1000, batch loss = 694.894409, batch acc. = 51%\n",
      "Iteration: 1500, batch loss = 429.387207, batch acc. = 67%\n",
      "Iteration: 2000, batch loss = 462.213318, batch acc. = 69%\n",
      "Iteration: 2500, batch loss = 243.006348, batch acc. = 77%\n",
      "Iteration: 3000, batch loss = 246.172943, batch acc. = 73%\n",
      "Iteration: 3500, batch loss = 170.504639, batch acc. = 81%\n",
      "Iteration: 4000, batch loss = 123.056999, batch acc. = 85%\n",
      "Iteration: 4500, batch loss = 220.531921, batch acc. = 79%\n",
      "Iteration: 5000, batch loss = 129.541183, batch acc. = 83%\n",
      "Done!\n",
      "Accuracy: 83%\n"
     ]
    }
   ],
   "source": [
    "training_iterations = 5000\n",
    "display_every = 500\n",
    "\n",
    "batch_size = 128\n",
    "n_batchs = mnist.train.num_examples // batch_size\n",
    "\n",
    "with tf.Session() as sess:\n",
    "    sess.run(init)\n",
    "    \n",
    "    for i in range(training_iterations + 1):\n",
    "        batch_x, batch_y = mnist.train.next_batch(batch_size)\n",
    "        \n",
    "        sess.run(training_op, feed_dict={X:batch_x, Y:batch_y})\n",
    "        \n",
    "        if i % display_every == 0:\n",
    "            loss, acc = sess.run([loss_op, accuracy], feed_dict={X:batch_x,\n",
    "                                                                 Y:batch_y})\n",
    "\n",
    "            print(\"Iteration: {}, batch loss = {:.6f}, batch acc. = {:.0f}%\".format(i, loss, 100*acc))\n",
    "    print(\"Done!\")\n",
    "    \n",
    "    print(\"Accuracy: {:.0f}%\".format(100*accuracy.eval({X:mnist.test.images,\n",
    "                                                        Y:mnist.test.labels})))"
   ]
  },
  {
   "cell_type": "markdown",
   "metadata": {},
   "source": [
    "# Higher level"
   ]
  },
  {
   "cell_type": "markdown",
   "metadata": {},
   "source": [
    "## Neural network"
   ]
  },
  {
   "cell_type": "code",
   "execution_count": 32,
   "metadata": {
    "collapsed": false
   },
   "outputs": [
    {
     "name": "stdout",
     "output_type": "stream",
     "text": [
      "Extracting /tmp/data/train-images-idx3-ubyte.gz\n",
      "Extracting /tmp/data/train-labels-idx1-ubyte.gz\n",
      "Extracting /tmp/data/t10k-images-idx3-ubyte.gz\n",
      "Extracting /tmp/data/t10k-labels-idx1-ubyte.gz\n"
     ]
    }
   ],
   "source": [
    "mnist = input_data.read_data_sets(\"/tmp/data/\", one_hot=False)"
   ]
  },
  {
   "cell_type": "markdown",
   "metadata": {},
   "source": [
    "Now that we have a bit of an understanding of the mechanics of neural nets, lets take advantage of higher-level routines in `TensorFlow` to build the same network."
   ]
  },
  {
   "cell_type": "code",
   "execution_count": 33,
   "metadata": {
    "collapsed": true
   },
   "outputs": [],
   "source": [
    "# Network properties\n",
    "n_hidden_layer_1 = 256  # Number of neurons in first hidden layer\n",
    "n_hidden_layer_2 = 256  # Number of neurons in second hidden layer\n",
    "\n",
    "n_training = 784\n",
    "n_classes = 10"
   ]
  },
  {
   "cell_type": "markdown",
   "metadata": {},
   "source": [
    "We need to define an input function for training."
   ]
  },
  {
   "cell_type": "code",
   "execution_count": 34,
   "metadata": {
    "collapsed": true
   },
   "outputs": [],
   "source": [
    "batch_size = 128\n",
    "\n",
    "input_fn = tf.estimator.inputs.numpy_input_fn(x={'images':mnist.train.images},\n",
    "                                              y=mnist.train.labels,\n",
    "                                              batch_size=batch_size,\n",
    "                                              num_epochs=None, shuffle=True)"
   ]
  },
  {
   "cell_type": "markdown",
   "metadata": {},
   "source": [
    "Now define the network."
   ]
  },
  {
   "cell_type": "code",
   "execution_count": 35,
   "metadata": {
    "collapsed": true
   },
   "outputs": [],
   "source": [
    "def neural_network(x_dict):\n",
    "    x = x_dict['images']\n",
    "    \n",
    "    layer_1 = tf.layers.dense(x, n_hidden_layer_1)\n",
    "    layer_2 = tf.layers.dense(layer_1, n_hidden_layer_2)\n",
    "    output_layer = tf.layers.dense(layer_2, n_classes)\n",
    "    \n",
    "    return output_layer"
   ]
  },
  {
   "cell_type": "markdown",
   "metadata": {},
   "source": [
    "Now we'll build a model function."
   ]
  },
  {
   "cell_type": "code",
   "execution_count": 36,
   "metadata": {
    "collapsed": true
   },
   "outputs": [],
   "source": [
    "learning_rate = 0.1\n",
    "\n",
    "def model_fn(features, labels, mode):\n",
    "    hypotheses = neural_network(features)\n",
    "    \n",
    "    # predictions\n",
    "    predicted_classes = tf.argmax(hypotheses, axis=1)\n",
    "    \n",
    "    # if prediction mode, return now\n",
    "    if mode == tf.estimator.ModeKeys.PREDICT:\n",
    "        return tf.estimator.EstimatorSpec(mode, predictions=predicted_classes)\n",
    "    \n",
    "    # loss and optimizer\n",
    "    loss_op = tf.reduce_mean(tf.nn.sparse_softmax_cross_entropy_with_logits(logits=hypotheses,\n",
    "                                                                            labels=tf.cast(labels, dtype=tf.int32)))\n",
    "    optimizer = tf.train.GradientDescentOptimizer(learning_rate)\n",
    "    training_op = optimizer.minimize(loss_op, global_step=tf.train.get_global_step())\n",
    "    \n",
    "    # eval accuracy\n",
    "    accuracy_op = tf.metrics.accuracy(labels=labels, predictions=predicted_classes)\n",
    "    \n",
    "    estim_specs = tf.estimator.EstimatorSpec(mode=mode,\n",
    "                                             predictions=predicted_classes,\n",
    "                                             loss=loss_op,\n",
    "                                             train_op=training_op,\n",
    "                                             eval_metric_ops={'accuracy':accuracy_op})\n",
    "    return estim_specs"
   ]
  },
  {
   "cell_type": "code",
   "execution_count": 37,
   "metadata": {
    "collapsed": false
   },
   "outputs": [
    {
     "name": "stdout",
     "output_type": "stream",
     "text": [
      "INFO:tensorflow:Using default config.\n",
      "WARNING:tensorflow:Using temporary folder as model directory: /tmp/tmp3s0c32s_\n",
      "INFO:tensorflow:Using config: {'_model_dir': '/tmp/tmp3s0c32s_', '_tf_random_seed': None, '_save_summary_steps': 100, '_save_checkpoints_steps': None, '_save_checkpoints_secs': 600, '_session_config': allow_soft_placement: true\n",
      "graph_options {\n",
      "  rewrite_options {\n",
      "    meta_optimizer_iterations: ONE\n",
      "  }\n",
      "}\n",
      ", '_keep_checkpoint_max': 5, '_keep_checkpoint_every_n_hours': 10000, '_log_step_count_steps': 100, '_train_distribute': None, '_device_fn': None, '_protocol': None, '_eval_distribute': None, '_experimental_distribute': None, '_service': None, '_cluster_spec': <tensorflow.python.training.server_lib.ClusterSpec object at 0x7f8f4c5969b0>, '_task_type': 'worker', '_task_id': 0, '_global_id_in_cluster': 0, '_master': '', '_evaluation_master': '', '_is_chief': True, '_num_ps_replicas': 0, '_num_worker_replicas': 1}\n"
     ]
    }
   ],
   "source": [
    "model = tf.estimator.Estimator(model_fn)"
   ]
  },
  {
   "cell_type": "code",
   "execution_count": 38,
   "metadata": {
    "collapsed": false
   },
   "outputs": [
    {
     "name": "stdout",
     "output_type": "stream",
     "text": [
      "WARNING:tensorflow:From /opt/conda/lib/python3.7/site-packages/tensorflow_estimator/python/estimator/inputs/queues/feeding_queue_runner.py:62: QueueRunner.__init__ (from tensorflow.python.training.queue_runner_impl) is deprecated and will be removed in a future version.\n",
      "Instructions for updating:\n",
      "To construct input pipelines, use the `tf.data` module.\n",
      "WARNING:tensorflow:From /opt/conda/lib/python3.7/site-packages/tensorflow_estimator/python/estimator/inputs/queues/feeding_functions.py:500: add_queue_runner (from tensorflow.python.training.queue_runner_impl) is deprecated and will be removed in a future version.\n",
      "Instructions for updating:\n",
      "To construct input pipelines, use the `tf.data` module.\n",
      "INFO:tensorflow:Calling model_fn.\n",
      "WARNING:tensorflow:From <ipython-input-35-b119aa565baf>:4: dense (from tensorflow.python.layers.core) is deprecated and will be removed in a future version.\n",
      "Instructions for updating:\n",
      "Use keras.layers.dense instead.\n",
      "WARNING:tensorflow:From /opt/conda/lib/python3.7/site-packages/tensorflow/python/ops/metrics_impl.py:455: to_float (from tensorflow.python.ops.math_ops) is deprecated and will be removed in a future version.\n",
      "Instructions for updating:\n",
      "Use tf.cast instead.\n",
      "INFO:tensorflow:Done calling model_fn.\n",
      "INFO:tensorflow:Create CheckpointSaverHook.\n",
      "INFO:tensorflow:Graph was finalized.\n",
      "INFO:tensorflow:Running local_init_op.\n",
      "INFO:tensorflow:Done running local_init_op.\n",
      "WARNING:tensorflow:From /opt/conda/lib/python3.7/site-packages/tensorflow/python/training/monitored_session.py:809: start_queue_runners (from tensorflow.python.training.queue_runner_impl) is deprecated and will be removed in a future version.\n",
      "Instructions for updating:\n",
      "To construct input pipelines, use the `tf.data` module.\n",
      "INFO:tensorflow:Saving checkpoints for 0 into /tmp/tmp3s0c32s_/model.ckpt.\n",
      "INFO:tensorflow:loss = 2.3427098, step = 1\n",
      "INFO:tensorflow:global_step/sec: 278.054\n",
      "INFO:tensorflow:loss = 0.5334778, step = 101 (0.361 sec)\n",
      "INFO:tensorflow:global_step/sec: 293.296\n",
      "INFO:tensorflow:loss = 0.4611236, step = 201 (0.341 sec)\n",
      "INFO:tensorflow:global_step/sec: 284.03\n",
      "INFO:tensorflow:loss = 0.2840171, step = 301 (0.352 sec)\n",
      "INFO:tensorflow:global_step/sec: 296.211\n",
      "INFO:tensorflow:loss = 0.40593112, step = 401 (0.338 sec)\n",
      "INFO:tensorflow:global_step/sec: 290.254\n",
      "INFO:tensorflow:loss = 0.23284778, step = 501 (0.345 sec)\n",
      "INFO:tensorflow:global_step/sec: 283.806\n",
      "INFO:tensorflow:loss = 0.372325, step = 601 (0.352 sec)\n",
      "INFO:tensorflow:global_step/sec: 292.166\n",
      "INFO:tensorflow:loss = 0.21821636, step = 701 (0.342 sec)\n",
      "INFO:tensorflow:global_step/sec: 294.667\n",
      "INFO:tensorflow:loss = 0.18758792, step = 801 (0.339 sec)\n",
      "INFO:tensorflow:global_step/sec: 293.898\n",
      "INFO:tensorflow:loss = 0.317815, step = 901 (0.340 sec)\n",
      "INFO:tensorflow:Saving checkpoints for 1000 into /tmp/tmp3s0c32s_/model.ckpt.\n",
      "INFO:tensorflow:Loss for final step: 0.18147725.\n"
     ]
    },
    {
     "data": {
      "text/plain": [
       "<tensorflow_estimator.python.estimator.estimator.Estimator at 0x7f8f4c5968d0>"
      ]
     },
     "execution_count": 38,
     "metadata": {},
     "output_type": "execute_result"
    }
   ],
   "source": [
    "training_iterations = 1000\n",
    "\n",
    "model.train(input_fn, steps=training_iterations)"
   ]
  },
  {
   "cell_type": "markdown",
   "metadata": {},
   "source": [
    "Now let's setup an input fuctions for the test data."
   ]
  },
  {
   "cell_type": "code",
   "execution_count": 39,
   "metadata": {
    "collapsed": false
   },
   "outputs": [
    {
     "name": "stdout",
     "output_type": "stream",
     "text": [
      "INFO:tensorflow:Calling model_fn.\n",
      "INFO:tensorflow:Done calling model_fn.\n",
      "INFO:tensorflow:Starting evaluation at 2019-04-23T06:20:49Z\n",
      "INFO:tensorflow:Graph was finalized.\n",
      "WARNING:tensorflow:From /opt/conda/lib/python3.7/site-packages/tensorflow/python/training/saver.py:1266: checkpoint_exists (from tensorflow.python.training.checkpoint_management) is deprecated and will be removed in a future version.\n",
      "Instructions for updating:\n",
      "Use standard file APIs to check for files with this prefix.\n",
      "INFO:tensorflow:Restoring parameters from /tmp/tmp3s0c32s_/model.ckpt-1000\n",
      "INFO:tensorflow:Running local_init_op.\n",
      "INFO:tensorflow:Done running local_init_op.\n",
      "INFO:tensorflow:Finished evaluation at 2019-04-23-06:20:50\n",
      "INFO:tensorflow:Saving dict for global step 1000: accuracy = 0.9145, global_step = 1000, loss = 0.29595944\n",
      "INFO:tensorflow:Saving 'checkpoint_path' summary for global step 1000: /tmp/tmp3s0c32s_/model.ckpt-1000\n"
     ]
    },
    {
     "data": {
      "text/plain": [
       "{'accuracy': 0.9145, 'loss': 0.29595944, 'global_step': 1000}"
      ]
     },
     "execution_count": 39,
     "metadata": {},
     "output_type": "execute_result"
    }
   ],
   "source": [
    "input_fn = tf.estimator.inputs.numpy_input_fn(x={'images': mnist.test.images},\n",
    "                                              y=mnist.test.labels,\n",
    "                                              batch_size=batch_size, shuffle=False)\n",
    "\n",
    "model.evaluate(input_fn)"
   ]
  },
  {
   "cell_type": "markdown",
   "metadata": {},
   "source": [
    "Let's take a look at how are model is doing at predicting individual images from the test set."
   ]
  },
  {
   "cell_type": "code",
   "execution_count": 40,
   "metadata": {
    "collapsed": false
   },
   "outputs": [
    {
     "data": {
      "image/png": "[encoded data removed]",
      "text/plain": [
       "<Figure size 216x216 with 9 Axes>"
      ]
     },
     "metadata": {
      "needs_background": "light"
     },
     "output_type": "display_data"
    }
   ],
   "source": [
    "n_images = 9\n",
    "\n",
    "sel = np.random.choice(len(mnist.test.images), n_images)\n",
    "test_images = mnist.test.images[sel]\n",
    "\n",
    "nrows = int(np.ceil(np.sqrt(n_images)))\n",
    "ncols = int(np.ceil(n_images/nrows))\n",
    "fig, axs = plt.subplots(nrows, ncols, figsize=(3, 3))\n",
    "axs = axs.flatten()\n",
    "for i, img in enumerate(test_images):\n",
    "    axs[i].imshow(np.reshape(test_images[i], [28, 28]), cmap='gray')\n",
    "    axs[i].set_xticklabels([])\n",
    "    axs[i].set_yticklabels([])"
   ]
  },
  {
   "cell_type": "code",
   "execution_count": 41,
   "metadata": {
    "collapsed": false
   },
   "outputs": [
    {
     "name": "stdout",
     "output_type": "stream",
     "text": [
      "INFO:tensorflow:Calling model_fn.\n",
      "INFO:tensorflow:Done calling model_fn.\n",
      "INFO:tensorflow:Graph was finalized.\n",
      "INFO:tensorflow:Restoring parameters from /tmp/tmp3s0c32s_/model.ckpt-1000\n",
      "INFO:tensorflow:Running local_init_op.\n",
      "INFO:tensorflow:Done running local_init_op.\n"
     ]
    }
   ],
   "source": [
    "# Prepare the input data\n",
    "input_fn = tf.estimator.inputs.numpy_input_fn(x={'images': test_images},\n",
    "                                              shuffle=False)\n",
    "\n",
    "# Use the model to predict the images class\n",
    "predictions = list(model.predict(input_fn))"
   ]
  },
  {
   "cell_type": "code",
   "execution_count": 42,
   "metadata": {
    "collapsed": false
   },
   "outputs": [
    {
     "data": {
      "image/png": "[encoded data removed]",
      "text/plain": [
       "<Figure size 216x216 with 9 Axes>"
      ]
     },
     "metadata": {
      "needs_background": "light"
     },
     "output_type": "display_data"
    }
   ],
   "source": [
    "fig, axs = plt.subplots(nrows, ncols, figsize=(3, 3))\n",
    "axs = axs.flatten()\n",
    "for i, img in enumerate(test_images):\n",
    "    axs[i].imshow(np.reshape(test_images[i], [28, 28]), cmap='gray')\n",
    "    axs[i].set_xticklabels([])\n",
    "    axs[i].set_yticklabels([])\n",
    "    color = 'g' if predictions[i] == mnist.test.labels[sel][i] else 'r'\n",
    "    axs[i].set_title(\"pred: {}\".format(predictions[i]), color=color)\n",
    "plt.tight_layout()"
   ]
  },
  {
   "cell_type": "code",
   "execution_count": null,
   "metadata": {
    "collapsed": true
   },
   "outputs": [],
   "source": []
  }
 ],
 "metadata": {
  "kernelspec": {
   "display_name": "Python [conda env:p3]",
   "language": "python",
   "name": "conda-env-p3-py"
  },
  "language_info": {
   "codemirror_mode": {
    "name": "ipython",
    "version": 3
   },
   "file_extension": ".py",
   "mimetype": "text/x-python",
   "name": "python",
   "nbconvert_exporter": "python",
   "pygments_lexer": "ipython3",
   "version": "3.7.3"
  },
  "toc": {
   "colors": {
    "hover_highlight": "#DAA520",
    "navigate_num": "#000000",
    "navigate_text": "#333333",
    "running_highlight": "#FF0000",
    "selected_highlight": "#FFD700",
    "sidebar_border": "#EEEEEE",
    "wrapper_background": "#FFFFFF"
   },
   "moveMenuLeft": true,
   "nav_menu": {
    "height": "138px",
    "width": "252px"
   },
   "navigate_menu": true,
   "number_sections": true,
   "sideBar": true,
   "threshold": 4,
   "toc_cell": true,
   "toc_section_display": "block",
   "toc_window_display": true,
   "widenNotebook": false
  }
 },
 "nbformat": 4,
 "nbformat_minor": 2
}
