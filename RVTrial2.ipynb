{
 "cells": [
  {
   "cell_type": "markdown",
   "metadata": {},
   "source": [
    "# ML to find radial velocities using FIRE data"
   ]
  },
  {
   "cell_type": "code",
   "execution_count": 1,
   "metadata": {},
   "outputs": [],
   "source": [
    "%matplotlib inline\n",
    "\n",
    "import matplotlib\n",
    "import matplotlib.colors as colors\n",
    "\n",
    "import pandas as pd\n",
    "import numpy as np\n",
    "import matplotlib.pyplot as plt\n",
    "import os.path\n",
    "import sys\n",
    "import gzip\n",
    "import matplotlib.gridspec as gridspec\n",
    "\n",
    "matplotlib.rcParams.update({'font.family':'cmr10','font.size': 13})\n",
    "matplotlib.rcParams['axes.unicode_minus']=False\n",
    "matplotlib.rcParams['axes.labelsize']=15\n",
    "plt.rcParams['figure.figsize']=(4,4)\n",
    "plt.rcParams['figure.dpi'] = 80\n",
    "plt.rcParams['mathtext.fontset'] = 'cm'\n",
    "plt.rcParams['mathtext.rm'] = 'serif'\n",
    "plt.rcParams['xtick.direction'] = 'in'\n",
    "plt.rcParams['ytick.direction'] = 'in'\n",
    "plt.rcParams['xtick.top'] = True\n",
    "plt.rcParams['ytick.right'] = True"
   ]
  },
  {
   "cell_type": "code",
   "execution_count": 2,
   "metadata": {},
   "outputs": [],
   "source": [
    "data = np.load('StarsWithRadialVelocity.npy')"
   ]
  },
  {
   "cell_type": "code",
   "execution_count": 3,
   "metadata": {},
   "outputs": [],
   "source": [
    "data_cols = ['l', 'b','ra', 'dec', 'pmra', 'pmdec', 'parallax', 'radial_velocity',\n",
    "             'phot_g_mean_mag', 'phot_bp_mean_mag', 'phot_rp_mean_mag',\n",
    "             'pmra_error', 'pmdec_error', 'parallax_error', 'radial_velocity_error',\n",
    "             'phot_g_mean_mag_error', 'phot_bp_mean_mag_error', 'phot_rp_mean_mag_error',\n",
    "             'AccretedLabel'\n",
    "            ]\n",
    "#could train on radial_velocity_error"
   ]
  },
  {
   "cell_type": "code",
   "execution_count": 4,
   "metadata": {},
   "outputs": [],
   "source": [
    "data = pd.DataFrame(data, columns=data_cols)"
   ]
  },
  {
   "cell_type": "code",
   "execution_count": 5,
   "metadata": {},
   "outputs": [
    {
     "data": {
      "text/plain": [
       "(11400846, 19)"
      ]
     },
     "execution_count": 5,
     "metadata": {},
     "output_type": "execute_result"
    }
   ],
   "source": [
    "data.shape"
   ]
  },
  {
   "cell_type": "code",
   "execution_count": 6,
   "metadata": {},
   "outputs": [
    {
     "data": {
      "text/html": [
       "<div>\n",
       "<style scoped>\n",
       "    .dataframe tbody tr th:only-of-type {\n",
       "        vertical-align: middle;\n",
       "    }\n",
       "\n",
       "    .dataframe tbody tr th {\n",
       "        vertical-align: top;\n",
       "    }\n",
       "\n",
       "    .dataframe thead th {\n",
       "        text-align: right;\n",
       "    }\n",
       "</style>\n",
       "<table border=\"1\" class=\"dataframe\">\n",
       "  <thead>\n",
       "    <tr style=\"text-align: right;\">\n",
       "      <th></th>\n",
       "      <th>l</th>\n",
       "      <th>b</th>\n",
       "      <th>ra</th>\n",
       "      <th>dec</th>\n",
       "      <th>pmra</th>\n",
       "      <th>pmdec</th>\n",
       "      <th>parallax</th>\n",
       "      <th>radial_velocity</th>\n",
       "      <th>phot_g_mean_mag</th>\n",
       "      <th>phot_bp_mean_mag</th>\n",
       "      <th>phot_rp_mean_mag</th>\n",
       "      <th>pmra_error</th>\n",
       "      <th>pmdec_error</th>\n",
       "      <th>parallax_error</th>\n",
       "      <th>radial_velocity_error</th>\n",
       "      <th>phot_g_mean_mag_error</th>\n",
       "      <th>phot_bp_mean_mag_error</th>\n",
       "      <th>phot_rp_mean_mag_error</th>\n",
       "      <th>AccretedLabel</th>\n",
       "    </tr>\n",
       "  </thead>\n",
       "  <tbody>\n",
       "    <tr>\n",
       "      <th>0</th>\n",
       "      <td>18.947771</td>\n",
       "      <td>17.087326</td>\n",
       "      <td>261.281075</td>\n",
       "      <td>-4.105546</td>\n",
       "      <td>0.304014</td>\n",
       "      <td>-2.012651</td>\n",
       "      <td>0.443537</td>\n",
       "      <td>44.472788</td>\n",
       "      <td>14.384683</td>\n",
       "      <td>14.678857</td>\n",
       "      <td>13.931516</td>\n",
       "      <td>0.091557</td>\n",
       "      <td>0.091557</td>\n",
       "      <td>0.044116</td>\n",
       "      <td>9.908263</td>\n",
       "      <td>0.000611</td>\n",
       "      <td>0.003929</td>\n",
       "      <td>0.003929</td>\n",
       "      <td>0.0</td>\n",
       "    </tr>\n",
       "    <tr>\n",
       "      <th>1</th>\n",
       "      <td>-4.978819</td>\n",
       "      <td>-41.542610</td>\n",
       "      <td>315.656827</td>\n",
       "      <td>-45.372252</td>\n",
       "      <td>15.768343</td>\n",
       "      <td>-16.975898</td>\n",
       "      <td>1.369992</td>\n",
       "      <td>-120.045033</td>\n",
       "      <td>12.405884</td>\n",
       "      <td>12.633657</td>\n",
       "      <td>12.030871</td>\n",
       "      <td>0.087001</td>\n",
       "      <td>0.087001</td>\n",
       "      <td>0.042780</td>\n",
       "      <td>2.036502</td>\n",
       "      <td>0.000342</td>\n",
       "      <td>0.002105</td>\n",
       "      <td>0.002105</td>\n",
       "      <td>0.0</td>\n",
       "    </tr>\n",
       "    <tr>\n",
       "      <th>2</th>\n",
       "      <td>-137.539419</td>\n",
       "      <td>-47.311996</td>\n",
       "      <td>60.814237</td>\n",
       "      <td>-25.789371</td>\n",
       "      <td>5.542696</td>\n",
       "      <td>9.388474</td>\n",
       "      <td>0.597262</td>\n",
       "      <td>83.063864</td>\n",
       "      <td>14.347357</td>\n",
       "      <td>14.619976</td>\n",
       "      <td>13.923520</td>\n",
       "      <td>0.091365</td>\n",
       "      <td>0.091365</td>\n",
       "      <td>0.044055</td>\n",
       "      <td>9.917098</td>\n",
       "      <td>0.000602</td>\n",
       "      <td>0.003861</td>\n",
       "      <td>0.003861</td>\n",
       "      <td>0.0</td>\n",
       "    </tr>\n",
       "    <tr>\n",
       "      <th>3</th>\n",
       "      <td>-68.315598</td>\n",
       "      <td>-32.353069</td>\n",
       "      <td>71.998054</td>\n",
       "      <td>-78.933526</td>\n",
       "      <td>14.320530</td>\n",
       "      <td>-13.669455</td>\n",
       "      <td>0.862436</td>\n",
       "      <td>-106.062495</td>\n",
       "      <td>14.062039</td>\n",
       "      <td>14.311761</td>\n",
       "      <td>13.648176</td>\n",
       "      <td>0.090130</td>\n",
       "      <td>0.090130</td>\n",
       "      <td>0.043668</td>\n",
       "      <td>7.792049</td>\n",
       "      <td>0.000544</td>\n",
       "      <td>0.003407</td>\n",
       "      <td>0.003407</td>\n",
       "      <td>0.0</td>\n",
       "    </tr>\n",
       "    <tr>\n",
       "      <th>4</th>\n",
       "      <td>85.879721</td>\n",
       "      <td>-52.988838</td>\n",
       "      <td>351.547535</td>\n",
       "      <td>3.638489</td>\n",
       "      <td>2.937268</td>\n",
       "      <td>5.109022</td>\n",
       "      <td>1.510236</td>\n",
       "      <td>-23.143291</td>\n",
       "      <td>14.677980</td>\n",
       "      <td>15.082906</td>\n",
       "      <td>14.107460</td>\n",
       "      <td>0.093275</td>\n",
       "      <td>0.093275</td>\n",
       "      <td>0.044678</td>\n",
       "      <td>11.110764</td>\n",
       "      <td>0.000683</td>\n",
       "      <td>0.004529</td>\n",
       "      <td>0.004529</td>\n",
       "      <td>0.0</td>\n",
       "    </tr>\n",
       "  </tbody>\n",
       "</table>\n",
       "</div>"
      ],
      "text/plain": [
       "            l          b          ra        dec       pmra      pmdec  \\\n",
       "0   18.947771  17.087326  261.281075  -4.105546   0.304014  -2.012651   \n",
       "1   -4.978819 -41.542610  315.656827 -45.372252  15.768343 -16.975898   \n",
       "2 -137.539419 -47.311996   60.814237 -25.789371   5.542696   9.388474   \n",
       "3  -68.315598 -32.353069   71.998054 -78.933526  14.320530 -13.669455   \n",
       "4   85.879721 -52.988838  351.547535   3.638489   2.937268   5.109022   \n",
       "\n",
       "   parallax  radial_velocity  phot_g_mean_mag  phot_bp_mean_mag  \\\n",
       "0  0.443537        44.472788        14.384683         14.678857   \n",
       "1  1.369992      -120.045033        12.405884         12.633657   \n",
       "2  0.597262        83.063864        14.347357         14.619976   \n",
       "3  0.862436      -106.062495        14.062039         14.311761   \n",
       "4  1.510236       -23.143291        14.677980         15.082906   \n",
       "\n",
       "   phot_rp_mean_mag  pmra_error  pmdec_error  parallax_error  \\\n",
       "0         13.931516    0.091557     0.091557        0.044116   \n",
       "1         12.030871    0.087001     0.087001        0.042780   \n",
       "2         13.923520    0.091365     0.091365        0.044055   \n",
       "3         13.648176    0.090130     0.090130        0.043668   \n",
       "4         14.107460    0.093275     0.093275        0.044678   \n",
       "\n",
       "   radial_velocity_error  phot_g_mean_mag_error  phot_bp_mean_mag_error  \\\n",
       "0               9.908263               0.000611                0.003929   \n",
       "1               2.036502               0.000342                0.002105   \n",
       "2               9.917098               0.000602                0.003861   \n",
       "3               7.792049               0.000544                0.003407   \n",
       "4              11.110764               0.000683                0.004529   \n",
       "\n",
       "   phot_rp_mean_mag_error  AccretedLabel  \n",
       "0                0.003929            0.0  \n",
       "1                0.002105            0.0  \n",
       "2                0.003861            0.0  \n",
       "3                0.003407            0.0  \n",
       "4                0.004529            0.0  "
      ]
     },
     "execution_count": 6,
     "metadata": {},
     "output_type": "execute_result"
    }
   ],
   "source": [
    "data.head()\n"
   ]
  },
  {
   "cell_type": "code",
   "execution_count": 7,
   "metadata": {},
   "outputs": [],
   "source": [
    "from sklearn.preprocessing import StandardScaler\n",
    "from sklearn.model_selection import train_test_split\n",
    "from scipy.interpolate import interp1d"
   ]
  },
  {
   "cell_type": "code",
   "execution_count": 8,
   "metadata": {},
   "outputs": [],
   "source": [
    "# What columns to use?\n",
    "use_cols = ['l', 'b','parallax','pmra','pmdec']\n",
    "# Make the design matrix\n",
    "X = data[use_cols].values\n",
    "Y = (data['radial_velocity']).values\n",
    "#Y = (Y - np.mean(Y))/(np.std(Y))"
   ]
  },
  {
   "cell_type": "code",
   "execution_count": 9,
   "metadata": {},
   "outputs": [],
   "source": [
    "X_train, X_test, y_train, y_test = train_test_split(X[1:500000], Y[1:500000],\n",
    "                                                    test_size = 0.2,\n",
    "                                                    random_state=42)\n"
   ]
  },
  {
   "cell_type": "code",
   "execution_count": 10,
   "metadata": {},
   "outputs": [
    {
     "name": "stdout",
     "output_type": "stream",
     "text": [
      "[-120.0450329    83.06386364 -106.06249519  -23.14329118   76.44296107\n",
      "  -46.41827695  -14.63364152  145.08926375   23.34802781  -81.40152111\n",
      "   14.85311096   13.65635045  -57.63144288   49.00421197  -25.57274867\n",
      "  -33.70641643 -155.18195204   18.97178791  -28.75733815  -22.24392089\n",
      " -125.13177741  -15.30500433  -90.73707434  -13.61774996    7.65311969\n",
      "    9.78484264   48.33065928  -48.42229803  -41.42301592   53.81317666\n",
      "   -2.44551656   -9.33211705  -76.28246486   86.96668327   -1.750906\n",
      " -164.60428404   87.25801578  -12.22197529  -64.65157395  -42.6330156\n",
      "   50.1763895   -93.93586989   27.69689785 -100.27945436   26.4079252\n",
      "  -72.79021722   45.89088179  -25.88975786    3.85857973]\n"
     ]
    }
   ],
   "source": [
    "print(Y[1:50])"
   ]
  },
  {
   "cell_type": "code",
   "execution_count": 11,
   "metadata": {},
   "outputs": [],
   "source": [
    "#trying to add some weights to training data\n",
    "vr_real = y_train\n",
    "counts, bins = np.histogram(vr_real,bins=np.linspace(-850,850,101))\n",
    "bin_centers = (bins[1:]+bins[:-1])/2\n",
    "interp_func = interp1d(bin_centers,(counts).astype('float'))\n",
    "inv_weights = interp_func(vr_real)\n",
    "weights = 1/inv_weights"
   ]
  },
  {
   "cell_type": "code",
   "execution_count": 12,
   "metadata": {},
   "outputs": [
    {
     "name": "stdout",
     "output_type": "stream",
     "text": [
      "(399999, 5)\n",
      "(399999,)\n",
      "There are -1438120.796128343 stars in the training set\n",
      "\n",
      "(100000, 5)\n",
      "(100000,)\n",
      "There are -351178.2908281403 stars in the test set\n"
     ]
    }
   ],
   "source": [
    "print(X_train.shape)\n",
    "print(y_train.shape)\n",
    "print('There are {0} stars in the training set'.format(np.sum(y_train)))\n",
    "print()\n",
    "print(X_test.shape)\n",
    "print(y_test.shape)\n",
    "print('There are {0} stars in the test set'.format(np.sum(y_test)))"
   ]
  },
  {
   "cell_type": "markdown",
   "metadata": {},
   "source": [
    "I think this is giving me a negative output because it's summing over y_train, which is not the number of stars, but is instead the radial velocities. "
   ]
  },
  {
   "cell_type": "code",
   "execution_count": 13,
   "metadata": {},
   "outputs": [],
   "source": [
    "SS = StandardScaler()\n",
    "X_train = SS.fit_transform(X_train)"
   ]
  },
  {
   "cell_type": "code",
   "execution_count": 14,
   "metadata": {},
   "outputs": [],
   "source": [
    "# Now scale the test data using the same mean and standard deviation as found with the training data\n",
    "X_test = SS.transform(X_test)"
   ]
  },
  {
   "cell_type": "code",
   "execution_count": 15,
   "metadata": {},
   "outputs": [
    {
     "name": "stderr",
     "output_type": "stream",
     "text": [
      "Font 'default' does not have a glyph for '\\\\times' [U+d7], substituting with a dummy symbol.\n",
      "Font 'default' does not have a glyph for '\\\\times' [U+d7], substituting with a dummy symbol.\n",
      "Font 'default' does not have a glyph for '\\\\times' [U+d7], substituting with a dummy symbol.\n",
      "Font 'default' does not have a glyph for '\\\\times' [U+d7], substituting with a dummy symbol.\n"
     ]
    },
    {
     "data": {
      "image/png": "[encoded data removed]",
      "text/plain": [
       "<Figure size 480x240 with 2 Axes>"
      ]
     },
     "metadata": {
      "needs_background": "light"
     },
     "output_type": "display_data"
    },
    {
     "data": {
      "image/png": "[encoded data removed]",
      "text/plain": [
       "<Figure size 480x240 with 2 Axes>"
      ]
     },
     "metadata": {
      "needs_background": "light"
     },
     "output_type": "display_data"
    },
    {
     "data": {
      "image/png": "[encoded data removed]",
      "text/plain": [
       "<Figure size 480x240 with 2 Axes>"
      ]
     },
     "metadata": {
      "needs_background": "light"
     },
     "output_type": "display_data"
    },
    {
     "data": {
      "image/png": "[encoded data removed]",
      "text/plain": [
       "<Figure size 480x240 with 2 Axes>"
      ]
     },
     "metadata": {
      "needs_background": "light"
     },
     "output_type": "display_data"
    },
    {
     "data": {
      "image/png": "[encoded data removed]",
      "text/plain": [
       "<Figure size 480x240 with 2 Axes>"
      ]
     },
     "metadata": {
      "needs_background": "light"
     },
     "output_type": "display_data"
    }
   ],
   "source": [
    "#visualize check data\n",
    "for i, col in enumerate(use_cols):\n",
    "    plt.figure(figsize=(6, 3))\n",
    "    plt.subplot(1,2,1)\n",
    "    plt.hist(data[col], bins=100)\n",
    "    plt.yscale('log')\n",
    "    plt.title('Data')\n",
    "    \n",
    "    plt.subplot(1,2,2)\n",
    "    plt.hist(X_train[:, i], bins=100, alpha=0.5)\n",
    "    plt.hist(X_test[:, i], bins=100, alpha=0.5)\n",
    "    plt.yscale('log')\n",
    "    plt.title('Scaled')\n",
    "    \n",
    "    plt.suptitle(col, y=1.01, fontsize=16)\n",
    "    \n",
    "    plt.tight_layout()"
   ]
  },
  {
   "cell_type": "code",
   "execution_count": 16,
   "metadata": {},
   "outputs": [
    {
     "name": "stderr",
     "output_type": "stream",
     "text": [
      "Using TensorFlow backend.\n"
     ]
    }
   ],
   "source": [
    "from keras.models import Sequential\n",
    "from keras.layers import Dense\n",
    "from keras.callbacks import EarlyStopping, ModelCheckpoint\n",
    "from keras.optimizers import Adam"
   ]
  },
  {
   "cell_type": "code",
   "execution_count": 17,
   "metadata": {},
   "outputs": [],
   "source": [
    "from keras import backend as K"
   ]
  },
  {
   "cell_type": "code",
   "execution_count": 18,
   "metadata": {},
   "outputs": [],
   "source": [
    "def LikelihoodLossFunction(y_true, y_pred):\n",
    "    # shape of y_pred should be (nsamples, 2)\n",
    "    # the first column should be the mean of the prediction\n",
    "    # the second column is the confidence (number of standard deviations)\n",
    "#     print y_true.shape\n",
    "#     print y_pred.shape\n",
    "    SIGMA = K.abs(y_pred[:, 1])\n",
    "    LOC = y_pred[:, 0]\n",
    "    X = y_true[:, 0]\n",
    "    \n",
    "    ARG = K.square(X - LOC) / (2 * K.square(SIGMA))\n",
    "    PREFACT = K.log(K.pow(2 * np.pi * K.square(SIGMA), -0.5))\n",
    "    #you get this from the conditional probability distribution\n",
    "    return K.mean(ARG - PREFACT)\n",
    "#returns [vr predicted, sigma]"
   ]
  },
  {
   "cell_type": "code",
   "execution_count": 19,
   "metadata": {},
   "outputs": [],
   "source": [
    "def ConstantLikelihoodLossFunction(y_true, y_pred):\n",
    "    # shape of y_pred should be (nsamples, 2)\n",
    "    # the first column should be the mean of the prediction\n",
    "    # the second column is the confidence (number of standard deviations)\n",
    "#     print y_true.shape\n",
    "#     print y_pred.shape\n",
    "    LOC = y_pred[:, 0]\n",
    "    X = y_true[:, 0]\n",
    "    ARG = -K.square(X - LOC) / (2.0)\n",
    "    return K.mean(-ARG)\n"
   ]
  },
  {
   "cell_type": "markdown",
   "metadata": {},
   "source": [
    "Going to train once on Constant Likelihood first. "
   ]
  },
  {
   "cell_type": "code",
   "execution_count": 20,
   "metadata": {},
   "outputs": [],
   "source": [
    "MyModel = Sequential()\n",
    "MyModel.add(Dense(units=100, activation='relu', input_dim=X_train.shape[1]))\n",
    "MyModel.add(Dense(units=100, activation='relu'))\n",
    "MyModel.add(Dense(units=100, activation='relu'))\n",
    "MyModel.add(Dense(units=2))\n",
    "#using tanh activation function in the last layer\n",
    "#MyModel.compile(loss='mean_squared_error',\n",
    "               # optimizer='adam'\n",
    "              # )\n",
    "MyModel.compile(loss=ConstantLikelihoodLossFunction,\n",
    "                optimizer='adam'\n",
    "               )"
   ]
  },
  {
   "cell_type": "code",
   "execution_count": 21,
   "metadata": {},
   "outputs": [
    {
     "name": "stdout",
     "output_type": "stream",
     "text": [
      "Model: \"sequential_1\"\n",
      "_________________________________________________________________\n",
      "Layer (type)                 Output Shape              Param #   \n",
      "=================================================================\n",
      "dense_1 (Dense)              (None, 100)               600       \n",
      "_________________________________________________________________\n",
      "dense_2 (Dense)              (None, 100)               10100     \n",
      "_________________________________________________________________\n",
      "dense_3 (Dense)              (None, 100)               10100     \n",
      "_________________________________________________________________\n",
      "dense_4 (Dense)              (None, 2)                 202       \n",
      "=================================================================\n",
      "Total params: 21,002\n",
      "Trainable params: 21,002\n",
      "Non-trainable params: 0\n",
      "_________________________________________________________________\n"
     ]
    }
   ],
   "source": [
    "MyModel.summary()"
   ]
  },
  {
   "cell_type": "code",
   "execution_count": 22,
   "metadata": {},
   "outputs": [],
   "source": [
    "#training any checkpoint or early stopping? \n",
    "es = EarlyStopping(patience=2, restore_best_weights=True)"
   ]
  },
  {
   "cell_type": "markdown",
   "metadata": {},
   "source": [
    "Not sure how long to train for at first...I just did 15 epochs because I'm concerned about overtraining?"
   ]
  },
  {
   "cell_type": "code",
   "execution_count": 23,
   "metadata": {},
   "outputs": [
    {
     "name": "stdout",
     "output_type": "stream",
     "text": [
      "Train on 319999 samples, validate on 80000 samples\n",
      "Epoch 1/15\n",
      "319999/319999 [==============================] - 2s 7us/step - loss: 0.4163 - val_loss: 0.3862\n",
      "Epoch 2/15\n",
      "319999/319999 [==============================] - 2s 6us/step - loss: 0.3857 - val_loss: 0.3665\n",
      "Epoch 3/15\n",
      "319999/319999 [==============================] - 2s 6us/step - loss: 0.3774 - val_loss: 0.3606\n",
      "Epoch 4/15\n",
      "319999/319999 [==============================] - 2s 6us/step - loss: 0.3668 - val_loss: 0.3571\n",
      "Epoch 5/15\n",
      "319999/319999 [==============================] - 2s 6us/step - loss: 0.3649 - val_loss: 0.3543\n",
      "Epoch 6/15\n",
      "319999/319999 [==============================] - 2s 6us/step - loss: 0.3632 - val_loss: 0.3540\n",
      "Epoch 7/15\n",
      "319999/319999 [==============================] - 2s 6us/step - loss: 0.3625 - val_loss: 0.3525\n",
      "Epoch 8/15\n",
      "319999/319999 [==============================] - 2s 6us/step - loss: 0.3616 - val_loss: 0.3498\n",
      "Epoch 9/15\n",
      "319999/319999 [==============================] - 2s 6us/step - loss: 0.3565 - val_loss: 0.3488\n",
      "Epoch 10/15\n",
      "319999/319999 [==============================] - 2s 6us/step - loss: 0.3564 - val_loss: 0.3475\n",
      "Epoch 11/15\n",
      "319999/319999 [==============================] - 2s 6us/step - loss: 0.3549 - val_loss: 0.3475\n",
      "Epoch 12/15\n",
      "319999/319999 [==============================] - 2s 6us/step - loss: 0.3533 - val_loss: 0.3460\n",
      "Epoch 13/15\n",
      "319999/319999 [==============================] - 2s 6us/step - loss: 0.3537 - val_loss: 0.3459\n",
      "Epoch 14/15\n",
      "319999/319999 [==============================] - 2s 6us/step - loss: 0.3521 - val_loss: 0.3454\n",
      "Epoch 15/15\n",
      "319999/319999 [==============================] - 2s 6us/step - loss: 0.3535 - val_loss: 0.3438\n"
     ]
    }
   ],
   "source": [
    "history = MyModel.fit(X_train,np.vstack([y_train,\n",
    "                                  np.ones(y_train.shape[0])\n",
    "                                  ]).T,\n",
    "                      validation_split=0.2,\n",
    "                      epochs=15,\n",
    "                      batch_size=1000,\n",
    "                      callbacks = [es],\n",
    "                      sample_weight=weights\n",
    "                     )\n",
    "#not sure exactly how many epochs I should run this for....we'll see \n",
    "#loss is still really small numbers- because of rescaling and then re-weighting"
   ]
  },
  {
   "cell_type": "code",
   "execution_count": 24,
   "metadata": {},
   "outputs": [
    {
     "name": "stderr",
     "output_type": "stream",
     "text": [
      "Font 'default' does not have a glyph for '\\\\times' [U+d7], substituting with a dummy symbol.\n",
      "Font 'default' does not have a glyph for '\\\\times' [U+d7], substituting with a dummy symbol.\n",
      "Font 'default' does not have a glyph for '\\\\times' [U+d7], substituting with a dummy symbol.\n",
      "Font 'default' does not have a glyph for '\\\\times' [U+d7], substituting with a dummy symbol.\n",
      "Font 'default' does not have a glyph for '\\\\times' [U+d7], substituting with a dummy symbol.\n",
      "Font 'default' does not have a glyph for '\\\\times' [U+d7], substituting with a dummy symbol.\n",
      "Font 'default' does not have a glyph for '\\\\times' [U+d7], substituting with a dummy symbol.\n",
      "Font 'default' does not have a glyph for '\\\\times' [U+d7], substituting with a dummy symbol.\n",
      "Font 'default' does not have a glyph for '\\\\times' [U+d7], substituting with a dummy symbol.\n",
      "Font 'default' does not have a glyph for '\\\\times' [U+d7], substituting with a dummy symbol.\n",
      "Font 'default' does not have a glyph for '\\\\times' [U+d7], substituting with a dummy symbol.\n",
      "Font 'default' does not have a glyph for '\\\\times' [U+d7], substituting with a dummy symbol.\n",
      "Font 'default' does not have a glyph for '\\\\times' [U+d7], substituting with a dummy symbol.\n",
      "Font 'default' does not have a glyph for '\\\\times' [U+d7], substituting with a dummy symbol.\n",
      "Font 'default' does not have a glyph for '\\\\times' [U+d7], substituting with a dummy symbol.\n",
      "Font 'default' does not have a glyph for '\\\\times' [U+d7], substituting with a dummy symbol.\n"
     ]
    },
    {
     "data": {
      "image/png": "[encoded data removed]",
      "text/plain": [
       "<Figure size 320x320 with 1 Axes>"
      ]
     },
     "metadata": {
      "needs_background": "light"
     },
     "output_type": "display_data"
    }
   ],
   "source": [
    "plt.plot(history.history['loss'])\n",
    "plt.plot(history.history['val_loss'])\n",
    "plt.yscale('log')\n",
    "plt.xlabel('Epochs')\n",
    "plt.ylabel('Constant Loss Function')\n",
    "plt.legend(['Train', 'Validation'])\n",
    "plt.show()"
   ]
  },
  {
   "cell_type": "markdown",
   "metadata": {},
   "source": [
    "Next going to train on Likelihood to get sigma "
   ]
  },
  {
   "cell_type": "code",
   "execution_count": 25,
   "metadata": {},
   "outputs": [],
   "source": [
    "MyModel.compile(loss=LikelihoodLossFunction,\n",
    "                optimizer='adam'\n",
    "               )"
   ]
  },
  {
   "cell_type": "code",
   "execution_count": 26,
   "metadata": {},
   "outputs": [
    {
     "name": "stdout",
     "output_type": "stream",
     "text": [
      "Train on 319999 samples, validate on 80000 samples\n",
      "Epoch 1/300\n",
      "319999/319999 [==============================] - 2s 7us/step - loss: 63.9529 - val_loss: 0.0283\n",
      "Epoch 2/300\n",
      "319999/319999 [==============================] - 2s 6us/step - loss: 0.0123 - val_loss: 0.0065\n",
      "Epoch 3/300\n",
      "319999/319999 [==============================] - 2s 6us/step - loss: 0.0051 - val_loss: 0.0039\n",
      "Epoch 4/300\n",
      "319999/319999 [==============================] - 2s 6us/step - loss: 0.0034 - val_loss: 0.0029\n",
      "Epoch 5/300\n",
      "319999/319999 [==============================] - 2s 6us/step - loss: 0.0026 - val_loss: 0.0023\n",
      "Epoch 6/300\n",
      "319999/319999 [==============================] - 2s 6us/step - loss: 0.0022 - val_loss: 0.0020\n",
      "Epoch 7/300\n",
      "319999/319999 [==============================] - 2s 6us/step - loss: 0.0019 - val_loss: 0.0018\n",
      "Epoch 8/300\n",
      "319999/319999 [==============================] - 2s 6us/step - loss: 0.0017 - val_loss: 0.0016\n",
      "Epoch 9/300\n",
      "319999/319999 [==============================] - 2s 6us/step - loss: 0.0016 - val_loss: 0.0015\n",
      "Epoch 10/300\n",
      "319999/319999 [==============================] - 2s 6us/step - loss: 0.0014 - val_loss: 0.0014\n",
      "Epoch 11/300\n",
      "319999/319999 [==============================] - 2s 6us/step - loss: 0.0014 - val_loss: 0.0013\n",
      "Epoch 12/300\n",
      "319999/319999 [==============================] - 2s 6us/step - loss: 0.0013 - val_loss: 0.0012\n",
      "Epoch 13/300\n",
      "319999/319999 [==============================] - 2s 6us/step - loss: 0.0012 - val_loss: 0.0012\n",
      "Epoch 14/300\n",
      "319999/319999 [==============================] - 2s 6us/step - loss: 0.0012 - val_loss: 0.0012\n",
      "Epoch 15/300\n",
      "319999/319999 [==============================] - 2s 6us/step - loss: 0.0012 - val_loss: 0.0011\n",
      "Epoch 16/300\n",
      "319999/319999 [==============================] - 2s 6us/step - loss: 0.0011 - val_loss: 0.0011\n",
      "Epoch 17/300\n",
      "319999/319999 [==============================] - 2s 6us/step - loss: 0.0011 - val_loss: 0.0011\n",
      "Epoch 18/300\n",
      "319999/319999 [==============================] - 2s 6us/step - loss: 0.0011 - val_loss: 0.0011\n",
      "Epoch 19/300\n",
      "319999/319999 [==============================] - 2s 6us/step - loss: 0.0011 - val_loss: 0.0010\n",
      "Epoch 20/300\n",
      "319999/319999 [==============================] - 2s 6us/step - loss: 0.0011 - val_loss: 0.0010\n",
      "Epoch 21/300\n",
      "319999/319999 [==============================] - 2s 6us/step - loss: 0.0010 - val_loss: 0.0010\n",
      "Epoch 22/300\n",
      "319999/319999 [==============================] - 2s 6us/step - loss: 0.0010 - val_loss: 0.0010\n",
      "Epoch 23/300\n",
      "319999/319999 [==============================] - 2s 6us/step - loss: 0.0010 - val_loss: 0.0010\n",
      "Epoch 24/300\n",
      "319999/319999 [==============================] - 2s 6us/step - loss: 0.0010 - val_loss: 9.9794e-04\n",
      "Epoch 25/300\n",
      "319999/319999 [==============================] - 2s 6us/step - loss: 0.0010 - val_loss: 9.9364e-04\n",
      "Epoch 26/300\n",
      "319999/319999 [==============================] - 2s 6us/step - loss: 0.0010 - val_loss: 9.9021e-04\n",
      "Epoch 27/300\n",
      "319999/319999 [==============================] - 2s 6us/step - loss: 0.0010 - val_loss: 9.8737e-04\n",
      "Epoch 28/300\n",
      "319999/319999 [==============================] - 2s 6us/step - loss: 0.0010 - val_loss: 9.8506e-04\n",
      "Epoch 29/300\n",
      "319999/319999 [==============================] - 2s 6us/step - loss: 0.0010 - val_loss: 9.8318e-04\n",
      "Epoch 30/300\n",
      "319999/319999 [==============================] - 2s 6us/step - loss: 0.0010 - val_loss: 9.8157e-04\n",
      "Epoch 31/300\n",
      "319999/319999 [==============================] - 2s 6us/step - loss: 0.0010 - val_loss: 9.8017e-04\n",
      "Epoch 32/300\n",
      "319999/319999 [==============================] - 2s 6us/step - loss: 0.0010 - val_loss: 9.7885e-04\n",
      "Epoch 33/300\n",
      "319999/319999 [==============================] - 2s 6us/step - loss: 0.0010 - val_loss: 9.7758e-04\n",
      "Epoch 34/300\n",
      "319999/319999 [==============================] - 2s 6us/step - loss: 9.9886e-04 - val_loss: 9.7636e-04\n",
      "Epoch 35/300\n",
      "319999/319999 [==============================] - 2s 6us/step - loss: 9.9774e-04 - val_loss: 9.7516e-04\n",
      "Epoch 36/300\n",
      "319999/319999 [==============================] - 2s 6us/step - loss: 9.9600e-04 - val_loss: 9.7398e-04\n",
      "Epoch 37/300\n",
      "319999/319999 [==============================] - 2s 6us/step - loss: 9.9490e-04 - val_loss: 9.7279e-04\n",
      "Epoch 38/300\n",
      "319999/319999 [==============================] - 2s 6us/step - loss: 9.9396e-04 - val_loss: 9.7168e-04\n",
      "Epoch 39/300\n",
      "319999/319999 [==============================] - 2s 6us/step - loss: 9.9270e-04 - val_loss: 9.7062e-04\n",
      "Epoch 40/300\n",
      "319999/319999 [==============================] - 2s 6us/step - loss: 9.9183e-04 - val_loss: 9.6964e-04\n",
      "Epoch 41/300\n",
      "319999/319999 [==============================] - 2s 6us/step - loss: 9.9093e-04 - val_loss: 9.6874e-04\n",
      "Epoch 42/300\n",
      "319999/319999 [==============================] - 2s 6us/step - loss: 9.9006e-04 - val_loss: 9.6791e-04\n",
      "Epoch 43/300\n",
      "319999/319999 [==============================] - 2s 6us/step - loss: 9.8971e-04 - val_loss: 9.6721e-04\n",
      "Epoch 44/300\n",
      "319999/319999 [==============================] - 2s 6us/step - loss: 9.8851e-04 - val_loss: 9.6660e-04\n",
      "Epoch 45/300\n",
      "319999/319999 [==============================] - 2s 6us/step - loss: 9.8772e-04 - val_loss: 9.6604e-04\n",
      "Epoch 46/300\n",
      "319999/319999 [==============================] - 2s 6us/step - loss: 9.8711e-04 - val_loss: 9.6554e-04\n",
      "Epoch 47/300\n",
      "319999/319999 [==============================] - 2s 6us/step - loss: 9.8681e-04 - val_loss: 9.6508e-04\n",
      "Epoch 48/300\n",
      "319999/319999 [==============================] - 2s 6us/step - loss: 9.8625e-04 - val_loss: 9.6468e-04\n",
      "Epoch 49/300\n",
      "319999/319999 [==============================] - 2s 6us/step - loss: 9.8635e-04 - val_loss: 9.6428e-04\n",
      "Epoch 50/300\n",
      "319999/319999 [==============================] - 2s 6us/step - loss: 9.8586e-04 - val_loss: 9.6393e-04\n",
      "Epoch 51/300\n",
      "319999/319999 [==============================] - 2s 6us/step - loss: 9.8573e-04 - val_loss: 9.6361e-04\n",
      "Epoch 52/300\n",
      "319999/319999 [==============================] - 2s 6us/step - loss: 9.8569e-04 - val_loss: 9.6332e-04\n",
      "Epoch 53/300\n",
      "319999/319999 [==============================] - 2s 6us/step - loss: 9.8519e-04 - val_loss: 9.6302e-04\n",
      "Epoch 54/300\n",
      "319999/319999 [==============================] - 2s 6us/step - loss: 9.8439e-04 - val_loss: 9.6276e-04\n",
      "Epoch 55/300\n",
      "319999/319999 [==============================] - 2s 6us/step - loss: 9.8421e-04 - val_loss: 9.6251e-04\n",
      "Epoch 56/300\n",
      "319999/319999 [==============================] - 2s 6us/step - loss: 9.8414e-04 - val_loss: 9.6228e-04\n",
      "Epoch 57/300\n",
      "319999/319999 [==============================] - 2s 6us/step - loss: 9.8349e-04 - val_loss: 9.6204e-04\n",
      "Epoch 58/300\n",
      "319999/319999 [==============================] - 2s 6us/step - loss: 9.8361e-04 - val_loss: 9.6179e-04\n",
      "Epoch 59/300\n",
      "319999/319999 [==============================] - 2s 6us/step - loss: 9.8328e-04 - val_loss: 9.6157e-04\n",
      "Epoch 60/300\n",
      "319999/319999 [==============================] - 2s 6us/step - loss: 9.8309e-04 - val_loss: 9.6123e-04\n",
      "Epoch 61/300\n",
      "319999/319999 [==============================] - 2s 6us/step - loss: 9.8256e-04 - val_loss: 9.6086e-04\n",
      "Epoch 62/300\n",
      "319999/319999 [==============================] - 2s 6us/step - loss: 9.8216e-04 - val_loss: 9.6046e-04\n",
      "Epoch 63/300\n",
      "319999/319999 [==============================] - 2s 6us/step - loss: 9.8188e-04 - val_loss: 9.6010e-04\n",
      "Epoch 64/300\n",
      "319999/319999 [==============================] - 2s 6us/step - loss: 9.8143e-04 - val_loss: 9.5977e-04\n",
      "Epoch 65/300\n",
      "319999/319999 [==============================] - 2s 6us/step - loss: 9.8123e-04 - val_loss: 9.5949e-04\n",
      "Epoch 66/300\n",
      "319999/319999 [==============================] - 2s 6us/step - loss: 9.8105e-04 - val_loss: 9.5922e-04\n",
      "Epoch 67/300\n",
      "319999/319999 [==============================] - 2s 6us/step - loss: 9.8081e-04 - val_loss: 9.5897e-04\n",
      "Epoch 68/300\n",
      "319999/319999 [==============================] - 2s 6us/step - loss: 9.8073e-04 - val_loss: 9.5873e-04\n",
      "Epoch 69/300\n",
      "319999/319999 [==============================] - 2s 6us/step - loss: 9.8000e-04 - val_loss: 9.5852e-04\n",
      "Epoch 70/300\n",
      "319999/319999 [==============================] - 2s 6us/step - loss: 9.8035e-04 - val_loss: 9.5831e-04\n",
      "Epoch 71/300\n",
      "319999/319999 [==============================] - 2s 6us/step - loss: 9.7976e-04 - val_loss: 9.5807e-04\n",
      "Epoch 72/300\n",
      "319999/319999 [==============================] - 2s 6us/step - loss: 9.7945e-04 - val_loss: 9.5787e-04\n",
      "Epoch 73/300\n",
      "319999/319999 [==============================] - 2s 6us/step - loss: 9.7928e-04 - val_loss: 9.5767e-04\n",
      "Epoch 74/300\n",
      "319999/319999 [==============================] - 2s 6us/step - loss: 9.7951e-04 - val_loss: 9.5746e-04\n",
      "Epoch 75/300\n",
      "319999/319999 [==============================] - 2s 6us/step - loss: 9.7838e-04 - val_loss: 9.5726e-04\n",
      "Epoch 76/300\n",
      "319999/319999 [==============================] - 2s 6us/step - loss: 9.7815e-04 - val_loss: 9.5709e-04\n",
      "Epoch 77/300\n",
      "319999/319999 [==============================] - 2s 6us/step - loss: 9.7891e-04 - val_loss: 9.5684e-04\n",
      "Epoch 78/300\n",
      "319999/319999 [==============================] - 2s 6us/step - loss: 9.7782e-04 - val_loss: 9.5664e-04\n",
      "Epoch 79/300\n",
      "319999/319999 [==============================] - 2s 6us/step - loss: 9.7789e-04 - val_loss: 9.5646e-04\n",
      "Epoch 80/300\n",
      "319999/319999 [==============================] - 2s 6us/step - loss: 9.7747e-04 - val_loss: 9.5624e-04\n",
      "Epoch 81/300\n",
      "319999/319999 [==============================] - 2s 6us/step - loss: 9.7715e-04 - val_loss: 9.5605e-04\n",
      "Epoch 82/300\n",
      "319999/319999 [==============================] - 2s 6us/step - loss: 9.7692e-04 - val_loss: 9.5584e-04\n",
      "Epoch 83/300\n",
      "319999/319999 [==============================] - 2s 6us/step - loss: 9.7768e-04 - val_loss: 9.5566e-04\n",
      "Epoch 84/300\n",
      "319999/319999 [==============================] - 2s 6us/step - loss: 9.7719e-04 - val_loss: 9.5547e-04\n",
      "Epoch 85/300\n",
      "319999/319999 [==============================] - 2s 6us/step - loss: 9.7698e-04 - val_loss: 9.5532e-04\n",
      "Epoch 86/300\n",
      "319999/319999 [==============================] - 2s 6us/step - loss: 9.7646e-04 - val_loss: 9.5515e-04\n",
      "Epoch 87/300\n",
      "319999/319999 [==============================] - 2s 6us/step - loss: 9.7666e-04 - val_loss: 9.5500e-04\n",
      "Epoch 88/300\n",
      "319999/319999 [==============================] - 2s 6us/step - loss: 9.7618e-04 - val_loss: 9.5485e-04\n",
      "Epoch 89/300\n",
      "319999/319999 [==============================] - 2s 6us/step - loss: 9.7607e-04 - val_loss: 9.5472e-04\n",
      "Epoch 90/300\n",
      "319999/319999 [==============================] - 2s 6us/step - loss: 9.7591e-04 - val_loss: 9.5462e-04\n",
      "Epoch 91/300\n",
      "319999/319999 [==============================] - 2s 6us/step - loss: 9.7610e-04 - val_loss: 9.5449e-04\n",
      "Epoch 92/300\n",
      "319999/319999 [==============================] - 2s 6us/step - loss: 9.7567e-04 - val_loss: 9.5439e-04\n",
      "Epoch 93/300\n",
      "319999/319999 [==============================] - 2s 6us/step - loss: 9.7607e-04 - val_loss: 9.5429e-04\n",
      "Epoch 94/300\n",
      "319999/319999 [==============================] - 2s 6us/step - loss: 9.7543e-04 - val_loss: 9.5421e-04\n",
      "Epoch 95/300\n",
      "319999/319999 [==============================] - 2s 6us/step - loss: 9.7522e-04 - val_loss: 9.5409e-04\n",
      "Epoch 96/300\n",
      "319999/319999 [==============================] - 2s 6us/step - loss: 9.7528e-04 - val_loss: 9.5402e-04\n",
      "Epoch 97/300\n",
      "319999/319999 [==============================] - 2s 6us/step - loss: 9.7504e-04 - val_loss: 9.5393e-04\n",
      "Epoch 98/300\n",
      "319999/319999 [==============================] - 2s 6us/step - loss: 9.7483e-04 - val_loss: 9.5387e-04\n",
      "Epoch 99/300\n",
      "319999/319999 [==============================] - 2s 6us/step - loss: 9.7499e-04 - val_loss: 9.5376e-04\n",
      "Epoch 100/300\n",
      "319999/319999 [==============================] - 2s 6us/step - loss: 9.7499e-04 - val_loss: 9.5373e-04\n",
      "Epoch 101/300\n",
      "319999/319999 [==============================] - 2s 6us/step - loss: 9.7501e-04 - val_loss: 9.5370e-04\n",
      "Epoch 102/300\n",
      "319999/319999 [==============================] - 2s 6us/step - loss: 9.7491e-04 - val_loss: 9.5360e-04\n",
      "Epoch 103/300\n",
      "319999/319999 [==============================] - 2s 6us/step - loss: 9.7443e-04 - val_loss: 9.5354e-04\n",
      "Epoch 104/300\n",
      "319999/319999 [==============================] - 2s 6us/step - loss: 9.7472e-04 - val_loss: 9.5348e-04\n",
      "Epoch 105/300\n",
      "319999/319999 [==============================] - 2s 6us/step - loss: 9.7458e-04 - val_loss: 9.5337e-04\n",
      "Epoch 106/300\n",
      "319999/319999 [==============================] - 2s 6us/step - loss: 9.7473e-04 - val_loss: 9.5330e-04\n",
      "Epoch 107/300\n",
      "319999/319999 [==============================] - 2s 6us/step - loss: 9.7441e-04 - val_loss: 9.5327e-04\n",
      "Epoch 108/300\n",
      "319999/319999 [==============================] - 2s 6us/step - loss: 9.7388e-04 - val_loss: 9.5318e-04\n",
      "Epoch 109/300\n",
      "319999/319999 [==============================] - 2s 6us/step - loss: 9.7439e-04 - val_loss: 9.5312e-04\n",
      "Epoch 110/300\n",
      "319999/319999 [==============================] - 2s 6us/step - loss: 9.7447e-04 - val_loss: 9.5304e-04\n",
      "Epoch 111/300\n",
      "319999/319999 [==============================] - 2s 6us/step - loss: 9.7400e-04 - val_loss: 9.5301e-04\n",
      "Epoch 112/300\n",
      "319999/319999 [==============================] - 2s 6us/step - loss: 9.7426e-04 - val_loss: 9.5298e-04\n",
      "Epoch 113/300\n",
      "319999/319999 [==============================] - 2s 6us/step - loss: 9.7377e-04 - val_loss: 9.5287e-04\n",
      "Epoch 114/300\n",
      "319999/319999 [==============================] - 2s 6us/step - loss: 9.7375e-04 - val_loss: 9.5279e-04\n",
      "Epoch 115/300\n",
      "319999/319999 [==============================] - 2s 6us/step - loss: 9.7420e-04 - val_loss: 9.5280e-04\n",
      "Epoch 116/300\n",
      "319999/319999 [==============================] - 2s 6us/step - loss: 9.7347e-04 - val_loss: 9.5265e-04\n",
      "Epoch 117/300\n",
      "319999/319999 [==============================] - 2s 6us/step - loss: 9.7328e-04 - val_loss: 9.5259e-04\n",
      "Epoch 118/300\n",
      "319999/319999 [==============================] - 2s 6us/step - loss: 9.7337e-04 - val_loss: 9.5264e-04\n",
      "Epoch 119/300\n",
      "319999/319999 [==============================] - 2s 6us/step - loss: 9.7334e-04 - val_loss: 9.5249e-04\n",
      "Epoch 120/300\n",
      "319999/319999 [==============================] - 2s 6us/step - loss: 9.7334e-04 - val_loss: 9.5239e-04\n",
      "Epoch 121/300\n",
      "319999/319999 [==============================] - 2s 6us/step - loss: 9.7314e-04 - val_loss: 9.5235e-04\n",
      "Epoch 122/300\n",
      "319999/319999 [==============================] - 2s 6us/step - loss: 9.7310e-04 - val_loss: 9.5229e-04\n",
      "Epoch 123/300\n",
      "319999/319999 [==============================] - 2s 6us/step - loss: 9.7334e-04 - val_loss: 9.5230e-04\n",
      "Epoch 124/300\n",
      "319999/319999 [==============================] - 2s 6us/step - loss: 9.7288e-04 - val_loss: 9.5226e-04\n",
      "Epoch 125/300\n",
      "319999/319999 [==============================] - 2s 6us/step - loss: 9.7268e-04 - val_loss: 9.5217e-04\n",
      "Epoch 126/300\n",
      "319999/319999 [==============================] - 2s 6us/step - loss: 9.7278e-04 - val_loss: 9.5211e-04\n",
      "Epoch 127/300\n",
      "319999/319999 [==============================] - 2s 6us/step - loss: 9.7256e-04 - val_loss: 9.5213e-04\n",
      "Epoch 128/300\n",
      "319999/319999 [==============================] - 2s 6us/step - loss: 9.7245e-04 - val_loss: 9.5192e-04\n",
      "Epoch 129/300\n",
      "319999/319999 [==============================] - 2s 6us/step - loss: 9.7265e-04 - val_loss: 9.5203e-04\n",
      "Epoch 130/300\n",
      "319999/319999 [==============================] - 2s 6us/step - loss: 9.7243e-04 - val_loss: 9.5197e-04\n"
     ]
    }
   ],
   "source": [
    "history = MyModel.fit(X_train,np.vstack([y_train,\n",
    "                                  np.ones(y_train.shape[0])\n",
    "                                  ]).T,\n",
    "                      validation_split=0.2,\n",
    "                      epochs=300,\n",
    "                      batch_size=1000,\n",
    "                      callbacks = [es],\n",
    "                      sample_weight=weights\n",
    "                     )"
   ]
  },
  {
   "cell_type": "code",
   "execution_count": 27,
   "metadata": {},
   "outputs": [
    {
     "data": {
      "image/png": "[encoded data removed]",
      "text/plain": [
       "<Figure size 320x320 with 1 Axes>"
      ]
     },
     "metadata": {
      "needs_background": "light"
     },
     "output_type": "display_data"
    }
   ],
   "source": [
    "plt.plot(history.history['loss'])\n",
    "plt.plot(history.history['val_loss'])\n",
    "plt.yscale('log')\n",
    "plt.xlabel('Epochs')\n",
    "plt.ylabel('Likelihood Loss Function')\n",
    "plt.legend(['Train', 'Validation'])\n",
    "plt.show()"
   ]
  },
  {
   "cell_type": "code",
   "execution_count": 28,
   "metadata": {},
   "outputs": [],
   "source": [
    "# predict the scores for the test set, then histogram them based on the real labels\n",
    "test_preds = MyModel.predict(X_test)"
   ]
  },
  {
   "cell_type": "code",
   "execution_count": 29,
   "metadata": {},
   "outputs": [
    {
     "data": {
      "image/png": "[encoded data removed]",
      "text/plain": [
       "<Figure size 320x320 with 1 Axes>"
      ]
     },
     "metadata": {
      "needs_background": "light"
     },
     "output_type": "display_data"
    }
   ],
   "source": [
    "plt.hist(test_preds[:,0], bins=50, range=(-200,200), histtype='step')\n",
    "plt.hist(y_test, bins=50, range=(-200,200), histtype='step')\n",
    "plt.xlabel('Vr')\n",
    "plt.ylabel('Stars')\n",
    "plt.title('Test set - simulated data')\n",
    "plt.yscale('log')\n",
    "plt.show()"
   ]
  },
  {
   "cell_type": "code",
   "execution_count": 30,
   "metadata": {},
   "outputs": [
    {
     "name": "stdout",
     "output_type": "stream",
     "text": [
      "[ -49.43025  -125.84741   -49.246834 ...  -62.35415   -48.217182\n",
      "  -51.42039 ]\n"
     ]
    },
    {
     "data": {
      "text/plain": [
       "Text(0, 0.5, 'Error on Vr predicted')"
      ]
     },
     "execution_count": 30,
     "metadata": {},
     "output_type": "execute_result"
    },
    {
     "data": {
      "image/png": "[encoded data removed]",
      "text/plain": [
       "<Figure size 320x320 with 1 Axes>"
      ]
     },
     "metadata": {
      "needs_background": "light"
     },
     "output_type": "display_data"
    }
   ],
   "source": [
    "#test_preds[:,0] = (test_preds[:,0] - np.min(test_preds[:,0]))/(np.max(test_preds[:,0])- np.min(test_preds[:,0]))\n",
    "#test_preds[:,1] = (test_preds[:,1] - np.min(test_preds[:,1]))/(np.max(test_preds[:,1])- np.min(test_preds[:,1]))\n",
    "#y_test = (y_test - np.min(y_test))/(np.max(y_test)- np.min(y_test))\n",
    "#manually normalizing output \n",
    "print(test_preds[:,1])\n",
    "plt.scatter(X_test[:,2], test_preds[:,1], color = 'red')\n",
    "#plt.errorbar(X_test[1:50,2], test_preds[1:50,0], yerr = test_preds[1:50,1], color = 'red',ls='none')\n",
    "plt.xlabel('Distance')\n",
    "plt.ylabel('Error on Vr predicted')"
   ]
  },
  {
   "cell_type": "code",
   "execution_count": 31,
   "metadata": {},
   "outputs": [],
   "source": [
    "from scipy.interpolate import interpn\n",
    "def density_scatter( x , y, ax = None, sort = True, bins = 20, **kwargs )   :\n",
    "    \"\"\"\n",
    "    Scatter plot colored by 2d histogram\n",
    "    \"\"\"\n",
    "    if ax is None :\n",
    "        fig , ax = plt.subplots()\n",
    "    data , x_e, y_e = np.histogram2d( x, y, bins = bins)\n",
    "    z = interpn( ( 0.5*(x_e[1:] + x_e[:-1]) , 0.5*(y_e[1:]+y_e[:-1]) ) , data , np.vstack([x,y]).T , method = \"splinef2d\", bounds_error = False )\n",
    "\n",
    "    # Sort the points by density, so that the densest points are plotted last\n",
    "    if sort :\n",
    "        idx = z.argsort()\n",
    "        x, y, z = x[idx], y[idx], z[idx]\n",
    "\n",
    "    ax.scatter( x, y, c=z, **kwargs )\n",
    "    return ax"
   ]
  },
  {
   "cell_type": "code",
   "execution_count": 32,
   "metadata": {},
   "outputs": [
    {
     "data": {
      "text/plain": [
       "Text(0.5, 0, 'Vr real')"
      ]
     },
     "execution_count": 32,
     "metadata": {},
     "output_type": "execute_result"
    },
    {
     "data": {
      "image/png": "[encoded data removed]",
      "text/plain": [
       "<Figure size 320x320 with 2 Axes>"
      ]
     },
     "metadata": {
      "needs_background": "light"
     },
     "output_type": "display_data"
    }
   ],
   "source": [
    "#plt.errorbar(y_test, test_preds[:,0], yerr = test_preds[:,1], color = 'red',ls='none')\n",
    "#density_scatter(y_test, test_preds[:,0])\n",
    "h = plt.hist2d(y_test, test_preds[:,0], (50, 50), cmap=plt.cm.jet)\n",
    "plt.colorbar(h[3])\n",
    "\n",
    "x = np.linspace(np.min(y_test),np.max(y_test),100)\n",
    "y = x\n",
    "plt.plot(x,y,'k--')\n",
    "plt.ylabel('Vr predicted')\n",
    "plt.xlabel('Vr real')"
   ]
  },
  {
   "cell_type": "code",
   "execution_count": 33,
   "metadata": {},
   "outputs": [],
   "source": [
    "from scipy.stats import gaussian_kde\n",
    "x = y_test\n",
    "y = test_preds[:,0]\n",
    "xy = np.vstack([y_test,test_preds[:,0]])\n",
    "z = gaussian_kde(xy)(xy)\n",
    "\n"
   ]
  },
  {
   "cell_type": "code",
   "execution_count": 34,
   "metadata": {},
   "outputs": [
    {
     "data": {
      "text/plain": [
       "<matplotlib.colorbar.Colorbar at 0x2b028e2267b8>"
      ]
     },
     "execution_count": 34,
     "metadata": {},
     "output_type": "execute_result"
    },
    {
     "data": {
      "image/png": "[encoded data removed]",
      "text/plain": [
       "<Figure size 320x320 with 2 Axes>"
      ]
     },
     "metadata": {
      "needs_background": "light"
     },
     "output_type": "display_data"
    }
   ],
   "source": [
    "# Sort the points by density, so that the densest points are plotted last\n",
    "idx = z.argsort()\n",
    "x = y_test\n",
    "y = test_preds[:,0]\n",
    "x, y, z = x[idx], y[idx], z[idx]\n",
    "fig, ax = plt.subplots()\n",
    "cax = ax.scatter(x, y, c=z, s=25, edgecolor='')\n",
    "fig.colorbar(cax)\n",
    "plt.errorbar(y_test, test_preds[:,0], yerr = test_preds[:,1], color = 'red',ls='none')"
   ]
  },
  {
   "cell_type": "markdown",
   "metadata": {},
   "source": [
    "# Going to try the two network technique to calculate the error"
   ]
  },
  {
   "cell_type": "code",
   "execution_count": 35,
   "metadata": {},
   "outputs": [],
   "source": [
    "from keras.layers import Input, Dense, Lambda, Concatenate\n",
    "from keras.models import Model\n",
    "from keras.utils import plot_model"
   ]
  },
  {
   "cell_type": "code",
   "execution_count": 36,
   "metadata": {},
   "outputs": [],
   "source": [
    "# del(inputs, MeanEst, MeanModel, ConfEst, ConfModel)\n",
    "inputs = Input(shape=(5,))\n",
    "MeanEst = (Dense(100, activation='relu'))(inputs)\n",
    "MeanEst = (Dense(100, activation='relu'))(MeanEst)\n",
    "MeanEst = (Dense(100, activation='relu'))(MeanEst)\n",
    "MeanEst = (Dense(1, activation='linear'))(MeanEst)\n",
    "MeanModel = Model(inputs, MeanEst)\n",
    "\n",
    "ConfEst= (Dense(100, activation='tanh'))(inputs)\n",
    "ConfEst= (Dense(100, activation='tanh'))(ConfEst)\n",
    "ConfEst= (Dense(100, activation='tanh'))(ConfEst)\n",
    "ConfEst= (Dense(1, activation='relu'))(ConfEst)\n",
    "ConfModel = Model(inputs, ConfEst)\n",
    "#this can't possibly give me a confidence output? the only thing that appears to define a confidence is the relu\n",
    "#on the last layer \n",
    "#CombinedSub = Concatenate(axis=-1)([MeanEst, ConfEst])\n",
    "CombinedSub = Concatenate(axis=-1)([MeanModel(inputs), ConfModel(inputs)])\n",
    "\n",
    "CombinedModel = Model(inputs, CombinedSub)\n",
    "#plot_model(CombinedModel,to_file='demo.png',show_shapes=True)"
   ]
  },
  {
   "cell_type": "code",
   "execution_count": 37,
   "metadata": {},
   "outputs": [
    {
     "name": "stdout",
     "output_type": "stream",
     "text": [
      "Model: \"model_3\"\n",
      "__________________________________________________________________________________________________\n",
      "Layer (type)                    Output Shape         Param #     Connected to                     \n",
      "==================================================================================================\n",
      "input_1 (InputLayer)            (None, 5)            0                                            \n",
      "__________________________________________________________________________________________________\n",
      "model_1 (Model)                 (None, 1)            20901       input_1[0][0]                    \n",
      "__________________________________________________________________________________________________\n",
      "model_2 (Model)                 (None, 1)            20901       input_1[0][0]                    \n",
      "__________________________________________________________________________________________________\n",
      "concatenate_1 (Concatenate)     (None, 2)            0           model_1[1][0]                    \n",
      "                                                                 model_2[1][0]                    \n",
      "==================================================================================================\n",
      "Total params: 41,802\n",
      "Trainable params: 41,802\n",
      "Non-trainable params: 0\n",
      "__________________________________________________________________________________________________\n"
     ]
    }
   ],
   "source": [
    "CombinedModel.summary()"
   ]
  },
  {
   "cell_type": "code",
   "execution_count": 38,
   "metadata": {},
   "outputs": [
    {
     "name": "stdout",
     "output_type": "stream",
     "text": [
      "Train on 319999 samples, validate on 80000 samples\n",
      "Epoch 1/100\n",
      "319999/319999 [==============================] - 3s 8us/step - loss: 2264.1834 - val_loss: 2108.5397\n",
      "Epoch 2/100\n",
      "319999/319999 [==============================] - 2s 7us/step - loss: 2085.3625 - val_loss: 2032.3814\n",
      "Epoch 3/100\n",
      "319999/319999 [==============================] - 2s 7us/step - loss: 2032.1121 - val_loss: 2009.3762\n",
      "Epoch 4/100\n",
      "319999/319999 [==============================] - 2s 7us/step - loss: 2006.2618 - val_loss: 1995.1698\n",
      "Epoch 5/100\n",
      "319999/319999 [==============================] - 2s 7us/step - loss: 1991.4654 - val_loss: 1986.6047\n",
      "Epoch 6/100\n",
      "319999/319999 [==============================] - 2s 7us/step - loss: 1979.6556 - val_loss: 1968.8311\n",
      "Epoch 7/100\n",
      "319999/319999 [==============================] - 2s 7us/step - loss: 1971.2338 - val_loss: 1961.9944\n",
      "Epoch 8/100\n",
      "319999/319999 [==============================] - 2s 7us/step - loss: 1962.3096 - val_loss: 1956.6020\n",
      "Epoch 9/100\n",
      "319999/319999 [==============================] - 2s 7us/step - loss: 1955.9556 - val_loss: 1950.0817\n",
      "Epoch 10/100\n",
      "319999/319999 [==============================] - 2s 7us/step - loss: 1950.4170 - val_loss: 1946.4105\n",
      "Epoch 11/100\n",
      "319999/319999 [==============================] - 2s 7us/step - loss: 1945.7882 - val_loss: 1940.3385\n",
      "Epoch 12/100\n",
      "319999/319999 [==============================] - 2s 7us/step - loss: 1941.1510 - val_loss: 1941.7335\n",
      "Epoch 13/100\n",
      "319999/319999 [==============================] - 2s 7us/step - loss: 1935.8548 - val_loss: 1937.1373\n",
      "Epoch 14/100\n",
      "319999/319999 [==============================] - 2s 7us/step - loss: 1931.9041 - val_loss: 1933.3213\n",
      "Epoch 15/100\n",
      "319999/319999 [==============================] - 2s 7us/step - loss: 1929.2585 - val_loss: 1933.2304\n",
      "Epoch 16/100\n",
      "319999/319999 [==============================] - 2s 7us/step - loss: 1926.1694 - val_loss: 1932.2385\n",
      "Epoch 17/100\n",
      "319999/319999 [==============================] - 2s 7us/step - loss: 1923.8926 - val_loss: 1926.1937\n",
      "Epoch 18/100\n",
      "319999/319999 [==============================] - 2s 7us/step - loss: 1920.9528 - val_loss: 1923.8952\n",
      "Epoch 19/100\n",
      "319999/319999 [==============================] - 2s 7us/step - loss: 1917.4385 - val_loss: 1919.8968\n",
      "Epoch 20/100\n",
      "319999/319999 [==============================] - 2s 7us/step - loss: 1915.1752 - val_loss: 1921.2107\n",
      "Epoch 21/100\n",
      "319999/319999 [==============================] - 2s 7us/step - loss: 1913.8725 - val_loss: 1922.8567\n",
      "Epoch 22/100\n",
      "319999/319999 [==============================] - 2s 7us/step - loss: 1912.1150 - val_loss: 1924.4898\n",
      "Epoch 23/100\n",
      "319999/319999 [==============================] - 2s 7us/step - loss: 1910.6397 - val_loss: 1920.2896\n",
      "Epoch 24/100\n",
      "319999/319999 [==============================] - 2s 7us/step - loss: 1910.1969 - val_loss: 1915.6342\n",
      "Epoch 25/100\n",
      "319999/319999 [==============================] - 2s 7us/step - loss: 1906.9734 - val_loss: 1917.8267\n",
      "Epoch 26/100\n",
      "319999/319999 [==============================] - 2s 7us/step - loss: 1905.4724 - val_loss: 1915.0971\n",
      "Epoch 27/100\n",
      "319999/319999 [==============================] - 2s 7us/step - loss: 1904.1635 - val_loss: 1918.3925\n",
      "Epoch 28/100\n",
      "319999/319999 [==============================] - 2s 7us/step - loss: 1903.3256 - val_loss: 1909.1378\n",
      "Epoch 29/100\n",
      "319999/319999 [==============================] - 2s 7us/step - loss: 1902.5528 - val_loss: 1912.1376\n",
      "Epoch 30/100\n",
      "319999/319999 [==============================] - 2s 7us/step - loss: 1900.9354 - val_loss: 1909.5317\n",
      "Epoch 31/100\n",
      "319999/319999 [==============================] - 2s 7us/step - loss: 1901.4230 - val_loss: 1926.0004\n",
      "Epoch 32/100\n",
      "319999/319999 [==============================] - 2s 7us/step - loss: 1900.7087 - val_loss: 1908.7690\n",
      "Epoch 33/100\n",
      "319999/319999 [==============================] - 2s 7us/step - loss: 1899.2358 - val_loss: 1911.9406\n",
      "Epoch 34/100\n",
      "319999/319999 [==============================] - 2s 7us/step - loss: 1897.4263 - val_loss: 1906.4232\n",
      "Epoch 35/100\n",
      "319999/319999 [==============================] - 2s 7us/step - loss: 1896.3544 - val_loss: 1907.3253\n",
      "Epoch 36/100\n",
      "319999/319999 [==============================] - 2s 7us/step - loss: 1894.9510 - val_loss: 1914.4559\n",
      "Epoch 37/100\n",
      "319999/319999 [==============================] - 2s 7us/step - loss: 1894.7780 - val_loss: 1912.1605\n",
      "Epoch 38/100\n",
      "319999/319999 [==============================] - 2s 7us/step - loss: 1895.3772 - val_loss: 1903.8359\n",
      "Epoch 39/100\n",
      "319999/319999 [==============================] - 2s 7us/step - loss: 1893.0619 - val_loss: 1907.3763\n",
      "Epoch 40/100\n",
      "319999/319999 [==============================] - 2s 7us/step - loss: 1891.6312 - val_loss: 1901.5940\n",
      "Epoch 41/100\n",
      "319999/319999 [==============================] - 2s 7us/step - loss: 1890.1823 - val_loss: 1912.5699\n",
      "Epoch 42/100\n",
      "319999/319999 [==============================] - 2s 7us/step - loss: 1891.1819 - val_loss: 1903.4643\n",
      "Epoch 43/100\n",
      "319999/319999 [==============================] - 2s 7us/step - loss: 1888.6252 - val_loss: 1911.2119\n",
      "Epoch 44/100\n",
      "319999/319999 [==============================] - 2s 7us/step - loss: 1889.6258 - val_loss: 1914.0898\n",
      "Epoch 45/100\n",
      "319999/319999 [==============================] - 2s 7us/step - loss: 1889.9395 - val_loss: 1906.6118\n",
      "Epoch 46/100\n",
      "319999/319999 [==============================] - 2s 7us/step - loss: 1887.3963 - val_loss: 1905.7109\n",
      "Epoch 47/100\n",
      "319999/319999 [==============================] - 2s 7us/step - loss: 1886.7523 - val_loss: 1909.7418\n",
      "Epoch 48/100\n",
      "319999/319999 [==============================] - 2s 7us/step - loss: 1886.2279 - val_loss: 1902.8194\n",
      "Epoch 49/100\n",
      "319999/319999 [==============================] - 2s 7us/step - loss: 1886.1326 - val_loss: 1908.7027\n",
      "Epoch 50/100\n",
      "319999/319999 [==============================] - 2s 7us/step - loss: 1885.4960 - val_loss: 1896.0976\n",
      "Epoch 51/100\n",
      "319999/319999 [==============================] - 2s 7us/step - loss: 1884.2900 - val_loss: 1898.0033\n",
      "Epoch 52/100\n",
      "319999/319999 [==============================] - 2s 7us/step - loss: 1885.4621 - val_loss: 1901.2477\n",
      "Epoch 53/100\n",
      "319999/319999 [==============================] - 2s 7us/step - loss: 1884.4165 - val_loss: 1900.3074\n",
      "Epoch 54/100\n",
      "319999/319999 [==============================] - 2s 7us/step - loss: 1882.0579 - val_loss: 1900.7685\n",
      "Epoch 55/100\n",
      "319999/319999 [==============================] - 2s 7us/step - loss: 1883.6592 - val_loss: 1898.3516\n",
      "Epoch 56/100\n",
      "319999/319999 [==============================] - 2s 7us/step - loss: 1882.2286 - val_loss: 1903.1612\n",
      "Epoch 57/100\n",
      "319999/319999 [==============================] - 2s 7us/step - loss: 1881.2022 - val_loss: 1904.6665\n",
      "Epoch 58/100\n",
      "319999/319999 [==============================] - 2s 7us/step - loss: 1880.6403 - val_loss: 1902.1377\n",
      "Epoch 59/100\n",
      "319999/319999 [==============================] - 2s 7us/step - loss: 1880.2902 - val_loss: 1899.0307\n",
      "Epoch 60/100\n",
      "319999/319999 [==============================] - 2s 7us/step - loss: 1879.8468 - val_loss: 1913.2671\n",
      "Epoch 61/100\n",
      "319999/319999 [==============================] - 2s 7us/step - loss: 1880.0556 - val_loss: 1902.0452\n",
      "Epoch 62/100\n",
      "319999/319999 [==============================] - 2s 7us/step - loss: 1877.3690 - val_loss: 1915.6797\n",
      "Epoch 63/100\n",
      "319999/319999 [==============================] - 2s 7us/step - loss: 1878.5766 - val_loss: 1897.8348\n",
      "Epoch 64/100\n",
      "319999/319999 [==============================] - 2s 7us/step - loss: 1877.5273 - val_loss: 1902.6339\n",
      "Epoch 65/100\n",
      "319999/319999 [==============================] - 2s 7us/step - loss: 1877.1730 - val_loss: 1901.7204\n",
      "Epoch 66/100\n",
      "319999/319999 [==============================] - 2s 7us/step - loss: 1878.0406 - val_loss: 1894.6869\n",
      "Epoch 67/100\n",
      "319999/319999 [==============================] - 2s 7us/step - loss: 1875.0659 - val_loss: 1899.9271\n",
      "Epoch 68/100\n",
      "319999/319999 [==============================] - 2s 7us/step - loss: 1875.2293 - val_loss: 1893.3159\n",
      "Epoch 69/100\n",
      "319999/319999 [==============================] - 2s 7us/step - loss: 1873.9512 - val_loss: 1896.4062\n",
      "Epoch 70/100\n",
      "319999/319999 [==============================] - 2s 7us/step - loss: 1876.1029 - val_loss: 1897.2671\n",
      "Epoch 71/100\n",
      "319999/319999 [==============================] - 2s 7us/step - loss: 1873.7845 - val_loss: 1896.9729\n",
      "Epoch 72/100\n",
      "319999/319999 [==============================] - 2s 7us/step - loss: 1874.7733 - val_loss: 1899.9711\n",
      "Epoch 73/100\n",
      "319999/319999 [==============================] - 2s 7us/step - loss: 1873.0640 - val_loss: 1898.2708\n",
      "Epoch 74/100\n",
      "319999/319999 [==============================] - 2s 7us/step - loss: 1873.2899 - val_loss: 1895.5436\n",
      "Epoch 75/100\n",
      "319999/319999 [==============================] - 2s 7us/step - loss: 1873.8462 - val_loss: 1898.1367\n",
      "Epoch 76/100\n",
      "319999/319999 [==============================] - 2s 7us/step - loss: 1873.3124 - val_loss: 1893.2595\n",
      "Epoch 77/100\n",
      "319999/319999 [==============================] - 2s 7us/step - loss: 1872.6632 - val_loss: 1899.8825\n",
      "Epoch 78/100\n",
      "319999/319999 [==============================] - 2s 7us/step - loss: 1871.7978 - val_loss: 1894.6474\n",
      "Epoch 79/100\n",
      "319999/319999 [==============================] - 2s 7us/step - loss: 1870.6772 - val_loss: 1898.2935\n",
      "Epoch 80/100\n",
      "319999/319999 [==============================] - 2s 7us/step - loss: 1871.6927 - val_loss: 1903.9423\n",
      "Epoch 81/100\n",
      "319999/319999 [==============================] - 2s 7us/step - loss: 1870.9723 - val_loss: 1902.1982\n",
      "Epoch 82/100\n",
      "319999/319999 [==============================] - 2s 7us/step - loss: 1869.9892 - val_loss: 1905.5061\n",
      "Epoch 83/100\n",
      "319999/319999 [==============================] - 2s 7us/step - loss: 1868.8529 - val_loss: 1898.6404\n",
      "Epoch 84/100\n",
      "319999/319999 [==============================] - 2s 7us/step - loss: 1869.0401 - val_loss: 1895.7271\n",
      "Epoch 85/100\n",
      "319999/319999 [==============================] - 2s 7us/step - loss: 1868.3302 - val_loss: 1897.1260\n",
      "Epoch 86/100\n",
      "319999/319999 [==============================] - 2s 7us/step - loss: 1869.0750 - val_loss: 1892.8971\n",
      "Epoch 87/100\n",
      "319999/319999 [==============================] - 2s 7us/step - loss: 1868.0008 - val_loss: 1895.4759\n",
      "Epoch 88/100\n",
      "319999/319999 [==============================] - 2s 7us/step - loss: 1868.3158 - val_loss: 1897.8171\n",
      "Epoch 89/100\n",
      "319999/319999 [==============================] - 2s 7us/step - loss: 1867.6527 - val_loss: 1895.5079\n",
      "Epoch 90/100\n",
      "319999/319999 [==============================] - 2s 7us/step - loss: 1869.4235 - val_loss: 1897.2690\n",
      "Epoch 91/100\n",
      "319999/319999 [==============================] - 2s 7us/step - loss: 1865.6131 - val_loss: 1900.7044\n",
      "Epoch 92/100\n",
      "319999/319999 [==============================] - 2s 7us/step - loss: 1865.6589 - val_loss: 1892.4195\n",
      "Epoch 93/100\n",
      "319999/319999 [==============================] - 2s 7us/step - loss: 1866.4645 - val_loss: 1898.9613\n",
      "Epoch 94/100\n",
      "319999/319999 [==============================] - 2s 7us/step - loss: 1866.1394 - val_loss: 1899.0530\n",
      "Epoch 95/100\n",
      "319999/319999 [==============================] - 2s 7us/step - loss: 1865.4572 - val_loss: 1899.7473\n",
      "Epoch 96/100\n",
      "319999/319999 [==============================] - 2s 7us/step - loss: 1865.9300 - val_loss: 1906.0958\n",
      "Epoch 97/100\n",
      "319999/319999 [==============================] - 2s 7us/step - loss: 1865.2064 - val_loss: 1897.6130\n",
      "Epoch 98/100\n",
      "319999/319999 [==============================] - 2s 7us/step - loss: 1865.2676 - val_loss: 1900.2066\n",
      "Epoch 99/100\n",
      "319999/319999 [==============================] - 2s 7us/step - loss: 1864.5131 - val_loss: 1892.1522\n",
      "Epoch 100/100\n",
      "319999/319999 [==============================] - 2s 7us/step - loss: 1864.0991 - val_loss: 1899.9570\n"
     ]
    },
    {
     "data": {
      "text/plain": [
       "<keras.callbacks.callbacks.History at 0x2b028e418f98>"
      ]
     },
     "execution_count": 38,
     "metadata": {},
     "output_type": "execute_result"
    }
   ],
   "source": [
    "ConfModel.trainable = False\n",
    "MeanModel.trainable = True\n",
    "CombinedModel.compile(loss=ConstantLikelihoodLossFunction,\n",
    "                      optimizer='adam'\n",
    "                     )\n",
    "#why does the loss only return not nan when I use this ...I'm guessing it has to do with the log...\n",
    "CombinedModel.fit(X_train,y_train,\n",
    "                  epochs=100,\n",
    "                  batch_size=1000,\n",
    "                  validation_split=0.2\n",
    "                 )"
   ]
  },
  {
   "cell_type": "code",
   "execution_count": 39,
   "metadata": {},
   "outputs": [
    {
     "name": "stdout",
     "output_type": "stream",
     "text": [
      "Train on 359999 samples, validate on 40000 samples\n",
      "Epoch 1/100\n",
      "359999/359999 [==============================] - 2s 7us/step - loss: 1868.0735 - val_loss: 1874.7043\n",
      "Epoch 2/100\n",
      "359999/359999 [==============================] - 2s 6us/step - loss: 1868.0735 - val_loss: 1874.7043\n",
      "Epoch 3/100\n",
      "359999/359999 [==============================] - 2s 6us/step - loss: 1868.0733 - val_loss: 1874.7043\n",
      "Epoch 4/100\n",
      "359999/359999 [==============================] - 2s 6us/step - loss: 1868.0735 - val_loss: 1874.7043\n",
      "Epoch 5/100\n",
      "359999/359999 [==============================] - 2s 6us/step - loss: 1868.0734 - val_loss: 1874.7043\n",
      "Epoch 6/100\n",
      "359999/359999 [==============================] - 2s 6us/step - loss: 1868.0734 - val_loss: 1874.7043\n",
      "Epoch 7/100\n",
      "359999/359999 [==============================] - 2s 6us/step - loss: 1868.0734 - val_loss: 1874.7043\n",
      "Epoch 8/100\n",
      "359999/359999 [==============================] - 2s 6us/step - loss: 1868.0735 - val_loss: 1874.7043\n",
      "Epoch 9/100\n",
      "359999/359999 [==============================] - 2s 6us/step - loss: 1868.0736 - val_loss: 1874.7043\n",
      "Epoch 10/100\n",
      "359999/359999 [==============================] - 2s 6us/step - loss: 1868.0734 - val_loss: 1874.7043\n",
      "Epoch 11/100\n",
      "359999/359999 [==============================] - 2s 6us/step - loss: 1868.0735 - val_loss: 1874.7043\n",
      "Epoch 12/100\n",
      "359999/359999 [==============================] - 2s 6us/step - loss: 1868.0734 - val_loss: 1874.7043\n",
      "Epoch 13/100\n",
      "359999/359999 [==============================] - 2s 7us/step - loss: 1868.0735 - val_loss: 1874.7043\n",
      "Epoch 14/100\n",
      "359999/359999 [==============================] - 2s 6us/step - loss: 1868.0733 - val_loss: 1874.7043\n",
      "Epoch 15/100\n",
      "359999/359999 [==============================] - 2s 6us/step - loss: 1868.0733 - val_loss: 1874.7043\n",
      "Epoch 16/100\n",
      "359999/359999 [==============================] - 2s 6us/step - loss: 1868.0736 - val_loss: 1874.7043\n",
      "Epoch 17/100\n",
      "359999/359999 [==============================] - 2s 6us/step - loss: 1868.0735 - val_loss: 1874.7043\n",
      "Epoch 18/100\n",
      "359999/359999 [==============================] - 2s 6us/step - loss: 1868.0736 - val_loss: 1874.7043\n",
      "Epoch 19/100\n",
      "359999/359999 [==============================] - 2s 6us/step - loss: 1868.0733 - val_loss: 1874.7043\n",
      "Epoch 20/100\n",
      "359999/359999 [==============================] - 2s 6us/step - loss: 1868.0734 - val_loss: 1874.7043\n",
      "Epoch 21/100\n",
      "359999/359999 [==============================] - 2s 6us/step - loss: 1868.0734 - val_loss: 1874.7043\n",
      "Epoch 22/100\n",
      "359999/359999 [==============================] - 2s 6us/step - loss: 1868.0736 - val_loss: 1874.7043\n",
      "Epoch 23/100\n",
      "359999/359999 [==============================] - 2s 6us/step - loss: 1868.0736 - val_loss: 1874.7043\n",
      "Epoch 24/100\n",
      "359999/359999 [==============================] - 2s 6us/step - loss: 1868.0736 - val_loss: 1874.7043\n",
      "Epoch 25/100\n",
      "359999/359999 [==============================] - 2s 6us/step - loss: 1868.0735 - val_loss: 1874.7043\n",
      "Epoch 26/100\n",
      "359999/359999 [==============================] - 2s 6us/step - loss: 1868.0735 - val_loss: 1874.7043\n",
      "Epoch 27/100\n",
      "359999/359999 [==============================] - 2s 6us/step - loss: 1868.0736 - val_loss: 1874.7043\n",
      "Epoch 28/100\n",
      "359999/359999 [==============================] - 2s 6us/step - loss: 1868.0736 - val_loss: 1874.7043\n",
      "Epoch 29/100\n",
      "359999/359999 [==============================] - 2s 6us/step - loss: 1868.0735 - val_loss: 1874.7043\n",
      "Epoch 30/100\n",
      "359999/359999 [==============================] - 2s 6us/step - loss: 1868.0734 - val_loss: 1874.7043\n",
      "Epoch 31/100\n",
      "359999/359999 [==============================] - 2s 6us/step - loss: 1868.0736 - val_loss: 1874.7043\n",
      "Epoch 32/100\n",
      "359999/359999 [==============================] - 2s 6us/step - loss: 1868.0735 - val_loss: 1874.7043\n",
      "Epoch 33/100\n",
      "359999/359999 [==============================] - 2s 6us/step - loss: 1868.0735 - val_loss: 1874.7043\n",
      "Epoch 34/100\n",
      "359999/359999 [==============================] - 2s 6us/step - loss: 1868.0733 - val_loss: 1874.7043\n",
      "Epoch 35/100\n",
      "359999/359999 [==============================] - 2s 6us/step - loss: 1868.0736 - val_loss: 1874.7043\n",
      "Epoch 36/100\n",
      "359999/359999 [==============================] - 2s 6us/step - loss: 1868.0735 - val_loss: 1874.7043\n",
      "Epoch 37/100\n",
      "359999/359999 [==============================] - 2s 6us/step - loss: 1868.0735 - val_loss: 1874.7043\n",
      "Epoch 38/100\n",
      "359999/359999 [==============================] - 2s 6us/step - loss: 1868.0734 - val_loss: 1874.7043\n",
      "Epoch 39/100\n",
      "359999/359999 [==============================] - 2s 6us/step - loss: 1868.0735 - val_loss: 1874.7043\n",
      "Epoch 40/100\n",
      "359999/359999 [==============================] - 2s 6us/step - loss: 1868.0735 - val_loss: 1874.7043\n",
      "Epoch 41/100\n",
      "359999/359999 [==============================] - 2s 6us/step - loss: 1868.0735 - val_loss: 1874.7043\n",
      "Epoch 42/100\n",
      "359999/359999 [==============================] - 2s 6us/step - loss: 1868.0735 - val_loss: 1874.7043\n",
      "Epoch 43/100\n",
      "359999/359999 [==============================] - 2s 6us/step - loss: 1868.0734 - val_loss: 1874.7043\n",
      "Epoch 44/100\n",
      "359999/359999 [==============================] - 2s 6us/step - loss: 1868.0736 - val_loss: 1874.7043\n",
      "Epoch 45/100\n",
      "359999/359999 [==============================] - 2s 6us/step - loss: 1868.0734 - val_loss: 1874.7043\n",
      "Epoch 46/100\n",
      "359999/359999 [==============================] - 2s 6us/step - loss: 1868.0736 - val_loss: 1874.7043\n",
      "Epoch 47/100\n",
      "359999/359999 [==============================] - 2s 6us/step - loss: 1868.0733 - val_loss: 1874.7043\n",
      "Epoch 48/100\n",
      "359999/359999 [==============================] - 2s 6us/step - loss: 1868.0734 - val_loss: 1874.7043\n",
      "Epoch 49/100\n",
      "359999/359999 [==============================] - 2s 6us/step - loss: 1868.0734 - val_loss: 1874.7043\n",
      "Epoch 50/100\n",
      "359999/359999 [==============================] - 2s 6us/step - loss: 1868.0734 - val_loss: 1874.7043\n",
      "Epoch 51/100\n",
      "359999/359999 [==============================] - 2s 6us/step - loss: 1868.0735 - val_loss: 1874.7043\n",
      "Epoch 52/100\n",
      "359999/359999 [==============================] - 2s 6us/step - loss: 1868.0734 - val_loss: 1874.7043\n",
      "Epoch 53/100\n",
      "359999/359999 [==============================] - 2s 6us/step - loss: 1868.0735 - val_loss: 1874.7043\n",
      "Epoch 54/100\n",
      "359999/359999 [==============================] - 2s 6us/step - loss: 1868.0735 - val_loss: 1874.7043\n",
      "Epoch 55/100\n",
      "359999/359999 [==============================] - 2s 6us/step - loss: 1868.0736 - val_loss: 1874.7043\n",
      "Epoch 56/100\n",
      "359999/359999 [==============================] - 2s 6us/step - loss: 1868.0735 - val_loss: 1874.7043\n",
      "Epoch 57/100\n",
      "359999/359999 [==============================] - 2s 6us/step - loss: 1868.0735 - val_loss: 1874.7043\n",
      "Epoch 58/100\n",
      "359999/359999 [==============================] - 2s 6us/step - loss: 1868.0734 - val_loss: 1874.7043\n",
      "Epoch 59/100\n",
      "359999/359999 [==============================] - 2s 6us/step - loss: 1868.0737 - val_loss: 1874.7043\n",
      "Epoch 60/100\n",
      "359999/359999 [==============================] - 2s 6us/step - loss: 1868.0735 - val_loss: 1874.7043\n",
      "Epoch 61/100\n",
      "359999/359999 [==============================] - 2s 6us/step - loss: 1868.0734 - val_loss: 1874.7043\n",
      "Epoch 62/100\n",
      "359999/359999 [==============================] - 2s 6us/step - loss: 1868.0735 - val_loss: 1874.7043\n",
      "Epoch 63/100\n",
      "359999/359999 [==============================] - 2s 6us/step - loss: 1868.0735 - val_loss: 1874.7043\n",
      "Epoch 64/100\n",
      "359999/359999 [==============================] - 2s 6us/step - loss: 1868.0735 - val_loss: 1874.7043\n",
      "Epoch 65/100\n",
      "359999/359999 [==============================] - 2s 6us/step - loss: 1868.0735 - val_loss: 1874.7043\n",
      "Epoch 66/100\n",
      "359999/359999 [==============================] - 2s 7us/step - loss: 1868.0736 - val_loss: 1874.7043\n",
      "Epoch 67/100\n",
      "359999/359999 [==============================] - 2s 6us/step - loss: 1868.0735 - val_loss: 1874.7043\n",
      "Epoch 68/100\n",
      "359999/359999 [==============================] - 2s 6us/step - loss: 1868.0735 - val_loss: 1874.7043\n",
      "Epoch 69/100\n",
      "359999/359999 [==============================] - 2s 6us/step - loss: 1868.0736 - val_loss: 1874.7043\n",
      "Epoch 70/100\n",
      "359999/359999 [==============================] - 2s 6us/step - loss: 1868.0734 - val_loss: 1874.7043\n",
      "Epoch 71/100\n",
      "359999/359999 [==============================] - 2s 6us/step - loss: 1868.0737 - val_loss: 1874.7043\n",
      "Epoch 72/100\n",
      "359999/359999 [==============================] - 2s 6us/step - loss: 1868.0734 - val_loss: 1874.7043\n",
      "Epoch 73/100\n",
      "359999/359999 [==============================] - 2s 6us/step - loss: 1868.0737 - val_loss: 1874.7043\n",
      "Epoch 74/100\n",
      "359999/359999 [==============================] - 2s 6us/step - loss: 1868.0732 - val_loss: 1874.7043\n",
      "Epoch 75/100\n",
      "359999/359999 [==============================] - 2s 6us/step - loss: 1868.0735 - val_loss: 1874.7043\n",
      "Epoch 76/100\n",
      "359999/359999 [==============================] - 2s 6us/step - loss: 1868.0736 - val_loss: 1874.7043\n",
      "Epoch 77/100\n",
      "359999/359999 [==============================] - 2s 6us/step - loss: 1868.0735 - val_loss: 1874.7043\n",
      "Epoch 78/100\n",
      "359999/359999 [==============================] - 2s 6us/step - loss: 1868.0734 - val_loss: 1874.7043\n",
      "Epoch 79/100\n",
      "359999/359999 [==============================] - 2s 6us/step - loss: 1868.0734 - val_loss: 1874.7043\n",
      "Epoch 80/100\n",
      "359999/359999 [==============================] - 2s 6us/step - loss: 1868.0735 - val_loss: 1874.7043\n",
      "Epoch 81/100\n",
      "359999/359999 [==============================] - 2s 6us/step - loss: 1868.0734 - val_loss: 1874.7043\n",
      "Epoch 82/100\n",
      "359999/359999 [==============================] - 2s 6us/step - loss: 1868.0736 - val_loss: 1874.7043\n",
      "Epoch 83/100\n",
      "359999/359999 [==============================] - 2s 6us/step - loss: 1868.0735 - val_loss: 1874.7043\n",
      "Epoch 84/100\n",
      "359999/359999 [==============================] - 2s 6us/step - loss: 1868.0735 - val_loss: 1874.7043\n",
      "Epoch 85/100\n",
      "359999/359999 [==============================] - 2s 6us/step - loss: 1868.0735 - val_loss: 1874.7043\n",
      "Epoch 86/100\n",
      "359999/359999 [==============================] - 2s 6us/step - loss: 1868.0734 - val_loss: 1874.7043\n",
      "Epoch 87/100\n",
      "359999/359999 [==============================] - 2s 6us/step - loss: 1868.0733 - val_loss: 1874.7043\n",
      "Epoch 88/100\n",
      "359999/359999 [==============================] - 2s 6us/step - loss: 1868.0735 - val_loss: 1874.7043\n",
      "Epoch 89/100\n",
      "359999/359999 [==============================] - 2s 6us/step - loss: 1868.0735 - val_loss: 1874.7043\n",
      "Epoch 90/100\n",
      "359999/359999 [==============================] - 2s 6us/step - loss: 1868.0735 - val_loss: 1874.7043\n",
      "Epoch 91/100\n",
      "359999/359999 [==============================] - 2s 6us/step - loss: 1868.0736 - val_loss: 1874.7043\n",
      "Epoch 92/100\n",
      "359999/359999 [==============================] - 2s 6us/step - loss: 1868.0734 - val_loss: 1874.7043\n",
      "Epoch 93/100\n",
      "359999/359999 [==============================] - 2s 6us/step - loss: 1868.0734 - val_loss: 1874.7043\n",
      "Epoch 94/100\n",
      "359999/359999 [==============================] - 2s 6us/step - loss: 1868.0734 - val_loss: 1874.7043\n",
      "Epoch 95/100\n",
      "359999/359999 [==============================] - 2s 6us/step - loss: 1868.0736 - val_loss: 1874.7043\n",
      "Epoch 96/100\n",
      "359999/359999 [==============================] - 2s 6us/step - loss: 1868.0735 - val_loss: 1874.7043\n",
      "Epoch 97/100\n",
      "359999/359999 [==============================] - 2s 6us/step - loss: 1868.0735 - val_loss: 1874.7043\n",
      "Epoch 98/100\n",
      "359999/359999 [==============================] - 2s 6us/step - loss: 1868.0734 - val_loss: 1874.7043\n",
      "Epoch 99/100\n",
      "359999/359999 [==============================] - 2s 6us/step - loss: 1868.0734 - val_loss: 1874.7043\n",
      "Epoch 100/100\n",
      "359999/359999 [==============================] - 2s 6us/step - loss: 1868.0735 - val_loss: 1874.7043\n"
     ]
    },
    {
     "data": {
      "text/plain": [
       "<keras.callbacks.callbacks.History at 0x2b028e5f4ef0>"
      ]
     },
     "execution_count": 39,
     "metadata": {},
     "output_type": "execute_result"
    }
   ],
   "source": [
    "ConfModel.trainable = True\n",
    "MeanModel.trainable = False\n",
    "CombinedModel.compile(loss=ConstantLikelihoodLossFunction,\n",
    "                      optimizer='adam'\n",
    "                     )\n",
    "\n",
    "CombinedModel.fit(X_train,y_train,\n",
    "                  epochs=100,\n",
    "                  batch_size=1000,\n",
    "                  validation_split=0.1\n",
    "                 )"
   ]
  },
  {
   "cell_type": "code",
   "execution_count": 40,
   "metadata": {},
   "outputs": [
    {
     "data": {
      "image/png": "[encoded data removed]",
      "text/plain": [
       "<Figure size 320x320 with 1 Axes>"
      ]
     },
     "metadata": {
      "needs_background": "light"
     },
     "output_type": "display_data"
    }
   ],
   "source": [
    "test_preds_2 = CombinedModel.predict(X_test)\n",
    "plt.figure()\n",
    "plt.hist(test_preds_2[:,0], bins=50, range=(-200,200), histtype='step')\n",
    "plt.hist(y_test, bins=50, range=(-200,200), histtype='step')\n",
    "plt.xlabel('Vr')\n",
    "plt.ylabel('Stars')\n",
    "plt.title('Test set - simulated data')\n",
    "plt.yscale('log')\n",
    "plt.show()"
   ]
  },
  {
   "cell_type": "code",
   "execution_count": 46,
   "metadata": {},
   "outputs": [
    {
     "name": "stdout",
     "output_type": "stream",
     "text": [
      "[0.         0.1325591  0.         0.13689569 0.         0.\n",
      " 0.         0.09144155 0.14344382 0.51231444 0.16870211 0.14687626\n",
      " 0.         0.33089995 0.2927867  0.27145863 0.         0.1925339\n",
      " 0.00307585 0.4492386  0.16289438 0.41258472 0.         0.14422227\n",
      " 0.08251977 0.         0.1992245  0.20870957 0.16757879 0.14196172\n",
      " 0.10594644 0.19468322 0.         0.         0.20036802 0.48844728\n",
      " 0.18986286 0.05227027 0.         0.         0.18833381 0.\n",
      " 0.         0.         0.05473583 0.         0.45338646 0.\n",
      " 0.        ]\n"
     ]
    },
    {
     "data": {
      "text/plain": [
       "Text(0, 0.5, 'Error on Vr predicted')"
      ]
     },
     "execution_count": 46,
     "metadata": {},
     "output_type": "execute_result"
    },
    {
     "data": {
      "image/png": "[encoded data removed]",
      "text/plain": [
       "<Figure size 320x320 with 1 Axes>"
      ]
     },
     "metadata": {
      "needs_background": "light"
     },
     "output_type": "display_data"
    }
   ],
   "source": [
    "print(test_preds_2[1:50,1])\n",
    "plt.scatter(X_test[1:100,2], test_preds_2[1:100,1], color = 'red')\n",
    "#plt.errorbar(X_test[1:50,2], test_preds_2[1:50,0], yerr = test_preds_2[1:50,1], color = 'red',ls='none')\n",
    "plt.xlabel('Distance')\n",
    "plt.ylabel('Error on Vr predicted')\n",
    "#does give a relu output...but I'm still not sure if this is exactly showing the error"
   ]
  },
  {
   "cell_type": "code",
   "execution_count": 47,
   "metadata": {},
   "outputs": [
    {
     "data": {
      "text/plain": [
       "Text(0.5, 0, 'Vr real')"
      ]
     },
     "execution_count": 47,
     "metadata": {},
     "output_type": "execute_result"
    },
    {
     "data": {
      "image/png": "[encoded data removed]",
      "text/plain": [
       "<Figure size 320x320 with 1 Axes>"
      ]
     },
     "metadata": {
      "needs_background": "light"
     },
     "output_type": "display_data"
    }
   ],
   "source": [
    "plt.errorbar(y_test, test_preds_2[:,0], yerr = test_preds_2[:,1], color = 'red',ls='none')\n",
    "plt.scatter(y_test, test_preds_2[:,0])\n",
    "plt.ylabel('Vr predicted')\n",
    "plt.xlabel('Vr real')"
   ]
  },
  {
   "cell_type": "code",
   "execution_count": null,
   "metadata": {},
   "outputs": [],
   "source": []
  }
 ],
 "metadata": {
  "kernelspec": {
   "display_name": "venv_ML",
   "language": "python",
   "name": "venv_ml"
  },
  "language_info": {
   "codemirror_mode": {
    "name": "ipython",
    "version": 3
   },
   "file_extension": ".py",
   "mimetype": "text/x-python",
   "name": "python",
   "nbconvert_exporter": "python",
   "pygments_lexer": "ipython3",
   "version": "3.6.10"
  }
 },
 "nbformat": 4,
 "nbformat_minor": 4
}
