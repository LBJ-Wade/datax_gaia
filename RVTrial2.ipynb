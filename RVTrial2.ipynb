{
 "cells": [
  {
   "cell_type": "markdown",
   "metadata": {},
   "source": [
    "# ML to find radial velocities using FIRE data"
   ]
  },
  {
   "cell_type": "code",
   "execution_count": 1,
   "metadata": {},
   "outputs": [],
   "source": [
    "%matplotlib inline\n",
    "\n",
    "import matplotlib\n",
    "import matplotlib.colors as colors\n",
    "\n",
    "import pandas as pd\n",
    "import numpy as np\n",
    "import matplotlib.pyplot as plt\n",
    "import os.path\n",
    "import sys\n",
    "import gzip\n",
    "import matplotlib.gridspec as gridspec\n",
    "\n",
    "matplotlib.rcParams.update({'font.family':'cmr10','font.size': 13})\n",
    "matplotlib.rcParams['axes.unicode_minus']=False\n",
    "matplotlib.rcParams['axes.labelsize']=15\n",
    "plt.rcParams['figure.figsize']=(4,4)\n",
    "plt.rcParams['figure.dpi'] = 80\n",
    "plt.rcParams['mathtext.fontset'] = 'cm'\n",
    "plt.rcParams['mathtext.rm'] = 'serif'\n",
    "plt.rcParams['xtick.direction'] = 'in'\n",
    "plt.rcParams['ytick.direction'] = 'in'\n",
    "plt.rcParams['xtick.top'] = True\n",
    "plt.rcParams['ytick.right'] = True"
   ]
  },
  {
   "cell_type": "code",
   "execution_count": 2,
   "metadata": {},
   "outputs": [],
   "source": [
    "data = np.load('StarsWithRadialVelocity.npy')"
   ]
  },
  {
   "cell_type": "code",
   "execution_count": 3,
   "metadata": {},
   "outputs": [],
   "source": [
    "data_cols = ['l', 'b','ra', 'dec', 'pmra', 'pmdec', 'parallax', 'radial_velocity',\n",
    "             'phot_g_mean_mag', 'phot_bp_mean_mag', 'phot_rp_mean_mag',\n",
    "             'pmra_error', 'pmdec_error', 'parallax_error', 'radial_velocity_error',\n",
    "             'phot_g_mean_mag_error', 'phot_bp_mean_mag_error', 'phot_rp_mean_mag_error',\n",
    "             'AccretedLabel'\n",
    "            ]\n",
    "#could train on radial_velocity_error"
   ]
  },
  {
   "cell_type": "code",
   "execution_count": 4,
   "metadata": {},
   "outputs": [],
   "source": [
    "data = pd.DataFrame(data, columns=data_cols)"
   ]
  },
  {
   "cell_type": "code",
   "execution_count": 5,
   "metadata": {},
   "outputs": [
    {
     "data": {
      "text/plain": [
       "(11400846, 19)"
      ]
     },
     "execution_count": 5,
     "metadata": {},
     "output_type": "execute_result"
    }
   ],
   "source": [
    "data.shape"
   ]
  },
  {
   "cell_type": "code",
   "execution_count": 6,
   "metadata": {},
   "outputs": [
    {
     "data": {
      "text/html": [
       "<div>\n",
       "<style scoped>\n",
       "    .dataframe tbody tr th:only-of-type {\n",
       "        vertical-align: middle;\n",
       "    }\n",
       "\n",
       "    .dataframe tbody tr th {\n",
       "        vertical-align: top;\n",
       "    }\n",
       "\n",
       "    .dataframe thead th {\n",
       "        text-align: right;\n",
       "    }\n",
       "</style>\n",
       "<table border=\"1\" class=\"dataframe\">\n",
       "  <thead>\n",
       "    <tr style=\"text-align: right;\">\n",
       "      <th></th>\n",
       "      <th>l</th>\n",
       "      <th>b</th>\n",
       "      <th>ra</th>\n",
       "      <th>dec</th>\n",
       "      <th>pmra</th>\n",
       "      <th>pmdec</th>\n",
       "      <th>parallax</th>\n",
       "      <th>radial_velocity</th>\n",
       "      <th>phot_g_mean_mag</th>\n",
       "      <th>phot_bp_mean_mag</th>\n",
       "      <th>phot_rp_mean_mag</th>\n",
       "      <th>pmra_error</th>\n",
       "      <th>pmdec_error</th>\n",
       "      <th>parallax_error</th>\n",
       "      <th>radial_velocity_error</th>\n",
       "      <th>phot_g_mean_mag_error</th>\n",
       "      <th>phot_bp_mean_mag_error</th>\n",
       "      <th>phot_rp_mean_mag_error</th>\n",
       "      <th>AccretedLabel</th>\n",
       "    </tr>\n",
       "  </thead>\n",
       "  <tbody>\n",
       "    <tr>\n",
       "      <th>0</th>\n",
       "      <td>18.947771</td>\n",
       "      <td>17.087326</td>\n",
       "      <td>261.281075</td>\n",
       "      <td>-4.105546</td>\n",
       "      <td>0.304014</td>\n",
       "      <td>-2.012651</td>\n",
       "      <td>0.443537</td>\n",
       "      <td>44.472788</td>\n",
       "      <td>14.384683</td>\n",
       "      <td>14.678857</td>\n",
       "      <td>13.931516</td>\n",
       "      <td>0.091557</td>\n",
       "      <td>0.091557</td>\n",
       "      <td>0.044116</td>\n",
       "      <td>9.908263</td>\n",
       "      <td>0.000611</td>\n",
       "      <td>0.003929</td>\n",
       "      <td>0.003929</td>\n",
       "      <td>0.0</td>\n",
       "    </tr>\n",
       "    <tr>\n",
       "      <th>1</th>\n",
       "      <td>-4.978819</td>\n",
       "      <td>-41.542610</td>\n",
       "      <td>315.656827</td>\n",
       "      <td>-45.372252</td>\n",
       "      <td>15.768343</td>\n",
       "      <td>-16.975898</td>\n",
       "      <td>1.369992</td>\n",
       "      <td>-120.045033</td>\n",
       "      <td>12.405884</td>\n",
       "      <td>12.633657</td>\n",
       "      <td>12.030871</td>\n",
       "      <td>0.087001</td>\n",
       "      <td>0.087001</td>\n",
       "      <td>0.042780</td>\n",
       "      <td>2.036502</td>\n",
       "      <td>0.000342</td>\n",
       "      <td>0.002105</td>\n",
       "      <td>0.002105</td>\n",
       "      <td>0.0</td>\n",
       "    </tr>\n",
       "    <tr>\n",
       "      <th>2</th>\n",
       "      <td>-137.539419</td>\n",
       "      <td>-47.311996</td>\n",
       "      <td>60.814237</td>\n",
       "      <td>-25.789371</td>\n",
       "      <td>5.542696</td>\n",
       "      <td>9.388474</td>\n",
       "      <td>0.597262</td>\n",
       "      <td>83.063864</td>\n",
       "      <td>14.347357</td>\n",
       "      <td>14.619976</td>\n",
       "      <td>13.923520</td>\n",
       "      <td>0.091365</td>\n",
       "      <td>0.091365</td>\n",
       "      <td>0.044055</td>\n",
       "      <td>9.917098</td>\n",
       "      <td>0.000602</td>\n",
       "      <td>0.003861</td>\n",
       "      <td>0.003861</td>\n",
       "      <td>0.0</td>\n",
       "    </tr>\n",
       "    <tr>\n",
       "      <th>3</th>\n",
       "      <td>-68.315598</td>\n",
       "      <td>-32.353069</td>\n",
       "      <td>71.998054</td>\n",
       "      <td>-78.933526</td>\n",
       "      <td>14.320530</td>\n",
       "      <td>-13.669455</td>\n",
       "      <td>0.862436</td>\n",
       "      <td>-106.062495</td>\n",
       "      <td>14.062039</td>\n",
       "      <td>14.311761</td>\n",
       "      <td>13.648176</td>\n",
       "      <td>0.090130</td>\n",
       "      <td>0.090130</td>\n",
       "      <td>0.043668</td>\n",
       "      <td>7.792049</td>\n",
       "      <td>0.000544</td>\n",
       "      <td>0.003407</td>\n",
       "      <td>0.003407</td>\n",
       "      <td>0.0</td>\n",
       "    </tr>\n",
       "    <tr>\n",
       "      <th>4</th>\n",
       "      <td>85.879721</td>\n",
       "      <td>-52.988838</td>\n",
       "      <td>351.547535</td>\n",
       "      <td>3.638489</td>\n",
       "      <td>2.937268</td>\n",
       "      <td>5.109022</td>\n",
       "      <td>1.510236</td>\n",
       "      <td>-23.143291</td>\n",
       "      <td>14.677980</td>\n",
       "      <td>15.082906</td>\n",
       "      <td>14.107460</td>\n",
       "      <td>0.093275</td>\n",
       "      <td>0.093275</td>\n",
       "      <td>0.044678</td>\n",
       "      <td>11.110764</td>\n",
       "      <td>0.000683</td>\n",
       "      <td>0.004529</td>\n",
       "      <td>0.004529</td>\n",
       "      <td>0.0</td>\n",
       "    </tr>\n",
       "  </tbody>\n",
       "</table>\n",
       "</div>"
      ],
      "text/plain": [
       "            l          b          ra        dec       pmra      pmdec  \\\n",
       "0   18.947771  17.087326  261.281075  -4.105546   0.304014  -2.012651   \n",
       "1   -4.978819 -41.542610  315.656827 -45.372252  15.768343 -16.975898   \n",
       "2 -137.539419 -47.311996   60.814237 -25.789371   5.542696   9.388474   \n",
       "3  -68.315598 -32.353069   71.998054 -78.933526  14.320530 -13.669455   \n",
       "4   85.879721 -52.988838  351.547535   3.638489   2.937268   5.109022   \n",
       "\n",
       "   parallax  radial_velocity  phot_g_mean_mag  phot_bp_mean_mag  \\\n",
       "0  0.443537        44.472788        14.384683         14.678857   \n",
       "1  1.369992      -120.045033        12.405884         12.633657   \n",
       "2  0.597262        83.063864        14.347357         14.619976   \n",
       "3  0.862436      -106.062495        14.062039         14.311761   \n",
       "4  1.510236       -23.143291        14.677980         15.082906   \n",
       "\n",
       "   phot_rp_mean_mag  pmra_error  pmdec_error  parallax_error  \\\n",
       "0         13.931516    0.091557     0.091557        0.044116   \n",
       "1         12.030871    0.087001     0.087001        0.042780   \n",
       "2         13.923520    0.091365     0.091365        0.044055   \n",
       "3         13.648176    0.090130     0.090130        0.043668   \n",
       "4         14.107460    0.093275     0.093275        0.044678   \n",
       "\n",
       "   radial_velocity_error  phot_g_mean_mag_error  phot_bp_mean_mag_error  \\\n",
       "0               9.908263               0.000611                0.003929   \n",
       "1               2.036502               0.000342                0.002105   \n",
       "2               9.917098               0.000602                0.003861   \n",
       "3               7.792049               0.000544                0.003407   \n",
       "4              11.110764               0.000683                0.004529   \n",
       "\n",
       "   phot_rp_mean_mag_error  AccretedLabel  \n",
       "0                0.003929            0.0  \n",
       "1                0.002105            0.0  \n",
       "2                0.003861            0.0  \n",
       "3                0.003407            0.0  \n",
       "4                0.004529            0.0  "
      ]
     },
     "execution_count": 6,
     "metadata": {},
     "output_type": "execute_result"
    }
   ],
   "source": [
    "data.head()\n"
   ]
  },
  {
   "cell_type": "code",
   "execution_count": 7,
   "metadata": {},
   "outputs": [],
   "source": [
    "from sklearn.preprocessing import StandardScaler\n",
    "from sklearn.model_selection import train_test_split\n",
    "from scipy.interpolate import interp1d"
   ]
  },
  {
   "cell_type": "code",
   "execution_count": 8,
   "metadata": {},
   "outputs": [],
   "source": [
    "# What columns to use?\n",
    "use_cols = ['l', 'b','parallax','pmra','pmdec']\n",
    "# Make the design matrix\n",
    "X = data[use_cols].values\n",
    "Y = (data['radial_velocity']).values\n",
    "Y = (Y - np.mean(Y))/(np.std(Y))"
   ]
  },
  {
   "cell_type": "code",
   "execution_count": 9,
   "metadata": {},
   "outputs": [],
   "source": [
    "X_train, X_test, y_train, y_test = train_test_split(X[1:500000], Y[1:500000],\n",
    "                                                    test_size = 0.2,\n",
    "                                                    random_state=42)\n"
   ]
  },
  {
   "cell_type": "code",
   "execution_count": 10,
   "metadata": {},
   "outputs": [
    {
     "name": "stdout",
     "output_type": "stream",
     "text": [
      "[-1.69586782  1.26108202 -1.4923038  -0.28512908  1.16469197 -0.62397669\n",
      " -0.1612418   2.16407543  0.39171227 -1.13327835  0.26803948  0.25061651\n",
      " -0.78722296  0.76522643 -0.3204982  -0.43891176 -2.20740675  0.32800101\n",
      " -0.36686087 -0.27203564 -1.76992291 -0.1710158  -1.2691895  -0.146452\n",
      "  0.1632188   0.19425337  0.75542055 -0.65315212 -0.55125346  0.83523748\n",
      "  0.01619835 -0.08405985 -1.05875285  1.317901    0.0263108  -2.34458125\n",
      "  1.32214235 -0.12613169 -0.88942516 -0.56886917  0.78229151 -1.31575899\n",
      "  0.45502505 -1.40811172  0.43625962 -1.00791115  0.71990118 -0.32511336\n",
      "  0.10797619]\n"
     ]
    }
   ],
   "source": [
    "print(Y[1:50])"
   ]
  },
  {
   "cell_type": "code",
   "execution_count": 11,
   "metadata": {},
   "outputs": [],
   "source": [
    "#trying to add some weights to training data\n",
    "vr_real = y_train\n",
    "counts, bins = np.histogram(vr_real,bins=np.linspace(-850,850,101))\n",
    "bin_centers = (bins[1:]+bins[:-1])/2\n",
    "interp_func = interp1d(bin_centers,(counts).astype('float'))\n",
    "inv_weights = interp_func(vr_real)\n",
    "weights = 1/inv_weights"
   ]
  },
  {
   "cell_type": "code",
   "execution_count": 12,
   "metadata": {},
   "outputs": [
    {
     "name": "stdout",
     "output_type": "stream",
     "text": [
      "(399999, 5)\n",
      "(399999,)\n",
      "There are -216.34689720494123 stars in the training set\n",
      "\n",
      "(100000, 5)\n",
      "(100000,)\n",
      "There are 67.51702782025998 stars in the test set\n"
     ]
    }
   ],
   "source": [
    "print(X_train.shape)\n",
    "print(y_train.shape)\n",
    "print('There are {0} stars in the training set'.format(np.sum(y_train)))\n",
    "print()\n",
    "print(X_test.shape)\n",
    "print(y_test.shape)\n",
    "print('There are {0} stars in the test set'.format(np.sum(y_test)))"
   ]
  },
  {
   "cell_type": "markdown",
   "metadata": {},
   "source": [
    "I think this is giving me a negative output because it's summing over y_train, which is not the number of stars, but is instead the radial velocities. "
   ]
  },
  {
   "cell_type": "code",
   "execution_count": 13,
   "metadata": {},
   "outputs": [],
   "source": [
    "SS = StandardScaler()\n",
    "X_train = SS.fit_transform(X_train)"
   ]
  },
  {
   "cell_type": "code",
   "execution_count": 14,
   "metadata": {},
   "outputs": [],
   "source": [
    "# Now scale the test data using the same mean and standard deviation as found with the training data\n",
    "X_test = SS.transform(X_test)"
   ]
  },
  {
   "cell_type": "code",
   "execution_count": 15,
   "metadata": {},
   "outputs": [
    {
     "name": "stderr",
     "output_type": "stream",
     "text": [
      "Font 'default' does not have a glyph for '\\\\times' [U+d7], substituting with a dummy symbol.\n",
      "Font 'default' does not have a glyph for '\\\\times' [U+d7], substituting with a dummy symbol.\n",
      "Font 'default' does not have a glyph for '\\\\times' [U+d7], substituting with a dummy symbol.\n",
      "Font 'default' does not have a glyph for '\\\\times' [U+d7], substituting with a dummy symbol.\n"
     ]
    },
    {
     "data": {
      "image/png": "[encoded data removed]",
      "text/plain": [
       "<Figure size 480x240 with 2 Axes>"
      ]
     },
     "metadata": {
      "needs_background": "light"
     },
     "output_type": "display_data"
    },
    {
     "data": {
      "image/png": "[encoded data removed]",
      "text/plain": [
       "<Figure size 480x240 with 2 Axes>"
      ]
     },
     "metadata": {
      "needs_background": "light"
     },
     "output_type": "display_data"
    },
    {
     "data": {
      "image/png": "[encoded data removed]",
      "text/plain": [
       "<Figure size 480x240 with 2 Axes>"
      ]
     },
     "metadata": {
      "needs_background": "light"
     },
     "output_type": "display_data"
    },
    {
     "data": {
      "image/png": "[encoded data removed]",
      "text/plain": [
       "<Figure size 480x240 with 2 Axes>"
      ]
     },
     "metadata": {
      "needs_background": "light"
     },
     "output_type": "display_data"
    },
    {
     "data": {
      "image/png": "[encoded data removed]",
      "text/plain": [
       "<Figure size 480x240 with 2 Axes>"
      ]
     },
     "metadata": {
      "needs_background": "light"
     },
     "output_type": "display_data"
    }
   ],
   "source": [
    "#visualize check data\n",
    "for i, col in enumerate(use_cols):\n",
    "    plt.figure(figsize=(6, 3))\n",
    "    plt.subplot(1,2,1)\n",
    "    plt.hist(data[col], bins=100)\n",
    "    plt.yscale('log')\n",
    "    plt.title('Data')\n",
    "    \n",
    "    plt.subplot(1,2,2)\n",
    "    plt.hist(X_train[:, i], bins=100, alpha=0.5)\n",
    "    plt.hist(X_test[:, i], bins=100, alpha=0.5)\n",
    "    plt.yscale('log')\n",
    "    plt.title('Scaled')\n",
    "    \n",
    "    plt.suptitle(col, y=1.01, fontsize=16)\n",
    "    \n",
    "    plt.tight_layout()"
   ]
  },
  {
   "cell_type": "code",
   "execution_count": 16,
   "metadata": {},
   "outputs": [
    {
     "name": "stderr",
     "output_type": "stream",
     "text": [
      "Using TensorFlow backend.\n"
     ]
    }
   ],
   "source": [
    "from keras.models import Sequential\n",
    "from keras.layers import Dense\n",
    "from keras.callbacks import EarlyStopping, ModelCheckpoint\n",
    "from keras.optimizers import Adam"
   ]
  },
  {
   "cell_type": "code",
   "execution_count": 17,
   "metadata": {},
   "outputs": [],
   "source": [
    "from keras import backend as K"
   ]
  },
  {
   "cell_type": "code",
   "execution_count": 18,
   "metadata": {},
   "outputs": [],
   "source": [
    "def LikelihoodLossFunction(y_true, y_pred):\n",
    "    # shape of y_pred should be (nsamples, 2)\n",
    "    # the first column should be the mean of the prediction\n",
    "    # the second column is the confidence (number of standard deviations)\n",
    "#     print y_true.shape\n",
    "#     print y_pred.shape\n",
    "    SIGMA = K.abs(y_pred[:, 1])\n",
    "    LOC = y_pred[:, 0]\n",
    "    X = y_true[:, 0]\n",
    "    \n",
    "    ARG = K.square(X - LOC) / (2 * K.square(SIGMA))\n",
    "    PREFACT = K.log(K.pow(2 * np.pi * K.square(SIGMA), -0.5))\n",
    "    #you get this from the conditional probability distribution\n",
    "    return K.mean(ARG - PREFACT)\n",
    "#returns [vr predicted, sigma]"
   ]
  },
  {
   "cell_type": "code",
   "execution_count": 19,
   "metadata": {},
   "outputs": [],
   "source": [
    "def ConstantLikelihoodLossFunction(y_true, y_pred):\n",
    "    # shape of y_pred should be (nsamples, 2)\n",
    "    # the first column should be the mean of the prediction\n",
    "    # the second column is the confidence (number of standard deviations)\n",
    "#     print y_true.shape\n",
    "#     print y_pred.shape\n",
    "    LOC = y_pred[:, 0]\n",
    "    X = y_true[:, 0]\n",
    "    ARG = -K.square(X - LOC) / (2.0)\n",
    "    return K.mean(-ARG)\n"
   ]
  },
  {
   "cell_type": "markdown",
   "metadata": {},
   "source": [
    "Going to train once on Constant Likelihood first. "
   ]
  },
  {
   "cell_type": "code",
   "execution_count": 20,
   "metadata": {},
   "outputs": [],
   "source": [
    "MyModel = Sequential()\n",
    "MyModel.add(Dense(units=100, activation='relu', input_dim=X_train.shape[1]))\n",
    "MyModel.add(Dense(units=100, activation='relu'))\n",
    "MyModel.add(Dense(units=100, activation='relu'))\n",
    "MyModel.add(Dense(units=2))\n",
    "#using tanh activation function in the last layer\n",
    "#MyModel.compile(loss='mean_squared_error',\n",
    "               # optimizer='adam'\n",
    "              # )\n",
    "MyModel.compile(loss=ConstantLikelihoodLossFunction,\n",
    "                optimizer='adam'\n",
    "               )"
   ]
  },
  {
   "cell_type": "code",
   "execution_count": 21,
   "metadata": {},
   "outputs": [
    {
     "name": "stdout",
     "output_type": "stream",
     "text": [
      "Model: \"sequential_1\"\n",
      "_________________________________________________________________\n",
      "Layer (type)                 Output Shape              Param #   \n",
      "=================================================================\n",
      "dense_1 (Dense)              (None, 100)               600       \n",
      "_________________________________________________________________\n",
      "dense_2 (Dense)              (None, 100)               10100     \n",
      "_________________________________________________________________\n",
      "dense_3 (Dense)              (None, 100)               10100     \n",
      "_________________________________________________________________\n",
      "dense_4 (Dense)              (None, 2)                 202       \n",
      "=================================================================\n",
      "Total params: 21,002\n",
      "Trainable params: 21,002\n",
      "Non-trainable params: 0\n",
      "_________________________________________________________________\n"
     ]
    }
   ],
   "source": [
    "MyModel.summary()"
   ]
  },
  {
   "cell_type": "code",
   "execution_count": 22,
   "metadata": {},
   "outputs": [],
   "source": [
    "#training any checkpoint or early stopping? \n",
    "es = EarlyStopping(patience=2, restore_best_weights=True)"
   ]
  },
  {
   "cell_type": "markdown",
   "metadata": {},
   "source": [
    "Not sure how long to train for at first...I just did 15 epochs because I'm concerned about overtraining?"
   ]
  },
  {
   "cell_type": "code",
   "execution_count": 23,
   "metadata": {},
   "outputs": [
    {
     "name": "stdout",
     "output_type": "stream",
     "text": [
      "Train on 319999 samples, validate on 80000 samples\n",
      "Epoch 1/15\n",
      "319999/319999 [==============================] - 2s 7us/step - loss: 2.4900e-06 - val_loss: 2.4284e-06\n",
      "Epoch 2/15\n",
      "319999/319999 [==============================] - 2s 6us/step - loss: 2.4293e-06 - val_loss: 2.3802e-06\n",
      "Epoch 3/15\n",
      "319999/319999 [==============================] - 2s 6us/step - loss: 2.3807e-06 - val_loss: 2.3336e-06\n",
      "Epoch 4/15\n",
      "319999/319999 [==============================] - 2s 6us/step - loss: 2.3325e-06 - val_loss: 2.2847e-06\n",
      "Epoch 5/15\n",
      "319999/319999 [==============================] - 2s 6us/step - loss: 2.2862e-06 - val_loss: 2.2453e-06\n",
      "Epoch 6/15\n",
      "319999/319999 [==============================] - 2s 6us/step - loss: 2.2498e-06 - val_loss: 2.2160e-06\n",
      "Epoch 7/15\n",
      "319999/319999 [==============================] - 2s 6us/step - loss: 2.2215e-06 - val_loss: 2.1925e-06\n",
      "Epoch 8/15\n",
      "319999/319999 [==============================] - 2s 6us/step - loss: 2.1988e-06 - val_loss: 2.1714e-06\n",
      "Epoch 9/15\n",
      "319999/319999 [==============================] - 2s 6us/step - loss: 2.1790e-06 - val_loss: 2.1567e-06\n",
      "Epoch 10/15\n",
      "319999/319999 [==============================] - 2s 6us/step - loss: 2.1636e-06 - val_loss: 2.1477e-06\n",
      "Epoch 11/15\n",
      "319999/319999 [==============================] - 2s 6us/step - loss: 2.1517e-06 - val_loss: 2.1346e-06\n",
      "Epoch 12/15\n",
      "319999/319999 [==============================] - 2s 6us/step - loss: 2.1422e-06 - val_loss: 2.1281e-06\n",
      "Epoch 13/15\n",
      "319999/319999 [==============================] - 2s 6us/step - loss: 2.1321e-06 - val_loss: 2.1217e-06\n",
      "Epoch 14/15\n",
      "319999/319999 [==============================] - 2s 6us/step - loss: 2.1258e-06 - val_loss: 2.1190e-06\n",
      "Epoch 15/15\n",
      "319999/319999 [==============================] - 2s 6us/step - loss: 2.1183e-06 - val_loss: 2.1171e-06\n"
     ]
    }
   ],
   "source": [
    "history = MyModel.fit(X_train,np.vstack([y_train,\n",
    "                                  np.ones(y_train.shape[0])\n",
    "                                  ]).T,\n",
    "                      validation_split=0.2,\n",
    "                      epochs=15,\n",
    "                      batch_size=1000,\n",
    "                      callbacks = [es],\n",
    "                      sample_weight=weights\n",
    "                     )\n",
    "#not sure exactly how many epochs I should run this for....we'll see \n",
    "#loss is still really small numbers- because of rescaling and then re-weighting"
   ]
  },
  {
   "cell_type": "code",
   "execution_count": 24,
   "metadata": {},
   "outputs": [
    {
     "name": "stderr",
     "output_type": "stream",
     "text": [
      "Font 'default' does not have a glyph for '\\\\times' [U+d7], substituting with a dummy symbol.\n",
      "Font 'default' does not have a glyph for '\\\\times' [U+d7], substituting with a dummy symbol.\n",
      "Font 'default' does not have a glyph for '\\\\times' [U+d7], substituting with a dummy symbol.\n",
      "Font 'default' does not have a glyph for '\\\\times' [U+d7], substituting with a dummy symbol.\n",
      "Font 'default' does not have a glyph for '\\\\times' [U+d7], substituting with a dummy symbol.\n",
      "Font 'default' does not have a glyph for '\\\\times' [U+d7], substituting with a dummy symbol.\n",
      "Font 'default' does not have a glyph for '\\\\times' [U+d7], substituting with a dummy symbol.\n",
      "Font 'default' does not have a glyph for '\\\\times' [U+d7], substituting with a dummy symbol.\n",
      "Font 'default' does not have a glyph for '\\\\times' [U+d7], substituting with a dummy symbol.\n",
      "Font 'default' does not have a glyph for '\\\\times' [U+d7], substituting with a dummy symbol.\n",
      "Font 'default' does not have a glyph for '\\\\times' [U+d7], substituting with a dummy symbol.\n",
      "Font 'default' does not have a glyph for '\\\\times' [U+d7], substituting with a dummy symbol.\n",
      "Font 'default' does not have a glyph for '\\\\times' [U+d7], substituting with a dummy symbol.\n",
      "Font 'default' does not have a glyph for '\\\\times' [U+d7], substituting with a dummy symbol.\n",
      "Font 'default' does not have a glyph for '\\\\times' [U+d7], substituting with a dummy symbol.\n",
      "Font 'default' does not have a glyph for '\\\\times' [U+d7], substituting with a dummy symbol.\n",
      "Font 'default' does not have a glyph for '\\\\times' [U+d7], substituting with a dummy symbol.\n",
      "Font 'default' does not have a glyph for '\\\\times' [U+d7], substituting with a dummy symbol.\n"
     ]
    },
    {
     "data": {
      "image/png": "[encoded data removed]",
      "text/plain": [
       "<Figure size 320x320 with 1 Axes>"
      ]
     },
     "metadata": {
      "needs_background": "light"
     },
     "output_type": "display_data"
    }
   ],
   "source": [
    "plt.plot(history.history['loss'])\n",
    "plt.plot(history.history['val_loss'])\n",
    "plt.yscale('log')\n",
    "plt.xlabel('Epochs')\n",
    "plt.ylabel('Constant Loss Function')\n",
    "plt.legend(['Train', 'Validation'])\n",
    "plt.show()"
   ]
  },
  {
   "cell_type": "markdown",
   "metadata": {},
   "source": [
    "Next going to train on Likelihood to get sigma "
   ]
  },
  {
   "cell_type": "code",
   "execution_count": 25,
   "metadata": {},
   "outputs": [],
   "source": [
    "MyModel.compile(loss=LikelihoodLossFunction,\n",
    "                optimizer='adam'\n",
    "               )"
   ]
  },
  {
   "cell_type": "code",
   "execution_count": 26,
   "metadata": {},
   "outputs": [
    {
     "name": "stdout",
     "output_type": "stream",
     "text": [
      "Train on 319999 samples, validate on 80000 samples\n",
      "Epoch 1/300\n",
      "319999/319999 [==============================] - 2s 7us/step - loss: 0.4079 - val_loss: 8.2628e-06\n",
      "Epoch 2/300\n",
      "319999/319999 [==============================] - 2s 6us/step - loss: 6.9882e-06 - val_loss: 6.8447e-06\n",
      "Epoch 3/300\n",
      "319999/319999 [==============================] - 2s 6us/step - loss: 6.7910e-06 - val_loss: 6.7423e-06\n",
      "Epoch 4/300\n",
      "319999/319999 [==============================] - 2s 6us/step - loss: 6.6872e-06 - val_loss: 6.6419e-06\n",
      "Epoch 5/300\n",
      "319999/319999 [==============================] - 2s 6us/step - loss: 6.6040e-06 - val_loss: 6.5792e-06\n",
      "Epoch 6/300\n",
      "319999/319999 [==============================] - 2s 6us/step - loss: 6.5555e-06 - val_loss: 6.5432e-06\n",
      "Epoch 7/300\n",
      "319999/319999 [==============================] - 2s 6us/step - loss: 6.5253e-06 - val_loss: 6.5184e-06\n",
      "Epoch 8/300\n",
      "319999/319999 [==============================] - 2s 7us/step - loss: 6.5026e-06 - val_loss: 6.4991e-06\n",
      "Epoch 9/300\n",
      "319999/319999 [==============================] - 2s 6us/step - loss: 6.4816e-06 - val_loss: 6.4758e-06\n",
      "Epoch 10/300\n",
      "319999/319999 [==============================] - 2s 6us/step - loss: 6.4562e-06 - val_loss: 6.4566e-06\n",
      "Epoch 11/300\n",
      "319999/319999 [==============================] - 2s 6us/step - loss: 6.4408e-06 - val_loss: 6.4440e-06\n",
      "Epoch 12/300\n",
      "319999/319999 [==============================] - 2s 6us/step - loss: 6.4310e-06 - val_loss: 6.4358e-06\n",
      "Epoch 13/300\n",
      "319999/319999 [==============================] - 2s 6us/step - loss: 6.4240e-06 - val_loss: 6.4302e-06\n",
      "Epoch 14/300\n",
      "319999/319999 [==============================] - 2s 6us/step - loss: 6.4189e-06 - val_loss: 6.4251e-06\n",
      "Epoch 15/300\n",
      "319999/319999 [==============================] - 2s 6us/step - loss: 6.4142e-06 - val_loss: 6.4212e-06\n",
      "Epoch 16/300\n",
      "319999/319999 [==============================] - 2s 6us/step - loss: 6.4108e-06 - val_loss: 6.4176e-06\n",
      "Epoch 17/300\n",
      "319999/319999 [==============================] - 2s 6us/step - loss: 6.4078e-06 - val_loss: 6.4147e-06\n",
      "Epoch 18/300\n",
      "319999/319999 [==============================] - 2s 6us/step - loss: 6.4049e-06 - val_loss: 6.4130e-06\n",
      "Epoch 19/300\n",
      "319999/319999 [==============================] - 2s 6us/step - loss: 6.4021e-06 - val_loss: 6.4090e-06\n",
      "Epoch 20/300\n",
      "319999/319999 [==============================] - 2s 6us/step - loss: 6.3997e-06 - val_loss: 6.4073e-06\n",
      "Epoch 21/300\n",
      "319999/319999 [==============================] - 2s 6us/step - loss: 6.3969e-06 - val_loss: 6.4043e-06\n",
      "Epoch 22/300\n",
      "319999/319999 [==============================] - 2s 6us/step - loss: 6.3947e-06 - val_loss: 6.4019e-06\n",
      "Epoch 23/300\n",
      "319999/319999 [==============================] - 2s 6us/step - loss: 6.3918e-06 - val_loss: 6.4006e-06\n",
      "Epoch 24/300\n",
      "319999/319999 [==============================] - 2s 6us/step - loss: 6.3897e-06 - val_loss: 6.3977e-06\n",
      "Epoch 25/300\n",
      "319999/319999 [==============================] - 2s 6us/step - loss: 6.3868e-06 - val_loss: 6.3953e-06\n",
      "Epoch 26/300\n",
      "319999/319999 [==============================] - 2s 6us/step - loss: 6.3845e-06 - val_loss: 6.3934e-06\n",
      "Epoch 27/300\n",
      "319999/319999 [==============================] - 2s 6us/step - loss: 6.3820e-06 - val_loss: 6.3923e-06\n",
      "Epoch 28/300\n",
      "319999/319999 [==============================] - 2s 6us/step - loss: 6.3799e-06 - val_loss: 6.3895e-06\n",
      "Epoch 29/300\n",
      "319999/319999 [==============================] - 2s 6us/step - loss: 6.3772e-06 - val_loss: 6.3866e-06\n",
      "Epoch 30/300\n",
      "319999/319999 [==============================] - 2s 6us/step - loss: 6.3745e-06 - val_loss: 6.3839e-06\n",
      "Epoch 31/300\n",
      "319999/319999 [==============================] - 2s 6us/step - loss: 6.3711e-06 - val_loss: 6.3815e-06\n",
      "Epoch 32/300\n",
      "319999/319999 [==============================] - 2s 6us/step - loss: 6.3667e-06 - val_loss: 6.3787e-06\n",
      "Epoch 33/300\n",
      "319999/319999 [==============================] - 2s 6us/step - loss: 6.3625e-06 - val_loss: 6.3747e-06\n",
      "Epoch 34/300\n",
      "319999/319999 [==============================] - 2s 6us/step - loss: 6.3575e-06 - val_loss: 6.3685e-06\n",
      "Epoch 35/300\n",
      "319999/319999 [==============================] - 2s 6us/step - loss: 6.3517e-06 - val_loss: 6.3634e-06\n",
      "Epoch 36/300\n",
      "319999/319999 [==============================] - 2s 6us/step - loss: 6.3464e-06 - val_loss: 6.3599e-06\n",
      "Epoch 37/300\n",
      "319999/319999 [==============================] - 2s 6us/step - loss: 6.3413e-06 - val_loss: 6.3541e-06\n",
      "Epoch 38/300\n",
      "319999/319999 [==============================] - 2s 6us/step - loss: 6.3374e-06 - val_loss: 6.3505e-06\n",
      "Epoch 39/300\n",
      "319999/319999 [==============================] - 2s 6us/step - loss: 6.3347e-06 - val_loss: 6.3480e-06\n",
      "Epoch 40/300\n",
      "319999/319999 [==============================] - 2s 6us/step - loss: 6.3316e-06 - val_loss: 6.3456e-06\n",
      "Epoch 41/300\n",
      "319999/319999 [==============================] - 2s 6us/step - loss: 6.3293e-06 - val_loss: 6.3451e-06\n",
      "Epoch 42/300\n",
      "319999/319999 [==============================] - 2s 6us/step - loss: 6.3272e-06 - val_loss: 6.3419e-06\n",
      "Epoch 43/300\n",
      "319999/319999 [==============================] - 2s 6us/step - loss: 6.3256e-06 - val_loss: 6.3405e-06\n",
      "Epoch 44/300\n",
      "319999/319999 [==============================] - 2s 6us/step - loss: 6.3237e-06 - val_loss: 6.3384e-06\n",
      "Epoch 45/300\n",
      "319999/319999 [==============================] - 2s 6us/step - loss: 6.3220e-06 - val_loss: 6.3379e-06\n",
      "Epoch 46/300\n",
      "319999/319999 [==============================] - 2s 6us/step - loss: 6.3201e-06 - val_loss: 6.3366e-06\n",
      "Epoch 47/300\n",
      "319999/319999 [==============================] - 2s 6us/step - loss: 6.3194e-06 - val_loss: 6.3349e-06\n",
      "Epoch 48/300\n",
      "319999/319999 [==============================] - 2s 6us/step - loss: 6.3177e-06 - val_loss: 6.3333e-06\n",
      "Epoch 49/300\n",
      "319999/319999 [==============================] - 2s 6us/step - loss: 6.3162e-06 - val_loss: 6.3325e-06\n",
      "Epoch 50/300\n",
      "319999/319999 [==============================] - 2s 6us/step - loss: 6.3150e-06 - val_loss: 6.3318e-06\n",
      "Epoch 51/300\n",
      "319999/319999 [==============================] - 2s 6us/step - loss: 6.3135e-06 - val_loss: 6.3299e-06\n",
      "Epoch 52/300\n",
      "319999/319999 [==============================] - 2s 6us/step - loss: 6.3123e-06 - val_loss: 6.3278e-06\n",
      "Epoch 53/300\n",
      "319999/319999 [==============================] - 2s 6us/step - loss: 6.3107e-06 - val_loss: 6.3279e-06\n",
      "Epoch 54/300\n",
      "319999/319999 [==============================] - 2s 6us/step - loss: 6.3097e-06 - val_loss: 6.3261e-06\n",
      "Epoch 55/300\n",
      "319999/319999 [==============================] - 2s 6us/step - loss: 6.3082e-06 - val_loss: 6.3261e-06\n",
      "Epoch 56/300\n",
      "319999/319999 [==============================] - 2s 6us/step - loss: 6.3072e-06 - val_loss: 6.3238e-06\n",
      "Epoch 57/300\n",
      "319999/319999 [==============================] - 2s 6us/step - loss: 6.3058e-06 - val_loss: 6.3238e-06\n",
      "Epoch 58/300\n",
      "319999/319999 [==============================] - 2s 6us/step - loss: 6.3045e-06 - val_loss: 6.3216e-06\n",
      "Epoch 59/300\n",
      "319999/319999 [==============================] - 2s 6us/step - loss: 6.3035e-06 - val_loss: 6.3209e-06\n",
      "Epoch 60/300\n",
      "319999/319999 [==============================] - 2s 6us/step - loss: 6.3024e-06 - val_loss: 6.3204e-06\n",
      "Epoch 61/300\n",
      "319999/319999 [==============================] - 2s 6us/step - loss: 6.3009e-06 - val_loss: 6.3185e-06\n",
      "Epoch 62/300\n",
      "319999/319999 [==============================] - 2s 6us/step - loss: 6.2996e-06 - val_loss: 6.3205e-06\n",
      "Epoch 63/300\n",
      "319999/319999 [==============================] - 2s 6us/step - loss: 6.2986e-06 - val_loss: 6.3151e-06\n",
      "Epoch 64/300\n",
      "319999/319999 [==============================] - 2s 6us/step - loss: 6.2973e-06 - val_loss: 6.3207e-06\n",
      "Epoch 65/300\n",
      "319999/319999 [==============================] - 2s 6us/step - loss: 6.2960e-06 - val_loss: 6.3135e-06\n",
      "Epoch 66/300\n",
      "319999/319999 [==============================] - 2s 6us/step - loss: 6.2951e-06 - val_loss: 6.3127e-06\n",
      "Epoch 67/300\n",
      "319999/319999 [==============================] - 2s 6us/step - loss: 6.2934e-06 - val_loss: 6.3117e-06\n",
      "Epoch 68/300\n",
      "319999/319999 [==============================] - 2s 7us/step - loss: 6.2920e-06 - val_loss: 6.3156e-06\n",
      "Epoch 69/300\n",
      "319999/319999 [==============================] - 2s 6us/step - loss: 6.2914e-06 - val_loss: 6.3094e-06\n",
      "Epoch 70/300\n",
      "319999/319999 [==============================] - 2s 6us/step - loss: 6.2898e-06 - val_loss: 6.3087e-06\n",
      "Epoch 71/300\n",
      "319999/319999 [==============================] - 2s 6us/step - loss: 6.2879e-06 - val_loss: 6.3051e-06\n",
      "Epoch 72/300\n",
      "319999/319999 [==============================] - 2s 6us/step - loss: 6.2867e-06 - val_loss: 6.3038e-06\n",
      "Epoch 73/300\n",
      "319999/319999 [==============================] - 2s 6us/step - loss: 6.2860e-06 - val_loss: 6.3048e-06\n",
      "Epoch 74/300\n",
      "319999/319999 [==============================] - 2s 6us/step - loss: 6.2842e-06 - val_loss: 6.3021e-06\n",
      "Epoch 75/300\n",
      "319999/319999 [==============================] - 2s 6us/step - loss: 6.2825e-06 - val_loss: 6.2998e-06\n",
      "Epoch 76/300\n",
      "319999/319999 [==============================] - 2s 6us/step - loss: 6.2805e-06 - val_loss: 6.2992e-06\n",
      "Epoch 77/300\n",
      "319999/319999 [==============================] - 2s 6us/step - loss: 6.2795e-06 - val_loss: 6.3008e-06\n",
      "Epoch 78/300\n",
      "319999/319999 [==============================] - 2s 6us/step - loss: 6.2779e-06 - val_loss: 6.2959e-06\n",
      "Epoch 79/300\n",
      "319999/319999 [==============================] - 2s 6us/step - loss: 6.2765e-06 - val_loss: 6.2951e-06\n",
      "Epoch 80/300\n",
      "319999/319999 [==============================] - 2s 6us/step - loss: 6.2742e-06 - val_loss: 6.2969e-06\n",
      "Epoch 81/300\n",
      "319999/319999 [==============================] - 2s 6us/step - loss: 6.2729e-06 - val_loss: 6.2934e-06\n",
      "Epoch 82/300\n",
      "319999/319999 [==============================] - 2s 6us/step - loss: 6.2712e-06 - val_loss: 6.2905e-06\n",
      "Epoch 83/300\n",
      "319999/319999 [==============================] - 2s 6us/step - loss: 6.2694e-06 - val_loss: 6.2889e-06\n",
      "Epoch 84/300\n",
      "319999/319999 [==============================] - 2s 6us/step - loss: 6.2682e-06 - val_loss: 6.2892e-06\n",
      "Epoch 85/300\n",
      "319999/319999 [==============================] - 2s 6us/step - loss: 6.2663e-06 - val_loss: 6.2856e-06\n",
      "Epoch 86/300\n",
      "319999/319999 [==============================] - 2s 6us/step - loss: 6.2649e-06 - val_loss: 6.2836e-06\n",
      "Epoch 87/300\n",
      "319999/319999 [==============================] - 2s 6us/step - loss: 6.2632e-06 - val_loss: 6.2835e-06\n",
      "Epoch 88/300\n",
      "319999/319999 [==============================] - 2s 6us/step - loss: 6.2610e-06 - val_loss: 6.2840e-06\n",
      "Epoch 89/300\n",
      "319999/319999 [==============================] - 2s 6us/step - loss: 6.2595e-06 - val_loss: 6.2804e-06\n",
      "Epoch 90/300\n",
      "319999/319999 [==============================] - 2s 6us/step - loss: 6.2580e-06 - val_loss: 6.2791e-06\n",
      "Epoch 91/300\n",
      "319999/319999 [==============================] - 2s 6us/step - loss: 6.2561e-06 - val_loss: 6.2776e-06\n",
      "Epoch 92/300\n",
      "319999/319999 [==============================] - 2s 6us/step - loss: 6.2544e-06 - val_loss: 6.2769e-06\n",
      "Epoch 93/300\n",
      "319999/319999 [==============================] - 2s 6us/step - loss: 6.2521e-06 - val_loss: 6.2739e-06\n",
      "Epoch 94/300\n",
      "319999/319999 [==============================] - 2s 6us/step - loss: 6.2502e-06 - val_loss: 6.2724e-06\n",
      "Epoch 95/300\n",
      "319999/319999 [==============================] - 2s 6us/step - loss: 6.2489e-06 - val_loss: 6.2765e-06\n",
      "Epoch 96/300\n",
      "319999/319999 [==============================] - 2s 6us/step - loss: 6.2519e-06 - val_loss: 6.3063e-06\n"
     ]
    }
   ],
   "source": [
    "history = MyModel.fit(X_train,np.vstack([y_train,\n",
    "                                  np.ones(y_train.shape[0])\n",
    "                                  ]).T,\n",
    "                      validation_split=0.2,\n",
    "                      epochs=300,\n",
    "                      batch_size=1000,\n",
    "                      callbacks = [es],\n",
    "                      sample_weight=weights\n",
    "                     )"
   ]
  },
  {
   "cell_type": "code",
   "execution_count": 27,
   "metadata": {},
   "outputs": [
    {
     "data": {
      "image/png": "[encoded data removed]",
      "text/plain": [
       "<Figure size 320x320 with 1 Axes>"
      ]
     },
     "metadata": {
      "needs_background": "light"
     },
     "output_type": "display_data"
    }
   ],
   "source": [
    "plt.plot(history.history['loss'])\n",
    "plt.plot(history.history['val_loss'])\n",
    "plt.yscale('log')\n",
    "plt.xlabel('Epochs')\n",
    "plt.ylabel('Likelihood Loss Function')\n",
    "plt.legend(['Train', 'Validation'])\n",
    "plt.show()"
   ]
  },
  {
   "cell_type": "code",
   "execution_count": 28,
   "metadata": {},
   "outputs": [],
   "source": [
    "# predict the scores for the test set, then histogram them based on the real labels\n",
    "test_preds = MyModel.predict(X_test)"
   ]
  },
  {
   "cell_type": "code",
   "execution_count": 29,
   "metadata": {},
   "outputs": [
    {
     "data": {
      "image/png": "[encoded data removed]",
      "text/plain": [
       "<Figure size 320x320 with 1 Axes>"
      ]
     },
     "metadata": {
      "needs_background": "light"
     },
     "output_type": "display_data"
    }
   ],
   "source": [
    "plt.hist(test_preds[:,0], bins=50, range=(-1,1), histtype='step')\n",
    "plt.hist(y_test, bins=50, range=(-1,1), histtype='step')\n",
    "plt.xlabel('Vr')\n",
    "plt.ylabel('Stars')\n",
    "plt.title('Test set - simulated data')\n",
    "plt.yscale('log')\n",
    "plt.show()"
   ]
  },
  {
   "cell_type": "code",
   "execution_count": 30,
   "metadata": {},
   "outputs": [
    {
     "name": "stdout",
     "output_type": "stream",
     "text": [
      "[0.773491   1.5446599  0.8146763  ... 1.0073452  0.7727603  0.77873266]\n"
     ]
    },
    {
     "data": {
      "text/plain": [
       "Text(0, 0.5, 'Error on Vr predicted')"
      ]
     },
     "execution_count": 30,
     "metadata": {},
     "output_type": "execute_result"
    },
    {
     "data": {
      "image/png": "[encoded data removed]",
      "text/plain": [
       "<Figure size 320x320 with 1 Axes>"
      ]
     },
     "metadata": {
      "needs_background": "light"
     },
     "output_type": "display_data"
    }
   ],
   "source": [
    "#test_preds[:,0] = (test_preds[:,0] - np.min(test_preds[:,0]))/(np.max(test_preds[:,0])- np.min(test_preds[:,0]))\n",
    "#test_preds[:,1] = (test_preds[:,1] - np.min(test_preds[:,1]))/(np.max(test_preds[:,1])- np.min(test_preds[:,1]))\n",
    "#y_test = (y_test - np.min(y_test))/(np.max(y_test)- np.min(y_test))\n",
    "#manually normalizing output \n",
    "print(test_preds[:,1])\n",
    "plt.scatter(X_test[:,2], test_preds[:,1], color = 'red')\n",
    "#plt.errorbar(X_test[1:50,2], test_preds[1:50,0], yerr = test_preds[1:50,1], color = 'red',ls='none')\n",
    "plt.xlabel('Distance')\n",
    "plt.ylabel('Error on Vr predicted')"
   ]
  },
  {
   "cell_type": "code",
   "execution_count": 31,
   "metadata": {},
   "outputs": [],
   "source": [
    "from scipy.interpolate import interpn\n",
    "def density_scatter( x , y, ax = None, sort = True, bins = 20, **kwargs )   :\n",
    "    \"\"\"\n",
    "    Scatter plot colored by 2d histogram\n",
    "    \"\"\"\n",
    "    if ax is None :\n",
    "        fig , ax = plt.subplots()\n",
    "    data , x_e, y_e = np.histogram2d( x, y, bins = bins)\n",
    "    z = interpn( ( 0.5*(x_e[1:] + x_e[:-1]) , 0.5*(y_e[1:]+y_e[:-1]) ) , data , np.vstack([x,y]).T , method = \"splinef2d\", bounds_error = False )\n",
    "\n",
    "    # Sort the points by density, so that the densest points are plotted last\n",
    "    if sort :\n",
    "        idx = z.argsort()\n",
    "        x, y, z = x[idx], y[idx], z[idx]\n",
    "\n",
    "    ax.scatter( x, y, c=z, **kwargs )\n",
    "    return ax"
   ]
  },
  {
   "cell_type": "code",
   "execution_count": 32,
   "metadata": {},
   "outputs": [
    {
     "data": {
      "text/plain": [
       "Text(0.5, 0, 'Vr real')"
      ]
     },
     "execution_count": 32,
     "metadata": {},
     "output_type": "execute_result"
    },
    {
     "data": {
      "image/png": "[encoded data removed]",
      "text/plain": [
       "<Figure size 320x320 with 2 Axes>"
      ]
     },
     "metadata": {
      "needs_background": "light"
     },
     "output_type": "display_data"
    }
   ],
   "source": [
    "#plt.errorbar(y_test, test_preds[:,0], yerr = test_preds[:,1], color = 'red',ls='none')\n",
    "#density_scatter(y_test, test_preds[:,0])\n",
    "h = plt.hist2d(y_test, test_preds[:,0], (50, 50), cmap=plt.cm.jet)\n",
    "plt.colorbar(h[3])\n",
    "\n",
    "x = np.linspace(np.min(y_test),np.max(y_test),100)\n",
    "y = x\n",
    "plt.plot(x,y,'k--')\n",
    "plt.ylabel('Vr predicted')\n",
    "plt.xlabel('Vr real')"
   ]
  },
  {
   "cell_type": "code",
   "execution_count": 33,
   "metadata": {},
   "outputs": [],
   "source": [
    "from scipy.stats import gaussian_kde\n",
    "x = y_test\n",
    "y = test_preds[:,0]\n",
    "xy = np.vstack([y_test,test_preds[:,0]])\n",
    "z = gaussian_kde(xy)(xy)\n",
    "\n"
   ]
  },
  {
   "cell_type": "code",
   "execution_count": 34,
   "metadata": {},
   "outputs": [
    {
     "data": {
      "text/plain": [
       "<ErrorbarContainer object of 3 artists>"
      ]
     },
     "execution_count": 34,
     "metadata": {},
     "output_type": "execute_result"
    },
    {
     "data": {
      "image/png": "[encoded data removed]",
      "text/plain": [
       "<Figure size 320x320 with 2 Axes>"
      ]
     },
     "metadata": {
      "needs_background": "light"
     },
     "output_type": "display_data"
    }
   ],
   "source": [
    "# Sort the points by density, so that the densest points are plotted last\n",
    "idx = z.argsort()\n",
    "x = y_test\n",
    "y = test_preds[:,0]\n",
    "x, y, z = x[idx], y[idx], z[idx]\n",
    "fig, ax = plt.subplots()\n",
    "cax = ax.scatter(x, y, c=z, s=25, edgecolor='')\n",
    "x1 = np.linspace(np.min(y_test),np.max(y_test),100)\n",
    "y1 = x1\n",
    "plt.plot(x1,y1,'k--')\n",
    "fig.colorbar(cax)\n",
    "plt.errorbar(y_test[600:800], test_preds[600:800,0], yerr = test_preds[600:800,1], color = 'red',ls='none')"
   ]
  },
  {
   "cell_type": "markdown",
   "metadata": {},
   "source": [
    "# Going to try the two network technique to calculate the error"
   ]
  },
  {
   "cell_type": "code",
   "execution_count": 35,
   "metadata": {},
   "outputs": [],
   "source": [
    "from keras.layers import Input, Dense, Lambda, Concatenate\n",
    "from keras.models import Model\n",
    "from keras.utils import plot_model"
   ]
  },
  {
   "cell_type": "code",
   "execution_count": 36,
   "metadata": {},
   "outputs": [],
   "source": [
    "# del(inputs, MeanEst, MeanModel, ConfEst, ConfModel)\n",
    "inputs = Input(shape=(5,))\n",
    "MeanEst = (Dense(100, activation='relu'))(inputs)\n",
    "MeanEst = (Dense(100, activation='relu'))(MeanEst)\n",
    "MeanEst = (Dense(100, activation='relu'))(MeanEst)\n",
    "MeanEst = (Dense(1, activation='linear'))(MeanEst)\n",
    "MeanModel = Model(inputs, MeanEst)\n",
    "\n",
    "ConfEst= (Dense(100, activation='tanh'))(inputs)\n",
    "ConfEst= (Dense(100, activation='tanh'))(ConfEst)\n",
    "ConfEst= (Dense(100, activation='tanh'))(ConfEst)\n",
    "ConfEst= (Dense(1, activation='relu'))(ConfEst)\n",
    "ConfModel = Model(inputs, ConfEst)\n",
    "#this can't possibly give me a confidence output? the only thing that appears to define a confidence is the relu\n",
    "#on the last layer \n",
    "#CombinedSub = Concatenate(axis=-1)([MeanEst, ConfEst])\n",
    "CombinedSub = Concatenate(axis=-1)([MeanModel(inputs), ConfModel(inputs)])\n",
    "\n",
    "CombinedModel = Model(inputs, CombinedSub)\n",
    "#plot_model(CombinedModel,to_file='demo.png',show_shapes=True)"
   ]
  },
  {
   "cell_type": "code",
   "execution_count": 37,
   "metadata": {},
   "outputs": [
    {
     "name": "stdout",
     "output_type": "stream",
     "text": [
      "Model: \"model_3\"\n",
      "__________________________________________________________________________________________________\n",
      "Layer (type)                    Output Shape         Param #     Connected to                     \n",
      "==================================================================================================\n",
      "input_1 (InputLayer)            (None, 5)            0                                            \n",
      "__________________________________________________________________________________________________\n",
      "model_1 (Model)                 (None, 1)            20901       input_1[0][0]                    \n",
      "__________________________________________________________________________________________________\n",
      "model_2 (Model)                 (None, 1)            20901       input_1[0][0]                    \n",
      "__________________________________________________________________________________________________\n",
      "concatenate_1 (Concatenate)     (None, 2)            0           model_1[1][0]                    \n",
      "                                                                 model_2[1][0]                    \n",
      "==================================================================================================\n",
      "Total params: 41,802\n",
      "Trainable params: 41,802\n",
      "Non-trainable params: 0\n",
      "__________________________________________________________________________________________________\n"
     ]
    }
   ],
   "source": [
    "CombinedModel.summary()"
   ]
  },
  {
   "cell_type": "code",
   "execution_count": 38,
   "metadata": {},
   "outputs": [
    {
     "name": "stdout",
     "output_type": "stream",
     "text": [
      "Train on 319999 samples, validate on 80000 samples\n",
      "Epoch 1/100\n",
      "319999/319999 [==============================] - 3s 8us/step - loss: 2.4807e-06 - val_loss: 2.4141e-06\n",
      "Epoch 2/100\n",
      "319999/319999 [==============================] - 2s 7us/step - loss: 2.4125e-06 - val_loss: 2.3614e-06\n",
      "Epoch 3/100\n",
      "319999/319999 [==============================] - 2s 7us/step - loss: 2.3566e-06 - val_loss: 2.3071e-06\n",
      "Epoch 4/100\n",
      "319999/319999 [==============================] - 2s 7us/step - loss: 2.3033e-06 - val_loss: 2.2599e-06\n",
      "Epoch 5/100\n",
      "319999/319999 [==============================] - 2s 7us/step - loss: 2.2606e-06 - val_loss: 2.2265e-06\n",
      "Epoch 6/100\n",
      "319999/319999 [==============================] - 2s 7us/step - loss: 2.2301e-06 - val_loss: 2.2013e-06\n",
      "Epoch 7/100\n",
      "319999/319999 [==============================] - 2s 7us/step - loss: 2.2052e-06 - val_loss: 2.1806e-06\n",
      "Epoch 8/100\n",
      "319999/319999 [==============================] - 2s 7us/step - loss: 2.1864e-06 - val_loss: 2.1658e-06\n",
      "Epoch 9/100\n",
      "319999/319999 [==============================] - 2s 7us/step - loss: 2.1700e-06 - val_loss: 2.1522e-06\n",
      "Epoch 10/100\n",
      "319999/319999 [==============================] - 2s 7us/step - loss: 2.1587e-06 - val_loss: 2.1436e-06\n",
      "Epoch 11/100\n",
      "319999/319999 [==============================] - 2s 7us/step - loss: 2.1481e-06 - val_loss: 2.1366e-06\n",
      "Epoch 12/100\n",
      "319999/319999 [==============================] - 2s 8us/step - loss: 2.1378e-06 - val_loss: 2.1259e-06\n",
      "Epoch 13/100\n",
      "319999/319999 [==============================] - 2s 7us/step - loss: 2.1297e-06 - val_loss: 2.1216e-06\n",
      "Epoch 14/100\n",
      "319999/319999 [==============================] - 2s 7us/step - loss: 2.1236e-06 - val_loss: 2.1161e-06\n",
      "Epoch 15/100\n",
      "319999/319999 [==============================] - 2s 7us/step - loss: 2.1172e-06 - val_loss: 2.1090e-06\n",
      "Epoch 16/100\n",
      "319999/319999 [==============================] - 2s 7us/step - loss: 2.1126e-06 - val_loss: 2.1080e-06\n",
      "Epoch 17/100\n",
      "319999/319999 [==============================] - 2s 7us/step - loss: 2.1075e-06 - val_loss: 2.1051e-06\n",
      "Epoch 18/100\n",
      "319999/319999 [==============================] - 2s 7us/step - loss: 2.1034e-06 - val_loss: 2.0963e-06\n",
      "Epoch 19/100\n",
      "319999/319999 [==============================] - 2s 7us/step - loss: 2.0996e-06 - val_loss: 2.0949e-06\n",
      "Epoch 20/100\n",
      "319999/319999 [==============================] - 2s 7us/step - loss: 2.0950e-06 - val_loss: 2.0925e-06\n",
      "Epoch 21/100\n",
      "319999/319999 [==============================] - 2s 7us/step - loss: 2.0916e-06 - val_loss: 2.0889e-06\n",
      "Epoch 22/100\n",
      "319999/319999 [==============================] - 2s 7us/step - loss: 2.0886e-06 - val_loss: 2.0836e-06\n",
      "Epoch 23/100\n",
      "319999/319999 [==============================] - 2s 7us/step - loss: 2.0846e-06 - val_loss: 2.0808e-06\n",
      "Epoch 24/100\n",
      "319999/319999 [==============================] - 2s 7us/step - loss: 2.0815e-06 - val_loss: 2.0787e-06\n",
      "Epoch 25/100\n",
      "319999/319999 [==============================] - 2s 7us/step - loss: 2.0796e-06 - val_loss: 2.0824e-06\n",
      "Epoch 26/100\n",
      "319999/319999 [==============================] - 2s 7us/step - loss: 2.0754e-06 - val_loss: 2.0701e-06\n",
      "Epoch 27/100\n",
      "319999/319999 [==============================] - 2s 7us/step - loss: 2.0742e-06 - val_loss: 2.0701e-06\n",
      "Epoch 28/100\n",
      "319999/319999 [==============================] - 2s 7us/step - loss: 2.0724e-06 - val_loss: 2.0708e-06\n",
      "Epoch 29/100\n",
      "319999/319999 [==============================] - 2s 7us/step - loss: 2.0684e-06 - val_loss: 2.0692e-06\n",
      "Epoch 30/100\n",
      "319999/319999 [==============================] - 2s 7us/step - loss: 2.0668e-06 - val_loss: 2.0640e-06\n",
      "Epoch 31/100\n",
      "319999/319999 [==============================] - 2s 7us/step - loss: 2.0648e-06 - val_loss: 2.0684e-06\n",
      "Epoch 32/100\n",
      "319999/319999 [==============================] - 2s 7us/step - loss: 2.0619e-06 - val_loss: 2.0652e-06\n"
     ]
    },
    {
     "data": {
      "text/plain": [
       "<keras.callbacks.callbacks.History at 0x2b59bddfff98>"
      ]
     },
     "execution_count": 38,
     "metadata": {},
     "output_type": "execute_result"
    }
   ],
   "source": [
    "ConfModel.trainable = False\n",
    "MeanModel.trainable = True\n",
    "CombinedModel.compile(loss=ConstantLikelihoodLossFunction,\n",
    "                      optimizer='adam'\n",
    "                     )\n",
    "#why does the loss only return not nan when I use this ...I'm guessing it has to do with the log...\n",
    "CombinedModel.fit(X_train,y_train,\n",
    "                  epochs=100,\n",
    "                  batch_size=1000,\n",
    "                  validation_split=0.2,\n",
    "                  callbacks = [es],\n",
    "                  sample_weight=weights\n",
    "                 )"
   ]
  },
  {
   "cell_type": "code",
   "execution_count": 39,
   "metadata": {},
   "outputs": [
    {
     "name": "stdout",
     "output_type": "stream",
     "text": [
      "Train on 359999 samples, validate on 40000 samples\n",
      "Epoch 1/100\n",
      "359999/359999 [==============================] - 2s 7us/step - loss: 2.0641e-06 - val_loss: 2.0391e-06\n",
      "Epoch 2/100\n",
      "359999/359999 [==============================] - 2s 6us/step - loss: 2.0641e-06 - val_loss: 2.0391e-06\n",
      "Epoch 3/100\n",
      "359999/359999 [==============================] - 2s 6us/step - loss: 2.0641e-06 - val_loss: 2.0391e-06\n",
      "Epoch 4/100\n",
      "359999/359999 [==============================] - 2s 6us/step - loss: 2.0641e-06 - val_loss: 2.0391e-06\n",
      "Epoch 5/100\n",
      "359999/359999 [==============================] - 2s 6us/step - loss: 2.0641e-06 - val_loss: 2.0391e-06\n",
      "Epoch 6/100\n",
      "359999/359999 [==============================] - 2s 6us/step - loss: 2.0641e-06 - val_loss: 2.0391e-06\n",
      "Epoch 7/100\n",
      "359999/359999 [==============================] - 2s 6us/step - loss: 2.0641e-06 - val_loss: 2.0391e-06\n",
      "Epoch 8/100\n",
      "359999/359999 [==============================] - 2s 6us/step - loss: 2.0641e-06 - val_loss: 2.0391e-06\n",
      "Epoch 9/100\n",
      "359999/359999 [==============================] - 2s 6us/step - loss: 2.0641e-06 - val_loss: 2.0391e-06\n",
      "Epoch 10/100\n",
      "359999/359999 [==============================] - 2s 6us/step - loss: 2.0641e-06 - val_loss: 2.0391e-06\n",
      "Epoch 11/100\n",
      "359999/359999 [==============================] - 2s 6us/step - loss: 2.0641e-06 - val_loss: 2.0391e-06\n",
      "Epoch 12/100\n",
      "359999/359999 [==============================] - 2s 6us/step - loss: 2.0641e-06 - val_loss: 2.0391e-06\n",
      "Epoch 13/100\n",
      "359999/359999 [==============================] - 2s 6us/step - loss: 2.0641e-06 - val_loss: 2.0391e-06\n",
      "Epoch 14/100\n",
      "359999/359999 [==============================] - 2s 6us/step - loss: 2.0641e-06 - val_loss: 2.0391e-06\n",
      "Epoch 15/100\n",
      "359999/359999 [==============================] - 2s 6us/step - loss: 2.0641e-06 - val_loss: 2.0391e-06\n",
      "Epoch 16/100\n",
      "359999/359999 [==============================] - 2s 6us/step - loss: 2.0641e-06 - val_loss: 2.0391e-06\n",
      "Epoch 17/100\n",
      "359999/359999 [==============================] - 2s 6us/step - loss: 2.0641e-06 - val_loss: 2.0391e-06\n",
      "Epoch 18/100\n",
      "359999/359999 [==============================] - 2s 6us/step - loss: 2.0641e-06 - val_loss: 2.0391e-06\n",
      "Epoch 19/100\n",
      "359999/359999 [==============================] - 2s 6us/step - loss: 2.0641e-06 - val_loss: 2.0391e-06\n",
      "Epoch 20/100\n",
      "359999/359999 [==============================] - 2s 6us/step - loss: 2.0641e-06 - val_loss: 2.0391e-06\n",
      "Epoch 21/100\n",
      "359999/359999 [==============================] - 2s 6us/step - loss: 2.0641e-06 - val_loss: 2.0391e-06\n",
      "Epoch 22/100\n",
      "359999/359999 [==============================] - 2s 6us/step - loss: 2.0641e-06 - val_loss: 2.0391e-06\n",
      "Epoch 23/100\n",
      "359999/359999 [==============================] - 2s 6us/step - loss: 2.0641e-06 - val_loss: 2.0391e-06\n",
      "Epoch 24/100\n",
      "359999/359999 [==============================] - 2s 6us/step - loss: 2.0641e-06 - val_loss: 2.0391e-06\n",
      "Epoch 25/100\n",
      "359999/359999 [==============================] - 2s 6us/step - loss: 2.0641e-06 - val_loss: 2.0391e-06\n",
      "Epoch 26/100\n",
      "359999/359999 [==============================] - 2s 6us/step - loss: 2.0641e-06 - val_loss: 2.0391e-06\n",
      "Epoch 27/100\n",
      "359999/359999 [==============================] - 2s 6us/step - loss: 2.0641e-06 - val_loss: 2.0391e-06\n",
      "Epoch 28/100\n",
      "359999/359999 [==============================] - 2s 6us/step - loss: 2.0641e-06 - val_loss: 2.0391e-06\n",
      "Epoch 29/100\n",
      "359999/359999 [==============================] - 2s 6us/step - loss: 2.0641e-06 - val_loss: 2.0391e-06\n",
      "Epoch 30/100\n",
      "359999/359999 [==============================] - 2s 6us/step - loss: 2.0641e-06 - val_loss: 2.0391e-06\n",
      "Epoch 31/100\n",
      "359999/359999 [==============================] - 2s 6us/step - loss: 2.0641e-06 - val_loss: 2.0391e-06\n",
      "Epoch 32/100\n",
      "359999/359999 [==============================] - 2s 7us/step - loss: 2.0641e-06 - val_loss: 2.0391e-06\n",
      "Epoch 33/100\n",
      "359999/359999 [==============================] - 2s 6us/step - loss: 2.0641e-06 - val_loss: 2.0391e-06\n",
      "Epoch 34/100\n",
      "359999/359999 [==============================] - 2s 6us/step - loss: 2.0641e-06 - val_loss: 2.0391e-06\n",
      "Epoch 35/100\n",
      "359999/359999 [==============================] - 2s 6us/step - loss: 2.0641e-06 - val_loss: 2.0391e-06\n",
      "Epoch 36/100\n",
      "359999/359999 [==============================] - 2s 6us/step - loss: 2.0641e-06 - val_loss: 2.0391e-06\n",
      "Epoch 37/100\n",
      "359999/359999 [==============================] - 2s 6us/step - loss: 2.0641e-06 - val_loss: 2.0391e-06\n",
      "Epoch 38/100\n",
      "359999/359999 [==============================] - 2s 6us/step - loss: 2.0641e-06 - val_loss: 2.0391e-06\n",
      "Epoch 39/100\n",
      "359999/359999 [==============================] - 2s 6us/step - loss: 2.0641e-06 - val_loss: 2.0391e-06\n",
      "Epoch 40/100\n",
      "359999/359999 [==============================] - 2s 6us/step - loss: 2.0641e-06 - val_loss: 2.0391e-06\n",
      "Epoch 41/100\n",
      "359999/359999 [==============================] - 2s 6us/step - loss: 2.0641e-06 - val_loss: 2.0391e-06\n",
      "Epoch 42/100\n",
      "359999/359999 [==============================] - 2s 6us/step - loss: 2.0641e-06 - val_loss: 2.0391e-06\n",
      "Epoch 43/100\n",
      "359999/359999 [==============================] - 2s 6us/step - loss: 2.0641e-06 - val_loss: 2.0391e-06\n",
      "Epoch 44/100\n",
      "359999/359999 [==============================] - 2s 6us/step - loss: 2.0641e-06 - val_loss: 2.0391e-06\n",
      "Epoch 45/100\n",
      "359999/359999 [==============================] - 2s 6us/step - loss: 2.0641e-06 - val_loss: 2.0391e-06\n",
      "Epoch 46/100\n",
      "359999/359999 [==============================] - 2s 6us/step - loss: 2.0641e-06 - val_loss: 2.0391e-06\n",
      "Epoch 47/100\n",
      "359999/359999 [==============================] - 2s 6us/step - loss: 2.0641e-06 - val_loss: 2.0391e-06\n",
      "Epoch 48/100\n",
      "359999/359999 [==============================] - 2s 6us/step - loss: 2.0641e-06 - val_loss: 2.0391e-06\n",
      "Epoch 49/100\n",
      "359999/359999 [==============================] - 2s 6us/step - loss: 2.0641e-06 - val_loss: 2.0391e-06\n",
      "Epoch 50/100\n",
      "359999/359999 [==============================] - 2s 6us/step - loss: 2.0641e-06 - val_loss: 2.0391e-06\n",
      "Epoch 51/100\n",
      "359999/359999 [==============================] - 2s 6us/step - loss: 2.0641e-06 - val_loss: 2.0391e-06\n",
      "Epoch 52/100\n",
      "359999/359999 [==============================] - 2s 6us/step - loss: 2.0641e-06 - val_loss: 2.0391e-06\n",
      "Epoch 53/100\n",
      "359999/359999 [==============================] - 2s 6us/step - loss: 2.0641e-06 - val_loss: 2.0391e-06\n",
      "Epoch 54/100\n",
      "359999/359999 [==============================] - 2s 6us/step - loss: 2.0641e-06 - val_loss: 2.0391e-06\n",
      "Epoch 55/100\n",
      "359999/359999 [==============================] - 2s 6us/step - loss: 2.0641e-06 - val_loss: 2.0391e-06\n",
      "Epoch 56/100\n",
      "359999/359999 [==============================] - 2s 6us/step - loss: 2.0641e-06 - val_loss: 2.0391e-06\n",
      "Epoch 57/100\n",
      "359999/359999 [==============================] - 2s 6us/step - loss: 2.0641e-06 - val_loss: 2.0391e-06\n",
      "Epoch 58/100\n",
      "359999/359999 [==============================] - 2s 6us/step - loss: 2.0641e-06 - val_loss: 2.0391e-06\n",
      "Epoch 59/100\n",
      "359999/359999 [==============================] - 2s 6us/step - loss: 2.0641e-06 - val_loss: 2.0391e-06\n",
      "Epoch 60/100\n",
      "359999/359999 [==============================] - 2s 6us/step - loss: 2.0641e-06 - val_loss: 2.0391e-06\n",
      "Epoch 61/100\n",
      "359999/359999 [==============================] - 2s 6us/step - loss: 2.0641e-06 - val_loss: 2.0391e-06\n",
      "Epoch 62/100\n",
      "359999/359999 [==============================] - 2s 6us/step - loss: 2.0641e-06 - val_loss: 2.0391e-06\n",
      "Epoch 63/100\n",
      "359999/359999 [==============================] - 2s 6us/step - loss: 2.0641e-06 - val_loss: 2.0391e-06\n",
      "Epoch 64/100\n",
      "359999/359999 [==============================] - 2s 6us/step - loss: 2.0641e-06 - val_loss: 2.0391e-06\n",
      "Epoch 65/100\n",
      "359999/359999 [==============================] - 2s 6us/step - loss: 2.0641e-06 - val_loss: 2.0391e-06\n",
      "Epoch 66/100\n",
      "359999/359999 [==============================] - 2s 6us/step - loss: 2.0641e-06 - val_loss: 2.0391e-06\n",
      "Epoch 67/100\n",
      "359999/359999 [==============================] - 2s 6us/step - loss: 2.0641e-06 - val_loss: 2.0391e-06\n",
      "Epoch 68/100\n",
      "359999/359999 [==============================] - 2s 6us/step - loss: 2.0641e-06 - val_loss: 2.0391e-06\n",
      "Epoch 69/100\n",
      "359999/359999 [==============================] - 2s 6us/step - loss: 2.0641e-06 - val_loss: 2.0391e-06\n",
      "Epoch 70/100\n",
      "359999/359999 [==============================] - 2s 6us/step - loss: 2.0641e-06 - val_loss: 2.0391e-06\n",
      "Epoch 71/100\n",
      "359999/359999 [==============================] - 2s 6us/step - loss: 2.0641e-06 - val_loss: 2.0391e-06\n",
      "Epoch 72/100\n",
      "359999/359999 [==============================] - 2s 6us/step - loss: 2.0641e-06 - val_loss: 2.0391e-06\n",
      "Epoch 73/100\n",
      "359999/359999 [==============================] - 2s 6us/step - loss: 2.0641e-06 - val_loss: 2.0391e-06\n",
      "Epoch 74/100\n",
      "359999/359999 [==============================] - 2s 6us/step - loss: 2.0641e-06 - val_loss: 2.0391e-06\n",
      "Epoch 75/100\n",
      "359999/359999 [==============================] - 2s 6us/step - loss: 2.0641e-06 - val_loss: 2.0391e-06\n",
      "Epoch 76/100\n",
      "359999/359999 [==============================] - 2s 6us/step - loss: 2.0641e-06 - val_loss: 2.0391e-06\n",
      "Epoch 77/100\n",
      "359999/359999 [==============================] - 2s 6us/step - loss: 2.0641e-06 - val_loss: 2.0391e-06\n",
      "Epoch 78/100\n",
      "359999/359999 [==============================] - 2s 6us/step - loss: 2.0641e-06 - val_loss: 2.0391e-06\n",
      "Epoch 79/100\n",
      "359999/359999 [==============================] - 2s 6us/step - loss: 2.0641e-06 - val_loss: 2.0391e-06\n",
      "Epoch 80/100\n",
      "359999/359999 [==============================] - 2s 6us/step - loss: 2.0641e-06 - val_loss: 2.0391e-06\n",
      "Epoch 81/100\n",
      "359999/359999 [==============================] - 2s 6us/step - loss: 2.0641e-06 - val_loss: 2.0391e-06\n",
      "Epoch 82/100\n",
      "359999/359999 [==============================] - 2s 6us/step - loss: 2.0641e-06 - val_loss: 2.0391e-06\n",
      "Epoch 83/100\n",
      "359999/359999 [==============================] - 2s 6us/step - loss: 2.0641e-06 - val_loss: 2.0391e-06\n",
      "Epoch 84/100\n",
      "359999/359999 [==============================] - 2s 6us/step - loss: 2.0641e-06 - val_loss: 2.0391e-06\n",
      "Epoch 85/100\n",
      "359999/359999 [==============================] - 2s 7us/step - loss: 2.0641e-06 - val_loss: 2.0391e-06\n",
      "Epoch 86/100\n",
      "359999/359999 [==============================] - 2s 6us/step - loss: 2.0641e-06 - val_loss: 2.0391e-06\n",
      "Epoch 87/100\n",
      "359999/359999 [==============================] - 2s 6us/step - loss: 2.0641e-06 - val_loss: 2.0391e-06\n",
      "Epoch 88/100\n",
      "359999/359999 [==============================] - 2s 6us/step - loss: 2.0641e-06 - val_loss: 2.0391e-06\n",
      "Epoch 89/100\n",
      "359999/359999 [==============================] - 2s 6us/step - loss: 2.0641e-06 - val_loss: 2.0391e-06\n",
      "Epoch 90/100\n",
      "359999/359999 [==============================] - 2s 6us/step - loss: 2.0641e-06 - val_loss: 2.0391e-06\n",
      "Epoch 91/100\n",
      "359999/359999 [==============================] - 2s 6us/step - loss: 2.0641e-06 - val_loss: 2.0391e-06\n",
      "Epoch 92/100\n",
      "359999/359999 [==============================] - 2s 6us/step - loss: 2.0641e-06 - val_loss: 2.0391e-06\n",
      "Epoch 93/100\n",
      "359999/359999 [==============================] - 2s 6us/step - loss: 2.0641e-06 - val_loss: 2.0391e-06\n",
      "Epoch 94/100\n",
      "359999/359999 [==============================] - 2s 6us/step - loss: 2.0641e-06 - val_loss: 2.0391e-06\n",
      "Epoch 95/100\n",
      "359999/359999 [==============================] - 2s 6us/step - loss: 2.0641e-06 - val_loss: 2.0391e-06\n",
      "Epoch 96/100\n",
      "359999/359999 [==============================] - 2s 6us/step - loss: 2.0641e-06 - val_loss: 2.0391e-06\n",
      "Epoch 97/100\n",
      "359999/359999 [==============================] - 2s 6us/step - loss: 2.0641e-06 - val_loss: 2.0391e-06\n",
      "Epoch 98/100\n",
      "359999/359999 [==============================] - 2s 6us/step - loss: 2.0641e-06 - val_loss: 2.0391e-06\n",
      "Epoch 99/100\n",
      "359999/359999 [==============================] - 2s 6us/step - loss: 2.0641e-06 - val_loss: 2.0391e-06\n",
      "Epoch 100/100\n",
      "359999/359999 [==============================] - 2s 6us/step - loss: 2.0641e-06 - val_loss: 2.0391e-06\n"
     ]
    },
    {
     "data": {
      "text/plain": [
       "<keras.callbacks.callbacks.History at 0x2b59bdfd5dd8>"
      ]
     },
     "execution_count": 39,
     "metadata": {},
     "output_type": "execute_result"
    }
   ],
   "source": [
    "ConfModel.trainable = True\n",
    "MeanModel.trainable = False\n",
    "CombinedModel.compile(loss=ConstantLikelihoodLossFunction,\n",
    "                      optimizer='adam'\n",
    "                     )\n",
    "\n",
    "CombinedModel.fit(X_train,y_train,\n",
    "                  epochs=100,\n",
    "                  batch_size=1000,\n",
    "                  validation_split=0.1,\n",
    "                  sample_weight=weights\n",
    "                 )"
   ]
  },
  {
   "cell_type": "code",
   "execution_count": 40,
   "metadata": {},
   "outputs": [
    {
     "data": {
      "image/png": "[encoded data removed]",
      "text/plain": [
       "<Figure size 320x320 with 1 Axes>"
      ]
     },
     "metadata": {
      "needs_background": "light"
     },
     "output_type": "display_data"
    }
   ],
   "source": [
    "test_preds_2 = CombinedModel.predict(X_test)\n",
    "plt.figure()\n",
    "plt.hist(test_preds_2[:,0], bins=50, range=(-1,1), histtype='step')\n",
    "plt.hist(y_test, bins=50, range=(-1,1), histtype='step')\n",
    "plt.xlabel('Vr')\n",
    "plt.ylabel('Stars')\n",
    "plt.title('Test set - simulated data')\n",
    "plt.yscale('log')\n",
    "plt.show()"
   ]
  },
  {
   "cell_type": "code",
   "execution_count": 41,
   "metadata": {},
   "outputs": [
    {
     "name": "stdout",
     "output_type": "stream",
     "text": [
      "[0.06595372 0.0240884  0.345829   0.15483928 0.26800388 0.\n",
      " 0.02638164 0.         0.0239196  0.22662395 0.         0.05222145\n",
      " 0.         0.11270066 0.         0.         0.         0.\n",
      " 0.         0.03605304 0.         0.1648176  0.23834844 0.02976759\n",
      " 0.21562138 0.30516794 0.         0.15043741 0.08190972 0.38090563\n",
      " 0.23745126 0.20411548 0.         0.2306909  0.         0.\n",
      " 0.03459372 0.         0.         0.         0.24769066 0.19430971\n",
      " 0.         0.         0.         0.         0.07134126 0.\n",
      " 0.        ]\n"
     ]
    },
    {
     "data": {
      "text/plain": [
       "Text(0, 0.5, 'Error on Vr predicted')"
      ]
     },
     "execution_count": 41,
     "metadata": {},
     "output_type": "execute_result"
    },
    {
     "data": {
      "image/png": "[encoded data removed]",
      "text/plain": [
       "<Figure size 320x320 with 1 Axes>"
      ]
     },
     "metadata": {
      "needs_background": "light"
     },
     "output_type": "display_data"
    }
   ],
   "source": [
    "print(test_preds_2[1:50,1])\n",
    "plt.scatter(X_test[1:100,2], test_preds_2[1:100,1], color = 'red')\n",
    "#plt.errorbar(X_test[1:50,2], test_preds_2[1:50,0], yerr = test_preds_2[1:50,1], color = 'red',ls='none')\n",
    "plt.xlabel('Distance')\n",
    "plt.ylabel('Error on Vr predicted')\n",
    "#does give a relu output...but I'm still not sure if this is exactly showing the error"
   ]
  },
  {
   "cell_type": "code",
   "execution_count": 43,
   "metadata": {},
   "outputs": [
    {
     "data": {
      "text/plain": [
       "Text(0.5, 0, 'Vr real')"
      ]
     },
     "execution_count": 43,
     "metadata": {},
     "output_type": "execute_result"
    },
    {
     "data": {
      "image/png": "[encoded data removed]",
      "text/plain": [
       "<Figure size 320x320 with 1 Axes>"
      ]
     },
     "metadata": {
      "needs_background": "light"
     },
     "output_type": "display_data"
    }
   ],
   "source": [
    "plt.errorbar(y_test, test_preds_2[:,0], yerr = test_preds_2[:,1], color = 'red',ls='none')\n",
    "plt.scatter(y_test, test_preds_2[:,0])\n",
    "plt.plot(x1,y1,'k--')\n",
    "plt.ylabel('Vr predicted')\n",
    "plt.xlabel('Vr real')"
   ]
  },
  {
   "cell_type": "markdown",
   "metadata": {},
   "source": [
    "Should also do a density plot for this one. Also plot loss function for second method (will need to include output for .fit). "
   ]
  },
  {
   "cell_type": "code",
   "execution_count": null,
   "metadata": {},
   "outputs": [],
   "source": []
  },
  {
   "cell_type": "code",
   "execution_count": null,
   "metadata": {},
   "outputs": [],
   "source": []
  }
 ],
 "metadata": {
  "kernelspec": {
   "display_name": "venv_ML",
   "language": "python",
   "name": "venv_ml"
  },
  "language_info": {
   "codemirror_mode": {
    "name": "ipython",
    "version": 3
   },
   "file_extension": ".py",
   "mimetype": "text/x-python",
   "name": "python",
   "nbconvert_exporter": "python",
   "pygments_lexer": "ipython3",
   "version": "3.6.10"
  }
 },
 "nbformat": 4,
 "nbformat_minor": 4
}
