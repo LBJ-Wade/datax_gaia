{
 "cells": [
  {
   "cell_type": "markdown",
   "metadata": {},
   "source": [
    "# ML to find radial velocities using FIRE data"
   ]
  },
  {
   "cell_type": "code",
   "execution_count": 1,
   "metadata": {},
   "outputs": [],
   "source": [
    "%matplotlib inline\n",
    "\n",
    "import matplotlib\n",
    "import matplotlib.colors as colors\n",
    "\n",
    "import pandas as pd\n",
    "import numpy as np\n",
    "import matplotlib.pyplot as plt\n",
    "import os.path\n",
    "import sys\n",
    "import gzip\n",
    "import matplotlib.gridspec as gridspec\n",
    "\n",
    "matplotlib.rcParams.update({'font.family':'cmr10','font.size': 13})\n",
    "matplotlib.rcParams['axes.unicode_minus']=False\n",
    "matplotlib.rcParams['axes.labelsize']=15\n",
    "plt.rcParams['figure.figsize']=(4,4)\n",
    "plt.rcParams['figure.dpi'] = 80\n",
    "plt.rcParams['mathtext.fontset'] = 'cm'\n",
    "plt.rcParams['mathtext.rm'] = 'serif'\n",
    "plt.rcParams['xtick.direction'] = 'in'\n",
    "plt.rcParams['ytick.direction'] = 'in'\n",
    "plt.rcParams['xtick.top'] = True\n",
    "plt.rcParams['ytick.right'] = True"
   ]
  },
  {
   "cell_type": "code",
   "execution_count": 2,
   "metadata": {},
   "outputs": [],
   "source": [
    "data = np.load('StarsWithRadialVelocity.npy')"
   ]
  },
  {
   "cell_type": "code",
   "execution_count": 3,
   "metadata": {},
   "outputs": [],
   "source": [
    "data_cols = ['l', 'b','ra', 'dec', 'pmra', 'pmdec', 'parallax', 'radial_velocity',\n",
    "             'phot_g_mean_mag', 'phot_bp_mean_mag', 'phot_rp_mean_mag',\n",
    "             'pmra_error', 'pmdec_error', 'parallax_error', 'radial_velocity_error',\n",
    "             'phot_g_mean_mag_error', 'phot_bp_mean_mag_error', 'phot_rp_mean_mag_error',\n",
    "             'AccretedLabel'\n",
    "            ]"
   ]
  },
  {
   "cell_type": "code",
   "execution_count": 4,
   "metadata": {},
   "outputs": [],
   "source": [
    "data = pd.DataFrame(data, columns=data_cols)"
   ]
  },
  {
   "cell_type": "code",
   "execution_count": 5,
   "metadata": {},
   "outputs": [
    {
     "data": {
      "text/plain": [
       "(11400846, 19)"
      ]
     },
     "execution_count": 5,
     "metadata": {},
     "output_type": "execute_result"
    }
   ],
   "source": [
    "data.shape"
   ]
  },
  {
   "cell_type": "code",
   "execution_count": 6,
   "metadata": {},
   "outputs": [
    {
     "data": {
      "text/html": [
       "<div>\n",
       "<style scoped>\n",
       "    .dataframe tbody tr th:only-of-type {\n",
       "        vertical-align: middle;\n",
       "    }\n",
       "\n",
       "    .dataframe tbody tr th {\n",
       "        vertical-align: top;\n",
       "    }\n",
       "\n",
       "    .dataframe thead th {\n",
       "        text-align: right;\n",
       "    }\n",
       "</style>\n",
       "<table border=\"1\" class=\"dataframe\">\n",
       "  <thead>\n",
       "    <tr style=\"text-align: right;\">\n",
       "      <th></th>\n",
       "      <th>l</th>\n",
       "      <th>b</th>\n",
       "      <th>ra</th>\n",
       "      <th>dec</th>\n",
       "      <th>pmra</th>\n",
       "      <th>pmdec</th>\n",
       "      <th>parallax</th>\n",
       "      <th>radial_velocity</th>\n",
       "      <th>phot_g_mean_mag</th>\n",
       "      <th>phot_bp_mean_mag</th>\n",
       "      <th>phot_rp_mean_mag</th>\n",
       "      <th>pmra_error</th>\n",
       "      <th>pmdec_error</th>\n",
       "      <th>parallax_error</th>\n",
       "      <th>radial_velocity_error</th>\n",
       "      <th>phot_g_mean_mag_error</th>\n",
       "      <th>phot_bp_mean_mag_error</th>\n",
       "      <th>phot_rp_mean_mag_error</th>\n",
       "      <th>AccretedLabel</th>\n",
       "    </tr>\n",
       "  </thead>\n",
       "  <tbody>\n",
       "    <tr>\n",
       "      <th>0</th>\n",
       "      <td>18.947771</td>\n",
       "      <td>17.087326</td>\n",
       "      <td>261.281075</td>\n",
       "      <td>-4.105546</td>\n",
       "      <td>0.304014</td>\n",
       "      <td>-2.012651</td>\n",
       "      <td>0.443537</td>\n",
       "      <td>44.472788</td>\n",
       "      <td>14.384683</td>\n",
       "      <td>14.678857</td>\n",
       "      <td>13.931516</td>\n",
       "      <td>0.091557</td>\n",
       "      <td>0.091557</td>\n",
       "      <td>0.044116</td>\n",
       "      <td>9.908263</td>\n",
       "      <td>0.000611</td>\n",
       "      <td>0.003929</td>\n",
       "      <td>0.003929</td>\n",
       "      <td>0.0</td>\n",
       "    </tr>\n",
       "    <tr>\n",
       "      <th>1</th>\n",
       "      <td>-4.978819</td>\n",
       "      <td>-41.542610</td>\n",
       "      <td>315.656827</td>\n",
       "      <td>-45.372252</td>\n",
       "      <td>15.768343</td>\n",
       "      <td>-16.975898</td>\n",
       "      <td>1.369992</td>\n",
       "      <td>-120.045033</td>\n",
       "      <td>12.405884</td>\n",
       "      <td>12.633657</td>\n",
       "      <td>12.030871</td>\n",
       "      <td>0.087001</td>\n",
       "      <td>0.087001</td>\n",
       "      <td>0.042780</td>\n",
       "      <td>2.036502</td>\n",
       "      <td>0.000342</td>\n",
       "      <td>0.002105</td>\n",
       "      <td>0.002105</td>\n",
       "      <td>0.0</td>\n",
       "    </tr>\n",
       "    <tr>\n",
       "      <th>2</th>\n",
       "      <td>-137.539419</td>\n",
       "      <td>-47.311996</td>\n",
       "      <td>60.814237</td>\n",
       "      <td>-25.789371</td>\n",
       "      <td>5.542696</td>\n",
       "      <td>9.388474</td>\n",
       "      <td>0.597262</td>\n",
       "      <td>83.063864</td>\n",
       "      <td>14.347357</td>\n",
       "      <td>14.619976</td>\n",
       "      <td>13.923520</td>\n",
       "      <td>0.091365</td>\n",
       "      <td>0.091365</td>\n",
       "      <td>0.044055</td>\n",
       "      <td>9.917098</td>\n",
       "      <td>0.000602</td>\n",
       "      <td>0.003861</td>\n",
       "      <td>0.003861</td>\n",
       "      <td>0.0</td>\n",
       "    </tr>\n",
       "    <tr>\n",
       "      <th>3</th>\n",
       "      <td>-68.315598</td>\n",
       "      <td>-32.353069</td>\n",
       "      <td>71.998054</td>\n",
       "      <td>-78.933526</td>\n",
       "      <td>14.320530</td>\n",
       "      <td>-13.669455</td>\n",
       "      <td>0.862436</td>\n",
       "      <td>-106.062495</td>\n",
       "      <td>14.062039</td>\n",
       "      <td>14.311761</td>\n",
       "      <td>13.648176</td>\n",
       "      <td>0.090130</td>\n",
       "      <td>0.090130</td>\n",
       "      <td>0.043668</td>\n",
       "      <td>7.792049</td>\n",
       "      <td>0.000544</td>\n",
       "      <td>0.003407</td>\n",
       "      <td>0.003407</td>\n",
       "      <td>0.0</td>\n",
       "    </tr>\n",
       "    <tr>\n",
       "      <th>4</th>\n",
       "      <td>85.879721</td>\n",
       "      <td>-52.988838</td>\n",
       "      <td>351.547535</td>\n",
       "      <td>3.638489</td>\n",
       "      <td>2.937268</td>\n",
       "      <td>5.109022</td>\n",
       "      <td>1.510236</td>\n",
       "      <td>-23.143291</td>\n",
       "      <td>14.677980</td>\n",
       "      <td>15.082906</td>\n",
       "      <td>14.107460</td>\n",
       "      <td>0.093275</td>\n",
       "      <td>0.093275</td>\n",
       "      <td>0.044678</td>\n",
       "      <td>11.110764</td>\n",
       "      <td>0.000683</td>\n",
       "      <td>0.004529</td>\n",
       "      <td>0.004529</td>\n",
       "      <td>0.0</td>\n",
       "    </tr>\n",
       "  </tbody>\n",
       "</table>\n",
       "</div>"
      ],
      "text/plain": [
       "            l          b          ra        dec       pmra      pmdec  \\\n",
       "0   18.947771  17.087326  261.281075  -4.105546   0.304014  -2.012651   \n",
       "1   -4.978819 -41.542610  315.656827 -45.372252  15.768343 -16.975898   \n",
       "2 -137.539419 -47.311996   60.814237 -25.789371   5.542696   9.388474   \n",
       "3  -68.315598 -32.353069   71.998054 -78.933526  14.320530 -13.669455   \n",
       "4   85.879721 -52.988838  351.547535   3.638489   2.937268   5.109022   \n",
       "\n",
       "   parallax  radial_velocity  phot_g_mean_mag  phot_bp_mean_mag  \\\n",
       "0  0.443537        44.472788        14.384683         14.678857   \n",
       "1  1.369992      -120.045033        12.405884         12.633657   \n",
       "2  0.597262        83.063864        14.347357         14.619976   \n",
       "3  0.862436      -106.062495        14.062039         14.311761   \n",
       "4  1.510236       -23.143291        14.677980         15.082906   \n",
       "\n",
       "   phot_rp_mean_mag  pmra_error  pmdec_error  parallax_error  \\\n",
       "0         13.931516    0.091557     0.091557        0.044116   \n",
       "1         12.030871    0.087001     0.087001        0.042780   \n",
       "2         13.923520    0.091365     0.091365        0.044055   \n",
       "3         13.648176    0.090130     0.090130        0.043668   \n",
       "4         14.107460    0.093275     0.093275        0.044678   \n",
       "\n",
       "   radial_velocity_error  phot_g_mean_mag_error  phot_bp_mean_mag_error  \\\n",
       "0               9.908263               0.000611                0.003929   \n",
       "1               2.036502               0.000342                0.002105   \n",
       "2               9.917098               0.000602                0.003861   \n",
       "3               7.792049               0.000544                0.003407   \n",
       "4              11.110764               0.000683                0.004529   \n",
       "\n",
       "   phot_rp_mean_mag_error  AccretedLabel  \n",
       "0                0.003929            0.0  \n",
       "1                0.002105            0.0  \n",
       "2                0.003861            0.0  \n",
       "3                0.003407            0.0  \n",
       "4                0.004529            0.0  "
      ]
     },
     "execution_count": 6,
     "metadata": {},
     "output_type": "execute_result"
    }
   ],
   "source": [
    "data.head()\n"
   ]
  },
  {
   "cell_type": "code",
   "execution_count": 7,
   "metadata": {},
   "outputs": [],
   "source": [
    "from sklearn.preprocessing import StandardScaler\n",
    "from sklearn.model_selection import train_test_split\n",
    "from scipy.interpolate import interp1d"
   ]
  },
  {
   "cell_type": "code",
   "execution_count": 8,
   "metadata": {},
   "outputs": [],
   "source": [
    "# What columns to use?\n",
    "use_cols = ['l', 'b','parallax','pmra','pmdec']\n",
    "# Make the design matrix\n",
    "X = data[use_cols].values\n",
    "Y = (data['radial_velocity']).values\n"
   ]
  },
  {
   "cell_type": "code",
   "execution_count": 9,
   "metadata": {},
   "outputs": [],
   "source": [
    "X_train, X_test, y_train, y_test = train_test_split(X[1:500000], Y[1:500000],\n",
    "                                                    test_size = 0.2,\n",
    "                                                    random_state=42)"
   ]
  },
  {
   "cell_type": "code",
   "execution_count": 10,
   "metadata": {},
   "outputs": [],
   "source": [
    "#trying to add some weights to training data\n",
    "vr_real = y_train\n",
    "counts, bins = np.histogram(vr_real,bins=np.linspace(-850,850,101))\n",
    "bin_centers = (bins[1:]+bins[:-1])/2\n",
    "interp_func = interp1d(bin_centers,(counts).astype('float'))\n",
    "inv_weights = interp_func(vr_real)\n",
    "weights = 1/inv_weights"
   ]
  },
  {
   "cell_type": "code",
   "execution_count": 11,
   "metadata": {},
   "outputs": [
    {
     "name": "stdout",
     "output_type": "stream",
     "text": [
      "(399999, 5)\n",
      "(399999,)\n",
      "There are -1438120.796128343 stars in the training set\n",
      "\n",
      "(100000, 5)\n",
      "(100000,)\n",
      "There are -351178.2908281403 stars in the test set\n"
     ]
    }
   ],
   "source": [
    "print(X_train.shape)\n",
    "print(y_train.shape)\n",
    "print('There are {0} stars in the training set'.format(np.sum(y_train)))\n",
    "print()\n",
    "print(X_test.shape)\n",
    "print(y_test.shape)\n",
    "print('There are {0} stars in the test set'.format(np.sum(y_test)))"
   ]
  },
  {
   "cell_type": "markdown",
   "metadata": {},
   "source": [
    "I think this is giving me a negative output because it's summing over y_train, which is not the number of stars, but is instead the radial velocities. "
   ]
  },
  {
   "cell_type": "code",
   "execution_count": 12,
   "metadata": {},
   "outputs": [],
   "source": [
    "SS = StandardScaler()\n",
    "X_train = SS.fit_transform(X_train)"
   ]
  },
  {
   "cell_type": "code",
   "execution_count": 13,
   "metadata": {},
   "outputs": [],
   "source": [
    "# Now scale the test data using the same mean and standard deviation as found with the training data\n",
    "X_test = SS.transform(X_test)"
   ]
  },
  {
   "cell_type": "code",
   "execution_count": 14,
   "metadata": {},
   "outputs": [
    {
     "name": "stderr",
     "output_type": "stream",
     "text": [
      "Font 'default' does not have a glyph for '\\\\times' [U+d7], substituting with a dummy symbol.\n",
      "Font 'default' does not have a glyph for '\\\\times' [U+d7], substituting with a dummy symbol.\n",
      "Font 'default' does not have a glyph for '\\\\times' [U+d7], substituting with a dummy symbol.\n",
      "Font 'default' does not have a glyph for '\\\\times' [U+d7], substituting with a dummy symbol.\n"
     ]
    },
    {
     "data": {
      "image/png": "[encoded data removed]",
      "text/plain": [
       "<Figure size 480x240 with 2 Axes>"
      ]
     },
     "metadata": {
      "needs_background": "light"
     },
     "output_type": "display_data"
    },
    {
     "data": {
      "image/png": "[encoded data removed]",
      "text/plain": [
       "<Figure size 480x240 with 2 Axes>"
      ]
     },
     "metadata": {
      "needs_background": "light"
     },
     "output_type": "display_data"
    },
    {
     "data": {
      "image/png": "[encoded data removed]",
      "text/plain": [
       "<Figure size 480x240 with 2 Axes>"
      ]
     },
     "metadata": {
      "needs_background": "light"
     },
     "output_type": "display_data"
    },
    {
     "data": {
      "image/png": "[encoded data removed]",
      "text/plain": [
       "<Figure size 480x240 with 2 Axes>"
      ]
     },
     "metadata": {
      "needs_background": "light"
     },
     "output_type": "display_data"
    },
    {
     "data": {
      "image/png": "[encoded data removed]",
      "text/plain": [
       "<Figure size 480x240 with 2 Axes>"
      ]
     },
     "metadata": {
      "needs_background": "light"
     },
     "output_type": "display_data"
    }
   ],
   "source": [
    "#visualize check data\n",
    "for i, col in enumerate(use_cols):\n",
    "    plt.figure(figsize=(6, 3))\n",
    "    plt.subplot(1,2,1)\n",
    "    plt.hist(data[col], bins=100)\n",
    "    plt.yscale('log')\n",
    "    plt.title('Data')\n",
    "    \n",
    "    plt.subplot(1,2,2)\n",
    "    plt.hist(X_train[:, i], bins=100, alpha=0.5)\n",
    "    plt.hist(X_test[:, i], bins=100, alpha=0.5)\n",
    "    plt.yscale('log')\n",
    "    plt.title('Scaled')\n",
    "    \n",
    "    plt.suptitle(col, y=1.01, fontsize=16)\n",
    "    \n",
    "    plt.tight_layout()"
   ]
  },
  {
   "cell_type": "code",
   "execution_count": 15,
   "metadata": {},
   "outputs": [
    {
     "name": "stderr",
     "output_type": "stream",
     "text": [
      "Using TensorFlow backend.\n"
     ]
    }
   ],
   "source": [
    "from keras.models import Sequential\n",
    "from keras.layers import Dense\n",
    "from keras.callbacks import EarlyStopping, ModelCheckpoint\n",
    "from keras.optimizers import Adam"
   ]
  },
  {
   "cell_type": "code",
   "execution_count": 16,
   "metadata": {},
   "outputs": [],
   "source": [
    "from keras import backend as K"
   ]
  },
  {
   "cell_type": "code",
   "execution_count": 17,
   "metadata": {},
   "outputs": [],
   "source": [
    "def LikelihoodLossFunction(y_true, y_pred):\n",
    "    # shape of y_pred should be (nsamples, 2)\n",
    "    # the first column should be the mean of the prediction\n",
    "    # the second column is the confidence (number of standard deviations)\n",
    "#     print y_true.shape\n",
    "#     print y_pred.shape\n",
    "    SIGMA = K.abs(y_pred[:, 1])\n",
    "    LOC = y_pred[:, 0]\n",
    "    X = y_true[:, 0]\n",
    "    \n",
    "    ARG = K.square(X - LOC) / (2 * K.square(SIGMA))\n",
    "    PREFACT = K.log(K.pow(2 * np.pi * K.square(SIGMA), -0.5))\n",
    "    #you get this from the conditional probability distribution\n",
    "    return K.mean(ARG - PREFACT)\n",
    "#returns [vr predicted, sigma]"
   ]
  },
  {
   "cell_type": "code",
   "execution_count": 18,
   "metadata": {},
   "outputs": [],
   "source": [
    "MyModel = Sequential()\n",
    "MyModel.add(Dense(units=100, activation='relu', input_dim=X_train.shape[1]))\n",
    "MyModel.add(Dense(units=100, activation='relu'))\n",
    "MyModel.add(Dense(units=100, activation='relu'))\n",
    "MyModel.add(Dense(units=2))\n",
    "#using tanh activation function in the last layer\n",
    "#MyModel.compile(loss='mean_squared_error',\n",
    "               # optimizer='adam'\n",
    "              # )\n",
    "MyModel.compile(loss=LikelihoodLossFunction,\n",
    "                optimizer='adam'\n",
    "               )"
   ]
  },
  {
   "cell_type": "code",
   "execution_count": 19,
   "metadata": {},
   "outputs": [
    {
     "name": "stdout",
     "output_type": "stream",
     "text": [
      "Model: \"sequential_1\"\n",
      "_________________________________________________________________\n",
      "Layer (type)                 Output Shape              Param #   \n",
      "=================================================================\n",
      "dense_1 (Dense)              (None, 100)               600       \n",
      "_________________________________________________________________\n",
      "dense_2 (Dense)              (None, 100)               10100     \n",
      "_________________________________________________________________\n",
      "dense_3 (Dense)              (None, 100)               10100     \n",
      "_________________________________________________________________\n",
      "dense_4 (Dense)              (None, 2)                 202       \n",
      "=================================================================\n",
      "Total params: 21,002\n",
      "Trainable params: 21,002\n",
      "Non-trainable params: 0\n",
      "_________________________________________________________________\n"
     ]
    }
   ],
   "source": [
    "MyModel.summary()"
   ]
  },
  {
   "cell_type": "code",
   "execution_count": 20,
   "metadata": {},
   "outputs": [],
   "source": [
    "#training any checkpoint or early stopping? \n",
    "es = EarlyStopping(patience=2, restore_best_weights=True)"
   ]
  },
  {
   "cell_type": "code",
   "execution_count": 22,
   "metadata": {},
   "outputs": [
    {
     "name": "stdout",
     "output_type": "stream",
     "text": [
      "Train on 319999 samples, validate on 80000 samples\n",
      "Epoch 1/300\n",
      "319999/319999 [==============================] - 2s 6us/step - loss: 311018.0931 - val_loss: 0.3403\n",
      "Epoch 2/300\n",
      "319999/319999 [==============================] - 2s 6us/step - loss: 0.2182 - val_loss: 0.1399\n",
      "Epoch 3/300\n",
      "319999/319999 [==============================] - 2s 6us/step - loss: 0.1107 - val_loss: 0.0844\n",
      "Epoch 4/300\n",
      "319999/319999 [==============================] - 2s 6us/step - loss: 0.0721 - val_loss: 0.0591\n",
      "Epoch 5/300\n",
      "319999/319999 [==============================] - 2s 6us/step - loss: 0.0523 - val_loss: 0.0443\n",
      "Epoch 6/300\n",
      "319999/319999 [==============================] - 2s 6us/step - loss: 0.0377 - val_loss: 0.0284\n",
      "Epoch 7/300\n",
      "319999/319999 [==============================] - 2s 6us/step - loss: 0.0215 - val_loss: 0.0153\n",
      "Epoch 8/300\n",
      "319999/319999 [==============================] - 2s 6us/step - loss: 0.0125 - val_loss: 0.0098\n",
      "Epoch 9/300\n",
      "319999/319999 [==============================] - 2s 6us/step - loss: 0.0085 - val_loss: 0.0071\n",
      "Epoch 10/300\n",
      "319999/319999 [==============================] - 2s 6us/step - loss: 0.0064 - val_loss: 0.0055\n",
      "Epoch 11/300\n",
      "319999/319999 [==============================] - 2s 6us/step - loss: 0.0051 - val_loss: 0.0045\n",
      "Epoch 12/300\n",
      "319999/319999 [==============================] - 2s 6us/step - loss: 0.0042 - val_loss: 0.0038\n",
      "Epoch 13/300\n",
      "319999/319999 [==============================] - 2s 6us/step - loss: 0.0036 - val_loss: 0.0032\n",
      "Epoch 14/300\n",
      "319999/319999 [==============================] - 2s 6us/step - loss: 0.0031 - val_loss: 0.0028\n",
      "Epoch 15/300\n",
      "319999/319999 [==============================] - 2s 6us/step - loss: 0.0027 - val_loss: 0.0025\n",
      "Epoch 16/300\n",
      "319999/319999 [==============================] - 2s 6us/step - loss: 0.0025 - val_loss: 0.0023\n",
      "Epoch 17/300\n",
      "319999/319999 [==============================] - 2s 6us/step - loss: 0.0022 - val_loss: 0.0021\n",
      "Epoch 18/300\n",
      "319999/319999 [==============================] - 2s 6us/step - loss: 0.0021 - val_loss: 0.0019\n",
      "Epoch 19/300\n",
      "319999/319999 [==============================] - 2s 6us/step - loss: 0.0019 - val_loss: 0.0018\n",
      "Epoch 20/300\n",
      "319999/319999 [==============================] - 2s 6us/step - loss: 0.0018 - val_loss: 0.0017\n",
      "Epoch 21/300\n",
      "319999/319999 [==============================] - 2s 6us/step - loss: 0.0017 - val_loss: 0.0016\n",
      "Epoch 22/300\n",
      "319999/319999 [==============================] - 2s 6us/step - loss: 0.0016 - val_loss: 0.0015\n",
      "Epoch 23/300\n",
      "319999/319999 [==============================] - 2s 6us/step - loss: 0.0015 - val_loss: 0.0014\n",
      "Epoch 24/300\n",
      "319999/319999 [==============================] - 2s 6us/step - loss: 0.0014 - val_loss: 0.0013\n",
      "Epoch 25/300\n",
      "319999/319999 [==============================] - 2s 6us/step - loss: 0.0014 - val_loss: 0.0013\n",
      "Epoch 26/300\n",
      "319999/319999 [==============================] - 2s 6us/step - loss: 0.0013 - val_loss: 0.0013\n",
      "Epoch 27/300\n",
      "319999/319999 [==============================] - 2s 6us/step - loss: 0.0013 - val_loss: 0.0012\n",
      "Epoch 28/300\n",
      "319999/319999 [==============================] - 2s 6us/step - loss: 0.0012 - val_loss: 0.0012\n",
      "Epoch 29/300\n",
      "319999/319999 [==============================] - 2s 6us/step - loss: 0.0012 - val_loss: 0.0011\n",
      "Epoch 30/300\n",
      "319999/319999 [==============================] - 2s 6us/step - loss: 0.0012 - val_loss: 0.0011\n",
      "Epoch 31/300\n",
      "319999/319999 [==============================] - 2s 6us/step - loss: 0.0011 - val_loss: 0.0011\n",
      "Epoch 32/300\n",
      "319999/319999 [==============================] - 2s 6us/step - loss: 0.0011 - val_loss: 0.0011\n",
      "Epoch 33/300\n",
      "319999/319999 [==============================] - 2s 6us/step - loss: 0.0011 - val_loss: 0.0011\n",
      "Epoch 34/300\n",
      "319999/319999 [==============================] - 2s 6us/step - loss: 0.0011 - val_loss: 0.0011\n",
      "Epoch 35/300\n",
      "319999/319999 [==============================] - 2s 6us/step - loss: 0.0011 - val_loss: 0.0010\n",
      "Epoch 36/300\n",
      "319999/319999 [==============================] - 2s 6us/step - loss: 0.0011 - val_loss: 0.0010\n",
      "Epoch 37/300\n",
      "319999/319999 [==============================] - 2s 6us/step - loss: 0.0011 - val_loss: 0.0010\n",
      "Epoch 38/300\n",
      "319999/319999 [==============================] - 2s 6us/step - loss: 0.0010 - val_loss: 0.0010\n",
      "Epoch 39/300\n",
      "319999/319999 [==============================] - 2s 6us/step - loss: 0.0010 - val_loss: 0.0010\n",
      "Epoch 40/300\n",
      "319999/319999 [==============================] - 2s 6us/step - loss: 0.0010 - val_loss: 0.0010\n",
      "Epoch 41/300\n",
      "319999/319999 [==============================] - 2s 6us/step - loss: 0.0010 - val_loss: 0.0010\n",
      "Epoch 42/300\n",
      "319999/319999 [==============================] - 2s 6us/step - loss: 0.0010 - val_loss: 0.0010\n",
      "Epoch 43/300\n",
      "319999/319999 [==============================] - 2s 6us/step - loss: 0.0010 - val_loss: 0.0010\n",
      "Epoch 44/300\n",
      "319999/319999 [==============================] - 2s 6us/step - loss: 0.0010 - val_loss: 0.0010\n",
      "Epoch 45/300\n",
      "319999/319999 [==============================] - 2s 6us/step - loss: 0.0010 - val_loss: 0.0010\n",
      "Epoch 46/300\n",
      "319999/319999 [==============================] - 2s 6us/step - loss: 0.0010 - val_loss: 9.9929e-04\n",
      "Epoch 47/300\n",
      "319999/319999 [==============================] - 2s 6us/step - loss: 0.0010 - val_loss: 9.9845e-04\n",
      "Epoch 48/300\n",
      "319999/319999 [==============================] - 2s 6us/step - loss: 0.0010 - val_loss: 9.9773e-04\n",
      "Epoch 49/300\n",
      "319999/319999 [==============================] - 2s 6us/step - loss: 0.0010 - val_loss: 9.9708e-04\n",
      "Epoch 50/300\n",
      "319999/319999 [==============================] - 2s 6us/step - loss: 0.0010 - val_loss: 9.9648e-04\n",
      "Epoch 51/300\n",
      "319999/319999 [==============================] - 2s 6us/step - loss: 0.0010 - val_loss: 9.9587e-04\n",
      "Epoch 52/300\n",
      "319999/319999 [==============================] - 2s 6us/step - loss: 0.0010 - val_loss: 9.9524e-04\n",
      "Epoch 53/300\n",
      "319999/319999 [==============================] - 2s 6us/step - loss: 0.0010 - val_loss: 9.9456e-04\n",
      "Epoch 54/300\n",
      "319999/319999 [==============================] - 2s 6us/step - loss: 0.0010 - val_loss: 9.9385e-04\n",
      "Epoch 55/300\n",
      "319999/319999 [==============================] - 2s 6us/step - loss: 0.0010 - val_loss: 9.9307e-04\n",
      "Epoch 56/300\n",
      "319999/319999 [==============================] - 2s 6us/step - loss: 0.0010 - val_loss: 9.9226e-04\n",
      "Epoch 57/300\n",
      "319999/319999 [==============================] - 2s 6us/step - loss: 0.0010 - val_loss: 9.9140e-04\n",
      "Epoch 58/300\n",
      "319999/319999 [==============================] - 2s 6us/step - loss: 0.0010 - val_loss: 9.9051e-04\n",
      "Epoch 59/300\n",
      "319999/319999 [==============================] - 2s 6us/step - loss: 0.0010 - val_loss: 9.8957e-04\n",
      "Epoch 60/300\n",
      "319999/319999 [==============================] - 2s 6us/step - loss: 0.0010 - val_loss: 9.8862e-04\n",
      "Epoch 61/300\n",
      "319999/319999 [==============================] - 2s 6us/step - loss: 0.0010 - val_loss: 9.8762e-04\n",
      "Epoch 62/300\n",
      "319999/319999 [==============================] - 2s 6us/step - loss: 0.0010 - val_loss: 9.8665e-04\n",
      "Epoch 63/300\n",
      "319999/319999 [==============================] - 2s 6us/step - loss: 0.0010 - val_loss: 9.8567e-04\n",
      "Epoch 64/300\n",
      "319999/319999 [==============================] - 2s 6us/step - loss: 0.0010 - val_loss: 9.8470e-04\n",
      "Epoch 65/300\n",
      "319999/319999 [==============================] - 2s 6us/step - loss: 0.0010 - val_loss: 9.8375e-04\n",
      "Epoch 66/300\n",
      "319999/319999 [==============================] - 2s 6us/step - loss: 0.0010 - val_loss: 9.8282e-04\n",
      "Epoch 67/300\n",
      "319999/319999 [==============================] - 2s 6us/step - loss: 0.0010 - val_loss: 9.8195e-04\n",
      "Epoch 68/300\n",
      "319999/319999 [==============================] - 2s 6us/step - loss: 0.0010 - val_loss: 9.8113e-04\n",
      "Epoch 69/300\n",
      "319999/319999 [==============================] - 2s 6us/step - loss: 0.0010 - val_loss: 9.8038e-04\n",
      "Epoch 70/300\n",
      "319999/319999 [==============================] - 2s 6us/step - loss: 0.0010 - val_loss: 9.7971e-04\n",
      "Epoch 71/300\n",
      "319999/319999 [==============================] - 2s 6us/step - loss: 0.0010 - val_loss: 9.7910e-04\n",
      "Epoch 72/300\n",
      "319999/319999 [==============================] - 2s 6us/step - loss: 0.0010 - val_loss: 9.7855e-04\n",
      "Epoch 73/300\n",
      "319999/319999 [==============================] - 2s 6us/step - loss: 0.0010 - val_loss: 9.7804e-04\n",
      "Epoch 74/300\n",
      "319999/319999 [==============================] - 2s 6us/step - loss: 0.0010 - val_loss: 9.7758e-04\n",
      "Epoch 75/300\n",
      "319999/319999 [==============================] - 2s 6us/step - loss: 0.0010 - val_loss: 9.7713e-04\n",
      "Epoch 76/300\n",
      "319999/319999 [==============================] - 2s 6us/step - loss: 9.9977e-04 - val_loss: 9.7668e-04\n",
      "Epoch 77/300\n",
      "319999/319999 [==============================] - 2s 6us/step - loss: 9.9944e-04 - val_loss: 9.7626e-04\n",
      "Epoch 78/300\n",
      "319999/319999 [==============================] - 2s 6us/step - loss: 9.9867e-04 - val_loss: 9.7585e-04\n",
      "Epoch 79/300\n",
      "319999/319999 [==============================] - 2s 6us/step - loss: 9.9836e-04 - val_loss: 9.7546e-04\n",
      "Epoch 80/300\n",
      "319999/319999 [==============================] - 2s 6us/step - loss: 9.9797e-04 - val_loss: 9.7506e-04\n",
      "Epoch 81/300\n",
      "319999/319999 [==============================] - 2s 6us/step - loss: 9.9748e-04 - val_loss: 9.7468e-04\n",
      "Epoch 82/300\n",
      "319999/319999 [==============================] - 2s 6us/step - loss: 9.9714e-04 - val_loss: 9.7431e-04\n",
      "Epoch 83/300\n",
      "319999/319999 [==============================] - 2s 6us/step - loss: 9.9684e-04 - val_loss: 9.7394e-04\n",
      "Epoch 84/300\n",
      "319999/319999 [==============================] - 2s 6us/step - loss: 9.9629e-04 - val_loss: 9.7358e-04\n",
      "Epoch 85/300\n",
      "319999/319999 [==============================] - 2s 6us/step - loss: 9.9639e-04 - val_loss: 9.7324e-04\n",
      "Epoch 86/300\n",
      "319999/319999 [==============================] - 2s 6us/step - loss: 9.9603e-04 - val_loss: 9.7290e-04\n",
      "Epoch 87/300\n",
      "319999/319999 [==============================] - 2s 6us/step - loss: 9.9562e-04 - val_loss: 9.7257e-04\n",
      "Epoch 88/300\n",
      "319999/319999 [==============================] - 2s 6us/step - loss: 9.9518e-04 - val_loss: 9.7225e-04\n",
      "Epoch 89/300\n",
      "319999/319999 [==============================] - 2s 6us/step - loss: 9.9442e-04 - val_loss: 9.7195e-04\n",
      "Epoch 90/300\n",
      "319999/319999 [==============================] - 2s 6us/step - loss: 9.9438e-04 - val_loss: 9.7165e-04\n",
      "Epoch 91/300\n",
      "319999/319999 [==============================] - 2s 6us/step - loss: 9.9446e-04 - val_loss: 9.7137e-04\n",
      "Epoch 92/300\n",
      "319999/319999 [==============================] - 2s 6us/step - loss: 9.9344e-04 - val_loss: 9.7112e-04\n",
      "Epoch 93/300\n",
      "319999/319999 [==============================] - 2s 6us/step - loss: 9.9344e-04 - val_loss: 9.7084e-04\n",
      "Epoch 94/300\n",
      "319999/319999 [==============================] - 2s 6us/step - loss: 9.9376e-04 - val_loss: 9.7060e-04\n",
      "Epoch 95/300\n",
      "319999/319999 [==============================] - 2s 6us/step - loss: 9.9297e-04 - val_loss: 9.7037e-04\n",
      "Epoch 96/300\n",
      "319999/319999 [==============================] - 2s 6us/step - loss: 9.9279e-04 - val_loss: 9.7015e-04\n",
      "Epoch 97/300\n",
      "319999/319999 [==============================] - 2s 6us/step - loss: 9.9298e-04 - val_loss: 9.6995e-04\n",
      "Epoch 98/300\n",
      "319999/319999 [==============================] - 2s 6us/step - loss: 9.9272e-04 - val_loss: 9.6976e-04\n",
      "Epoch 99/300\n",
      "319999/319999 [==============================] - 2s 6us/step - loss: 9.9240e-04 - val_loss: 9.6956e-04\n",
      "Epoch 100/300\n",
      "319999/319999 [==============================] - 2s 6us/step - loss: 9.9211e-04 - val_loss: 9.6938e-04\n",
      "Epoch 101/300\n",
      "319999/319999 [==============================] - 2s 6us/step - loss: 9.9206e-04 - val_loss: 9.6921e-04\n",
      "Epoch 102/300\n",
      "319999/319999 [==============================] - 2s 6us/step - loss: 9.9202e-04 - val_loss: 9.6906e-04\n",
      "Epoch 103/300\n",
      "319999/319999 [==============================] - 2s 6us/step - loss: 9.9176e-04 - val_loss: 9.6889e-04\n",
      "Epoch 104/300\n",
      "319999/319999 [==============================] - 2s 6us/step - loss: 9.9129e-04 - val_loss: 9.6875e-04\n",
      "Epoch 105/300\n",
      "319999/319999 [==============================] - 2s 6us/step - loss: 9.9132e-04 - val_loss: 9.6846e-04\n",
      "Epoch 106/300\n",
      "319999/319999 [==============================] - 2s 6us/step - loss: 9.9115e-04 - val_loss: 9.6815e-04\n",
      "Epoch 107/300\n",
      "319999/319999 [==============================] - 2s 6us/step - loss: 9.9071e-04 - val_loss: 9.6786e-04\n",
      "Epoch 108/300\n",
      "319999/319999 [==============================] - 2s 6us/step - loss: 9.9016e-04 - val_loss: 9.6765e-04\n",
      "Epoch 109/300\n",
      "319999/319999 [==============================] - 2s 6us/step - loss: 9.9015e-04 - val_loss: 9.6744e-04\n",
      "Epoch 110/300\n",
      "319999/319999 [==============================] - 2s 6us/step - loss: 9.8966e-04 - val_loss: 9.6725e-04\n",
      "Epoch 111/300\n",
      "319999/319999 [==============================] - 2s 6us/step - loss: 9.8975e-04 - val_loss: 9.6709e-04\n",
      "Epoch 112/300\n",
      "319999/319999 [==============================] - 2s 6us/step - loss: 9.8970e-04 - val_loss: 9.6696e-04\n",
      "Epoch 113/300\n",
      "319999/319999 [==============================] - 2s 6us/step - loss: 9.8902e-04 - val_loss: 9.6684e-04\n",
      "Epoch 114/300\n",
      "319999/319999 [==============================] - 2s 6us/step - loss: 9.8925e-04 - val_loss: 9.6672e-04\n",
      "Epoch 115/300\n",
      "319999/319999 [==============================] - 2s 6us/step - loss: 9.8882e-04 - val_loss: 9.6662e-04\n",
      "Epoch 116/300\n",
      "319999/319999 [==============================] - 2s 6us/step - loss: 9.8886e-04 - val_loss: 9.6655e-04\n",
      "Epoch 117/300\n",
      "319999/319999 [==============================] - 2s 6us/step - loss: 9.8866e-04 - val_loss: 9.6644e-04\n",
      "Epoch 118/300\n",
      "319999/319999 [==============================] - 2s 6us/step - loss: 9.8853e-04 - val_loss: 9.6636e-04\n",
      "Epoch 119/300\n",
      "319999/319999 [==============================] - 2s 6us/step - loss: 9.8851e-04 - val_loss: 9.6629e-04\n",
      "Epoch 120/300\n",
      "319999/319999 [==============================] - 2s 6us/step - loss: 9.8834e-04 - val_loss: 9.6623e-04\n",
      "Epoch 121/300\n",
      "319999/319999 [==============================] - 2s 6us/step - loss: 9.8832e-04 - val_loss: 9.6615e-04\n",
      "Epoch 122/300\n",
      "319999/319999 [==============================] - 2s 6us/step - loss: 9.8838e-04 - val_loss: 9.6608e-04\n",
      "Epoch 123/300\n",
      "319999/319999 [==============================] - 2s 6us/step - loss: 9.8840e-04 - val_loss: 9.6602e-04\n",
      "Epoch 124/300\n",
      "319999/319999 [==============================] - 2s 6us/step - loss: 9.8860e-04 - val_loss: 9.6594e-04\n",
      "Epoch 125/300\n",
      "319999/319999 [==============================] - 2s 6us/step - loss: 9.8773e-04 - val_loss: 9.6588e-04\n",
      "Epoch 126/300\n",
      "319999/319999 [==============================] - 2s 6us/step - loss: 9.8792e-04 - val_loss: 9.6579e-04\n",
      "Epoch 127/300\n",
      "319999/319999 [==============================] - 2s 6us/step - loss: 9.8821e-04 - val_loss: 9.6576e-04\n",
      "Epoch 128/300\n",
      "319999/319999 [==============================] - 2s 6us/step - loss: 9.8781e-04 - val_loss: 9.6568e-04\n",
      "Epoch 129/300\n",
      "319999/319999 [==============================] - 2s 6us/step - loss: 9.8768e-04 - val_loss: 9.6561e-04\n",
      "Epoch 130/300\n",
      "319999/319999 [==============================] - 2s 6us/step - loss: 9.8749e-04 - val_loss: 9.6556e-04\n",
      "Epoch 131/300\n",
      "319999/319999 [==============================] - 2s 6us/step - loss: 9.8757e-04 - val_loss: 9.6548e-04\n",
      "Epoch 132/300\n",
      "319999/319999 [==============================] - 2s 6us/step - loss: 9.8729e-04 - val_loss: 9.6546e-04\n",
      "Epoch 133/300\n",
      "319999/319999 [==============================] - 2s 6us/step - loss: 9.8732e-04 - val_loss: 9.6537e-04\n",
      "Epoch 134/300\n",
      "319999/319999 [==============================] - 2s 6us/step - loss: 9.8766e-04 - val_loss: 9.6531e-04\n",
      "Epoch 135/300\n",
      "319999/319999 [==============================] - 2s 6us/step - loss: 9.8746e-04 - val_loss: 9.6525e-04\n",
      "Epoch 136/300\n",
      "319999/319999 [==============================] - 2s 6us/step - loss: 9.8710e-04 - val_loss: 9.6520e-04\n",
      "Epoch 137/300\n",
      "319999/319999 [==============================] - 2s 6us/step - loss: 9.8734e-04 - val_loss: 9.6512e-04\n",
      "Epoch 138/300\n",
      "319999/319999 [==============================] - 2s 6us/step - loss: 9.8697e-04 - val_loss: 9.6503e-04\n",
      "Epoch 139/300\n",
      "319999/319999 [==============================] - 2s 6us/step - loss: 9.8707e-04 - val_loss: 9.6495e-04\n",
      "Epoch 140/300\n",
      "319999/319999 [==============================] - 2s 6us/step - loss: 9.8686e-04 - val_loss: 9.6492e-04\n",
      "Epoch 141/300\n",
      "319999/319999 [==============================] - 2s 6us/step - loss: 9.8684e-04 - val_loss: 9.6486e-04\n",
      "Epoch 142/300\n",
      "319999/319999 [==============================] - 2s 6us/step - loss: 9.8686e-04 - val_loss: 9.6477e-04\n",
      "Epoch 143/300\n",
      "319999/319999 [==============================] - 2s 6us/step - loss: 9.8688e-04 - val_loss: 9.6472e-04\n",
      "Epoch 144/300\n",
      "319999/319999 [==============================] - 2s 6us/step - loss: 9.8659e-04 - val_loss: 9.6465e-04\n",
      "Epoch 145/300\n",
      "319999/319999 [==============================] - 2s 6us/step - loss: 9.8630e-04 - val_loss: 9.6454e-04\n",
      "Epoch 146/300\n",
      "319999/319999 [==============================] - 2s 6us/step - loss: 9.8658e-04 - val_loss: 9.6450e-04\n",
      "Epoch 147/300\n",
      "319999/319999 [==============================] - 2s 6us/step - loss: 9.8665e-04 - val_loss: 9.6439e-04\n",
      "Epoch 148/300\n",
      "319999/319999 [==============================] - 2s 6us/step - loss: 9.8647e-04 - val_loss: 9.6432e-04\n",
      "Epoch 149/300\n",
      "319999/319999 [==============================] - 2s 6us/step - loss: 9.8601e-04 - val_loss: 9.6425e-04\n",
      "Epoch 150/300\n",
      "319999/319999 [==============================] - 2s 6us/step - loss: 9.8613e-04 - val_loss: 9.6415e-04\n",
      "Epoch 151/300\n",
      "319999/319999 [==============================] - 2s 6us/step - loss: 9.8627e-04 - val_loss: 9.6406e-04\n",
      "Epoch 152/300\n",
      "319999/319999 [==============================] - 2s 6us/step - loss: 9.8604e-04 - val_loss: 9.6395e-04\n",
      "Epoch 153/300\n",
      "319999/319999 [==============================] - 2s 6us/step - loss: 9.8576e-04 - val_loss: 9.6388e-04\n",
      "Epoch 154/300\n",
      "319999/319999 [==============================] - 2s 6us/step - loss: 9.8560e-04 - val_loss: 9.6377e-04\n",
      "Epoch 155/300\n",
      "319999/319999 [==============================] - 2s 6us/step - loss: 9.8611e-04 - val_loss: 9.6369e-04\n",
      "Epoch 156/300\n",
      "319999/319999 [==============================] - 2s 6us/step - loss: 9.8540e-04 - val_loss: 9.6353e-04\n",
      "Epoch 157/300\n",
      "319999/319999 [==============================] - 2s 6us/step - loss: 9.8537e-04 - val_loss: 9.6339e-04\n",
      "Epoch 158/300\n",
      "319999/319999 [==============================] - 2s 6us/step - loss: 9.8493e-04 - val_loss: 9.6325e-04\n",
      "Epoch 159/300\n",
      "319999/319999 [==============================] - 2s 6us/step - loss: 9.8489e-04 - val_loss: 9.6314e-04\n",
      "Epoch 160/300\n",
      "319999/319999 [==============================] - 2s 6us/step - loss: 9.8485e-04 - val_loss: 9.6296e-04\n",
      "Epoch 161/300\n",
      "319999/319999 [==============================] - 2s 6us/step - loss: 9.8493e-04 - val_loss: 9.6282e-04\n",
      "Epoch 162/300\n",
      "319999/319999 [==============================] - 2s 6us/step - loss: 9.8445e-04 - val_loss: 9.6270e-04\n",
      "Epoch 163/300\n",
      "319999/319999 [==============================] - 2s 6us/step - loss: 9.8473e-04 - val_loss: 9.6246e-04\n",
      "Epoch 164/300\n",
      "319999/319999 [==============================] - 2s 6us/step - loss: 9.8429e-04 - val_loss: 9.6241e-04\n",
      "Epoch 165/300\n",
      "319999/319999 [==============================] - 2s 6us/step - loss: 9.8425e-04 - val_loss: 9.6208e-04\n",
      "Epoch 166/300\n",
      "319999/319999 [==============================] - 2s 6us/step - loss: 9.8376e-04 - val_loss: 9.6200e-04\n",
      "Epoch 167/300\n",
      "319999/319999 [==============================] - 2s 6us/step - loss: 9.8330e-04 - val_loss: 9.6175e-04\n",
      "Epoch 168/300\n",
      "319999/319999 [==============================] - 2s 6us/step - loss: 9.8350e-04 - val_loss: 9.6152e-04\n",
      "Epoch 169/300\n",
      "319999/319999 [==============================] - 2s 6us/step - loss: 9.8329e-04 - val_loss: 9.6145e-04\n",
      "Epoch 170/300\n",
      "319999/319999 [==============================] - 2s 6us/step - loss: 9.8299e-04 - val_loss: 9.6111e-04\n",
      "Epoch 171/300\n",
      "319999/319999 [==============================] - 2s 6us/step - loss: 9.8224e-04 - val_loss: 9.6077e-04\n",
      "Epoch 172/300\n",
      "319999/319999 [==============================] - 2s 6us/step - loss: 9.8260e-04 - val_loss: 9.6058e-04\n",
      "Epoch 173/300\n",
      "319999/319999 [==============================] - 2s 6us/step - loss: 9.8205e-04 - val_loss: 9.6035e-04\n",
      "Epoch 174/300\n",
      "319999/319999 [==============================] - 2s 6us/step - loss: 9.8173e-04 - val_loss: 9.6016e-04\n",
      "Epoch 175/300\n",
      "319999/319999 [==============================] - 2s 6us/step - loss: 9.8142e-04 - val_loss: 9.5988e-04\n",
      "Epoch 176/300\n",
      "319999/319999 [==============================] - 2s 6us/step - loss: 9.8174e-04 - val_loss: 9.5953e-04\n",
      "Epoch 177/300\n",
      "319999/319999 [==============================] - 2s 6us/step - loss: 9.8107e-04 - val_loss: 9.5924e-04\n",
      "Epoch 178/300\n",
      "319999/319999 [==============================] - 2s 6us/step - loss: 9.8089e-04 - val_loss: 9.5911e-04\n",
      "Epoch 179/300\n",
      "319999/319999 [==============================] - 2s 6us/step - loss: 9.8005e-04 - val_loss: 9.5880e-04\n",
      "Epoch 180/300\n",
      "319999/319999 [==============================] - 2s 6us/step - loss: 9.8069e-04 - val_loss: 9.5857e-04\n",
      "Epoch 181/300\n",
      "319999/319999 [==============================] - 2s 6us/step - loss: 9.7979e-04 - val_loss: 9.5829e-04\n",
      "Epoch 182/300\n",
      "319999/319999 [==============================] - 2s 6us/step - loss: 9.7962e-04 - val_loss: 9.5815e-04\n",
      "Epoch 183/300\n",
      "319999/319999 [==============================] - 2s 6us/step - loss: 9.7922e-04 - val_loss: 9.5783e-04\n",
      "Epoch 184/300\n",
      "319999/319999 [==============================] - 2s 6us/step - loss: 9.7895e-04 - val_loss: 9.5758e-04\n",
      "Epoch 185/300\n",
      "319999/319999 [==============================] - 2s 6us/step - loss: 9.7884e-04 - val_loss: 9.5756e-04\n",
      "Epoch 186/300\n",
      "319999/319999 [==============================] - 2s 6us/step - loss: 9.7836e-04 - val_loss: 9.5730e-04\n",
      "Epoch 187/300\n",
      "319999/319999 [==============================] - 2s 6us/step - loss: 9.7858e-04 - val_loss: 9.5687e-04\n",
      "Epoch 188/300\n",
      "319999/319999 [==============================] - 2s 6us/step - loss: 9.7790e-04 - val_loss: 9.5666e-04\n",
      "Epoch 189/300\n",
      "319999/319999 [==============================] - 2s 6us/step - loss: 9.7732e-04 - val_loss: 9.5675e-04\n",
      "Epoch 190/300\n",
      "319999/319999 [==============================] - 2s 6us/step - loss: 9.7715e-04 - val_loss: 9.5611e-04\n",
      "Epoch 191/300\n",
      "319999/319999 [==============================] - 2s 6us/step - loss: 9.7760e-04 - val_loss: 9.5616e-04\n",
      "Epoch 192/300\n",
      "319999/319999 [==============================] - 2s 6us/step - loss: 9.7696e-04 - val_loss: 9.5596e-04\n",
      "Epoch 193/300\n",
      "319999/319999 [==============================] - 2s 6us/step - loss: 9.7720e-04 - val_loss: 9.5583e-04\n",
      "Epoch 194/300\n",
      "319999/319999 [==============================] - 2s 6us/step - loss: 9.7689e-04 - val_loss: 9.5564e-04\n",
      "Epoch 195/300\n",
      "319999/319999 [==============================] - 2s 6us/step - loss: 9.7667e-04 - val_loss: 9.5781e-04\n",
      "Epoch 196/300\n",
      "319999/319999 [==============================] - 2s 6us/step - loss: 9.7623e-04 - val_loss: 9.5547e-04\n",
      "Epoch 197/300\n",
      "319999/319999 [==============================] - 2s 6us/step - loss: 9.7602e-04 - val_loss: 9.5541e-04\n",
      "Epoch 198/300\n",
      "319999/319999 [==============================] - 2s 6us/step - loss: 9.7640e-04 - val_loss: 9.5540e-04\n",
      "Epoch 199/300\n",
      "319999/319999 [==============================] - 2s 6us/step - loss: 9.7577e-04 - val_loss: 9.5512e-04\n",
      "Epoch 200/300\n",
      "319999/319999 [==============================] - 2s 6us/step - loss: 9.7612e-04 - val_loss: 9.5469e-04\n",
      "Epoch 201/300\n",
      "319999/319999 [==============================] - 2s 6us/step - loss: 9.7546e-04 - val_loss: 9.5497e-04\n",
      "Epoch 202/300\n",
      "319999/319999 [==============================] - 2s 6us/step - loss: 9.7528e-04 - val_loss: 9.5458e-04\n",
      "Epoch 203/300\n",
      "319999/319999 [==============================] - 2s 6us/step - loss: 9.7501e-04 - val_loss: 9.5441e-04\n",
      "Epoch 204/300\n",
      "319999/319999 [==============================] - 2s 6us/step - loss: 9.7518e-04 - val_loss: 9.5493e-04\n",
      "Epoch 205/300\n",
      "319999/319999 [==============================] - 2s 6us/step - loss: 9.7570e-04 - val_loss: 9.5429e-04\n",
      "Epoch 206/300\n",
      "319999/319999 [==============================] - 2s 6us/step - loss: 9.7466e-04 - val_loss: 9.5444e-04\n",
      "Epoch 207/300\n",
      "319999/319999 [==============================] - 2s 6us/step - loss: 9.7490e-04 - val_loss: 9.5461e-04\n"
     ]
    }
   ],
   "source": [
    "history = MyModel.fit(X_train,np.vstack([y_train,\n",
    "                                  np.ones(y_train.shape[0])\n",
    "                                  ]).T,\n",
    "                      validation_split=0.2,\n",
    "                      epochs=300,\n",
    "                      batch_size=1000,\n",
    "                      callbacks = [es],\n",
    "                      sample_weight=weights\n",
    "                     )"
   ]
  },
  {
   "cell_type": "code",
   "execution_count": 23,
   "metadata": {},
   "outputs": [
    {
     "data": {
      "image/png": "[encoded data removed]",
      "text/plain": [
       "<Figure size 320x320 with 1 Axes>"
      ]
     },
     "metadata": {
      "needs_background": "light"
     },
     "output_type": "display_data"
    }
   ],
   "source": [
    "plt.plot(history.history['loss'])\n",
    "plt.plot(history.history['val_loss'])\n",
    "plt.yscale('log')\n",
    "plt.xlabel('Epochs')\n",
    "plt.ylabel('Likelihood Loss Function')\n",
    "plt.legend(['Train', 'Validation'])\n",
    "plt.show()"
   ]
  },
  {
   "cell_type": "code",
   "execution_count": 24,
   "metadata": {},
   "outputs": [],
   "source": [
    "# predict the scores for the test set, then histogram them based on the real labels\n",
    "test_preds = MyModel.predict(X_test)"
   ]
  },
  {
   "cell_type": "code",
   "execution_count": 25,
   "metadata": {},
   "outputs": [
    {
     "data": {
      "image/png": "[encoded data removed]",
      "text/plain": [
       "<Figure size 320x320 with 1 Axes>"
      ]
     },
     "metadata": {
      "needs_background": "light"
     },
     "output_type": "display_data"
    }
   ],
   "source": [
    "plt.hist(test_preds[:,0], bins=50, range=(-200,200), histtype='step')\n",
    "plt.hist(y_test, bins=50, range=(-200,200), histtype='step')\n",
    "plt.xlabel('Vr')\n",
    "plt.ylabel('Stars')\n",
    "plt.title('Test set - simulated data')\n",
    "plt.yscale('log')\n",
    "plt.show()"
   ]
  },
  {
   "cell_type": "code",
   "execution_count": 26,
   "metadata": {},
   "outputs": [
    {
     "name": "stdout",
     "output_type": "stream",
     "text": [
      "[0.04597671 0.17816858 0.05237249 ... 0.08080665 0.04364475 0.06457448]\n"
     ]
    },
    {
     "data": {
      "text/plain": [
       "Text(0, 0.5, 'Error on Vr predicted')"
      ]
     },
     "execution_count": 26,
     "metadata": {},
     "output_type": "execute_result"
    },
    {
     "data": {
      "image/png": "[encoded data removed]",
      "text/plain": [
       "<Figure size 320x320 with 1 Axes>"
      ]
     },
     "metadata": {
      "needs_background": "light"
     },
     "output_type": "display_data"
    }
   ],
   "source": [
    "test_preds[:,0] = (test_preds[:,0] - np.min(test_preds[:,0]))/(np.max(test_preds[:,0])- np.min(test_preds[:,0]))\n",
    "test_preds[:,1] = (test_preds[:,1] - np.min(test_preds[:,1]))/(np.max(test_preds[:,1])- np.min(test_preds[:,1]))\n",
    "y_test = (y_test - np.min(y_test))/(np.max(y_test)- np.min(y_test))\n",
    "#manually normalizing output \n",
    "print(test_preds[:,1])\n",
    "plt.scatter(X_test[:,2], test_preds[:,1], color = 'red')\n",
    "#plt.errorbar(X_test[1:50,2], test_preds[1:50,0], yerr = test_preds[1:50,1], color = 'red',ls='none')\n",
    "plt.xlabel('Distance')\n",
    "plt.ylabel('Error on Vr predicted')"
   ]
  },
  {
   "cell_type": "code",
   "execution_count": 29,
   "metadata": {},
   "outputs": [
    {
     "data": {
      "text/plain": [
       "Text(0.5, 0, 'Vr real')"
      ]
     },
     "execution_count": 29,
     "metadata": {},
     "output_type": "execute_result"
    },
    {
     "data": {
      "image/png": "[encoded data removed]",
      "text/plain": [
       "<Figure size 320x320 with 1 Axes>"
      ]
     },
     "metadata": {
      "needs_background": "light"
     },
     "output_type": "display_data"
    }
   ],
   "source": [
    "plt.errorbar(y_test[1:50], test_preds[1:50,0], yerr = test_preds[1:50,1], color = 'red',ls='none')\n",
    "plt.scatter(y_test[1:50], test_preds[1:50,0])\n",
    "plt.ylabel('Vr predicted')\n",
    "plt.xlabel('Vr real')"
   ]
  },
  {
   "cell_type": "code",
   "execution_count": null,
   "metadata": {},
   "outputs": [],
   "source": []
  }
 ],
 "metadata": {
  "kernelspec": {
   "display_name": "venv_ML",
   "language": "python",
   "name": "venv_ml"
  },
  "language_info": {
   "codemirror_mode": {
    "name": "ipython",
    "version": 3
   },
   "file_extension": ".py",
   "mimetype": "text/x-python",
   "name": "python",
   "nbconvert_exporter": "python",
   "pygments_lexer": "ipython3",
   "version": "3.6.10"
  }
 },
 "nbformat": 4,
 "nbformat_minor": 4
}
