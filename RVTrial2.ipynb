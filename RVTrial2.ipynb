{
 "cells": [
  {
   "cell_type": "code",
   "execution_count": 4,
   "metadata": {},
   "outputs": [],
   "source": [
    "%matplotlib inline\n",
    "\n",
    "import matplotlib\n",
    "import matplotlib.colors as colors\n",
    "\n",
    "import pandas as pd\n",
    "import numpy as np\n",
    "import matplotlib.pyplot as plt\n",
    "import os.path\n",
    "import sys\n",
    "import gzip\n",
    "import matplotlib.gridspec as gridspec\n",
    "\n",
    "matplotlib.rcParams.update({'font.family':'cmr10','font.size': 13})\n",
    "matplotlib.rcParams['axes.unicode_minus']=False\n",
    "matplotlib.rcParams['axes.labelsize']=15\n",
    "plt.rcParams['figure.figsize']=(4,4)\n",
    "plt.rcParams['figure.dpi'] = 80\n",
    "plt.rcParams['mathtext.fontset'] = 'cm'\n",
    "plt.rcParams['mathtext.rm'] = 'serif'\n",
    "plt.rcParams['xtick.direction'] = 'in'\n",
    "plt.rcParams['ytick.direction'] = 'in'\n",
    "plt.rcParams['xtick.top'] = True\n",
    "plt.rcParams['ytick.right'] = True"
   ]
  },
  {
   "cell_type": "code",
   "execution_count": 5,
   "metadata": {},
   "outputs": [],
   "source": [
    "data = np.load('StarsWithRadialVelocity.npy')"
   ]
  },
  {
   "cell_type": "code",
   "execution_count": 6,
   "metadata": {},
   "outputs": [],
   "source": [
    "data_cols = ['l', 'b','ra', 'dec', 'pmra', 'pmdec', 'parallax', 'radial_velocity',\n",
    "             'phot_g_mean_mag', 'phot_bp_mean_mag', 'phot_rp_mean_mag',\n",
    "             'pmra_error', 'pmdec_error', 'parallax_error', 'radial_velocity_error',\n",
    "             'phot_g_mean_mag_error', 'phot_bp_mean_mag_error', 'phot_rp_mean_mag_error',\n",
    "             'AccretedLabel'\n",
    "            ]"
   ]
  },
  {
   "cell_type": "code",
   "execution_count": 7,
   "metadata": {},
   "outputs": [],
   "source": [
    "data = pd.DataFrame(data, columns=data_cols)"
   ]
  },
  {
   "cell_type": "code",
   "execution_count": 8,
   "metadata": {},
   "outputs": [
    {
     "data": {
      "text/html": [
       "<div>\n",
       "<style scoped>\n",
       "    .dataframe tbody tr th:only-of-type {\n",
       "        vertical-align: middle;\n",
       "    }\n",
       "\n",
       "    .dataframe tbody tr th {\n",
       "        vertical-align: top;\n",
       "    }\n",
       "\n",
       "    .dataframe thead th {\n",
       "        text-align: right;\n",
       "    }\n",
       "</style>\n",
       "<table border=\"1\" class=\"dataframe\">\n",
       "  <thead>\n",
       "    <tr style=\"text-align: right;\">\n",
       "      <th></th>\n",
       "      <th>l</th>\n",
       "      <th>b</th>\n",
       "      <th>ra</th>\n",
       "      <th>dec</th>\n",
       "      <th>pmra</th>\n",
       "      <th>pmdec</th>\n",
       "      <th>parallax</th>\n",
       "      <th>radial_velocity</th>\n",
       "      <th>phot_g_mean_mag</th>\n",
       "      <th>phot_bp_mean_mag</th>\n",
       "      <th>phot_rp_mean_mag</th>\n",
       "      <th>pmra_error</th>\n",
       "      <th>pmdec_error</th>\n",
       "      <th>parallax_error</th>\n",
       "      <th>radial_velocity_error</th>\n",
       "      <th>phot_g_mean_mag_error</th>\n",
       "      <th>phot_bp_mean_mag_error</th>\n",
       "      <th>phot_rp_mean_mag_error</th>\n",
       "      <th>AccretedLabel</th>\n",
       "    </tr>\n",
       "  </thead>\n",
       "  <tbody>\n",
       "    <tr>\n",
       "      <th>0</th>\n",
       "      <td>18.947771</td>\n",
       "      <td>17.087326</td>\n",
       "      <td>261.281075</td>\n",
       "      <td>-4.105546</td>\n",
       "      <td>0.304014</td>\n",
       "      <td>-2.012651</td>\n",
       "      <td>0.443537</td>\n",
       "      <td>44.472788</td>\n",
       "      <td>14.384683</td>\n",
       "      <td>14.678857</td>\n",
       "      <td>13.931516</td>\n",
       "      <td>0.091557</td>\n",
       "      <td>0.091557</td>\n",
       "      <td>0.044116</td>\n",
       "      <td>9.908263</td>\n",
       "      <td>0.000611</td>\n",
       "      <td>0.003929</td>\n",
       "      <td>0.003929</td>\n",
       "      <td>0.0</td>\n",
       "    </tr>\n",
       "    <tr>\n",
       "      <th>1</th>\n",
       "      <td>-4.978819</td>\n",
       "      <td>-41.542610</td>\n",
       "      <td>315.656827</td>\n",
       "      <td>-45.372252</td>\n",
       "      <td>15.768343</td>\n",
       "      <td>-16.975898</td>\n",
       "      <td>1.369992</td>\n",
       "      <td>-120.045033</td>\n",
       "      <td>12.405884</td>\n",
       "      <td>12.633657</td>\n",
       "      <td>12.030871</td>\n",
       "      <td>0.087001</td>\n",
       "      <td>0.087001</td>\n",
       "      <td>0.042780</td>\n",
       "      <td>2.036502</td>\n",
       "      <td>0.000342</td>\n",
       "      <td>0.002105</td>\n",
       "      <td>0.002105</td>\n",
       "      <td>0.0</td>\n",
       "    </tr>\n",
       "    <tr>\n",
       "      <th>2</th>\n",
       "      <td>-137.539419</td>\n",
       "      <td>-47.311996</td>\n",
       "      <td>60.814237</td>\n",
       "      <td>-25.789371</td>\n",
       "      <td>5.542696</td>\n",
       "      <td>9.388474</td>\n",
       "      <td>0.597262</td>\n",
       "      <td>83.063864</td>\n",
       "      <td>14.347357</td>\n",
       "      <td>14.619976</td>\n",
       "      <td>13.923520</td>\n",
       "      <td>0.091365</td>\n",
       "      <td>0.091365</td>\n",
       "      <td>0.044055</td>\n",
       "      <td>9.917098</td>\n",
       "      <td>0.000602</td>\n",
       "      <td>0.003861</td>\n",
       "      <td>0.003861</td>\n",
       "      <td>0.0</td>\n",
       "    </tr>\n",
       "    <tr>\n",
       "      <th>3</th>\n",
       "      <td>-68.315598</td>\n",
       "      <td>-32.353069</td>\n",
       "      <td>71.998054</td>\n",
       "      <td>-78.933526</td>\n",
       "      <td>14.320530</td>\n",
       "      <td>-13.669455</td>\n",
       "      <td>0.862436</td>\n",
       "      <td>-106.062495</td>\n",
       "      <td>14.062039</td>\n",
       "      <td>14.311761</td>\n",
       "      <td>13.648176</td>\n",
       "      <td>0.090130</td>\n",
       "      <td>0.090130</td>\n",
       "      <td>0.043668</td>\n",
       "      <td>7.792049</td>\n",
       "      <td>0.000544</td>\n",
       "      <td>0.003407</td>\n",
       "      <td>0.003407</td>\n",
       "      <td>0.0</td>\n",
       "    </tr>\n",
       "    <tr>\n",
       "      <th>4</th>\n",
       "      <td>85.879721</td>\n",
       "      <td>-52.988838</td>\n",
       "      <td>351.547535</td>\n",
       "      <td>3.638489</td>\n",
       "      <td>2.937268</td>\n",
       "      <td>5.109022</td>\n",
       "      <td>1.510236</td>\n",
       "      <td>-23.143291</td>\n",
       "      <td>14.677980</td>\n",
       "      <td>15.082906</td>\n",
       "      <td>14.107460</td>\n",
       "      <td>0.093275</td>\n",
       "      <td>0.093275</td>\n",
       "      <td>0.044678</td>\n",
       "      <td>11.110764</td>\n",
       "      <td>0.000683</td>\n",
       "      <td>0.004529</td>\n",
       "      <td>0.004529</td>\n",
       "      <td>0.0</td>\n",
       "    </tr>\n",
       "  </tbody>\n",
       "</table>\n",
       "</div>"
      ],
      "text/plain": [
       "            l          b          ra        dec       pmra      pmdec  \\\n",
       "0   18.947771  17.087326  261.281075  -4.105546   0.304014  -2.012651   \n",
       "1   -4.978819 -41.542610  315.656827 -45.372252  15.768343 -16.975898   \n",
       "2 -137.539419 -47.311996   60.814237 -25.789371   5.542696   9.388474   \n",
       "3  -68.315598 -32.353069   71.998054 -78.933526  14.320530 -13.669455   \n",
       "4   85.879721 -52.988838  351.547535   3.638489   2.937268   5.109022   \n",
       "\n",
       "   parallax  radial_velocity  phot_g_mean_mag  phot_bp_mean_mag  \\\n",
       "0  0.443537        44.472788        14.384683         14.678857   \n",
       "1  1.369992      -120.045033        12.405884         12.633657   \n",
       "2  0.597262        83.063864        14.347357         14.619976   \n",
       "3  0.862436      -106.062495        14.062039         14.311761   \n",
       "4  1.510236       -23.143291        14.677980         15.082906   \n",
       "\n",
       "   phot_rp_mean_mag  pmra_error  pmdec_error  parallax_error  \\\n",
       "0         13.931516    0.091557     0.091557        0.044116   \n",
       "1         12.030871    0.087001     0.087001        0.042780   \n",
       "2         13.923520    0.091365     0.091365        0.044055   \n",
       "3         13.648176    0.090130     0.090130        0.043668   \n",
       "4         14.107460    0.093275     0.093275        0.044678   \n",
       "\n",
       "   radial_velocity_error  phot_g_mean_mag_error  phot_bp_mean_mag_error  \\\n",
       "0               9.908263               0.000611                0.003929   \n",
       "1               2.036502               0.000342                0.002105   \n",
       "2               9.917098               0.000602                0.003861   \n",
       "3               7.792049               0.000544                0.003407   \n",
       "4              11.110764               0.000683                0.004529   \n",
       "\n",
       "   phot_rp_mean_mag_error  AccretedLabel  \n",
       "0                0.003929            0.0  \n",
       "1                0.002105            0.0  \n",
       "2                0.003861            0.0  \n",
       "3                0.003407            0.0  \n",
       "4                0.004529            0.0  "
      ]
     },
     "execution_count": 8,
     "metadata": {},
     "output_type": "execute_result"
    }
   ],
   "source": [
    "data.head()"
   ]
  },
  {
   "cell_type": "code",
   "execution_count": 9,
   "metadata": {},
   "outputs": [],
   "source": [
    "from sklearn.preprocessing import StandardScaler\n",
    "from sklearn.model_selection import train_test_split"
   ]
  },
  {
   "cell_type": "code",
   "execution_count": 13,
   "metadata": {},
   "outputs": [],
   "source": [
    "# What columns to use?\n",
    "use_cols = ['l', 'b','parallax','pmra','pmdec']\n",
    "# Make the design matrix\n",
    "X = data[use_cols].values\n",
    "Y = (data['radial_velocity']).values"
   ]
  },
  {
   "cell_type": "code",
   "execution_count": 26,
   "metadata": {},
   "outputs": [],
   "source": [
    "X_train, X_test, y_train, y_test = train_test_split(X[1:500000], Y[1:500000],\n",
    "                                                    test_size = 0.2,\n",
    "                                                    random_state=42)"
   ]
  },
  {
   "cell_type": "code",
   "execution_count": 27,
   "metadata": {},
   "outputs": [
    {
     "name": "stdout",
     "output_type": "stream",
     "text": [
      "(399999, 5)\n",
      "(399999,)\n",
      "There are -1438120.796128343 stars in the training set\n",
      "\n",
      "(100000, 5)\n",
      "(100000,)\n",
      "There are -351178.2908281403 stars in the test set\n"
     ]
    }
   ],
   "source": [
    "print(X_train.shape)\n",
    "print(y_train.shape)\n",
    "print('There are {0} stars in the training set'.format(np.sum(y_train)))\n",
    "print()\n",
    "print(X_test.shape)\n",
    "print(y_test.shape)\n",
    "print('There are {0} stars in the test set'.format(np.sum(y_test)))"
   ]
  },
  {
   "cell_type": "code",
   "execution_count": 28,
   "metadata": {},
   "outputs": [],
   "source": [
    "SS = StandardScaler()\n",
    "X_train = SS.fit_transform(X_train)"
   ]
  },
  {
   "cell_type": "code",
   "execution_count": 29,
   "metadata": {},
   "outputs": [],
   "source": [
    "# Now scale the test data using the same mean and standard deviation as found with the training data\n",
    "X_test = SS.transform(X_test)"
   ]
  },
  {
   "cell_type": "code",
   "execution_count": 30,
   "metadata": {},
   "outputs": [
    {
     "name": "stderr",
     "output_type": "stream",
     "text": [
      "Font 'default' does not have a glyph for '\\\\times' [U+d7], substituting with a dummy symbol.\n",
      "Font 'default' does not have a glyph for '\\\\times' [U+d7], substituting with a dummy symbol.\n",
      "Font 'default' does not have a glyph for '\\\\times' [U+d7], substituting with a dummy symbol.\n",
      "Font 'default' does not have a glyph for '\\\\times' [U+d7], substituting with a dummy symbol.\n"
     ]
    },
    {
     "data": {
      "image/png": "[encoded data removed]",
      "text/plain": [
       "<Figure size 480x240 with 2 Axes>"
      ]
     },
     "metadata": {
      "needs_background": "light"
     },
     "output_type": "display_data"
    },
    {
     "data": {
      "image/png": "[encoded data removed]",
      "text/plain": [
       "<Figure size 480x240 with 2 Axes>"
      ]
     },
     "metadata": {
      "needs_background": "light"
     },
     "output_type": "display_data"
    },
    {
     "data": {
      "image/png": "[encoded data removed]",
      "text/plain": [
       "<Figure size 480x240 with 2 Axes>"
      ]
     },
     "metadata": {
      "needs_background": "light"
     },
     "output_type": "display_data"
    },
    {
     "data": {
      "image/png": "[encoded data removed]",
      "text/plain": [
       "<Figure size 480x240 with 2 Axes>"
      ]
     },
     "metadata": {
      "needs_background": "light"
     },
     "output_type": "display_data"
    },
    {
     "data": {
      "image/png": "[encoded data removed]",
      "text/plain": [
       "<Figure size 480x240 with 2 Axes>"
      ]
     },
     "metadata": {
      "needs_background": "light"
     },
     "output_type": "display_data"
    }
   ],
   "source": [
    "#visualize check data\n",
    "for i, col in enumerate(use_cols):\n",
    "    plt.figure(figsize=(6, 3))\n",
    "    plt.subplot(1,2,1)\n",
    "    plt.hist(data[col], bins=100)\n",
    "    plt.yscale('log')\n",
    "    plt.title('Data')\n",
    "    \n",
    "    plt.subplot(1,2,2)\n",
    "    plt.hist(X_train[:, i], bins=100, alpha=0.5)\n",
    "    plt.hist(X_test[:, i], bins=100, alpha=0.5)\n",
    "    plt.yscale('log')\n",
    "    plt.title('Scaled')\n",
    "    \n",
    "    plt.suptitle(col, y=1.01, fontsize=16)\n",
    "    \n",
    "    plt.tight_layout()"
   ]
  },
  {
   "cell_type": "code",
   "execution_count": 31,
   "metadata": {},
   "outputs": [],
   "source": [
    "from keras.models import Sequential\n",
    "from keras.layers import Dense\n",
    "from keras.callbacks import EarlyStopping, ModelCheckpoint\n",
    "from keras.optimizers import Adam"
   ]
  },
  {
   "cell_type": "code",
   "execution_count": 32,
   "metadata": {},
   "outputs": [],
   "source": [
    "MyModel = Sequential()\n",
    "MyModel.add(Dense(units=100, activation='relu', input_dim=X_train.shape[1]))\n",
    "MyModel.add(Dense(units=100, activation='relu'))\n",
    "MyModel.add(Dense(units=100, activation='relu'))\n",
    "MyModel.add(Dense(units=100, activation='relu'))\n",
    "MyModel.add(Dense(units=1))\n",
    "#using tanh activation function in the last layer\n",
    "#MyModel.compile(loss='mean_squared_error',\n",
    "               # optimizer='adam'\n",
    "              # )\n",
    "MyModel.compile(loss='mean_squared_error',\n",
    "                optimizer='adam'\n",
    "               )"
   ]
  },
  {
   "cell_type": "code",
   "execution_count": 33,
   "metadata": {},
   "outputs": [
    {
     "name": "stdout",
     "output_type": "stream",
     "text": [
      "Model: \"sequential_2\"\n",
      "_________________________________________________________________\n",
      "Layer (type)                 Output Shape              Param #   \n",
      "=================================================================\n",
      "dense_6 (Dense)              (None, 100)               600       \n",
      "_________________________________________________________________\n",
      "dense_7 (Dense)              (None, 100)               10100     \n",
      "_________________________________________________________________\n",
      "dense_8 (Dense)              (None, 100)               10100     \n",
      "_________________________________________________________________\n",
      "dense_9 (Dense)              (None, 100)               10100     \n",
      "_________________________________________________________________\n",
      "dense_10 (Dense)             (None, 1)                 101       \n",
      "=================================================================\n",
      "Total params: 31,001\n",
      "Trainable params: 31,001\n",
      "Non-trainable params: 0\n",
      "_________________________________________________________________\n"
     ]
    }
   ],
   "source": [
    "MyModel.summary()"
   ]
  },
  {
   "cell_type": "code",
   "execution_count": 34,
   "metadata": {},
   "outputs": [
    {
     "name": "stdout",
     "output_type": "stream",
     "text": [
      "Train on 319999 samples, validate on 80000 samples\n",
      "Epoch 1/100\n",
      "319999/319999 [==============================] - 3s 8us/step - loss: 4720.9648 - val_loss: 4599.7438\n",
      "Epoch 2/100\n",
      "319999/319999 [==============================] - 2s 8us/step - loss: 4581.2892 - val_loss: 4449.8560\n",
      "Epoch 3/100\n",
      "319999/319999 [==============================] - 2s 8us/step - loss: 4385.9448 - val_loss: 4235.3994\n",
      "Epoch 4/100\n",
      "319999/319999 [==============================] - 2s 8us/step - loss: 4206.2534 - val_loss: 4147.5011\n",
      "Epoch 5/100\n",
      "319999/319999 [==============================] - 2s 8us/step - loss: 4127.3126 - val_loss: 4079.3218\n",
      "Epoch 6/100\n",
      "319999/319999 [==============================] - 2s 7us/step - loss: 4074.5124 - val_loss: 4038.2496\n",
      "Epoch 7/100\n",
      "319999/319999 [==============================] - 2s 8us/step - loss: 4052.1594 - val_loss: 4037.6247\n",
      "Epoch 8/100\n",
      "319999/319999 [==============================] - 2s 8us/step - loss: 4028.7351 - val_loss: 4003.6005\n",
      "Epoch 9/100\n",
      "319999/319999 [==============================] - 2s 7us/step - loss: 4005.1328 - val_loss: 4006.2428\n",
      "Epoch 10/100\n",
      "319999/319999 [==============================] - 2s 8us/step - loss: 3986.9145 - val_loss: 3971.8758\n",
      "Epoch 11/100\n",
      "319999/319999 [==============================] - 2s 8us/step - loss: 3976.7470 - val_loss: 3963.8121\n",
      "Epoch 12/100\n",
      "319999/319999 [==============================] - 2s 7us/step - loss: 3965.6676 - val_loss: 3962.3566\n",
      "Epoch 13/100\n",
      "319999/319999 [==============================] - 2s 7us/step - loss: 3959.2244 - val_loss: 3938.2898\n",
      "Epoch 14/100\n",
      "319999/319999 [==============================] - 2s 7us/step - loss: 3943.3799 - val_loss: 3933.3722\n",
      "Epoch 15/100\n",
      "319999/319999 [==============================] - 2s 8us/step - loss: 3936.8770 - val_loss: 3958.5466\n",
      "Epoch 16/100\n",
      "319999/319999 [==============================] - 2s 7us/step - loss: 3931.7177 - val_loss: 3916.1425\n",
      "Epoch 17/100\n",
      "319999/319999 [==============================] - 2s 7us/step - loss: 3917.8882 - val_loss: 3925.0046\n",
      "Epoch 18/100\n",
      "319999/319999 [==============================] - 2s 7us/step - loss: 3915.4641 - val_loss: 3932.9498\n",
      "Epoch 19/100\n",
      "319999/319999 [==============================] - 2s 7us/step - loss: 3907.7742 - val_loss: 3914.5577\n",
      "Epoch 20/100\n",
      "319999/319999 [==============================] - 2s 7us/step - loss: 3893.6137 - val_loss: 3891.0713\n",
      "Epoch 21/100\n",
      "319999/319999 [==============================] - 2s 8us/step - loss: 3891.1082 - val_loss: 3886.1726\n",
      "Epoch 22/100\n",
      "319999/319999 [==============================] - 2s 7us/step - loss: 3881.1548 - val_loss: 3895.9409\n",
      "Epoch 23/100\n",
      "319999/319999 [==============================] - 2s 7us/step - loss: 3877.6806 - val_loss: 3925.5043\n",
      "Epoch 24/100\n",
      "319999/319999 [==============================] - 2s 7us/step - loss: 3887.3342 - val_loss: 3869.7633\n",
      "Epoch 25/100\n",
      "319999/319999 [==============================] - 2s 7us/step - loss: 3860.8458 - val_loss: 3867.8453\n",
      "Epoch 26/100\n",
      "319999/319999 [==============================] - 2s 7us/step - loss: 3857.1396 - val_loss: 3864.5319\n",
      "Epoch 27/100\n",
      "319999/319999 [==============================] - 2s 7us/step - loss: 3859.5628 - val_loss: 3859.4257\n",
      "Epoch 28/100\n",
      "319999/319999 [==============================] - 2s 7us/step - loss: 3847.4176 - val_loss: 3858.9382\n",
      "Epoch 29/100\n",
      "319999/319999 [==============================] - 2s 7us/step - loss: 3850.1076 - val_loss: 3881.0156\n",
      "Epoch 30/100\n",
      "319999/319999 [==============================] - 2s 7us/step - loss: 3857.2494 - val_loss: 3879.9244\n",
      "Epoch 31/100\n",
      "319999/319999 [==============================] - 2s 7us/step - loss: 3843.0583 - val_loss: 3846.8676\n",
      "Epoch 32/100\n",
      "319999/319999 [==============================] - 2s 7us/step - loss: 3831.7449 - val_loss: 3836.5101\n",
      "Epoch 33/100\n",
      "319999/319999 [==============================] - 2s 7us/step - loss: 3825.8917 - val_loss: 3837.3996\n",
      "Epoch 34/100\n",
      "319999/319999 [==============================] - 2s 7us/step - loss: 3825.7058 - val_loss: 3839.3546\n",
      "Epoch 35/100\n",
      "319999/319999 [==============================] - 2s 7us/step - loss: 3822.9779 - val_loss: 3836.7131\n",
      "Epoch 36/100\n",
      "319999/319999 [==============================] - 2s 7us/step - loss: 3820.0790 - val_loss: 3844.1550\n",
      "Epoch 37/100\n",
      "319999/319999 [==============================] - 2s 7us/step - loss: 3828.0109 - val_loss: 3859.2090\n",
      "Epoch 38/100\n",
      "319999/319999 [==============================] - 2s 7us/step - loss: 3822.9675 - val_loss: 3856.2755\n",
      "Epoch 39/100\n",
      "319999/319999 [==============================] - 2s 7us/step - loss: 3817.0699 - val_loss: 3851.8038\n",
      "Epoch 40/100\n",
      "319999/319999 [==============================] - 2s 7us/step - loss: 3816.3462 - val_loss: 3837.0494\n",
      "Epoch 41/100\n",
      "319999/319999 [==============================] - 2s 7us/step - loss: 3814.4567 - val_loss: 3823.3694\n",
      "Epoch 42/100\n",
      "319999/319999 [==============================] - 2s 7us/step - loss: 3808.7350 - val_loss: 3831.7245\n",
      "Epoch 43/100\n",
      "319999/319999 [==============================] - 2s 7us/step - loss: 3804.1507 - val_loss: 3825.3905\n",
      "Epoch 44/100\n",
      "319999/319999 [==============================] - 2s 7us/step - loss: 3802.6205 - val_loss: 3827.5508\n",
      "Epoch 45/100\n",
      "319999/319999 [==============================] - 2s 7us/step - loss: 3801.5982 - val_loss: 3818.2792\n",
      "Epoch 46/100\n",
      "319999/319999 [==============================] - 2s 7us/step - loss: 3799.5387 - val_loss: 3830.4523\n",
      "Epoch 47/100\n",
      "319999/319999 [==============================] - 2s 7us/step - loss: 3796.7709 - val_loss: 3833.3628\n",
      "Epoch 48/100\n",
      "319999/319999 [==============================] - 2s 7us/step - loss: 3798.2785 - val_loss: 3817.2614\n",
      "Epoch 49/100\n",
      "319999/319999 [==============================] - 2s 7us/step - loss: 3793.2296 - val_loss: 3830.2118\n",
      "Epoch 50/100\n",
      "319999/319999 [==============================] - 2s 7us/step - loss: 3795.7009 - val_loss: 3820.2003\n",
      "Epoch 51/100\n",
      "319999/319999 [==============================] - 2s 7us/step - loss: 3789.9881 - val_loss: 3835.9847\n",
      "Epoch 52/100\n",
      "319999/319999 [==============================] - 2s 7us/step - loss: 3794.2149 - val_loss: 3825.8916\n",
      "Epoch 53/100\n",
      "319999/319999 [==============================] - 2s 7us/step - loss: 3788.1354 - val_loss: 3821.2462\n",
      "Epoch 54/100\n",
      "319999/319999 [==============================] - 2s 7us/step - loss: 3781.4789 - val_loss: 3826.9495\n",
      "Epoch 55/100\n",
      "319999/319999 [==============================] - 2s 7us/step - loss: 3785.5863 - val_loss: 3817.7809\n",
      "Epoch 56/100\n",
      "319999/319999 [==============================] - 2s 7us/step - loss: 3779.9336 - val_loss: 3820.3295\n",
      "Epoch 57/100\n",
      "319999/319999 [==============================] - 2s 7us/step - loss: 3788.8874 - val_loss: 3822.5615\n",
      "Epoch 58/100\n",
      "319999/319999 [==============================] - 2s 7us/step - loss: 3778.9315 - val_loss: 3853.3115\n",
      "Epoch 59/100\n",
      "319999/319999 [==============================] - 2s 7us/step - loss: 3790.1690 - val_loss: 3829.1491\n",
      "Epoch 60/100\n",
      "319999/319999 [==============================] - 2s 7us/step - loss: 3780.2835 - val_loss: 3812.8571\n",
      "Epoch 61/100\n",
      "319999/319999 [==============================] - 2s 7us/step - loss: 3772.6035 - val_loss: 3827.1832\n",
      "Epoch 62/100\n",
      "319999/319999 [==============================] - 2s 7us/step - loss: 3774.4406 - val_loss: 3819.8935\n",
      "Epoch 63/100\n",
      "319999/319999 [==============================] - 2s 7us/step - loss: 3775.7992 - val_loss: 3811.6538\n",
      "Epoch 64/100\n",
      "319999/319999 [==============================] - 2s 7us/step - loss: 3768.1414 - val_loss: 3805.0371\n",
      "Epoch 65/100\n",
      "319999/319999 [==============================] - 2s 7us/step - loss: 3768.9362 - val_loss: 3810.8634\n",
      "Epoch 66/100\n",
      "319999/319999 [==============================] - 2s 7us/step - loss: 3768.7653 - val_loss: 3804.9958\n",
      "Epoch 67/100\n",
      "319999/319999 [==============================] - 2s 7us/step - loss: 3766.6238 - val_loss: 3803.9053\n",
      "Epoch 68/100\n",
      "319999/319999 [==============================] - 2s 7us/step - loss: 3767.0788 - val_loss: 3813.8442\n",
      "Epoch 69/100\n",
      "319999/319999 [==============================] - 2s 7us/step - loss: 3781.3363 - val_loss: 3820.4042\n",
      "Epoch 70/100\n",
      "319999/319999 [==============================] - 2s 7us/step - loss: 3775.6736 - val_loss: 3809.9523\n",
      "Epoch 71/100\n",
      "319999/319999 [==============================] - 2s 7us/step - loss: 3764.5437 - val_loss: 3831.5525\n",
      "Epoch 72/100\n",
      "319999/319999 [==============================] - 2s 7us/step - loss: 3786.6793 - val_loss: 3809.5492\n",
      "Epoch 73/100\n",
      "319999/319999 [==============================] - 2s 7us/step - loss: 3764.1778 - val_loss: 3816.0352\n",
      "Epoch 74/100\n",
      "319999/319999 [==============================] - 2s 7us/step - loss: 3763.1613 - val_loss: 3801.2777\n",
      "Epoch 75/100\n",
      "319999/319999 [==============================] - 2s 7us/step - loss: 3758.2116 - val_loss: 3801.4719\n",
      "Epoch 76/100\n",
      "319999/319999 [==============================] - 2s 7us/step - loss: 3758.3432 - val_loss: 3802.6830\n",
      "Epoch 77/100\n",
      "319999/319999 [==============================] - 2s 7us/step - loss: 3753.8907 - val_loss: 3822.1633\n",
      "Epoch 78/100\n",
      "319999/319999 [==============================] - 2s 7us/step - loss: 3758.5795 - val_loss: 3799.6254\n",
      "Epoch 79/100\n",
      "319999/319999 [==============================] - 2s 7us/step - loss: 3750.3875 - val_loss: 3799.8715\n",
      "Epoch 80/100\n",
      "319999/319999 [==============================] - 2s 7us/step - loss: 3755.1245 - val_loss: 3812.9409\n",
      "Epoch 81/100\n",
      "319999/319999 [==============================] - 2s 7us/step - loss: 3750.8729 - val_loss: 3806.0233\n",
      "Epoch 82/100\n",
      "319999/319999 [==============================] - 2s 7us/step - loss: 3762.3741 - val_loss: 3802.8875\n",
      "Epoch 83/100\n",
      "319999/319999 [==============================] - 2s 7us/step - loss: 3755.7246 - val_loss: 3810.3703\n",
      "Epoch 84/100\n",
      "319999/319999 [==============================] - 2s 7us/step - loss: 3754.7069 - val_loss: 3797.3254\n",
      "Epoch 85/100\n",
      "319999/319999 [==============================] - 2s 7us/step - loss: 3747.4927 - val_loss: 3798.9290\n",
      "Epoch 86/100\n",
      "319999/319999 [==============================] - 2s 7us/step - loss: 3763.5696 - val_loss: 3839.2086\n",
      "Epoch 87/100\n",
      "319999/319999 [==============================] - 2s 7us/step - loss: 3762.1275 - val_loss: 3840.0195\n",
      "Epoch 88/100\n",
      "319999/319999 [==============================] - 2s 7us/step - loss: 3762.5156 - val_loss: 3806.2205\n",
      "Epoch 89/100\n",
      "319999/319999 [==============================] - 2s 7us/step - loss: 3743.1499 - val_loss: 3806.7695\n",
      "Epoch 90/100\n",
      "319999/319999 [==============================] - 2s 7us/step - loss: 3744.9002 - val_loss: 3798.4872\n",
      "Epoch 91/100\n",
      "319999/319999 [==============================] - 2s 7us/step - loss: 3745.0121 - val_loss: 3797.6239\n",
      "Epoch 92/100\n",
      "319999/319999 [==============================] - 2s 7us/step - loss: 3747.4968 - val_loss: 3818.4895\n",
      "Epoch 93/100\n",
      "319999/319999 [==============================] - 2s 7us/step - loss: 3747.6713 - val_loss: 3804.4251\n",
      "Epoch 94/100\n",
      "319999/319999 [==============================] - 2s 7us/step - loss: 3745.7955 - val_loss: 3790.1437\n",
      "Epoch 95/100\n",
      "319999/319999 [==============================] - 2s 7us/step - loss: 3740.4713 - val_loss: 3808.9016\n",
      "Epoch 96/100\n",
      "319999/319999 [==============================] - 2s 7us/step - loss: 3743.4197 - val_loss: 3803.6383\n",
      "Epoch 97/100\n",
      "319999/319999 [==============================] - 2s 7us/step - loss: 3739.6556 - val_loss: 3799.9679\n",
      "Epoch 98/100\n",
      "319999/319999 [==============================] - 2s 7us/step - loss: 3744.9366 - val_loss: 3902.7210\n",
      "Epoch 99/100\n",
      "319999/319999 [==============================] - 2s 7us/step - loss: 3757.7894 - val_loss: 3797.0751\n",
      "Epoch 100/100\n",
      "319999/319999 [==============================] - 2s 7us/step - loss: 3732.2409 - val_loss: 3798.9232\n"
     ]
    }
   ],
   "source": [
    "history = MyModel.fit(X_train, y_train,\n",
    "                      validation_split=0.2,\n",
    "                      epochs=100,\n",
    "                      batch_size=8192\n",
    "                     )"
   ]
  },
  {
   "cell_type": "code",
   "execution_count": 35,
   "metadata": {},
   "outputs": [
    {
     "name": "stderr",
     "output_type": "stream",
     "text": [
      "Font 'default' does not have a glyph for '\\\\times' [U+d7], substituting with a dummy symbol.\n",
      "Font 'default' does not have a glyph for '\\\\times' [U+d7], substituting with a dummy symbol.\n",
      "Font 'default' does not have a glyph for '\\\\times' [U+d7], substituting with a dummy symbol.\n",
      "Font 'default' does not have a glyph for '\\\\times' [U+d7], substituting with a dummy symbol.\n",
      "Font 'default' does not have a glyph for '\\\\times' [U+d7], substituting with a dummy symbol.\n",
      "Font 'default' does not have a glyph for '\\\\times' [U+d7], substituting with a dummy symbol.\n",
      "Font 'default' does not have a glyph for '\\\\times' [U+d7], substituting with a dummy symbol.\n",
      "Font 'default' does not have a glyph for '\\\\times' [U+d7], substituting with a dummy symbol.\n",
      "Font 'default' does not have a glyph for '\\\\times' [U+d7], substituting with a dummy symbol.\n",
      "Font 'default' does not have a glyph for '\\\\times' [U+d7], substituting with a dummy symbol.\n"
     ]
    },
    {
     "data": {
      "image/png": "[encoded data removed]",
      "text/plain": [
       "<Figure size 320x320 with 1 Axes>"
      ]
     },
     "metadata": {
      "needs_background": "light"
     },
     "output_type": "display_data"
    }
   ],
   "source": [
    "plt.plot(history.history['loss'])\n",
    "plt.plot(history.history['val_loss'])\n",
    "plt.yscale('log')\n",
    "plt.xlabel('Epochs')\n",
    "plt.ylabel('RMSE')\n",
    "plt.legend(['Train', 'Validation'])\n",
    "plt.show()"
   ]
  },
  {
   "cell_type": "code",
   "execution_count": 36,
   "metadata": {},
   "outputs": [],
   "source": [
    "# predict the scores for the test set, then histogram them based on the real labels\n",
    "test_preds = MyModel.predict(X_test)"
   ]
  },
  {
   "cell_type": "code",
   "execution_count": 37,
   "metadata": {},
   "outputs": [
    {
     "data": {
      "image/png": "[encoded data removed]",
      "text/plain": [
       "<Figure size 320x320 with 1 Axes>"
      ]
     },
     "metadata": {
      "needs_background": "light"
     },
     "output_type": "display_data"
    }
   ],
   "source": [
    "plt.hist(test_preds, bins=50, range=(-200,200), histtype='step')\n",
    "plt.hist(y_test, bins=50, range=(-200,200), histtype='step')\n",
    "plt.xlabel('Vr')\n",
    "plt.ylabel('Stars')\n",
    "plt.title('Test set - simulated data')\n",
    "plt.yscale('log')\n",
    "plt.show()"
   ]
  },
  {
   "cell_type": "code",
   "execution_count": 38,
   "metadata": {},
   "outputs": [
    {
     "data": {
      "text/plain": [
       "Text(0, 0.5, 'Vr real')"
      ]
     },
     "execution_count": 38,
     "metadata": {},
     "output_type": "execute_result"
    },
    {
     "data": {
      "image/png": "[encoded data removed]",
      "text/plain": [
       "<Figure size 320x320 with 1 Axes>"
      ]
     },
     "metadata": {
      "needs_background": "light"
     },
     "output_type": "display_data"
    }
   ],
   "source": [
    "plt.scatter(test_preds,y_test)\n",
    "plt.xlabel('Vr predicted')\n",
    "plt.ylabel('Vr real')"
   ]
  },
  {
   "cell_type": "code",
   "execution_count": null,
   "metadata": {},
   "outputs": [],
   "source": []
  }
 ],
 "metadata": {
  "kernelspec": {
   "display_name": "venv_ML",
   "language": "python",
   "name": "venv_ml"
  },
  "language_info": {
   "codemirror_mode": {
    "name": "ipython",
    "version": 3
   },
   "file_extension": ".py",
   "mimetype": "text/x-python",
   "name": "python",
   "nbconvert_exporter": "python",
   "pygments_lexer": "ipython3",
   "version": "3.6.10"
  }
 },
 "nbformat": 4,
 "nbformat_minor": 4
}
