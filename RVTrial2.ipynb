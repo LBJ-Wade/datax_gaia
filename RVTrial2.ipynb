{
 "cells": [
  {
   "cell_type": "markdown",
   "metadata": {},
   "source": [
    "# ML to find radial velocities using FIRE data"
   ]
  },
  {
   "cell_type": "code",
   "execution_count": 1,
   "metadata": {},
   "outputs": [],
   "source": [
    "%matplotlib inline\n",
    "\n",
    "import matplotlib\n",
    "import matplotlib.colors as colors\n",
    "\n",
    "import pandas as pd\n",
    "import numpy as np\n",
    "import matplotlib.pyplot as plt\n",
    "import os.path\n",
    "import sys\n",
    "import gzip\n",
    "import matplotlib.gridspec as gridspec\n",
    "\n",
    "matplotlib.rcParams.update({'font.family':'cmr10','font.size': 13})\n",
    "matplotlib.rcParams['axes.unicode_minus']=False\n",
    "matplotlib.rcParams['axes.labelsize']=15\n",
    "plt.rcParams['figure.figsize']=(4,4)\n",
    "plt.rcParams['figure.dpi'] = 80\n",
    "plt.rcParams['mathtext.fontset'] = 'cm'\n",
    "plt.rcParams['mathtext.rm'] = 'serif'\n",
    "plt.rcParams['xtick.direction'] = 'in'\n",
    "plt.rcParams['ytick.direction'] = 'in'\n",
    "plt.rcParams['xtick.top'] = True\n",
    "plt.rcParams['ytick.right'] = True"
   ]
  },
  {
   "cell_type": "code",
   "execution_count": 2,
   "metadata": {},
   "outputs": [],
   "source": [
    "data = np.load('StarsWithRadialVelocity.npy')"
   ]
  },
  {
   "cell_type": "code",
   "execution_count": 3,
   "metadata": {},
   "outputs": [],
   "source": [
    "data_cols = ['l', 'b','ra', 'dec', 'pmra', 'pmdec', 'parallax', 'radial_velocity',\n",
    "             'phot_g_mean_mag', 'phot_bp_mean_mag', 'phot_rp_mean_mag',\n",
    "             'pmra_error', 'pmdec_error', 'parallax_error', 'radial_velocity_error',\n",
    "             'phot_g_mean_mag_error', 'phot_bp_mean_mag_error', 'phot_rp_mean_mag_error',\n",
    "             'AccretedLabel'\n",
    "            ]\n",
    "#could train on radial_velocity_error"
   ]
  },
  {
   "cell_type": "code",
   "execution_count": 4,
   "metadata": {},
   "outputs": [],
   "source": [
    "data = pd.DataFrame(data, columns=data_cols)"
   ]
  },
  {
   "cell_type": "code",
   "execution_count": 5,
   "metadata": {},
   "outputs": [
    {
     "data": {
      "text/plain": [
       "(11400846, 19)"
      ]
     },
     "execution_count": 5,
     "metadata": {},
     "output_type": "execute_result"
    }
   ],
   "source": [
    "data.shape"
   ]
  },
  {
   "cell_type": "code",
   "execution_count": 6,
   "metadata": {},
   "outputs": [
    {
     "data": {
      "text/html": [
       "<div>\n",
       "<style scoped>\n",
       "    .dataframe tbody tr th:only-of-type {\n",
       "        vertical-align: middle;\n",
       "    }\n",
       "\n",
       "    .dataframe tbody tr th {\n",
       "        vertical-align: top;\n",
       "    }\n",
       "\n",
       "    .dataframe thead th {\n",
       "        text-align: right;\n",
       "    }\n",
       "</style>\n",
       "<table border=\"1\" class=\"dataframe\">\n",
       "  <thead>\n",
       "    <tr style=\"text-align: right;\">\n",
       "      <th></th>\n",
       "      <th>l</th>\n",
       "      <th>b</th>\n",
       "      <th>ra</th>\n",
       "      <th>dec</th>\n",
       "      <th>pmra</th>\n",
       "      <th>pmdec</th>\n",
       "      <th>parallax</th>\n",
       "      <th>radial_velocity</th>\n",
       "      <th>phot_g_mean_mag</th>\n",
       "      <th>phot_bp_mean_mag</th>\n",
       "      <th>phot_rp_mean_mag</th>\n",
       "      <th>pmra_error</th>\n",
       "      <th>pmdec_error</th>\n",
       "      <th>parallax_error</th>\n",
       "      <th>radial_velocity_error</th>\n",
       "      <th>phot_g_mean_mag_error</th>\n",
       "      <th>phot_bp_mean_mag_error</th>\n",
       "      <th>phot_rp_mean_mag_error</th>\n",
       "      <th>AccretedLabel</th>\n",
       "    </tr>\n",
       "  </thead>\n",
       "  <tbody>\n",
       "    <tr>\n",
       "      <th>0</th>\n",
       "      <td>18.947771</td>\n",
       "      <td>17.087326</td>\n",
       "      <td>261.281075</td>\n",
       "      <td>-4.105546</td>\n",
       "      <td>0.304014</td>\n",
       "      <td>-2.012651</td>\n",
       "      <td>0.443537</td>\n",
       "      <td>44.472788</td>\n",
       "      <td>14.384683</td>\n",
       "      <td>14.678857</td>\n",
       "      <td>13.931516</td>\n",
       "      <td>0.091557</td>\n",
       "      <td>0.091557</td>\n",
       "      <td>0.044116</td>\n",
       "      <td>9.908263</td>\n",
       "      <td>0.000611</td>\n",
       "      <td>0.003929</td>\n",
       "      <td>0.003929</td>\n",
       "      <td>0.0</td>\n",
       "    </tr>\n",
       "    <tr>\n",
       "      <th>1</th>\n",
       "      <td>-4.978819</td>\n",
       "      <td>-41.542610</td>\n",
       "      <td>315.656827</td>\n",
       "      <td>-45.372252</td>\n",
       "      <td>15.768343</td>\n",
       "      <td>-16.975898</td>\n",
       "      <td>1.369992</td>\n",
       "      <td>-120.045033</td>\n",
       "      <td>12.405884</td>\n",
       "      <td>12.633657</td>\n",
       "      <td>12.030871</td>\n",
       "      <td>0.087001</td>\n",
       "      <td>0.087001</td>\n",
       "      <td>0.042780</td>\n",
       "      <td>2.036502</td>\n",
       "      <td>0.000342</td>\n",
       "      <td>0.002105</td>\n",
       "      <td>0.002105</td>\n",
       "      <td>0.0</td>\n",
       "    </tr>\n",
       "    <tr>\n",
       "      <th>2</th>\n",
       "      <td>-137.539419</td>\n",
       "      <td>-47.311996</td>\n",
       "      <td>60.814237</td>\n",
       "      <td>-25.789371</td>\n",
       "      <td>5.542696</td>\n",
       "      <td>9.388474</td>\n",
       "      <td>0.597262</td>\n",
       "      <td>83.063864</td>\n",
       "      <td>14.347357</td>\n",
       "      <td>14.619976</td>\n",
       "      <td>13.923520</td>\n",
       "      <td>0.091365</td>\n",
       "      <td>0.091365</td>\n",
       "      <td>0.044055</td>\n",
       "      <td>9.917098</td>\n",
       "      <td>0.000602</td>\n",
       "      <td>0.003861</td>\n",
       "      <td>0.003861</td>\n",
       "      <td>0.0</td>\n",
       "    </tr>\n",
       "    <tr>\n",
       "      <th>3</th>\n",
       "      <td>-68.315598</td>\n",
       "      <td>-32.353069</td>\n",
       "      <td>71.998054</td>\n",
       "      <td>-78.933526</td>\n",
       "      <td>14.320530</td>\n",
       "      <td>-13.669455</td>\n",
       "      <td>0.862436</td>\n",
       "      <td>-106.062495</td>\n",
       "      <td>14.062039</td>\n",
       "      <td>14.311761</td>\n",
       "      <td>13.648176</td>\n",
       "      <td>0.090130</td>\n",
       "      <td>0.090130</td>\n",
       "      <td>0.043668</td>\n",
       "      <td>7.792049</td>\n",
       "      <td>0.000544</td>\n",
       "      <td>0.003407</td>\n",
       "      <td>0.003407</td>\n",
       "      <td>0.0</td>\n",
       "    </tr>\n",
       "    <tr>\n",
       "      <th>4</th>\n",
       "      <td>85.879721</td>\n",
       "      <td>-52.988838</td>\n",
       "      <td>351.547535</td>\n",
       "      <td>3.638489</td>\n",
       "      <td>2.937268</td>\n",
       "      <td>5.109022</td>\n",
       "      <td>1.510236</td>\n",
       "      <td>-23.143291</td>\n",
       "      <td>14.677980</td>\n",
       "      <td>15.082906</td>\n",
       "      <td>14.107460</td>\n",
       "      <td>0.093275</td>\n",
       "      <td>0.093275</td>\n",
       "      <td>0.044678</td>\n",
       "      <td>11.110764</td>\n",
       "      <td>0.000683</td>\n",
       "      <td>0.004529</td>\n",
       "      <td>0.004529</td>\n",
       "      <td>0.0</td>\n",
       "    </tr>\n",
       "  </tbody>\n",
       "</table>\n",
       "</div>"
      ],
      "text/plain": [
       "            l          b          ra        dec       pmra      pmdec  \\\n",
       "0   18.947771  17.087326  261.281075  -4.105546   0.304014  -2.012651   \n",
       "1   -4.978819 -41.542610  315.656827 -45.372252  15.768343 -16.975898   \n",
       "2 -137.539419 -47.311996   60.814237 -25.789371   5.542696   9.388474   \n",
       "3  -68.315598 -32.353069   71.998054 -78.933526  14.320530 -13.669455   \n",
       "4   85.879721 -52.988838  351.547535   3.638489   2.937268   5.109022   \n",
       "\n",
       "   parallax  radial_velocity  phot_g_mean_mag  phot_bp_mean_mag  \\\n",
       "0  0.443537        44.472788        14.384683         14.678857   \n",
       "1  1.369992      -120.045033        12.405884         12.633657   \n",
       "2  0.597262        83.063864        14.347357         14.619976   \n",
       "3  0.862436      -106.062495        14.062039         14.311761   \n",
       "4  1.510236       -23.143291        14.677980         15.082906   \n",
       "\n",
       "   phot_rp_mean_mag  pmra_error  pmdec_error  parallax_error  \\\n",
       "0         13.931516    0.091557     0.091557        0.044116   \n",
       "1         12.030871    0.087001     0.087001        0.042780   \n",
       "2         13.923520    0.091365     0.091365        0.044055   \n",
       "3         13.648176    0.090130     0.090130        0.043668   \n",
       "4         14.107460    0.093275     0.093275        0.044678   \n",
       "\n",
       "   radial_velocity_error  phot_g_mean_mag_error  phot_bp_mean_mag_error  \\\n",
       "0               9.908263               0.000611                0.003929   \n",
       "1               2.036502               0.000342                0.002105   \n",
       "2               9.917098               0.000602                0.003861   \n",
       "3               7.792049               0.000544                0.003407   \n",
       "4              11.110764               0.000683                0.004529   \n",
       "\n",
       "   phot_rp_mean_mag_error  AccretedLabel  \n",
       "0                0.003929            0.0  \n",
       "1                0.002105            0.0  \n",
       "2                0.003861            0.0  \n",
       "3                0.003407            0.0  \n",
       "4                0.004529            0.0  "
      ]
     },
     "execution_count": 6,
     "metadata": {},
     "output_type": "execute_result"
    }
   ],
   "source": [
    "data.head()\n"
   ]
  },
  {
   "cell_type": "code",
   "execution_count": 7,
   "metadata": {},
   "outputs": [],
   "source": [
    "from sklearn.preprocessing import StandardScaler\n",
    "from sklearn.model_selection import train_test_split\n",
    "from scipy.interpolate import interp1d"
   ]
  },
  {
   "cell_type": "code",
   "execution_count": 8,
   "metadata": {},
   "outputs": [],
   "source": [
    "# What columns to use?\n",
    "use_cols = ['l', 'b','parallax','pmra','pmdec']\n",
    "# Make the design matrix\n",
    "X = data[use_cols].values\n",
    "Y = (data['radial_velocity']).values\n",
    "#Y = (Y - np.mean(Y))/(np.std(Y))"
   ]
  },
  {
   "cell_type": "code",
   "execution_count": 9,
   "metadata": {},
   "outputs": [],
   "source": [
    "X_train, X_test, y_train, y_test = train_test_split(X[1:500000], Y[1:500000],\n",
    "                                                    test_size = 0.2,\n",
    "                                                    random_state=42)\n"
   ]
  },
  {
   "cell_type": "code",
   "execution_count": 10,
   "metadata": {},
   "outputs": [
    {
     "name": "stdout",
     "output_type": "stream",
     "text": [
      "[-120.0450329    83.06386364 -106.06249519  -23.14329118   76.44296107\n",
      "  -46.41827695  -14.63364152  145.08926375   23.34802781  -81.40152111\n",
      "   14.85311096   13.65635045  -57.63144288   49.00421197  -25.57274867\n",
      "  -33.70641643 -155.18195204   18.97178791  -28.75733815  -22.24392089\n",
      " -125.13177741  -15.30500433  -90.73707434  -13.61774996    7.65311969\n",
      "    9.78484264   48.33065928  -48.42229803  -41.42301592   53.81317666\n",
      "   -2.44551656   -9.33211705  -76.28246486   86.96668327   -1.750906\n",
      " -164.60428404   87.25801578  -12.22197529  -64.65157395  -42.6330156\n",
      "   50.1763895   -93.93586989   27.69689785 -100.27945436   26.4079252\n",
      "  -72.79021722   45.89088179  -25.88975786    3.85857973]\n"
     ]
    }
   ],
   "source": [
    "print(Y[1:50])"
   ]
  },
  {
   "cell_type": "code",
   "execution_count": 11,
   "metadata": {},
   "outputs": [],
   "source": [
    "#trying to add some weights to training data\n",
    "vr_real = y_train\n",
    "counts, bins = np.histogram(vr_real,bins=np.linspace(-850,850,101))\n",
    "bin_centers = (bins[1:]+bins[:-1])/2\n",
    "interp_func = interp1d(bin_centers,(counts).astype('float'))\n",
    "inv_weights = interp_func(vr_real)\n",
    "weights = 1/inv_weights"
   ]
  },
  {
   "cell_type": "code",
   "execution_count": 12,
   "metadata": {},
   "outputs": [
    {
     "name": "stdout",
     "output_type": "stream",
     "text": [
      "(399999, 5)\n",
      "(399999,)\n",
      "There are -1438120.796128343 stars in the training set\n",
      "\n",
      "(100000, 5)\n",
      "(100000,)\n",
      "There are -351178.2908281403 stars in the test set\n"
     ]
    }
   ],
   "source": [
    "print(X_train.shape)\n",
    "print(y_train.shape)\n",
    "print('There are {0} stars in the training set'.format(np.sum(y_train)))\n",
    "print()\n",
    "print(X_test.shape)\n",
    "print(y_test.shape)\n",
    "print('There are {0} stars in the test set'.format(np.sum(y_test)))"
   ]
  },
  {
   "cell_type": "markdown",
   "metadata": {},
   "source": [
    "I think this is giving me a negative output because it's summing over y_train, which is not the number of stars, but is instead the radial velocities. "
   ]
  },
  {
   "cell_type": "code",
   "execution_count": 13,
   "metadata": {},
   "outputs": [],
   "source": [
    "SS = StandardScaler()\n",
    "X_train = SS.fit_transform(X_train)"
   ]
  },
  {
   "cell_type": "code",
   "execution_count": 14,
   "metadata": {},
   "outputs": [],
   "source": [
    "# Now scale the test data using the same mean and standard deviation as found with the training data\n",
    "X_test = SS.transform(X_test)"
   ]
  },
  {
   "cell_type": "code",
   "execution_count": 15,
   "metadata": {},
   "outputs": [
    {
     "name": "stderr",
     "output_type": "stream",
     "text": [
      "Font 'default' does not have a glyph for '\\\\times' [U+d7], substituting with a dummy symbol.\n",
      "Font 'default' does not have a glyph for '\\\\times' [U+d7], substituting with a dummy symbol.\n",
      "Font 'default' does not have a glyph for '\\\\times' [U+d7], substituting with a dummy symbol.\n",
      "Font 'default' does not have a glyph for '\\\\times' [U+d7], substituting with a dummy symbol.\n"
     ]
    },
    {
     "data": {
      "image/png": "[encoded data removed]",
      "text/plain": [
       "<Figure size 480x240 with 2 Axes>"
      ]
     },
     "metadata": {
      "needs_background": "light"
     },
     "output_type": "display_data"
    },
    {
     "data": {
      "image/png": "[encoded data removed]",
      "text/plain": [
       "<Figure size 480x240 with 2 Axes>"
      ]
     },
     "metadata": {
      "needs_background": "light"
     },
     "output_type": "display_data"
    },
    {
     "data": {
      "image/png": "[encoded data removed]",
      "text/plain": [
       "<Figure size 480x240 with 2 Axes>"
      ]
     },
     "metadata": {
      "needs_background": "light"
     },
     "output_type": "display_data"
    },
    {
     "data": {
      "image/png": "[encoded data removed]",
      "text/plain": [
       "<Figure size 480x240 with 2 Axes>"
      ]
     },
     "metadata": {
      "needs_background": "light"
     },
     "output_type": "display_data"
    },
    {
     "data": {
      "image/png": "[encoded data removed]",
      "text/plain": [
       "<Figure size 480x240 with 2 Axes>"
      ]
     },
     "metadata": {
      "needs_background": "light"
     },
     "output_type": "display_data"
    }
   ],
   "source": [
    "#visualize check data\n",
    "for i, col in enumerate(use_cols):\n",
    "    plt.figure(figsize=(6, 3))\n",
    "    plt.subplot(1,2,1)\n",
    "    plt.hist(data[col], bins=100)\n",
    "    plt.yscale('log')\n",
    "    plt.title('Data')\n",
    "    \n",
    "    plt.subplot(1,2,2)\n",
    "    plt.hist(X_train[:, i], bins=100, alpha=0.5)\n",
    "    plt.hist(X_test[:, i], bins=100, alpha=0.5)\n",
    "    plt.yscale('log')\n",
    "    plt.title('Scaled')\n",
    "    \n",
    "    plt.suptitle(col, y=1.01, fontsize=16)\n",
    "    \n",
    "    plt.tight_layout()"
   ]
  },
  {
   "cell_type": "code",
   "execution_count": 16,
   "metadata": {},
   "outputs": [
    {
     "name": "stderr",
     "output_type": "stream",
     "text": [
      "Using TensorFlow backend.\n"
     ]
    }
   ],
   "source": [
    "from keras.models import Sequential\n",
    "from keras.layers import Dense\n",
    "from keras.callbacks import EarlyStopping, ModelCheckpoint\n",
    "from keras.optimizers import Adam"
   ]
  },
  {
   "cell_type": "code",
   "execution_count": 17,
   "metadata": {},
   "outputs": [],
   "source": [
    "from keras import backend as K"
   ]
  },
  {
   "cell_type": "code",
   "execution_count": 18,
   "metadata": {},
   "outputs": [],
   "source": [
    "def LikelihoodLossFunction(y_true, y_pred):\n",
    "    # shape of y_pred should be (nsamples, 2)\n",
    "    # the first column should be the mean of the prediction\n",
    "    # the second column is the confidence (number of standard deviations)\n",
    "#     print y_true.shape\n",
    "#     print y_pred.shape\n",
    "    SIGMA = K.abs(y_pred[:, 1])\n",
    "    LOC = y_pred[:, 0]\n",
    "    X = y_true[:, 0]\n",
    "    \n",
    "    ARG = K.square(X - LOC) / (2 * K.square(SIGMA))\n",
    "    PREFACT = K.log(K.pow(2 * np.pi * K.square(SIGMA), -0.5))\n",
    "    #you get this from the conditional probability distribution\n",
    "    return K.mean(ARG - PREFACT)\n",
    "#returns [vr predicted, sigma]"
   ]
  },
  {
   "cell_type": "code",
   "execution_count": 19,
   "metadata": {},
   "outputs": [],
   "source": [
    "def ConstantLikelihoodLossFunction(y_true, y_pred):\n",
    "    # shape of y_pred should be (nsamples, 2)\n",
    "    # the first column should be the mean of the prediction\n",
    "    # the second column is the confidence (number of standard deviations)\n",
    "#     print y_true.shape\n",
    "#     print y_pred.shape\n",
    "    LOC = y_pred[:, 0]\n",
    "    X = y_true[:, 0]\n",
    "    ARG = -K.square(X - LOC) / (2.0)\n",
    "    return K.mean(-ARG)\n"
   ]
  },
  {
   "cell_type": "markdown",
   "metadata": {},
   "source": [
    "Going to train once on Constant Likelihood first. "
   ]
  },
  {
   "cell_type": "code",
   "execution_count": 20,
   "metadata": {},
   "outputs": [],
   "source": [
    "MyModel = Sequential()\n",
    "MyModel.add(Dense(units=100, activation='relu', input_dim=X_train.shape[1]))\n",
    "MyModel.add(Dense(units=100, activation='relu'))\n",
    "MyModel.add(Dense(units=100, activation='relu'))\n",
    "MyModel.add(Dense(units=2))\n",
    "#using tanh activation function in the last layer\n",
    "#MyModel.compile(loss='mean_squared_error',\n",
    "               # optimizer='adam'\n",
    "              # )\n",
    "MyModel.compile(loss=ConstantLikelihoodLossFunction,\n",
    "                optimizer='adam'\n",
    "               )"
   ]
  },
  {
   "cell_type": "code",
   "execution_count": 21,
   "metadata": {},
   "outputs": [
    {
     "name": "stdout",
     "output_type": "stream",
     "text": [
      "Model: \"sequential_1\"\n",
      "_________________________________________________________________\n",
      "Layer (type)                 Output Shape              Param #   \n",
      "=================================================================\n",
      "dense_1 (Dense)              (None, 100)               600       \n",
      "_________________________________________________________________\n",
      "dense_2 (Dense)              (None, 100)               10100     \n",
      "_________________________________________________________________\n",
      "dense_3 (Dense)              (None, 100)               10100     \n",
      "_________________________________________________________________\n",
      "dense_4 (Dense)              (None, 2)                 202       \n",
      "=================================================================\n",
      "Total params: 21,002\n",
      "Trainable params: 21,002\n",
      "Non-trainable params: 0\n",
      "_________________________________________________________________\n"
     ]
    }
   ],
   "source": [
    "MyModel.summary()"
   ]
  },
  {
   "cell_type": "code",
   "execution_count": 22,
   "metadata": {},
   "outputs": [],
   "source": [
    "#training any checkpoint or early stopping? \n",
    "es = EarlyStopping(patience=2, restore_best_weights=True)"
   ]
  },
  {
   "cell_type": "code",
   "execution_count": 23,
   "metadata": {},
   "outputs": [
    {
     "name": "stdout",
     "output_type": "stream",
     "text": [
      "Train on 319999 samples, validate on 80000 samples\n",
      "Epoch 1/15\n",
      "319999/319999 [==============================] - 2s 6us/step - loss: 0.4170 - val_loss: 0.3843\n",
      "Epoch 2/15\n",
      "319999/319999 [==============================] - 2s 5us/step - loss: 0.3888 - val_loss: 0.3713\n",
      "Epoch 3/15\n",
      "319999/319999 [==============================] - 2s 5us/step - loss: 0.3806 - val_loss: 0.3638\n",
      "Epoch 4/15\n",
      "319999/319999 [==============================] - 2s 5us/step - loss: 0.3730 - val_loss: 0.3587\n",
      "Epoch 5/15\n",
      "319999/319999 [==============================] - 2s 5us/step - loss: 0.3677 - val_loss: 0.3588\n",
      "Epoch 6/15\n",
      "319999/319999 [==============================] - 2s 5us/step - loss: 0.3640 - val_loss: 0.3544\n",
      "Epoch 7/15\n",
      "319999/319999 [==============================] - 2s 5us/step - loss: 0.3631 - val_loss: 0.3523\n",
      "Epoch 8/15\n",
      "319999/319999 [==============================] - 2s 5us/step - loss: 0.3599 - val_loss: 0.3511\n",
      "Epoch 9/15\n",
      "319999/319999 [==============================] - 2s 5us/step - loss: 0.3590 - val_loss: 0.3500\n",
      "Epoch 10/15\n",
      "319999/319999 [==============================] - 2s 5us/step - loss: 0.3588 - val_loss: 0.3485\n",
      "Epoch 11/15\n",
      "319999/319999 [==============================] - 2s 5us/step - loss: 0.3575 - val_loss: 0.3469\n",
      "Epoch 12/15\n",
      "319999/319999 [==============================] - 2s 5us/step - loss: 0.3533 - val_loss: 0.3471\n",
      "Epoch 13/15\n",
      "319999/319999 [==============================] - 2s 5us/step - loss: 0.3548 - val_loss: 0.3451\n",
      "Epoch 14/15\n",
      "319999/319999 [==============================] - 2s 5us/step - loss: 0.3521 - val_loss: 0.3456\n",
      "Epoch 15/15\n",
      "319999/319999 [==============================] - 2s 5us/step - loss: 0.3550 - val_loss: 0.3452\n"
     ]
    }
   ],
   "source": [
    "history = MyModel.fit(X_train,np.vstack([y_train,\n",
    "                                  np.ones(y_train.shape[0])\n",
    "                                  ]).T,\n",
    "                      validation_split=0.2,\n",
    "                      epochs=15,\n",
    "                      batch_size=1000,\n",
    "                      callbacks = [es],\n",
    "                      sample_weight=weights\n",
    "                     )\n",
    "#not sure exactly how many epochs I should run this for....we'll see \n",
    "#loss is still really small numbers- because of rescaling and then re-weighting"
   ]
  },
  {
   "cell_type": "code",
   "execution_count": 24,
   "metadata": {},
   "outputs": [
    {
     "name": "stderr",
     "output_type": "stream",
     "text": [
      "Font 'default' does not have a glyph for '\\\\times' [U+d7], substituting with a dummy symbol.\n",
      "Font 'default' does not have a glyph for '\\\\times' [U+d7], substituting with a dummy symbol.\n",
      "Font 'default' does not have a glyph for '\\\\times' [U+d7], substituting with a dummy symbol.\n",
      "Font 'default' does not have a glyph for '\\\\times' [U+d7], substituting with a dummy symbol.\n",
      "Font 'default' does not have a glyph for '\\\\times' [U+d7], substituting with a dummy symbol.\n",
      "Font 'default' does not have a glyph for '\\\\times' [U+d7], substituting with a dummy symbol.\n",
      "Font 'default' does not have a glyph for '\\\\times' [U+d7], substituting with a dummy symbol.\n",
      "Font 'default' does not have a glyph for '\\\\times' [U+d7], substituting with a dummy symbol.\n",
      "Font 'default' does not have a glyph for '\\\\times' [U+d7], substituting with a dummy symbol.\n",
      "Font 'default' does not have a glyph for '\\\\times' [U+d7], substituting with a dummy symbol.\n",
      "Font 'default' does not have a glyph for '\\\\times' [U+d7], substituting with a dummy symbol.\n",
      "Font 'default' does not have a glyph for '\\\\times' [U+d7], substituting with a dummy symbol.\n",
      "Font 'default' does not have a glyph for '\\\\times' [U+d7], substituting with a dummy symbol.\n",
      "Font 'default' does not have a glyph for '\\\\times' [U+d7], substituting with a dummy symbol.\n",
      "Font 'default' does not have a glyph for '\\\\times' [U+d7], substituting with a dummy symbol.\n",
      "Font 'default' does not have a glyph for '\\\\times' [U+d7], substituting with a dummy symbol.\n"
     ]
    },
    {
     "data": {
      "image/png": "[encoded data removed]",
      "text/plain": [
       "<Figure size 320x320 with 1 Axes>"
      ]
     },
     "metadata": {
      "needs_background": "light"
     },
     "output_type": "display_data"
    }
   ],
   "source": [
    "plt.plot(history.history['loss'])\n",
    "plt.plot(history.history['val_loss'])\n",
    "plt.yscale('log')\n",
    "plt.xlabel('Epochs')\n",
    "plt.ylabel('Constant Loss Function')\n",
    "plt.legend(['Train', 'Validation'])\n",
    "plt.show()"
   ]
  },
  {
   "cell_type": "markdown",
   "metadata": {},
   "source": [
    "Next going to train on Likelihood to get sigma "
   ]
  },
  {
   "cell_type": "code",
   "execution_count": 25,
   "metadata": {},
   "outputs": [],
   "source": [
    "MyModel.compile(loss=LikelihoodLossFunction,\n",
    "                optimizer='adam'\n",
    "               )"
   ]
  },
  {
   "cell_type": "code",
   "execution_count": 26,
   "metadata": {},
   "outputs": [
    {
     "name": "stdout",
     "output_type": "stream",
     "text": [
      "Train on 319999 samples, validate on 80000 samples\n",
      "Epoch 1/300\n",
      "319999/319999 [==============================] - 2s 6us/step - loss: 2018.1334 - val_loss: 0.0697\n",
      "Epoch 2/300\n",
      "319999/319999 [==============================] - 2s 5us/step - loss: 0.0669 - val_loss: 0.0696\n",
      "Epoch 3/300\n",
      "319999/319999 [==============================] - 2s 5us/step - loss: 0.0408 - val_loss: 0.0059\n",
      "Epoch 4/300\n",
      "319999/319999 [==============================] - 2s 5us/step - loss: 0.0040 - val_loss: 0.0029\n",
      "Epoch 5/300\n",
      "319999/319999 [==============================] - 2s 5us/step - loss: 0.0025 - val_loss: 0.0022\n",
      "Epoch 6/300\n",
      "319999/319999 [==============================] - 2s 5us/step - loss: 0.0020 - val_loss: 0.0018\n",
      "Epoch 7/300\n",
      "319999/319999 [==============================] - 2s 5us/step - loss: 0.0017 - val_loss: 0.0016\n",
      "Epoch 8/300\n",
      "319999/319999 [==============================] - 2s 5us/step - loss: 0.0015 - val_loss: 0.0014\n",
      "Epoch 9/300\n",
      "319999/319999 [==============================] - 2s 5us/step - loss: 0.0014 - val_loss: 0.0013\n",
      "Epoch 10/300\n",
      "319999/319999 [==============================] - 2s 5us/step - loss: 0.0013 - val_loss: 0.0012\n",
      "Epoch 11/300\n",
      "319999/319999 [==============================] - 2s 5us/step - loss: 0.0012 - val_loss: 0.0012\n",
      "Epoch 12/300\n",
      "319999/319999 [==============================] - 2s 5us/step - loss: 0.0012 - val_loss: 0.0011\n",
      "Epoch 13/300\n",
      "319999/319999 [==============================] - 2s 5us/step - loss: 0.0011 - val_loss: 0.0011\n",
      "Epoch 14/300\n",
      "319999/319999 [==============================] - 2s 5us/step - loss: 0.0011 - val_loss: 0.0011\n",
      "Epoch 15/300\n",
      "319999/319999 [==============================] - 2s 5us/step - loss: 0.0011 - val_loss: 0.0011\n",
      "Epoch 16/300\n",
      "319999/319999 [==============================] - 2s 5us/step - loss: 0.0011 - val_loss: 0.0010\n",
      "Epoch 17/300\n",
      "319999/319999 [==============================] - 2s 5us/step - loss: 0.0011 - val_loss: 0.0010\n",
      "Epoch 18/300\n",
      "319999/319999 [==============================] - 2s 5us/step - loss: 0.0010 - val_loss: 0.0010\n",
      "Epoch 19/300\n",
      "319999/319999 [==============================] - 2s 5us/step - loss: 0.0010 - val_loss: 0.0010\n",
      "Epoch 20/300\n",
      "319999/319999 [==============================] - 2s 5us/step - loss: 0.0010 - val_loss: 9.9820e-04\n",
      "Epoch 21/300\n",
      "319999/319999 [==============================] - 2s 5us/step - loss: 0.0010 - val_loss: 9.9219e-04\n",
      "Epoch 22/300\n",
      "319999/319999 [==============================] - 2s 5us/step - loss: 0.0010 - val_loss: 9.8742e-04\n",
      "Epoch 23/300\n",
      "319999/319999 [==============================] - 2s 5us/step - loss: 0.0010 - val_loss: 9.8369e-04\n",
      "Epoch 24/300\n",
      "319999/319999 [==============================] - 2s 5us/step - loss: 0.0010 - val_loss: 9.8084e-04\n",
      "Epoch 25/300\n",
      "319999/319999 [==============================] - 2s 5us/step - loss: 0.0010 - val_loss: 9.7861e-04\n",
      "Epoch 26/300\n",
      "319999/319999 [==============================] - 2s 5us/step - loss: 9.9930e-04 - val_loss: 9.7691e-04\n",
      "Epoch 27/300\n",
      "319999/319999 [==============================] - 2s 5us/step - loss: 9.9795e-04 - val_loss: 9.7558e-04\n",
      "Epoch 28/300\n",
      "319999/319999 [==============================] - 2s 5us/step - loss: 9.9697e-04 - val_loss: 9.7453e-04\n",
      "Epoch 29/300\n",
      "319999/319999 [==============================] - 2s 5us/step - loss: 9.9578e-04 - val_loss: 9.7370e-04\n",
      "Epoch 30/300\n",
      "319999/319999 [==============================] - 2s 5us/step - loss: 9.9489e-04 - val_loss: 9.7299e-04\n",
      "Epoch 31/300\n",
      "319999/319999 [==============================] - 2s 5us/step - loss: 9.9422e-04 - val_loss: 9.7239e-04\n",
      "Epoch 32/300\n",
      "319999/319999 [==============================] - 2s 5us/step - loss: 9.9384e-04 - val_loss: 9.7182e-04\n",
      "Epoch 33/300\n",
      "319999/319999 [==============================] - 2s 5us/step - loss: 9.9356e-04 - val_loss: 9.7129e-04\n",
      "Epoch 34/300\n",
      "319999/319999 [==============================] - 2s 5us/step - loss: 9.9269e-04 - val_loss: 9.7082e-04\n",
      "Epoch 35/300\n",
      "319999/319999 [==============================] - 2s 5us/step - loss: 9.9292e-04 - val_loss: 9.7038e-04\n",
      "Epoch 36/300\n",
      "319999/319999 [==============================] - 2s 5us/step - loss: 9.9215e-04 - val_loss: 9.7000e-04\n",
      "Epoch 37/300\n",
      "319999/319999 [==============================] - 2s 5us/step - loss: 9.9226e-04 - val_loss: 9.6965e-04\n",
      "Epoch 38/300\n",
      "319999/319999 [==============================] - 2s 5us/step - loss: 9.9147e-04 - val_loss: 9.6934e-04\n",
      "Epoch 39/300\n",
      "319999/319999 [==============================] - 2s 5us/step - loss: 9.9080e-04 - val_loss: 9.6905e-04\n",
      "Epoch 40/300\n",
      "319999/319999 [==============================] - 2s 5us/step - loss: 9.9104e-04 - val_loss: 9.6877e-04\n",
      "Epoch 41/300\n",
      "319999/319999 [==============================] - 2s 5us/step - loss: 9.9092e-04 - val_loss: 9.6849e-04\n",
      "Epoch 42/300\n",
      "319999/319999 [==============================] - 2s 5us/step - loss: 9.9053e-04 - val_loss: 9.6822e-04\n",
      "Epoch 43/300\n",
      "319999/319999 [==============================] - 2s 5us/step - loss: 9.9008e-04 - val_loss: 9.6793e-04\n",
      "Epoch 44/300\n",
      "319999/319999 [==============================] - 2s 5us/step - loss: 9.9011e-04 - val_loss: 9.6764e-04\n",
      "Epoch 45/300\n",
      "319999/319999 [==============================] - 2s 5us/step - loss: 9.8941e-04 - val_loss: 9.6734e-04\n",
      "Epoch 46/300\n",
      "319999/319999 [==============================] - 2s 5us/step - loss: 9.8986e-04 - val_loss: 9.6701e-04\n",
      "Epoch 47/300\n",
      "319999/319999 [==============================] - 2s 5us/step - loss: 9.8862e-04 - val_loss: 9.6668e-04\n",
      "Epoch 48/300\n",
      "319999/319999 [==============================] - 2s 5us/step - loss: 9.8815e-04 - val_loss: 9.6634e-04\n",
      "Epoch 49/300\n",
      "319999/319999 [==============================] - 2s 5us/step - loss: 9.8802e-04 - val_loss: 9.6600e-04\n",
      "Epoch 50/300\n",
      "319999/319999 [==============================] - 2s 5us/step - loss: 9.8817e-04 - val_loss: 9.6563e-04\n",
      "Epoch 51/300\n",
      "319999/319999 [==============================] - 2s 5us/step - loss: 9.8740e-04 - val_loss: 9.6527e-04\n",
      "Epoch 52/300\n",
      "319999/319999 [==============================] - 2s 5us/step - loss: 9.8746e-04 - val_loss: 9.6489e-04\n",
      "Epoch 53/300\n",
      "319999/319999 [==============================] - 2s 5us/step - loss: 9.8684e-04 - val_loss: 9.6453e-04\n",
      "Epoch 54/300\n",
      "319999/319999 [==============================] - 2s 5us/step - loss: 9.8639e-04 - val_loss: 9.6417e-04\n",
      "Epoch 55/300\n",
      "319999/319999 [==============================] - 2s 5us/step - loss: 9.8624e-04 - val_loss: 9.6379e-04\n",
      "Epoch 56/300\n",
      "319999/319999 [==============================] - 2s 5us/step - loss: 9.8525e-04 - val_loss: 9.6346e-04\n",
      "Epoch 57/300\n",
      "319999/319999 [==============================] - 2s 5us/step - loss: 9.8476e-04 - val_loss: 9.6317e-04\n",
      "Epoch 58/300\n",
      "319999/319999 [==============================] - 2s 5us/step - loss: 9.8512e-04 - val_loss: 9.6283e-04\n",
      "Epoch 59/300\n",
      "319999/319999 [==============================] - 2s 5us/step - loss: 9.8458e-04 - val_loss: 9.6254e-04\n",
      "Epoch 60/300\n",
      "319999/319999 [==============================] - 2s 5us/step - loss: 9.8431e-04 - val_loss: 9.6225e-04\n",
      "Epoch 61/300\n",
      "319999/319999 [==============================] - 2s 5us/step - loss: 9.8397e-04 - val_loss: 9.6198e-04\n",
      "Epoch 62/300\n",
      "319999/319999 [==============================] - 2s 5us/step - loss: 9.8361e-04 - val_loss: 9.6168e-04\n",
      "Epoch 63/300\n",
      "319999/319999 [==============================] - 2s 5us/step - loss: 9.8323e-04 - val_loss: 9.6147e-04\n",
      "Epoch 64/300\n",
      "319999/319999 [==============================] - 2s 5us/step - loss: 9.8360e-04 - val_loss: 9.6118e-04\n",
      "Epoch 65/300\n",
      "319999/319999 [==============================] - 2s 5us/step - loss: 9.8285e-04 - val_loss: 9.6093e-04\n",
      "Epoch 66/300\n",
      "319999/319999 [==============================] - 2s 5us/step - loss: 9.8254e-04 - val_loss: 9.6067e-04\n",
      "Epoch 67/300\n",
      "319999/319999 [==============================] - 2s 5us/step - loss: 9.8286e-04 - val_loss: 9.6043e-04\n",
      "Epoch 68/300\n",
      "319999/319999 [==============================] - 2s 5us/step - loss: 9.8227e-04 - val_loss: 9.6022e-04\n",
      "Epoch 69/300\n",
      "319999/319999 [==============================] - 2s 5us/step - loss: 9.8225e-04 - val_loss: 9.5999e-04\n",
      "Epoch 70/300\n",
      "319999/319999 [==============================] - 2s 5us/step - loss: 9.8194e-04 - val_loss: 9.5978e-04\n",
      "Epoch 71/300\n",
      "319999/319999 [==============================] - 2s 5us/step - loss: 9.8140e-04 - val_loss: 9.5960e-04\n",
      "Epoch 72/300\n",
      "319999/319999 [==============================] - 2s 5us/step - loss: 9.8149e-04 - val_loss: 9.5940e-04\n",
      "Epoch 73/300\n",
      "319999/319999 [==============================] - 2s 5us/step - loss: 9.8149e-04 - val_loss: 9.5925e-04\n",
      "Epoch 74/300\n",
      "319999/319999 [==============================] - 2s 5us/step - loss: 9.8110e-04 - val_loss: 9.5907e-04\n",
      "Epoch 75/300\n",
      "319999/319999 [==============================] - 2s 5us/step - loss: 9.8038e-04 - val_loss: 9.5897e-04\n",
      "Epoch 76/300\n",
      "319999/319999 [==============================] - 2s 5us/step - loss: 9.8049e-04 - val_loss: 9.5881e-04\n",
      "Epoch 77/300\n",
      "319999/319999 [==============================] - 2s 5us/step - loss: 9.8084e-04 - val_loss: 9.5866e-04\n",
      "Epoch 78/300\n",
      "319999/319999 [==============================] - 2s 5us/step - loss: 9.8060e-04 - val_loss: 9.5854e-04\n",
      "Epoch 79/300\n",
      "319999/319999 [==============================] - 2s 5us/step - loss: 9.8029e-04 - val_loss: 9.5842e-04\n",
      "Epoch 80/300\n",
      "319999/319999 [==============================] - 2s 5us/step - loss: 9.8036e-04 - val_loss: 9.5833e-04\n",
      "Epoch 81/300\n",
      "319999/319999 [==============================] - 2s 5us/step - loss: 9.8032e-04 - val_loss: 9.5820e-04\n",
      "Epoch 82/300\n",
      "319999/319999 [==============================] - 2s 5us/step - loss: 9.7977e-04 - val_loss: 9.5810e-04\n",
      "Epoch 83/300\n",
      "319999/319999 [==============================] - 2s 5us/step - loss: 9.7911e-04 - val_loss: 9.5803e-04\n",
      "Epoch 84/300\n",
      "319999/319999 [==============================] - 2s 5us/step - loss: 9.7971e-04 - val_loss: 9.5790e-04\n",
      "Epoch 85/300\n",
      "319999/319999 [==============================] - 2s 5us/step - loss: 9.7979e-04 - val_loss: 9.5781e-04\n",
      "Epoch 86/300\n",
      "319999/319999 [==============================] - 2s 5us/step - loss: 9.7965e-04 - val_loss: 9.5772e-04\n",
      "Epoch 87/300\n",
      "319999/319999 [==============================] - 2s 5us/step - loss: 9.7970e-04 - val_loss: 9.5763e-04\n",
      "Epoch 88/300\n",
      "319999/319999 [==============================] - 2s 5us/step - loss: 9.7914e-04 - val_loss: 9.5755e-04\n",
      "Epoch 89/300\n",
      "319999/319999 [==============================] - 2s 5us/step - loss: 9.7966e-04 - val_loss: 9.5747e-04\n",
      "Epoch 90/300\n",
      "319999/319999 [==============================] - 2s 5us/step - loss: 9.7917e-04 - val_loss: 9.5737e-04\n",
      "Epoch 91/300\n",
      "319999/319999 [==============================] - 2s 5us/step - loss: 9.7912e-04 - val_loss: 9.5730e-04\n",
      "Epoch 92/300\n",
      "319999/319999 [==============================] - 2s 5us/step - loss: 9.7941e-04 - val_loss: 9.5720e-04\n",
      "Epoch 93/300\n",
      "319999/319999 [==============================] - 2s 5us/step - loss: 9.7893e-04 - val_loss: 9.5710e-04\n",
      "Epoch 94/300\n",
      "319999/319999 [==============================] - 2s 5us/step - loss: 9.7869e-04 - val_loss: 9.5700e-04\n",
      "Epoch 95/300\n",
      "319999/319999 [==============================] - 2s 5us/step - loss: 9.7912e-04 - val_loss: 9.5689e-04\n",
      "Epoch 96/300\n",
      "319999/319999 [==============================] - 2s 5us/step - loss: 9.7874e-04 - val_loss: 9.5678e-04\n",
      "Epoch 97/300\n",
      "319999/319999 [==============================] - 2s 5us/step - loss: 9.7838e-04 - val_loss: 9.5665e-04\n",
      "Epoch 98/300\n",
      "319999/319999 [==============================] - 2s 5us/step - loss: 9.7837e-04 - val_loss: 9.5651e-04\n",
      "Epoch 99/300\n",
      "319999/319999 [==============================] - 2s 5us/step - loss: 9.7849e-04 - val_loss: 9.5632e-04\n",
      "Epoch 100/300\n",
      "319999/319999 [==============================] - 2s 5us/step - loss: 9.7754e-04 - val_loss: 9.5617e-04\n",
      "Epoch 101/300\n",
      "319999/319999 [==============================] - 2s 5us/step - loss: 9.7852e-04 - val_loss: 9.5605e-04\n",
      "Epoch 102/300\n",
      "319999/319999 [==============================] - 2s 5us/step - loss: 9.7768e-04 - val_loss: 9.5595e-04\n",
      "Epoch 103/300\n",
      "319999/319999 [==============================] - 2s 5us/step - loss: 9.7782e-04 - val_loss: 9.5581e-04\n",
      "Epoch 104/300\n",
      "319999/319999 [==============================] - 2s 5us/step - loss: 9.7753e-04 - val_loss: 9.5565e-04\n",
      "Epoch 105/300\n",
      "319999/319999 [==============================] - 2s 5us/step - loss: 9.7711e-04 - val_loss: 9.5550e-04\n",
      "Epoch 106/300\n",
      "319999/319999 [==============================] - 2s 5us/step - loss: 9.7721e-04 - val_loss: 9.5542e-04\n",
      "Epoch 107/300\n",
      "319999/319999 [==============================] - 2s 5us/step - loss: 9.7643e-04 - val_loss: 9.5528e-04\n",
      "Epoch 108/300\n",
      "319999/319999 [==============================] - 2s 5us/step - loss: 9.7703e-04 - val_loss: 9.5519e-04\n",
      "Epoch 109/300\n",
      "319999/319999 [==============================] - 2s 5us/step - loss: 9.7675e-04 - val_loss: 9.5508e-04\n",
      "Epoch 110/300\n",
      "319999/319999 [==============================] - 2s 5us/step - loss: 9.7636e-04 - val_loss: 9.5499e-04\n",
      "Epoch 111/300\n",
      "319999/319999 [==============================] - 2s 5us/step - loss: 9.7624e-04 - val_loss: 9.5492e-04\n",
      "Epoch 112/300\n",
      "319999/319999 [==============================] - 2s 5us/step - loss: 9.7680e-04 - val_loss: 9.5476e-04\n",
      "Epoch 113/300\n",
      "319999/319999 [==============================] - 2s 5us/step - loss: 9.7635e-04 - val_loss: 9.5468e-04\n",
      "Epoch 114/300\n",
      "319999/319999 [==============================] - 2s 5us/step - loss: 9.7593e-04 - val_loss: 9.5461e-04\n",
      "Epoch 115/300\n",
      "319999/319999 [==============================] - 2s 5us/step - loss: 9.7579e-04 - val_loss: 9.5449e-04\n",
      "Epoch 116/300\n",
      "319999/319999 [==============================] - 2s 5us/step - loss: 9.7636e-04 - val_loss: 9.5440e-04\n",
      "Epoch 117/300\n",
      "319999/319999 [==============================] - 2s 5us/step - loss: 9.7571e-04 - val_loss: 9.5430e-04\n",
      "Epoch 118/300\n",
      "319999/319999 [==============================] - 2s 5us/step - loss: 9.7540e-04 - val_loss: 9.5418e-04\n",
      "Epoch 119/300\n",
      "319999/319999 [==============================] - 2s 5us/step - loss: 9.7566e-04 - val_loss: 9.5408e-04\n",
      "Epoch 120/300\n",
      "319999/319999 [==============================] - 2s 5us/step - loss: 9.7546e-04 - val_loss: 9.5398e-04\n",
      "Epoch 121/300\n",
      "319999/319999 [==============================] - 2s 5us/step - loss: 9.7546e-04 - val_loss: 9.5389e-04\n",
      "Epoch 122/300\n",
      "319999/319999 [==============================] - 2s 5us/step - loss: 9.7503e-04 - val_loss: 9.5376e-04\n",
      "Epoch 123/300\n",
      "319999/319999 [==============================] - 2s 5us/step - loss: 9.7529e-04 - val_loss: 9.5369e-04\n",
      "Epoch 124/300\n",
      "319999/319999 [==============================] - 2s 5us/step - loss: 9.7497e-04 - val_loss: 9.5363e-04\n",
      "Epoch 125/300\n",
      "319999/319999 [==============================] - 2s 5us/step - loss: 9.7496e-04 - val_loss: 9.5356e-04\n",
      "Epoch 126/300\n",
      "319999/319999 [==============================] - 2s 5us/step - loss: 9.7522e-04 - val_loss: 9.5344e-04\n",
      "Epoch 127/300\n",
      "319999/319999 [==============================] - 2s 5us/step - loss: 9.7472e-04 - val_loss: 9.5334e-04\n",
      "Epoch 128/300\n",
      "319999/319999 [==============================] - 2s 5us/step - loss: 9.7453e-04 - val_loss: 9.5338e-04\n",
      "Epoch 129/300\n",
      "319999/319999 [==============================] - 2s 5us/step - loss: 9.7428e-04 - val_loss: 9.5326e-04\n",
      "Epoch 130/300\n",
      "319999/319999 [==============================] - 2s 5us/step - loss: 9.7436e-04 - val_loss: 9.5321e-04\n",
      "Epoch 131/300\n",
      "319999/319999 [==============================] - 1s 5us/step - loss: 9.7415e-04 - val_loss: 9.5321e-04\n",
      "Epoch 132/300\n",
      "319999/319999 [==============================] - 2s 5us/step - loss: 9.7415e-04 - val_loss: 9.5309e-04\n",
      "Epoch 133/300\n",
      "319999/319999 [==============================] - 2s 5us/step - loss: 9.7440e-04 - val_loss: 9.5305e-04\n",
      "Epoch 134/300\n",
      "319999/319999 [==============================] - 2s 5us/step - loss: 9.7423e-04 - val_loss: 9.5306e-04\n",
      "Epoch 135/300\n",
      "319999/319999 [==============================] - 2s 5us/step - loss: 9.7411e-04 - val_loss: 9.5300e-04\n",
      "Epoch 136/300\n",
      "319999/319999 [==============================] - 2s 5us/step - loss: 9.7397e-04 - val_loss: 9.5288e-04\n",
      "Epoch 137/300\n",
      "319999/319999 [==============================] - 2s 5us/step - loss: 9.7417e-04 - val_loss: 9.5286e-04\n",
      "Epoch 138/300\n",
      "319999/319999 [==============================] - 2s 5us/step - loss: 9.7382e-04 - val_loss: 9.5296e-04\n",
      "Epoch 139/300\n",
      "319999/319999 [==============================] - 2s 5us/step - loss: 9.7376e-04 - val_loss: 9.5273e-04\n",
      "Epoch 140/300\n",
      "319999/319999 [==============================] - 2s 5us/step - loss: 9.7376e-04 - val_loss: 9.5278e-04\n",
      "Epoch 141/300\n",
      "319999/319999 [==============================] - 2s 5us/step - loss: 9.7368e-04 - val_loss: 9.5268e-04\n",
      "Epoch 142/300\n",
      "319999/319999 [==============================] - 2s 5us/step - loss: 9.7339e-04 - val_loss: 9.5263e-04\n",
      "Epoch 143/300\n",
      "319999/319999 [==============================] - 2s 5us/step - loss: 9.7340e-04 - val_loss: 9.5263e-04\n",
      "Epoch 144/300\n",
      "319999/319999 [==============================] - 2s 5us/step - loss: 9.7367e-04 - val_loss: 9.5242e-04\n",
      "Epoch 145/300\n",
      "319999/319999 [==============================] - 2s 5us/step - loss: 9.7322e-04 - val_loss: 9.5245e-04\n",
      "Epoch 146/300\n",
      "319999/319999 [==============================] - 2s 5us/step - loss: 9.7334e-04 - val_loss: 9.5235e-04\n",
      "Epoch 147/300\n",
      "319999/319999 [==============================] - 2s 5us/step - loss: 9.7336e-04 - val_loss: 9.5237e-04\n",
      "Epoch 148/300\n",
      "319999/319999 [==============================] - 2s 5us/step - loss: 9.7323e-04 - val_loss: 9.5223e-04\n",
      "Epoch 149/300\n",
      "319999/319999 [==============================] - 2s 5us/step - loss: 9.7334e-04 - val_loss: 9.5218e-04\n",
      "Epoch 150/300\n",
      "319999/319999 [==============================] - 2s 5us/step - loss: 9.7316e-04 - val_loss: 9.5225e-04\n",
      "Epoch 151/300\n",
      "319999/319999 [==============================] - 2s 5us/step - loss: 9.7291e-04 - val_loss: 9.5209e-04\n",
      "Epoch 152/300\n",
      "319999/319999 [==============================] - 2s 5us/step - loss: 9.7294e-04 - val_loss: 9.5213e-04\n",
      "Epoch 153/300\n",
      "319999/319999 [==============================] - 2s 5us/step - loss: 9.7303e-04 - val_loss: 9.5203e-04\n",
      "Epoch 154/300\n",
      "319999/319999 [==============================] - 2s 5us/step - loss: 9.7285e-04 - val_loss: 9.5193e-04\n",
      "Epoch 155/300\n",
      "319999/319999 [==============================] - 2s 5us/step - loss: 9.7275e-04 - val_loss: 9.5185e-04\n",
      "Epoch 156/300\n",
      "319999/319999 [==============================] - 2s 5us/step - loss: 9.7252e-04 - val_loss: 9.5178e-04\n",
      "Epoch 157/300\n",
      "319999/319999 [==============================] - 2s 5us/step - loss: 9.7305e-04 - val_loss: 9.5168e-04\n",
      "Epoch 158/300\n",
      "319999/319999 [==============================] - 2s 5us/step - loss: 9.7261e-04 - val_loss: 9.5169e-04\n",
      "Epoch 159/300\n",
      "319999/319999 [==============================] - 2s 5us/step - loss: 9.7304e-04 - val_loss: 9.5172e-04\n"
     ]
    }
   ],
   "source": [
    "history = MyModel.fit(X_train,np.vstack([y_train,\n",
    "                                  np.ones(y_train.shape[0])\n",
    "                                  ]).T,\n",
    "                      validation_split=0.2,\n",
    "                      epochs=300,\n",
    "                      batch_size=1000,\n",
    "                      callbacks = [es],\n",
    "                      sample_weight=weights\n",
    "                     )"
   ]
  },
  {
   "cell_type": "code",
   "execution_count": 27,
   "metadata": {},
   "outputs": [
    {
     "data": {
      "image/png": "[encoded data removed]",
      "text/plain": [
       "<Figure size 320x320 with 1 Axes>"
      ]
     },
     "metadata": {
      "needs_background": "light"
     },
     "output_type": "display_data"
    }
   ],
   "source": [
    "plt.plot(history.history['loss'])\n",
    "plt.plot(history.history['val_loss'])\n",
    "plt.yscale('log')\n",
    "plt.xlabel('Epochs')\n",
    "plt.ylabel('Likelihood Loss Function')\n",
    "plt.legend(['Train', 'Validation'])\n",
    "plt.show()"
   ]
  },
  {
   "cell_type": "code",
   "execution_count": 28,
   "metadata": {},
   "outputs": [],
   "source": [
    "# predict the scores for the test set, then histogram them based on the real labels\n",
    "test_preds = MyModel.predict(X_test)"
   ]
  },
  {
   "cell_type": "code",
   "execution_count": 29,
   "metadata": {},
   "outputs": [
    {
     "data": {
      "image/png": "[encoded data removed]",
      "text/plain": [
       "<Figure size 320x320 with 1 Axes>"
      ]
     },
     "metadata": {
      "needs_background": "light"
     },
     "output_type": "display_data"
    }
   ],
   "source": [
    "plt.hist(test_preds[:,0], bins=50, range=(-200,200), histtype='step')\n",
    "plt.hist(y_test, bins=50, range=(-200,200), histtype='step')\n",
    "plt.xlabel('Vr')\n",
    "plt.ylabel('Stars')\n",
    "plt.title('Test set - simulated data')\n",
    "plt.yscale('log')\n",
    "plt.show()"
   ]
  },
  {
   "cell_type": "code",
   "execution_count": 30,
   "metadata": {},
   "outputs": [
    {
     "name": "stdout",
     "output_type": "stream",
     "text": [
      "[ -54.893066 -122.85788   -53.524967 ...  -69.15652   -50.176765\n",
      "  -53.597622]\n"
     ]
    },
    {
     "data": {
      "text/plain": [
       "Text(0, 0.5, 'Error on Vr predicted')"
      ]
     },
     "execution_count": 30,
     "metadata": {},
     "output_type": "execute_result"
    },
    {
     "data": {
      "image/png": "[encoded data removed]",
      "text/plain": [
       "<Figure size 320x320 with 1 Axes>"
      ]
     },
     "metadata": {
      "needs_background": "light"
     },
     "output_type": "display_data"
    }
   ],
   "source": [
    "#test_preds[:,0] = (test_preds[:,0] - np.min(test_preds[:,0]))/(np.max(test_preds[:,0])- np.min(test_preds[:,0]))\n",
    "#test_preds[:,1] = (test_preds[:,1] - np.min(test_preds[:,1]))/(np.max(test_preds[:,1])- np.min(test_preds[:,1]))\n",
    "#y_test = (y_test - np.min(y_test))/(np.max(y_test)- np.min(y_test))\n",
    "#manually normalizing output \n",
    "print(test_preds[:,1])\n",
    "plt.scatter(X_test[:,2], test_preds[:,1], color = 'red')\n",
    "#plt.errorbar(X_test[1:50,2], test_preds[1:50,0], yerr = test_preds[1:50,1], color = 'red',ls='none')\n",
    "plt.xlabel('Distance')\n",
    "plt.ylabel('Error on Vr predicted')"
   ]
  },
  {
   "cell_type": "code",
   "execution_count": 31,
   "metadata": {},
   "outputs": [],
   "source": [
    "from scipy.interpolate import interpn\n",
    "def density_scatter( x , y, ax = None, sort = True, bins = 20, **kwargs )   :\n",
    "    \"\"\"\n",
    "    Scatter plot colored by 2d histogram\n",
    "    \"\"\"\n",
    "    if ax is None :\n",
    "        fig , ax = plt.subplots()\n",
    "    data , x_e, y_e = np.histogram2d( x, y, bins = bins)\n",
    "    z = interpn( ( 0.5*(x_e[1:] + x_e[:-1]) , 0.5*(y_e[1:]+y_e[:-1]) ) , data , np.vstack([x,y]).T , method = \"splinef2d\", bounds_error = False )\n",
    "\n",
    "    # Sort the points by density, so that the densest points are plotted last\n",
    "    if sort :\n",
    "        idx = z.argsort()\n",
    "        x, y, z = x[idx], y[idx], z[idx]\n",
    "\n",
    "    ax.scatter( x, y, c=z, **kwargs )\n",
    "    return ax"
   ]
  },
  {
   "cell_type": "code",
   "execution_count": 32,
   "metadata": {},
   "outputs": [
    {
     "data": {
      "text/plain": [
       "Text(0.5, 0, 'Vr real')"
      ]
     },
     "execution_count": 32,
     "metadata": {},
     "output_type": "execute_result"
    },
    {
     "data": {
      "image/png": "[encoded data removed]",
      "text/plain": [
       "<Figure size 320x320 with 2 Axes>"
      ]
     },
     "metadata": {
      "needs_background": "light"
     },
     "output_type": "display_data"
    }
   ],
   "source": [
    "#plt.errorbar(y_test, test_preds[:,0], yerr = test_preds[:,1], color = 'red',ls='none')\n",
    "#density_scatter(y_test, test_preds[:,0])\n",
    "h = plt.hist2d(y_test, test_preds[:,0], (50, 50), cmap=plt.cm.jet)\n",
    "plt.colorbar(h[3])\n",
    "\n",
    "x = np.linspace(np.min(y_test),np.max(y_test),100)\n",
    "y = x\n",
    "plt.plot(x,y,'k--')\n",
    "plt.ylabel('Vr predicted')\n",
    "plt.xlabel('Vr real')"
   ]
  },
  {
   "cell_type": "code",
   "execution_count": 33,
   "metadata": {},
   "outputs": [],
   "source": [
    "from scipy.stats import gaussian_kde\n",
    "x = y_test\n",
    "y = test_preds[:,0]\n",
    "xy = np.vstack([y_test,test_preds[:,0]])\n",
    "z = gaussian_kde(xy)(xy)\n",
    "\n"
   ]
  },
  {
   "cell_type": "code",
   "execution_count": 34,
   "metadata": {},
   "outputs": [
    {
     "data": {
      "text/plain": [
       "<matplotlib.colorbar.Colorbar at 0x2b91efb67ac8>"
      ]
     },
     "execution_count": 34,
     "metadata": {},
     "output_type": "execute_result"
    },
    {
     "data": {
      "image/png": "[encoded data removed]",
      "text/plain": [
       "<Figure size 320x320 with 2 Axes>"
      ]
     },
     "metadata": {
      "needs_background": "light"
     },
     "output_type": "display_data"
    }
   ],
   "source": [
    "# Sort the points by density, so that the densest points are plotted last\n",
    "idx = z.argsort()\n",
    "x = y_test\n",
    "y = test_preds[:,0]\n",
    "x, y, z = x[idx], y[idx], z[idx]\n",
    "fig, ax = plt.subplots()\n",
    "cax = ax.scatter(x, y, c=z, s=25, edgecolor='')\n",
    "fig.colorbar(cax)\n",
    "#plt.errorbar(y_test, test_preds[:,0], yerr = test_preds[:,1], color = 'red',ls='none')"
   ]
  },
  {
   "cell_type": "code",
   "execution_count": null,
   "metadata": {},
   "outputs": [],
   "source": []
  },
  {
   "cell_type": "code",
   "execution_count": null,
   "metadata": {},
   "outputs": [],
   "source": []
  }
 ],
 "metadata": {
  "kernelspec": {
   "display_name": "venv_ML",
   "language": "python",
   "name": "venv_ml"
  },
  "language_info": {
   "codemirror_mode": {
    "name": "ipython",
    "version": 3
   },
   "file_extension": ".py",
   "mimetype": "text/x-python",
   "name": "python",
   "nbconvert_exporter": "python",
   "pygments_lexer": "ipython3",
   "version": "3.6.10"
  }
 },
 "nbformat": 4,
 "nbformat_minor": 4
}
