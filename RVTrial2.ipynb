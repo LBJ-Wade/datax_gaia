{
 "cells": [
  {
   "cell_type": "markdown",
   "metadata": {},
   "source": [
    "# ML to find radial velocities using FIRE data"
   ]
  },
  {
   "cell_type": "code",
   "execution_count": 1,
   "metadata": {},
   "outputs": [],
   "source": [
    "%matplotlib inline\n",
    "\n",
    "import matplotlib\n",
    "import matplotlib.colors as colors\n",
    "\n",
    "import pandas as pd\n",
    "import numpy as np\n",
    "import matplotlib.pyplot as plt\n",
    "import os.path\n",
    "import sys\n",
    "import gzip\n",
    "import matplotlib.gridspec as gridspec\n",
    "\n",
    "matplotlib.rcParams.update({'font.family':'cmr10','font.size': 13})\n",
    "matplotlib.rcParams['axes.unicode_minus']=False\n",
    "matplotlib.rcParams['axes.labelsize']=15\n",
    "plt.rcParams['figure.figsize']=(4,4)\n",
    "plt.rcParams['figure.dpi'] = 80\n",
    "plt.rcParams['mathtext.fontset'] = 'cm'\n",
    "plt.rcParams['mathtext.rm'] = 'serif'\n",
    "plt.rcParams['xtick.direction'] = 'in'\n",
    "plt.rcParams['ytick.direction'] = 'in'\n",
    "plt.rcParams['xtick.top'] = True\n",
    "plt.rcParams['ytick.right'] = True"
   ]
  },
  {
   "cell_type": "code",
   "execution_count": 2,
   "metadata": {},
   "outputs": [],
   "source": [
    "data = np.load('StarsWithRadialVelocity.npy')"
   ]
  },
  {
   "cell_type": "code",
   "execution_count": 3,
   "metadata": {},
   "outputs": [],
   "source": [
    "data_cols = ['l', 'b','ra', 'dec', 'pmra', 'pmdec', 'parallax', 'radial_velocity',\n",
    "             'phot_g_mean_mag', 'phot_bp_mean_mag', 'phot_rp_mean_mag',\n",
    "             'pmra_error', 'pmdec_error', 'parallax_error', 'radial_velocity_error',\n",
    "             'phot_g_mean_mag_error', 'phot_bp_mean_mag_error', 'phot_rp_mean_mag_error',\n",
    "             'AccretedLabel'\n",
    "            ]\n",
    "#could train on radial_velocity_error"
   ]
  },
  {
   "cell_type": "code",
   "execution_count": 4,
   "metadata": {},
   "outputs": [],
   "source": [
    "data = pd.DataFrame(data, columns=data_cols)"
   ]
  },
  {
   "cell_type": "code",
   "execution_count": 5,
   "metadata": {},
   "outputs": [
    {
     "data": {
      "text/plain": [
       "(11400846, 19)"
      ]
     },
     "execution_count": 5,
     "metadata": {},
     "output_type": "execute_result"
    }
   ],
   "source": [
    "data.shape"
   ]
  },
  {
   "cell_type": "code",
   "execution_count": 6,
   "metadata": {},
   "outputs": [
    {
     "data": {
      "text/html": [
       "<div>\n",
       "<style scoped>\n",
       "    .dataframe tbody tr th:only-of-type {\n",
       "        vertical-align: middle;\n",
       "    }\n",
       "\n",
       "    .dataframe tbody tr th {\n",
       "        vertical-align: top;\n",
       "    }\n",
       "\n",
       "    .dataframe thead th {\n",
       "        text-align: right;\n",
       "    }\n",
       "</style>\n",
       "<table border=\"1\" class=\"dataframe\">\n",
       "  <thead>\n",
       "    <tr style=\"text-align: right;\">\n",
       "      <th></th>\n",
       "      <th>l</th>\n",
       "      <th>b</th>\n",
       "      <th>ra</th>\n",
       "      <th>dec</th>\n",
       "      <th>pmra</th>\n",
       "      <th>pmdec</th>\n",
       "      <th>parallax</th>\n",
       "      <th>radial_velocity</th>\n",
       "      <th>phot_g_mean_mag</th>\n",
       "      <th>phot_bp_mean_mag</th>\n",
       "      <th>phot_rp_mean_mag</th>\n",
       "      <th>pmra_error</th>\n",
       "      <th>pmdec_error</th>\n",
       "      <th>parallax_error</th>\n",
       "      <th>radial_velocity_error</th>\n",
       "      <th>phot_g_mean_mag_error</th>\n",
       "      <th>phot_bp_mean_mag_error</th>\n",
       "      <th>phot_rp_mean_mag_error</th>\n",
       "      <th>AccretedLabel</th>\n",
       "    </tr>\n",
       "  </thead>\n",
       "  <tbody>\n",
       "    <tr>\n",
       "      <th>0</th>\n",
       "      <td>18.947771</td>\n",
       "      <td>17.087326</td>\n",
       "      <td>261.281075</td>\n",
       "      <td>-4.105546</td>\n",
       "      <td>0.304014</td>\n",
       "      <td>-2.012651</td>\n",
       "      <td>0.443537</td>\n",
       "      <td>44.472788</td>\n",
       "      <td>14.384683</td>\n",
       "      <td>14.678857</td>\n",
       "      <td>13.931516</td>\n",
       "      <td>0.091557</td>\n",
       "      <td>0.091557</td>\n",
       "      <td>0.044116</td>\n",
       "      <td>9.908263</td>\n",
       "      <td>0.000611</td>\n",
       "      <td>0.003929</td>\n",
       "      <td>0.003929</td>\n",
       "      <td>0.0</td>\n",
       "    </tr>\n",
       "    <tr>\n",
       "      <th>1</th>\n",
       "      <td>-4.978819</td>\n",
       "      <td>-41.542610</td>\n",
       "      <td>315.656827</td>\n",
       "      <td>-45.372252</td>\n",
       "      <td>15.768343</td>\n",
       "      <td>-16.975898</td>\n",
       "      <td>1.369992</td>\n",
       "      <td>-120.045033</td>\n",
       "      <td>12.405884</td>\n",
       "      <td>12.633657</td>\n",
       "      <td>12.030871</td>\n",
       "      <td>0.087001</td>\n",
       "      <td>0.087001</td>\n",
       "      <td>0.042780</td>\n",
       "      <td>2.036502</td>\n",
       "      <td>0.000342</td>\n",
       "      <td>0.002105</td>\n",
       "      <td>0.002105</td>\n",
       "      <td>0.0</td>\n",
       "    </tr>\n",
       "    <tr>\n",
       "      <th>2</th>\n",
       "      <td>-137.539419</td>\n",
       "      <td>-47.311996</td>\n",
       "      <td>60.814237</td>\n",
       "      <td>-25.789371</td>\n",
       "      <td>5.542696</td>\n",
       "      <td>9.388474</td>\n",
       "      <td>0.597262</td>\n",
       "      <td>83.063864</td>\n",
       "      <td>14.347357</td>\n",
       "      <td>14.619976</td>\n",
       "      <td>13.923520</td>\n",
       "      <td>0.091365</td>\n",
       "      <td>0.091365</td>\n",
       "      <td>0.044055</td>\n",
       "      <td>9.917098</td>\n",
       "      <td>0.000602</td>\n",
       "      <td>0.003861</td>\n",
       "      <td>0.003861</td>\n",
       "      <td>0.0</td>\n",
       "    </tr>\n",
       "    <tr>\n",
       "      <th>3</th>\n",
       "      <td>-68.315598</td>\n",
       "      <td>-32.353069</td>\n",
       "      <td>71.998054</td>\n",
       "      <td>-78.933526</td>\n",
       "      <td>14.320530</td>\n",
       "      <td>-13.669455</td>\n",
       "      <td>0.862436</td>\n",
       "      <td>-106.062495</td>\n",
       "      <td>14.062039</td>\n",
       "      <td>14.311761</td>\n",
       "      <td>13.648176</td>\n",
       "      <td>0.090130</td>\n",
       "      <td>0.090130</td>\n",
       "      <td>0.043668</td>\n",
       "      <td>7.792049</td>\n",
       "      <td>0.000544</td>\n",
       "      <td>0.003407</td>\n",
       "      <td>0.003407</td>\n",
       "      <td>0.0</td>\n",
       "    </tr>\n",
       "    <tr>\n",
       "      <th>4</th>\n",
       "      <td>85.879721</td>\n",
       "      <td>-52.988838</td>\n",
       "      <td>351.547535</td>\n",
       "      <td>3.638489</td>\n",
       "      <td>2.937268</td>\n",
       "      <td>5.109022</td>\n",
       "      <td>1.510236</td>\n",
       "      <td>-23.143291</td>\n",
       "      <td>14.677980</td>\n",
       "      <td>15.082906</td>\n",
       "      <td>14.107460</td>\n",
       "      <td>0.093275</td>\n",
       "      <td>0.093275</td>\n",
       "      <td>0.044678</td>\n",
       "      <td>11.110764</td>\n",
       "      <td>0.000683</td>\n",
       "      <td>0.004529</td>\n",
       "      <td>0.004529</td>\n",
       "      <td>0.0</td>\n",
       "    </tr>\n",
       "  </tbody>\n",
       "</table>\n",
       "</div>"
      ],
      "text/plain": [
       "            l          b          ra        dec       pmra      pmdec  \\\n",
       "0   18.947771  17.087326  261.281075  -4.105546   0.304014  -2.012651   \n",
       "1   -4.978819 -41.542610  315.656827 -45.372252  15.768343 -16.975898   \n",
       "2 -137.539419 -47.311996   60.814237 -25.789371   5.542696   9.388474   \n",
       "3  -68.315598 -32.353069   71.998054 -78.933526  14.320530 -13.669455   \n",
       "4   85.879721 -52.988838  351.547535   3.638489   2.937268   5.109022   \n",
       "\n",
       "   parallax  radial_velocity  phot_g_mean_mag  phot_bp_mean_mag  \\\n",
       "0  0.443537        44.472788        14.384683         14.678857   \n",
       "1  1.369992      -120.045033        12.405884         12.633657   \n",
       "2  0.597262        83.063864        14.347357         14.619976   \n",
       "3  0.862436      -106.062495        14.062039         14.311761   \n",
       "4  1.510236       -23.143291        14.677980         15.082906   \n",
       "\n",
       "   phot_rp_mean_mag  pmra_error  pmdec_error  parallax_error  \\\n",
       "0         13.931516    0.091557     0.091557        0.044116   \n",
       "1         12.030871    0.087001     0.087001        0.042780   \n",
       "2         13.923520    0.091365     0.091365        0.044055   \n",
       "3         13.648176    0.090130     0.090130        0.043668   \n",
       "4         14.107460    0.093275     0.093275        0.044678   \n",
       "\n",
       "   radial_velocity_error  phot_g_mean_mag_error  phot_bp_mean_mag_error  \\\n",
       "0               9.908263               0.000611                0.003929   \n",
       "1               2.036502               0.000342                0.002105   \n",
       "2               9.917098               0.000602                0.003861   \n",
       "3               7.792049               0.000544                0.003407   \n",
       "4              11.110764               0.000683                0.004529   \n",
       "\n",
       "   phot_rp_mean_mag_error  AccretedLabel  \n",
       "0                0.003929            0.0  \n",
       "1                0.002105            0.0  \n",
       "2                0.003861            0.0  \n",
       "3                0.003407            0.0  \n",
       "4                0.004529            0.0  "
      ]
     },
     "execution_count": 6,
     "metadata": {},
     "output_type": "execute_result"
    }
   ],
   "source": [
    "data.head()\n"
   ]
  },
  {
   "cell_type": "code",
   "execution_count": 7,
   "metadata": {},
   "outputs": [],
   "source": [
    "from sklearn.preprocessing import StandardScaler\n",
    "from sklearn.model_selection import train_test_split\n",
    "from scipy.interpolate import interp1d"
   ]
  },
  {
   "cell_type": "code",
   "execution_count": 8,
   "metadata": {},
   "outputs": [],
   "source": [
    "# What columns to use?\n",
    "use_cols = ['l', 'b','parallax','pmra','pmdec']\n",
    "# Make the design matrix\n",
    "X = data[use_cols].values\n",
    "Y = (data['radial_velocity']).values\n",
    "Y = (Y - np.mean(Y))/(np.std(Y))"
   ]
  },
  {
   "cell_type": "code",
   "execution_count": 9,
   "metadata": {},
   "outputs": [],
   "source": [
    "X_train, X_test, y_train, y_test = train_test_split(X[1:500000], Y[1:500000],\n",
    "                                                    test_size = 0.2,\n",
    "                                                    random_state=42)\n"
   ]
  },
  {
   "cell_type": "code",
   "execution_count": 10,
   "metadata": {},
   "outputs": [],
   "source": [
    "#trying to add some weights to training data\n",
    "#might weight the mean, but no weights on confidence model? (something to think about)\n",
    "vr_real = y_train\n",
    "counts, bins = np.histogram(vr_real,bins=np.linspace(-620,620,51))\n",
    "bin_centers = (bins[1:]+bins[:-1])/2\n",
    "interp_func = interp1d(bin_centers,(counts).astype('float'))\n",
    "inv_weights = interp_func(vr_real)\n",
    "weights = 1/inv_weights\n",
    "weights = np.log(weights)\n",
    "weights = weights - np.min(weights)"
   ]
  },
  {
   "cell_type": "code",
   "execution_count": 11,
   "metadata": {},
   "outputs": [
    {
     "name": "stdout",
     "output_type": "stream",
     "text": [
      "(399999, 5)\n",
      "(399999,)\n",
      "There are -216.34689720494123 stars in the training set\n",
      "\n",
      "(100000, 5)\n",
      "(100000,)\n",
      "There are 67.51702782025998 stars in the test set\n"
     ]
    }
   ],
   "source": [
    "print(X_train.shape)\n",
    "print(y_train.shape)\n",
    "print('There are {0} stars in the training set'.format(np.sum(y_train)))\n",
    "print()\n",
    "print(X_test.shape)\n",
    "print(y_test.shape)\n",
    "print('There are {0} stars in the test set'.format(np.sum(y_test)))"
   ]
  },
  {
   "cell_type": "markdown",
   "metadata": {},
   "source": [
    "I think this is giving me a negative output because it's summing over y_train, which is not the number of stars, but is instead the radial velocities. "
   ]
  },
  {
   "cell_type": "code",
   "execution_count": 12,
   "metadata": {},
   "outputs": [],
   "source": [
    "SS = StandardScaler()\n",
    "X_train = SS.fit_transform(X_train)"
   ]
  },
  {
   "cell_type": "code",
   "execution_count": 13,
   "metadata": {},
   "outputs": [],
   "source": [
    "# Now scale the test data using the same mean and standard deviation as found with the training data\n",
    "X_test = SS.transform(X_test)"
   ]
  },
  {
   "cell_type": "code",
   "execution_count": 14,
   "metadata": {},
   "outputs": [
    {
     "name": "stderr",
     "output_type": "stream",
     "text": [
      "Font 'default' does not have a glyph for '\\\\times' [U+d7], substituting with a dummy symbol.\n",
      "Font 'default' does not have a glyph for '\\\\times' [U+d7], substituting with a dummy symbol.\n",
      "Font 'default' does not have a glyph for '\\\\times' [U+d7], substituting with a dummy symbol.\n",
      "Font 'default' does not have a glyph for '\\\\times' [U+d7], substituting with a dummy symbol.\n"
     ]
    },
    {
     "data": {
      "image/png": "[encoded data removed]",
      "text/plain": [
       "<Figure size 480x240 with 2 Axes>"
      ]
     },
     "metadata": {
      "needs_background": "light"
     },
     "output_type": "display_data"
    },
    {
     "data": {
      "image/png": "[encoded data removed]",
      "text/plain": [
       "<Figure size 480x240 with 2 Axes>"
      ]
     },
     "metadata": {
      "needs_background": "light"
     },
     "output_type": "display_data"
    },
    {
     "data": {
      "image/png": "[encoded data removed]",
      "text/plain": [
       "<Figure size 480x240 with 2 Axes>"
      ]
     },
     "metadata": {
      "needs_background": "light"
     },
     "output_type": "display_data"
    },
    {
     "data": {
      "image/png": "[encoded data removed]",
      "text/plain": [
       "<Figure size 480x240 with 2 Axes>"
      ]
     },
     "metadata": {
      "needs_background": "light"
     },
     "output_type": "display_data"
    },
    {
     "data": {
      "image/png": "[encoded data removed]",
      "text/plain": [
       "<Figure size 480x240 with 2 Axes>"
      ]
     },
     "metadata": {
      "needs_background": "light"
     },
     "output_type": "display_data"
    }
   ],
   "source": [
    "#visualize check data\n",
    "for i, col in enumerate(use_cols):\n",
    "    plt.figure(figsize=(6, 3))\n",
    "    plt.subplot(1,2,1)\n",
    "    plt.hist(data[col], bins=100)\n",
    "    plt.yscale('log')\n",
    "    plt.title('Data')\n",
    "    \n",
    "    plt.subplot(1,2,2)\n",
    "    plt.hist(X_train[:, i], bins=100, alpha=0.5)\n",
    "    plt.hist(X_test[:, i], bins=100, alpha=0.5)\n",
    "    plt.yscale('log')\n",
    "    plt.title('Scaled')\n",
    "    \n",
    "    plt.suptitle(col, y=1.01, fontsize=16)\n",
    "    \n",
    "    plt.tight_layout()"
   ]
  },
  {
   "cell_type": "code",
   "execution_count": 15,
   "metadata": {},
   "outputs": [
    {
     "name": "stderr",
     "output_type": "stream",
     "text": [
      "Using TensorFlow backend.\n"
     ]
    }
   ],
   "source": [
    "from keras.models import Sequential\n",
    "from keras.layers import Dense\n",
    "from keras.callbacks import EarlyStopping, ModelCheckpoint\n",
    "from keras.optimizers import Adam"
   ]
  },
  {
   "cell_type": "code",
   "execution_count": 16,
   "metadata": {},
   "outputs": [],
   "source": [
    "from keras import backend as K\n",
    "from keras import callbacks as callbacks"
   ]
  },
  {
   "cell_type": "code",
   "execution_count": 17,
   "metadata": {},
   "outputs": [],
   "source": [
    "class PlotLosses(callbacks.callbacks.Callback):\n",
    "    def on_train_begin(self,logs = {}):\n",
    "        self.i = 0\n",
    "        self.train_data = [X_train, y_train]\n",
    "        #what happens when training begins, initializations\n",
    "        self.targets = []  # collect y_true batches\n",
    "        self.outputs = []\n",
    "        \n",
    "        self.fig = plt.figure()\n",
    "\n",
    "    def on_epoch_end(self, epoch, logs={}):\n",
    "        self.i += 1\n",
    "        if self.i % 2 == 0:\n",
    "            #what happens during each epoch\n",
    "            x_train, y_train = self.train_data\n",
    "            self.targets = y_train\n",
    "            prediction = self.model.predict(x_train)\n",
    "            self.outputs = prediction\n",
    "\n",
    "            clear_output(wait=True)\n",
    "            plt.scatter(self.targets, self.outputs[:,0],color = 'blue', label = 'epoch '+str(self.i))\n",
    "            plt.errorbar(self.targets, self.outputs[:,0], yerr = self.outputs[:,1], color = 'red', ls = 'none')\n",
    "            x1 = np.linspace(-20,20,100)\n",
    "            y1 = x1\n",
    "            plt.plot(x1,y1,'k--')\n",
    "            plt.xlim([-20, 20])\n",
    "            plt.ylim([-20, 20])\n",
    "            plt.ylabel('Vr predicted')\n",
    "            plt.xlabel('Vr real')\n",
    "            plt.legend()\n",
    "            #plt.show();\n",
    "            plt.savefig('error_images_try2/error_epoch_'+str(self.i)+'.png')\n",
    "        \n",
    "plot_losses = PlotLosses()"
   ]
  },
  {
   "cell_type": "code",
   "execution_count": 18,
   "metadata": {},
   "outputs": [],
   "source": [
    "def LikelihoodLossFunction(y_true, y_pred):\n",
    "    # shape of y_pred should be (nsamples, 2)\n",
    "    # the first column should be the mean of the prediction\n",
    "    # the second column is the confidence (number of standard deviations)\n",
    "#     print y_true.shape\n",
    "#     print y_pred.shape\n",
    "    SIGMA = K.abs(y_pred[:, 1]) + 1e-9\n",
    "    LOC = y_pred[:, 0]\n",
    "    X = y_true[:, 0]\n",
    "    #sigma = K.print_tensor(SIGMA, message='SIGMA = ')\n",
    "    \n",
    "    ARG = K.square(X - LOC) / (2 * K.square(SIGMA))\n",
    "    K.print_tensor(ARG, message = 'ARG')\n",
    "    K.print_tensor(K.pow(2 * np.pi * K.square(SIGMA), -0.5), message='input to PREFACT = ')\n",
    "    PREFACT = K.log(K.pow(2 * np.pi * K.square(SIGMA), -0.5))\n",
    "    return K.mean(ARG - PREFACT)\n"
   ]
  },
  {
   "cell_type": "code",
   "execution_count": 19,
   "metadata": {},
   "outputs": [],
   "source": [
    "#training any checkpoint or early stopping? \n",
    "es = EarlyStopping(patience=2, restore_best_weights=True)"
   ]
  },
  {
   "cell_type": "code",
   "execution_count": 20,
   "metadata": {},
   "outputs": [],
   "source": [
    "def ConstantLikelihoodLossFunction(y_true, y_pred):\n",
    "    # shape of y_pred should be (nsamples, 2)\n",
    "    # the first column should be the mean of the prediction\n",
    "    # the second column is the confidence (number of standard deviations)\n",
    "#     print y_true.shape\n",
    "#     print y_pred.shape\n",
    "    LOC = y_pred[:, 0]\n",
    "    X = y_true[:, 0]\n",
    "    ARG = -K.square(X - LOC) / (2.0)\n",
    "    return K.mean(-ARG)\n"
   ]
  },
  {
   "cell_type": "markdown",
   "metadata": {},
   "source": [
    "Going to train once on Constant Likelihood first. "
   ]
  },
  {
   "cell_type": "code",
   "execution_count": 20,
   "metadata": {},
   "outputs": [],
   "source": [
    "MyModel = Sequential()\n",
    "MyModel.add(Dense(units=100, activation='relu', input_dim=X_train.shape[1]))\n",
    "MyModel.add(Dense(units=100, activation='relu'))\n",
    "MyModel.add(Dense(units=100, activation='relu'))\n",
    "MyModel.add(Dense(units=2))\n",
    "#using tanh activation function in the last layer\n",
    "#MyModel.compile(loss='mean_squared_error',\n",
    "               # optimizer='adam'\n",
    "              # )\n",
    "MyModel.compile(loss=ConstantLikelihoodLossFunction,\n",
    "                optimizer='adam'\n",
    "               )"
   ]
  },
  {
   "cell_type": "code",
   "execution_count": 21,
   "metadata": {},
   "outputs": [
    {
     "name": "stdout",
     "output_type": "stream",
     "text": [
      "Model: \"sequential_1\"\n",
      "_________________________________________________________________\n",
      "Layer (type)                 Output Shape              Param #   \n",
      "=================================================================\n",
      "dense_1 (Dense)              (None, 100)               600       \n",
      "_________________________________________________________________\n",
      "dense_2 (Dense)              (None, 100)               10100     \n",
      "_________________________________________________________________\n",
      "dense_3 (Dense)              (None, 100)               10100     \n",
      "_________________________________________________________________\n",
      "dense_4 (Dense)              (None, 2)                 202       \n",
      "=================================================================\n",
      "Total params: 21,002\n",
      "Trainable params: 21,002\n",
      "Non-trainable params: 0\n",
      "_________________________________________________________________\n"
     ]
    }
   ],
   "source": [
    "MyModel.summary()"
   ]
  },
  {
   "cell_type": "code",
   "execution_count": 20,
   "metadata": {},
   "outputs": [],
   "source": [
    "#training any checkpoint or early stopping? \n",
    "es = EarlyStopping(patience=2, restore_best_weights=True)"
   ]
  },
  {
   "cell_type": "markdown",
   "metadata": {},
   "source": [
    "Not sure how long to train for at first...I just did 15 epochs because I'm concerned about overtraining?"
   ]
  },
  {
   "cell_type": "code",
   "execution_count": null,
   "metadata": {},
   "outputs": [],
   "source": [
    "history = MyModel.fit(X_train,np.vstack([y_train,\n",
    "                                  np.ones(y_train.shape[0])\n",
    "                                  ]).T,\n",
    "                      validation_split=0.2,\n",
    "                      epochs=15,\n",
    "                      batch_size=1000,\n",
    "                      callbacks = [es]#,\n",
    "                      #sample_weight=weights\n",
    "                     )\n",
    "#not sure exactly how many epochs I should run this for....we'll see \n",
    "#loss is still really small numbers- because of rescaling and then re-weighting"
   ]
  },
  {
   "cell_type": "code",
   "execution_count": null,
   "metadata": {},
   "outputs": [],
   "source": [
    "plt.plot(history.history['loss'])\n",
    "plt.plot(history.history['val_loss'])\n",
    "plt.yscale('log')\n",
    "plt.xlabel('Epochs')\n",
    "plt.ylabel('Constant Loss Function')\n",
    "plt.legend(['Train', 'Validation'])\n",
    "plt.show()"
   ]
  },
  {
   "cell_type": "markdown",
   "metadata": {},
   "source": [
    "Next going to train on Likelihood to get sigma "
   ]
  },
  {
   "cell_type": "code",
   "execution_count": 25,
   "metadata": {},
   "outputs": [],
   "source": [
    "MyModel.compile(loss=LikelihoodLossFunction,\n",
    "                optimizer='adam'\n",
    "               )"
   ]
  },
  {
   "cell_type": "code",
   "execution_count": null,
   "metadata": {},
   "outputs": [],
   "source": [
    "history = MyModel.fit(X_train,np.vstack([y_train,\n",
    "                                  np.ones(y_train.shape[0])\n",
    "                                  ]).T,\n",
    "                      validation_split=0.2,\n",
    "                      epochs=300,\n",
    "                      batch_size=1000,\n",
    "                      callbacks = [es],\n",
    "                      sample_weight=weights\n",
    "                     )"
   ]
  },
  {
   "cell_type": "code",
   "execution_count": 27,
   "metadata": {},
   "outputs": [
    {
     "data": {
      "image/png": "[encoded data removed]",
      "text/plain": [
       "<Figure size 320x320 with 1 Axes>"
      ]
     },
     "metadata": {
      "needs_background": "light"
     },
     "output_type": "display_data"
    }
   ],
   "source": [
    "plt.plot(history.history['loss'])\n",
    "plt.plot(history.history['val_loss'])\n",
    "plt.yscale('log')\n",
    "plt.xlabel('Epochs')\n",
    "plt.ylabel('Likelihood Loss Function')\n",
    "plt.legend(['Train', 'Validation'])\n",
    "plt.show()"
   ]
  },
  {
   "cell_type": "code",
   "execution_count": 26,
   "metadata": {},
   "outputs": [
    {
     "ename": "NameError",
     "evalue": "name 'MyModel' is not defined",
     "output_type": "error",
     "traceback": [
      "\u001b[0;31m---------------------------------------------------------------------------\u001b[0m",
      "\u001b[0;31mNameError\u001b[0m                                 Traceback (most recent call last)",
      "\u001b[0;32m<ipython-input-26-86d6cf20eb0b>\u001b[0m in \u001b[0;36m<module>\u001b[0;34m\u001b[0m\n\u001b[1;32m      1\u001b[0m \u001b[0;31m# predict the scores for the test set, then histogram them based on the real labels\u001b[0m\u001b[0;34m\u001b[0m\u001b[0;34m\u001b[0m\u001b[0;34m\u001b[0m\u001b[0m\n\u001b[0;32m----> 2\u001b[0;31m \u001b[0mtest_preds\u001b[0m \u001b[0;34m=\u001b[0m \u001b[0mMyModel\u001b[0m\u001b[0;34m.\u001b[0m\u001b[0mpredict\u001b[0m\u001b[0;34m(\u001b[0m\u001b[0mX_test\u001b[0m\u001b[0;34m)\u001b[0m\u001b[0;34m\u001b[0m\u001b[0;34m\u001b[0m\u001b[0m\n\u001b[0m",
      "\u001b[0;31mNameError\u001b[0m: name 'MyModel' is not defined"
     ]
    }
   ],
   "source": [
    "# predict the scores for the test set, then histogram them based on the real labels\n",
    "test_preds = MyModel.predict(X_test)"
   ]
  },
  {
   "cell_type": "code",
   "execution_count": 29,
   "metadata": {},
   "outputs": [
    {
     "data": {
      "image/png": "[encoded data removed]",
      "text/plain": [
       "<Figure size 320x320 with 1 Axes>"
      ]
     },
     "metadata": {
      "needs_background": "light"
     },
     "output_type": "display_data"
    }
   ],
   "source": [
    "plt.hist(test_preds[:,0], bins=50, range=(-1,1), histtype='step')\n",
    "plt.hist(y_test, bins=50, range=(-1,1), histtype='step')\n",
    "plt.xlabel('Vr')\n",
    "plt.ylabel('Stars')\n",
    "plt.title('Test set - simulated data')\n",
    "plt.yscale('log')\n",
    "plt.show()"
   ]
  },
  {
   "cell_type": "code",
   "execution_count": 30,
   "metadata": {},
   "outputs": [
    {
     "name": "stdout",
     "output_type": "stream",
     "text": [
      "[-0.79194146 -1.4480127  -0.8511834  ... -1.0518168  -0.7746358\n",
      " -0.7802698 ]\n"
     ]
    },
    {
     "data": {
      "text/plain": [
       "Text(0, 0.5, 'Error on Vr predicted')"
      ]
     },
     "execution_count": 30,
     "metadata": {},
     "output_type": "execute_result"
    },
    {
     "data": {
      "image/png": "[encoded data removed]",
      "text/plain": [
       "<Figure size 320x320 with 1 Axes>"
      ]
     },
     "metadata": {
      "needs_background": "light"
     },
     "output_type": "display_data"
    }
   ],
   "source": [
    "#test_preds[:,0] = (test_preds[:,0] - np.min(test_preds[:,0]))/(np.max(test_preds[:,0])- np.min(test_preds[:,0]))\n",
    "#test_preds[:,1] = (test_preds[:,1] - np.min(test_preds[:,1]))/(np.max(test_preds[:,1])- np.min(test_preds[:,1]))\n",
    "#y_test = (y_test - np.min(y_test))/(np.max(y_test)- np.min(y_test))\n",
    "#manually normalizing output \n",
    "print(test_preds[:,1])\n",
    "plt.scatter(X_test[:,2], test_preds[:,1], color = 'red')\n",
    "#plt.errorbar(X_test[1:50,2], test_preds[1:50,0], yerr = test_preds[1:50,1], color = 'red',ls='none')\n",
    "plt.xlabel('Distance')\n",
    "plt.ylabel('Error on Vr predicted')"
   ]
  },
  {
   "cell_type": "code",
   "execution_count": 31,
   "metadata": {},
   "outputs": [],
   "source": [
    "from scipy.interpolate import interpn\n",
    "def density_scatter( x , y, ax = None, sort = True, bins = 20, **kwargs )   :\n",
    "    \"\"\"\n",
    "    Scatter plot colored by 2d histogram\n",
    "    \"\"\"\n",
    "    if ax is None :\n",
    "        fig , ax = plt.subplots()\n",
    "    data , x_e, y_e = np.histogram2d( x, y, bins = bins)\n",
    "    z = interpn( ( 0.5*(x_e[1:] + x_e[:-1]) , 0.5*(y_e[1:]+y_e[:-1]) ) , data , np.vstack([x,y]).T , method = \"splinef2d\", bounds_error = False )\n",
    "\n",
    "    # Sort the points by density, so that the densest points are plotted last\n",
    "    if sort :\n",
    "        idx = z.argsort()\n",
    "        x, y, z = x[idx], y[idx], z[idx]\n",
    "\n",
    "    ax.scatter( x, y, c=z, **kwargs )\n",
    "    return ax"
   ]
  },
  {
   "cell_type": "code",
   "execution_count": 32,
   "metadata": {},
   "outputs": [
    {
     "data": {
      "text/plain": [
       "Text(0.5, 0, 'Vr real')"
      ]
     },
     "execution_count": 32,
     "metadata": {},
     "output_type": "execute_result"
    },
    {
     "data": {
      "image/png": "[encoded data removed]",
      "text/plain": [
       "<Figure size 320x320 with 2 Axes>"
      ]
     },
     "metadata": {
      "needs_background": "light"
     },
     "output_type": "display_data"
    }
   ],
   "source": [
    "#plt.errorbar(y_test, test_preds[:,0], yerr = test_preds[:,1], color = 'red',ls='none')\n",
    "#density_scatter(y_test, test_preds[:,0])\n",
    "h = plt.hist2d(y_test, test_preds[:,0], (50, 50), cmap=plt.cm.jet)\n",
    "plt.colorbar(h[3])\n",
    "\n",
    "x = np.linspace(np.min(y_test),np.max(y_test),100)\n",
    "y = x\n",
    "plt.plot(x,y,'k--')\n",
    "plt.ylabel('Vr predicted')\n",
    "plt.xlabel('Vr real')"
   ]
  },
  {
   "cell_type": "code",
   "execution_count": 33,
   "metadata": {},
   "outputs": [],
   "source": [
    "from scipy.stats import gaussian_kde\n",
    "x = y_test\n",
    "y = test_preds[:,0]\n",
    "xy = np.vstack([y_test,test_preds[:,0]])\n",
    "z = gaussian_kde(xy)(xy)\n",
    "\n"
   ]
  },
  {
   "cell_type": "code",
   "execution_count": 34,
   "metadata": {},
   "outputs": [
    {
     "data": {
      "text/plain": [
       "<ErrorbarContainer object of 3 artists>"
      ]
     },
     "execution_count": 34,
     "metadata": {},
     "output_type": "execute_result"
    },
    {
     "data": {
      "image/png": "[encoded data removed]",
      "text/plain": [
       "<Figure size 320x320 with 2 Axes>"
      ]
     },
     "metadata": {
      "needs_background": "light"
     },
     "output_type": "display_data"
    }
   ],
   "source": [
    "# Sort the points by density, so that the densest points are plotted last\n",
    "idx = z.argsort()\n",
    "x = y_test\n",
    "y = test_preds[:,0]\n",
    "x, y, z = x[idx], y[idx], z[idx]\n",
    "fig, ax = plt.subplots()\n",
    "cax = ax.scatter(x, y, c=z, s=25, edgecolor='')\n",
    "x1 = np.linspace(np.min(y_test),np.max(y_test),100)\n",
    "y1 = x1\n",
    "plt.plot(x1,y1,'k--')\n",
    "fig.colorbar(cax)\n",
    "plt.errorbar(y_test[600:800], test_preds[600:800,0], yerr = test_preds[600:800,1], color = 'red',ls='none')"
   ]
  },
  {
   "cell_type": "code",
   "execution_count": 22,
   "metadata": {},
   "outputs": [
    {
     "name": "stderr",
     "output_type": "stream",
     "text": [
      "Font 'default' does not have a glyph for '\\\\times' [U+d7], substituting with a dummy symbol.\n",
      "Font 'default' does not have a glyph for '\\\\times' [U+d7], substituting with a dummy symbol.\n"
     ]
    },
    {
     "data": {
      "image/png": "[encoded data removed]",
      "text/plain": [
       "<Figure size 320x320 with 1 Axes>"
      ]
     },
     "metadata": {
      "needs_background": "light"
     },
     "output_type": "display_data"
    }
   ],
   "source": [
    "plt.hist(y_test, bins=50, range=(-1,1), histtype='step', color = 'skyblue', label = 'test' )\n",
    "plt.yscale('log')"
   ]
  },
  {
   "cell_type": "markdown",
   "metadata": {},
   "source": [
    "# Going to try the two network technique to calculate the error"
   ]
  },
  {
   "cell_type": "code",
   "execution_count": 21,
   "metadata": {},
   "outputs": [],
   "source": [
    "from keras.layers import Input, Dense, Lambda, Concatenate\n",
    "from keras.models import Model\n",
    "from keras.utils import plot_model\n",
    "from IPython.display import clear_output"
   ]
  },
  {
   "cell_type": "code",
   "execution_count": 22,
   "metadata": {},
   "outputs": [],
   "source": [
    "# del(inputs, MeanEst, MeanModel, ConfEst, ConfModel)\n",
    "inputs = Input(shape=(5,))\n",
    "MeanEst = (Dense(100, activation='relu'))(inputs)\n",
    "MeanEst = (Dense(100, activation='relu'))(MeanEst)\n",
    "MeanEst = (Dense(100, activation='relu'))(MeanEst)\n",
    "MeanEst = (Dense(1, activation='linear'))(MeanEst)\n",
    "MeanModel = Model(inputs=[inputs], outputs=MeanEst)\n",
    "\n",
    "ConfEst= (Dense(100, activation='relu'))(inputs)\n",
    "ConfEst= (Dense(100, activation='relu'))(ConfEst)\n",
    "ConfEst= (Dense(100, activation='relu'))(ConfEst)\n",
    "ConfEst= (Dense(1, activation='relu'))(ConfEst)\n",
    "ConfModel = Model(inputs=[inputs], outputs=ConfEst)\n",
    "#how can this give me a confidence output? the only thing that appears to define a confidence is the relu\n",
    "#on the last layer...think about this.\n",
    "#CombinedSub = Concatenate(axis=-1)([MeanEst, ConfEst])\n",
    "CombinedSub = Concatenate(axis=-1)([MeanModel(inputs), ConfModel(inputs)])\n",
    "\n",
    "CombinedModel = Model(inputs=[inputs], outputs=CombinedSub)\n",
    "#plot_model(CombinedModel,to_file='demo.png',show_shapes=True)"
   ]
  },
  {
   "cell_type": "code",
   "execution_count": 23,
   "metadata": {},
   "outputs": [
    {
     "name": "stdout",
     "output_type": "stream",
     "text": [
      "Model: \"model_3\"\n",
      "__________________________________________________________________________________________________\n",
      "Layer (type)                    Output Shape         Param #     Connected to                     \n",
      "==================================================================================================\n",
      "input_1 (InputLayer)            (None, 5)            0                                            \n",
      "__________________________________________________________________________________________________\n",
      "model_1 (Model)                 (None, 1)            20901       input_1[0][0]                    \n",
      "__________________________________________________________________________________________________\n",
      "model_2 (Model)                 (None, 1)            20901       input_1[0][0]                    \n",
      "__________________________________________________________________________________________________\n",
      "concatenate_1 (Concatenate)     (None, 2)            0           model_1[1][0]                    \n",
      "                                                                 model_2[1][0]                    \n",
      "==================================================================================================\n",
      "Total params: 41,802\n",
      "Trainable params: 41,802\n",
      "Non-trainable params: 0\n",
      "__________________________________________________________________________________________________\n"
     ]
    }
   ],
   "source": [
    "CombinedModel.summary()"
   ]
  },
  {
   "cell_type": "code",
   "execution_count": 25,
   "metadata": {},
   "outputs": [
    {
     "name": "stdout",
     "output_type": "stream",
     "text": [
      "Train on 319999 samples, validate on 80000 samples\n",
      "Epoch 1/300\n",
      "319999/319999 [==============================] - 2s 5us/step - loss: 0.0046 - val_loss: 0.0045\n",
      "Epoch 2/300\n",
      "319999/319999 [==============================] - 2s 5us/step - loss: 0.0046 - val_loss: 0.0045\n",
      "Epoch 3/300\n",
      "319999/319999 [==============================] - 2s 5us/step - loss: 0.0045 - val_loss: 0.0045\n",
      "Epoch 4/300\n",
      "319999/319999 [==============================] - 2s 5us/step - loss: 0.0045 - val_loss: 0.0045\n",
      "Epoch 5/300\n",
      "319999/319999 [==============================] - 2s 5us/step - loss: 0.0045 - val_loss: 0.0045\n",
      "Epoch 6/300\n",
      "319999/319999 [==============================] - 2s 5us/step - loss: 0.0045 - val_loss: 0.0045\n",
      "Epoch 7/300\n",
      "319999/319999 [==============================] - 2s 5us/step - loss: 0.0045 - val_loss: 0.0045\n",
      "Epoch 8/300\n",
      "319999/319999 [==============================] - 2s 5us/step - loss: 0.0045 - val_loss: 0.0045\n",
      "Epoch 9/300\n",
      "319999/319999 [==============================] - 2s 5us/step - loss: 0.0044 - val_loss: 0.0045\n",
      "Epoch 10/300\n",
      "319999/319999 [==============================] - 2s 5us/step - loss: 0.0044 - val_loss: 0.0045\n"
     ]
    },
    {
     "data": {
      "text/plain": [
       "<keras.callbacks.callbacks.History at 0x2b5b6feecfd0>"
      ]
     },
     "execution_count": 25,
     "metadata": {},
     "output_type": "execute_result"
    }
   ],
   "source": [
    "ConfModel.trainable = False\n",
    "MeanModel.trainable = True\n",
    "CombinedModel.compile(loss=ConstantLikelihoodLossFunction,\n",
    "                      optimizer='adam'\n",
    "                     )\n",
    "#why does the loss only return not nan when I use this ...I'm guessing it has to do with the log...\n",
    "CombinedModel.fit(X_train,y_train,\n",
    "                  epochs=300,\n",
    "                  batch_size=2000,\n",
    "                  validation_split=0.2,\n",
    "                  callbacks = [es],\n",
    "                  sample_weight=weights\n",
    "                 )"
   ]
  },
  {
   "cell_type": "code",
   "execution_count": 26,
   "metadata": {},
   "outputs": [
    {
     "name": "stdout",
     "output_type": "stream",
     "text": [
      "[[ 0.08085497  0.26545354 -0.54544352  0.11028065  0.31528519]\n",
      " [ 0.59748615 -1.2092143  -0.53949586 -0.31288578  0.13258272]\n",
      " [ 0.43950856  1.88777805  1.15934962  0.04422229  0.62951318]\n",
      " [-0.28178545  0.43229284 -0.3067026  -1.55550154 -0.01426994]\n",
      " [-0.24668185 -0.9326447   0.37834052 -0.82540048  1.10382586]\n",
      " [-1.30194525 -1.12726005 -0.41005272  0.14716455  0.11326637]\n",
      " [-0.07283854  1.19363307  0.38744391  0.60898864  0.57432658]\n",
      " [-1.15999285  0.6639888  -0.33853958 -0.45678137  0.50984451]\n",
      " [-1.2690357  -1.11885634 -0.31431475 -0.19495264  0.68518749]]\n"
     ]
    }
   ],
   "source": [
    "print(X_train[1:10])"
   ]
  },
  {
   "cell_type": "code",
   "execution_count": 27,
   "metadata": {},
   "outputs": [
    {
     "name": "stdout",
     "output_type": "stream",
     "text": [
      "Train on 319999 samples, validate on 80000 samples\n",
      "Epoch 1/100\n",
      "319999/319999 [==============================] - 2s 7us/step - loss: 14535113687907.0742 - val_loss: 0.0151\n",
      "Epoch 2/100\n",
      "319999/319999 [==============================] - 2s 6us/step - loss: 0.0148 - val_loss: 0.0146\n",
      "Epoch 3/100\n",
      "319999/319999 [==============================] - 2s 6us/step - loss: 0.0144 - val_loss: 0.0142\n",
      "Epoch 4/100\n",
      "319999/319999 [==============================] - 2s 6us/step - loss: 0.0140 - val_loss: 0.0139\n",
      "Epoch 5/100\n",
      "319999/319999 [==============================] - 2s 6us/step - loss: 0.0138 - val_loss: 0.0138\n",
      "Epoch 6/100\n",
      "319999/319999 [==============================] - 2s 6us/step - loss: 0.0138 - val_loss: 0.0138\n",
      "Epoch 7/100\n",
      "319999/319999 [==============================] - 2s 6us/step - loss: 0.0137 - val_loss: 0.0138\n",
      "Epoch 8/100\n",
      "319999/319999 [==============================] - 2s 6us/step - loss: 0.0137 - val_loss: 0.0138\n",
      "Epoch 9/100\n",
      "319999/319999 [==============================] - 2s 6us/step - loss: 0.0137 - val_loss: 0.0138\n",
      "Epoch 10/100\n",
      "319999/319999 [==============================] - 2s 6us/step - loss: 0.0137 - val_loss: 0.0137\n",
      "Epoch 11/100\n",
      "319999/319999 [==============================] - 2s 6us/step - loss: 0.0137 - val_loss: 0.0137\n",
      "Epoch 12/100\n",
      "319999/319999 [==============================] - 2s 6us/step - loss: 0.0137 - val_loss: 0.0137\n",
      "Epoch 13/100\n",
      "319999/319999 [==============================] - 2s 6us/step - loss: 0.0137 - val_loss: 0.0137\n",
      "Epoch 14/100\n",
      "201000/319999 [=================>............] - ETA: 0s - loss: 0.0136"
     ]
    },
    {
     "ename": "KeyboardInterrupt",
     "evalue": "",
     "output_type": "error",
     "traceback": [
      "\u001b[0;31m---------------------------------------------------------------------------\u001b[0m",
      "\u001b[0;31mKeyboardInterrupt\u001b[0m                         Traceback (most recent call last)",
      "\u001b[0;32m<ipython-input-27-f5e9c09131ac>\u001b[0m in \u001b[0;36m<module>\u001b[0;34m\u001b[0m\n\u001b[1;32m     10\u001b[0m                   \u001b[0mvalidation_split\u001b[0m\u001b[0;34m=\u001b[0m\u001b[0;36m0.2\u001b[0m\u001b[0;34m,\u001b[0m\u001b[0;34m\u001b[0m\u001b[0;34m\u001b[0m\u001b[0m\n\u001b[1;32m     11\u001b[0m                   \u001b[0;31m#callbacks = [plot_losses],\u001b[0m\u001b[0;34m\u001b[0m\u001b[0;34m\u001b[0m\u001b[0;34m\u001b[0m\u001b[0m\n\u001b[0;32m---> 12\u001b[0;31m                   \u001b[0msample_weight\u001b[0m\u001b[0;34m=\u001b[0m\u001b[0mweights\u001b[0m\u001b[0;34m\u001b[0m\u001b[0;34m\u001b[0m\u001b[0m\n\u001b[0m\u001b[1;32m     13\u001b[0m                  )\n",
      "\u001b[0;32m~/.conda/envs/venv_ML/lib/python3.6/site-packages/keras/engine/training.py\u001b[0m in \u001b[0;36mfit\u001b[0;34m(self, x, y, batch_size, epochs, verbose, callbacks, validation_split, validation_data, shuffle, class_weight, sample_weight, initial_epoch, steps_per_epoch, validation_steps, validation_freq, max_queue_size, workers, use_multiprocessing, **kwargs)\u001b[0m\n\u001b[1;32m   1237\u001b[0m                                         \u001b[0msteps_per_epoch\u001b[0m\u001b[0;34m=\u001b[0m\u001b[0msteps_per_epoch\u001b[0m\u001b[0;34m,\u001b[0m\u001b[0;34m\u001b[0m\u001b[0;34m\u001b[0m\u001b[0m\n\u001b[1;32m   1238\u001b[0m                                         \u001b[0mvalidation_steps\u001b[0m\u001b[0;34m=\u001b[0m\u001b[0mvalidation_steps\u001b[0m\u001b[0;34m,\u001b[0m\u001b[0;34m\u001b[0m\u001b[0;34m\u001b[0m\u001b[0m\n\u001b[0;32m-> 1239\u001b[0;31m                                         validation_freq=validation_freq)\n\u001b[0m\u001b[1;32m   1240\u001b[0m \u001b[0;34m\u001b[0m\u001b[0m\n\u001b[1;32m   1241\u001b[0m     def evaluate(self,\n",
      "\u001b[0;32m~/.conda/envs/venv_ML/lib/python3.6/site-packages/keras/engine/training_arrays.py\u001b[0m in \u001b[0;36mfit_loop\u001b[0;34m(model, fit_function, fit_inputs, out_labels, batch_size, epochs, verbose, callbacks, val_function, val_inputs, shuffle, initial_epoch, steps_per_epoch, validation_steps, validation_freq)\u001b[0m\n\u001b[1;32m    194\u001b[0m                     \u001b[0mins_batch\u001b[0m\u001b[0;34m[\u001b[0m\u001b[0mi\u001b[0m\u001b[0;34m]\u001b[0m \u001b[0;34m=\u001b[0m \u001b[0mins_batch\u001b[0m\u001b[0;34m[\u001b[0m\u001b[0mi\u001b[0m\u001b[0;34m]\u001b[0m\u001b[0;34m.\u001b[0m\u001b[0mtoarray\u001b[0m\u001b[0;34m(\u001b[0m\u001b[0;34m)\u001b[0m\u001b[0;34m\u001b[0m\u001b[0;34m\u001b[0m\u001b[0m\n\u001b[1;32m    195\u001b[0m \u001b[0;34m\u001b[0m\u001b[0m\n\u001b[0;32m--> 196\u001b[0;31m                 \u001b[0mouts\u001b[0m \u001b[0;34m=\u001b[0m \u001b[0mfit_function\u001b[0m\u001b[0;34m(\u001b[0m\u001b[0mins_batch\u001b[0m\u001b[0;34m)\u001b[0m\u001b[0;34m\u001b[0m\u001b[0;34m\u001b[0m\u001b[0m\n\u001b[0m\u001b[1;32m    197\u001b[0m                 \u001b[0mouts\u001b[0m \u001b[0;34m=\u001b[0m \u001b[0mto_list\u001b[0m\u001b[0;34m(\u001b[0m\u001b[0mouts\u001b[0m\u001b[0;34m)\u001b[0m\u001b[0;34m\u001b[0m\u001b[0;34m\u001b[0m\u001b[0m\n\u001b[1;32m    198\u001b[0m                 \u001b[0;32mfor\u001b[0m \u001b[0ml\u001b[0m\u001b[0;34m,\u001b[0m \u001b[0mo\u001b[0m \u001b[0;32min\u001b[0m \u001b[0mzip\u001b[0m\u001b[0;34m(\u001b[0m\u001b[0mout_labels\u001b[0m\u001b[0;34m,\u001b[0m \u001b[0mouts\u001b[0m\u001b[0;34m)\u001b[0m\u001b[0;34m:\u001b[0m\u001b[0;34m\u001b[0m\u001b[0;34m\u001b[0m\u001b[0m\n",
      "\u001b[0;32m~/.conda/envs/venv_ML/lib/python3.6/site-packages/tensorflow_core/python/keras/backend.py\u001b[0m in \u001b[0;36m__call__\u001b[0;34m(self, inputs)\u001b[0m\n\u001b[1;32m   3725\u001b[0m         \u001b[0mvalue\u001b[0m \u001b[0;34m=\u001b[0m \u001b[0mmath_ops\u001b[0m\u001b[0;34m.\u001b[0m\u001b[0mcast\u001b[0m\u001b[0;34m(\u001b[0m\u001b[0mvalue\u001b[0m\u001b[0;34m,\u001b[0m \u001b[0mtensor\u001b[0m\u001b[0;34m.\u001b[0m\u001b[0mdtype\u001b[0m\u001b[0;34m)\u001b[0m\u001b[0;34m\u001b[0m\u001b[0;34m\u001b[0m\u001b[0m\n\u001b[1;32m   3726\u001b[0m       \u001b[0mconverted_inputs\u001b[0m\u001b[0;34m.\u001b[0m\u001b[0mappend\u001b[0m\u001b[0;34m(\u001b[0m\u001b[0mvalue\u001b[0m\u001b[0;34m)\u001b[0m\u001b[0;34m\u001b[0m\u001b[0;34m\u001b[0m\u001b[0m\n\u001b[0;32m-> 3727\u001b[0;31m     \u001b[0moutputs\u001b[0m \u001b[0;34m=\u001b[0m \u001b[0mself\u001b[0m\u001b[0;34m.\u001b[0m\u001b[0m_graph_fn\u001b[0m\u001b[0;34m(\u001b[0m\u001b[0;34m*\u001b[0m\u001b[0mconverted_inputs\u001b[0m\u001b[0;34m)\u001b[0m\u001b[0;34m\u001b[0m\u001b[0;34m\u001b[0m\u001b[0m\n\u001b[0m\u001b[1;32m   3728\u001b[0m \u001b[0;34m\u001b[0m\u001b[0m\n\u001b[1;32m   3729\u001b[0m     \u001b[0;31m# EagerTensor.numpy() will often make a copy to ensure memory safety.\u001b[0m\u001b[0;34m\u001b[0m\u001b[0;34m\u001b[0m\u001b[0;34m\u001b[0m\u001b[0m\n",
      "\u001b[0;32m~/.conda/envs/venv_ML/lib/python3.6/site-packages/tensorflow_core/python/eager/function.py\u001b[0m in \u001b[0;36m__call__\u001b[0;34m(self, *args, **kwargs)\u001b[0m\n\u001b[1;32m   1549\u001b[0m       \u001b[0mTypeError\u001b[0m\u001b[0;34m:\u001b[0m \u001b[0mFor\u001b[0m \u001b[0minvalid\u001b[0m \u001b[0mpositional\u001b[0m\u001b[0;34m/\u001b[0m\u001b[0mkeyword\u001b[0m \u001b[0margument\u001b[0m \u001b[0mcombinations\u001b[0m\u001b[0;34m.\u001b[0m\u001b[0;34m\u001b[0m\u001b[0;34m\u001b[0m\u001b[0m\n\u001b[1;32m   1550\u001b[0m     \"\"\"\n\u001b[0;32m-> 1551\u001b[0;31m     \u001b[0;32mreturn\u001b[0m \u001b[0mself\u001b[0m\u001b[0;34m.\u001b[0m\u001b[0m_call_impl\u001b[0m\u001b[0;34m(\u001b[0m\u001b[0margs\u001b[0m\u001b[0;34m,\u001b[0m \u001b[0mkwargs\u001b[0m\u001b[0;34m)\u001b[0m\u001b[0;34m\u001b[0m\u001b[0;34m\u001b[0m\u001b[0m\n\u001b[0m\u001b[1;32m   1552\u001b[0m \u001b[0;34m\u001b[0m\u001b[0m\n\u001b[1;32m   1553\u001b[0m   \u001b[0;32mdef\u001b[0m \u001b[0m_call_impl\u001b[0m\u001b[0;34m(\u001b[0m\u001b[0mself\u001b[0m\u001b[0;34m,\u001b[0m \u001b[0margs\u001b[0m\u001b[0;34m,\u001b[0m \u001b[0mkwargs\u001b[0m\u001b[0;34m,\u001b[0m \u001b[0mcancellation_manager\u001b[0m\u001b[0;34m=\u001b[0m\u001b[0;32mNone\u001b[0m\u001b[0;34m)\u001b[0m\u001b[0;34m:\u001b[0m\u001b[0;34m\u001b[0m\u001b[0;34m\u001b[0m\u001b[0m\n",
      "\u001b[0;32m~/.conda/envs/venv_ML/lib/python3.6/site-packages/tensorflow_core/python/eager/function.py\u001b[0m in \u001b[0;36m_call_impl\u001b[0;34m(self, args, kwargs, cancellation_manager)\u001b[0m\n\u001b[1;32m   1589\u001b[0m       raise TypeError(\"Keyword arguments {} unknown. Expected {}.\".format(\n\u001b[1;32m   1590\u001b[0m           list(kwargs.keys()), list(self._arg_keywords)))\n\u001b[0;32m-> 1591\u001b[0;31m     \u001b[0;32mreturn\u001b[0m \u001b[0mself\u001b[0m\u001b[0;34m.\u001b[0m\u001b[0m_call_flat\u001b[0m\u001b[0;34m(\u001b[0m\u001b[0margs\u001b[0m\u001b[0;34m,\u001b[0m \u001b[0mself\u001b[0m\u001b[0;34m.\u001b[0m\u001b[0mcaptured_inputs\u001b[0m\u001b[0;34m,\u001b[0m \u001b[0mcancellation_manager\u001b[0m\u001b[0;34m)\u001b[0m\u001b[0;34m\u001b[0m\u001b[0;34m\u001b[0m\u001b[0m\n\u001b[0m\u001b[1;32m   1592\u001b[0m \u001b[0;34m\u001b[0m\u001b[0m\n\u001b[1;32m   1593\u001b[0m   \u001b[0;32mdef\u001b[0m \u001b[0m_filtered_call\u001b[0m\u001b[0;34m(\u001b[0m\u001b[0mself\u001b[0m\u001b[0;34m,\u001b[0m \u001b[0margs\u001b[0m\u001b[0;34m,\u001b[0m \u001b[0mkwargs\u001b[0m\u001b[0;34m)\u001b[0m\u001b[0;34m:\u001b[0m\u001b[0;34m\u001b[0m\u001b[0;34m\u001b[0m\u001b[0m\n",
      "\u001b[0;32m~/.conda/envs/venv_ML/lib/python3.6/site-packages/tensorflow_core/python/eager/function.py\u001b[0m in \u001b[0;36m_call_flat\u001b[0;34m(self, args, captured_inputs, cancellation_manager)\u001b[0m\n\u001b[1;32m   1690\u001b[0m       \u001b[0;31m# No tape is watching; skip to running the function.\u001b[0m\u001b[0;34m\u001b[0m\u001b[0;34m\u001b[0m\u001b[0;34m\u001b[0m\u001b[0m\n\u001b[1;32m   1691\u001b[0m       return self._build_call_outputs(self._inference_function.call(\n\u001b[0;32m-> 1692\u001b[0;31m           ctx, args, cancellation_manager=cancellation_manager))\n\u001b[0m\u001b[1;32m   1693\u001b[0m     forward_backward = self._select_forward_and_backward_functions(\n\u001b[1;32m   1694\u001b[0m         \u001b[0margs\u001b[0m\u001b[0;34m,\u001b[0m\u001b[0;34m\u001b[0m\u001b[0;34m\u001b[0m\u001b[0m\n",
      "\u001b[0;32m~/.conda/envs/venv_ML/lib/python3.6/site-packages/tensorflow_core/python/eager/function.py\u001b[0m in \u001b[0;36mcall\u001b[0;34m(self, ctx, args, cancellation_manager)\u001b[0m\n\u001b[1;32m    543\u001b[0m               \u001b[0minputs\u001b[0m\u001b[0;34m=\u001b[0m\u001b[0margs\u001b[0m\u001b[0;34m,\u001b[0m\u001b[0;34m\u001b[0m\u001b[0;34m\u001b[0m\u001b[0m\n\u001b[1;32m    544\u001b[0m               \u001b[0mattrs\u001b[0m\u001b[0;34m=\u001b[0m\u001b[0;34m(\u001b[0m\u001b[0;34m\"executor_type\"\u001b[0m\u001b[0;34m,\u001b[0m \u001b[0mexecutor_type\u001b[0m\u001b[0;34m,\u001b[0m \u001b[0;34m\"config_proto\"\u001b[0m\u001b[0;34m,\u001b[0m \u001b[0mconfig\u001b[0m\u001b[0;34m)\u001b[0m\u001b[0;34m,\u001b[0m\u001b[0;34m\u001b[0m\u001b[0;34m\u001b[0m\u001b[0m\n\u001b[0;32m--> 545\u001b[0;31m               ctx=ctx)\n\u001b[0m\u001b[1;32m    546\u001b[0m         \u001b[0;32melse\u001b[0m\u001b[0;34m:\u001b[0m\u001b[0;34m\u001b[0m\u001b[0;34m\u001b[0m\u001b[0m\n\u001b[1;32m    547\u001b[0m           outputs = execute.execute_with_cancellation(\n",
      "\u001b[0;32m~/.conda/envs/venv_ML/lib/python3.6/site-packages/tensorflow_core/python/eager/execute.py\u001b[0m in \u001b[0;36mquick_execute\u001b[0;34m(op_name, num_outputs, inputs, attrs, ctx, name)\u001b[0m\n\u001b[1;32m     59\u001b[0m     tensors = pywrap_tensorflow.TFE_Py_Execute(ctx._handle, device_name,\n\u001b[1;32m     60\u001b[0m                                                \u001b[0mop_name\u001b[0m\u001b[0;34m,\u001b[0m \u001b[0minputs\u001b[0m\u001b[0;34m,\u001b[0m \u001b[0mattrs\u001b[0m\u001b[0;34m,\u001b[0m\u001b[0;34m\u001b[0m\u001b[0;34m\u001b[0m\u001b[0m\n\u001b[0;32m---> 61\u001b[0;31m                                                num_outputs)\n\u001b[0m\u001b[1;32m     62\u001b[0m   \u001b[0;32mexcept\u001b[0m \u001b[0mcore\u001b[0m\u001b[0;34m.\u001b[0m\u001b[0m_NotOkStatusException\u001b[0m \u001b[0;32mas\u001b[0m \u001b[0me\u001b[0m\u001b[0;34m:\u001b[0m\u001b[0;34m\u001b[0m\u001b[0;34m\u001b[0m\u001b[0m\n\u001b[1;32m     63\u001b[0m     \u001b[0;32mif\u001b[0m \u001b[0mname\u001b[0m \u001b[0;32mis\u001b[0m \u001b[0;32mnot\u001b[0m \u001b[0;32mNone\u001b[0m\u001b[0;34m:\u001b[0m\u001b[0;34m\u001b[0m\u001b[0;34m\u001b[0m\u001b[0m\n",
      "\u001b[0;31mKeyboardInterrupt\u001b[0m: "
     ]
    }
   ],
   "source": [
    "ConfModel.trainable = True\n",
    "MeanModel.trainable = False\n",
    "CombinedModel.compile(loss=LikelihoodLossFunction,\n",
    "                      optimizer='adam'\n",
    "                     )\n",
    "\n",
    "CombinedModel.fit(X_train,y_train,\n",
    "                  epochs=100,\n",
    "                  batch_size=1000,\n",
    "                  validation_split=0.2,\n",
    "                  #callbacks = [plot_losses],\n",
    "                  sample_weight=weights\n",
    "                 )"
   ]
  },
  {
   "cell_type": "code",
   "execution_count": 28,
   "metadata": {},
   "outputs": [
    {
     "data": {
      "image/png": "[encoded data removed]",
      "text/plain": [
       "<Figure size 320x320 with 1 Axes>"
      ]
     },
     "metadata": {
      "needs_background": "light"
     },
     "output_type": "display_data"
    }
   ],
   "source": [
    "test_preds_2 = CombinedModel.predict(X_test)\n",
    "\n",
    "plt.figure()\n",
    "plt.hist(y_test, bins=50, range=(-1,1), histtype='step', color = 'skyblue', label = 'test' )\n",
    "plt.hist(test_preds_2[:,0], bins=50, range=(-1,1), histtype='step',color = 'orange', label = 'predicted')\n",
    "plt.xlabel('Vr')\n",
    "plt.ylabel('Stars')\n",
    "plt.title('Test set - simulated data')\n",
    "plt.yscale('log')\n",
    "plt.legend(loc = \"upper right\")\n",
    "plt.show()"
   ]
  },
  {
   "cell_type": "code",
   "execution_count": 29,
   "metadata": {},
   "outputs": [
    {
     "data": {
      "text/plain": [
       "False"
      ]
     },
     "execution_count": 29,
     "metadata": {},
     "output_type": "execute_result"
    }
   ],
   "source": [
    "np.any(np.isinf(test_preds_2[:,1]))"
   ]
  },
  {
   "cell_type": "code",
   "execution_count": 30,
   "metadata": {},
   "outputs": [
    {
     "name": "stdout",
     "output_type": "stream",
     "text": [
      "[[ 0.84018105  1.3900135 ]\n",
      " [-0.50664407  0.83972615]\n",
      " [-0.3030435   1.062593  ]\n",
      " [-0.09929561  0.85886145]\n",
      " [ 0.08756173  0.7529325 ]\n",
      " [-0.3335043   2.0482101 ]\n",
      " [-0.03259812  0.7256676 ]\n",
      " [-0.66080856  0.8721648 ]\n",
      " [-0.24156581  0.71830356]]\n"
     ]
    }
   ],
   "source": [
    "print(test_preds_2[1:10,:])"
   ]
  },
  {
   "cell_type": "code",
   "execution_count": 31,
   "metadata": {},
   "outputs": [
    {
     "name": "stdout",
     "output_type": "stream",
     "text": [
      "[1.3900135  0.83972615 1.062593   0.85886145 0.7529325  2.0482101\n",
      " 0.7256676  0.8721648  0.71830356 0.70379996 1.2605551  0.7261983\n",
      " 0.935355   0.65214014 0.9624739  0.87508714 0.7468368  1.3075086\n",
      " 0.86904985 0.650145   1.3296138  0.6783139  1.390078   0.86082816\n",
      " 0.71944577 1.1965157  1.157376   0.84174603 0.8744443  0.70980084\n",
      " 0.8414701  0.68230915 1.4875399  0.86175716 1.0273854  1.1090219\n",
      " 0.829671   1.2531337  0.78379476 0.83688504 1.0659813  0.8153797\n",
      " 0.62013775 0.6667691  0.82607234 3.7265983  0.82239395 0.6685136\n",
      " 1.2980884 ]\n"
     ]
    },
    {
     "data": {
      "text/plain": [
       "Text(0, 0.5, 'Error on Vr predicted')"
      ]
     },
     "execution_count": 31,
     "metadata": {},
     "output_type": "execute_result"
    },
    {
     "data": {
      "image/png": "[encoded data removed]",
      "text/plain": [
       "<Figure size 320x320 with 1 Axes>"
      ]
     },
     "metadata": {
      "needs_background": "light"
     },
     "output_type": "display_data"
    }
   ],
   "source": [
    "print(test_preds_2[1:50,1])\n",
    "plt.scatter(X_test[:,2], test_preds_2[:,1], color = 'red')\n",
    "#plt.errorbar(X_test[1:50,2], test_preds_2[1:50,0], yerr = test_preds_2[1:50,1], color = 'red',ls='none')\n",
    "plt.xlabel('Distance')\n",
    "plt.ylabel('Error on Vr predicted')\n",
    "#does give a relu output...but I'm still not sure if this is exactly showing the error"
   ]
  },
  {
   "cell_type": "code",
   "execution_count": 43,
   "metadata": {},
   "outputs": [
    {
     "data": {
      "image/png": "[encoded data removed]",
      "text/plain": [
       "<Figure size 320x320 with 2 Axes>"
      ]
     },
     "metadata": {
      "needs_background": "light"
     },
     "output_type": "display_data"
    }
   ],
   "source": [
    "#plt.errorbar(y_test, test_preds_2[:,0], yerr = test_preds_2[:,1], color = 'red',ls='none')\n",
    "sc = plt.scatter(y_test, test_preds_2[:,0], c =test_preds_2[:,1], label = 'data',marker = '.',cmap=plt.cm.YlOrRd)\n",
    "x1 = np.linspace(-20,20,100)\n",
    "y1 = x1\n",
    "plt.plot(x1,y1,'k--')\n",
    "plt.xlim([-20, 20])\n",
    "plt.ylim([-20, 20])\n",
    "plt.ylabel('Vr predicted')\n",
    "plt.xlabel('Vr real')\n",
    "clb = plt.colorbar(sc)\n",
    "plt.clim(0,3)"
   ]
  },
  {
   "cell_type": "markdown",
   "metadata": {},
   "source": [
    "Should also do a density plot for this one. Also plot loss function for second method (will need to include output for .fit). "
   ]
  },
  {
   "cell_type": "code",
   "execution_count": null,
   "metadata": {},
   "outputs": [],
   "source": []
  },
  {
   "cell_type": "code",
   "execution_count": null,
   "metadata": {},
   "outputs": [],
   "source": []
  }
 ],
 "metadata": {
  "kernelspec": {
   "display_name": "venv_ML",
   "language": "python",
   "name": "venv_ml"
  },
  "language_info": {
   "codemirror_mode": {
    "name": "ipython",
    "version": 3
   },
   "file_extension": ".py",
   "mimetype": "text/x-python",
   "name": "python",
   "nbconvert_exporter": "python",
   "pygments_lexer": "ipython3",
   "version": "3.6.10"
  }
 },
 "nbformat": 4,
 "nbformat_minor": 4
}
