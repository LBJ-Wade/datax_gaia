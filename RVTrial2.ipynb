{
 "cells": [
  {
   "cell_type": "markdown",
   "metadata": {},
   "source": [
    "# ML to find radial velocities using FIRE data"
   ]
  },
  {
   "cell_type": "code",
   "execution_count": 1,
   "metadata": {},
   "outputs": [],
   "source": [
    "%matplotlib inline\n",
    "\n",
    "import matplotlib\n",
    "import matplotlib.colors as colors\n",
    "\n",
    "import pandas as pd\n",
    "import numpy as np\n",
    "import matplotlib.pyplot as plt\n",
    "import os.path\n",
    "import sys\n",
    "import gzip\n",
    "import matplotlib.gridspec as gridspec\n",
    "\n",
    "matplotlib.rcParams.update({'font.family':'cmr10','font.size': 13})\n",
    "matplotlib.rcParams['axes.unicode_minus']=False\n",
    "matplotlib.rcParams['axes.labelsize']=15\n",
    "plt.rcParams['figure.figsize']=(4,4)\n",
    "plt.rcParams['figure.dpi'] = 80\n",
    "plt.rcParams['mathtext.fontset'] = 'cm'\n",
    "plt.rcParams['mathtext.rm'] = 'serif'\n",
    "plt.rcParams['xtick.direction'] = 'in'\n",
    "plt.rcParams['ytick.direction'] = 'in'\n",
    "plt.rcParams['xtick.top'] = True\n",
    "plt.rcParams['ytick.right'] = True"
   ]
  },
  {
   "cell_type": "code",
   "execution_count": 2,
   "metadata": {},
   "outputs": [],
   "source": [
    "data = np.load('StarsWithRadialVelocity.npy')"
   ]
  },
  {
   "cell_type": "code",
   "execution_count": 3,
   "metadata": {},
   "outputs": [],
   "source": [
    "data_cols = ['l', 'b','ra', 'dec', 'pmra', 'pmdec', 'parallax', 'radial_velocity',\n",
    "             'phot_g_mean_mag', 'phot_bp_mean_mag', 'phot_rp_mean_mag',\n",
    "             'pmra_error', 'pmdec_error', 'parallax_error', 'radial_velocity_error',\n",
    "             'phot_g_mean_mag_error', 'phot_bp_mean_mag_error', 'phot_rp_mean_mag_error',\n",
    "             'AccretedLabel'\n",
    "            ]\n",
    "#could train on radial_velocity_error"
   ]
  },
  {
   "cell_type": "code",
   "execution_count": 4,
   "metadata": {},
   "outputs": [],
   "source": [
    "data = pd.DataFrame(data, columns=data_cols)"
   ]
  },
  {
   "cell_type": "code",
   "execution_count": 5,
   "metadata": {},
   "outputs": [
    {
     "data": {
      "text/plain": [
       "(11400846, 19)"
      ]
     },
     "execution_count": 5,
     "metadata": {},
     "output_type": "execute_result"
    }
   ],
   "source": [
    "data.shape"
   ]
  },
  {
   "cell_type": "code",
   "execution_count": 6,
   "metadata": {},
   "outputs": [
    {
     "data": {
      "text/html": [
       "<div>\n",
       "<style scoped>\n",
       "    .dataframe tbody tr th:only-of-type {\n",
       "        vertical-align: middle;\n",
       "    }\n",
       "\n",
       "    .dataframe tbody tr th {\n",
       "        vertical-align: top;\n",
       "    }\n",
       "\n",
       "    .dataframe thead th {\n",
       "        text-align: right;\n",
       "    }\n",
       "</style>\n",
       "<table border=\"1\" class=\"dataframe\">\n",
       "  <thead>\n",
       "    <tr style=\"text-align: right;\">\n",
       "      <th></th>\n",
       "      <th>l</th>\n",
       "      <th>b</th>\n",
       "      <th>ra</th>\n",
       "      <th>dec</th>\n",
       "      <th>pmra</th>\n",
       "      <th>pmdec</th>\n",
       "      <th>parallax</th>\n",
       "      <th>radial_velocity</th>\n",
       "      <th>phot_g_mean_mag</th>\n",
       "      <th>phot_bp_mean_mag</th>\n",
       "      <th>phot_rp_mean_mag</th>\n",
       "      <th>pmra_error</th>\n",
       "      <th>pmdec_error</th>\n",
       "      <th>parallax_error</th>\n",
       "      <th>radial_velocity_error</th>\n",
       "      <th>phot_g_mean_mag_error</th>\n",
       "      <th>phot_bp_mean_mag_error</th>\n",
       "      <th>phot_rp_mean_mag_error</th>\n",
       "      <th>AccretedLabel</th>\n",
       "    </tr>\n",
       "  </thead>\n",
       "  <tbody>\n",
       "    <tr>\n",
       "      <th>0</th>\n",
       "      <td>18.947771</td>\n",
       "      <td>17.087326</td>\n",
       "      <td>261.281075</td>\n",
       "      <td>-4.105546</td>\n",
       "      <td>0.304014</td>\n",
       "      <td>-2.012651</td>\n",
       "      <td>0.443537</td>\n",
       "      <td>44.472788</td>\n",
       "      <td>14.384683</td>\n",
       "      <td>14.678857</td>\n",
       "      <td>13.931516</td>\n",
       "      <td>0.091557</td>\n",
       "      <td>0.091557</td>\n",
       "      <td>0.044116</td>\n",
       "      <td>9.908263</td>\n",
       "      <td>0.000611</td>\n",
       "      <td>0.003929</td>\n",
       "      <td>0.003929</td>\n",
       "      <td>0.0</td>\n",
       "    </tr>\n",
       "    <tr>\n",
       "      <th>1</th>\n",
       "      <td>-4.978819</td>\n",
       "      <td>-41.542610</td>\n",
       "      <td>315.656827</td>\n",
       "      <td>-45.372252</td>\n",
       "      <td>15.768343</td>\n",
       "      <td>-16.975898</td>\n",
       "      <td>1.369992</td>\n",
       "      <td>-120.045033</td>\n",
       "      <td>12.405884</td>\n",
       "      <td>12.633657</td>\n",
       "      <td>12.030871</td>\n",
       "      <td>0.087001</td>\n",
       "      <td>0.087001</td>\n",
       "      <td>0.042780</td>\n",
       "      <td>2.036502</td>\n",
       "      <td>0.000342</td>\n",
       "      <td>0.002105</td>\n",
       "      <td>0.002105</td>\n",
       "      <td>0.0</td>\n",
       "    </tr>\n",
       "    <tr>\n",
       "      <th>2</th>\n",
       "      <td>-137.539419</td>\n",
       "      <td>-47.311996</td>\n",
       "      <td>60.814237</td>\n",
       "      <td>-25.789371</td>\n",
       "      <td>5.542696</td>\n",
       "      <td>9.388474</td>\n",
       "      <td>0.597262</td>\n",
       "      <td>83.063864</td>\n",
       "      <td>14.347357</td>\n",
       "      <td>14.619976</td>\n",
       "      <td>13.923520</td>\n",
       "      <td>0.091365</td>\n",
       "      <td>0.091365</td>\n",
       "      <td>0.044055</td>\n",
       "      <td>9.917098</td>\n",
       "      <td>0.000602</td>\n",
       "      <td>0.003861</td>\n",
       "      <td>0.003861</td>\n",
       "      <td>0.0</td>\n",
       "    </tr>\n",
       "    <tr>\n",
       "      <th>3</th>\n",
       "      <td>-68.315598</td>\n",
       "      <td>-32.353069</td>\n",
       "      <td>71.998054</td>\n",
       "      <td>-78.933526</td>\n",
       "      <td>14.320530</td>\n",
       "      <td>-13.669455</td>\n",
       "      <td>0.862436</td>\n",
       "      <td>-106.062495</td>\n",
       "      <td>14.062039</td>\n",
       "      <td>14.311761</td>\n",
       "      <td>13.648176</td>\n",
       "      <td>0.090130</td>\n",
       "      <td>0.090130</td>\n",
       "      <td>0.043668</td>\n",
       "      <td>7.792049</td>\n",
       "      <td>0.000544</td>\n",
       "      <td>0.003407</td>\n",
       "      <td>0.003407</td>\n",
       "      <td>0.0</td>\n",
       "    </tr>\n",
       "    <tr>\n",
       "      <th>4</th>\n",
       "      <td>85.879721</td>\n",
       "      <td>-52.988838</td>\n",
       "      <td>351.547535</td>\n",
       "      <td>3.638489</td>\n",
       "      <td>2.937268</td>\n",
       "      <td>5.109022</td>\n",
       "      <td>1.510236</td>\n",
       "      <td>-23.143291</td>\n",
       "      <td>14.677980</td>\n",
       "      <td>15.082906</td>\n",
       "      <td>14.107460</td>\n",
       "      <td>0.093275</td>\n",
       "      <td>0.093275</td>\n",
       "      <td>0.044678</td>\n",
       "      <td>11.110764</td>\n",
       "      <td>0.000683</td>\n",
       "      <td>0.004529</td>\n",
       "      <td>0.004529</td>\n",
       "      <td>0.0</td>\n",
       "    </tr>\n",
       "  </tbody>\n",
       "</table>\n",
       "</div>"
      ],
      "text/plain": [
       "            l          b          ra        dec       pmra      pmdec  \\\n",
       "0   18.947771  17.087326  261.281075  -4.105546   0.304014  -2.012651   \n",
       "1   -4.978819 -41.542610  315.656827 -45.372252  15.768343 -16.975898   \n",
       "2 -137.539419 -47.311996   60.814237 -25.789371   5.542696   9.388474   \n",
       "3  -68.315598 -32.353069   71.998054 -78.933526  14.320530 -13.669455   \n",
       "4   85.879721 -52.988838  351.547535   3.638489   2.937268   5.109022   \n",
       "\n",
       "   parallax  radial_velocity  phot_g_mean_mag  phot_bp_mean_mag  \\\n",
       "0  0.443537        44.472788        14.384683         14.678857   \n",
       "1  1.369992      -120.045033        12.405884         12.633657   \n",
       "2  0.597262        83.063864        14.347357         14.619976   \n",
       "3  0.862436      -106.062495        14.062039         14.311761   \n",
       "4  1.510236       -23.143291        14.677980         15.082906   \n",
       "\n",
       "   phot_rp_mean_mag  pmra_error  pmdec_error  parallax_error  \\\n",
       "0         13.931516    0.091557     0.091557        0.044116   \n",
       "1         12.030871    0.087001     0.087001        0.042780   \n",
       "2         13.923520    0.091365     0.091365        0.044055   \n",
       "3         13.648176    0.090130     0.090130        0.043668   \n",
       "4         14.107460    0.093275     0.093275        0.044678   \n",
       "\n",
       "   radial_velocity_error  phot_g_mean_mag_error  phot_bp_mean_mag_error  \\\n",
       "0               9.908263               0.000611                0.003929   \n",
       "1               2.036502               0.000342                0.002105   \n",
       "2               9.917098               0.000602                0.003861   \n",
       "3               7.792049               0.000544                0.003407   \n",
       "4              11.110764               0.000683                0.004529   \n",
       "\n",
       "   phot_rp_mean_mag_error  AccretedLabel  \n",
       "0                0.003929            0.0  \n",
       "1                0.002105            0.0  \n",
       "2                0.003861            0.0  \n",
       "3                0.003407            0.0  \n",
       "4                0.004529            0.0  "
      ]
     },
     "execution_count": 6,
     "metadata": {},
     "output_type": "execute_result"
    }
   ],
   "source": [
    "data.head()\n"
   ]
  },
  {
   "cell_type": "code",
   "execution_count": 7,
   "metadata": {},
   "outputs": [],
   "source": [
    "from sklearn.preprocessing import StandardScaler\n",
    "from sklearn.model_selection import train_test_split\n",
    "from scipy.interpolate import interp1d"
   ]
  },
  {
   "cell_type": "code",
   "execution_count": 8,
   "metadata": {},
   "outputs": [],
   "source": [
    "# What columns to use?\n",
    "use_cols = ['l', 'b','parallax','pmra','pmdec']\n",
    "# Make the design matrix\n",
    "X = data[use_cols].values\n",
    "Y = (data['radial_velocity']).values\n",
    "Y = (Y - np.mean(Y))/(np.std(Y))"
   ]
  },
  {
   "cell_type": "code",
   "execution_count": 9,
   "metadata": {},
   "outputs": [],
   "source": [
    "X_train, X_test, y_train, y_test = train_test_split(X[1:500000], Y[1:500000],\n",
    "                                                    test_size = 0.2,\n",
    "                                                    random_state=42)\n"
   ]
  },
  {
   "cell_type": "code",
   "execution_count": 10,
   "metadata": {},
   "outputs": [
    {
     "name": "stdout",
     "output_type": "stream",
     "text": [
      "[-1.69586782  1.26108202 -1.4923038  -0.28512908  1.16469197 -0.62397669\n",
      " -0.1612418   2.16407543  0.39171227 -1.13327835  0.26803948  0.25061651\n",
      " -0.78722296  0.76522643 -0.3204982  -0.43891176 -2.20740675  0.32800101\n",
      " -0.36686087 -0.27203564 -1.76992291 -0.1710158  -1.2691895  -0.146452\n",
      "  0.1632188   0.19425337  0.75542055 -0.65315212 -0.55125346  0.83523748\n",
      "  0.01619835 -0.08405985 -1.05875285  1.317901    0.0263108  -2.34458125\n",
      "  1.32214235 -0.12613169 -0.88942516 -0.56886917  0.78229151 -1.31575899\n",
      "  0.45502505 -1.40811172  0.43625962 -1.00791115  0.71990118 -0.32511336\n",
      "  0.10797619]\n"
     ]
    }
   ],
   "source": [
    "print(Y[1:50])"
   ]
  },
  {
   "cell_type": "code",
   "execution_count": 11,
   "metadata": {},
   "outputs": [],
   "source": [
    "#trying to add some weights to training data\n",
    "vr_real = y_train\n",
    "counts, bins = np.histogram(vr_real,bins=np.linspace(-850,850,101))\n",
    "bin_centers = (bins[1:]+bins[:-1])/2\n",
    "interp_func = interp1d(bin_centers,(counts).astype('float'))\n",
    "inv_weights = interp_func(vr_real)\n",
    "weights = 1/inv_weights"
   ]
  },
  {
   "cell_type": "code",
   "execution_count": 12,
   "metadata": {},
   "outputs": [
    {
     "name": "stdout",
     "output_type": "stream",
     "text": [
      "(399999, 5)\n",
      "(399999,)\n",
      "There are -216.34689720494123 stars in the training set\n",
      "\n",
      "(100000, 5)\n",
      "(100000,)\n",
      "There are 67.51702782025998 stars in the test set\n"
     ]
    }
   ],
   "source": [
    "print(X_train.shape)\n",
    "print(y_train.shape)\n",
    "print('There are {0} stars in the training set'.format(np.sum(y_train)))\n",
    "print()\n",
    "print(X_test.shape)\n",
    "print(y_test.shape)\n",
    "print('There are {0} stars in the test set'.format(np.sum(y_test)))"
   ]
  },
  {
   "cell_type": "markdown",
   "metadata": {},
   "source": [
    "I think this is giving me a negative output because it's summing over y_train, which is not the number of stars, but is instead the radial velocities. "
   ]
  },
  {
   "cell_type": "code",
   "execution_count": 13,
   "metadata": {},
   "outputs": [],
   "source": [
    "SS = StandardScaler()\n",
    "X_train = SS.fit_transform(X_train)"
   ]
  },
  {
   "cell_type": "code",
   "execution_count": 14,
   "metadata": {},
   "outputs": [],
   "source": [
    "# Now scale the test data using the same mean and standard deviation as found with the training data\n",
    "X_test = SS.transform(X_test)"
   ]
  },
  {
   "cell_type": "code",
   "execution_count": 15,
   "metadata": {},
   "outputs": [
    {
     "name": "stderr",
     "output_type": "stream",
     "text": [
      "Font 'default' does not have a glyph for '\\\\times' [U+d7], substituting with a dummy symbol.\n",
      "Font 'default' does not have a glyph for '\\\\times' [U+d7], substituting with a dummy symbol.\n",
      "Font 'default' does not have a glyph for '\\\\times' [U+d7], substituting with a dummy symbol.\n",
      "Font 'default' does not have a glyph for '\\\\times' [U+d7], substituting with a dummy symbol.\n"
     ]
    },
    {
     "data": {
      "image/png": "[encoded data removed]",
      "text/plain": [
       "<Figure size 480x240 with 2 Axes>"
      ]
     },
     "metadata": {
      "needs_background": "light"
     },
     "output_type": "display_data"
    },
    {
     "data": {
      "image/png": "[encoded data removed]",
      "text/plain": [
       "<Figure size 480x240 with 2 Axes>"
      ]
     },
     "metadata": {
      "needs_background": "light"
     },
     "output_type": "display_data"
    },
    {
     "data": {
      "image/png": "[encoded data removed]",
      "text/plain": [
       "<Figure size 480x240 with 2 Axes>"
      ]
     },
     "metadata": {
      "needs_background": "light"
     },
     "output_type": "display_data"
    },
    {
     "data": {
      "image/png": "[encoded data removed]",
      "text/plain": [
       "<Figure size 480x240 with 2 Axes>"
      ]
     },
     "metadata": {
      "needs_background": "light"
     },
     "output_type": "display_data"
    },
    {
     "data": {
      "image/png": "[encoded data removed]",
      "text/plain": [
       "<Figure size 480x240 with 2 Axes>"
      ]
     },
     "metadata": {
      "needs_background": "light"
     },
     "output_type": "display_data"
    }
   ],
   "source": [
    "#visualize check data\n",
    "for i, col in enumerate(use_cols):\n",
    "    plt.figure(figsize=(6, 3))\n",
    "    plt.subplot(1,2,1)\n",
    "    plt.hist(data[col], bins=100)\n",
    "    plt.yscale('log')\n",
    "    plt.title('Data')\n",
    "    \n",
    "    plt.subplot(1,2,2)\n",
    "    plt.hist(X_train[:, i], bins=100, alpha=0.5)\n",
    "    plt.hist(X_test[:, i], bins=100, alpha=0.5)\n",
    "    plt.yscale('log')\n",
    "    plt.title('Scaled')\n",
    "    \n",
    "    plt.suptitle(col, y=1.01, fontsize=16)\n",
    "    \n",
    "    plt.tight_layout()"
   ]
  },
  {
   "cell_type": "code",
   "execution_count": 16,
   "metadata": {},
   "outputs": [
    {
     "name": "stderr",
     "output_type": "stream",
     "text": [
      "Using TensorFlow backend.\n"
     ]
    }
   ],
   "source": [
    "from keras.models import Sequential\n",
    "from keras.layers import Dense\n",
    "from keras.callbacks import EarlyStopping, ModelCheckpoint\n",
    "from keras.optimizers import Adam"
   ]
  },
  {
   "cell_type": "code",
   "execution_count": 17,
   "metadata": {},
   "outputs": [],
   "source": [
    "from keras import backend as K"
   ]
  },
  {
   "cell_type": "code",
   "execution_count": 18,
   "metadata": {},
   "outputs": [],
   "source": [
    "def LikelihoodLossFunction(y_true, y_pred):\n",
    "    # shape of y_pred should be (nsamples, 2)\n",
    "    # the first column should be the mean of the prediction\n",
    "    # the second column is the confidence (number of standard deviations)\n",
    "#     print y_true.shape\n",
    "#     print y_pred.shape\n",
    "    SIGMA = K.abs(y_pred[:, 1])\n",
    "    LOC = y_pred[:, 0]\n",
    "    X = y_true[:, 0]\n",
    "    \n",
    "    ARG = K.square(X - LOC) / (2 * K.square(SIGMA))\n",
    "    PREFACT = K.log(K.pow(2 * np.pi * K.square(SIGMA), -0.5))\n",
    "    #you get this from the conditional probability distribution\n",
    "    return K.mean(ARG - PREFACT)\n",
    "#returns [vr predicted, sigma]"
   ]
  },
  {
   "cell_type": "code",
   "execution_count": 19,
   "metadata": {},
   "outputs": [],
   "source": [
    "MyModel = Sequential()\n",
    "MyModel.add(Dense(units=100, activation='relu', input_dim=X_train.shape[1]))\n",
    "MyModel.add(Dense(units=100, activation='relu'))\n",
    "MyModel.add(Dense(units=100, activation='relu'))\n",
    "MyModel.add(Dense(units=2))\n",
    "#using tanh activation function in the last layer\n",
    "#MyModel.compile(loss='mean_squared_error',\n",
    "               # optimizer='adam'\n",
    "              # )\n",
    "MyModel.compile(loss=LikelihoodLossFunction,\n",
    "                optimizer='adam'\n",
    "               )"
   ]
  },
  {
   "cell_type": "code",
   "execution_count": 20,
   "metadata": {},
   "outputs": [
    {
     "name": "stdout",
     "output_type": "stream",
     "text": [
      "Model: \"sequential_1\"\n",
      "_________________________________________________________________\n",
      "Layer (type)                 Output Shape              Param #   \n",
      "=================================================================\n",
      "dense_1 (Dense)              (None, 100)               600       \n",
      "_________________________________________________________________\n",
      "dense_2 (Dense)              (None, 100)               10100     \n",
      "_________________________________________________________________\n",
      "dense_3 (Dense)              (None, 100)               10100     \n",
      "_________________________________________________________________\n",
      "dense_4 (Dense)              (None, 2)                 202       \n",
      "=================================================================\n",
      "Total params: 21,002\n",
      "Trainable params: 21,002\n",
      "Non-trainable params: 0\n",
      "_________________________________________________________________\n"
     ]
    }
   ],
   "source": [
    "MyModel.summary()"
   ]
  },
  {
   "cell_type": "code",
   "execution_count": 21,
   "metadata": {},
   "outputs": [],
   "source": [
    "#training any checkpoint or early stopping? \n",
    "es = EarlyStopping(patience=2, restore_best_weights=True)"
   ]
  },
  {
   "cell_type": "code",
   "execution_count": 22,
   "metadata": {},
   "outputs": [
    {
     "name": "stdout",
     "output_type": "stream",
     "text": [
      "Train on 319999 samples, validate on 80000 samples\n",
      "Epoch 1/300\n",
      "319999/319999 [==============================] - 2s 7us/step - loss: 0.0101 - val_loss: 7.7247e-06\n",
      "Epoch 2/300\n",
      "319999/319999 [==============================] - 2s 7us/step - loss: 7.5023e-06 - val_loss: 7.3468e-06\n",
      "Epoch 3/300\n",
      "319999/319999 [==============================] - 2s 7us/step - loss: 7.2881e-06 - val_loss: 7.1495e-06\n",
      "Epoch 4/300\n",
      "319999/319999 [==============================] - 2s 7us/step - loss: 7.0999e-06 - val_loss: 6.9933e-06\n",
      "Epoch 5/300\n",
      "319999/319999 [==============================] - 2s 7us/step - loss: 6.9733e-06 - val_loss: 6.9035e-06\n",
      "Epoch 6/300\n",
      "319999/319999 [==============================] - 2s 7us/step - loss: 6.8952e-06 - val_loss: 6.8433e-06\n",
      "Epoch 7/300\n",
      "319999/319999 [==============================] - 2s 7us/step - loss: 6.8384e-06 - val_loss: 6.7948e-06\n",
      "Epoch 8/300\n",
      "319999/319999 [==============================] - 2s 7us/step - loss: 6.7923e-06 - val_loss: 6.7549e-06\n",
      "Epoch 9/300\n",
      "319999/319999 [==============================] - 2s 7us/step - loss: 6.7561e-06 - val_loss: 6.7252e-06\n",
      "Epoch 10/300\n",
      "319999/319999 [==============================] - 2s 7us/step - loss: 6.7298e-06 - val_loss: 6.7045e-06\n",
      "Epoch 11/300\n",
      "319999/319999 [==============================] - 2s 7us/step - loss: 6.7102e-06 - val_loss: 6.6878e-06\n",
      "Epoch 12/300\n",
      "319999/319999 [==============================] - 2s 7us/step - loss: 6.6932e-06 - val_loss: 6.6711e-06\n",
      "Epoch 13/300\n",
      "319999/319999 [==============================] - 2s 7us/step - loss: 6.6751e-06 - val_loss: 6.6532e-06\n",
      "Epoch 14/300\n",
      "319999/319999 [==============================] - 2s 7us/step - loss: 6.6600e-06 - val_loss: 6.6423e-06\n",
      "Epoch 15/300\n",
      "319999/319999 [==============================] - 2s 7us/step - loss: 6.6499e-06 - val_loss: 6.6332e-06\n",
      "Epoch 16/300\n",
      "319999/319999 [==============================] - 2s 7us/step - loss: 6.6414e-06 - val_loss: 6.6282e-06\n",
      "Epoch 17/300\n",
      "319999/319999 [==============================] - 2s 7us/step - loss: 6.6339e-06 - val_loss: 6.6218e-06\n",
      "Epoch 18/300\n",
      "319999/319999 [==============================] - 2s 7us/step - loss: 6.6272e-06 - val_loss: 6.6165e-06\n",
      "Epoch 19/300\n",
      "319999/319999 [==============================] - 2s 7us/step - loss: 6.6209e-06 - val_loss: 6.6121e-06\n",
      "Epoch 20/300\n",
      "319999/319999 [==============================] - 2s 7us/step - loss: 6.6152e-06 - val_loss: 6.6048e-06\n",
      "Epoch 21/300\n",
      "319999/319999 [==============================] - 2s 7us/step - loss: 6.6094e-06 - val_loss: 6.6014e-06\n",
      "Epoch 22/300\n",
      "319999/319999 [==============================] - 2s 7us/step - loss: 6.6043e-06 - val_loss: 6.5967e-06\n",
      "Epoch 23/300\n",
      "319999/319999 [==============================] - 2s 7us/step - loss: 6.5996e-06 - val_loss: 6.5918e-06\n",
      "Epoch 24/300\n",
      "319999/319999 [==============================] - 2s 7us/step - loss: 6.5953e-06 - val_loss: 6.5874e-06\n",
      "Epoch 25/300\n",
      "319999/319999 [==============================] - 2s 7us/step - loss: 6.5901e-06 - val_loss: 6.5836e-06\n",
      "Epoch 26/300\n",
      "319999/319999 [==============================] - 2s 7us/step - loss: 6.5855e-06 - val_loss: 6.5798e-06\n",
      "Epoch 27/300\n",
      "319999/319999 [==============================] - 2s 7us/step - loss: 6.5808e-06 - val_loss: 6.5740e-06\n",
      "Epoch 28/300\n",
      "319999/319999 [==============================] - 2s 7us/step - loss: 6.5764e-06 - val_loss: 6.5698e-06\n",
      "Epoch 29/300\n",
      "319999/319999 [==============================] - 2s 7us/step - loss: 6.5718e-06 - val_loss: 6.5657e-06\n",
      "Epoch 30/300\n",
      "319999/319999 [==============================] - 2s 7us/step - loss: 6.5668e-06 - val_loss: 6.5629e-06\n",
      "Epoch 31/300\n",
      "319999/319999 [==============================] - 2s 7us/step - loss: 6.5625e-06 - val_loss: 6.5568e-06\n",
      "Epoch 32/300\n",
      "319999/319999 [==============================] - 2s 7us/step - loss: 6.5570e-06 - val_loss: 6.5546e-06\n",
      "Epoch 33/300\n",
      "319999/319999 [==============================] - 2s 7us/step - loss: 6.5529e-06 - val_loss: 6.5473e-06\n",
      "Epoch 34/300\n",
      "319999/319999 [==============================] - 2s 7us/step - loss: 6.5476e-06 - val_loss: 6.5443e-06\n",
      "Epoch 35/300\n",
      "319999/319999 [==============================] - 2s 7us/step - loss: 6.5429e-06 - val_loss: 6.5379e-06\n",
      "Epoch 36/300\n",
      "319999/319999 [==============================] - 2s 7us/step - loss: 6.5382e-06 - val_loss: 6.5335e-06\n",
      "Epoch 37/300\n",
      "319999/319999 [==============================] - 2s 7us/step - loss: 6.5331e-06 - val_loss: 6.5279e-06\n",
      "Epoch 38/300\n",
      "319999/319999 [==============================] - 2s 7us/step - loss: 6.5278e-06 - val_loss: 6.5248e-06\n",
      "Epoch 39/300\n",
      "319999/319999 [==============================] - 2s 7us/step - loss: 6.5231e-06 - val_loss: 6.5202e-06\n",
      "Epoch 40/300\n",
      "319999/319999 [==============================] - 2s 7us/step - loss: 6.5178e-06 - val_loss: 6.5165e-06\n",
      "Epoch 41/300\n",
      "319999/319999 [==============================] - 2s 7us/step - loss: 6.5123e-06 - val_loss: 6.5093e-06\n",
      "Epoch 42/300\n",
      "319999/319999 [==============================] - 2s 7us/step - loss: 6.5081e-06 - val_loss: 6.5075e-06\n",
      "Epoch 43/300\n",
      "319999/319999 [==============================] - 2s 7us/step - loss: 6.5017e-06 - val_loss: 6.4995e-06\n",
      "Epoch 44/300\n",
      "319999/319999 [==============================] - 2s 7us/step - loss: 6.4963e-06 - val_loss: 6.4958e-06\n",
      "Epoch 45/300\n",
      "319999/319999 [==============================] - 2s 7us/step - loss: 6.4899e-06 - val_loss: 6.4885e-06\n",
      "Epoch 46/300\n",
      "319999/319999 [==============================] - 2s 7us/step - loss: 6.4824e-06 - val_loss: 6.4821e-06\n",
      "Epoch 47/300\n",
      "319999/319999 [==============================] - 2s 7us/step - loss: 6.4745e-06 - val_loss: 6.4737e-06\n",
      "Epoch 48/300\n",
      "319999/319999 [==============================] - 2s 7us/step - loss: 6.4655e-06 - val_loss: 6.4625e-06\n",
      "Epoch 49/300\n",
      "319999/319999 [==============================] - 2s 7us/step - loss: 6.4568e-06 - val_loss: 6.4569e-06\n",
      "Epoch 50/300\n",
      "319999/319999 [==============================] - 2s 7us/step - loss: 6.4464e-06 - val_loss: 6.4488e-06\n",
      "Epoch 51/300\n",
      "319999/319999 [==============================] - 2s 7us/step - loss: 6.4386e-06 - val_loss: 6.4392e-06\n",
      "Epoch 52/300\n",
      "319999/319999 [==============================] - 2s 7us/step - loss: 6.4298e-06 - val_loss: 6.4357e-06\n",
      "Epoch 53/300\n",
      "319999/319999 [==============================] - 2s 7us/step - loss: 6.4205e-06 - val_loss: 6.4255e-06\n",
      "Epoch 54/300\n",
      "319999/319999 [==============================] - 2s 7us/step - loss: 6.4125e-06 - val_loss: 6.4161e-06\n",
      "Epoch 55/300\n",
      "319999/319999 [==============================] - 2s 7us/step - loss: 6.4043e-06 - val_loss: 6.4093e-06\n",
      "Epoch 56/300\n",
      "319999/319999 [==============================] - 2s 7us/step - loss: 6.3976e-06 - val_loss: 6.4081e-06\n",
      "Epoch 57/300\n",
      "319999/319999 [==============================] - 2s 7us/step - loss: 6.3902e-06 - val_loss: 6.3991e-06\n",
      "Epoch 58/300\n",
      "319999/319999 [==============================] - 2s 7us/step - loss: 6.3827e-06 - val_loss: 6.3951e-06\n",
      "Epoch 59/300\n",
      "319999/319999 [==============================] - 2s 7us/step - loss: 6.3759e-06 - val_loss: 6.3850e-06\n",
      "Epoch 60/300\n",
      "319999/319999 [==============================] - 2s 7us/step - loss: 6.3696e-06 - val_loss: 6.3829e-06\n",
      "Epoch 61/300\n",
      "319999/319999 [==============================] - 2s 7us/step - loss: 6.3638e-06 - val_loss: 6.3749e-06\n",
      "Epoch 62/300\n",
      "319999/319999 [==============================] - 2s 7us/step - loss: 6.3583e-06 - val_loss: 6.3718e-06\n",
      "Epoch 63/300\n",
      "319999/319999 [==============================] - 2s 7us/step - loss: 6.3533e-06 - val_loss: 6.3699e-06\n",
      "Epoch 64/300\n",
      "319999/319999 [==============================] - 2s 7us/step - loss: 6.3494e-06 - val_loss: 6.3623e-06\n",
      "Epoch 65/300\n",
      "319999/319999 [==============================] - 2s 7us/step - loss: 6.3444e-06 - val_loss: 6.3588e-06\n",
      "Epoch 66/300\n",
      "319999/319999 [==============================] - 2s 7us/step - loss: 6.3394e-06 - val_loss: 6.3542e-06\n",
      "Epoch 67/300\n",
      "319999/319999 [==============================] - 2s 7us/step - loss: 6.3347e-06 - val_loss: 6.3600e-06\n",
      "Epoch 68/300\n",
      "319999/319999 [==============================] - 2s 7us/step - loss: 6.3304e-06 - val_loss: 6.3464e-06\n",
      "Epoch 69/300\n",
      "319999/319999 [==============================] - 2s 7us/step - loss: 6.3264e-06 - val_loss: 6.3445e-06\n",
      "Epoch 70/300\n",
      "319999/319999 [==============================] - 2s 7us/step - loss: 6.3225e-06 - val_loss: 6.3399e-06\n",
      "Epoch 71/300\n",
      "319999/319999 [==============================] - 2s 7us/step - loss: 6.3187e-06 - val_loss: 6.3358e-06\n",
      "Epoch 72/300\n",
      "319999/319999 [==============================] - 2s 7us/step - loss: 6.3151e-06 - val_loss: 6.3439e-06\n",
      "Epoch 73/300\n",
      "319999/319999 [==============================] - 2s 7us/step - loss: 6.3115e-06 - val_loss: 6.3297e-06\n",
      "Epoch 74/300\n",
      "319999/319999 [==============================] - 2s 7us/step - loss: 6.3071e-06 - val_loss: 6.3254e-06\n",
      "Epoch 75/300\n",
      "319999/319999 [==============================] - 2s 7us/step - loss: 6.3036e-06 - val_loss: 6.3206e-06\n",
      "Epoch 76/300\n",
      "319999/319999 [==============================] - 2s 7us/step - loss: 6.3017e-06 - val_loss: 6.3200e-06\n",
      "Epoch 77/300\n",
      "319999/319999 [==============================] - 2s 7us/step - loss: 6.2981e-06 - val_loss: 6.3160e-06\n",
      "Epoch 78/300\n",
      "319999/319999 [==============================] - 2s 7us/step - loss: 6.2948e-06 - val_loss: 6.3205e-06\n",
      "Epoch 79/300\n",
      "319999/319999 [==============================] - 2s 7us/step - loss: 6.2912e-06 - val_loss: 6.3159e-06\n",
      "Epoch 80/300\n",
      "319999/319999 [==============================] - 2s 7us/step - loss: 6.2881e-06 - val_loss: 6.3067e-06\n",
      "Epoch 81/300\n",
      "319999/319999 [==============================] - 2s 7us/step - loss: 6.2864e-06 - val_loss: 6.3051e-06\n",
      "Epoch 82/300\n",
      "319999/319999 [==============================] - 2s 7us/step - loss: 6.2824e-06 - val_loss: 6.3027e-06\n",
      "Epoch 83/300\n",
      "319999/319999 [==============================] - 2s 7us/step - loss: 6.2787e-06 - val_loss: 6.3016e-06\n",
      "Epoch 84/300\n",
      "319999/319999 [==============================] - 2s 7us/step - loss: 6.2782e-06 - val_loss: 6.2981e-06\n",
      "Epoch 85/300\n",
      "319999/319999 [==============================] - 2s 7us/step - loss: 6.2755e-06 - val_loss: 6.3009e-06\n",
      "Epoch 86/300\n",
      "319999/319999 [==============================] - 2s 7us/step - loss: 6.2713e-06 - val_loss: 6.2945e-06\n",
      "Epoch 87/300\n",
      "319999/319999 [==============================] - 2s 7us/step - loss: 6.2715e-06 - val_loss: 6.2967e-06\n",
      "Epoch 88/300\n",
      "319999/319999 [==============================] - 2s 7us/step - loss: 6.2670e-06 - val_loss: 6.2939e-06\n",
      "Epoch 89/300\n",
      "319999/319999 [==============================] - 2s 7us/step - loss: 6.2651e-06 - val_loss: 6.2924e-06\n",
      "Epoch 90/300\n",
      "319999/319999 [==============================] - 2s 7us/step - loss: 6.2616e-06 - val_loss: 6.3018e-06\n",
      "Epoch 91/300\n",
      "319999/319999 [==============================] - 2s 7us/step - loss: 6.2605e-06 - val_loss: 6.2900e-06\n",
      "Epoch 92/300\n",
      "319999/319999 [==============================] - 2s 7us/step - loss: 6.2589e-06 - val_loss: 6.2895e-06\n",
      "Epoch 93/300\n",
      "319999/319999 [==============================] - 2s 7us/step - loss: 6.2561e-06 - val_loss: 6.2997e-06\n",
      "Epoch 94/300\n",
      "319999/319999 [==============================] - 2s 7us/step - loss: 6.2529e-06 - val_loss: 6.2880e-06\n",
      "Epoch 95/300\n",
      "319999/319999 [==============================] - 2s 7us/step - loss: 6.2505e-06 - val_loss: 6.2854e-06\n",
      "Epoch 96/300\n",
      "319999/319999 [==============================] - 2s 7us/step - loss: 6.2479e-06 - val_loss: 6.2860e-06\n",
      "Epoch 97/300\n",
      "319999/319999 [==============================] - 2s 7us/step - loss: 6.2469e-06 - val_loss: 6.2928e-06\n"
     ]
    }
   ],
   "source": [
    "history = MyModel.fit(X_train,np.vstack([y_train,\n",
    "                                  np.ones(y_train.shape[0])\n",
    "                                  ]).T,\n",
    "                      validation_split=0.2,\n",
    "                      epochs=300,\n",
    "                      batch_size=1000,\n",
    "                      callbacks = [es],\n",
    "                      sample_weight=weights\n",
    "                     )"
   ]
  },
  {
   "cell_type": "code",
   "execution_count": 27,
   "metadata": {},
   "outputs": [
    {
     "data": {
      "image/png": "[encoded data removed]",
      "text/plain": [
       "<Figure size 320x320 with 1 Axes>"
      ]
     },
     "metadata": {
      "needs_background": "light"
     },
     "output_type": "display_data"
    }
   ],
   "source": [
    "plt.plot(history.history['loss'])\n",
    "plt.plot(history.history['val_loss'])\n",
    "plt.yscale('log')\n",
    "plt.xlabel('Epochs')\n",
    "plt.ylabel('Likelihood Loss Function')\n",
    "plt.legend(['Train', 'Validation'])\n",
    "plt.show()"
   ]
  },
  {
   "cell_type": "code",
   "execution_count": 28,
   "metadata": {},
   "outputs": [],
   "source": [
    "# predict the scores for the test set, then histogram them based on the real labels\n",
    "test_preds = MyModel.predict(X_test)"
   ]
  },
  {
   "cell_type": "code",
   "execution_count": 29,
   "metadata": {},
   "outputs": [
    {
     "data": {
      "image/png": "[encoded data removed]",
      "text/plain": [
       "<Figure size 320x320 with 1 Axes>"
      ]
     },
     "metadata": {
      "needs_background": "light"
     },
     "output_type": "display_data"
    }
   ],
   "source": [
    "plt.hist(test_preds[:,0], bins=50, range=(-1,1), histtype='step')\n",
    "plt.hist(y_test, bins=50, range=(-1,1), histtype='step')\n",
    "plt.xlabel('Vr')\n",
    "plt.ylabel('Stars')\n",
    "plt.title('Test set - simulated data')\n",
    "plt.yscale('log')\n",
    "plt.show()"
   ]
  },
  {
   "cell_type": "code",
   "execution_count": 30,
   "metadata": {},
   "outputs": [
    {
     "name": "stdout",
     "output_type": "stream",
     "text": [
      "[-0.791377   -1.6089056  -0.7987523  ... -1.0060455  -0.58103025\n",
      " -0.78851354]\n"
     ]
    },
    {
     "data": {
      "text/plain": [
       "Text(0, 0.5, 'Error on Vr predicted')"
      ]
     },
     "execution_count": 30,
     "metadata": {},
     "output_type": "execute_result"
    },
    {
     "data": {
      "image/png": "[encoded data removed]",
      "text/plain": [
       "<Figure size 320x320 with 1 Axes>"
      ]
     },
     "metadata": {
      "needs_background": "light"
     },
     "output_type": "display_data"
    }
   ],
   "source": [
    "#test_preds[:,0] = (test_preds[:,0] - np.min(test_preds[:,0]))/(np.max(test_preds[:,0])- np.min(test_preds[:,0]))\n",
    "#test_preds[:,1] = (test_preds[:,1] - np.min(test_preds[:,1]))/(np.max(test_preds[:,1])- np.min(test_preds[:,1]))\n",
    "#y_test = (y_test - np.min(y_test))/(np.max(y_test)- np.min(y_test))\n",
    "#manually normalizing output \n",
    "print(test_preds[:,1])\n",
    "plt.scatter(X_test[:,2], test_preds[:,1], color = 'red')\n",
    "#plt.errorbar(X_test[1:50,2], test_preds[1:50,0], yerr = test_preds[1:50,1], color = 'red',ls='none')\n",
    "plt.xlabel('Distance')\n",
    "plt.ylabel('Error on Vr predicted')"
   ]
  },
  {
   "cell_type": "code",
   "execution_count": 31,
   "metadata": {},
   "outputs": [
    {
     "data": {
      "text/plain": [
       "Text(0.5, 0, 'Vr real')"
      ]
     },
     "execution_count": 31,
     "metadata": {},
     "output_type": "execute_result"
    },
    {
     "data": {
      "image/png": "[encoded data removed]",
      "text/plain": [
       "<Figure size 320x320 with 1 Axes>"
      ]
     },
     "metadata": {
      "needs_background": "light"
     },
     "output_type": "display_data"
    }
   ],
   "source": [
    "plt.errorbar(y_test, test_preds[:,0], yerr = test_preds[:,1], color = 'red',ls='none')\n",
    "plt.scatter(y_test, test_preds[:,0])\n",
    "x = np.linspace(np.min(y_test),np.max(y_test),100)\n",
    "y = x\n",
    "plt.plot(x,y,'k-')\n",
    "plt.ylabel('Vr predicted')\n",
    "plt.xlabel('Vr real')"
   ]
  },
  {
   "cell_type": "code",
   "execution_count": null,
   "metadata": {},
   "outputs": [],
   "source": []
  }
 ],
 "metadata": {
  "kernelspec": {
   "display_name": "venv_ML",
   "language": "python",
   "name": "venv_ml"
  },
  "language_info": {
   "codemirror_mode": {
    "name": "ipython",
    "version": 3
   },
   "file_extension": ".py",
   "mimetype": "text/x-python",
   "name": "python",
   "nbconvert_exporter": "python",
   "pygments_lexer": "ipython3",
   "version": "3.6.10"
  }
 },
 "nbformat": 4,
 "nbformat_minor": 4
}
