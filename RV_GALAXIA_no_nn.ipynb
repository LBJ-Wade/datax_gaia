{
 "cells": [
  {
   "cell_type": "markdown",
   "metadata": {},
   "source": [
    "# ML to find radial velocities using GALAXIA sim withOUT Nearest Neighbors"
   ]
  },
  {
   "cell_type": "code",
   "execution_count": 1,
   "metadata": {},
   "outputs": [],
   "source": [
    "%matplotlib inline\n",
    "\n",
    "\n",
    "import matplotlib\n",
    "import matplotlib.colors as colors\n",
    "\n",
    "import pandas as pd\n",
    "import numpy as np\n",
    "import matplotlib.pyplot as plt\n",
    "import os.path\n",
    "import sys\n",
    "import gzip\n",
    "import matplotlib.gridspec as gridspec\n",
    "from scipy.stats import norm\n",
    "\n",
    "matplotlib.rcParams.update({'font.family':'cmr10','font.size': 13})\n",
    "matplotlib.rcParams['axes.unicode_minus']=False\n",
    "matplotlib.rcParams['axes.labelsize']=15\n",
    "plt.rcParams['figure.figsize']=(4,4)\n",
    "plt.rcParams['figure.dpi'] = 80\n",
    "plt.rcParams['mathtext.fontset'] = 'cm'\n",
    "plt.rcParams['mathtext.rm'] = 'serif'\n",
    "plt.rcParams['xtick.direction'] = 'in'\n",
    "plt.rcParams['ytick.direction'] = 'in'\n",
    "plt.rcParams['xtick.top'] = True\n",
    "plt.rcParams['ytick.right'] = True"
   ]
  },
  {
   "cell_type": "code",
   "execution_count": 166,
   "metadata": {},
   "outputs": [
    {
     "name": "stderr",
     "output_type": "stream",
     "text": [
      "usage: ipykernel_launcher.py [-h] [--savedir SAVEDIR]\n",
      "                             [--datafilepath_train DATAFILEPATH_TRAIN]\n",
      "                             [--datafilepath_val DATAFILEPATH_VAL]\n",
      "                             [--datafilepath_test DATAFILEPATH_TEST]\n",
      "                             [--nnodes NNODES [NNODES ...]]\n",
      "                             [--dropouts DROPOUTS [DROPOUTS ...]]\n",
      "                             [--epochs EPOCHS] [--batch_size BATCH_SIZE]\n",
      "                             [--ncores NCORES] [--extratext EXTRATEXT]\n",
      "                             [--weight WEIGHT] [--weight_type WEIGHT_TYPE]\n",
      "                             [--run_scan RUN_SCAN] [--activation ACTIVATION]\n",
      "ipykernel_launcher.py: error: unrecognized arguments: -f /home/dropulic/.local/share/jupyter/runtime/kernel-b0d6fdc2-bd4e-40da-aeb0-1698405e8c82.json\n"
     ]
    },
    {
     "ename": "SystemExit",
     "evalue": "2",
     "output_type": "error",
     "traceback": [
      "An exception has occurred, use %tb to see the full traceback.\n",
      "\u001b[0;31mSystemExit\u001b[0m\u001b[0;31m:\u001b[0m 2\n"
     ]
    }
   ],
   "source": [
    "import argparse, ast\n",
    "parser = argparse.ArgumentParser()\n",
    "parser.add_argument(\"--datafilepath_train\", action=\"store\", dest=\"datafilepath_train\", default='/tigress/ljchang/DataXGaia/data/galaxia_mock/training_set_500k.npz', type=str)\n",
    "parser.add_argument(\"--datafilepath_val\", action=\"store\", dest=\"datafilepath_val\", default='/tigress/ljchang/DataXGaia/data/galaxia_mock/validation_set_500k.npz', type=str)\n",
    "parser.add_argument(\"--datafilepath_test\", action=\"store\", dest=\"datafilepath_test\", default='/tigress/ljchang/DataXGaia/data/galaxia_mock/test_set_500k.npz', type=str)\n",
    "parser.add_argument(\"--use_cols\", nargs=\"+\", default = ['l','b','pmra','pmdec','parallax'])\n",
    "parser.add_argument(\"--nnodes\", nargs=\"+\", default = 30, type=int)\n",
    "parser.add_argument(\"--ncores\", action=\"store\", dest=\"ncores\", default=16, type=int)\n",
    "parser.add_argument(\"--spec\", action=\"store\", dest=\"spec\", default=\"new\", type=str)\n",
    "parser.add_argument(\"--weight_type\", action=\"store\", dest=\"weight_type\", default=\"log2d\", type=str)\n",
    "parser.add_argument(\"--run_scan\", action=\"store\", dest=\"run_scan\", default=True, type=ast.literal_eval)\n",
    "parser.add_argument(\"--activation\", action=\"store\", dest=\"activation\", default=\"tanh\", type=str)\n",
    "\n",
    "results = parser.parse_args()\n",
    "datafilepath_train = results.datafilepath_train\n",
    "datafilepath_val = results.datafilepath_val\n",
    "datafilepath_test = results.datafilepath_test\n",
    "use_cols = results.use_cols\n",
    "nnodes = results.nnodes\n",
    "ncores = results.ncores\n",
    "spec = results.spec\n",
    "weight_type = results.weight_type\n",
    "run_scan = results.run_scan\n",
    "activation = results.activation\n"
   ]
  },
  {
   "cell_type": "code",
   "execution_count": 2,
   "metadata": {},
   "outputs": [
    {
     "name": "stdout",
     "output_type": "stream",
     "text": [
      "['data', 'inds']\n",
      "(500000, 27)\n",
      "(500000, 27)\n"
     ]
    }
   ],
   "source": [
    "data_train = np.load(datafilepath_train)\n",
    "data_val = np.load(datafilepath_val)\n",
    "data_test = np.load(datafilepath_test)\n",
    "data_train = data_train['data']\n",
    "data_val = data_val['data']\n",
    "data_test = data_test['data']"
   ]
  },
  {
   "cell_type": "code",
   "execution_count": 3,
   "metadata": {},
   "outputs": [],
   "source": [
    "data_cols = ['source_id', 'l', 'b', 'ra', 'dec', 'parallax', 'parallax_error', \n",
    "             'pmra', 'pmra_error', 'pmdec', 'pmdec_error', 'radial_velocity',\n",
    "             'photo_g_mean_mag', 'photo_bp_mean_mag', 'photo_rp_mean_mag',\n",
    "             'x','y','z','vx','vy','vz','r','phi','theta','vr','vphi','vtheta']\n"
   ]
  },
  {
   "cell_type": "code",
   "execution_count": 5,
   "metadata": {},
   "outputs": [],
   "source": [
    "data_train = pd.DataFrame(data_train, columns=data_cols)\n",
    "data_val = pd.DataFrame(data_val, columns=data_cols)\n",
    "data_test = pd.DataFrame(data_test, columns=data_cols)"
   ]
  },
  {
   "cell_type": "code",
   "execution_count": 6,
   "metadata": {},
   "outputs": [
    {
     "data": {
      "text/html": [
       "<div>\n",
       "<style scoped>\n",
       "    .dataframe tbody tr th:only-of-type {\n",
       "        vertical-align: middle;\n",
       "    }\n",
       "\n",
       "    .dataframe tbody tr th {\n",
       "        vertical-align: top;\n",
       "    }\n",
       "\n",
       "    .dataframe thead th {\n",
       "        text-align: right;\n",
       "    }\n",
       "</style>\n",
       "<table border=\"1\" class=\"dataframe\">\n",
       "  <thead>\n",
       "    <tr style=\"text-align: right;\">\n",
       "      <th></th>\n",
       "      <th>source_id</th>\n",
       "      <th>l</th>\n",
       "      <th>b</th>\n",
       "      <th>ra</th>\n",
       "      <th>dec</th>\n",
       "      <th>parallax</th>\n",
       "      <th>parallax_error</th>\n",
       "      <th>pmra</th>\n",
       "      <th>pmra_error</th>\n",
       "      <th>pmdec</th>\n",
       "      <th>...</th>\n",
       "      <th>z</th>\n",
       "      <th>vx</th>\n",
       "      <th>vy</th>\n",
       "      <th>vz</th>\n",
       "      <th>r</th>\n",
       "      <th>phi</th>\n",
       "      <th>theta</th>\n",
       "      <th>vr</th>\n",
       "      <th>vphi</th>\n",
       "      <th>vtheta</th>\n",
       "    </tr>\n",
       "  </thead>\n",
       "  <tbody>\n",
       "    <tr>\n",
       "      <th>0</th>\n",
       "      <td>1.982681e+18</td>\n",
       "      <td>100.959518</td>\n",
       "      <td>-11.315711</td>\n",
       "      <td>340.952669</td>\n",
       "      <td>46.040300</td>\n",
       "      <td>0.466141</td>\n",
       "      <td>0.024004</td>\n",
       "      <td>-4.809130</td>\n",
       "      <td>0.016194</td>\n",
       "      <td>-3.41899</td>\n",
       "      <td>...</td>\n",
       "      <td>-0.405935</td>\n",
       "      <td>75.965438</td>\n",
       "      <td>217.563643</td>\n",
       "      <td>6.758828</td>\n",
       "      <td>8.659595</td>\n",
       "      <td>166.187223</td>\n",
       "      <td>92.686833</td>\n",
       "      <td>-22.118115</td>\n",
       "      <td>-229.408683</td>\n",
       "      <td>-5.728296</td>\n",
       "    </tr>\n",
       "    <tr>\n",
       "      <th>1</th>\n",
       "      <td>4.307716e+18</td>\n",
       "      <td>42.565441</td>\n",
       "      <td>-2.330392</td>\n",
       "      <td>289.370744</td>\n",
       "      <td>7.485264</td>\n",
       "      <td>0.835366</td>\n",
       "      <td>0.049898</td>\n",
       "      <td>0.258942</td>\n",
       "      <td>0.031809</td>\n",
       "      <td>-0.65434</td>\n",
       "      <td>...</td>\n",
       "      <td>-0.033675</td>\n",
       "      <td>-5.753567</td>\n",
       "      <td>220.068300</td>\n",
       "      <td>5.246595</td>\n",
       "      <td>7.164981</td>\n",
       "      <td>173.516221</td>\n",
       "      <td>90.269291</td>\n",
       "      <td>30.542306</td>\n",
       "      <td>-218.011009</td>\n",
       "      <td>-5.390203</td>\n",
       "    </tr>\n",
       "    <tr>\n",
       "      <th>2</th>\n",
       "      <td>1.889534e+17</td>\n",
       "      <td>166.725739</td>\n",
       "      <td>0.342907</td>\n",
       "      <td>77.784502</td>\n",
       "      <td>40.176322</td>\n",
       "      <td>3.506600</td>\n",
       "      <td>0.026044</td>\n",
       "      <td>1.908100</td>\n",
       "      <td>0.017570</td>\n",
       "      <td>1.75107</td>\n",
       "      <td>...</td>\n",
       "      <td>0.016707</td>\n",
       "      <td>19.964203</td>\n",
       "      <td>237.381154</td>\n",
       "      <td>10.676289</td>\n",
       "      <td>8.277828</td>\n",
       "      <td>179.546778</td>\n",
       "      <td>89.884363</td>\n",
       "      <td>-18.064278</td>\n",
       "      <td>-237.531647</td>\n",
       "      <td>-10.712769</td>\n",
       "    </tr>\n",
       "    <tr>\n",
       "      <th>3</th>\n",
       "      <td>3.343611e+18</td>\n",
       "      <td>195.421753</td>\n",
       "      <td>-4.403162</td>\n",
       "      <td>90.686166</td>\n",
       "      <td>13.413506</td>\n",
       "      <td>2.491830</td>\n",
       "      <td>0.131145</td>\n",
       "      <td>20.358000</td>\n",
       "      <td>0.064988</td>\n",
       "      <td>-10.81480</td>\n",
       "      <td>...</td>\n",
       "      <td>-0.015810</td>\n",
       "      <td>-6.305647</td>\n",
       "      <td>196.029308</td>\n",
       "      <td>28.889011</td>\n",
       "      <td>8.386410</td>\n",
       "      <td>-179.273035</td>\n",
       "      <td>90.108016</td>\n",
       "      <td>3.763531</td>\n",
       "      <td>-196.093532</td>\n",
       "      <td>-28.896158</td>\n",
       "    </tr>\n",
       "    <tr>\n",
       "      <th>4</th>\n",
       "      <td>1.744716e+18</td>\n",
       "      <td>60.568085</td>\n",
       "      <td>-24.715437</td>\n",
       "      <td>317.895405</td>\n",
       "      <td>10.623631</td>\n",
       "      <td>1.386750</td>\n",
       "      <td>0.027244</td>\n",
       "      <td>15.680400</td>\n",
       "      <td>0.015235</td>\n",
       "      <td>4.35933</td>\n",
       "      <td>...</td>\n",
       "      <td>-0.286505</td>\n",
       "      <td>-54.022901</td>\n",
       "      <td>213.111588</td>\n",
       "      <td>-5.152046</td>\n",
       "      <td>7.704610</td>\n",
       "      <td>175.750516</td>\n",
       "      <td>92.131101</td>\n",
       "      <td>69.809249</td>\n",
       "      <td>-208.522643</td>\n",
       "      <td>2.557878</td>\n",
       "    </tr>\n",
       "  </tbody>\n",
       "</table>\n",
       "<p>5 rows × 27 columns</p>\n",
       "</div>"
      ],
      "text/plain": [
       "      source_id           l          b          ra        dec  parallax  \\\n",
       "0  1.982681e+18  100.959518 -11.315711  340.952669  46.040300  0.466141   \n",
       "1  4.307716e+18   42.565441  -2.330392  289.370744   7.485264  0.835366   \n",
       "2  1.889534e+17  166.725739   0.342907   77.784502  40.176322  3.506600   \n",
       "3  3.343611e+18  195.421753  -4.403162   90.686166  13.413506  2.491830   \n",
       "4  1.744716e+18   60.568085 -24.715437  317.895405  10.623631  1.386750   \n",
       "\n",
       "   parallax_error       pmra  pmra_error     pmdec  ...         z         vx  \\\n",
       "0        0.024004  -4.809130    0.016194  -3.41899  ... -0.405935  75.965438   \n",
       "1        0.049898   0.258942    0.031809  -0.65434  ... -0.033675  -5.753567   \n",
       "2        0.026044   1.908100    0.017570   1.75107  ...  0.016707  19.964203   \n",
       "3        0.131145  20.358000    0.064988 -10.81480  ... -0.015810  -6.305647   \n",
       "4        0.027244  15.680400    0.015235   4.35933  ... -0.286505 -54.022901   \n",
       "\n",
       "           vy         vz         r         phi      theta         vr  \\\n",
       "0  217.563643   6.758828  8.659595  166.187223  92.686833 -22.118115   \n",
       "1  220.068300   5.246595  7.164981  173.516221  90.269291  30.542306   \n",
       "2  237.381154  10.676289  8.277828  179.546778  89.884363 -18.064278   \n",
       "3  196.029308  28.889011  8.386410 -179.273035  90.108016   3.763531   \n",
       "4  213.111588  -5.152046  7.704610  175.750516  92.131101  69.809249   \n",
       "\n",
       "         vphi     vtheta  \n",
       "0 -229.408683  -5.728296  \n",
       "1 -218.011009  -5.390203  \n",
       "2 -237.531647 -10.712769  \n",
       "3 -196.093532 -28.896158  \n",
       "4 -208.522643   2.557878  \n",
       "\n",
       "[5 rows x 27 columns]"
      ]
     },
     "execution_count": 6,
     "metadata": {},
     "output_type": "execute_result"
    }
   ],
   "source": [
    "data_train.head()"
   ]
  },
  {
   "cell_type": "code",
   "execution_count": 7,
   "metadata": {},
   "outputs": [],
   "source": [
    "from sklearn.preprocessing import StandardScaler\n",
    "from sklearn.model_selection import train_test_split\n",
    "from scipy.interpolate import interp1d"
   ]
  },
  {
   "cell_type": "code",
   "execution_count": 8,
   "metadata": {},
   "outputs": [],
   "source": [
    "l_train = (data_train['l']).values\n",
    "l_val = (data_val['l']).values\n",
    "\n",
    "vr_train = (data_train['radial_velocity']).values\n",
    "vr_val = (data_val['radial_velocity']).values\n"
   ]
  },
  {
   "cell_type": "code",
   "execution_count": 9,
   "metadata": {},
   "outputs": [
    {
     "name": "stderr",
     "output_type": "stream",
     "text": [
      "100%|██████████| 500000/500000 [00:14<00:00, 35274.46it/s]\n",
      "100%|██████████| 500000/500000 [00:14<00:00, 35334.56it/s]"
     ]
    },
    {
     "name": "stdout",
     "output_type": "stream",
     "text": [
      "Using log weights in vr and l\n"
     ]
    },
    {
     "name": "stderr",
     "output_type": "stream",
     "text": [
      "\n"
     ]
    }
   ],
   "source": [
    "#Laura's weights \n",
    "from scipy.interpolate import interp2d\n",
    "from tqdm import tqdm\n",
    "lbins2d = np.linspace(0,360,51)\n",
    "vbins2d = np.linspace(-550,550,51)\n",
    "\n",
    "lbins2d_centers = (lbins2d[1:]+lbins2d[:-1])/2\n",
    "vbins2d_centers = (vbins2d[1:]+vbins2d[:-1])/2\n",
    "\n",
    "counts2d_train = np.histogram2d(l_train,vr_train,bins=[lbins2d,vbins2d])[0]\n",
    "counts2d_val = np.histogram2d(l_val,vr_val,bins=[lbins2d,vbins2d])[0]\n",
    "\n",
    "if weight_type == \"lin2d\":\n",
    "    invweight_func_train = interp2d(lbins2d_centers,vbins2d_centers,counts2d_train.T)\n",
    "    invweight_func_val = interp2d(lbins2d_centers,vbins2d_centers,counts2d_val.T)\n",
    "\n",
    "    invweights2d_train = np.zeros(len(l_train))\n",
    "    invweights2d_val = np.zeros(len(l_val))\n",
    "\n",
    "    for i in tqdm(range(len(l_train))):\n",
    "        invweights2d_train[i] = invweight_func_train(l_train[i],vr_train[i])\n",
    "    for j in tqdm(range(len(l_val))):\n",
    "        invweights2d_val[j] = invweight_func_val(l_val[j],vr_val[j])\n",
    "\n",
    "    weights_train = 1/invweights2d_train\n",
    "\n",
    "    weights_val = 1/invweights2d_val\n",
    "\n",
    "    print(\"Using linear weights in vr and l\")\n",
    "\n",
    "elif weight_type == \"log2d\":\n",
    "    invweight_func_train = interp2d(lbins2d_centers,vbins2d_centers,counts2d_train.T)\n",
    "    invweight_func_val = interp2d(lbins2d_centers,vbins2d_centers,counts2d_val.T)\n",
    "\n",
    "    invweights2d_train = np.zeros(len(l_train))\n",
    "    invweights2d_val = np.zeros(len(l_val))\n",
    "\n",
    "    for i in tqdm(range(len(l_train))):\n",
    "        invweights2d_train[i] = invweight_func_train(l_train[i],vr_train[i])\n",
    "    for j in tqdm(range(len(l_val))):\n",
    "        invweights2d_val[j] = invweight_func_val(l_val[j],vr_val[j])\n",
    "\n",
    "    weights_train = 1/invweights2d_train\n",
    "    weights_train = np.log(weights_train)\n",
    "    weights_train = weights_train - np.min(weights_train) + 1\n",
    "\n",
    "    weights_val = 1/invweights2d_val\n",
    "    weights_val = np.log(weights_val)\n",
    "    weights_val = weights_val - np.min(weights_val) + 1\n",
    "\n",
    "    print(\"Using log weights in vr and l\")"
   ]
  },
  {
   "cell_type": "code",
   "execution_count": null,
   "metadata": {},
   "outputs": [],
   "source": [
    "elif weight_type = \"log1d\"\n",
    "    counts_train, bins_train = np.histogram(vr_train,bins=np.linspace(-700,700,51))\n",
    "    bin_centers_train = (bins_train[1:]+bins_train[:-1])/2\n",
    "    interp_func_train  = interp1d(bin_centers_train,(counts_train).astype('float'))\n",
    "    inv_weights_train = interp_func_train(vr_train)\n",
    "    weights_train = 1/inv_weights_train\n",
    "    weights_train = np.log(weights_train)\n",
    "    weights_train = weights_train - np.min(weights_train)+1\n",
    "\n",
    "    counts_val, bins_val = np.histogram(vr_val,bins=np.linspace(-700,700,100))\n",
    "    bin_centers_val = (bins_val[1:]+bins_val[:-1])/2\n",
    "    interp_func_val  = interp1d(bin_centers_val,(counts_val).astype('float'))\n",
    "    inv_weights_val = interp_func_val(vr_val)\n",
    "    weights_val = 1/inv_weights_val\n",
    "    weights_val = np.log(weights_val)\n",
    "    weights_val = weights_val - np.min(weights_val)+1\n",
    "    print(\"Using log weights in vr\")"
   ]
  },
  {
   "cell_type": "code",
   "execution_count": 10,
   "metadata": {},
   "outputs": [],
   "source": [
    "data_train['cos(l)'] = data_train['l'].apply(lambda x: np.cos(x))\n",
    "data_train['sin(l)'] = data_train['l'].apply(lambda x: np.sin(x))\n",
    "data_train['cos(b)'] = data_train['b'].apply(lambda x: np.cos(x))\n",
    "data_train['sin(b)'] = data_train['b'].apply(lambda x: np.sin(x))\n",
    "\n",
    "\n",
    "data_val['cos(l)'] = data_val['l'].apply(lambda x: np.cos(x))\n",
    "data_val['sin(l)'] = data_val['l'].apply(lambda x: np.sin(x))\n",
    "data_val['cos(b)'] = data_val['b'].apply(lambda x: np.cos(x))\n",
    "data_val['sin(b)'] = data_val['b'].apply(lambda x: np.sin(x))\n",
    "\n",
    "\n",
    "data_test['cos(l)'] = data_test['l'].apply(lambda x: np.cos(x))\n",
    "data_test['sin(l)'] = data_test['l'].apply(lambda x: np.sin(x))\n",
    "data_test['cos(b)'] = data_test['b'].apply(lambda x: np.cos(x))\n",
    "data_test['sin(b)'] = data_test['b'].apply(lambda x: np.sin(x))\n",
    "\n"
   ]
  },
  {
   "cell_type": "code",
   "execution_count": 11,
   "metadata": {},
   "outputs": [
    {
     "data": {
      "text/html": [
       "<div>\n",
       "<style scoped>\n",
       "    .dataframe tbody tr th:only-of-type {\n",
       "        vertical-align: middle;\n",
       "    }\n",
       "\n",
       "    .dataframe tbody tr th {\n",
       "        vertical-align: top;\n",
       "    }\n",
       "\n",
       "    .dataframe thead th {\n",
       "        text-align: right;\n",
       "    }\n",
       "</style>\n",
       "<table border=\"1\" class=\"dataframe\">\n",
       "  <thead>\n",
       "    <tr style=\"text-align: right;\">\n",
       "      <th></th>\n",
       "      <th>source_id</th>\n",
       "      <th>l</th>\n",
       "      <th>b</th>\n",
       "      <th>ra</th>\n",
       "      <th>dec</th>\n",
       "      <th>parallax</th>\n",
       "      <th>parallax_error</th>\n",
       "      <th>pmra</th>\n",
       "      <th>pmra_error</th>\n",
       "      <th>pmdec</th>\n",
       "      <th>...</th>\n",
       "      <th>r</th>\n",
       "      <th>phi</th>\n",
       "      <th>theta</th>\n",
       "      <th>vr</th>\n",
       "      <th>vphi</th>\n",
       "      <th>vtheta</th>\n",
       "      <th>cos(l)</th>\n",
       "      <th>sin(l)</th>\n",
       "      <th>cos(b)</th>\n",
       "      <th>sin(b)</th>\n",
       "    </tr>\n",
       "  </thead>\n",
       "  <tbody>\n",
       "    <tr>\n",
       "      <th>0</th>\n",
       "      <td>1.982681e+18</td>\n",
       "      <td>100.959518</td>\n",
       "      <td>-11.315711</td>\n",
       "      <td>340.952669</td>\n",
       "      <td>46.040300</td>\n",
       "      <td>0.466141</td>\n",
       "      <td>0.024004</td>\n",
       "      <td>-4.809130</td>\n",
       "      <td>0.016194</td>\n",
       "      <td>-3.41899</td>\n",
       "      <td>...</td>\n",
       "      <td>8.659595</td>\n",
       "      <td>166.187223</td>\n",
       "      <td>92.686833</td>\n",
       "      <td>-22.118115</td>\n",
       "      <td>-229.408683</td>\n",
       "      <td>-5.728296</td>\n",
       "      <td>0.909568</td>\n",
       "      <td>0.415556</td>\n",
       "      <td>0.314696</td>\n",
       "      <td>0.949192</td>\n",
       "    </tr>\n",
       "    <tr>\n",
       "      <th>1</th>\n",
       "      <td>4.307716e+18</td>\n",
       "      <td>42.565441</td>\n",
       "      <td>-2.330392</td>\n",
       "      <td>289.370744</td>\n",
       "      <td>7.485264</td>\n",
       "      <td>0.835366</td>\n",
       "      <td>0.049898</td>\n",
       "      <td>0.258942</td>\n",
       "      <td>0.031809</td>\n",
       "      <td>-0.65434</td>\n",
       "      <td>...</td>\n",
       "      <td>7.164981</td>\n",
       "      <td>173.516221</td>\n",
       "      <td>90.269291</td>\n",
       "      <td>30.542306</td>\n",
       "      <td>-218.011009</td>\n",
       "      <td>-5.390203</td>\n",
       "      <td>0.153333</td>\n",
       "      <td>-0.988175</td>\n",
       "      <td>-0.688628</td>\n",
       "      <td>-0.725114</td>\n",
       "    </tr>\n",
       "    <tr>\n",
       "      <th>2</th>\n",
       "      <td>1.889534e+17</td>\n",
       "      <td>166.725739</td>\n",
       "      <td>0.342907</td>\n",
       "      <td>77.784502</td>\n",
       "      <td>40.176322</td>\n",
       "      <td>3.506600</td>\n",
       "      <td>0.026044</td>\n",
       "      <td>1.908100</td>\n",
       "      <td>0.017570</td>\n",
       "      <td>1.75107</td>\n",
       "      <td>...</td>\n",
       "      <td>8.277828</td>\n",
       "      <td>179.546778</td>\n",
       "      <td>89.884363</td>\n",
       "      <td>-18.064278</td>\n",
       "      <td>-237.531647</td>\n",
       "      <td>-10.712769</td>\n",
       "      <td>-0.975607</td>\n",
       "      <td>-0.219525</td>\n",
       "      <td>0.941781</td>\n",
       "      <td>0.336227</td>\n",
       "    </tr>\n",
       "    <tr>\n",
       "      <th>3</th>\n",
       "      <td>3.343611e+18</td>\n",
       "      <td>195.421753</td>\n",
       "      <td>-4.403162</td>\n",
       "      <td>90.686166</td>\n",
       "      <td>13.413506</td>\n",
       "      <td>2.491830</td>\n",
       "      <td>0.131145</td>\n",
       "      <td>20.358000</td>\n",
       "      <td>0.064988</td>\n",
       "      <td>-10.81480</td>\n",
       "      <td>...</td>\n",
       "      <td>8.386410</td>\n",
       "      <td>-179.273035</td>\n",
       "      <td>90.108016</td>\n",
       "      <td>3.763531</td>\n",
       "      <td>-196.093532</td>\n",
       "      <td>-28.896158</td>\n",
       "      <td>0.800296</td>\n",
       "      <td>0.599606</td>\n",
       "      <td>-0.304323</td>\n",
       "      <td>0.952569</td>\n",
       "    </tr>\n",
       "    <tr>\n",
       "      <th>4</th>\n",
       "      <td>1.744716e+18</td>\n",
       "      <td>60.568085</td>\n",
       "      <td>-24.715437</td>\n",
       "      <td>317.895405</td>\n",
       "      <td>10.623631</td>\n",
       "      <td>1.386750</td>\n",
       "      <td>0.027244</td>\n",
       "      <td>15.680400</td>\n",
       "      <td>0.015235</td>\n",
       "      <td>4.35933</td>\n",
       "      <td>...</td>\n",
       "      <td>7.704610</td>\n",
       "      <td>175.750516</td>\n",
       "      <td>92.131101</td>\n",
       "      <td>69.809249</td>\n",
       "      <td>-208.522643</td>\n",
       "      <td>2.557878</td>\n",
       "      <td>-0.638827</td>\n",
       "      <td>-0.769351</td>\n",
       "      <td>0.914185</td>\n",
       "      <td>0.405298</td>\n",
       "    </tr>\n",
       "  </tbody>\n",
       "</table>\n",
       "<p>5 rows × 31 columns</p>\n",
       "</div>"
      ],
      "text/plain": [
       "      source_id           l          b          ra        dec  parallax  \\\n",
       "0  1.982681e+18  100.959518 -11.315711  340.952669  46.040300  0.466141   \n",
       "1  4.307716e+18   42.565441  -2.330392  289.370744   7.485264  0.835366   \n",
       "2  1.889534e+17  166.725739   0.342907   77.784502  40.176322  3.506600   \n",
       "3  3.343611e+18  195.421753  -4.403162   90.686166  13.413506  2.491830   \n",
       "4  1.744716e+18   60.568085 -24.715437  317.895405  10.623631  1.386750   \n",
       "\n",
       "   parallax_error       pmra  pmra_error     pmdec  ...         r         phi  \\\n",
       "0        0.024004  -4.809130    0.016194  -3.41899  ...  8.659595  166.187223   \n",
       "1        0.049898   0.258942    0.031809  -0.65434  ...  7.164981  173.516221   \n",
       "2        0.026044   1.908100    0.017570   1.75107  ...  8.277828  179.546778   \n",
       "3        0.131145  20.358000    0.064988 -10.81480  ...  8.386410 -179.273035   \n",
       "4        0.027244  15.680400    0.015235   4.35933  ...  7.704610  175.750516   \n",
       "\n",
       "       theta         vr        vphi     vtheta    cos(l)    sin(l)    cos(b)  \\\n",
       "0  92.686833 -22.118115 -229.408683  -5.728296  0.909568  0.415556  0.314696   \n",
       "1  90.269291  30.542306 -218.011009  -5.390203  0.153333 -0.988175 -0.688628   \n",
       "2  89.884363 -18.064278 -237.531647 -10.712769 -0.975607 -0.219525  0.941781   \n",
       "3  90.108016   3.763531 -196.093532 -28.896158  0.800296  0.599606 -0.304323   \n",
       "4  92.131101  69.809249 -208.522643   2.557878 -0.638827 -0.769351  0.914185   \n",
       "\n",
       "     sin(b)  \n",
       "0  0.949192  \n",
       "1 -0.725114  \n",
       "2  0.336227  \n",
       "3  0.952569  \n",
       "4  0.405298  \n",
       "\n",
       "[5 rows x 31 columns]"
      ]
     },
     "execution_count": 11,
     "metadata": {},
     "output_type": "execute_result"
    }
   ],
   "source": [
    "data_train.head()"
   ]
  },
  {
   "cell_type": "code",
   "execution_count": 12,
   "metadata": {},
   "outputs": [],
   "source": [
    "data_cols = ['source_id', 'l', 'b', 'ra', 'dec', 'parallax', 'parallax_error', \n",
    "             'pmra', 'pmra_error', 'pmdec', 'pmdec_error', 'radial_velocity',\n",
    "             'photo_g_mean_mag', 'photo_bp_mean_mag', 'photo_rp_mean_mag',\n",
    "             'x','y','z','vx','vy','vz','r','phi','theta','vr','vphi','vtheta','cos(l)','sin(l)','cos(b)','sin(b)']"
   ]
  },
  {
   "cell_type": "code",
   "execution_count": 13,
   "metadata": {},
   "outputs": [],
   "source": [
    "SS = StandardScaler()\n",
    "mu = np.mean((data_train['radial_velocity']).values)\n",
    "stddev = np.std((data_train['radial_velocity']).values)\n",
    "data_train_scaled = SS.fit_transform(data_train)\n",
    "data_val_scaled = SS.transform(data_val)\n",
    "data_test_scaled = SS.transform(data_test)"
   ]
  },
  {
   "cell_type": "code",
   "execution_count": 14,
   "metadata": {},
   "outputs": [],
   "source": [
    "data_train_scaled = pd.DataFrame(data_train_scaled, columns=data_cols)\n",
    "data_val_scaled = pd.DataFrame(data_val_scaled, columns=data_cols)\n",
    "data_test_scaled = pd.DataFrame(data_test_scaled, columns=data_cols)"
   ]
  },
  {
   "cell_type": "code",
   "execution_count": 29,
   "metadata": {},
   "outputs": [
    {
     "name": "stdout",
     "output_type": "stream",
     "text": [
      "lbpppxyz\n"
     ]
    }
   ],
   "source": [
    "use_cols = use_cols #want this to be an input arg. \n",
    "input_vars = ''\n",
    "for elem_i in range(len(use_cols)):\n",
    "    input_vars = str(input_vars) + list(use_cols[elem_i])[0]\n",
    "print(input_vars)    \n",
    "# Make the design matrix\n",
    "X_train = data_train_scaled[use_cols].values\n",
    "y_train = (data_train_scaled['radial_velocity']).values\n",
    "\n",
    "X_val = data_val_scaled[use_cols].values\n",
    "y_val = (data_val_scaled['radial_velocity']).values\n",
    "\n",
    "X_test = data_test_scaled[use_cols].values\n",
    "y_test = (data_test_scaled['radial_velocity']).values"
   ]
  },
  {
   "cell_type": "code",
   "execution_count": 31,
   "metadata": {},
   "outputs": [
    {
     "name": "stderr",
     "output_type": "stream",
     "text": [
      "Using TensorFlow backend.\n"
     ]
    }
   ],
   "source": [
    "from keras.models import Sequential\n",
    "from keras.layers import Dense\n",
    "from keras.callbacks import EarlyStopping, ModelCheckpoint\n",
    "from keras.optimizers import Adam"
   ]
  },
  {
   "cell_type": "code",
   "execution_count": 32,
   "metadata": {},
   "outputs": [],
   "source": [
    "from keras import backend as K\n",
    "from keras import callbacks as callbacks\n",
    "global index \n",
    "import tensorflow as tf"
   ]
  },
  {
   "cell_type": "code",
   "execution_count": 33,
   "metadata": {},
   "outputs": [],
   "source": [
    "def LikelihoodLossFunction(y_true, y_pred):\n",
    "    # shape of y_pred should be (nsamples, 2)\n",
    "    # the first column should be the mean of the prediction\n",
    "    # the second column is the confidence (number of standard deviations)\n",
    "#     print y_true.shape\n",
    "#     print y_pred.shape\n",
    "    SIGMA = K.abs(y_pred[:, 1]) + 1e-6\n",
    "\n",
    "    LOC = y_pred[:, 0]\n",
    "    \n",
    "    X = y_true[:, 0]\n",
    "    weights = y_true[:,1]\n",
    "    ARG = K.abs(X - LOC) / (2 * K.abs(SIGMA))\n",
    "    PREFACT = K.log(K.pow(2 * np.pi * K.square(SIGMA), -0.5))\n",
    "    return K.mean((ARG - PREFACT) * weights)\n"
   ]
  },
  {
   "cell_type": "code",
   "execution_count": 34,
   "metadata": {},
   "outputs": [],
   "source": [
    "def ConstantLikelihoodLossFunction(y_true, y_pred):\n",
    "    # shape of y_pred should be (nsamples, 2)\n",
    "    # the first column should be the mean of the prediction\n",
    "    # the second column is the confidence (number of standard deviations)\n",
    "#     print y_pred.shape\n",
    "    LOC = y_pred[:,0]\n",
    "    X = y_true[:, 0]\n",
    "    weights = y_true[:,1]\n",
    "    ARG = K.square(X - LOC) / (2.0)\n",
    "    PREFACT = K.log(K.pow(2 * np.pi, -0.5))\n",
    "    return K.mean((ARG - PREFACT) * weights)"
   ]
  },
  {
   "cell_type": "markdown",
   "metadata": {},
   "source": [
    "# Two network technique to calculate the error"
   ]
  },
  {
   "cell_type": "code",
   "execution_count": 35,
   "metadata": {},
   "outputs": [],
   "source": [
    "from sklearn.neighbors import NearestNeighbors\n",
    "from keras.utils import Sequence\n",
    "from keras.layers import Input, Dense, Lambda, Concatenate, Dropout, Activation, Add\n",
    "from keras.models import Model\n",
    "from keras.utils import plot_model\n",
    "from IPython.display import clear_output\n",
    "from keras.callbacks import ModelCheckpoint, EarlyStopping, ReduceLROnPlateau, CSVLogger"
   ]
  },
  {
   "cell_type": "code",
   "execution_count": 36,
   "metadata": {},
   "outputs": [
    {
     "name": "stdout",
     "output_type": "stream",
     "text": [
      "10.424070811636627\n"
     ]
    },
    {
     "data": {
      "image/png": "[encoded data removed]",
      "text/plain": [
       "<Figure size 320x320 with 1 Axes>"
      ]
     },
     "metadata": {
      "needs_background": "light"
     },
     "output_type": "display_data"
    }
   ],
   "source": [
    "y_low = -5\n",
    "y_high = 5\n",
    "bin_num = 100\n",
    "plt.hist((data_train_scaled['radial_velocity']).values, bins=bin_num, range=(y_low,y_high), histtype='step', edgecolor = 'purple', color= 'skyblue', label = 'vlos', alpha=0.5, density = True)\n",
    "plt.hist((data_train_scaled['radial_velocity']).values, weights = weights_train, bins=bin_num, range=(y_low,y_high), histtype='step', color= 'orange', label = 'weighted', density = True)\n",
    "plt.hist(-(data_train_scaled['radial_velocity']).values, bins=bin_num, range=(y_low,y_high), histtype='step', edgecolor = 'magenta', color= 'pink',  label = '-vlos', alpha = 0.5, density = True)\n",
    "plt.hist(-(data_train_scaled['radial_velocity']).values, weights = weights_train, bins=bin_num, range=(y_low,y_high), histtype='step', color= 'red', label = 'weighted', density = True)\n",
    "plt.legend(bbox_to_anchor=(1.05, 1))\n",
    "plt.title('train')\n"
   ]
  },
  {
   "cell_type": "code",
   "execution_count": 38,
   "metadata": {},
   "outputs": [],
   "source": [
    "y_train = np.vstack([y_train, weights_train]).T\n",
    "y_val = np.vstack([y_val, weights_val]).T"
   ]
  },
  {
   "cell_type": "code",
   "execution_count": 39,
   "metadata": {},
   "outputs": [],
   "source": [
    "inputs = Input(shape=(len(use_cols),))\n",
    "nlayers = nnodes\n",
    "MeanEst = (Dense(nlayers, activation=activation))(inputs)\n",
    "MeanEst = (Dropout(0.1))(MeanEst)\n",
    "MeanEst = (Dense(nlayers, activation=activation))(MeanEst)\n",
    "MeanEst = (Dropout(0.1))(MeanEst)\n",
    "MeanEst = (Dense(nlayers, activation=activation))(MeanEst)\n",
    "MeanEst = (Dropout(0.1))(MeanEst)\n",
    "MeanEst = (Dense(nlayers, activation=activation))(MeanEst)\n",
    "MeanEst = (Dropout(0.1))(MeanEst)\n",
    "MeanEst = (Dense(1, activation='linear'))(MeanEst)\n",
    "MeanModel = Model(inputs=[inputs], outputs=MeanEst)\n",
    "\n",
    "ConfEst= (Dense(nlayers, activation=activation))(inputs)\n",
    "ConfEst = (Dropout(0.1))(ConfEst)\n",
    "ConfEst= (Dense(nlayers, activation=activation))(ConfEst)\n",
    "ConfEst = (Dropout(0.1))(ConfEst)\n",
    "ConfEst= (Dense(nlayers, activation=activation))(ConfEst)\n",
    "ConfEst = (Dropout(0.1))(ConfEst)\n",
    "ConfEst= (Dense(nlayers, activation=activation))(ConfEst)\n",
    "ConfEst = (Dropout(0.1))(ConfEst)\n",
    "ConfEst= (Dense(1, activation='relu'))(ConfEst)\n",
    "ConfModel = Model(inputs=[inputs], outputs=ConfEst)\n",
    "\n",
    "CombinedSub = Concatenate(axis=-1)([MeanModel(inputs), ConfModel(inputs)])\n",
    "\n",
    "CombinedModel = Model(inputs=[inputs], outputs=CombinedSub)"
   ]
  },
  {
   "cell_type": "code",
   "execution_count": 41,
   "metadata": {},
   "outputs": [
    {
     "name": "stdout",
     "output_type": "stream",
     "text": [
      "Model: \"model_3\"\n",
      "__________________________________________________________________________________________________\n",
      "Layer (type)                    Output Shape         Param #     Connected to                     \n",
      "==================================================================================================\n",
      "input_1 (InputLayer)            (None, 8)            0                                            \n",
      "__________________________________________________________________________________________________\n",
      "model_1 (Model)                 (None, 1)            3091        input_1[0][0]                    \n",
      "__________________________________________________________________________________________________\n",
      "model_2 (Model)                 (None, 1)            3091        input_1[0][0]                    \n",
      "__________________________________________________________________________________________________\n",
      "concatenate_1 (Concatenate)     (None, 2)            0           model_1[1][0]                    \n",
      "                                                                 model_2[1][0]                    \n",
      "==================================================================================================\n",
      "Total params: 6,182\n",
      "Trainable params: 6,182\n",
      "Non-trainable params: 0\n",
      "__________________________________________________________________________________________________\n"
     ]
    }
   ],
   "source": [
    "CombinedModel.summary()"
   ]
  },
  {
   "cell_type": "code",
   "execution_count": 28,
   "metadata": {},
   "outputs": [
    {
     "name": "stdout",
     "output_type": "stream",
     "text": [
      "G_train_2it_500k_tanh_D30_p1dropout_lbpppxyz_log2dweights_new\n"
     ]
    }
   ],
   "source": [
    "import os\n",
    "num_samp = str(data_test.shape[0])\n",
    "act_func = activation\n",
    "neurons = 'D'+str(nnodes)\n",
    "dropout = 'p1dropout'\n",
    "lweights = weight_type\n",
    "spec = spec\n",
    "folder_name = 'G_train_2it_'+num_samp+'_'+act_func+'_'+neurons+'_'+dropout+'_'+input_vars+'_'+lweights+'_'+spec\n",
    "filename = 'plots_test_2it_'+num_samp+'_'+act_func+'_'+neurons+'_'+dropout+'_'+input_vars+'_'+lweights+'_'+spec\n",
    "print('saving to '+ folder_name)\n",
    "if not os.path.exists('/tigress/dropulic/'+folder_name):\n",
    "    os.makedirs(folder_name)\n",
    "    os.makedirs(folder_name+'/models_GALAXIA_nonn')\n",
    "    os.makedirs(folder_name+'/logs')\n",
    "if (os.path.exists('/tigress/dropulic/'+folder_name) and not os.path.exists('/tigress/dropulic/'+folder_name+'/models_GALAXIA_nonn')):\n",
    "    os.makedirs(folder_name+'/models_GALAXIA_nonn')\n",
    "    os.makedirs(folder_name+'/logs')"
   ]
  },
  {
   "cell_type": "markdown",
   "metadata": {},
   "source": [
    "## First training iteration"
   ]
  },
  {
   "cell_type": "code",
   "execution_count": 29,
   "metadata": {},
   "outputs": [],
   "source": [
    "CheckPoint = ModelCheckpoint(folder_name+'/models_GALAXIA_nonn/TrainingMean_{epoch:04d}.hdf5',\n",
    "                             verbose=0,\n",
    "                             save_best_only=False\n",
    "                            )\n",
    "ES = EarlyStopping(patience=40, verbose=True, restore_best_weights=True)\n",
    "RLR = ReduceLROnPlateau(patience=10, min_lr=1e-5, verbose=True)\n",
    "CSV_logger = CSVLogger(filename=folder_name+'/logs/training_mean.log', separator=',', append=False)\n",
    "\n",
    "mycallbacks = [CheckPoint, ES, RLR, CSV_logger]\n",
    "#mycallbacks = [ES, RLR]"
   ]
  },
  {
   "cell_type": "code",
   "execution_count": null,
   "metadata": {},
   "outputs": [],
   "source": [
    "ConfModel.trainable = False\n",
    "MeanModel.trainable = True\n",
    "CombinedModel.compile(loss=ConstantLikelihoodLossFunction,\n",
    "                      optimizer='adam'\n",
    "                     )\n",
    "history = CombinedModel.fit(X_train,y_train,\n",
    "                  validation_data=(X_val, y_val),\n",
    "                  epochs=1000,\n",
    "                  batch_size=10000,\n",
    "                  callbacks = mycallbacks\n",
    "                 )"
   ]
  },
  {
   "cell_type": "code",
   "execution_count": 31,
   "metadata": {},
   "outputs": [
    {
     "name": "stderr",
     "output_type": "stream",
     "text": [
      "Font 'default' does not have a glyph for '\\\\times' [U+d7], substituting with a dummy symbol.\n",
      "Font 'default' does not have a glyph for '\\\\times' [U+d7], substituting with a dummy symbol.\n",
      "Font 'default' does not have a glyph for '\\\\times' [U+d7], substituting with a dummy symbol.\n",
      "Font 'default' does not have a glyph for '\\\\times' [U+d7], substituting with a dummy symbol.\n",
      "Font 'default' does not have a glyph for '\\\\times' [U+d7], substituting with a dummy symbol.\n",
      "Font 'default' does not have a glyph for '\\\\times' [U+d7], substituting with a dummy symbol.\n",
      "Font 'default' does not have a glyph for '\\\\times' [U+d7], substituting with a dummy symbol.\n",
      "Font 'default' does not have a glyph for '\\\\times' [U+d7], substituting with a dummy symbol.\n",
      "Font 'default' does not have a glyph for '\\\\times' [U+d7], substituting with a dummy symbol.\n",
      "Font 'default' does not have a glyph for '\\\\times' [U+d7], substituting with a dummy symbol.\n"
     ]
    },
    {
     "data": {
      "image/png": "[encoded data removed]",
      "text/plain": [
       "<Figure size 320x320 with 1 Axes>"
      ]
     },
     "metadata": {
      "needs_background": "light"
     },
     "output_type": "display_data"
    }
   ],
   "source": [
    "plt.plot(history.history['loss'])\n",
    "plt.plot(history.history['val_loss'])\n",
    "plt.yscale('log')\n",
    "plt.xlabel('Epochs')\n",
    "plt.ylabel('Mean Model (Constant Loss Function)')\n",
    "plt.legend(['Train', 'Validation'])\n",
    "plt.show()"
   ]
  },
  {
   "cell_type": "code",
   "execution_count": 32,
   "metadata": {},
   "outputs": [],
   "source": [
    "CheckPoint2 = ModelCheckpoint(folder_name+'/models_GALAXIA_nonn/TrainingErrorBars_{epoch:04d}.hdf5',\n",
    "                             verbose=0,\n",
    "                             save_best_only=False\n",
    "                            )\n",
    "ES2 = EarlyStopping(patience=40, verbose=True, restore_best_weights=True)\n",
    "RLR2 = ReduceLROnPlateau(patience=10, min_lr=1e-5)\n",
    "CSV_logger2 = CSVLogger(filename=folder_name+'/logs/training_errorbars.log', separator=',', append=False)\n",
    "\n",
    "mycallbacks2 = [CheckPoint2, ES2, RLR2, CSV_logger2]\n",
    "#mycallbacks2 = [ES2, RLR2]"
   ]
  },
  {
   "cell_type": "code",
   "execution_count": null,
   "metadata": {},
   "outputs": [],
   "source": [
    "ConfModel.trainable = True\n",
    "MeanModel.trainable = False\n",
    "CombinedModel.compile(loss=LikelihoodLossFunction,\n",
    "                      optimizer='adam'\n",
    "                     )\n",
    "\n",
    "history = CombinedModel.fit(X_train,y_train,\n",
    "                  validation_data=(X_val, y_val),\n",
    "                  epochs=1000,\n",
    "                  batch_size=10000,\n",
    "                  callbacks = mycallbacks2\n",
    "                 )"
   ]
  },
  {
   "cell_type": "code",
   "execution_count": 34,
   "metadata": {},
   "outputs": [
    {
     "data": {
      "image/png": "[encoded data removed]",
      "text/plain": [
       "<Figure size 320x320 with 1 Axes>"
      ]
     },
     "metadata": {
      "needs_background": "light"
     },
     "output_type": "display_data"
    }
   ],
   "source": [
    "plt.plot(history.history['loss'])\n",
    "plt.plot(history.history['val_loss'])\n",
    "plt.yscale('log')\n",
    "plt.xlabel('Epochs')\n",
    "plt.ylabel('Confidence Model (Likelihood Loss Function)')\n",
    "plt.legend(['Train', 'Validation'])\n",
    "plt.show()"
   ]
  },
  {
   "cell_type": "markdown",
   "metadata": {},
   "source": [
    "## Second Training Iteration"
   ]
  },
  {
   "cell_type": "code",
   "execution_count": 35,
   "metadata": {},
   "outputs": [],
   "source": [
    "CheckPoint4 = ModelCheckpoint(folder_name+'/models_GALAXIA_nonn/TrainingMean2_{epoch:04d}.hdf5',\n",
    "                             verbose=0,\n",
    "                             save_best_only=False\n",
    "                            )\n",
    "ES4 = EarlyStopping(patience=40, verbose=True, restore_best_weights=True)\n",
    "RLR4 = ReduceLROnPlateau(patience=10, min_lr=1e-5, verbose=True)\n",
    "CSV_logger4 = CSVLogger(filename=folder_name+'/logs/training_mean2.log', separator=',', append=False)\n",
    "\n",
    "mycallbacks4 = [CheckPoint4, ES4, RLR4, CSV_logger4]\n",
    "#mycallbacks4 = [ES4, RLR4]"
   ]
  },
  {
   "cell_type": "code",
   "execution_count": null,
   "metadata": {},
   "outputs": [],
   "source": [
    "ConfModel.trainable = False\n",
    "MeanModel.trainable = True\n",
    "CombinedModel.compile(loss=ConstantLikelihoodLossFunction,\n",
    "                      optimizer='adam'\n",
    "                     )\n",
    "history = CombinedModel.fit(X_train,y_train,\n",
    "                  validation_data=(X_val, y_val),\n",
    "                  epochs=1000,\n",
    "                  batch_size=10000,\n",
    "                  callbacks = mycallbacks4\n",
    "                 )"
   ]
  },
  {
   "cell_type": "code",
   "execution_count": 37,
   "metadata": {},
   "outputs": [
    {
     "name": "stderr",
     "output_type": "stream",
     "text": [
      "Font 'default' does not have a glyph for '\\\\times' [U+d7], substituting with a dummy symbol.\n",
      "Font 'default' does not have a glyph for '\\\\times' [U+d7], substituting with a dummy symbol.\n",
      "Font 'default' does not have a glyph for '\\\\times' [U+d7], substituting with a dummy symbol.\n",
      "Font 'default' does not have a glyph for '\\\\times' [U+d7], substituting with a dummy symbol.\n",
      "Font 'default' does not have a glyph for '\\\\times' [U+d7], substituting with a dummy symbol.\n",
      "Font 'default' does not have a glyph for '\\\\times' [U+d7], substituting with a dummy symbol.\n",
      "Font 'default' does not have a glyph for '\\\\times' [U+d7], substituting with a dummy symbol.\n",
      "Font 'default' does not have a glyph for '\\\\times' [U+d7], substituting with a dummy symbol.\n",
      "Font 'default' does not have a glyph for '\\\\times' [U+d7], substituting with a dummy symbol.\n",
      "Font 'default' does not have a glyph for '\\\\times' [U+d7], substituting with a dummy symbol.\n",
      "Font 'default' does not have a glyph for '\\\\times' [U+d7], substituting with a dummy symbol.\n",
      "Font 'default' does not have a glyph for '\\\\times' [U+d7], substituting with a dummy symbol.\n",
      "Font 'default' does not have a glyph for '\\\\times' [U+d7], substituting with a dummy symbol.\n",
      "Font 'default' does not have a glyph for '\\\\times' [U+d7], substituting with a dummy symbol.\n",
      "Font 'default' does not have a glyph for '\\\\times' [U+d7], substituting with a dummy symbol.\n",
      "Font 'default' does not have a glyph for '\\\\times' [U+d7], substituting with a dummy symbol.\n"
     ]
    },
    {
     "data": {
      "image/png": "[encoded data removed]",
      "text/plain": [
       "<Figure size 320x320 with 1 Axes>"
      ]
     },
     "metadata": {
      "needs_background": "light"
     },
     "output_type": "display_data"
    }
   ],
   "source": [
    "plt.plot(history.history['loss'])\n",
    "plt.plot(history.history['val_loss'])\n",
    "plt.yscale('log')\n",
    "plt.xlabel('Epochs')\n",
    "plt.ylabel('Mean Model (2nd Train) (Constant Loss Function)')\n",
    "plt.legend(['Train', 'Validation'])\n",
    "plt.show()"
   ]
  },
  {
   "cell_type": "code",
   "execution_count": 38,
   "metadata": {},
   "outputs": [],
   "source": [
    "CheckPoint5 = ModelCheckpoint(folder_name+'/models_GALAXIA_nonn/TrainingErrorBars2_{epoch:04d}.hdf5',\n",
    "                             verbose=0,\n",
    "                             save_best_only=False\n",
    "                            )\n",
    "ES5 = EarlyStopping(patience=40, verbose=True, restore_best_weights=True)\n",
    "RLR5 = ReduceLROnPlateau(patience=10, min_lr=1e-5)\n",
    "CSV_logger5 = CSVLogger(filename=folder_name+'/logs/training_errorbars2.log', separator=',', append=False)\n",
    "\n",
    "mycallbacks5 = [CheckPoint5, ES5, RLR5, CSV_logger5]\n",
    "#mycallbacks5 = [ES5, RLR5]"
   ]
  },
  {
   "cell_type": "code",
   "execution_count": null,
   "metadata": {},
   "outputs": [],
   "source": [
    "ConfModel.trainable = True\n",
    "MeanModel.trainable = False\n",
    "CombinedModel.compile(loss=LikelihoodLossFunction,\n",
    "                      optimizer='adam'\n",
    "                     )\n",
    "\n",
    "history = CombinedModel.fit(X_train,y_train,\n",
    "                  validation_data=(X_val, y_val),\n",
    "                  epochs=1000,\n",
    "                  batch_size=10000,\n",
    "                  callbacks = mycallbacks5\n",
    "                 )"
   ]
  },
  {
   "cell_type": "code",
   "execution_count": 40,
   "metadata": {},
   "outputs": [
    {
     "data": {
      "image/png": "[encoded data removed]",
      "text/plain": [
       "<Figure size 320x320 with 1 Axes>"
      ]
     },
     "metadata": {
      "needs_background": "light"
     },
     "output_type": "display_data"
    }
   ],
   "source": [
    "plt.plot(history.history['loss'])\n",
    "plt.plot(history.history['val_loss'])\n",
    "plt.yscale('log')\n",
    "plt.xlabel('Epochs')\n",
    "plt.ylabel('Confidence Model (2nd Train) (Likelihood Loss Function)')\n",
    "plt.legend(['Train', 'Validation'])\n",
    "plt.show()"
   ]
  },
  {
   "cell_type": "markdown",
   "metadata": {},
   "source": [
    "## Train Both"
   ]
  },
  {
   "cell_type": "code",
   "execution_count": 41,
   "metadata": {},
   "outputs": [],
   "source": [
    "CheckPoint3 = ModelCheckpoint(folder_name+'/models_GALAXIA_nonn/TrainingBoth_{epoch:04d}.hdf5',\n",
    "                             verbose=0,\n",
    "                             save_best_only=False\n",
    "                            )\n",
    "ES3 = EarlyStopping(patience=40, verbose=True, restore_best_weights=True)\n",
    "RLR3 = ReduceLROnPlateau(patience=10, min_lr=1e-5)\n",
    "CSV_logger3 = CSVLogger(filename=folder_name+'/logs/training_both.log', separator=',', append=False)\n",
    "\n",
    "mycallbacks3 = [CheckPoint3, ES3, RLR3, CSV_logger3]\n",
    "#mycallbacks3 = [ES3, RLR3]"
   ]
  },
  {
   "cell_type": "code",
   "execution_count": 42,
   "metadata": {},
   "outputs": [],
   "source": [
    "ConfModel.trainable = True\n",
    "MeanModel.trainable = True\n",
    "CombinedModel.compile(loss=LikelihoodLossFunction,\n",
    "                      optimizer='adam'\n",
    "                     )\n",
    "\n"
   ]
  },
  {
   "cell_type": "code",
   "execution_count": null,
   "metadata": {},
   "outputs": [],
   "source": [
    "history = CombinedModel.fit(X_train,y_train,\n",
    "                  validation_data=(X_val, y_val),\n",
    "                  epochs=1000,\n",
    "                  batch_size=10000,\n",
    "                  callbacks = mycallbacks3\n",
    "                 )"
   ]
  },
  {
   "cell_type": "code",
   "execution_count": 44,
   "metadata": {},
   "outputs": [
    {
     "data": {
      "image/png": "[encoded data removed]",
      "text/plain": [
       "<Figure size 320x320 with 1 Axes>"
      ]
     },
     "metadata": {
      "needs_background": "light"
     },
     "output_type": "display_data"
    }
   ],
   "source": [
    "plt.plot(history.history['loss'])\n",
    "plt.plot(history.history['val_loss'])\n",
    "#plt.yscale('log')\n",
    "plt.xlabel('Epochs')\n",
    "plt.ylabel('Both Models (Likelihood Loss Function)')\n",
    "plt.legend(['Train', 'Validation'])\n",
    "plt.savefig('Loss_Plot_Iterate.png')\n",
    "plt.show()"
   ]
  },
  {
   "cell_type": "code",
   "execution_count": 45,
   "metadata": {},
   "outputs": [],
   "source": [
    "CombinedModel.save_weights(folder_name+\"/models_GALAXIA_nonn/ModelWeights.h5\")"
   ]
  },
  {
   "cell_type": "markdown",
   "metadata": {},
   "source": [
    "### Evaluate the Test Set"
   ]
  },
  {
   "cell_type": "code",
   "execution_count": 43,
   "metadata": {},
   "outputs": [
    {
     "name": "stdout",
     "output_type": "stream",
     "text": [
      "(500000,)\n",
      "(500000,)\n",
      "(100,)\n"
     ]
    },
    {
     "data": {
      "image/png": "[encoded data removed]",
      "text/plain": [
       "<Figure size 320x320 with 1 Axes>"
      ]
     },
     "metadata": {
      "needs_background": "light"
     },
     "output_type": "display_data"
    }
   ],
   "source": [
    "#CombinedModel.load_weights(folder_name+'/models_GALAXIA_nonn/' + 'ModelWeights.h5')\n",
    "test_preds_2 = CombinedModel.predict(X_test)\n",
    "y_low = -250\n",
    "y_high = 250\n",
    "#rescale test_preds_2[:,0]\n",
    "test_preds_2[:,0] = (test_preds_2[:,0] * stddev)+mu\n",
    "test_preds_2[:,1] = (test_preds_2[:,1] * stddev)+mu"
   ]
  },
  {
   "cell_type": "code",
   "execution_count": 123,
   "metadata": {},
   "outputs": [
    {
     "name": "stdout",
     "output_type": "stream",
     "text": [
      "[19.92 25.96 27.08 28.17 29.06]\n",
      "['19p92', '25p96', '27p08', '28p17', '29p06']\n",
      "(51, 2)\n",
      "51\n"
     ]
    }
   ],
   "source": [
    "quant = np.quantile(test_preds_2[:,1], [0.0001, 0.1, 0.25, 0.5, 0.75])\n",
    "rounded_quant = np.round(quant,2)\n",
    "quant_string = []\n",
    "for elem_i in range(len(rounded_quant)):\n",
    "    p_elem = str(rounded_quant[elem_i])\n",
    "    p_elem = p_elem.replace('.', 'p')\n",
    "    quant_string.append(str(p_elem))\n",
    "\n",
    "#need to define test_preds_arrays\n",
    "sigma_arr_names = []\n",
    "for elem_i in range(len(quant_string)):\n",
    "    sigma_arr_names.append('test_preds_' + str(quant_string[elem_i]))\n",
    "\n",
    "for elem_i in range(len(rounded_quant)):\n",
    "    globals()[sigma_arr_names[elem_i]] = np.delete(test_preds_2, np.where(test_preds_2[:,1]>=rounded_quant[elem_i])[0], 0)\n"
   ]
  },
  {
   "cell_type": "code",
   "execution_count": 115,
   "metadata": {},
   "outputs": [],
   "source": [
    "def save_indices(thresh, thresh_string):\n",
    "    \n",
    "    list_err_lt = []   \n",
    "    list_err_lt = [(data_test['radial_velocity']).values[i] for i in range(len(test_preds_2[:,1])) if test_preds_2[i,1] < thresh]\n",
    "    print(len(list_err_lt))\n",
    "    #now need indices of these values in data\n",
    "    indices = []\n",
    "    for i in range(len(list_err_lt)):\n",
    "        indices.append(data_test[data_test['radial_velocity']==(list_err_lt[i])].index[0])\n",
    "    np.save(folder_name+'/data_indices_error_lt_'+thresh_string,indices)\n",
    "        "
   ]
  },
  {
   "cell_type": "code",
   "execution_count": 117,
   "metadata": {},
   "outputs": [],
   "source": [
    "from scipy.stats import ks_2samp\n",
    "from scipy.stats import kstest\n",
    "from scipy.stats import f\n",
    "from scipy.stats import gaussian_kde\n",
    "from scipy.stats import norm\n",
    "from scipy.optimize import curve_fit\n",
    "from scipy.interpolate import interp1d\n",
    "from scipy.integrate import quad"
   ]
  },
  {
   "cell_type": "code",
   "execution_count": 118,
   "metadata": {},
   "outputs": [],
   "source": [
    "def gaussian(x,mu,sigma):\n",
    "    prefactor = 1/(np.sqrt(2*np.pi)*sigma)\n",
    "    return prefactor*np.exp(-(x-mu)*(x-mu)/(2*sigma*sigma))"
   ]
  },
  {
   "cell_type": "markdown",
   "metadata": {},
   "source": [
    "## Going to use Monte Carlo simulations to predict errorbars. "
   ]
  },
  {
   "cell_type": "code",
   "execution_count": 136,
   "metadata": {},
   "outputs": [],
   "source": [
    "def monte_carlo(df, test_preds_cut, thresh, thresh_string):  \n",
    "    from matplotlib.colors import LogNorm\n",
    "    mc_vr_pred_list = []\n",
    "    resample_test_list = []\n",
    "    bin_values_list = []\n",
    "    min_array = []\n",
    "    max_array = []\n",
    "    min_array_r = []\n",
    "    max_array_r = []\n",
    "    min_array_th = []\n",
    "    max_array_th = []\n",
    "    min_array_phi = []\n",
    "    max_array_phi = []\n",
    "\n",
    "    data_test = reload_data_per_cut(thresh, thresh_string)\n",
    "    hb_list = []\n",
    "    hb_list_r = []\n",
    "    hb_list_th = []\n",
    "    hb_list_phi = []\n",
    "    hex_centers = []\n",
    "    \n",
    "    bin_values_list_r = []\n",
    "    bin_values_list_th = []\n",
    "    bin_values_list_phi = []\n",
    "    \n",
    "    p_vals_list = []\n",
    "    cdf_mc_list = []\n",
    "    gaussian_array = np.zeros(50)\n",
    "    N = len((data_test['radial_velocity']).values)\n",
    "    x_range = np.linspace(y_low,y_high,N)\n",
    "    for mc_i in range(0,100):\n",
    "        mc_vr_pred = []\n",
    "        resample_test = []\n",
    "        for star_i in range(0,len(test_preds_cut)):\n",
    "            mc_vr_pred.append(np.random.normal(test_preds_cut[star_i,0],test_preds_cut[star_i,1]))\n",
    "            resample_test.append(np.random.normal((data_test['radial_velocity']).values[star_i],0))\n",
    "\n",
    "        mc_vr_pred_list.append(mc_vr_pred)\n",
    "        resample_test_list.append(resample_test)\n",
    "        n, bins = np.histogram(mc_vr_pred,bins=50,range=(y_low,y_high), density = True)\n",
    "        n_test_preds, bins_test_preds = np.histogram((data_test['radial_velocity']).values, bins=50, range=(y_low,y_high))\n",
    "        cdf = np.cumsum(n_test_preds)\n",
    "        cdf_mc_list.append(np.cumsum(n))\n",
    "        \n",
    "        plt.figure(2)\n",
    "        hb = plt.hexbin((data_test['radial_velocity']).values, mc_vr_pred,gridsize=100, norm = LogNorm(),extent=[-200, 200, -200, 200]);\n",
    "        plt.close(2)\n",
    "        hb_list.append(hb.get_array());\n",
    "        bin_values_list.append(n)\n",
    "        \n",
    "        #now for the coordinate-transformed histograms\n",
    "        vel_sph_coord = get_coord_transform(data_test, np.array(mc_vr_pred))\n",
    "        n_r , bins_r = np.histogram(vel_sph_coord[:,0], bins=50, range=(-250,250))\n",
    "        n_th , bins_th = np.histogram(vel_sph_coord[:,1], bins=50, range=(-250,250))\n",
    "        n_phi , bins_phi = np.histogram(vel_sph_coord[:,2], bins=50, range=(-450,0))\n",
    "        bin_values_list_r.append(n_r)\n",
    "        bin_values_list_th.append(n_th)\n",
    "        bin_values_list_phi.append(n_phi)\n",
    "        \n",
    "        plt.figure(3)\n",
    "        hb_r = plt.hexbin((data_test['vr']).values, vel_sph_coord[:,0],gridsize=100, norm = LogNorm(),extent=[-250, 250, -250, 250]);\n",
    "        plt.close(3)\n",
    "        hb_list_r.append(hb_r.get_array());\n",
    "        \n",
    "        plt.figure(4)\n",
    "        hb_th = plt.hexbin((data_test['vtheta']).values, vel_sph_coord[:,1],gridsize=100, norm = LogNorm(),extent=[-250, 250, -250, 250]);\n",
    "        plt.close(4)\n",
    "        hb_list_th.append(hb_th.get_array());\n",
    "        \n",
    "        plt.figure(5)\n",
    "        hb_phi = plt.hexbin((data_test['vphi']).values, vel_sph_coord[:,2],gridsize=100, norm = LogNorm(),extent=[-450, 0, -450, 0]);\n",
    "        plt.close(5)\n",
    "        hb_list_phi.append(hb_phi.get_array());\n",
    "\n",
    "    median_mc_each_star = np.median(mc_vr_pred_list, axis = 0)\n",
    "    \n",
    "    bin_values_list_arr = np.array(bin_values_list)    \n",
    "    max_array = bin_values_list_arr.max(axis=0)\n",
    "    median_array = np.median(bin_values_list_arr,axis=0)\n",
    "    min_array = bin_values_list_arr.min(axis=0) \n",
    "    \n",
    "    bin_values_list_r_arr = np.array(bin_values_list_r)    \n",
    "    max_array_r = bin_values_list_r_arr.max(axis=0)\n",
    "    min_array_r = bin_values_list_r_arr.min(axis=0) \n",
    "    \n",
    "    bin_values_list_th_arr = np.array(bin_values_list_th)    \n",
    "    max_array_th = bin_values_list_th_arr.max(axis=0)\n",
    "    min_array_th = bin_values_list_th_arr.min(axis=0) \n",
    "    \n",
    "    bin_values_list_phi_arr = np.array(bin_values_list_phi)    \n",
    "    max_array_phi = bin_values_list_phi_arr.max(axis=0)\n",
    "    min_array_phi = bin_values_list_phi_arr.min(axis=0) \n",
    "\n",
    "    return vel_sph_coord, min_array, max_array,median_array, hb_list, hb_list_r,hb_list_th,hb_list_phi, min_array_r,max_array_r,min_array_th,max_array_th, min_array_phi,max_array_phi, mc_vr_pred_list,cdf_mc_list, median_mc_each_star, resample_test_list\n"
   ]
  },
  {
   "cell_type": "code",
   "execution_count": 137,
   "metadata": {},
   "outputs": [],
   "source": [
    "import TransformCoords\n",
    "def get_coord_transform(df, train_preds):\n",
    "    #needs only vr values of train_preds (maybe...need to see what to do about error)\n",
    "    # m12i\n",
    "    # v_LSR = [224.7092,-20.3801, 3.8954]\n",
    "    # r_LSR = [0,8.2,0]\n",
    "    # Galaxia\n",
    "    v_LSR = [11.1, 239.08, 7.25]\n",
    "    r_LSR = [-8.,0.,0.015]\n",
    "    inds = np.arange(df.shape[0])\n",
    "    inds_train = np.arange(df.shape[0])\n",
    "    sub_num = df.shape[0]\n",
    "    vels_sph = np.array([df['vr'].values[inds][:sub_num],df['vtheta'].values[inds][:sub_num],df['vphi'].values[inds][:sub_num]]).T\n",
    "    coords_cart = np.array([df['x'].values[inds][:sub_num],df['y'].values[inds][:sub_num],df['z'].values[inds][:sub_num]]).T\n",
    "    \n",
    "    ra_cut = df['ra'].values[inds][:sub_num]\n",
    "    dec_cut = df['dec'].values[inds][:sub_num]\n",
    "    parallax_cut = df['parallax'].values[inds][:sub_num]\n",
    "    pmra_cut = df['pmra'].values[inds][:sub_num]\n",
    "    pmdec_cut = df['pmdec'].values[inds][:sub_num]\n",
    "    rv_cut = df['radial_velocity'].values[inds][:sub_num]\n",
    "    \n",
    "    U_pred_train,V_pred_train,W_pred_train = TransformCoords.pm2galcart(np.deg2rad(ra_cut[inds_train]),np.deg2rad(dec_cut[inds_train]),parallax_cut[inds_train],pmra_cut[inds_train],pmdec_cut[inds_train],train_preds.flatten().astype('float'))\n",
    "    \n",
    "    coords_cart_train = coords_cart[inds_train,:]\n",
    "    \n",
    "    vels_cart_pred_train = np.array([U_pred_train+v_LSR[0],V_pred_train+v_LSR[1],W_pred_train+v_LSR[2]]).T\n",
    "    \n",
    "    coords_sph_train, vels_sph_pred_train = TransformCoords.rvcart2sph_vec(coords_cart_train,vels_cart_pred_train)\n",
    "    \n",
    "    coords_sph_train[:,[1,2]] = coords_sph_train[:,[2,1]] # Swap theta, phi into correct order\n",
    "    \n",
    "    vels_sph_pred_train[:,[1,2]] = vels_sph_pred_train[:,[2,1]] # Swap theta, phi into correct order\n",
    "    \n",
    "    return vels_sph_pred_train\n",
    "\n"
   ]
  },
  {
   "cell_type": "code",
   "execution_count": 142,
   "metadata": {},
   "outputs": [],
   "source": [
    "def reload_data_per_cut(thresh, thresh_string):\n",
    "    hold = 0\n",
    "    data_test = np.load('/tigress/ljchang/DataXGaia/data/galaxia_mock/test_set_500k.npz')\n",
    "    data_test = data_test['data']\n",
    "    data_cols = ['source_id', 'l', 'b', 'ra', 'dec', 'parallax', 'parallax_error', \n",
    "                 'pmra', 'pmra_error', 'pmdec', 'pmdec_error', 'radial_velocity',\n",
    "                 'photo_g_mean_mag', 'photo_bp_mean_mag', 'photo_rp_mean_mag',\n",
    "                 'x','y','z','vx','vy','vz','r','phi','theta','vr','vphi','vtheta']\n",
    "    data_test = pd.DataFrame(data_test, columns=data_cols)\n",
    "    indices_to_drop = []\n",
    "    if thresh < 80 and thresh > 0:\n",
    "        indices_to_drop = np.load(folder_name+'/data_indices_error_lt_'+thresh_string+'.npy')\n",
    "        print(np.shape(indices_to_drop))\n",
    "        data_test = data_test.loc[indices_to_drop]\n",
    "    elif thresh == 0: \n",
    "        hold = 0\n",
    "        print('hold = 0')\n",
    "\n",
    "    weights_test = np.ones(data_test.shape[0])\n",
    "    return data_test"
   ]
  },
  {
   "cell_type": "code",
   "execution_count": 139,
   "metadata": {},
   "outputs": [],
   "source": [
    "def generate_rand_from_pdf(pdf, x_grid, test_preds):\n",
    "    cdf = np.cumsum(pdf)\n",
    "    cdf = cdf / cdf[-1]\n",
    "    values = np.random.rand(len(test_preds[:,0]))\n",
    "    value_bins = np.searchsorted(cdf, values)\n",
    "    random_from_cdf = x_grid[value_bins]\n",
    "    return random_from_cdf"
   ]
  },
  {
   "cell_type": "code",
   "execution_count": 161,
   "metadata": {},
   "outputs": [],
   "source": [
    " def plot_test(thresh, thresh_string): \n",
    "    data_test = reload_data_per_cut(thresh, thresh_string)\n",
    "    print('shape of data_test is '+str(data_test.shape))\n",
    "    if thresh == 0: test_preds = test_preds_2\n",
    "    else:\n",
    "        test_preds_name = 'test_preds_' + thresh_string\n",
    "        test_preds = eval(test_preds_name)\n",
    "\n",
    "    y_low = -250\n",
    "    y_high = 250\n",
    "    fig = plt.figure(figsize=(12, 28))\n",
    "    gs0 = gridspec.GridSpec(7, 3, hspace=0.3, wspace=0.3)\n",
    "\n",
    "    from matplotlib.colors import LogNorm\n",
    "    plt.subplot(gs0[3], label = '3')\n",
    "    plt.hist2d(test_preds[:,1],test_preds[:,0], bins=40,norm = LogNorm())\n",
    "    clb1 = plt.colorbar()\n",
    "    clb1.set_label('Density', labelpad=-25, y=1.08, rotation=0,fontsize=10)\n",
    "    plt.ylabel(r'$v_{\\rm{los}}^{\\rm{pred}}$',labelpad=-10)\n",
    "    plt.xlabel('$\\sigma$',labelpad=-5)\n",
    "    \n",
    "\n",
    "    plt.subplot(gs0[2], label = '2')\n",
    "    hb = plt.hexbin((data_test['radial_velocity']).values, test_preds[:,0],gridsize=100, norm = LogNorm(),extent=[-200, 200, -200, 200])\n",
    "    x1 = np.linspace(-150,150,1000)\n",
    "    y1 = x1\n",
    "    plt.plot(x1,y1,'k--')\n",
    "    plt.ylabel(r'$v_{\\rm{los}}^{\\rm{pred}}$',labelpad=-10)\n",
    "    plt.xlabel(r'$v_{\\rm{los}}^{\\rm{meas}}$')\n",
    "    clb3 = plt.colorbar(hb)\n",
    "    clb3.set_label('Density', labelpad=-25, y=1.08, rotation=0,fontsize=10)\n",
    "\n",
    "\n",
    "    plt.subplot(gs0[5], label = '5')\n",
    "    plt.hist2d((data_test['l']).values,test_preds[:,0], bins=40,norm = LogNorm())\n",
    "    clb4 = plt.colorbar()\n",
    "    clb4.set_label('Density', labelpad=-25, y=1.08, rotation=0,fontsize=10)\n",
    "    plt.plot(x1,y1,'k--')\n",
    "    plt.xlabel(r'$l$',labelpad=-3)\n",
    "    plt.ylabel(r'$v_{\\rm{los}}^{\\rm{pred}}$',labelpad=-5)\n",
    "\n",
    "\n",
    "    plt.subplot(gs0[6], label = '6')\n",
    "    dist_hist = np.divide(np.ones_like((data_test['parallax']).values),(data_test['parallax']).values)\n",
    "    plt.hist2d(dist_hist, test_preds[:,1], bins=40, norm = LogNorm())\n",
    "    clb5 = plt.colorbar()\n",
    "    clb5.set_label('Density', labelpad=-25, y=1.08, rotation=0,fontsize=10)\n",
    "    plt.xlabel('Distance (kpc)',fontsize = 12)\n",
    "    plt.ylabel('$\\sigma$',labelpad=-5)\n",
    "\n",
    "    plt.subplot(gs0[1], label = '1')\n",
    "    plotrange = np.linspace(-5,5,1000)\n",
    "    diff_hist = np.divide(np.subtract(test_preds[:,0],(data_test['radial_velocity']).values),test_preds[:,1])\n",
    "    mean_diffs, mean_stds = np.mean(diff_hist), np.std(diff_hist)\n",
    "    plt.hist(diff_hist,bins=20, range=(-5,5), histtype='bar',ec = 'white', color = 'tab:blue',alpha = 0.5,fill = True, density = True)\n",
    "    plt.plot(plotrange, norm.pdf(plotrange, mean_diffs, mean_stds),color = 'darkorange', linestyle = '--', linewidth = 2.5,label = 'normal fit')\n",
    "    plt.yscale('log')\n",
    "    plt.legend(loc = \"upper right\",prop={'size': 8})\n",
    "    plt.xlabel(r'$(v_{\\rm{los}}^{\\rm{pred}} - v_{\\rm{los}}^{\\rm{meas}})/\\sigma$',labelpad=-5)\n",
    "    \n",
    "    plt.subplot(gs0[4], label = '4')\n",
    "    plt.hist2d((data_test['l']).values,test_preds[:,1], bins=40,norm = LogNorm())\n",
    "    clb2 = plt.colorbar()\n",
    "    clb2.set_label('Density', labelpad=-25, y=1.08, rotation=0,fontsize=10)\n",
    "    plt.plot(x1,y1,'k--')\n",
    "    plt.xlabel(r'$l$',labelpad=-3)\n",
    "    plt.ylabel('$\\sigma$',labelpad=-5)\n",
    "    \n",
    "\n",
    "    plt.subplot(gs0[0], label = '0')\n",
    "    plt.hist((data_test['radial_velocity']).values, bins=50, range=(y_low,y_high), histtype='bar', edgecolor = 'white', color= 'tab:blue',alpha = 0.5, fill = True, label = 'test', density = True )\n",
    "    plt.hist(test_preds[:,0], bins=100, range=(y_low,y_high), histtype='step',color = 'darkslateblue', linewidth = 1.3, label = 'predicted', density = True)\n",
    "    plt.xlabel(r'$v_{\\rm{los}}$', labelpad =-2)\n",
    "    if thresh == 0: plt.title('Test set, 100 bins, no sigma cut, '+str(len(test_preds[:,0]))+' stars',fontsize=14)\n",
    "    if thresh != 0: plt.title('Test set, $\\sigma \\leq$'+str(thresh)+' km/s, '+str(len(test_preds[:,0]))+' stars',fontsize=14)\n",
    "    #plt.yscale('log')\n",
    "    plt.legend(loc = \"upper right\",prop={'size': 10})\n",
    "    ###########################\n",
    "    ###########################\n",
    "    plt.subplot(gs0[7], label = '7')\n",
    "    hist_test, bins_test, patches_test = plt.hist((data_test['radial_velocity']).values, bins=50, range=(y_low,y_high), histtype='bar', edgecolor = 'white', color= 'tab:blue', alpha = 0.5, fill = True, label = 'test' , density = True, zorder = 0)\n",
    "    bin_centers_test = (bins_test[1:]+bins_test[:-1])/2\n",
    "    vels_sph_pred_test, min_array, max_array,median_array, hb_list, hb_list_r,hb_list_th,hb_list_phi, min_array_r,max_array_r,min_array_th,max_array_th, min_array_phi,max_array_phi, mc_vr_pred_list,cdf_mc_list, median_mc_each_star,resample_test_list= monte_carlo(data_test, test_preds, thresh, thresh_string);\n",
    "    plt.fill_between(bin_centers_test,min_array, max_array,label = 'MC spread',color = 'orange', zorder = 10, alpha = 0.5)\n",
    "    #need to calculate MC kde by hand\n",
    "    vbins = np.linspace(y_low,y_high,51)\n",
    "    bin_centers = (vbins[1:]+vbins[:-1])/2\n",
    "    bin_width = vbins[1]-vbins[0]\n",
    "    normals = np.array([gaussian(bin_centers,test_preds[i,0],test_preds[i,1]) for i in range(len(test_preds[:,0]))])\n",
    "    sum_normal = np.sum(normals,axis=0)\n",
    "    sum_normal = sum_normal/np.sum(sum_normal*bin_width)\n",
    "    \n",
    "    kde_interp_func = interp1d(bin_centers, sum_normal) #mc by-hand kde\n",
    "    \n",
    "    kde = gaussian_kde((data_test['radial_velocity']).values) #truth kde\n",
    "    plt.plot(bin_centers_test,kde.evaluate(bin_centers_test),zorder = 30, color = 'green', label = 'truth kde' )\n",
    "    x_grid = bin_centers_test\n",
    "\n",
    "    plt.plot(bin_centers_test, sum_normal,label = 'pred kde',color = 'red')\n",
    "    \n",
    "    def func_sum_normal(x):\n",
    "        if x>= np.min(bin_centers_test) and x <= np.max(bin_centers_test): return kde_interp_func(x)\n",
    "        else: return 0.0\n",
    "    def func_truth(x):\n",
    "        return kde.evaluate(x)\n",
    "    def func_diff(x):\n",
    "        return np.abs(func_sum_normal(x) - func_truth(x))\n",
    "    \n",
    "    T_integral, T_abserr = quad(func_diff,-np.inf, np.inf)\n",
    "    print('T_integral '+str(T_integral))\n",
    "    \n",
    "    def func_truth_random(x):\n",
    "        return kde_random_samp.evaluate(x)\n",
    "    def func_diff_random(x): \n",
    "        return np.abs(func_truth_random(x) - func_truth(x))\n",
    "    integral_list = []\n",
    "    for rand_samp_i in range(50):\n",
    "        random_from_kde = generate_rand_from_pdf(kde.evaluate(x_grid), x_grid, test_preds) #generating random samples from kde\n",
    "        #need to calculate kde of this new histogram and find integral with truth.\n",
    "        kde_random_samp = gaussian_kde(random_from_kde)\n",
    "        iii_integral, iii_abserr = quad(func_diff_random ,-np.inf, np.inf)\n",
    "        integral_list.append(iii_integral)\n",
    "    num_int_gt_T = sum(int_i > T_integral for int_i in integral_list) \n",
    "    p_value = num_int_gt_T/50\n",
    "    \n",
    "    plt.hist(test_preds[:,0], bins=50, range=(y_low,y_high), histtype='step',color = 'darkslateblue',linewidth = 1.3, label = 'predicted', density = True, zorder = 20)\n",
    "    plt.xlabel(r'$v_{\\rm{los}}$, pvalue = '+str(p_value))\n",
    "    plt.legend(loc = \"upper right\",prop={'size': 10})\n",
    "    \n",
    "    plt.subplot(gs0[18])\n",
    "    plt.hist(random_from_kde, 50, alpha=0.5, density = True, label = 'random sample test kde')\n",
    "    plt.legend(loc = \"upper right\",prop={'size': 10})\n",
    "    ##############################\n",
    "    ##############################\n",
    "    \n",
    "    plt.subplot(gs0[8], label = '8')\n",
    "    hb_mean=plt.hexbin((data_test['radial_velocity']).values, np.zeros_like((data_test['radial_velocity']).values),gridsize=100, norm = LogNorm(),extent=[-200, 200, -200, 200])\n",
    "    hb_mean.set_array(np.mean(hb_list, axis = 0))\n",
    "    x1 = np.linspace(-150,150,1000)\n",
    "    y1 = x1\n",
    "    plt.plot(x1,y1,'k--')\n",
    "    plt.ylabel(r'$v_{\\rm{los}}^{\\rm{pred, MC}}$',labelpad=-10)\n",
    "    plt.xlabel(r'$v_{\\rm{los}}^{\\rm{meas}}$')\n",
    "    plt.clim(1,(np.max(hb_list)/2)*1.5)\n",
    "    clb6 = plt.colorbar(hb_mean)\n",
    "    clb6.set_label('Density', labelpad=-25, y=1.08, rotation=0,fontsize=10)\n",
    "    \n",
    "    #'vr','vphi','vtheta'\n",
    "    plt.subplot(gs0[9], label = '9')\n",
    "    hb_r = plt.hexbin((data_test['vr']).values, vels_sph_pred_test[:,0],gridsize=100, norm = LogNorm(),extent=[-250, 250, -250, 250])\n",
    "    x1 = np.linspace(-250,250,1000)\n",
    "    y1 = x1\n",
    "    plt.plot(x1,y1,'k--')\n",
    "    plt.ylabel(r'$v_{\\rm{r}}^{\\rm{pred}}$',labelpad=-10)\n",
    "    plt.xlabel(r'$v_{\\rm{r}}^{\\rm{meas}}$')\n",
    "    clb7 = plt.colorbar(hb_r)\n",
    "    clb7.set_label('Density', labelpad=-25, y=1.08, rotation=0,fontsize=10)\n",
    "    \n",
    "    plt.subplot(gs0[10], label = '10')\n",
    "    hb_t = plt.hexbin((data_test['vtheta']).values, vels_sph_pred_test[:,1],gridsize=100, norm = LogNorm(),extent=[-250, 250, -250, 250])\n",
    "    x2 = np.linspace(-250,250,1000)\n",
    "    y2 = x2\n",
    "    plt.plot(x2,y2,'k--')\n",
    "    plt.ylabel(r'$v_{\\rm{\\theta}}^{\\rm{pred}}$',labelpad=-10)\n",
    "    plt.xlabel(r'$v_{\\rm{\\theta}}^{\\rm{meas}}$')\n",
    "    clb8 = plt.colorbar(hb_t)\n",
    "    clb8.set_label('Density', labelpad=-25, y=1.08, rotation=0,fontsize=10)\n",
    "    \n",
    "    plt.subplot(gs0[11], label = '11')\n",
    "    hb_p = plt.hexbin((data_test['vphi']).values, vels_sph_pred_test[:,2],gridsize=100, norm = LogNorm(),extent=[-450, 0, -450, 0])\n",
    "    x3 = np.linspace(-450,0,1000)\n",
    "    y3 = x3\n",
    "    plt.plot(x3,y3,'k--')\n",
    "    plt.ylabel(r'$v_{\\rm{\\phi}}^{\\rm{pred}}$',labelpad=-5)\n",
    "    plt.xlabel(r'$v_{\\rm{\\phi}}^{\\rm{meas}}$')\n",
    "    clb9 = plt.colorbar(hb_p)\n",
    "    clb9.set_label('Density', labelpad=-25, y=1.08, rotation=0,fontsize=10)\n",
    "    \n",
    "    plt.subplot(gs0[12], label = '12')\n",
    "    hist_test_r, bins_test_r, patches_test_r = plt.hist((data_test['vr']).values, bins=50, range=(y_low,y_high), histtype='bar', edgecolor = 'white', color= 'tab:blue',alpha = 0.5, fill = True,  label = 'test' )\n",
    "    bin_centers_test_r = (bins_test_r[1:]+bins_test_r[:-1])/2\n",
    "    plt.fill_between(bin_centers_test_r,min_array_r, max_array_r,label = 'MC spread',color = 'orange',alpha = 0.5)\n",
    "    plt.hist(vels_sph_pred_test[:,0], bins=50, range=(y_low,y_high), histtype='step',color = 'darkslateblue', linewidth = 1.3,label = 'predicted')\n",
    "    plt.xlabel(r'$v_{\\rm{r}}$', labelpad =-2)\n",
    "    plt.legend(loc = \"upper right\",prop={'size': 10})\n",
    "    \n",
    "    plt.subplot(gs0[13], label = '13')\n",
    "    hist_test_th, bins_test_th, patches_test_th = plt.hist((data_test['vtheta']).values, bins=50, range=(y_low,y_high), histtype='bar', edgecolor = 'white', color= 'tab:blue',alpha = 0.5,fill = True, label = 'test', zorder = 0)\n",
    "    bin_centers_test_th = (bins_test_th[1:]+bins_test_th[:-1])/2\n",
    "    plt.fill_between(bin_centers_test_th,min_array_th, max_array_th,label = 'MC spread',color = 'orange', alpha = 0.5, zorder = 10)\n",
    "    plt.hist(vels_sph_pred_test[:,1], bins=50, range=(y_low,y_high), histtype='step',color = 'darkslateblue',linewidth = 1.3, label = 'predicted', zorder = 20)\n",
    "    plt.xlabel(r'$v_{\\rm{\\theta}}$', labelpad =-2)\n",
    "    plt.legend(loc = \"upper right\",prop={'size': 10})\n",
    "    \n",
    "    plt.subplot(gs0[14], label = '14')\n",
    "    hist_test_phi, bins_test_phi, patches_test_phi = plt.hist((data_test['vphi']).values, bins=50, range=(-450,0), histtype='bar', edgecolor = 'white', color= 'tab:blue', alpha = 0.5,fill = True,  label = 'test', zorder = 0)\n",
    "    bin_centers_test_phi = (bins_test_phi[1:]+bins_test_phi[:-1])/2\n",
    "    plt.fill_between(bin_centers_test_phi,min_array_phi, max_array_phi,label = 'MC spread',color = 'orange', alpha = 0.5, zorder = 10)\n",
    "    plt.hist(vels_sph_pred_test[:,2], bins=50, range=(-450,0), histtype='step',color = 'darkslateblue', linewidth = 1.3,label = 'predicted', zorder = 20)\n",
    "    plt.xlabel(r'$v_{\\rm{\\phi}}$', labelpad =-2)\n",
    "    plt.legend(loc = \"upper right\",prop={'size': 10})\n",
    "    \n",
    "    plt.subplot(gs0[15], label = '15')\n",
    "    hb_mean_r=plt.hexbin((data_test['vr']).values, np.zeros_like((data_test['vr']).values), gridsize=100, norm = LogNorm(),extent=[-250, 250, -250, 250])\n",
    "    hb_mean_r.set_array(np.mean(hb_list_r, axis = 0))\n",
    "    x1 = np.linspace(-250,250,1000)\n",
    "    y1 = x1\n",
    "    plt.plot(x1,y1,'k--')\n",
    "    plt.ylabel(r'$v_{\\rm{r}}^{\\rm{pred, MC}}$',labelpad=-10)\n",
    "    plt.xlabel(r'$v_{\\rm{r}}^{\\rm{meas}}$')\n",
    "    plt.clim(1,(np.max(hb_list_r)/2)*1.5)\n",
    "    clb10 = plt.colorbar(hb_mean_r)\n",
    "    clb10.set_label('Density', labelpad=-25, y=1.08, rotation=0,fontsize=10)\n",
    "    \n",
    "    plt.subplot(gs0[16], label = '16')\n",
    "    hb_mean_th=plt.hexbin((data_test['vtheta']).values, np.zeros_like((data_test['vtheta']).values), gridsize=100, norm = LogNorm(),extent=[-250, 250, -250, 250])\n",
    "    hb_mean_th.set_array(np.mean(hb_list_th, axis = 0))\n",
    "    x1 = np.linspace(-250,250,1000)\n",
    "    y1 = x1\n",
    "    plt.plot(x1,y1,'k--')\n",
    "    plt.ylabel(r'$v_{\\rm{\\theta}}^{\\rm{pred, MC}}$',labelpad=-10)\n",
    "    plt.xlabel(r'$v_{\\rm{\\theta}}^{\\rm{meas}}$')\n",
    "    plt.clim(1,(np.max(hb_list_th)/2)*1.5)\n",
    "    clb11 = plt.colorbar(hb_mean_th)\n",
    "    clb11.set_label('Density', labelpad=-25, y=1.08, rotation=0,fontsize=10)\n",
    "    \n",
    "    plt.subplot(gs0[17], label = '17')\n",
    "    hb_mean_phi=plt.hexbin((data_test['vphi']).values, np.zeros_like((data_test['vphi']).values), gridsize=100, norm = LogNorm(),extent=[-450, 0, -450, 0])\n",
    "    hb_mean_phi.set_array(np.mean(hb_list_phi, axis = 0))\n",
    "    x1 = np.linspace(-450,0,1000)\n",
    "    y1 = x1\n",
    "    plt.plot(x1,y1,'k--')\n",
    "    plt.ylabel(r'$v_{\\rm{\\phi}}^{\\rm{pred, MC}}$',labelpad=-10)\n",
    "    plt.xlabel(r'$v_{\\rm{\\phi}}^{\\rm{meas}}$')\n",
    "    plt.clim(1,(np.max(hb_list_phi)/2)*1.5)\n",
    "    clb12 = plt.colorbar(hb_mean_phi)\n",
    "    clb12.set_label('Density', labelpad=-25, y=1.08, rotation=0,fontsize=10)\n",
    "    \n",
    "    txt =('input vars = '+ str(use_cols)+ ', '+neurons+' '+num_samp+' '+act_func+' '+dropout+' '+lweights+' '+spec)\n",
    "    fig.text(.5, .1, txt, ha='center')\n",
    "\n",
    "\n",
    "    plt.savefig(folder_name+'/'+filename+'_withKSnew_sigmaleq_'+thresh_string+'.png')\n",
    "    np.save(folder_name+'/'+filename+'_testpreds_sigmaleq_'+thresh_string+'.npy',test_preds)\n",
    "    clb1.remove()\n",
    "    clb2.remove()\n",
    "    clb3.remove()\n",
    "    clb4.remove()\n",
    "    clb5.remove()\n",
    "    clb6.remove()\n",
    "    clb7.remove()\n",
    "    clb8.remove()\n",
    "    clb9.remove()\n",
    "    clb10.remove()\n",
    "    clb11.remove()\n",
    "    clb12.remove()\n",
    "    "
   ]
  },
  {
   "cell_type": "code",
   "execution_count": null,
   "metadata": {},
   "outputs": [],
   "source": [
    "rounded_quant = np.append(rounded_quant, 0.0)\n",
    "quant_string = np.append(quant_string, '0')\n",
    "\n",
    "for elem_i in range(len(rounded_quant)):\n",
    "    save_indices(rounded_quant[elem_i],quant_string[elem_i])\n",
    "    plot_test(rounded_quant[elem_i],quant_string[elem_i])"
   ]
  },
  {
   "cell_type": "code",
   "execution_count": 60,
   "metadata": {},
   "outputs": [],
   "source": [
    "CombinedModel.save(folder_name+'/network.h5')"
   ]
  }
 ],
 "metadata": {
  "kernelspec": {
   "display_name": "venv_ML",
   "language": "python",
   "name": "venv_ml"
  },
  "language_info": {
   "codemirror_mode": {
    "name": "ipython",
    "version": 3
   },
   "file_extension": ".py",
   "mimetype": "text/x-python",
   "name": "python",
   "nbconvert_exporter": "python",
   "pygments_lexer": "ipython3",
   "version": "3.6.10"
  }
 },
 "nbformat": 4,
 "nbformat_minor": 4
}
