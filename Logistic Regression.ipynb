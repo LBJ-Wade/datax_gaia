{
 "cells": [
  {
   "cell_type": "markdown",
   "metadata": {},
   "source": [
    "# Intro to Logistic Regression"
   ]
  },
  {
   "cell_type": "code",
   "execution_count": 1,
   "metadata": {},
   "outputs": [],
   "source": [
    "import numpy as np\n",
    "from scipy.optimize import minimize\n",
    "\n",
    "from matplotlib import pyplot as plt"
   ]
  },
  {
   "cell_type": "markdown",
   "metadata": {},
   "source": [
    "# Classification Problems"
   ]
  },
  {
   "cell_type": "markdown",
   "metadata": {},
   "source": [
    "Now let's take a look at classification problems from a machine learning point of view.  Remember, in classification problems, outputs are discrete.  For now let's consider a 2-class (or *binary class*) example:\n",
    "$$\n",
    "y \\in \\{0, 1\\}\n",
    "$$"
   ]
  },
  {
   "cell_type": "markdown",
   "metadata": {},
   "source": [
    "## Logistic regression\n",
    "\n",
    "For the classification problem above, we want a hypothesis (or *predictor*) that obeys:\n",
    "$$\n",
    "0 \\leq h_\\theta(x) \\leq 1\n",
    "$$\n",
    "\n",
    "We'll make use of the *sigmoid function* (a.k.a. *logistic function*):\n",
    "$$\n",
    "g(z) = \\frac{1}{1+e^{-z}}\n",
    "$$"
   ]
  },
  {
   "cell_type": "code",
   "execution_count": 2,
   "metadata": {},
   "outputs": [
    {
     "data": {
      "text/plain": [
       "[<matplotlib.lines.Line2D at 0x7f142eab2b00>]"
      ]
     },
     "execution_count": 2,
     "metadata": {},
     "output_type": "execute_result"
    },
    {
     "data": {
      "image/png": "[encoded data removed]",
      "text/plain": [
       "<Figure size 432x288 with 1 Axes>"
      ]
     },
     "metadata": {
      "needs_background": "light"
     },
     "output_type": "display_data"
    }
   ],
   "source": [
    "from scipy.special import expit\n",
    "\n",
    "z = np.linspace(-10, 10, 100)\n",
    "plt.plot(z, expit(z))"
   ]
  },
  {
   "cell_type": "markdown",
   "metadata": {},
   "source": [
    "Our hypothesis will be:\n",
    "$$\n",
    "h_\\theta(x) = g(\\theta^Tx) = g(z) = \\frac{1}{1+e^{-\\theta^Tx}}\n",
    "$$\n",
    "\n",
    "So we'll need to fit for parameters $\\theta$, which will scale the sigmoid function.\n",
    "\n",
    "Before we get into learning, let's figure out how to interpret results.  Let's say that we've run the algorithm that we haven't made yet on a training set, and we want to get an estimated output $h_\\theta(x)$ at a new input $x$.  Formally, $h_\\theta(x)$ is actually:\n",
    "\n",
    "$$\n",
    "h_\\theta(x) = p(y=1|x;\\theta),\n",
    "$$\n",
    "\n",
    "the probability of $y=1$, given $x$ and trained parameters $\\theta$."
   ]
  },
  {
   "cell_type": "markdown",
   "metadata": {},
   "source": [
    "Our hypothesis will make use of the sigmoid:\n",
    "$$\n",
    "h_\\theta(x) = g(\\theta^Tx) = g(z) = \\frac{1}{1+e^{-\\theta^Tx}}\n",
    "$$\n",
    "\n",
    "The dividing line between the hypothesis preferring one category over the other is $h_\\theta(x)=g(\\theta^Tx)=.5$"
   ]
  },
  {
   "cell_type": "code",
   "execution_count": 3,
   "metadata": {},
   "outputs": [
    {
     "data": {
      "text/plain": [
       "Text(0.5, 0, '$z$')"
      ]
     },
     "execution_count": 3,
     "metadata": {},
     "output_type": "execute_result"
    },
    {
     "data": {
      "image/png": "[encoded data removed]",
      "text/plain": [
       "<Figure size 432x288 with 1 Axes>"
      ]
     },
     "metadata": {
      "needs_background": "light"
     },
     "output_type": "display_data"
    }
   ],
   "source": [
    "z = np.linspace(-10, 10, 100)\n",
    "plt.plot(z, expit(z))\n",
    "plt.axhline(.5, color='k', ls='--')\n",
    "\n",
    "plt.ylabel(r'$g(z)$')\n",
    "plt.xlabel(r'$z$')"
   ]
  },
  {
   "cell_type": "markdown",
   "metadata": {},
   "source": [
    "In other words, when the argument of the sigmoid $z=0$.  So $h_\\theta(x) = g(\\theta^Tx)\\geq0.5$ when $\\theta^Tx \\geq 0$, which definte our *decision boundary*.\n",
    "\n",
    "Now let's consider\n",
    "$$\n",
    "h_\\theta(x) = g(\\theta_0 + \\theta_1 x_1 + \\theta_2 x_2)\n",
    "$$\n",
    "\n",
    "This defines our decision boundary, and we predict $y=1$ if\n",
    "$$\n",
    "\\theta_0 + \\theta_1 x_1 + \\theta_2 x_2 \\geq 0 \\\\\n",
    "\\theta_1 x_1 + \\theta_2 x_2 \\geq -\\theta_0\n",
    "$$\n",
    "\n",
    "So if, say $\\theta_0 = -5$, $\\theta_1 = 1$, and $\\theta_2 = 1$, then we have\n",
    "$$\n",
    "x_1 + x_2 \\geq 5\n",
    "$$\n",
    "\n",
    "So we have a line in $x_1$—$x_2$ space that divides the $y=0$ and $y=1$ regions."
   ]
  },
  {
   "cell_type": "markdown",
   "metadata": {},
   "source": [
    "## Non-linear decision boundaries"
   ]
  },
  {
   "cell_type": "markdown",
   "metadata": {},
   "source": [
    "Just like we could extend the idea of linear regression to polynomial regression, we aren't confined to linear decision boundaries with logistic regression.\n",
    "\n",
    "Consider the hypothesis:\n",
    "$$\n",
    "h_\\theta(x) = g(\\theta_0 + \\theta_1 x_1 + \\theta_2 x_2 + \\theta_3 x_1^2 + \\theta_4 x_2^2)\n",
    "$$\n",
    "\n",
    "Let's say $\\theta_0 = -1$, $\\theta_1 = 0$, $\\theta_2 = 0$, $\\theta_3 = 1$, and $\\theta_4 = 1$.  Then we will predict that $y=1$ if:\n",
    "$$\n",
    "-1 + x_1^2 + x_2^2 \\geq 0\n",
    "$$\n",
    "\n",
    "Giving us a circular decision boundary.  We can go to even higher-order polynomials, allowing a very wide range of shapes for our decision boundary."
   ]
  },
  {
   "cell_type": "markdown",
   "metadata": {},
   "source": [
    "## Cost function"
   ]
  },
  {
   "cell_type": "markdown",
   "metadata": {},
   "source": [
    "If we try to use the sigmoid function with our mean squared error cost function, $J(\\theta)$ will have lots of local maxima and make minimization very difficult.  First lets modify our notation a bit for cost functions to be more flexible going forward.\n",
    "\n",
    "Recall our mean squared error cost function\n",
    "$$\n",
    "J(\\theta) = \\frac{1}{m}\\sum_{i=1}^m \\frac{1}{2} (h_\\theta(x^{(i)}) - y^{(i)})^2\n",
    "$$\n",
    "\n",
    "We'll define the term being summed as $\\mathrm{Cost}$, and in general this term will be a function of $h_\\theta(x^{(i)})$ and $y^{(i)}$ (we'll drop the superscripts for brevity).  So for the case of the mean squared error:\n",
    "$$\n",
    "\\mathrm{Cost}(h_\\theta(x), y) = (h_\\theta(x) - y)^2\n",
    "$$\n",
    "\n",
    "Now let's consider the following cost function:\n",
    "$$\n",
    "\\mathrm{Cost}(h_\\theta(x), y) = \\begin{cases} \n",
    "      -\\log(h_\\theta(x)) ~~~~ & \\mathrm{if~} y=1 \\\\\n",
    "      -\\log(1 - h_\\theta(x)) ~~~~ & \\mathrm{if~} y=0 \\\\\n",
    "   \\end{cases}\n",
    "$$"
   ]
  },
  {
   "cell_type": "code",
   "execution_count": 4,
   "metadata": {},
   "outputs": [],
   "source": [
    "def cost(h, y):\n",
    "    if y == 1:\n",
    "        return -np.log(h)\n",
    "    else:\n",
    "        return -np.log(1 - h)"
   ]
  },
  {
   "cell_type": "code",
   "execution_count": 5,
   "metadata": {},
   "outputs": [
    {
     "data": {
      "text/plain": [
       "<matplotlib.legend.Legend at 0x7f142e8ce390>"
      ]
     },
     "execution_count": 5,
     "metadata": {},
     "output_type": "execute_result"
    },
    {
     "data": {
      "image/png": "[encoded data removed]",
      "text/plain": [
       "<Figure size 432x288 with 1 Axes>"
      ]
     },
     "metadata": {
      "needs_background": "light"
     },
     "output_type": "display_data"
    }
   ],
   "source": [
    "hs = np.linspace(0.001, 1, 100, endpoint=False)\n",
    "\n",
    "plt.plot(hs, cost(hs, 1), label='$y=1$')\n",
    "plt.plot(hs, cost(hs, 0), label='$y=0$')\n",
    "\n",
    "plt.ylabel(\"Cost\")\n",
    "plt.xlabel(r\"$h_\\theta(x)$\")\n",
    "plt.legend()"
   ]
  },
  {
   "cell_type": "markdown",
   "metadata": {},
   "source": [
    "This can be simplified to:\n",
    "$$\n",
    "\\mathrm{Cost}(h_\\theta(x), y) = -y \\log(h_\\theta(x)) - (1 - y)\\log(1 - h_\\theta(x))\n",
    "$$\n",
    "\n",
    "So our new $J(\\theta)$ takes the form\n",
    "$$\n",
    "J(\\theta) = -\\frac{1}{m}\\left[\\sum_{i=1}^m y^{(i)}\\log h_\\theta(x^{(i)}) + (1 - y^{(i)})\\log (1 - h_\\theta(x^{(i)})\\right]\n",
    "$$\n",
    "\n",
    "As usual, we are looking to find the fit parameters $\\hat{\\theta}$ that minimize $J(\\theta)$, and use our hypothesis\n",
    "$$\n",
    "h_\\hat{\\theta}(x) = \\frac{1}{1 + e^{-\\theta^Tx}},\n",
    "$$\n",
    "to predict results for new $x$. Which, again, is interpretted as the probability that $y=1$, $p(y=1|x;\\hat{\\theta})$."
   ]
  },
  {
   "cell_type": "markdown",
   "metadata": {},
   "source": [
    "We can again minimize $J(\\theta)$ using gradient decent:\n",
    "\n",
    "$$\n",
    "\\mathrm{repeat~until~convergence} \\{\\\\\n",
    "\\theta_j = \\theta_j - \\alpha \\frac{\\partial}{\\partial\\theta_j}J(\\theta_0, \\theta_1) \\mathrm{~~~~for~}j=0\\mathrm{~and~}j=1\n",
    "\\\\\\}\n",
    "$$\n",
    "\n",
    "A little calculus leads to:\n",
    "$$\n",
    "\\frac{\\partial}{\\partial \\theta} = \\frac{1}{m}\\sum_{i=1}^m(h_\\theta(x^{(i)}) - y^{(i)})x_j^{(i)}\n",
    "$$\n",
    "\n",
    "which looks identical to the case for linear regression, but remember our $h_\\theta(x)$ is different now."
   ]
  },
  {
   "cell_type": "markdown",
   "metadata": {},
   "source": [
    "## Vectorized form"
   ]
  },
  {
   "cell_type": "markdown",
   "metadata": {},
   "source": [
    "Our new $J(\\theta)$:\n",
    "$$\n",
    "J(\\theta) = -\\frac{1}{m}\\left[\\sum_{i=1}^m y^{(i)}\\log h_\\theta(x^{(i)}) + (1 - y^{(i)})\\log (1 - h_\\theta(x^{(i)})\\right]\n",
    "$$\n",
    "\n",
    "is equivalent to the following in vector form:\n",
    "$$\n",
    "J(\\theta) = -\\frac{1}{m}(y^T \\log(h) + (1 - y)^T\\log(1 - h))\n",
    "$$\n",
    "\n",
    "and our hypothesis in vector form:\n",
    "$$\n",
    "h = g(X\\theta)\n",
    "$$\n",
    "\n",
    "Implying the following form for the gradient decent algorithm\n",
    "$$\n",
    "\\mathrm{repeat~until~convergence} \\{\\\\\n",
    "\\theta := \\theta - \\frac{\\alpha}{m} X^T(g(X\\theta)-\\vec{y}) \\mathrm{~~~~for~}j=0\\mathrm{~and~}j=1\n",
    "\\\\\\}$$\n",
    "\n",
    "But we're getting to problems that are too complex for our simple gradient decent approach, so we'll start leaning more heavily on more advanced algorithms (e.g., conjugate gradient, BFGS, L-BFGS, powell) for optimization.  We won't go into the details of how these work, so we'll make use of existing implementations."
   ]
  },
  {
   "cell_type": "code",
   "execution_count": 6,
   "metadata": {},
   "outputs": [],
   "source": [
    "def cost(h, y):\n",
    "    if y == 1:\n",
    "        return -np.log(h)\n",
    "    else:\n",
    "        return -np.log(1 - h)"
   ]
  },
  {
   "cell_type": "markdown",
   "metadata": {},
   "source": [
    "# Linear decision boundary example"
   ]
  },
  {
   "cell_type": "markdown",
   "metadata": {},
   "source": [
    "Let's download some two-feature data to work with.  We'll look at student admittance based on their performance on two exams. "
   ]
  },
  {
   "cell_type": "code",
   "execution_count": 7,
   "metadata": {},
   "outputs": [
    {
     "name": "stdout",
     "output_type": "stream",
     "text": [
      "--2019-04-23 05:49:08--  https://raw.githubusercontent.com/JWarmenhoven/Coursera-Machine-Learning/master/notebooks/data/ex2data1.txt\n",
      "Resolving raw.githubusercontent.com (raw.githubusercontent.com)... 151.101.188.133\n",
      "Connecting to raw.githubusercontent.com (raw.githubusercontent.com)|151.101.188.133|:443... connected.\n",
      "HTTP request sent, awaiting response... 200 OK\n",
      "Length: 3775 (3.7K) [text/plain]\n",
      "Saving to: ‘ex2data1.txt.1’\n",
      "\n",
      "ex2data1.txt.1      100%[===================>]   3.69K  --.-KB/s    in 0.001s  \n",
      "\n",
      "2019-04-23 05:49:08 (6.95 MB/s) - ‘ex2data1.txt.1’ saved [3775/3775]\n",
      "\n"
     ]
    }
   ],
   "source": [
    "!wget https://raw.githubusercontent.com/JWarmenhoven/Coursera-Machine-Learning/master/notebooks/data/ex2data1.txt"
   ]
  },
  {
   "cell_type": "code",
   "execution_count": 8,
   "metadata": {},
   "outputs": [
    {
     "name": "stdout",
     "output_type": "stream",
     "text": [
      "34.62365962451697,78.0246928153624,0\n",
      "30.28671076822607,43.89499752400101,0\n",
      "35.84740876993872,72.90219802708364,0\n",
      "60.18259938620976,86.30855209546826,1\n",
      "79.0327360507101,75.3443764369103,1\n"
     ]
    }
   ],
   "source": [
    "!head -n5 ex2data1.txt"
   ]
  },
  {
   "cell_type": "code",
   "execution_count": 9,
   "metadata": {},
   "outputs": [],
   "source": [
    "data = np.loadtxt('ex2data1.txt', delimiter=',')"
   ]
  },
  {
   "cell_type": "markdown",
   "metadata": {},
   "source": [
    "Let's build your feature matrix $X$ and result training vector $y$."
   ]
  },
  {
   "cell_type": "code",
   "execution_count": 10,
   "metadata": {},
   "outputs": [],
   "source": [
    "X = np.column_stack((np.ones(len(data)), data[:, :2]))\n",
    "y = data[:, 2].reshape(-1, 1)"
   ]
  },
  {
   "cell_type": "code",
   "execution_count": 11,
   "metadata": {},
   "outputs": [],
   "source": [
    "def plot_data(data, xlabel='Exam 1 score', ylabel='Exam 2 score', cat0label='rejected', cat1label='admitted'):\n",
    "    cat0 = data[:, 2] == 0\n",
    "    cat1 = data[:, 2] == 1\n",
    "\n",
    "    plt.scatter(data[cat0][:, 0], data[cat0][:, 1], marker='o', label=cat0label)\n",
    "    plt.scatter(data[cat1][:, 0], data[cat1][:, 1], marker='+', label=cat1label)\n",
    "\n",
    "    plt.xlabel(xlabel)\n",
    "    plt.ylabel(ylabel)"
   ]
  },
  {
   "cell_type": "code",
   "execution_count": 12,
   "metadata": {},
   "outputs": [
    {
     "data": {
      "image/png": "[encoded data removed]",
      "text/plain": [
       "<Figure size 432x288 with 1 Axes>"
      ]
     },
     "metadata": {
      "needs_background": "light"
     },
     "output_type": "display_data"
    }
   ],
   "source": [
    "plot_data(data)\n",
    "plt.legend(framealpha=0.5);"
   ]
  },
  {
   "cell_type": "markdown",
   "metadata": {},
   "source": [
    "Recall our vectorized form of $J(\\theta)$:\n",
    "$$\n",
    "J(\\theta) = -\\frac{1}{m}(y^T \\log(h) + (1 - y)^T\\log(1 - h))\n",
    "$$\n",
    "\n",
    "and sigmoid hypothesis:\n",
    "$$\n",
    "h_\\theta(x) = g(X\\theta)\n",
    "$$\n",
    "\n",
    "Let's define our cost function $J(\\theta)$ and it's gradient."
   ]
  },
  {
   "cell_type": "code",
   "execution_count": 13,
   "metadata": {},
   "outputs": [],
   "source": [
    "def cost(theta, X=X, y=y):\n",
    "    m = y.size\n",
    "    h = expit(X.dot(theta))\n",
    "    \n",
    "    J = -1/m * (y.T.dot(np.log(h)) + (1 - y).T.dot(np.log(1 - h)))\n",
    "    J = J[0]\n",
    "    \n",
    "    if np.isnan(J):\n",
    "        return np.inf\n",
    "    \n",
    "    return J"
   ]
  },
  {
   "cell_type": "markdown",
   "metadata": {},
   "source": [
    "Also recall our gradient\n",
    "$$\n",
    "\\frac{\\partial}{\\partial \\theta} = \\frac{1}{m}\\sum_{i=1}^m(h_\\theta(x^{(i)}) - y^{(i)})x_j^{(i)}\n",
    "$$\n",
    "\n",
    "or, in vector form\n",
    "$$\n",
    "\\frac{\\partial J(\\theta)}{\\partial \\theta_j} = \\frac{1}{m} X^T(g(X\\theta) - y)\n",
    "$$"
   ]
  },
  {
   "cell_type": "markdown",
   "metadata": {},
   "source": [
    "**note**: `scipy`'s `minimize` function expects function arguments to be row vectors, so we're going to need to specify our starting point in row-vector form, and make sure the gradient returns a row-vector result."
   ]
  },
  {
   "cell_type": "code",
   "execution_count": 14,
   "metadata": {},
   "outputs": [],
   "source": [
    "def cost_gradient(theta, X=X, y=y):\n",
    "    m = y.size\n",
    "    h = expit(X.dot(theta.reshape(-1, 1)))\n",
    "    \n",
    "    gradient = 1/m * X.T.dot(h - y)\n",
    "    \n",
    "    return gradient.flatten()"
   ]
  },
  {
   "cell_type": "code",
   "execution_count": 15,
   "metadata": {},
   "outputs": [
    {
     "name": "stdout",
     "output_type": "stream",
     "text": [
      "starting theta: \n",
      " [0. 0. 0.]\n",
      "Cost: \n",
      " 0.693147180559945\n",
      "Grad: \n",
      " [ -0.1        -12.00921659 -11.26284221]\n"
     ]
    }
   ],
   "source": [
    "theta0 = np.zeros(X.shape[1])\n",
    "\n",
    "c = cost(theta0, X, y)\n",
    "c_grad = cost_gradient(theta0, X, y)\n",
    "print('starting theta: \\n', theta0)\n",
    "print('Cost: \\n', c)\n",
    "print('Grad: \\n', c_grad)"
   ]
  },
  {
   "cell_type": "markdown",
   "metadata": {},
   "source": [
    "Let's minimize this thing."
   ]
  },
  {
   "cell_type": "code",
   "execution_count": 16,
   "metadata": {},
   "outputs": [
    {
     "name": "stderr",
     "output_type": "stream",
     "text": [
      "/opt/conda/lib/python3.7/site-packages/ipykernel_launcher.py:5: RuntimeWarning: divide by zero encountered in log\n",
      "  \"\"\"\n",
      "/opt/conda/lib/python3.7/site-packages/ipykernel_launcher.py:5: RuntimeWarning: divide by zero encountered in log\n",
      "  \"\"\"\n"
     ]
    },
    {
     "data": {
      "text/plain": [
       "      fun: 0.2034977015895099\n",
       " hess_inv: array([[ 2.85339493e+03, -2.32908823e+01, -2.27416470e+01],\n",
       "       [-2.32908823e+01,  2.04489131e-01,  1.72969525e-01],\n",
       "       [-2.27416470e+01,  1.72969525e-01,  1.96170322e-01]])\n",
       "      jac: array([-2.68557637e-09,  4.36433475e-07, -1.39671758e-06])\n",
       "  message: 'Optimization terminated successfully.'\n",
       "     nfev: 34\n",
       "      nit: 25\n",
       "     njev: 30\n",
       "   status: 0\n",
       "  success: True\n",
       "        x: array([-25.16131634,   0.2062316 ,   0.20147143])"
      ]
     },
     "execution_count": 16,
     "metadata": {},
     "output_type": "execute_result"
    }
   ],
   "source": [
    "res = minimize(cost, theta0, method=None, jac=cost_gradient, options={'maxiter':400})\n",
    "\n",
    "theta_opt = res.x.reshape((-1, 1))\n",
    "\n",
    "res"
   ]
  },
  {
   "cell_type": "markdown",
   "metadata": {},
   "source": [
    "With our model now fit, we can ask what the probability is for a student's acceptance if they scored a 45 on Exam 1, and 85 on Exam 2. "
   ]
  },
  {
   "cell_type": "code",
   "execution_count": 17,
   "metadata": {},
   "outputs": [
    {
     "name": "stdout",
     "output_type": "stream",
     "text": [
      "0.7762903249331021\n"
     ]
    }
   ],
   "source": [
    "def h(X, theta=theta_opt):\n",
    "    return expit(X.dot(theta))\n",
    "\n",
    "test_point = np.array([1, 45, 85])\n",
    "\n",
    "print(\"{}\".format(h(test_point)[0]))"
   ]
  },
  {
   "cell_type": "markdown",
   "metadata": {},
   "source": [
    "## Decision Boundary"
   ]
  },
  {
   "cell_type": "markdown",
   "metadata": {},
   "source": [
    "Let's now declare a decesion boundary, and say that we predict $y=1$ if $h_\\theta(x) \\geq 0.5$."
   ]
  },
  {
   "cell_type": "code",
   "execution_count": 18,
   "metadata": {},
   "outputs": [],
   "source": [
    "def predict(X, theta=theta_opt, threshold=0.5):\n",
    "    p = h(X, theta) >= threshold\n",
    "    return p.astype('int')"
   ]
  },
  {
   "cell_type": "markdown",
   "metadata": {},
   "source": [
    "Since our data set is classified, we can assess our training accuracy by seeing how well the model predicts the results from the training data."
   ]
  },
  {
   "cell_type": "code",
   "execution_count": 19,
   "metadata": {},
   "outputs": [
    {
     "name": "stdout",
     "output_type": "stream",
     "text": [
      "training accuracy: 89.0%\n"
     ]
    }
   ],
   "source": [
    "p = predict(X)\n",
    "\n",
    "accuracy = 100 * np.count_nonzero(p == y)/p.size\n",
    "print(\"training accuracy: {}%\".format(accuracy))"
   ]
  },
  {
   "cell_type": "markdown",
   "metadata": {},
   "source": [
    "Not bad.  Let's see where the decision boundary falls with respect to the data."
   ]
  },
  {
   "cell_type": "code",
   "execution_count": 20,
   "metadata": {},
   "outputs": [
    {
     "data": {
      "image/png": "[encoded data removed]",
      "text/plain": [
       "<Figure size 432x288 with 1 Axes>"
      ]
     },
     "metadata": {
      "needs_background": "light"
     },
     "output_type": "display_data"
    }
   ],
   "source": [
    "plot_data(data)\n",
    "\n",
    "x1low, x1high = plt.xlim()\n",
    "x2low, x2high = plt.ylim()\n",
    "xx1, xx2 = np.meshgrid(np.linspace(x1low, x1high, 100), np.linspace(x2low, x2high, 100))\n",
    "\n",
    "testX = np.column_stack([np.ones(xx1.ravel().shape[0]), xx1.ravel(), xx2.ravel()])\n",
    "hh = h(testX).reshape(xx1.shape)\n",
    "\n",
    "plt.contour(xx1, xx2, hh, [0.5])\n",
    "plt.scatter(test_point[1], test_point[2], color='r', marker='v', label='Test Point')\n",
    "plt.legend(framealpha=0.5);"
   ]
  },
  {
   "cell_type": "markdown",
   "metadata": {},
   "source": [
    "Now lets consider a different hypothesis"
   ]
  },
  {
   "cell_type": "markdown",
   "metadata": {},
   "source": [
    "# Polynomial decision boundary example"
   ]
  },
  {
   "cell_type": "markdown",
   "metadata": {},
   "source": [
    "For this example we'll download some new two-feature training data."
   ]
  },
  {
   "cell_type": "code",
   "execution_count": 21,
   "metadata": {},
   "outputs": [
    {
     "name": "stdout",
     "output_type": "stream",
     "text": [
      "--2019-04-23 05:49:17--  https://raw.githubusercontent.com/JWarmenhoven/Coursera-Machine-Learning/master/notebooks/data/ex2data2.txt\n",
      "Resolving raw.githubusercontent.com (raw.githubusercontent.com)... 151.101.188.133\n",
      "Connecting to raw.githubusercontent.com (raw.githubusercontent.com)|151.101.188.133|:443... connected.\n",
      "HTTP request sent, awaiting response... 200 OK\n",
      "Length: 2233 (2.2K) [text/plain]\n",
      "Saving to: ‘ex2data2.txt.1’\n",
      "\n",
      "ex2data2.txt.1      100%[===================>]   2.18K  --.-KB/s    in 0.001s  \n",
      "\n",
      "2019-04-23 05:49:17 (4.02 MB/s) - ‘ex2data2.txt.1’ saved [2233/2233]\n",
      "\n"
     ]
    }
   ],
   "source": [
    "!wget https://raw.githubusercontent.com/JWarmenhoven/Coursera-Machine-Learning/master/notebooks/data/ex2data2.txt"
   ]
  },
  {
   "cell_type": "code",
   "execution_count": 22,
   "metadata": {},
   "outputs": [
    {
     "name": "stdout",
     "output_type": "stream",
     "text": [
      "0.051267,0.69956,1\n",
      "-0.092742,0.68494,1\n",
      "-0.21371,0.69225,1\n",
      "-0.375,0.50219,1\n",
      "-0.51325,0.46564,1\n"
     ]
    }
   ],
   "source": [
    "!head -n5 ex2data2.txt"
   ]
  },
  {
   "cell_type": "code",
   "execution_count": 23,
   "metadata": {},
   "outputs": [
    {
     "name": "stdout",
     "output_type": "stream",
     "text": [
      "(118, 3)\n"
     ]
    },
    {
     "data": {
      "text/plain": [
       "<matplotlib.legend.Legend at 0x7f142e17f6a0>"
      ]
     },
     "execution_count": 23,
     "metadata": {},
     "output_type": "execute_result"
    },
    {
     "data": {
      "image/png": "[encoded data removed]",
      "text/plain": [
       "<Figure size 432x288 with 1 Axes>"
      ]
     },
     "metadata": {
      "needs_background": "light"
     },
     "output_type": "display_data"
    }
   ],
   "source": [
    "data2 = np.loadtxt('ex2data2.txt', delimiter=',')\n",
    "print(data2.shape)\n",
    "\n",
    "plot_data(data2, xlabel='Microchip Test 1', ylabel='Microchip Test 2', cat0label='y = 0', cat1label='y = 1')\n",
    "plt.legend()"
   ]
  },
  {
   "cell_type": "code",
   "execution_count": 24,
   "metadata": {},
   "outputs": [],
   "source": [
    "from sklearn.preprocessing import PolynomialFeatures"
   ]
  },
  {
   "cell_type": "code",
   "execution_count": 25,
   "metadata": {},
   "outputs": [],
   "source": [
    "X2 = data2[:, :2]\n",
    "y2 = data2[:, 2].reshape((-1, 1))"
   ]
  },
  {
   "cell_type": "code",
   "execution_count": 26,
   "metadata": {},
   "outputs": [
    {
     "data": {
      "text/plain": [
       "(118, 6)"
      ]
     },
     "execution_count": 26,
     "metadata": {},
     "output_type": "execute_result"
    }
   ],
   "source": [
    "poly = PolynomialFeatures(2)\n",
    "XX = poly.fit_transform(X2)\n",
    "XX.shape # 1 x1 x2 x1^2 x1x2 x2^2"
   ]
  },
  {
   "cell_type": "code",
   "execution_count": 27,
   "metadata": {},
   "outputs": [],
   "source": [
    "cost2 = lambda theta: cost(theta, X=XX, y=y2)\n",
    "cost2_gradient = lambda theta: cost_gradient(theta, X=XX, y=y2)"
   ]
  },
  {
   "cell_type": "code",
   "execution_count": 28,
   "metadata": {},
   "outputs": [
    {
     "data": {
      "text/plain": [
       "0.693147180559945"
      ]
     },
     "execution_count": 28,
     "metadata": {},
     "output_type": "execute_result"
    }
   ],
   "source": [
    "theta0 = np.zeros(XX.shape[1])\n",
    "cost2(theta0)"
   ]
  },
  {
   "cell_type": "code",
   "execution_count": 29,
   "metadata": {},
   "outputs": [
    {
     "data": {
      "text/plain": [
       "      fun: 0.34810531348342155\n",
       " hess_inv: array([[  86.09462492,   45.69750127,   57.71347167, -169.8683929 ,\n",
       "         -98.09068439, -188.51088515],\n",
       "       [  45.69750127,   68.39622247,   48.15408551, -116.01710165,\n",
       "        -104.73160783, -106.68145904],\n",
       "       [  57.71347167,   48.15408551,   80.49330754, -115.19141089,\n",
       "        -110.57327368, -168.0849988 ],\n",
       "       [-169.8683929 , -116.01710165, -115.19141089,  456.15235588,\n",
       "         262.19279895,  341.21498664],\n",
       "       [ -98.09068439, -104.73160783, -110.57327368,  262.19279895,\n",
       "         396.58582936,  279.45403928],\n",
       "       [-188.51088515, -106.68145904, -168.0849988 ,  341.21498664,\n",
       "         279.45403928,  517.16408891]])\n",
       "      jac: array([-5.99475933e-06, -2.37396741e-07, -9.70106272e-07, -2.18005144e-06,\n",
       "       -8.04484807e-07, -1.26264365e-06])\n",
       "  message: 'Optimization terminated successfully.'\n",
       "     nfev: 44\n",
       "      nit: 42\n",
       "     njev: 44\n",
       "   status: 0\n",
       "  success: True\n",
       "        x: array([  5.16953241,   3.24770461,   4.16640802, -12.02748365,\n",
       "        -7.53190346, -11.82290276])"
      ]
     },
     "execution_count": 29,
     "metadata": {},
     "output_type": "execute_result"
    }
   ],
   "source": [
    "res2 = minimize(cost2, theta0, method=None, jac=cost2_gradient, options={'maxiter':3000})\n",
    "\n",
    "theta_opt2 = res2.x.reshape((-1, 1))\n",
    "res2"
   ]
  },
  {
   "cell_type": "code",
   "execution_count": 30,
   "metadata": {},
   "outputs": [
    {
     "name": "stdout",
     "output_type": "stream",
     "text": [
      "training accuracy: 85.59322033898304%\n"
     ]
    }
   ],
   "source": [
    "p = predict(XX, theta_opt2)\n",
    "\n",
    "accuracy = 100 * np.count_nonzero(p == y2)/p.size\n",
    "print(\"training accuracy: {}%\".format(accuracy))"
   ]
  },
  {
   "cell_type": "code",
   "execution_count": 31,
   "metadata": {},
   "outputs": [
    {
     "data": {
      "image/png": "[encoded data removed]",
      "text/plain": [
       "<Figure size 432x288 with 1 Axes>"
      ]
     },
     "metadata": {
      "needs_background": "light"
     },
     "output_type": "display_data"
    }
   ],
   "source": [
    "plot_data(data2, xlabel='Microchip Test 1', ylabel='Microchip Test 2', cat0label='y = 0', cat1label='y = 1')\n",
    "\n",
    "x1low, x1high = plt.xlim()\n",
    "x2low, x2high = plt.ylim()\n",
    "xx1, xx2 = np.meshgrid(np.linspace(x1low, x1high, 100), np.linspace(x2low, x2high, 100))\n",
    "\n",
    "testX = np.column_stack([xx1.ravel(), xx2.ravel()])\n",
    "\n",
    "hh = h(poly.fit_transform(testX), theta_opt2).reshape(xx1.shape)\n",
    "\n",
    "plt.contour(xx1, xx2, hh, [0.5])\n",
    "plt.legend(framealpha=0.5);"
   ]
  },
  {
   "cell_type": "code",
   "execution_count": null,
   "metadata": {},
   "outputs": [],
   "source": []
  },
  {
   "cell_type": "code",
   "execution_count": null,
   "metadata": {},
   "outputs": [],
   "source": []
  }
 ],
 "metadata": {
  "kernelspec": {
   "display_name": "Python 3",
   "language": "python",
   "name": "python3"
  },
  "language_info": {
   "codemirror_mode": {
    "name": "ipython",
    "version": 3
   },
   "file_extension": ".py",
   "mimetype": "text/x-python",
   "name": "python",
   "nbconvert_exporter": "python",
   "pygments_lexer": "ipython3",
   "version": "3.7.4"
  }
 },
 "nbformat": 4,
 "nbformat_minor": 4
}
